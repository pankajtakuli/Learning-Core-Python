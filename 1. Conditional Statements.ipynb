{
 "cells": [
  {
   "cell_type": "markdown",
   "id": "cf3ef914-fc6c-45cd-9217-4ba76fb7309c",
   "metadata": {},
   "source": [
    "### 1.  CONDITIONAL STATEMENTS"
   ]
  },
  {
   "cell_type": "markdown",
   "id": "d099d6c4-df68-446d-ba29-d101fc99a01b",
   "metadata": {},
   "source": [
    "**1. What are Conditional Statements?**"
   ]
  },
  {
   "cell_type": "markdown",
   "id": "6d60d1f7-9862-4cdf-b490-e96b7c4e0355",
   "metadata": {},
   "source": [
    "Conditional statements in Python are used to execute certain blocks of code bsased on specific conditions. These statements help control the flow of program, making it behave differently in differnt situation."
   ]
  },
  {
   "cell_type": "markdown",
   "id": "ac394391-a217-4c44-a723-33f60e226d44",
   "metadata": {},
   "source": [
    "**1.1. if statement: The first Gatekeeper**"
   ]
  },
  {
   "cell_type": "markdown",
   "id": "67eab5bb-f502-46ef-bebc-cc6bd66f80bf",
   "metadata": {},
   "source": [
    "Concept: Execute a block of code only if a specific condition is true."
   ]
  },
  {
   "cell_type": "code",
   "execution_count": null,
   "id": "9088fda7-fead-454f-bed3-5923d3f38811",
   "metadata": {},
   "outputs": [],
   "source": [
    "# Syntax\n",
    "if condition:\n",
    "    # Execute this block if condition id True."
   ]
  },
  {
   "cell_type": "markdown",
   "id": "a0864365-c4d9-476d-8396-79a32b25689e",
   "metadata": {},
   "source": [
    "**Examples**"
   ]
  },
  {
   "cell_type": "code",
   "execution_count": 8,
   "id": "45f1d8e4-3e93-4816-99c3-46435dcd6f51",
   "metadata": {},
   "outputs": [],
   "source": [
    "# Temperature warniing\n",
    "\n",
    "temperature = 25 # Try changing the value of temperature\n",
    "if temperature > 30:\n",
    "    print(\"It's really hot today!\") # Here the message prints only if temperature exceeds 30."
   ]
  },
  {
   "cell_type": "code",
   "execution_count": 9,
   "id": "6ff3ba96-ee3d-42ad-bc21-16cb70eebdf2",
   "metadata": {},
   "outputs": [
    {
     "name": "stdout",
     "output_type": "stream",
     "text": [
      "Positive number!\n"
     ]
    }
   ],
   "source": [
    "# Checking the positive numnber\n",
    "\n",
    "number = 10\n",
    "if number > 0:\n",
    "    print(\"Positive number!\")"
   ]
  },
  {
   "cell_type": "code",
   "execution_count": 11,
   "id": "e58a550b-c9fe-4566-834d-ccadac2653e1",
   "metadata": {},
   "outputs": [
    {
     "name": "stdout",
     "output_type": "stream",
     "text": [
      "You're eligible to vote.\n"
     ]
    }
   ],
   "source": [
    "# Verfying a minimum age\n",
    "\n",
    "age = 22\n",
    "if age >= 18:\n",
    "    print(\"You're eligible to vote.\")"
   ]
  },
  {
   "cell_type": "code",
   "execution_count": 15,
   "id": "3dc10f75-cef3-4741-869a-a588a9ca9789",
   "metadata": {},
   "outputs": [
    {
     "name": "stdout",
     "output_type": "stream",
     "text": [
      "That's a long name!\n"
     ]
    }
   ],
   "source": [
    "# String length check\n",
    "\n",
    "name = \"Python\"\n",
    "if len(name) > 5:\n",
    "    print(\"That's a long name!\")"
   ]
  },
  {
   "cell_type": "code",
   "execution_count": 2,
   "id": "c2d614d4-e6f2-4d22-bd6a-6fc024ee7449",
   "metadata": {},
   "outputs": [
    {
     "name": "stdout",
     "output_type": "stream",
     "text": [
      "Password lenght is okay!\n"
     ]
    }
   ],
   "source": [
    "#  Password strngth check based on its length.\n",
    "\n",
    "password  = \"mysecurepass\"\n",
    "if len(password) >= 8:\n",
    "    print(\"Password lenght is okay!\")"
   ]
  },
  {
   "cell_type": "code",
   "execution_count": 6,
   "id": "4819de7c-b36f-4c39-8afa-465a1002d3ea",
   "metadata": {},
   "outputs": [
    {
     "name": "stdout",
     "output_type": "stream",
     "text": [
      "Item is in stock!\n"
     ]
    }
   ],
   "source": [
    "# Check stock availability\n",
    "\n",
    "stock = 6\n",
    "if stock > 0:\n",
    "    print(\"Item is in stock!\")"
   ]
  },
  {
   "cell_type": "code",
   "execution_count": null,
   "id": "3a00eeec-26c8-40f3-87de-33c0be34966b",
   "metadata": {},
   "outputs": [],
   "source": []
  },
  {
   "cell_type": "markdown",
   "id": "fa4a635d-f433-4801-a9a6-2f46ae021944",
   "metadata": {},
   "source": [
    "**EXERCISE**"
   ]
  },
  {
   "cell_type": "code",
   "execution_count": 8,
   "id": "e77c97ee-891e-404b-9123-729fdccfb842",
   "metadata": {},
   "outputs": [
    {
     "name": "stdin",
     "output_type": "stream",
     "text": [
      "Enter the age : 18\n"
     ]
    },
    {
     "name": "stdout",
     "output_type": "stream",
     "text": [
      "Eligible for a driving license.\n"
     ]
    }
   ],
   "source": [
    "# 1.Eligible for a driving license: Ask the user for their age. \n",
    "#If the age is 18 or more , print \"Eligible for a driving license.\" \n",
    "# Hint: age = int(input(\"Enter the age:\"))\n",
    "\n",
    "age = int(input(\"Enter the age :\"))\n",
    "if age >= 18:\n",
    "    print(\"Eligible for a driving license.\")"
   ]
  },
  {
   "cell_type": "code",
   "execution_count": 11,
   "id": "44c464ca-4784-4768-80d1-000e3ec0e789",
   "metadata": {},
   "outputs": [
    {
     "name": "stdin",
     "output_type": "stream",
     "text": [
      "Enter the number: 50\n"
     ]
    },
    {
     "name": "stdout",
     "output_type": "stream",
     "text": [
      "Multiple of 5!\n"
     ]
    }
   ],
   "source": [
    "# 2. Mulitple of 5: Promt the user for an integer. \n",
    "# If it is divisible by 5, print \"Multiple of 5.\"\n",
    "\n",
    "num = int(input(\"Enter the number:\"))\n",
    "if num % 5 == 0:\n",
    "    print(\"Multiple of 5!\")"
   ]
  },
  {
   "cell_type": "code",
   "execution_count": 27,
   "id": "f5f3e084-bccf-4881-b46a-dc2c02bcc826",
   "metadata": {},
   "outputs": [
    {
     "name": "stdin",
     "output_type": "stream",
     "text": [
      "Enter the character: i\n"
     ]
    },
    {
     "name": "stdout",
     "output_type": "stream",
     "text": [
      "Vowel!\n"
     ]
    }
   ],
   "source": [
    "# 3. Character is a Vowel: Take a single character input.\n",
    "#If it is one of a,e,i,o,u(in lowercase), print \"Vowel!\"\n",
    "\n",
    "ch = str(input(\"Enter the character:\"))\n",
    "if ch in {\"a\" , \"e\" , \"i\" , \"o\" , \"u\"}:\n",
    "    print(\"Vowel!\")"
   ]
  },
  {
   "cell_type": "code",
   "execution_count": 28,
   "id": "cb7f3bcd-588f-4758-9908-0019cce85e0f",
   "metadata": {},
   "outputs": [
    {
     "name": "stdin",
     "output_type": "stream",
     "text": [
      "Enter the word: sdrfytgsrth\n"
     ]
    },
    {
     "name": "stdout",
     "output_type": "stream",
     "text": [
      "That's a long word!\n"
     ]
    }
   ],
   "source": [
    "# 4. Long Word Alert: Ask for a word from the user.\n",
    "# If the word has more than 8 characters, print \"That's a long word!\"\n",
    "\n",
    "word = str(input(\"Enter the word:\"))\n",
    "if len(word) > 8:\n",
    "    print(\"That's a long word!\")"
   ]
  },
  {
   "cell_type": "code",
   "execution_count": 5,
   "id": "d7ca8e6b-1e66-47de-93a7-5707a7aab3a1",
   "metadata": {},
   "outputs": [
    {
     "name": "stdin",
     "output_type": "stream",
     "text": [
      "Enter the day: Saturday\n"
     ]
    },
    {
     "name": "stdout",
     "output_type": "stream",
     "text": [
      "Weekend!\n"
     ]
    }
   ],
   "source": [
    "# 5. Weekend Dectector: Take the day name from the user(e.g, \"Monday\", \"Saturday\")\n",
    "# If it is \"Satuday\" or \"Sunday\", print \"Weekend!\"\n",
    "\n",
    "day = str(input(\"Enter the day:\"))\n",
    "if day == \"Saturday\" and \"Sunday\":\n",
    "    print(\"Weekend!\")\n",
    "    "
   ]
  },
  {
   "cell_type": "code",
   "execution_count": 29,
   "id": "7beac27a-7095-4b35-a06e-f09e371a9186",
   "metadata": {},
   "outputs": [
    {
     "name": "stdin",
     "output_type": "stream",
     "text": [
      "Enter the day: Saturday\n"
     ]
    },
    {
     "name": "stdout",
     "output_type": "stream",
     "text": [
      "Weekend!\n"
     ]
    }
   ],
   "source": [
    "day = str(input(\"Enter the day:\"))\n",
    "if day in {\"Saturday\" , \"Sunday\"}:\n",
    "    print(\"Weekend!\")\n",
    "    "
   ]
  },
  {
   "cell_type": "code",
   "execution_count": 13,
   "id": "5ccaf0c1-3037-4394-b3be-6a44d1842372",
   "metadata": {},
   "outputs": [
    {
     "name": "stdin",
     "output_type": "stream",
     "text": [
      "Enter the score percentage: 75\n",
      "Enter the averge score: 50\n"
     ]
    },
    {
     "name": "stdout",
     "output_type": "stream",
     "text": [
      "Eliigible for exam!\n"
     ]
    }
   ],
   "source": [
    "# 6. Exam Eligibility: Ask for attendence percentage and average assignment score.\n",
    "# If attendence is at least 75% and score is at least 50, print \"Eligible for exam.\"\n",
    "\n",
    "score_percentage = int(input(\"Enter the score percentage:\"))\n",
    "avg_score = int(input(\"Enter the averge score:\"))\n",
    "if score_percentage >= 75 and avg_score >= 50:\n",
    "    print(\"Eliigible for exam!\")"
   ]
  },
  {
   "cell_type": "code",
   "execution_count": 10,
   "id": "33283d42-fa81-4db1-b480-7aa3f04b9f44",
   "metadata": {},
   "outputs": [
    {
     "name": "stdin",
     "output_type": "stream",
     "text": [
      "Enter the bill amount: 10002\n",
      "Member: yes\n"
     ]
    },
    {
     "name": "stdout",
     "output_type": "stream",
     "text": [
      "Discount Applied\n"
     ]
    }
   ],
   "source": [
    "# 7. Discount Eligibility: Ask for total bill amount and if they are a member (yes/no).\n",
    "# If the bill if above 1000 or they are a member , print \"Discount applied\"\n",
    "\n",
    "t_bill = int(input(\"Enter the bill amount:\"))\n",
    "mem = str(input(\"Member:\"))\n",
    "if  t_bill > 1000 and mem == \"yes\":\n",
    "    print(\"Discount Applied\")"
   ]
  },
  {
   "cell_type": "code",
   "execution_count": 23,
   "id": "0705e169-8c35-4f14-a101-d4fafbe74609",
   "metadata": {},
   "outputs": [
    {
     "name": "stdin",
     "output_type": "stream",
     "text": [
      "Enter the password: sdafhhig@\n"
     ]
    },
    {
     "name": "stdout",
     "output_type": "stream",
     "text": [
      "Password seem secure.\n"
     ]
    }
   ],
   "source": [
    "# 8. Password security combo: Ask for a password. \n",
    "# If the lenght is at least 8 and it contains \"@\" or\"#\" , print \"Password seem secure.\"\n",
    "\n",
    "password = input(\"Enter the password:\")\n",
    "if len(password) >= 8 and (\"@\" in password or \"#\" in password):\n",
    "       print(\"Password seem secure.\")"
   ]
  },
  {
   "cell_type": "code",
   "execution_count": 36,
   "id": "af1c6c20-a463-44b1-bfd5-dd4b80ca3698",
   "metadata": {},
   "outputs": [
    {
     "name": "stdin",
     "output_type": "stream",
     "text": [
      "Enter the sentence: hello i am python and data science borin\n"
     ]
    },
    {
     "name": "stdout",
     "output_type": "stream",
     "text": [
      "Looking interesting\n"
     ]
    }
   ],
   "source": [
    "# 9. Not Containg a word: Ask for a sentence.\n",
    "# If it does not contain the word \"boring\" print \"looks interesting\"\n",
    "\n",
    "sen = str(input(\"Enter the sentence:\"))\n",
    "if \"boring\" not in sen.lower():\n",
    "    print(\"Looking interesting\")"
   ]
  },
  {
   "cell_type": "code",
   "execution_count": 49,
   "id": "90045910-9e02-4c0b-ad09-8486a72d5dae",
   "metadata": {},
   "outputs": [
    {
     "name": "stdin",
     "output_type": "stream",
     "text": [
      "Enter the number: 19\n"
     ]
    },
    {
     "name": "stdout",
     "output_type": "stream",
     "text": [
      "Number is within the range 10-20.\n"
     ]
    }
   ],
   "source": [
    "# In range check: Ask for a number.\n",
    "# If it is greater than or equal to 10 and less than or equal to 20.\n",
    "# print \"Number is within the range 10-20.\"\n",
    "\n",
    "num = int(input(\"Enter the number:\"))\n",
    "if 10 <= num <=20:\n",
    "    print(\"Number is within the range 10-20.\")"
   ]
  },
  {
   "cell_type": "markdown",
   "id": "471cb5de-7b79-47fe-9d45-e1a81b3172f7",
   "metadata": {},
   "source": [
    "**1.2. The else Clause: The Alternate Path**"
   ]
  },
  {
   "cell_type": "markdown",
   "id": "28f7e723-3259-4873-8f7f-b81aa4e3d578",
   "metadata": {},
   "source": [
    "Concept: Difine what happens when the if condition is not met."
   ]
  },
  {
   "cell_type": "code",
   "execution_count": null,
   "id": "e7066898-2b64-4c90-92f6-b06ff63bd76e",
   "metadata": {},
   "outputs": [],
   "source": [
    "# Syntax \n",
    "if condition:\n",
    "    # executed when if condition is true.\n",
    "else:\n",
    "    # executed when if condition is false."
   ]
  },
  {
   "cell_type": "code",
   "execution_count": 4,
   "id": "68a4c057-c570-40f4-ad4c-841a7c5929b3",
   "metadata": {},
   "outputs": [
    {
     "name": "stdout",
     "output_type": "stream",
     "text": [
      "You Passed!\n"
     ]
    }
   ],
   "source": [
    "# example\n",
    "score = 67\n",
    "if score >= 50:\n",
    "    print(\"You Passed!\")\n",
    "else:\n",
    "    print(\"Keep Trying!\")"
   ]
  },
  {
   "cell_type": "code",
   "execution_count": 5,
   "id": "ac744ff4-25bf-4e8d-bcaf-97e468917558",
   "metadata": {},
   "outputs": [
    {
     "name": "stdout",
     "output_type": "stream",
     "text": [
      "Number is odd!\n"
     ]
    }
   ],
   "source": [
    "# 1. Even or Odd\n",
    "\n",
    "num = 7\n",
    "if num % 2 == 0:\n",
    "    print(\"Number is even!\")\n",
    "else:\n",
    "    print(\"Number is odd!\")"
   ]
  },
  {
   "cell_type": "code",
   "execution_count": 8,
   "id": "76704a1e-6805-4f91-ba13-22be58bf52ec",
   "metadata": {},
   "outputs": [
    {
     "name": "stdout",
     "output_type": "stream",
     "text": [
      "Minor!\n"
     ]
    }
   ],
   "source": [
    "# 2. Adult or Minor\n",
    "\n",
    "age = 17\n",
    "if age >= 18:\n",
    "    print(\"Adult!\")\n",
    "else:\n",
    "    print(\"Minor!\")"
   ]
  },
  {
   "cell_type": "code",
   "execution_count": 10,
   "id": "3bab9d93-1b63-4886-8b88-9053786c1efc",
   "metadata": {},
   "outputs": [
    {
     "name": "stdout",
     "output_type": "stream",
     "text": [
      "Fail!\n"
     ]
    }
   ],
   "source": [
    "# 3. Pass or Fail\n",
    "\n",
    "marks = 33\n",
    "if marks >= 40:\n",
    "    print(\"Pass!\")\n",
    "else:\n",
    "    print(\"Fail!\")"
   ]
  },
  {
   "cell_type": "code",
   "execution_count": 14,
   "id": "85da9ade-f206-4c53-9869-afc9e3ff860d",
   "metadata": {},
   "outputs": [
    {
     "name": "stdout",
     "output_type": "stream",
     "text": [
      "Negative!\n"
     ]
    }
   ],
   "source": [
    "# 4. Positive or Negative\n",
    "\n",
    "num = -4\n",
    "if num >= 0:\n",
    "    print(\"Positive!\")\n",
    "else:\n",
    "    print(\"Negative!\")"
   ]
  },
  {
   "cell_type": "code",
   "execution_count": 15,
   "id": "f1fc9d45-b592-45a4-b7b7-512ac5c619f8",
   "metadata": {},
   "outputs": [
    {
     "name": "stdout",
     "output_type": "stream",
     "text": [
      "Free Diveery!\n"
     ]
    }
   ],
   "source": [
    "# 5. Free dilivery or Paid delivery\n",
    "\n",
    "order_amount = 900\n",
    "if order_amount >= 500:\n",
    "    print(\"Free Diveery!\")\n",
    "else:\n",
    "    print(\"Delivery charged applied!\")"
   ]
  },
  {
   "cell_type": "code",
   "execution_count": 5,
   "id": "54f80333-dd77-4188-a106-ded27b0cdb05",
   "metadata": {},
   "outputs": [
    {
     "name": "stdout",
     "output_type": "stream",
     "text": [
      "Regular working day!\n"
     ]
    }
   ],
   "source": [
    "# 6. Weekend or Holiday\n",
    "\n",
    "day = \"monday\"\n",
    "is_holiday = True\n",
    "if day.lower() in {\"saturday\", \"sunday\"} or day.lower is is_holiday:\n",
    "    print(\"Day off!\")\n",
    "else:\n",
    "    print(\"Regular working day!\")"
   ]
  },
  {
   "cell_type": "code",
   "execution_count": 7,
   "id": "53d892a8-9ee9-4c4b-805a-f5756b0efc84",
   "metadata": {},
   "outputs": [
    {
     "name": "stdout",
     "output_type": "stream",
     "text": [
      "Not eligible for exam.\n"
     ]
    }
   ],
   "source": [
    "# 7. Valid Exam Candidate\n",
    "\n",
    "attendence = 80\n",
    "avg_marks = 36\n",
    "if attendence >= 75 and avg_marks >= 50:\n",
    "    print(\"Eligible for exam.\")\n",
    "else:\n",
    "    print(\"Not eligible for exam.\")"
   ]
  },
  {
   "cell_type": "code",
   "execution_count": 11,
   "id": "5b8e8add-93c8-4bf0-bd77-2bbeba7f3377",
   "metadata": {},
   "outputs": [
    {
     "name": "stdout",
     "output_type": "stream",
     "text": [
      "Perfect day for a panic.\n"
     ]
    }
   ],
   "source": [
    "# 8. Weather Decision\n",
    "\n",
    "is_raining = False\n",
    "temperature = 22\n",
    "if not is_raining and (18 <= temperature <= 28):\n",
    "    print(\"Perfect day for a panic.\")\n",
    "else:\n",
    "    print(\"Better to stay in.\")"
   ]
  },
  {
   "cell_type": "code",
   "execution_count": 15,
   "id": "02538f62-c73a-4d25-81e2-f222ede3c5f5",
   "metadata": {},
   "outputs": [
    {
     "name": "stdout",
     "output_type": "stream",
     "text": [
      "Serving your choice.\n"
     ]
    }
   ],
   "source": [
    "# 9. Exclusive choice (You can select either coffee or tea , not both/neither)\n",
    "\n",
    "wants_coffee = False\n",
    "wants_tea = True\n",
    "if wants_coffee != wants_tea:\n",
    "    print(\"Serving your choice.\")\n",
    "else:\n",
    "    print(\"You must choose coffee or tea , not both/neither.\")"
   ]
  },
  {
   "cell_type": "code",
   "execution_count": 18,
   "id": "6c63111b-2664-4ba9-b9ee-07db04d3efa4",
   "metadata": {},
   "outputs": [
    {
     "name": "stdout",
     "output_type": "stream",
     "text": [
      "Username accepted.\n"
     ]
    }
   ],
   "source": [
    "# 10. Username Check (no space)\n",
    "\n",
    "username = \"John_Doe\"\n",
    "if len(username) >= 5 and \" \" not in username:\n",
    "    print(\"Username accepted.\")\n",
    "else:\n",
    "    print(\"Invalid username.\")"
   ]
  },
  {
   "cell_type": "markdown",
   "id": "3a89e8e9-8da0-482c-bb5c-d22ed9f95ee4",
   "metadata": {},
   "source": [
    "**Exercise for if-else**"
   ]
  },
  {
   "cell_type": "code",
   "execution_count": 30,
   "id": "7816aeca-6d7a-423f-9ee4-54f62abc0ead",
   "metadata": {},
   "outputs": [
    {
     "name": "stdin",
     "output_type": "stream",
     "text": [
      "Enter the number: -9\n"
     ]
    },
    {
     "name": "stdout",
     "output_type": "stream",
     "text": [
      "Negative!\n"
     ]
    }
   ],
   "source": [
    "# 1. Number sign dectector take a number  as input.\n",
    "# If it's greater than or equal to zero, print \"Non-negative\". Otherwise print \"Negative\"\n",
    "\n",
    "num  =  int(input(\"Enter the number:\"))\n",
    "if num >= 0:\n",
    "    print(\"Non-negative!\")\n",
    "else:\n",
    "    print(\"Negative!\")"
   ]
  },
  {
   "cell_type": "code",
   "execution_count": 36,
   "id": "a00f1e5d-5047-4ebe-bb30-a51496447257",
   "metadata": {},
   "outputs": [
    {
     "name": "stdin",
     "output_type": "stream",
     "text": [
      "Enter the age: 23\n"
     ]
    },
    {
     "name": "stdout",
     "output_type": "stream",
     "text": [
      "Eligible for vote!\n"
     ]
    }
   ],
   "source": [
    "# 2. Voting age with upper limit Ask for the user's age.\n",
    "# If the age is between 18 and 120(inclusive) print \"Eligible for vote\" Otherwise print \"Not eligible\"\n",
    "\n",
    "age = int(input(\"Enter the age:\"))\n",
    "if 18 <= age <= 120:\n",
    "    print(\"Eligible for vote!\")\n",
    "else:\n",
    "    print(\"Not eligible!\")"
   ]
  },
  {
   "cell_type": "code",
   "execution_count": 46,
   "id": "b276a992-eb0b-4664-ae33-7fcf6d78c83c",
   "metadata": {},
   "outputs": [
    {
     "name": "stdin",
     "output_type": "stream",
     "text": [
      "Enter the number: 90\n"
     ]
    },
    {
     "name": "stdout",
     "output_type": "stream",
     "text": [
      "Special multiple!\n"
     ]
    }
   ],
   "source": [
    "# 3. Exclusive multiple of 4 and 6 input a number.\n",
    "# If it is divisible by exactly one of 4 and 6 (but not both) print \"Special multiple\" \n",
    "# otherwise print \"Not special\"\n",
    "\n",
    "num = int(input(\"Enter the number:\"))\n",
    "if (num % 4 == 0) != (num % 6 == 0):\n",
    "    print(\"Special multiple!\")\n",
    "else:\n",
    "    print(\"Not special!\")"
   ]
  },
  {
   "cell_type": "code",
   "execution_count": 54,
   "id": "159032a1-6097-4ae2-94af-6924ac48ec25",
   "metadata": {},
   "outputs": [
    {
     "name": "stdin",
     "output_type": "stream",
     "text": [
      "Enter the username: jadosfj asdjfosa\n"
     ]
    },
    {
     "name": "stdout",
     "output_type": "stream",
     "text": [
      "Not valid.\n"
     ]
    }
   ],
   "source": [
    "# 4. Username Validation : Ask for a username.\n",
    "# If it's starts with a letter and is at least 5 characters long and contains no space.\n",
    "# print \"Valid username\" Otherwise print \"Not valid\"\n",
    "\n",
    "username = input(\"Enter the username:\")\n",
    "if len(username) >= 5 and username[0].isalpha() and \" \" not in username:\n",
    "    print(\"Valid Username.\")\n",
    "else:\n",
    "    print(\"Not valid.\")"
   ]
  },
  {
   "cell_type": "code",
   "execution_count": 58,
   "id": "5a113ed3-15a5-491d-b8a4-699d485a1450",
   "metadata": {},
   "outputs": [
    {
     "name": "stdin",
     "output_type": "stream",
     "text": [
      "Enter the temperature: 355.54\n"
     ]
    },
    {
     "name": "stdout",
     "output_type": "stream",
     "text": [
      "Boiling!\n"
     ]
    }
   ],
   "source": [
    "# 5. Water temperature classification: Take water temperature input in celsius.\n",
    "# If it's 100 or more, print \"Boiling\" Otherwise \"Not boiling\"\n",
    "\n",
    "temp = float(input(\"Enter the temperature:\"))\n",
    "if 100 <= temp:\n",
    "    print(\"Boiling!\")\n",
    "else:\n",
    "    print(\"Not boiling!\")"
   ]
  },
  {
   "cell_type": "code",
   "execution_count": 61,
   "id": "29edc695-57b0-4ff7-ba65-43009d39a33c",
   "metadata": {},
   "outputs": [
    {
     "name": "stdin",
     "output_type": "stream",
     "text": [
      "Enter the numbers of days: 45\n"
     ]
    },
    {
     "name": "stdout",
     "output_type": "stream",
     "text": [
      "Fine applicable!\n"
     ]
    }
   ],
   "source": [
    "# 6. Library late fee check: Ask for the number of days a book is late.\n",
    "# If it's 0 print \"No fine!\" Otherwise print \"Fine applicable!\"\n",
    "\n",
    "no_date = int(input(\"Enter the numbers of days:\"))\n",
    "if no_date == 0:\n",
    "    print(\"No fine!\")\n",
    "else:\n",
    "    print(\"Fine applicable!\")"
   ]
  },
  {
   "cell_type": "code",
   "execution_count": 68,
   "id": "789be83d-8313-4710-8996-7def2b92e5ff",
   "metadata": {},
   "outputs": [
    {
     "name": "stdin",
     "output_type": "stream",
     "text": [
      "Enter the age: 45\n",
      "Membership (yes/no): yes\n"
     ]
    },
    {
     "name": "stdout",
     "output_type": "stream",
     "text": [
      "Access granted!\n"
     ]
    }
   ],
   "source": [
    "# 7. Gym access rule: Ask for the age and if the user has a gym membership (yes/no).\n",
    "# If the person is at least 16 years old and is a member. print \"Access granted!\" \n",
    "# Otherwise print \"Access denied!\"\n",
    "\n",
    "age = int(input(\"Enter the age:\"))\n",
    "membership = str(input(\"Membership (yes/no):\"))\n",
    "if age >= 16 and membership == \"yes\":\n",
    "    print(\"Access granted!\")\n",
    "else:\n",
    "    print(\"Access denied!\")"
   ]
  },
  {
   "cell_type": "code",
   "execution_count": 78,
   "id": "b0154c3b-62d6-450d-a720-bd1c12a82ba6",
   "metadata": {},
   "outputs": [
    {
     "name": "stdin",
     "output_type": "stream",
     "text": [
      "Did you have ID card? (yes/no): Yes\n",
      "Did they passed the security check? (yes/no): YES\n"
     ]
    },
    {
     "name": "stdout",
     "output_type": "stream",
     "text": [
      "Entry Allowed!\n"
     ]
    }
   ],
   "source": [
    "# 8. Security Clearance: Ask if the person have and ID card (yes/no) \n",
    "# and if they passed the security check (yes/no) \n",
    "# If both are \"yes\" print \"Entry allowed\" Otherwise \"Entry denied.\"\n",
    "\n",
    "has_ID = str(input(\"Did you have ID card? (yes/no):\")).strip().lower()\n",
    "security_pass = str(input(\"Did they passed the security check? (yes/no):\")).strip().lower()\n",
    "if has_ID == \"yes\" and security_pass == \"yes\":\n",
    "    print(\"Entry Allowed!\")\n",
    "else:\n",
    "    print(\"Entry Denied!\")"
   ]
  },
  {
   "cell_type": "code",
   "execution_count": 8,
   "id": "bf1d4ced-5b92-44cb-8e08-7978c7f81ed6",
   "metadata": {},
   "outputs": [
    {
     "name": "stdin",
     "output_type": "stream",
     "text": [
      "Enter the password: 78dfashg@#\n"
     ]
    },
    {
     "name": "stdout",
     "output_type": "stream",
     "text": [
      "Strong Password!\n"
     ]
    }
   ],
   "source": [
    "# 9. Password Contain Numbers: Ask for a password.\n",
    "# If it contains at least one digit and lenght is at least 8 or it contain both @ and # .\n",
    "# print \"Strong password!\" otherwise print \"Weak Password!\"\n",
    "\n",
    "pwd = input(\"Enter the password:\")\n",
    "has_digit = ( \"0\" in pwd ) or (\"1\" in pwd) or \\\n",
    "(\"2\" in pwd) or (\"3\" in pwd) or (\"4\" in pwd) or (\"5\" in pwd) or (\"6\" in pwd) or (\"7\" in pwd) or \\\n",
    "(\"8\" in pwd) or (\"9\" in pwd)\n",
    "\n",
    "if (has_digit and len(pwd) >= 8) or (\"@\" in pwd and \"#\" in pwd):\n",
    "    print(\"Strong Password!\")\n",
    "else:\n",
    "    print(\"Weak Password!\")"
   ]
  },
  {
   "cell_type": "code",
   "execution_count": 86,
   "id": "ce6c95d5-af91-4cb3-8a9e-5f01da40368c",
   "metadata": {},
   "outputs": [
    {
     "name": "stdin",
     "output_type": "stream",
     "text": [
      "Hours (0-23): 9\n",
      "Enter the day: monday\n"
     ]
    },
    {
     "name": "stdout",
     "output_type": "stream",
     "text": [
      "Store is open!\n"
     ]
    }
   ],
   "source": [
    "# 10. Store Open or Close: Ask for the hour of the day (0-23).\n",
    "# If it's between 9 and 21 (inclusive) and it's not \"sunday\" print \"Store is open!\"\n",
    "# Otherwise print \"Store is closed!\"\n",
    "\n",
    "h_day = int(input(\"Hours (0-23):\"))\n",
    "day = str(input(\"Enter the day:\")).strip().lower()\n",
    "if 9 <= h_day <= 21 and day != \"sunday\":\n",
    "    print(\"Store is open!\")\n",
    "else:\n",
    "    print(\"Store is closed!\")"
   ]
  },
  {
   "cell_type": "code",
   "execution_count": null,
   "id": "75da664a-5fb2-485d-91d2-3367573b1bd2",
   "metadata": {},
   "outputs": [],
   "source": []
  }
 ],
 "metadata": {
  "kernelspec": {
   "display_name": "Python 3 (ipykernel)",
   "language": "python",
   "name": "python3"
  },
  "language_info": {
   "codemirror_mode": {
    "name": "ipython",
    "version": 3
   },
   "file_extension": ".py",
   "mimetype": "text/x-python",
   "name": "python",
   "nbconvert_exporter": "python",
   "pygments_lexer": "ipython3",
   "version": "3.13.5"
  }
 },
 "nbformat": 4,
 "nbformat_minor": 5
}
