{
 "cells": [
  {
   "cell_type": "markdown",
   "id": "752bd073-951f-470a-a1aa-f39dc58eca70",
   "metadata": {},
   "source": [
    "<font size = 6>**1.STRING OPERATIONS**"
   ]
  },
  {
   "cell_type": "markdown",
   "id": "73e3f9bd-89d4-400b-9404-a722e0dfe9d1",
   "metadata": {},
   "source": [
    "<font size = \"5\">**1.1.INDEXING**"
   ]
  },
  {
   "cell_type": "markdown",
   "id": "47ddb9f0-17b8-4142-bb7f-e5fccc112f44",
   "metadata": {},
   "source": [
    "Indexing means individual characters (elements) of a string by its position writhin the string."
   ]
  },
  {
   "cell_type": "markdown",
   "id": "f62b4ca0-8da8-4cc4-b8d9-b86cd20a391a",
   "metadata": {},
   "source": [
    "**Syntax for indexing - varaible_name[index]**"
   ]
  },
  {
   "cell_type": "markdown",
   "id": "784794e7-11c6-4d8b-8114-cfa0c179aeb0",
   "metadata": {},
   "source": [
    "**NOTE : POSITIVE INDEXING STARTS WITH 0**"
   ]
  },
  {
   "cell_type": "code",
   "execution_count": 6,
   "id": "082fa576-4b47-4e48-834f-925fa1408a62",
   "metadata": {},
   "outputs": [
    {
     "name": "stdout",
     "output_type": "stream",
     "text": [
      "P\n",
      "Y\n",
      "I\n",
      " \n"
     ]
    }
   ],
   "source": [
    "example = \"PYTHON IS EASY\"\n",
    "print(example[0])\n",
    "print(example[1])\n",
    "print(example[7])\n",
    "print(example[6]) # Space is printed."
   ]
  },
  {
   "cell_type": "markdown",
   "id": "b27ac15f-16ec-483e-a3de-70171e186959",
   "metadata": {},
   "source": [
    "**NOTE : NEGATIVE INDEXING STARTS WITH -1 FROM THE RIGHT SIDE**"
   ]
  },
  {
   "cell_type": "code",
   "execution_count": 20,
   "id": "9592b996-e5a1-4787-8b1c-4e6f109af5af",
   "metadata": {},
   "outputs": [
    {
     "name": "stdout",
     "output_type": "stream",
     "text": [
      "P\n",
      " \n",
      "E\n"
     ]
    }
   ],
   "source": [
    "example = \"PYTHON IS EASY \"\n",
    "print(example[-15])\n",
    "print(example[-1]) # Space is printed\n",
    "print(example[-5])"
   ]
  },
  {
   "cell_type": "markdown",
   "id": "acb23b98-553b-40b3-991e-e7010d8856b1",
   "metadata": {},
   "source": [
    "***EXERCISE***"
   ]
  },
  {
   "cell_type": "code",
   "execution_count": 19,
   "id": "6706cf15-ae64-4b36-9207-509243262883",
   "metadata": {},
   "outputs": [
    {
     "name": "stdout",
     "output_type": "stream",
     "text": [
      "I\n",
      "i\n"
     ]
    }
   ],
   "source": [
    "country = \"India\"\n",
    "\n",
    "\n",
    "# Q:1  Print \"I\"\n",
    "print(country[0])\n",
    "\n",
    "\n",
    "# Q:2  Print \"i\"\n",
    "print(country[3])"
   ]
  },
  {
   "cell_type": "code",
   "execution_count": 24,
   "id": "00379410-a7c3-4483-9878-128ce0250953",
   "metadata": {},
   "outputs": [
    {
     "name": "stdout",
     "output_type": "stream",
     "text": [
      "o\n",
      "o\n"
     ]
    }
   ],
   "source": [
    "example = \"Discovery\"\n",
    "# Q:3 Print \"o\" using both positive and negative indexing.\n",
    "\n",
    "print(example[4])\n",
    "print(example[-5])"
   ]
  },
  {
   "cell_type": "markdown",
   "id": "888b350b-8fef-40c0-93be-a74a2bac11c3",
   "metadata": {},
   "source": [
    "<font size = \"5\">**1.2. SILICING**"
   ]
  },
  {
   "cell_type": "markdown",
   "id": "e48e4400-c5bd-413c-b507-1754172a7a32",
   "metadata": {},
   "source": [
    "Silicing means accessing a subset of a string based on its indices(indexes)."
   ]
  },
  {
   "cell_type": "markdown",
   "id": "10e8c404-8319-403a-8de3-aba7d224c2e8",
   "metadata": {},
   "source": [
    "**String [start index : stop index]**"
   ]
  },
  {
   "cell_type": "markdown",
   "id": "45e26257-afde-48f8-91ae-2d33984a28ae",
   "metadata": {},
   "source": [
    "**1.2.1. POSITIVE SILICING**"
   ]
  },
  {
   "cell_type": "markdown",
   "id": "96f0cf48-eeac-4312-8959-95d4630766ef",
   "metadata": {},
   "source": [
    "Start index is inclusive and stop index is enclusive "
   ]
  },
  {
   "cell_type": "code",
   "execution_count": 2,
   "id": "0b9d33be-b51e-4107-a2e7-9af36d3b90dd",
   "metadata": {},
   "outputs": [
    {
     "name": "stdout",
     "output_type": "stream",
     "text": [
      "PYTHO\n"
     ]
    }
   ],
   "source": [
    "# String[start index : stop index]\n",
    "example = \"PYTHON IS EASY \"\n",
    "print(example[0:5])"
   ]
  },
  {
   "cell_type": "code",
   "execution_count": 30,
   "id": "e75bdddb-cf5f-498a-bccd-45d17c9af426",
   "metadata": {},
   "outputs": [
    {
     "name": "stdout",
     "output_type": "stream",
     "text": [
      "PYTHON\n"
     ]
    }
   ],
   "source": [
    "print(example[0:6])"
   ]
  },
  {
   "cell_type": "code",
   "execution_count": 31,
   "id": "570df4d2-d672-4e91-b403-6481484eee2f",
   "metadata": {},
   "outputs": [
    {
     "name": "stdout",
     "output_type": "stream",
     "text": [
      "N IS E\n"
     ]
    }
   ],
   "source": [
    "print(example[5:11])"
   ]
  },
  {
   "cell_type": "code",
   "execution_count": 32,
   "id": "793390a4-7106-440d-8203-ccf82e60c2c6",
   "metadata": {},
   "outputs": [
    {
     "name": "stdout",
     "output_type": "stream",
     "text": [
      "PYTHON IS EASY \n"
     ]
    }
   ],
   "source": [
    "print(example[0:15])"
   ]
  },
  {
   "cell_type": "code",
   "execution_count": 52,
   "id": "f7cdc930-53e7-45b8-afd5-5acb62d4befe",
   "metadata": {},
   "outputs": [
    {
     "name": "stdout",
     "output_type": "stream",
     "text": [
      "\n"
     ]
    }
   ],
   "source": [
    "print(example[5:1])"
   ]
  },
  {
   "cell_type": "code",
   "execution_count": 36,
   "id": "d9c0f9ea-7e36-4eee-9c9e-bd5035e327b9",
   "metadata": {},
   "outputs": [
    {
     "name": "stdout",
     "output_type": "stream",
     "text": [
      "ON IS EASY \n"
     ]
    }
   ],
   "source": [
    "# Leave the stop index blank\n",
    "print(example[4:])"
   ]
  },
  {
   "cell_type": "code",
   "execution_count": 34,
   "id": "7071eed7-386b-4fdf-8596-a6d6dd3e5859",
   "metadata": {},
   "outputs": [
    {
     "name": "stdout",
     "output_type": "stream",
     "text": [
      "YTHON IS EASY \n"
     ]
    }
   ],
   "source": [
    "print(example[1:])"
   ]
  },
  {
   "cell_type": "code",
   "execution_count": 37,
   "id": "32c6fcd3-c4c2-433a-9c1f-e890994adea4",
   "metadata": {},
   "outputs": [
    {
     "name": "stdout",
     "output_type": "stream",
     "text": [
      "PYTHO\n"
     ]
    }
   ],
   "source": [
    "# Leave the start index blank\n",
    "print(example[:5])"
   ]
  },
  {
   "cell_type": "code",
   "execution_count": 3,
   "id": "08a163b0-886c-418e-a04b-c472159171d3",
   "metadata": {},
   "outputs": [
    {
     "name": "stdout",
     "output_type": "stream",
     "text": [
      "PYTHON IS EASY \n"
     ]
    }
   ],
   "source": [
    "print(example[:18])"
   ]
  },
  {
   "cell_type": "code",
   "execution_count": 39,
   "id": "ef90fa43-2f5d-49a9-80bf-ae4ae90bb04e",
   "metadata": {},
   "outputs": [
    {
     "name": "stdout",
     "output_type": "stream",
     "text": [
      "PYTHON IS EASY \n"
     ]
    }
   ],
   "source": [
    "# Leave both blank\n",
    "print(example[:])"
   ]
  },
  {
   "cell_type": "markdown",
   "id": "f8068114-e6a1-4957-8d6c-94cb9e36ef95",
   "metadata": {},
   "source": [
    "**1.2.2. NEGATIVE SILICING**"
   ]
  },
  {
   "cell_type": "code",
   "execution_count": 43,
   "id": "f933306e-3ff3-441e-83d5-a019eceb9467",
   "metadata": {},
   "outputs": [
    {
     "name": "stdout",
     "output_type": "stream",
     "text": [
      "PYTHON IS EASY\n"
     ]
    }
   ],
   "source": [
    "print(example[-15:-1])"
   ]
  },
  {
   "cell_type": "code",
   "execution_count": 46,
   "id": "05bff47a-1e2f-4abf-8dc2-242b738137ab",
   "metadata": {},
   "outputs": [
    {
     "name": "stdout",
     "output_type": "stream",
     "text": [
      "IS \n"
     ]
    }
   ],
   "source": [
    "print(example[-8:-5])"
   ]
  },
  {
   "cell_type": "code",
   "execution_count": 47,
   "id": "3cb02a60-d04c-498b-bd73-e5fc5a28aac1",
   "metadata": {},
   "outputs": [
    {
     "name": "stdout",
     "output_type": "stream",
     "text": [
      "PYTHON IS EASY\n"
     ]
    }
   ],
   "source": [
    "print(example[:-1])"
   ]
  },
  {
   "cell_type": "code",
   "execution_count": 48,
   "id": "eed72eb5-0a2a-40be-8f19-b234c6b25dee",
   "metadata": {},
   "outputs": [
    {
     "name": "stdout",
     "output_type": "stream",
     "text": [
      "PYTHON IS EASY \n"
     ]
    }
   ],
   "source": [
    "print(example[-15:])"
   ]
  },
  {
   "cell_type": "code",
   "execution_count": 50,
   "id": "7a6c5b3c-ef0e-407e-8e68-f5891b28a305",
   "metadata": {},
   "outputs": [
    {
     "name": "stdout",
     "output_type": "stream",
     "text": [
      "HON IS \n"
     ]
    }
   ],
   "source": [
    "print(example[-12:-5])"
   ]
  },
  {
   "cell_type": "code",
   "execution_count": 53,
   "id": "ada63e89-5ca2-4c49-b5d1-7a38e3ee5181",
   "metadata": {},
   "outputs": [
    {
     "name": "stdout",
     "output_type": "stream",
     "text": [
      "\n"
     ]
    }
   ],
   "source": [
    "print(example[-5:-12])"
   ]
  },
  {
   "cell_type": "markdown",
   "id": "9aa221bb-47cf-4867-a1e0-776d077947a3",
   "metadata": {},
   "source": [
    "<font size = \"5\">**1.3. STRIDE**"
   ]
  },
  {
   "cell_type": "markdown",
   "id": "92a92a44-4c31-43d5-9762-96c12ad0a9cc",
   "metadata": {},
   "source": [
    "*sride is also called step also*"
   ]
  },
  {
   "cell_type": "markdown",
   "id": "011a81b4-4912-43a9-94fa-0c7410184c01",
   "metadata": {},
   "source": [
    "**1.3.1.POSITIVE STRIDE**"
   ]
  },
  {
   "cell_type": "markdown",
   "id": "b9af8ee2-f078-4406-b6fb-f881df378932",
   "metadata": {},
   "source": [
    "String slicing can also accept a third parameter, the stride , which refres to how many steps you want to take."
   ]
  },
  {
   "cell_type": "markdown",
   "id": "91c39b5a-146e-40c4-9b76-7b2eefb5b30f",
   "metadata": {},
   "source": [
    "**string[start index : stop index : stride/step value]**"
   ]
  },
  {
   "cell_type": "code",
   "execution_count": 3,
   "id": "2a0a841f-630a-4aa3-9a59-f4a4fc30df75",
   "metadata": {},
   "outputs": [
    {
     "name": "stdout",
     "output_type": "stream",
     "text": [
      "PTO SES\n"
     ]
    }
   ],
   "source": [
    "# String[start index : stop index : stride/step value]\n",
    "\n",
    "example = \"PYTHON IS EASY\"\n",
    "print(example[0:15:2])"
   ]
  },
  {
   "cell_type": "code",
   "execution_count": 58,
   "id": "c7775ee2-f4ce-48f5-aba7-5f57a8e1077c",
   "metadata": {},
   "outputs": [
    {
     "name": "stdout",
     "output_type": "stream",
     "text": [
      "PTO\n"
     ]
    }
   ],
   "source": [
    "print(example[0:6:2])"
   ]
  },
  {
   "cell_type": "code",
   "execution_count": 5,
   "id": "5408a556-5422-4683-875f-ddf7fca07c68",
   "metadata": {},
   "outputs": [
    {
     "name": "stdout",
     "output_type": "stream",
     "text": [
      "PYT\n"
     ]
    }
   ],
   "source": [
    "example = \"PYTHON IS EASY\"\n",
    "print(example[0:3])"
   ]
  },
  {
   "cell_type": "code",
   "execution_count": 59,
   "id": "6072790f-60d7-4f7e-9ee0-7c63bc46c614",
   "metadata": {},
   "outputs": [
    {
     "name": "stdout",
     "output_type": "stream",
     "text": [
      "PTO SES\n"
     ]
    }
   ],
   "source": [
    "print(example[::2])"
   ]
  },
  {
   "cell_type": "code",
   "execution_count": 5,
   "id": "7f5c3d92-e9ee-4704-b76e-e1441f275a6d",
   "metadata": {},
   "outputs": [
    {
     "name": "stdout",
     "output_type": "stream",
     "text": [
      "YO\n"
     ]
    }
   ],
   "source": [
    "print(example[1:5:3])"
   ]
  },
  {
   "cell_type": "code",
   "execution_count": 6,
   "id": "03f274d4-2f5e-4025-946f-de101bdc689e",
   "metadata": {},
   "outputs": [
    {
     "name": "stdout",
     "output_type": "stream",
     "text": [
      "PH\n"
     ]
    }
   ],
   "source": [
    "print(example[0:6:3])"
   ]
  },
  {
   "cell_type": "code",
   "execution_count": 10,
   "id": "fce06dc7-0695-478a-bd6d-577e1cf85e0e",
   "metadata": {},
   "outputs": [
    {
     "name": "stdout",
     "output_type": "stream",
     "text": [
      "H  \n"
     ]
    }
   ],
   "source": [
    "print(example[3:10:3])"
   ]
  },
  {
   "cell_type": "code",
   "execution_count": 11,
   "id": "d616e680-0ee0-4286-af4c-f615968eeb8f",
   "metadata": {},
   "outputs": [
    {
     "name": "stdout",
     "output_type": "stream",
     "text": [
      "PH  S\n"
     ]
    }
   ],
   "source": [
    "print(example[0:15:3])"
   ]
  },
  {
   "cell_type": "code",
   "execution_count": 13,
   "id": "ba9014f0-cfd0-4d4b-954a-924c4496cc1c",
   "metadata": {},
   "outputs": [
    {
     "name": "stdout",
     "output_type": "stream",
     "text": [
      "PYTHON IS EASY\n"
     ]
    }
   ],
   "source": [
    "print(example[0:15:1])"
   ]
  },
  {
   "cell_type": "markdown",
   "id": "bf46fb0f-0875-4d5f-bf27-7540d96604aa",
   "metadata": {},
   "source": [
    "**1.3.2. NEGATIVE STRIDE**"
   ]
  },
  {
   "cell_type": "code",
   "execution_count": 14,
   "id": "ed7c8569-8f2c-4cfa-a05c-7ef22419af9d",
   "metadata": {},
   "outputs": [
    {
     "name": "stdout",
     "output_type": "stream",
     "text": [
      "YSAE SI NOHTYP\n"
     ]
    }
   ],
   "source": [
    "example = \"PYTHON IS EASY\"\n",
    "print(example[::-1])"
   ]
  },
  {
   "cell_type": "code",
   "execution_count": 61,
   "id": "95ac7c5b-677f-48af-a673-b681e8ad79b7",
   "metadata": {},
   "outputs": [
    {
     "name": "stdout",
     "output_type": "stream",
     "text": [
      "YA INHY\n"
     ]
    }
   ],
   "source": [
    "print(example[::-2])"
   ]
  },
  {
   "cell_type": "code",
   "execution_count": 62,
   "id": "11f19a9d-6fc4-4196-a60c-5269fcc30895",
   "metadata": {},
   "outputs": [
    {
     "name": "stdout",
     "output_type": "stream",
     "text": [
      "NOHTYP\n"
     ]
    }
   ],
   "source": [
    "print(example[5::-1])"
   ]
  },
  {
   "cell_type": "code",
   "execution_count": 63,
   "id": "1a8d64ee-e788-43a8-bc56-dadc187886c5",
   "metadata": {},
   "outputs": [],
   "source": [
    "# Does not reverse the string slice."
   ]
  },
  {
   "cell_type": "code",
   "execution_count": 65,
   "id": "c3ee81a9-e505-48ac-a7c8-2d0ccae4fb1e",
   "metadata": {},
   "outputs": [
    {
     "name": "stdout",
     "output_type": "stream",
     "text": [
      "\n"
     ]
    }
   ],
   "source": [
    "print(example[0:5:-1])"
   ]
  },
  {
   "cell_type": "code",
   "execution_count": 66,
   "id": "da3523b6-a359-4b18-b36c-2ab6b59b6f2e",
   "metadata": {},
   "outputs": [
    {
     "name": "stdout",
     "output_type": "stream",
     "text": [
      "NOHTY\n"
     ]
    }
   ],
   "source": [
    "print(example[5:0:-1])"
   ]
  },
  {
   "cell_type": "code",
   "execution_count": 15,
   "id": "1a248ca4-4cdd-46e3-9790-ab8611154d9b",
   "metadata": {},
   "outputs": [
    {
     "name": "stdout",
     "output_type": "stream",
     "text": [
      "NHY\n"
     ]
    }
   ],
   "source": [
    "print(example[5:0:-2])"
   ]
  },
  {
   "cell_type": "code",
   "execution_count": 22,
   "id": "3c350643-3414-4c9b-901b-e31ba90e62eb",
   "metadata": {},
   "outputs": [
    {
     "name": "stdout",
     "output_type": "stream",
     "text": [
      "2\n",
      "DOCTOR ABDULLAH\n"
     ]
    }
   ],
   "source": [
    "name = \"Doctor Abdullah\"\n",
    "print(name.count(\"o\"))\n",
    "name1 = name.replace(\"o\",\"🙆🏻‍♂️\")\n",
    "print(name.upper())"
   ]
  },
  {
   "cell_type": "code",
   "execution_count": 21,
   "id": "aa2721c2-4c09-4970-9957-3a0127794a03",
   "metadata": {},
   "outputs": [
    {
     "name": "stdout",
     "output_type": "stream",
     "text": [
      "doctor abdullah\n",
      "1\n"
     ]
    }
   ],
   "source": [
    "print(name.lower())\n",
    "print(name.find(\"o\"))"
   ]
  },
  {
   "cell_type": "code",
   "execution_count": 24,
   "id": "23c86605-bcc9-4937-bc27-466304560368",
   "metadata": {},
   "outputs": [
    {
     "name": "stdout",
     "output_type": "stream",
     "text": [
      "D🙆🏻‍♂️ct🙆🏻‍♂️r Abdullah\n",
      "Doctor Abdullah\n"
     ]
    }
   ],
   "source": [
    "print(name1)\n",
    "print(name)"
   ]
  },
  {
   "cell_type": "code",
   "execution_count": 2,
   "id": "4ca1811e-2ad6-42c0-b226-ac75e935870b",
   "metadata": {},
   "outputs": [],
   "source": [
    "name = \"Doctor Abdullah\""
   ]
  },
  {
   "cell_type": "code",
   "execution_count": 5,
   "id": "85177307-16ba-4124-b3e4-1c77257282a2",
   "metadata": {},
   "outputs": [
    {
     "data": {
      "text/plain": [
       "['D', 'ct', 'r Abdullah']"
      ]
     },
     "execution_count": 5,
     "metadata": {},
     "output_type": "execute_result"
    }
   ],
   "source": [
    "name.split(\"o\")"
   ]
  },
  {
   "cell_type": "code",
   "execution_count": 6,
   "id": "1683b5ec-0b85-4de5-a951-0801f4bcdefa",
   "metadata": {},
   "outputs": [
    {
     "name": "stdout",
     "output_type": "stream",
     "text": [
      "Doctor Abdullah\n"
     ]
    }
   ],
   "source": [
    "print(name)"
   ]
  },
  {
   "cell_type": "code",
   "execution_count": 8,
   "id": "de51654f-b13b-46f8-8ba1-c613aa49ecc3",
   "metadata": {},
   "outputs": [],
   "source": [
    "name3 = name.find(\"A\")"
   ]
  },
  {
   "cell_type": "code",
   "execution_count": 9,
   "id": "d03d1138-e440-497a-bc54-8be9346ca5e7",
   "metadata": {},
   "outputs": [
    {
     "name": "stdout",
     "output_type": "stream",
     "text": [
      "7\n"
     ]
    }
   ],
   "source": [
    "print(name3)"
   ]
  },
  {
   "cell_type": "code",
   "execution_count": null,
   "id": "fb23ecef-d523-470c-bbec-7483d37e5f72",
   "metadata": {},
   "outputs": [],
   "source": []
  }
 ],
 "metadata": {
  "kernelspec": {
   "display_name": "Python 3 (ipykernel)",
   "language": "python",
   "name": "python3"
  },
  "language_info": {
   "codemirror_mode": {
    "name": "ipython",
    "version": 3
   },
   "file_extension": ".py",
   "mimetype": "text/x-python",
   "name": "python",
   "nbconvert_exporter": "python",
   "pygments_lexer": "ipython3",
   "version": "3.13.5"
  }
 },
 "nbformat": 4,
 "nbformat_minor": 5
}
