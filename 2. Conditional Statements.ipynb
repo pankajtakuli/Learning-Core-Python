{
 "cells": [
  {
   "cell_type": "markdown",
   "id": "d458086c-7cb5-43bb-b609-dde5b3804aa0",
   "metadata": {},
   "source": [
    "### 2. CONDITIOINAL SATEMENTS"
   ]
  },
  {
   "cell_type": "markdown",
   "id": "61c9c050-67ff-4e33-a7c7-b736bfc93eb7",
   "metadata": {},
   "source": [
    "**2.1. The elif clause: Multiples Checks, one path**"
   ]
  },
  {
   "cell_type": "markdown",
   "id": "afca3f2b-c83a-4833-8fc8-06875633600d",
   "metadata": {},
   "source": [
    "Concept: Test several conditions in sequence only the first true one runs."
   ]
  },
  {
   "cell_type": "code",
   "execution_count": null,
   "id": "da219e6a-7db2-416d-92a4-f874f1aee07b",
   "metadata": {},
   "outputs": [],
   "source": [
    "# Syntax \n",
    "if condition1:\n",
    "    # block 1\n",
    "elif condition2:\n",
    "    # block 2\n",
    "else:\n",
    "    # fallback block"
   ]
  },
  {
   "cell_type": "code",
   "execution_count": 1,
   "id": "c9bbb540-a8f8-4789-bc3d-caa06dd5a82b",
   "metadata": {},
   "outputs": [
    {
     "name": "stdout",
     "output_type": "stream",
     "text": [
      "Excellent!\n"
     ]
    }
   ],
   "source": [
    "# Example\n",
    "marks = 95\n",
    "if marks >= 90:\n",
    "    print(\"Excellent!\")\n",
    "elif marks >=75:\n",
    "    print(\"Very good!\")\n",
    "else:\n",
    "    print(\"Need improvment!\")"
   ]
  },
  {
   "cell_type": "code",
   "execution_count": 2,
   "id": "588320bb-aa8e-413f-9b50-d5b461e0f720",
   "metadata": {},
   "outputs": [
    {
     "name": "stdout",
     "output_type": "stream",
     "text": [
      "Very good!\n"
     ]
    }
   ],
   "source": [
    "# Example\n",
    "marks = 95\n",
    "if marks >=75:\n",
    "    print(\"Very good!\")\n",
    "elif marks >= 90:\n",
    "    print(\"Excellent!\")\n",
    "else:\n",
    "    print(\"Need improvement!\")"
   ]
  },
  {
   "cell_type": "code",
   "execution_count": 3,
   "id": "3b587059-f0d3-4872-86a3-ce9187c865fd",
   "metadata": {},
   "outputs": [],
   "source": [
    "del marks"
   ]
  },
  {
   "cell_type": "code",
   "execution_count": 7,
   "id": "0144802a-7aeb-400d-922a-7eec81cb90fc",
   "metadata": {},
   "outputs": [
    {
     "name": "stdout",
     "output_type": "stream",
     "text": [
      "Grade B\n"
     ]
    }
   ],
   "source": [
    "# 1. Grade Classification\n",
    "\n",
    "marks = 78\n",
    "if marks >= 95:\n",
    "    print(\"Grade A\")\n",
    "elif marks >= 75:\n",
    "      print(\"Grade B\")\n",
    "elif marks >= 50:\n",
    "    print(\"Grade C\")\n",
    "else:\n",
    "    print(\"Fail\")"
   ]
  },
  {
   "cell_type": "code",
   "execution_count": 10,
   "id": "55230ebc-9a02-401e-ad29-037342e98366",
   "metadata": {},
   "outputs": [
    {
     "name": "stdout",
     "output_type": "stream",
     "text": [
      "Weekday!\n"
     ]
    }
   ],
   "source": [
    "# Day name to Type of day\n",
    "\n",
    "day = \"monday\"\n",
    "if day.lower() in {\"saturday\" , \"sunday\"}:\n",
    "    print(\"Weekend!\")\n",
    "elif day.lower() == \"friday\":\n",
    "    print(\"Almost weekend!\")\n",
    "else:\n",
    "    print(\"Weekday!\")"
   ]
  },
  {
   "cell_type": "code",
   "execution_count": 14,
   "id": "837db465-96b8-4704-b748-8583e1b3e068",
   "metadata": {},
   "outputs": [
    {
     "name": "stdout",
     "output_type": "stream",
     "text": [
      "Senior ticket!\n"
     ]
    }
   ],
   "source": [
    "# 3. Ticket pricing by age \n",
    "\n",
    "age = 124\n",
    "if age < 5:\n",
    "    print(\"Free ticket!\")\n",
    "elif age <= 12:\n",
    "    print(\"Child ticket!\")\n",
    "elif age <=60:\n",
    "    print(\"Adult ticket!\")\n",
    "else:\n",
    "    print(\"Senior ticket!\")"
   ]
  },
  {
   "cell_type": "code",
   "execution_count": 19,
   "id": "a7625c32-08fe-41b0-a3fe-0beb277e1d6c",
   "metadata": {},
   "outputs": [
    {
     "name": "stdout",
     "output_type": "stream",
     "text": [
      "Divisible by 4 only!\n"
     ]
    }
   ],
   "source": [
    "# 4. Number classification with overlaps\n",
    "\n",
    "n = 76\n",
    "if n % 3 == 0 and n % 4 == 0:\n",
    "    print(\"Divisble by both 3 and 4.\")\n",
    "elif n % 3 == 0:\n",
    "    print(\"Divisible by 3 only!\")\n",
    "elif n % 4 == 0:\n",
    "    print(\"Divisible by 4 only!\")\n",
    "else:\n",
    "    print(\"Not divisible by 3 and 4!\")"
   ]
  },
  {
   "cell_type": "code",
   "execution_count": 23,
   "id": "945a1571-da77-4b2f-8813-e15aea02c1f7",
   "metadata": {},
   "outputs": [
    {
     "name": "stdout",
     "output_type": "stream",
     "text": [
      "Wear a heavy jacket!\n"
     ]
    }
   ],
   "source": [
    "# 5. Clothing suggestion based on weather\n",
    "\n",
    "temp = -67\n",
    "rain = True\n",
    "if temp < 10:\n",
    "    print(\"Wear a heavy jacket!\")\n",
    "elif temp < 20 and rain:\n",
    "    print(\"Wear a light jacket and bring umbrella.\")\n",
    "elif temp < 20:\n",
    "    print(\"Wear a light jacket!\")\n",
    "else:\n",
    "    print(\"T-shirt weather!\")"
   ]
  },
  {
   "cell_type": "code",
   "execution_count": 25,
   "id": "04667a83-d586-4672-ae6c-143837136340",
   "metadata": {},
   "outputs": [
    {
     "name": "stdout",
     "output_type": "stream",
     "text": [
      "Login successful!\n"
     ]
    }
   ],
   "source": [
    "# 6. Adavanced Login Attempt Handling\n",
    "\n",
    "username = \"Admin\"\n",
    "password = \"secret\"\n",
    "if username != \"Admin\":\n",
    "    print(\"Invalid username!\")\n",
    "elif password != \"secret\":\n",
    "    print(\"Invalid password!\")\n",
    "else:\n",
    "    print(\"Login successful!\")"
   ]
  },
  {
   "cell_type": "code",
   "execution_count": 27,
   "id": "e4920e5b-5b67-4bfb-a362-9ac174047aed",
   "metadata": {},
   "outputs": [
    {
     "name": "stdout",
     "output_type": "stream",
     "text": [
      "Full tank!\n"
     ]
    }
   ],
   "source": [
    "# 7. Fuel level Warning System\n",
    "\n",
    "fuel = 58 # in liters\n",
    "if fuel <= 0:\n",
    "    print(\"Tank Empty! Stop Immeadiatily.\")\n",
    "elif fuel <=5:\n",
    "    print(\"Low fuel - find a station soon.\")\n",
    "elif fuel <=20:\n",
    "    print(\"Fuel level is ok!\")\n",
    "else:\n",
    "    print(\"Full tank!\")"
   ]
  },
  {
   "cell_type": "code",
   "execution_count": 3,
   "id": "ae0d113d-fc5c-4276-9e6c-0834694f872e",
   "metadata": {},
   "outputs": [
    {
     "name": "stdout",
     "output_type": "stream",
     "text": [
      "Fail! low attendence.\n"
     ]
    }
   ],
   "source": [
    "# 8. Multi-criteria Exam Result\n",
    "\n",
    "marks = 68\n",
    "attendence = 70\n",
    "if marks < 40:\n",
    "    print(\"Fail! insufficient marks.\")\n",
    "elif attendence < 75:\n",
    "    print(\"Fail! low attendence.\")\n",
    "else:\n",
    "    print(\"Pass!\")"
   ]
  },
  {
   "cell_type": "code",
   "execution_count": 6,
   "id": "fb908741-a6e8-4786-b5ea-ec0749822385",
   "metadata": {},
   "outputs": [
    {
     "name": "stdout",
     "output_type": "stream",
     "text": [
      "Free Delivery!\n"
     ]
    }
   ],
   "source": [
    "# 9. Delivery Charge Logic\n",
    "\n",
    "order_amount = 4500\n",
    "is_member = True\n",
    "if order_amount >= 1000:\n",
    "    print(\"Free Delivery!\")\n",
    "elif is_member :\n",
    "    print(\"Discount delivery charge!\")\n",
    "else:\n",
    "    print(\"Full delivery charge!\")"
   ]
  },
  {
   "cell_type": "code",
   "execution_count": 10,
   "id": "a356e4dc-3453-4950-b8be-ee0c1f5806d0",
   "metadata": {},
   "outputs": [
    {
     "name": "stdout",
     "output_type": "stream",
     "text": [
      "Entry granted!\n"
     ]
    }
   ],
   "source": [
    "# 10. Multi-Stage Access Control\n",
    "\n",
    "has_ticket = True\n",
    "id_verified = True\n",
    "age = 19\n",
    "if not has_ticket:\n",
    "    print(\"No entry - ticket missing!\")\n",
    "elif not id_verified:\n",
    "    print(\"No entry - ID not verfied!\")\n",
    "elif age < 18:\n",
    "    print(\"No entry - underage!\")\n",
    "else:\n",
    "    print(\"Entry granted!\")"
   ]
  },
  {
   "cell_type": "markdown",
   "id": "dc110fe6-99d2-462c-804c-dcac8236473c",
   "metadata": {},
   "source": [
    "**EXERCISE**"
   ]
  },
  {
   "cell_type": "code",
   "execution_count": 15,
   "id": "c5c02aa3-c596-4a8d-87fb-185b03cee017",
   "metadata": {},
   "outputs": [
    {
     "name": "stdin",
     "output_type": "stream",
     "text": [
      "Signal (red/green/yellow): green\n"
     ]
    },
    {
     "name": "stdout",
     "output_type": "stream",
     "text": [
      "go!\n"
     ]
    }
   ],
   "source": [
    "# 1. Traffic Light Helper\n",
    "\n",
    "t_light = str(input(\"Signal (red/green/yellow):\")).strip().lower()\n",
    "if t_light == \"red\":\n",
    "    print(\"stop!\")\n",
    "elif t_light == \"green\":\n",
    "    print(\"go!\")\n",
    "elif t_light == \"yellow\":\n",
    "    print(\"wait!\")\n",
    "else:\n",
    "    print(\"Invalid signal!\")"
   ]
  },
  {
   "cell_type": "code",
   "execution_count": 42,
   "id": "e21c9abb-86f3-4cd8-91ce-e7b52eab1828",
   "metadata": {},
   "outputs": [
    {
     "name": "stdin",
     "output_type": "stream",
     "text": [
      "Score (0-100): -90\n"
     ]
    },
    {
     "name": "stdout",
     "output_type": "stream",
     "text": [
      "Invalid Score!\n"
     ]
    }
   ],
   "source": [
    "# Score To Grade \n",
    "\n",
    "sc = int(input(\"Score (0-100):\"))\n",
    "if sc < 0 or sc > 100:\n",
    "    print(\"Invalid Score!\")\n",
    "elif sc >= 90:\n",
    "    print(\"A\")\n",
    "elif sc >= 75:\n",
    "    print(\"B\")\n",
    "elif sc >= 50:\n",
    "    print(\"C\")\n",
    "else:\n",
    "    print(\"F\")"
   ]
  },
  {
   "cell_type": "code",
   "execution_count": 49,
   "id": "2d5bd3b5-3cd4-4392-9f51-4c44fd301811",
   "metadata": {},
   "outputs": [
    {
     "name": "stdin",
     "output_type": "stream",
     "text": [
      "Enter the number: 78\n"
     ]
    },
    {
     "name": "stdout",
     "output_type": "stream",
     "text": [
      "Small positive!\n"
     ]
    }
   ],
   "source": [
    "# 3. Number Sign and Mangnitude\n",
    "\n",
    "n = int(input(\"Enter the number:\"))\n",
    "if n == 0:\n",
    "    print(\"Zero!\")\n",
    "elif 0 < n and n >= 1000:\n",
    "    print(\"Large Positive!\")\n",
    "elif n > 0:\n",
    "    print(\"Small positive!\")\n",
    "else:\n",
    "    print(\"Negative!\")"
   ]
  },
  {
   "cell_type": "code",
   "execution_count": 56,
   "id": "3bf69b25-be9f-448e-95c0-48d7f6618ab5",
   "metadata": {},
   "outputs": [
    {
     "name": "stdin",
     "output_type": "stream",
     "text": [
      "First angle: 60\n",
      "Second angle: 60\n",
      "Third angle: 60\n"
     ]
    },
    {
     "name": "stdout",
     "output_type": "stream",
     "text": [
      "Acute angle.\n"
     ]
    }
   ],
   "source": [
    "# 4. Triangle Type By Angles\n",
    "\n",
    "a = int(input(\"First angle:\"))\n",
    "b = int(input(\"Second angle:\"))\n",
    "c = int(input(\"Third angle:\"))\n",
    "if a + b + c != 180 or min(a,b,c) <= 0:\n",
    "    print(\"Not a triangle.\")\n",
    "elif a == 90 or b == 90 or c == 90:\n",
    "    print(\"Right angle.\")\n",
    "elif a <=90 and b <= 90 and c <= 90:\n",
    "    print(\"Acute angle.\")\n",
    "else:\n",
    "    print(\"Obtuse angle.\")"
   ]
  },
  {
   "cell_type": "code",
   "execution_count": 2,
   "id": "58a1cdf2-90a9-4c11-b04e-3d6cd4ae7309",
   "metadata": {},
   "outputs": [
    {
     "name": "stdin",
     "output_type": "stream",
     "text": [
      "Enter the number: 7\n"
     ]
    },
    {
     "name": "stdout",
     "output_type": "stream",
     "text": [
      "None!\n"
     ]
    }
   ],
   "source": [
    "# 5. Fizzbuzz Variant \n",
    "\n",
    "n = int(input(\"Enter the number:\"))\n",
    "if n % 3 == 0 and n % 5 == 0:\n",
    "    print(\"Fizzbuzz!\")\n",
    "elif n % 3 == 0:\n",
    "    print(\"Fizz!\")\n",
    "elif n % 5 == 0:\n",
    "    print(\"Buzz!\")\n",
    "else:\n",
    "    print(\"None!\")"
   ]
  },
  {
   "cell_type": "code",
   "execution_count": 18,
   "id": "dcdf255a-caca-4d81-9504-7dae4632a913",
   "metadata": {},
   "outputs": [
    {
     "name": "stdin",
     "output_type": "stream",
     "text": [
      "Enter the password: ekrhgf@10\n"
     ]
    },
    {
     "ename": "AttributeError",
     "evalue": "'str' object has no attribute 'intersection'",
     "output_type": "error",
     "traceback": [
      "\u001b[1;31m---------------------------------------------------------------------------\u001b[0m",
      "\u001b[1;31mAttributeError\u001b[0m                            Traceback (most recent call last)",
      "Cell \u001b[1;32mIn[18], line 9\u001b[0m\n\u001b[0;32m      6\u001b[0m special_char \u001b[38;5;241m=\u001b[39m \u001b[38;5;28mset\u001b[39m(\u001b[38;5;124m\"\u001b[39m\u001b[38;5;124m@#$\u001b[39m\u001b[38;5;124m%\u001b[39m\u001b[38;5;124m\"\u001b[39m)\n\u001b[0;32m      7\u001b[0m uppers \u001b[38;5;241m=\u001b[39m \u001b[38;5;28mset\u001b[39m(\u001b[38;5;124m\"\u001b[39m\u001b[38;5;124mABCDEFGHIJKLMNOPQRSTUVWXYZ\u001b[39m\u001b[38;5;124m\"\u001b[39m)\n\u001b[1;32m----> 9\u001b[0m has_digit \u001b[38;5;241m=\u001b[39m pwd\u001b[38;5;241m.\u001b[39mintersection(digit) \u001b[38;5;241m!=\u001b[39m \u001b[38;5;28mset\u001b[39m()\n\u001b[0;32m     10\u001b[0m has_special \u001b[38;5;241m=\u001b[39m pwd\u001b[38;5;241m.\u001b[39mintersection(special_char) \u001b[38;5;241m!=\u001b[39m \u001b[38;5;28mset\u001b[39m()\n\u001b[0;32m     11\u001b[0m has_upper \u001b[38;5;241m=\u001b[39m pwd\u001b[38;5;241m.\u001b[39mintersection(uppers) \u001b[38;5;241m!=\u001b[39m \u001b[38;5;28mset\u001b[39m()\n",
      "\u001b[1;31mAttributeError\u001b[0m: 'str' object has no attribute 'intersection'"
     ]
    }
   ],
   "source": [
    "# 6. Password Strength Ladder\n",
    "\n",
    "pwd = str(input(\"Enter the password:\"))\n",
    "\n",
    "digit = set(\"0123456789\")\n",
    "special_char = set(\"@#$%\")\n",
    "uppers = set(\"ABCDEFGHIJKLMNOPQRSTUVWXYZ\")\n",
    "\n",
    "has_digit = pwd.intersection(digit) != set()\n",
    "has_special = pwd.intersection(special_char) != set()\n",
    "has_upper = pwd.intersection(uppers) != set()\n",
    "\n",
    "if len(pwd) < 8:\n",
    "    print(\"Too short.\")\n",
    "elif len(pwd) >= 12 and has_digit and has_special and has_upper:\n",
    "    print(\"Strong password.\")\n",
    "elif len(pwd) >= 10 and has_digit and has_special:\n",
    "    print(\"Strong.\")\n",
    "elif len(pwd) >= 8 and has_digit:\n",
    "    print(\"ok\")\n",
    "else:\n",
    "    print(\"Too short.\")"
   ]
  },
  {
   "cell_type": "code",
   "execution_count": null,
   "id": "743b46b5-c152-4297-bd24-9877e8e8c917",
   "metadata": {},
   "outputs": [],
   "source": []
  },
  {
   "cell_type": "code",
   "execution_count": null,
   "id": "325fc860-78a9-4181-b49f-242d68df715a",
   "metadata": {},
   "outputs": [],
   "source": []
  },
  {
   "cell_type": "code",
   "execution_count": null,
   "id": "920f040d-7e3c-4295-9239-f4f75c7a35a8",
   "metadata": {},
   "outputs": [],
   "source": []
  },
  {
   "cell_type": "code",
   "execution_count": null,
   "id": "6f285820-733a-496e-9f44-816abfabbda2",
   "metadata": {},
   "outputs": [],
   "source": []
  },
  {
   "cell_type": "code",
   "execution_count": 4,
   "id": "30531a74-1709-49a7-996f-7fd5904b2a5a",
   "metadata": {},
   "outputs": [
    {
     "name": "stdin",
     "output_type": "stream",
     "text": [
      "Marks (0-100): 67\n",
      "Marks (0-100): 89\n"
     ]
    },
    {
     "name": "stdout",
     "output_type": "stream",
     "text": [
      "Pass.\n"
     ]
    }
   ],
   "source": [
    "# 7.Exam Outcome With Priority\n",
    "\n",
    "marks = int(input(\"Marks (0-100):\"))\n",
    "att = int(input(\"Marks (0-100):\"))\n",
    "\n",
    "if marks < 35:\n",
    "    print(\"Fail:\",marks)\n",
    "elif att < 75:\n",
    "    print(\"Fail:\",att)\n",
    "elif marks >= 85 and att >= 90:\n",
    "    print(\"Distinction.\")\n",
    "else:\n",
    "    print(\"PasS.\")"
   ]
  },
  {
   "cell_type": "code",
   "execution_count": 5,
   "id": "53d94dd3-6510-4f58-9653-ecdcf3c307a8",
   "metadata": {},
   "outputs": [
    {
     "name": "stdin",
     "output_type": "stream",
     "text": [
      "Pincode servicable (yes/no): yes\n",
      "Order value : 4352\n",
      "Category: gdsfga\n"
     ]
    },
    {
     "name": "stdout",
     "output_type": "stream",
     "text": [
      "COD available!\n"
     ]
    }
   ],
   "source": [
    "# 8. E-commerce COD Eligibility\n",
    "\n",
    "pincode_servicable = input(\"Pincode servicable (yes/no):\")\n",
    "order_value = float(input(\"Order value :\"))\n",
    "category = str(input(\"Category:\")).strip().lower()\n",
    "\n",
    "if pincode_servicable != \"yes\":\n",
    "    print(\"COD unavailable!\")\n",
    "elif category in {\"electronics\",\"jewelry\"} and order_value > 50000:\n",
    "    print(\"COD unavailable!\")\n",
    "elif order_value < 200:\n",
    "    print(\"COD unavailable!\")\n",
    "else:\n",
    "    print(\"COD available!\")"
   ]
  },
  {
   "cell_type": "code",
   "execution_count": 3,
   "id": "5399d871-503c-4b99-9cb3-d5d8ef7535c6",
   "metadata": {},
   "outputs": [
    {
     "name": "stdin",
     "output_type": "stream",
     "text": [
      "Email: sdfgs@.com\n"
     ]
    },
    {
     "ename": "AttributeError",
     "evalue": "'list' object has no attribute 'split'",
     "output_type": "error",
     "traceback": [
      "\u001b[1;31m---------------------------------------------------------------------------\u001b[0m",
      "\u001b[1;31mAttributeError\u001b[0m                            Traceback (most recent call last)",
      "Cell \u001b[1;32mIn[3], line 12\u001b[0m\n\u001b[0;32m     10\u001b[0m     \u001b[38;5;28mprint\u001b[39m(\u001b[38;5;124m\"\u001b[39m\u001b[38;5;124mMissing domain dot.\u001b[39m\u001b[38;5;124m\"\u001b[39m)\n\u001b[0;32m     11\u001b[0m \u001b[38;5;28;01melse\u001b[39;00m:\n\u001b[1;32m---> 12\u001b[0m     tld \u001b[38;5;241m=\u001b[39m domain_part\u001b[38;5;241m.\u001b[39msplit(\u001b[38;5;124m\"\u001b[39m\u001b[38;5;124m.\u001b[39m\u001b[38;5;124m\"\u001b[39m)[\u001b[38;5;241m-\u001b[39m\u001b[38;5;241m1\u001b[39m]\u001b[38;5;241m.\u001b[39mlower()\n\u001b[0;32m     13\u001b[0m     \u001b[38;5;28;01mif\u001b[39;00m tld \u001b[38;5;129;01mnot\u001b[39;00m \u001b[38;5;129;01min\u001b[39;00m {\u001b[38;5;124m\"\u001b[39m\u001b[38;5;124mcom\u001b[39m\u001b[38;5;124m\"\u001b[39m, \u001b[38;5;124m\"\u001b[39m\u001b[38;5;124morg\u001b[39m\u001b[38;5;124m\"\u001b[39m, \u001b[38;5;124m\"\u001b[39m\u001b[38;5;124mnet\u001b[39m\u001b[38;5;124m\"\u001b[39m}:\n\u001b[0;32m     14\u001b[0m         \u001b[38;5;28mprint\u001b[39m(\u001b[38;5;124m\"\u001b[39m\u001b[38;5;124mUnsupported TLD\u001b[39m\u001b[38;5;124m\"\u001b[39m)\n",
      "\u001b[1;31mAttributeError\u001b[0m: 'list' object has no attribute 'split'"
     ]
    }
   ],
   "source": [
    "# 9. Email Format Quick Check\n",
    "\n",
    "email = str(input(\"Email:\")).strip()\n",
    "\n",
    "if \"@\" not in email:\n",
    "    print(\"Missing @ symbol!\")\n",
    "else:\n",
    "    domain_part = email.split(\"@\",1)\n",
    "    if \".\" not in email:\n",
    "        print(\"Missing domain dot.\")\n",
    "    else:\n",
    "        tld = domain_part.split(\".\")[-1].lower()\n",
    "        if tld not in {\"com\", \"org\", \"net\"}:\n",
    "            print(\"Unsupported TLD\")\n",
    "        else:\n",
    "            print(\"Looks valid\")\n",
    "    \n"
   ]
  },
  {
   "cell_type": "code",
   "execution_count": null,
   "id": "702aa20e-d8c7-440f-989e-b752d8f05e72",
   "metadata": {},
   "outputs": [],
   "source": []
  },
  {
   "cell_type": "code",
   "execution_count": null,
   "id": "22d83714-e10f-4164-821c-8de948015cb3",
   "metadata": {},
   "outputs": [],
   "source": []
  },
  {
   "cell_type": "code",
   "execution_count": null,
   "id": "be25daac-c23a-4e2a-89c5-b8c64a413b65",
   "metadata": {},
   "outputs": [],
   "source": []
  },
  {
   "cell_type": "code",
   "execution_count": null,
   "id": "08886557-828e-49dd-a6e9-8ef824bfb4e2",
   "metadata": {},
   "outputs": [],
   "source": []
  },
  {
   "cell_type": "code",
   "execution_count": null,
   "id": "e8092ba1-5887-40fe-bb9a-82903be4cba4",
   "metadata": {},
   "outputs": [],
   "source": []
  },
  {
   "cell_type": "code",
   "execution_count": null,
   "id": "f2906228-a234-4b58-a46d-8052e0e780b6",
   "metadata": {},
   "outputs": [],
   "source": []
  },
  {
   "cell_type": "code",
   "execution_count": 15,
   "id": "83c7d897-8541-4bc4-9baa-c41cceed9d62",
   "metadata": {},
   "outputs": [
    {
     "name": "stdin",
     "output_type": "stream",
     "text": [
      "Hour (0-23): 1\n"
     ]
    },
    {
     "name": "stdout",
     "output_type": "stream",
     "text": [
      "Good Night!\n"
     ]
    }
   ],
   "source": [
    "# 10. Time-of-day Greeting\n",
    "\n",
    "hour = int(input(\"Hour (0-23):\"))\n",
    "if hour < 0 or hour > 23:\n",
    "    print(\"Invalid time!\")\n",
    "elif 5 <= hour <=11:\n",
    "    print(\"Good Morning!\")\n",
    "elif 12 <= hour <= 16:\n",
    "    print(\"Good afternoon!\")\n",
    "elif 17 <= hour <= 20:\n",
    "    print(\"Good Evening!\")\n",
    "else:\n",
    "    print(\"Good Night!\")"
   ]
  },
  {
   "cell_type": "markdown",
   "id": "204a5fce-33a6-42ca-8282-20ca1772b9b4",
   "metadata": {},
   "source": [
    "**2.2. Nesting if Statements: Layered Decisions**"
   ]
  },
  {
   "cell_type": "markdown",
   "id": "1e844f5b-19f2-4f9b-b061-3d6908438cc7",
   "metadata": {},
   "source": [
    "Concept: Place one conditional inside another to handle complex senarios."
   ]
  },
  {
   "cell_type": "code",
   "execution_count": 6,
   "id": "9fdebbf2-ec70-4885-a761-87b9b10b8ba7",
   "metadata": {},
   "outputs": [
    {
     "name": "stdout",
     "output_type": "stream",
     "text": [
      "Negative odd number.\n"
     ]
    }
   ],
   "source": [
    "# Example \n",
    "num = -29\n",
    "if num < 0:\n",
    "    if num % 2 == 0:\n",
    "        print(\"Negative even number.\")\n",
    "    else:\n",
    "        print(\"Negative odd number.\")\n",
    "else:\n",
    "    print(\"Non-negative number.\")"
   ]
  },
  {
   "cell_type": "code",
   "execution_count": 10,
   "id": "dd3cc008-9a29-454f-9fea-919190012e82",
   "metadata": {},
   "outputs": [
    {
     "name": "stdin",
     "output_type": "stream",
     "text": [
      "Enter a number: -9\n"
     ]
    },
    {
     "name": "stdout",
     "output_type": "stream",
     "text": [
      "Negative odd\n"
     ]
    }
   ],
   "source": [
    "# 1. Number classification (Positive/Negative + Even/odd)\n",
    "\n",
    "n = int(input(\"Enter a number:\"))\n",
    "if n >= 0:\n",
    "    if n % 2 == 0:\n",
    "        print(\"Positive even\")\n",
    "    else:\n",
    "        print(\"Positive odd\")\n",
    "else:\n",
    "    if n % 2 == 0:\n",
    "        print(\"Negative even\")\n",
    "    else:\n",
    "        print(\"Negative odd\")"
   ]
  },
  {
   "cell_type": "code",
   "execution_count": 15,
   "id": "2a382419-047c-4637-893c-d50cccea5eca",
   "metadata": {},
   "outputs": [
    {
     "name": "stdin",
     "output_type": "stream",
     "text": [
      "Username: guest\n",
      "Password: guest\n"
     ]
    },
    {
     "name": "stdout",
     "output_type": "stream",
     "text": [
      "Access granted: Guest mode\n"
     ]
    }
   ],
   "source": [
    "# 2.  Login with role based Access\n",
    "\n",
    "username = input(\"Username:\")\n",
    "password = input(\"Password:\")\n",
    "\n",
    "if username == \"admin\":\n",
    "    if password == \"secure123\":\n",
    "        print(\"Access granted: Admin dashboard\")\n",
    "    else:\n",
    "        print(\"Wrong password for admin.\")\n",
    "else:\n",
    "    if username == \"guest\":\n",
    "        if password == \"guest\":\n",
    "            print(\"Access granted: Guest mode\")\n",
    "        else:\n",
    "            print(\"Access denied wrong password\")\n",
    "    else:\n",
    "        print(\"User name not recognized.\")"
   ]
  },
  {
   "cell_type": "code",
   "execution_count": 26,
   "id": "e007e7df-e352-47e1-bd2e-a65d7602f771",
   "metadata": {},
   "outputs": [
    {
     "name": "stdin",
     "output_type": "stream",
     "text": [
      "Side A: 45\n",
      "Side B: 23543425\n",
      "Side C: 234\n"
     ]
    },
    {
     "name": "stdout",
     "output_type": "stream",
     "text": [
      "Not a valid triangle.\n"
     ]
    }
   ],
   "source": [
    "# 3.  Triangle Type by side\n",
    "\n",
    "a = int(input(\"Side A:\"))\n",
    "b = int(input(\"Side B:\"))\n",
    "c = int(input(\"Side C:\"))\n",
    "\n",
    "if a + b >= c and b + c >= a and c + a >= b and a + b + c == 180:\n",
    "    if a == b and b == c:\n",
    "        print(\"Equilateral Triangle.\")\n",
    "    else:\n",
    "        if 90 in {a,b,c}:\n",
    "            print(\"Right angle triangle\")\n",
    "        elif a == b or b == c or c == a:\n",
    "            print(\"Isosceles Triangle.\")\n",
    "        else:\n",
    "            print(\"Scalene Triangle.\")\n",
    "else:\n",
    "    print(\"Not a valid triangle.\")"
   ]
  },
  {
   "cell_type": "code",
   "execution_count": 3,
   "id": "ecb4107b-018e-42f7-b913-8ea9a13a4d24",
   "metadata": {},
   "outputs": [
    {
     "name": "stdin",
     "output_type": "stream",
     "text": [
      "Marks: 89\n",
      "Attendence % : 89\n"
     ]
    },
    {
     "name": "stdout",
     "output_type": "stream",
     "text": [
      "Distinction\n"
     ]
    }
   ],
   "source": [
    "# 4. Exam results with bonous points\n",
    "\n",
    "marks = int(input(\"Marks:\"))\n",
    "attendence = int(input(\"Attendence % :\"))\n",
    "\n",
    "if marks  >= 35:\n",
    "    if attendence >= 75:\n",
    "        if marks >= 85:\n",
    "            print(\"Distinction\")\n",
    "        else:\n",
    "            print(\"Pass\")\n",
    "    else:\n",
    "        print(\"Pass but low attendence waring.\")\n",
    "else:\n",
    "    if attendence >= 90:\n",
    "        print(\"Fail but eligible for re-test due to high attendence.\")\n",
    "    else:\n",
    "        print(\"Fail\")"
   ]
  },
  {
   "cell_type": "code",
   "execution_count": 8,
   "id": "bb0d6bd7-99a6-4cf9-975a-1ee4f188f44d",
   "metadata": {},
   "outputs": [
    {
     "name": "stdin",
     "output_type": "stream",
     "text": [
      "Marks: 89\n",
      "Attendence %: 23\n"
     ]
    },
    {
     "name": "stdout",
     "output_type": "stream",
     "text": [
      "Pass but attendence warning!\n"
     ]
    }
   ],
   "source": [
    "# Same question by elif \n",
    "\n",
    "marks = int(input(\"Marks:\"))\n",
    "attendence = int(input(\"Attendence %:\"))\n",
    "\n",
    "if marks >= 85 and attendence >= 75:\n",
    "    print(\"Distinction\")\n",
    "elif marks < 35 and attendence < 75:\n",
    "    print(\"Fail\")\n",
    "elif 35 < marks < 85:\n",
    "    print(\"Pass\")\n",
    "elif marks >= 35 and attendence < 75:\n",
    "    print(\"Pass but attendence warning!\")\n",
    "elif attendence >= 90 and marks <35:\n",
    "    print(\"Fail but eligible for re-test due to high attendence.\")\n"
   ]
  },
  {
   "cell_type": "code",
   "execution_count": 13,
   "id": "1c79768c-3884-42d2-9bc4-2f2849a1d821",
   "metadata": {},
   "outputs": [
    {
     "name": "stdin",
     "output_type": "stream",
     "text": [
      "Enter withdrawal amount: 5001\n"
     ]
    },
    {
     "name": "stdout",
     "output_type": "stream",
     "text": [
      "Insufficient balance!\n"
     ]
    }
   ],
   "source": [
    "# 5. ATM withdrawal check\n",
    "\n",
    "balance = 5000\n",
    "amount = int(input(\"Enter withdrawal amount:\"))\n",
    "if amount <= balance:\n",
    "    if amount % 100 == 0:\n",
    "        if amount <= 2000:\n",
    "            print(\"Withdrawal Approval!\")\n",
    "        else:\n",
    "            print(\"Exceeds single transaction limit.\")\n",
    "    else:\n",
    "        print(\"Amount must be multiple of 100!\")  \n",
    "else:\n",
    "    print(\"Insufficient balance!\")"
   ]
  },
  {
   "cell_type": "code",
   "execution_count": 39,
   "id": "f88e852a-778d-480e-b1bf-e79190c8defc",
   "metadata": {},
   "outputs": [
    {
     "name": "stdin",
     "output_type": "stream",
     "text": [
      "Enter the amount: 700\n"
     ]
    },
    {
     "name": "stdout",
     "output_type": "stream",
     "text": [
      "Withdrawal Approval!\n"
     ]
    }
   ],
   "source": [
    "# Same question by elif\n",
    "\n",
    "balance = 5000\n",
    "amount = int(input(\"Enter the amount:\"))\n",
    "if amount >= balance:\n",
    "    print(\"Insufficiant balance!\")\n",
    "elif amount % 100 != 0:\n",
    "    print(\"Amount must be multiple of 100!\")\n",
    "elif amount > 2000:\n",
    "    print(\"Exceds single transaction limit!\")\n",
    "elif amount >= balance:\n",
    "    print(\"Insufficiant balance!\")\n",
    "else:\n",
    "    print(\"Withdrawal Approval!\")"
   ]
  },
  {
   "cell_type": "code",
   "execution_count": 41,
   "id": "e0090fd3-16a4-4f79-9d0c-e4fbd94f764a",
   "metadata": {},
   "outputs": [
    {
     "name": "stdin",
     "output_type": "stream",
     "text": [
      "Temperature in C: 45\n",
      "Is it raining (yes/no):  no\n"
     ]
    },
    {
     "name": "stdout",
     "output_type": "stream",
     "text": [
      "Light clothes , enjoy your day.\n"
     ]
    }
   ],
   "source": [
    "# 6. Weather based outfit suggestion\n",
    "\n",
    "temp = int(input(\"Temperature in C:\"))\n",
    "rain = input(\"Is it raining (yes/no): \").lower()\n",
    "\n",
    "if temp < 15:\n",
    "    if rain == \"yes\":\n",
    "        print(\"Wear a warm coat and carry umbrella\")\n",
    "    else:\n",
    "        print(\"Wear a warm coat.\")\n",
    "else:\n",
    "    if rain == \"yes\":\n",
    "        print(\"Light clothes with umbrella.\")\n",
    "    else:\n",
    "        print(\"Light clothes , enjoy your day.\")"
   ]
  },
  {
   "cell_type": "code",
   "execution_count": 44,
   "id": "9a2a6006-1cbe-4d9c-a9f1-1cf981be1867",
   "metadata": {},
   "outputs": [
    {
     "name": "stdin",
     "output_type": "stream",
     "text": [
      "Enter the age: 12\n"
     ]
    },
    {
     "name": "stdout",
     "output_type": "stream",
     "text": [
      "You're underage for driving.\n"
     ]
    }
   ],
   "source": [
    "# 7. Age and license Eligibility \n",
    "\n",
    "age = int(input(\"Enter the age:\"))\n",
    "\n",
    "if age >= 18:\n",
    "    has_license = input(\"Do you have a vaild driving license? (yes/no):\").lower()\n",
    "    if  has_license == \"ues\":\n",
    "        print(\"You're allow to drive.\")\n",
    "    else:\n",
    "        print(\"You need a valid driving license.\")\n",
    "else:\n",
    "    print(\"You're underage for driving.\")\n"
   ]
  },
  {
   "cell_type": "code",
   "execution_count": 5,
   "id": "cad788ab-579a-4db7-abb4-9fa2dfd6473b",
   "metadata": {},
   "outputs": [
    {
     "name": "stdin",
     "output_type": "stream",
     "text": [
      "Marks:  90\n",
      "Attendence % : 75\n",
      "Any extra curricular achiments? (yes/no): yes\n"
     ]
    },
    {
     "name": "stdout",
     "output_type": "stream",
     "text": [
      "Scholarship awarded!\n"
     ]
    }
   ],
   "source": [
    "# 8. Marks , Attendence and Scholarship Check\n",
    "\n",
    "marks = int(input(\"Marks: \"))\n",
    "attendence = int(input(\"Attendence % :\"))\n",
    "\n",
    "if marks >= 60:\n",
    "    if attendence >= 75:\n",
    "        extra_curricular = input(\"Any extra curricular achiments? (yes/no):\").lower()\n",
    "        if extra_curricular == \"yes\":\n",
    "            print(\"Scholarship awarded!\")\n",
    "        else:\n",
    "            print(\"Good performance but no scholarship.\")\n",
    "    else:\n",
    "        print(\"Not Eligible for scholarship due to low attendence.\")\n",
    "else:\n",
    "    print(\"Marks too low for scholarship consideration.\")"
   ]
  },
  {
   "cell_type": "code",
   "execution_count": 7,
   "id": "9cbba67f-ebee-45ec-b763-78d0a52cad31",
   "metadata": {},
   "outputs": [
    {
     "name": "stdin",
     "output_type": "stream",
     "text": [
      "Monthly income: 56000\n",
      "Credit score: 67890\n"
     ]
    },
    {
     "name": "stdout",
     "output_type": "stream",
     "text": [
      "Loan approved with best interest rate.\n"
     ]
    }
   ],
   "source": [
    "# 9. Book loan Approval\n",
    "\n",
    "income = float(input(\"Monthly income:\"))\n",
    "credit_score = int(input(\"Credit score:\"))\n",
    "\n",
    "if income >= 30000:\n",
    "    if credit_score >= 750:\n",
    "        print(\"Loan approved with best interest rate.\")\n",
    "    else:\n",
    "        if credit_score >= 650:\n",
    "            print(\"Loan approved with standard interest rate.\")\n",
    "        else:\n",
    "            print(\"Loan denied: low credit score.\")\n",
    "else:\n",
    "    print(\"Loan denied; insufficient income.\")"
   ]
  },
  {
   "cell_type": "code",
   "execution_count": 12,
   "id": "366ab39c-b657-415a-833c-fea5ce0819b2",
   "metadata": {},
   "outputs": [
    {
     "name": "stdin",
     "output_type": "stream",
     "text": [
      "Marks: 45\n"
     ]
    },
    {
     "name": "stdout",
     "output_type": "stream",
     "text": [
      "Fail\n",
      "Eligible for retake.\n"
     ]
    }
   ],
   "source": [
    "# 10. Exam grading with retake option\n",
    "\n",
    "marks = int(input(\"Marks:\"))\n",
    "\n",
    "if marks >= 50:\n",
    "    print(\"Pass\")\n",
    "    if marks >= 85:\n",
    "        print(\"Grade A\")\n",
    "    elif marks >= 70:\n",
    "        print(\"Grade B\")\n",
    "    else:\n",
    "        print(\"Grade C\")\n",
    "else:\n",
    "    print(\"Fail\")\n",
    "    if marks >= 40:\n",
    "        print(\"Eligible for retake.\")\n",
    "    else:\n",
    "        print(\"Repeat course.\")"
   ]
  },
  {
   "cell_type": "markdown",
   "id": "746bdc01-da92-4efe-83ce-6164969bf3f0",
   "metadata": {},
   "source": [
    "**EXERCISE nested if-else**"
   ]
  },
  {
   "cell_type": "code",
   "execution_count": 23,
   "id": "bf545260-ba56-4751-b1ed-70255f035ea5",
   "metadata": {},
   "outputs": [
    {
     "name": "stdin",
     "output_type": "stream",
     "text": [
      "Total bill amount: 678\n",
      "Membership (yes/no): no\n"
     ]
    },
    {
     "name": "stdout",
     "output_type": "stream",
     "text": [
      "Join our membership to get discounts.\n"
     ]
    }
   ],
   "source": [
    "# 1. Grocery Discount Eligibility\n",
    "\n",
    "bill = int(input(\"Total bill amount:\"))\n",
    "membership = input(\"Membership (yes/no):\")\n",
    "\n",
    "if bill > 500:\n",
    "    if membership == \"yes\":\n",
    "        print(\"Discount applid.\")\n",
    "    else:\n",
    "        print(\"Join our membership to get discounts.\")\n",
    "else:\n",
    "    if bill <= 500:\n",
    "        print(\"No discount available.\")"
   ]
  },
  {
   "cell_type": "code",
   "execution_count": 31,
   "id": "e1beda4b-4d62-4688-b913-c1f3516da56b",
   "metadata": {},
   "outputs": [
    {
     "name": "stdin",
     "output_type": "stream",
     "text": [
      "Age: 11\n",
      "Attend Practice 4 days in a week (yes/no): yes\n"
     ]
    },
    {
     "name": "stdout",
     "output_type": "stream",
     "text": [
      "Selected for team.\n"
     ]
    }
   ],
   "source": [
    "# 2. Students Sports team selection\n",
    "\n",
    "age = int(input(\"Age:\"))\n",
    "\n",
    "if age < 18 and age > 10:\n",
    "    days = input(\"Attend Practice 4 days in a week (yes/no):\")\n",
    "    if days == \"yes\":\n",
    "        print(\"Selected for team.\")\n",
    "    else:\n",
    "        print(\"Not enough practice commitment.\")\n",
    "else:\n",
    "    print(\"Not eligible for this age group.\")"
   ]
  },
  {
   "cell_type": "code",
   "execution_count": 42,
   "id": "22cf0727-acee-4aef-8a20-cb4c04fb7afa",
   "metadata": {},
   "outputs": [
    {
     "name": "stdin",
     "output_type": "stream",
     "text": [
      "Enter the data use monthly (GB): 3\n",
      "Is more than 100 calls per month (yes/no): yes\n"
     ]
    },
    {
     "name": "stdout",
     "output_type": "stream",
     "text": [
      "Plan B\n"
     ]
    }
   ],
   "source": [
    "# 3. Mobile Data Plan Suggesion\n",
    "\n",
    "use = int(input(\"Enter the data use monthly (GB):\"))\n",
    "if use <= 5:\n",
    "    calls = input(\"Is more than 100 calls per month (yes/no):\")\n",
    "    if calls == \"yes\":\n",
    "        print(\"Plan B\")\n",
    "    else:\n",
    "        print(\"Plan A\")\n",
    "else:\n",
    "    if use <= 20:\n",
    "        print(\"Plan C\")\n",
    "    else:\n",
    "        print(\"Plan D\")"
   ]
  },
  {
   "cell_type": "code",
   "execution_count": 46,
   "id": "d4f0780f-e835-4dfd-8fbf-1ae0d9b73a7a",
   "metadata": {},
   "outputs": [
    {
     "name": "stdin",
     "output_type": "stream",
     "text": [
      "Number of guests: 45\n",
      "Wants extra beds (yes/no): yes\n"
     ]
    },
    {
     "name": "stdout",
     "output_type": "stream",
     "text": [
      "Large room with extra beds booked.\n"
     ]
    }
   ],
   "source": [
    "# 4.  Hotel Room Booking\n",
    "\n",
    "guests = int(input(\"Number of guests:\"))\n",
    "if guests == 1 or guests == 2:\n",
    "    ac = input(\"AC (yes/no):\")\n",
    "    if ac == \"yes\":\n",
    "        print(\"Booked AC room for small group.\")\n",
    "    else:\n",
    "        print(\"Booked Non-AC room for small group.\")\n",
    "else:\n",
    "    if guests >= 3:\n",
    "        beds = input(\"Wants extra beds (yes/no):\")\n",
    "        if beds == \"yes\":\n",
    "            print(\"Large room with extra beds booked.\")\n",
    "        else:\n",
    "            print(\"Large room booked.\")"
   ]
  },
  {
   "cell_type": "code",
   "execution_count": 21,
   "id": "21bcf40b-ebfd-4321-8508-ea24da152dfe",
   "metadata": {},
   "outputs": [
    {
     "name": "stdin",
     "output_type": "stream",
     "text": [
      "Have entry ticket (yes/no): no\n",
      "VIP pass? (yes/no): no\n"
     ]
    },
    {
     "name": "stdout",
     "output_type": "stream",
     "text": [
      "No Entry!\n"
     ]
    }
   ],
   "source": [
    "# 5. Event Entry Rules\n",
    "\n",
    "ticket = input(\"Have entry ticket (yes/no):\")\n",
    "\n",
    "if ticket == \"yes\":\n",
    "    ID = input(\"ID proof (yes/no):\")\n",
    "    if ID == \"yes\":\n",
    "        print(\"Entry granted!\")\n",
    "    else:\n",
    "        print(\"No entry without ID.\")\n",
    "else:\n",
    "    vip = input(\"VIP pass? (yes/no):\")\n",
    "    if vip == \"yes\":\n",
    "        print(\"Entry granted via VIP pass.\")\n",
    "    else:\n",
    "        print(\"No Entry!\")"
   ]
  },
  {
   "cell_type": "code",
   "execution_count": 26,
   "id": "93d2b081-adeb-4b00-87a9-8d2b1097d0fb",
   "metadata": {},
   "outputs": [
    {
     "name": "stdin",
     "output_type": "stream",
     "text": [
      "Temperature in C: 12\n",
      "Windy weather (yes/no): no\n"
     ]
    },
    {
     "name": "stdout",
     "output_type": "stream",
     "text": [
      "Light outdoor acticity.\n"
     ]
    }
   ],
   "source": [
    "# 6. Weather Activity Suggestion\n",
    "\n",
    "temp = int(input(\"Temperature in C:\"))\n",
    "\n",
    "if 20 <= temp and temp <= 30:\n",
    "    rain = input(\"Is it raining (yes/no):\")\n",
    "    if rain == \"yes\":\n",
    "        print(\"Indoor games suggested.\")\n",
    "    else:\n",
    "        print(\"Go for outdoor sports.\")\n",
    "else:\n",
    "    if temp < 20:\n",
    "        windy = input(\"Windy weather (yes/no):\")\n",
    "        if windy == \"yes\":\n",
    "            print(\"Stay Indoor.\")\n",
    "        else:\n",
    "            print(\"Light outdoor acticity.\")\n",
    "    else:\n",
    "        if temp > 30:\n",
    "            print(\"Stay hydrated and avoid heavy outdoor activities!\")"
   ]
  },
  {
   "cell_type": "code",
   "execution_count": 37,
   "id": "44eb04c1-93df-414c-afa7-d735c7226ef3",
   "metadata": {},
   "outputs": [
    {
     "name": "stdin",
     "output_type": "stream",
     "text": [
      "Qualification (highschool/graduate): highschool\n",
      "Taking prerequisite course (yes/no): yes\n"
     ]
    },
    {
     "name": "stdout",
     "output_type": "stream",
     "text": [
      "Enrolled!\n"
     ]
    }
   ],
   "source": [
    "# 7. Course Enrollment Criteria\n",
    "\n",
    "qualification = input(\"Qualification (highschool/graduate):\").strip().lower()\n",
    "\n",
    "if qualification == \"highschool\":\n",
    "    course = input(\"Taking prerequisite course (yes/no):\").strip().lower()\n",
    "    if course == \"yes\":\n",
    "        print(\"Enrolled!\")\n",
    "    else:\n",
    "        print(\"Prerequisite course required!\")\n",
    "else:\n",
    "    if qualification == \"graduate\":\n",
    "        work = input(\"Have relevant work (yes/no):\").strip().lower()\n",
    "        if work == \"yes\":\n",
    "            print(\"Direct admission granted.\")\n",
    "        else:\n",
    "            print(\"Interview required.\")\n",
    "    else:\n",
    "        print(\"Unknown qualification!\")"
   ]
  },
  {
   "cell_type": "code",
   "execution_count": 35,
   "id": "0d704d02-918b-42cc-9b6c-aa1a92af3403",
   "metadata": {},
   "outputs": [
    {
     "name": "stdin",
     "output_type": "stream",
     "text": [
      "Know code (yes/no): yes\n",
      "Approval of manager (yes/no): yes\n",
      "Approval date within the last 7 days? (yes/no): yes\n"
     ]
    },
    {
     "name": "stdout",
     "output_type": "stream",
     "text": [
      "Access granted!\n"
     ]
    }
   ],
   "source": [
    "# 8. Multi-Layer Security Check\n",
    "\n",
    "code = input(\"Know code (yes/no):\")\n",
    "\n",
    "if code == \"yes\":\n",
    "    approval = input(\"Approval of manager (yes/no):\")\n",
    "    if approval == \"yes\":\n",
    "        a_date = input(\"Approval date within the last 7 days? (yes/no):\")\n",
    "        if a_date == \"yes\":\n",
    "            print(\"Access granted!\")\n",
    "        else:\n",
    "            print(\"Approval expired!\")\n",
    "    else:\n",
    "        print(\"Manager approval required!\")\n",
    "else:\n",
    "    print(\"Security code required!\")"
   ]
  },
  {
   "cell_type": "code",
   "execution_count": 46,
   "id": "16ca2414-727b-44fc-ae95-e410ada21884",
   "metadata": {},
   "outputs": [
    {
     "name": "stdin",
     "output_type": "stream",
     "text": [
      "Ticket (yes/no): yes\n",
      "Completed web check (yes/no): no\n",
      "At least 2 hours before departure (yes/no): yes\n"
     ]
    },
    {
     "name": "stdout",
     "output_type": "stream",
     "text": [
      "Proceed to check-in counter.\n"
     ]
    }
   ],
   "source": [
    "# 9. Flight Check-In Eligibility\n",
    "\n",
    "ticket = input(\"Ticket (yes/no):\")\n",
    "if ticket == \"yes\":\n",
    "    web_check = input(\"Completed web check (yes/no):\").strip().lower()\n",
    "    if web_check == \"yes\":\n",
    "        print(\"Proceed to baggage drop!\")\n",
    "    else:\n",
    "        hour = input(\"At least 2 hours before departure (yes/no):\").strip().lower()\n",
    "        if hour == \"yes\":\n",
    "            print(\"Proceed to check-in counter.\")\n",
    "        else:\n",
    "            print(\"Check-in closed.\")\n",
    "else:\n",
    "    print(\"No entry ticket requried!\")"
   ]
  },
  {
   "cell_type": "code",
   "execution_count": 49,
   "id": "6da599c6-7626-4c82-b90d-fa0610e269aa",
   "metadata": {},
   "outputs": [
    {
     "name": "stdin",
     "output_type": "stream",
     "text": [
      "Student registered (yes/no): yes\n",
      "Paid exam fee (yes/no): yes\n",
      "Working webcam (yes/no): no\n"
     ]
    },
    {
     "name": "stdout",
     "output_type": "stream",
     "text": [
      "Webcam required for protored exam!\n"
     ]
    }
   ],
   "source": [
    "# 10. Online Exam Access\n",
    "\n",
    "reg = input(\"Student registered (yes/no):\").strip().lower()\n",
    "if reg == \"yes\":\n",
    "    fee = input(\"Paid exam fee (yes/no):\").strip().lower()\n",
    "    if fee == \"yes\":\n",
    "        webcam = input(\"Working webcam (yes/no):\").strip().lower()\n",
    "        if webcam == \"yes\":\n",
    "            print(\"Exam portal access granted!\")\n",
    "        else:\n",
    "            print(\"Webcam required for protored exam!\")\n",
    "    else:\n",
    "        print(\"Fee payment required!\")\n",
    "else:\n",
    "    print(\"You must register first!\")"
   ]
  },
  {
   "cell_type": "code",
   "execution_count": null,
   "id": "7523e0d0-5f2b-4bfa-82bd-fb0bab6ba3d3",
   "metadata": {},
   "outputs": [],
   "source": []
  },
  {
   "cell_type": "code",
   "execution_count": null,
   "id": "78fd9b64-6332-4d19-8f26-223635419fd9",
   "metadata": {},
   "outputs": [],
   "source": []
  },
  {
   "cell_type": "code",
   "execution_count": null,
   "id": "965285c6-7011-40a6-a783-0f6878abef4b",
   "metadata": {},
   "outputs": [],
   "source": []
  }
 ],
 "metadata": {
  "kernelspec": {
   "display_name": "Python 3 (ipykernel)",
   "language": "python",
   "name": "python3"
  },
  "language_info": {
   "codemirror_mode": {
    "name": "ipython",
    "version": 3
   },
   "file_extension": ".py",
   "mimetype": "text/x-python",
   "name": "python",
   "nbconvert_exporter": "python",
   "pygments_lexer": "ipython3",
   "version": "3.13.5"
  }
 },
 "nbformat": 4,
 "nbformat_minor": 5
}
