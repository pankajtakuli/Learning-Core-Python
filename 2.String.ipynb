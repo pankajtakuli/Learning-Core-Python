{
 "cells": [
  {
   "cell_type": "markdown",
   "id": "be21c96d-7284-4e9e-98a5-0aeb573cee97",
   "metadata": {},
   "source": [
    "<font size = \"6\">**2. STRING OPERATIONS**"
   ]
  },
  {
   "cell_type": "markdown",
   "id": "5a8dc8a8-c51a-410f-9dd1-d4e17d02d2f5",
   "metadata": {},
   "source": [
    "- String Methods and function\n",
    "- Concatenation of String"
   ]
  },
  {
   "cell_type": "markdown",
   "id": "d353bc0c-14bb-4c86-ba6b-e3b3baa071ae",
   "metadata": {},
   "source": [
    "<font size = \"5\">**2.1. CONCATENATION OF STRINGS**"
   ]
  },
  {
   "cell_type": "markdown",
   "id": "fa90ec9e-29c5-4dfb-90f4-348af171a48c",
   "metadata": {},
   "source": [
    "- METHODS"
   ]
  },
  {
   "cell_type": "markdown",
   "id": "1c5a1a50-7252-4ca0-85c2-25d20973aa36",
   "metadata": {},
   "source": [
    "**2.1.1 string.upper(): Converts the string into upper case**"
   ]
  },
  {
   "cell_type": "code",
   "execution_count": 3,
   "id": "10ab726f-c3de-4e91-a18f-8fd0f41f8e6e",
   "metadata": {},
   "outputs": [],
   "source": [
    "book_name = \"Discovery of India\""
   ]
  },
  {
   "cell_type": "code",
   "execution_count": 11,
   "id": "f85d8d18-3dcf-484a-9551-6d6e7d1b3ea0",
   "metadata": {},
   "outputs": [
    {
     "name": "stdout",
     "output_type": "stream",
     "text": [
      "Discovery of India\n"
     ]
    }
   ],
   "source": [
    "print(book_name)"
   ]
  },
  {
   "cell_type": "code",
   "execution_count": 4,
   "id": "ffd3ff6d-aac2-4297-8e76-19ac05341e2e",
   "metadata": {},
   "outputs": [
    {
     "name": "stdout",
     "output_type": "stream",
     "text": [
      "DISCOVERY OF INDIA\n"
     ]
    }
   ],
   "source": [
    "print(book_name.upper())"
   ]
  },
  {
   "cell_type": "code",
   "execution_count": 9,
   "id": "2bbf1a7f-e97d-480c-b832-733a1906e4f9",
   "metadata": {},
   "outputs": [
    {
     "name": "stdout",
     "output_type": "stream",
     "text": [
      "Discovery of India\n"
     ]
    }
   ],
   "source": [
    "print(book_name) # book_name reamains unchanged"
   ]
  },
  {
   "cell_type": "code",
   "execution_count": 14,
   "id": "99be9f1f-9921-4558-8669-3efdd632241e",
   "metadata": {},
   "outputs": [
    {
     "name": "stdout",
     "output_type": "stream",
     "text": [
      "DISCOVERY OF INDIA\n",
      "Discovery of India\n"
     ]
    }
   ],
   "source": [
    "caps_book_name = book_name.upper() # Assigning the book_name is upper-case to a new varaible caps_book_name\n",
    "print(caps_book_name)\n",
    "print(book_name)"
   ]
  },
  {
   "cell_type": "code",
   "execution_count": 18,
   "id": "098276b0-f5ff-4c27-936c-ef17125df017",
   "metadata": {},
   "outputs": [
    {
     "name": "stdout",
     "output_type": "stream",
     "text": [
      "DISCOVERY OF INDIA\n"
     ]
    }
   ],
   "source": [
    "# Changing the varaible book_name by ressignment\n",
    "book_name = book_name.upper()\n",
    "print(book_name)"
   ]
  },
  {
   "cell_type": "markdown",
   "id": "df3cbd33-9eb7-44e4-86b0-cc6738c64e65",
   "metadata": {},
   "source": [
    "**2.1.2. string.lower(): Converts a string into lower case**"
   ]
  },
  {
   "cell_type": "code",
   "execution_count": 21,
   "id": "66939159-94ea-4d8d-9059-4337645a67db",
   "metadata": {},
   "outputs": [],
   "source": [
    "book_name = \"Discovery of India\""
   ]
  },
  {
   "cell_type": "code",
   "execution_count": 22,
   "id": "38fae41f-d3d8-47d8-8a88-a06fbb00a065",
   "metadata": {},
   "outputs": [
    {
     "name": "stdout",
     "output_type": "stream",
     "text": [
      "Discovery of India\n"
     ]
    }
   ],
   "source": [
    "print(book_name)"
   ]
  },
  {
   "cell_type": "code",
   "execution_count": 23,
   "id": "b6e65117-8382-4635-a8f9-7e175bf4168a",
   "metadata": {},
   "outputs": [
    {
     "name": "stdout",
     "output_type": "stream",
     "text": [
      "discovery of india\n"
     ]
    }
   ],
   "source": [
    "print(book_name.lower())"
   ]
  },
  {
   "cell_type": "code",
   "execution_count": 25,
   "id": "4b21a6af-0ac1-402e-ac77-7713725d3302",
   "metadata": {},
   "outputs": [
    {
     "name": "stdout",
     "output_type": "stream",
     "text": [
      "Discovery of India\n"
     ]
    }
   ],
   "source": [
    "print(book_name) # book_name remains unchanged"
   ]
  },
  {
   "cell_type": "code",
   "execution_count": 27,
   "id": "990d7f43-fa98-419a-bec0-d106aca87001",
   "metadata": {},
   "outputs": [],
   "source": [
    "low_book_name = book_name.lower() # Assigning the book_name is lower-case to a new variable low_book_name"
   ]
  },
  {
   "cell_type": "code",
   "execution_count": 28,
   "id": "c302b951-70f3-4991-b4ce-6e4c3f5c0e71",
   "metadata": {},
   "outputs": [
    {
     "name": "stdout",
     "output_type": "stream",
     "text": [
      "discovery of india\n"
     ]
    }
   ],
   "source": [
    "print(low_book_name)"
   ]
  },
  {
   "cell_type": "code",
   "execution_count": 29,
   "id": "56a6d2fc-df01-42fc-9635-559bb23d9ea8",
   "metadata": {},
   "outputs": [
    {
     "name": "stdout",
     "output_type": "stream",
     "text": [
      "Discovery of India\n"
     ]
    }
   ],
   "source": [
    "print(book_name)"
   ]
  },
  {
   "cell_type": "code",
   "execution_count": 32,
   "id": "62f592a0-54fa-41bb-8770-a5733b17fc64",
   "metadata": {},
   "outputs": [],
   "source": [
    "# Changing the variables book_name to lower-case by reassigment\n",
    "book_name = book_name.lower()"
   ]
  },
  {
   "cell_type": "code",
   "execution_count": 33,
   "id": "7a963cf8-71c6-4793-b288-780634e20b7d",
   "metadata": {},
   "outputs": [
    {
     "name": "stdout",
     "output_type": "stream",
     "text": [
      "discovery of india\n"
     ]
    }
   ],
   "source": [
    "print(book_name)"
   ]
  },
  {
   "cell_type": "markdown",
   "id": "1e208ff2-95dc-40cf-a24c-cb88a0ab4214",
   "metadata": {},
   "source": [
    "**2.1.3. string.replace(value1 , value2): Returs a string where value1 is replaced with value2**"
   ]
  },
  {
   "cell_type": "code",
   "execution_count": 12,
   "id": "bb50b3c5-f229-443e-8cf4-1af7647ff08b",
   "metadata": {},
   "outputs": [],
   "source": [
    "book_name = \"The Killing Floor\""
   ]
  },
  {
   "cell_type": "code",
   "execution_count": 13,
   "id": "acbb896c-7597-4b67-accc-e91149c40e6b",
   "metadata": {},
   "outputs": [
    {
     "data": {
      "text/plain": [
       "'The K$ll$ng Floor'"
      ]
     },
     "execution_count": 13,
     "metadata": {},
     "output_type": "execute_result"
    }
   ],
   "source": [
    "book_name.replace(\"i\",\"$\")"
   ]
  },
  {
   "cell_type": "code",
   "execution_count": 36,
   "id": "657b8a7f-2a6a-4e6e-963e-7ec4787dfb2c",
   "metadata": {},
   "outputs": [
    {
     "name": "stdout",
     "output_type": "stream",
     "text": [
      "The Killing Floor\n"
     ]
    }
   ],
   "source": [
    "print(book_name)"
   ]
  },
  {
   "cell_type": "code",
   "execution_count": 14,
   "id": "87e77c67-6921-4715-8703-19ea0aa5465a",
   "metadata": {},
   "outputs": [],
   "source": [
    "book_name = book_name.replace(\"o\",\"@\")"
   ]
  },
  {
   "cell_type": "code",
   "execution_count": 15,
   "id": "7cd9538d-86e4-46b1-9d73-59fb2e463c6b",
   "metadata": {},
   "outputs": [
    {
     "name": "stdout",
     "output_type": "stream",
     "text": [
      "The Killing Fl@@r\n"
     ]
    }
   ],
   "source": [
    "print(book_name)"
   ]
  },
  {
   "cell_type": "code",
   "execution_count": 41,
   "id": "c186ec28-fdc6-436d-81a5-e912fc5def02",
   "metadata": {},
   "outputs": [],
   "source": [
    "# Replacing more than one character in a string"
   ]
  },
  {
   "cell_type": "code",
   "execution_count": 42,
   "id": "58bd8867-a4ed-44fb-bcba-3c2093303e26",
   "metadata": {},
   "outputs": [
    {
     "data": {
      "text/plain": [
       "'java is easy . java is general purpose'"
      ]
     },
     "execution_count": 42,
     "metadata": {},
     "output_type": "execute_result"
    }
   ],
   "source": [
    "lines = \"python is easy . python is general purpose\"\n",
    "lines.replace(\"python\",\"java\")"
   ]
  },
  {
   "cell_type": "code",
   "execution_count": 43,
   "id": "c58aeae2-3e48-471d-b0be-a1e7b87b92c1",
   "metadata": {},
   "outputs": [
    {
     "name": "stdout",
     "output_type": "stream",
     "text": [
      "python is easy . python is general purpose\n"
     ]
    }
   ],
   "source": [
    "print(lines) # Lines remains unchagned"
   ]
  },
  {
   "cell_type": "code",
   "execution_count": 45,
   "id": "097d0324-4961-44a9-81e9-9106b600e378",
   "metadata": {},
   "outputs": [],
   "source": [
    "lines = lines.replace(\"python\", \"java\")"
   ]
  },
  {
   "cell_type": "code",
   "execution_count": 46,
   "id": "f779ac49-b67c-4152-9de2-f34e7e103e08",
   "metadata": {},
   "outputs": [
    {
     "name": "stdout",
     "output_type": "stream",
     "text": [
      "java is easy . java is general purpose\n"
     ]
    }
   ],
   "source": [
    "print(lines)"
   ]
  },
  {
   "cell_type": "markdown",
   "id": "56a141d1-60d7-4a97-b6d3-e74c7e4d64c3",
   "metadata": {},
   "source": [
    "**2.1.4 string.count(value): Returns the number of times a specified value occurs in a string**"
   ]
  },
  {
   "cell_type": "code",
   "execution_count": 2,
   "id": "d8d9aa14-6795-43f7-b03b-12e25cd061a2",
   "metadata": {},
   "outputs": [
    {
     "name": "stdout",
     "output_type": "stream",
     "text": [
      "2\n"
     ]
    }
   ],
   "source": [
    "# string.count()\n",
    "district = \"Nainital\"\n",
    "print(district.count(\"i\")) # Counts the number of times \"i\" occurs in the string \"Nainital\""
   ]
  },
  {
   "cell_type": "code",
   "execution_count": 4,
   "id": "c3e55f03-9a62-40df-a543-0e1854e66ffb",
   "metadata": {},
   "outputs": [
    {
     "data": {
      "text/plain": [
       "2"
      ]
     },
     "execution_count": 4,
     "metadata": {},
     "output_type": "execute_result"
    }
   ],
   "source": [
    "haldwani_info = \"Haldwani is called the Gateway to Kumaon. Haldwani is a global AI & Robotics Hub.\"\n",
    "haldwani_info.count(\"Haldwani\")"
   ]
  },
  {
   "cell_type": "code",
   "execution_count": 5,
   "id": "5da8728c-32d7-4bf2-95fc-1cfec7c581ab",
   "metadata": {},
   "outputs": [
    {
     "data": {
      "text/plain": [
       "2"
      ]
     },
     "execution_count": 5,
     "metadata": {},
     "output_type": "execute_result"
    }
   ],
   "source": [
    "haldwani_info.count(\"is\")"
   ]
  },
  {
   "cell_type": "code",
   "execution_count": 6,
   "id": "277fa8b0-e6f3-4d45-be51-e8a6a6c6cbc2",
   "metadata": {},
   "outputs": [
    {
     "data": {
      "text/plain": [
       "10"
      ]
     },
     "execution_count": 6,
     "metadata": {},
     "output_type": "execute_result"
    }
   ],
   "source": [
    "haldwani_info.count(\"a\")"
   ]
  },
  {
   "cell_type": "code",
   "execution_count": 7,
   "id": "7076d99c-0fa3-426c-95cd-cab0c59a0b10",
   "metadata": {},
   "outputs": [
    {
     "data": {
      "text/plain": [
       "0"
      ]
     },
     "execution_count": 7,
     "metadata": {},
     "output_type": "execute_result"
    }
   ],
   "source": [
    "haldwani_info.count(\"Uttarakhand\")"
   ]
  },
  {
   "cell_type": "markdown",
   "id": "807e2522-8617-42d7-a321-2fa172f1eb01",
   "metadata": {},
   "source": [
    "**2.1.5.string.endswith(value): Returns True if the string ends with the specified value**"
   ]
  },
  {
   "cell_type": "code",
   "execution_count": 14,
   "id": "5eb68897-97b2-4f56-8449-57ad6c20780b",
   "metadata": {},
   "outputs": [
    {
     "data": {
      "text/plain": [
       "True"
      ]
     },
     "execution_count": 14,
     "metadata": {},
     "output_type": "execute_result"
    }
   ],
   "source": [
    "# string.endswith()\n",
    "x = \"Hello World\"\n",
    "x.endswith(\"World\")"
   ]
  },
  {
   "cell_type": "code",
   "execution_count": 15,
   "id": "839bff98-7b86-4443-ae28-da93da3efa88",
   "metadata": {},
   "outputs": [
    {
     "data": {
      "text/plain": [
       "True"
      ]
     },
     "execution_count": 15,
     "metadata": {},
     "output_type": "execute_result"
    }
   ],
   "source": [
    "x.endswith(\"d\")"
   ]
  },
  {
   "cell_type": "code",
   "execution_count": 19,
   "id": "c5fc72c3-fdfd-4a6c-b3c6-672006f830f2",
   "metadata": {},
   "outputs": [
    {
     "data": {
      "text/plain": [
       "False"
      ]
     },
     "execution_count": 19,
     "metadata": {},
     "output_type": "execute_result"
    }
   ],
   "source": [
    "x.endswith(\"world\")"
   ]
  },
  {
   "cell_type": "markdown",
   "id": "fea9aad6-c833-4189-b1db-ef9759553871",
   "metadata": {},
   "source": [
    "**2.1.6.string.startswith(value): Returns True if the string starts with the specified value**"
   ]
  },
  {
   "cell_type": "code",
   "execution_count": 26,
   "id": "eedacb24-fbea-43f6-ba0e-d73d667a3b5a",
   "metadata": {},
   "outputs": [
    {
     "data": {
      "text/plain": [
       "True"
      ]
     },
     "execution_count": 26,
     "metadata": {},
     "output_type": "execute_result"
    }
   ],
   "source": [
    "# string.startswith()\n",
    "x = \"Hello World\"\n",
    "x.startswith(\"H\")"
   ]
  },
  {
   "cell_type": "code",
   "execution_count": 27,
   "id": "df2f3929-7def-4049-ae06-6484f84f194c",
   "metadata": {},
   "outputs": [
    {
     "data": {
      "text/plain": [
       "False"
      ]
     },
     "execution_count": 27,
     "metadata": {},
     "output_type": "execute_result"
    }
   ],
   "source": [
    "x.startswith(\"he\")"
   ]
  },
  {
   "cell_type": "code",
   "execution_count": 28,
   "id": "04ce0e27-75de-445e-8f7f-1af39a55425b",
   "metadata": {},
   "outputs": [
    {
     "data": {
      "text/plain": [
       "True"
      ]
     },
     "execution_count": 28,
     "metadata": {},
     "output_type": "execute_result"
    }
   ],
   "source": [
    "x.startswith(\"He\")"
   ]
  },
  {
   "cell_type": "code",
   "execution_count": null,
   "id": "a0c4be84-3ce7-475b-a680-df711d5b0a15",
   "metadata": {},
   "outputs": [],
   "source": []
  },
  {
   "cell_type": "code",
   "execution_count": null,
   "id": "76d52d2c-0ebc-45cd-a6f5-4d43bb403a87",
   "metadata": {},
   "outputs": [],
   "source": []
  },
  {
   "cell_type": "markdown",
   "id": "175d653d-53c9-48ad-8b37-8f6016d2ae13",
   "metadata": {},
   "source": [
    "**2.1.7.string.split(separator): Used to dicide a string into a list of substrings based on a specified separator.**"
   ]
  },
  {
   "cell_type": "code",
   "execution_count": 20,
   "id": "57bad104-f087-459e-812a-7344e12c1e1d",
   "metadata": {},
   "outputs": [
    {
     "data": {
      "text/plain": [
       "['Hello ', 'orld']"
      ]
     },
     "execution_count": 20,
     "metadata": {},
     "output_type": "execute_result"
    }
   ],
   "source": [
    "# string.split()\n",
    "x = \"Hello World\"\n",
    "x.split(\"W\")"
   ]
  },
  {
   "cell_type": "code",
   "execution_count": 21,
   "id": "06ef80ac-1208-4cca-8997-db54143f30a5",
   "metadata": {},
   "outputs": [
    {
     "name": "stdout",
     "output_type": "stream",
     "text": [
      "['Hello ', 'orld']\n"
     ]
    }
   ],
   "source": [
    "print(x.split(\"W\"))"
   ]
  },
  {
   "cell_type": "code",
   "execution_count": 22,
   "id": "7a5872b4-0504-4584-aea7-a4e8ddda04f3",
   "metadata": {},
   "outputs": [
    {
     "data": {
      "text/plain": [
       "['Hell', ' W', 'rld']"
      ]
     },
     "execution_count": 22,
     "metadata": {},
     "output_type": "execute_result"
    }
   ],
   "source": [
    "x.split(\"o\")"
   ]
  },
  {
   "cell_type": "code",
   "execution_count": 23,
   "id": "4be89599-2d88-4046-8e06-9e273ad8d848",
   "metadata": {},
   "outputs": [
    {
     "data": {
      "text/plain": [
       "['Hello Wo', 'd']"
      ]
     },
     "execution_count": 23,
     "metadata": {},
     "output_type": "execute_result"
    }
   ],
   "source": [
    "x.split(\"rl\")"
   ]
  },
  {
   "cell_type": "markdown",
   "id": "d129b2be-9f90-4c61-aff3-26d2a1d7ebc5",
   "metadata": {},
   "source": [
    "**2.1.8. string.find(character)**"
   ]
  },
  {
   "cell_type": "markdown",
   "id": "aeb04006-ca75-4100-897c-87e5bb55be73",
   "metadata": {},
   "source": [
    "Finds the index at which character occurs for the first time"
   ]
  },
  {
   "cell_type": "code",
   "execution_count": 25,
   "id": "42eb1641-2cc6-4d3c-8024-f5f372637052",
   "metadata": {},
   "outputs": [
    {
     "data": {
      "text/plain": [
       "4"
      ]
     },
     "execution_count": 25,
     "metadata": {},
     "output_type": "execute_result"
    }
   ],
   "source": [
    "# sting.find() - Index at which \"o\" occurs for the first time\n",
    "x = \"Hello world\"\n",
    "x.find(\"o\")"
   ]
  },
  {
   "cell_type": "code",
   "execution_count": 26,
   "id": "005966cc-b35e-48ac-80fb-7024ce814789",
   "metadata": {},
   "outputs": [
    {
     "data": {
      "text/plain": [
       "6"
      ]
     },
     "execution_count": 26,
     "metadata": {},
     "output_type": "execute_result"
    }
   ],
   "source": [
    "x.find(\"wo\")"
   ]
  },
  {
   "cell_type": "code",
   "execution_count": 27,
   "id": "061c9c31-86d5-475a-863f-4f0a5ea85d2d",
   "metadata": {},
   "outputs": [
    {
     "data": {
      "text/plain": [
       "-1"
      ]
     },
     "execution_count": 27,
     "metadata": {},
     "output_type": "execute_result"
    }
   ],
   "source": [
    "# What if I try to find a character which is not present in the string??\n",
    "x.find(\"y\")"
   ]
  },
  {
   "cell_type": "code",
   "execution_count": 1,
   "id": "abb3b904-f9d0-48ce-845d-d954b9436575",
   "metadata": {},
   "outputs": [
    {
     "data": {
      "text/plain": [
       "-1"
      ]
     },
     "execution_count": 1,
     "metadata": {},
     "output_type": "execute_result"
    }
   ],
   "source": [
    "x = \"hello world\"\n",
    "x.find(\"0\") # It will give -1 when we enter the character which is not present in the string"
   ]
  },
  {
   "cell_type": "code",
   "execution_count": null,
   "id": "20086030-d536-4415-8e0d-a625baf14145",
   "metadata": {},
   "outputs": [],
   "source": []
  },
  {
   "cell_type": "code",
   "execution_count": null,
   "id": "485b4e26-3dd4-4bd6-9121-82247681192e",
   "metadata": {},
   "outputs": [],
   "source": []
  },
  {
   "cell_type": "code",
   "execution_count": null,
   "id": "92b9d1d6-cd48-4fbe-9497-e9090b388026",
   "metadata": {},
   "outputs": [],
   "source": []
  },
  {
   "cell_type": "code",
   "execution_count": null,
   "id": "c4c813ca-c6cf-468c-9708-d3b613c19b16",
   "metadata": {},
   "outputs": [],
   "source": []
  },
  {
   "cell_type": "markdown",
   "id": "64541d7d-5004-4a07-b05d-d3d97943b63e",
   "metadata": {},
   "source": [
    "- FUNCTION "
   ]
  },
  {
   "cell_type": "markdown",
   "id": "f2b4c8f2-fd34-4e11-8888-f438cb6d9a62",
   "metadata": {},
   "source": [
    "**2.1.9. len(string)**"
   ]
  },
  {
   "cell_type": "markdown",
   "id": "f717dfae-e691-4092-85bd-9882436b0b78",
   "metadata": {},
   "source": [
    "Counts the number of characters in the string"
   ]
  },
  {
   "cell_type": "code",
   "execution_count": 30,
   "id": "00f98e2a-f8e9-4fc4-892c-968aa073374f",
   "metadata": {},
   "outputs": [
    {
     "data": {
      "text/plain": [
       "1"
      ]
     },
     "execution_count": 30,
     "metadata": {},
     "output_type": "execute_result"
    }
   ],
   "source": [
    "# len() - Counts the no of characters in the string\n",
    "x = \"o\"\n",
    "len(x)"
   ]
  },
  {
   "cell_type": "code",
   "execution_count": 31,
   "id": "9f6b36c7-0d92-4e1e-bdfb-891d0e677ea1",
   "metadata": {},
   "outputs": [
    {
     "data": {
      "text/plain": [
       "7"
      ]
     },
     "execution_count": 31,
     "metadata": {},
     "output_type": "execute_result"
    }
   ],
   "source": [
    "len(\" pyhton\")"
   ]
  },
  {
   "cell_type": "markdown",
   "id": "d1fbc1d6-9f6c-41f2-918e-c062014b7873",
   "metadata": {},
   "source": [
    "**2.1.10. Concatenation: Joining two or more string to form a single string**"
   ]
  },
  {
   "cell_type": "code",
   "execution_count": 32,
   "id": "692ea6a4-bcf9-4432-8ef7-39af5b15fd71",
   "metadata": {},
   "outputs": [
    {
     "data": {
      "text/plain": [
       "'helloworld'"
      ]
     },
     "execution_count": 32,
     "metadata": {},
     "output_type": "execute_result"
    }
   ],
   "source": [
    "\"hello\" + \"world\""
   ]
  },
  {
   "cell_type": "code",
   "execution_count": 5,
   "id": "cbaaca13-df98-4977-b3cc-5aaf809ec343",
   "metadata": {},
   "outputs": [
    {
     "data": {
      "text/plain": [
       "'Python is easy.'"
      ]
     },
     "execution_count": 5,
     "metadata": {},
     "output_type": "execute_result"
    }
   ],
   "source": [
    "\"Python\" + \" is \" + \"easy\" + \".\""
   ]
  },
  {
   "cell_type": "code",
   "execution_count": 20,
   "id": "af47454c-abad-4859-8c9b-80a89ea2e5bc",
   "metadata": {},
   "outputs": [
    {
     "name": "stdout",
     "output_type": "stream",
     "text": [
      "Pyhton.  is easy?\n"
     ]
    }
   ],
   "source": [
    "a = \"Pyhton\"\n",
    "b = \" is\"\n",
    "c = \" \"\n",
    "d = \"easy\"\n",
    "f = \".\"\n",
    "g = \"?\"\n",
    "e = a + f + c + b + c + d  + g\n",
    "print(e)"
   ]
  },
  {
   "cell_type": "code",
   "execution_count": 4,
   "id": "5746c52c-005a-4198-9e26-fd64618b5378",
   "metadata": {},
   "outputs": [
    {
     "name": "stdout",
     "output_type": "stream",
     "text": [
      "My name is abdullah \n"
     ]
    }
   ],
   "source": [
    " name = \"My \" + \"name \" + \"is \" + \"abdullah \"\n",
    "print(name)"
   ]
  },
  {
   "cell_type": "code",
   "execution_count": 5,
   "id": "c7f76155-c49f-4d88-ade7-b8c77702e43d",
   "metadata": {},
   "outputs": [
    {
     "data": {
      "text/plain": [
       "['My n', 'me is ', 'bdull', 'h ']"
      ]
     },
     "execution_count": 5,
     "metadata": {},
     "output_type": "execute_result"
    }
   ],
   "source": [
    "name.split(\"a\")"
   ]
  },
  {
   "cell_type": "code",
   "execution_count": 6,
   "id": "a2397c4b-49fa-44ce-a4a8-37b532dfe3a2",
   "metadata": {},
   "outputs": [
    {
     "data": {
      "text/plain": [
       "3"
      ]
     },
     "execution_count": 6,
     "metadata": {},
     "output_type": "execute_result"
    }
   ],
   "source": [
    "name.count(\"a\")"
   ]
  },
  {
   "cell_type": "code",
   "execution_count": 9,
   "id": "8ccb8001-f0ad-4bfc-901c-fc8065b76b9b",
   "metadata": {},
   "outputs": [
    {
     "name": "stdout",
     "output_type": "stream",
     "text": [
      "MY NAME IS ABDULLAH \n",
      "my name is abdullah \n"
     ]
    }
   ],
   "source": [
    "print(name.upper())\n",
    "print(name.lower())"
   ]
  },
  {
   "cell_type": "code",
   "execution_count": 10,
   "id": "a4c073e1-d73a-4a58-beca-c9bc84e1cc8a",
   "metadata": {},
   "outputs": [
    {
     "data": {
      "text/plain": [
       "17"
      ]
     },
     "execution_count": 10,
     "metadata": {},
     "output_type": "execute_result"
    }
   ],
   "source": [
    "name.find(\"ah\")"
   ]
  },
  {
   "cell_type": "code",
   "execution_count": 11,
   "id": "fa6dc4d8-e74d-41f7-a189-2eb7fb24f548",
   "metadata": {},
   "outputs": [
    {
     "data": {
      "text/plain": [
       "20"
      ]
     },
     "execution_count": 11,
     "metadata": {},
     "output_type": "execute_result"
    }
   ],
   "source": [
    "len(name)"
   ]
  },
  {
   "cell_type": "code",
   "execution_count": null,
   "id": "9a0d1fec-2d66-4912-87d9-07058b3af770",
   "metadata": {},
   "outputs": [],
   "source": []
  },
  {
   "cell_type": "code",
   "execution_count": null,
   "id": "e5b0f1b8-2178-46d9-8ff5-476d40dfcdca",
   "metadata": {},
   "outputs": [],
   "source": []
  },
  {
   "cell_type": "code",
   "execution_count": null,
   "id": "7f4d71c4-e026-42bd-96fb-72a48efde16d",
   "metadata": {},
   "outputs": [],
   "source": []
  }
 ],
 "metadata": {
  "kernelspec": {
   "display_name": "Python 3 (ipykernel)",
   "language": "python",
   "name": "python3"
  },
  "language_info": {
   "codemirror_mode": {
    "name": "ipython",
    "version": 3
   },
   "file_extension": ".py",
   "mimetype": "text/x-python",
   "name": "python",
   "nbconvert_exporter": "python",
   "pygments_lexer": "ipython3",
   "version": "3.13.5"
  }
 },
 "nbformat": 4,
 "nbformat_minor": 5
}
