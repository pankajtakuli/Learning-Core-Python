{
 "cells": [
  {
   "cell_type": "markdown",
   "id": "e85f8d13-943e-4d65-bc14-10009f146340",
   "metadata": {},
   "source": [
    "<font size = \"5\"><b>_Array_<b>"
   ]
  },
  {
   "cell_type": "code",
   "execution_count": 1,
   "id": "92a665ad-fc94-4aec-a2c0-02e5d328a623",
   "metadata": {},
   "outputs": [
    {
     "name": "stdout",
     "output_type": "stream",
     "text": [
      "[1 2 3 4 5 6]\n"
     ]
    }
   ],
   "source": [
    "import numpy as np\n",
    "\n",
    "\n",
    "a = np.array([1,2,3,4,5,6])\n",
    "print(a)"
   ]
  },
  {
   "cell_type": "code",
   "execution_count": 2,
   "id": "172f42a9-b2ea-42ad-ad10-11f50620304c",
   "metadata": {},
   "outputs": [
    {
     "name": "stdout",
     "output_type": "stream",
     "text": [
      "[23 45 78]\n"
     ]
    }
   ],
   "source": [
    "new_array = np.array([23,45,78])\n",
    "print(new_array)"
   ]
  },
  {
   "cell_type": "code",
   "execution_count": 3,
   "id": "759b3cec-6ca9-4ef1-b110-7b90bd17ed95",
   "metadata": {},
   "outputs": [
    {
     "name": "stdout",
     "output_type": "stream",
     "text": [
      "['12' '23' 'Budhist records of the western world']\n"
     ]
    }
   ],
   "source": [
    "new_array_1 =  np.array([12,23,\"Budhist records of the western world\"])\n",
    "print(new_array_1)"
   ]
  },
  {
   "cell_type": "code",
   "execution_count": 4,
   "id": "efeee6d4-b84f-4638-9072-e5bad58b4585",
   "metadata": {},
   "outputs": [
    {
     "data": {
      "text/plain": [
       "array(['12', '23', 'Budhist records of the western world'], dtype='<U36')"
      ]
     },
     "execution_count": 4,
     "metadata": {},
     "output_type": "execute_result"
    }
   ],
   "source": [
    "new_array_1"
   ]
  },
  {
   "cell_type": "code",
   "execution_count": 5,
   "id": "8d1c3ab2-a29a-4875-9c44-fcfe46991210",
   "metadata": {},
   "outputs": [
    {
     "data": {
      "text/plain": [
       "array([1, 2, 3, 4, 5, 6])"
      ]
     },
     "execution_count": 5,
     "metadata": {},
     "output_type": "execute_result"
    }
   ],
   "source": [
    "a"
   ]
  },
  {
   "cell_type": "code",
   "execution_count": 6,
   "id": "11e1e118-b3c1-4e7e-930d-c7af20005550",
   "metadata": {},
   "outputs": [
    {
     "data": {
      "text/plain": [
       "array([23, 45, 78])"
      ]
     },
     "execution_count": 6,
     "metadata": {},
     "output_type": "execute_result"
    }
   ],
   "source": [
    "new_array"
   ]
  },
  {
   "cell_type": "code",
   "execution_count": 10,
   "id": "43eadc3a-d343-44e1-b94c-137d563405f2",
   "metadata": {},
   "outputs": [
    {
     "name": "stdout",
     "output_type": "stream",
     "text": [
      "[34 23  2]\n",
      "<class 'numpy.ndarray'>\n"
     ]
    }
   ],
   "source": [
    "import numpy as n\n",
    "\n",
    "a = n.array([34,23,2])\n",
    "print(a)\n",
    "print(type(a))"
   ]
  },
  {
   "cell_type": "code",
   "execution_count": 8,
   "id": "26ed252f-51b8-4d14-9bb7-e9162d30c7e2",
   "metadata": {},
   "outputs": [
    {
     "name": "stdout",
     "output_type": "stream",
     "text": [
      "{1, 2, 3, 4, 5, 60}\n"
     ]
    },
    {
     "data": {
      "text/plain": [
       "array({1, 2, 3, 4, 5, 60}, dtype=object)"
      ]
     },
     "execution_count": 8,
     "metadata": {},
     "output_type": "execute_result"
    }
   ],
   "source": [
    "import numpy as ab\n",
    "\n",
    "\n",
    "a = ab.array({1,2,3,4,5,60})\n",
    "print(a)\n",
    "a"
   ]
  },
  {
   "cell_type": "code",
   "execution_count": 31,
   "id": "9808adb6-de0b-452d-9579-779f4aa2d0c1",
   "metadata": {},
   "outputs": [
    {
     "name": "stdout",
     "output_type": "stream",
     "text": [
      "['1' '2' '3' '4' '5' '60' 'pankaj']\n"
     ]
    },
    {
     "data": {
      "text/plain": [
       "array(['1', '2', '3', '4', '5', '60', 'pankaj'], dtype='<U21')"
      ]
     },
     "execution_count": 31,
     "metadata": {},
     "output_type": "execute_result"
    }
   ],
   "source": [
    "import numpy as np\n",
    "\n",
    "\n",
    "a = np.array((1,2,3,4,5,\"60\",\"pankaj\"))\n",
    "print(a)\n",
    "a"
   ]
  },
  {
   "cell_type": "code",
   "execution_count": 1,
   "id": "b95e3506-c32d-4bc5-8292-a921a05a5468",
   "metadata": {},
   "outputs": [
    {
     "name": "stdout",
     "output_type": "stream",
     "text": [
      "[ 1.    2.    3.    4.    5.   60.   90.01]\n"
     ]
    },
    {
     "data": {
      "text/plain": [
       "array([ 1.  ,  2.  ,  3.  ,  4.  ,  5.  , 60.  , 90.01])"
      ]
     },
     "execution_count": 1,
     "metadata": {},
     "output_type": "execute_result"
    }
   ],
   "source": [
    "import numpy as np\n",
    "\n",
    "\n",
    "a = np.array([1,2,3,4,5,60,90.01])\n",
    "print(a)\n",
    "a"
   ]
  },
  {
   "cell_type": "code",
   "execution_count": 24,
   "id": "f6de76f1-41ca-4b91-bcb3-143eccba74a0",
   "metadata": {},
   "outputs": [
    {
     "data": {
      "text/plain": [
       "array(['12', '23',\n",
       "       \"If the Plan dosen't work change the plan but never the goal\",\n",
       "       'Budhist Records of the Western world'], dtype='<U59')"
      ]
     },
     "execution_count": 24,
     "metadata": {},
     "output_type": "execute_result"
    }
   ],
   "source": [
    "array2 = np.array([12,23,\"If the Plan dosen't work change the plan but never the goal\",\n",
    "                  \"Budhist Records of the Western world\"])\n",
    "array2"
   ]
  },
  {
   "cell_type": "code",
   "execution_count": 22,
   "id": "1a50dcdc-2cf1-49b6-8ae1-6a436db37bdb",
   "metadata": {},
   "outputs": [
    {
     "data": {
      "text/plain": [
       "array(['12', '23', 'Budhist Records of the western world'], dtype='<U36')"
      ]
     },
     "execution_count": 22,
     "metadata": {},
     "output_type": "execute_result"
    }
   ],
   "source": [
    "new_array_1 = np.array([12,23,\"Budhist Records of the western world\"])\n",
    "new_array_1"
   ]
  },
  {
   "cell_type": "markdown",
   "id": "15764bc5-31b4-4d14-9640-1fbf1ca0cd37",
   "metadata": {},
   "source": [
    "***We can access an individual element of this array as we would access an element in the original int using intger index of the element within the square brackets.***"
   ]
  },
  {
   "cell_type": "code",
   "execution_count": 37,
   "id": "59930e7d-28f9-4a9b-a5ae-3dd002ead1c9",
   "metadata": {},
   "outputs": [
    {
     "data": {
      "text/plain": [
       "np.str_('Budhist Records of the western world')"
      ]
     },
     "execution_count": 37,
     "metadata": {},
     "output_type": "execute_result"
    }
   ],
   "source": [
    "new_array_1[2]"
   ]
  },
  {
   "cell_type": "code",
   "execution_count": 38,
   "id": "9989e05b-49a5-499e-a78a-f769fc20d5fc",
   "metadata": {},
   "outputs": [
    {
     "data": {
      "text/plain": [
       "np.str_(\"If the Plan dosen't work change the plan but never the goal\")"
      ]
     },
     "execution_count": 38,
     "metadata": {},
     "output_type": "execute_result"
    }
   ],
   "source": [
    "array2[2]"
   ]
  },
  {
   "cell_type": "code",
   "execution_count": 41,
   "id": "487d55bf-9a55-4457-a60d-c41c79cdb4da",
   "metadata": {},
   "outputs": [
    {
     "data": {
      "text/plain": [
       "np.str_('12')"
      ]
     },
     "execution_count": 41,
     "metadata": {},
     "output_type": "execute_result"
    }
   ],
   "source": [
    "array2[0]"
   ]
  },
  {
   "cell_type": "markdown",
   "id": "39524212-4207-4988-8866-c5a5743eb02b",
   "metadata": {},
   "source": [
    "***Another differenece between an array and a list of lists is that an element of the array can be accessed by specifying the index along each axis within a single set of square bracket seperate by comma.***"
   ]
  },
  {
   "cell_type": "code",
   "execution_count": 3,
   "id": "3844a592-2663-425b-a121-9fbc53fa3570",
   "metadata": {},
   "outputs": [
    {
     "name": "stdout",
     "output_type": "stream",
     "text": [
      "[[ 1  2  3  4]\n",
      " [ 5  6  7  8]\n",
      " [ 8  9  0  2]\n",
      " [ 1 22  3  3]]\n"
     ]
    },
    {
     "data": {
      "text/plain": [
       "array([[ 1,  2,  3,  4],\n",
       "       [ 5,  6,  7,  8],\n",
       "       [ 8,  9,  0,  2],\n",
       "       [ 1, 22,  3,  3]])"
      ]
     },
     "execution_count": 3,
     "metadata": {},
     "output_type": "execute_result"
    }
   ],
   "source": [
    "t_die_array = np.array([[1,2,3,4],[5,6,7,8],[8,9,0,2],[1,22,3,3]])\n",
    "print(t_die_array)\n",
    "t_die_array"
   ]
  },
  {
   "cell_type": "code",
   "execution_count": 13,
   "id": "7beb0074-caf0-46ad-ac4a-c1859bc130ec",
   "metadata": {},
   "outputs": [
    {
     "data": {
      "text/plain": [
       "array([[1, 2, 3, 4],\n",
       "       [5, 6, 7, 8]])"
      ]
     },
     "execution_count": 13,
     "metadata": {},
     "output_type": "execute_result"
    }
   ],
   "source": [
    "t_die_array[:2]"
   ]
  },
  {
   "cell_type": "code",
   "execution_count": 13,
   "id": "bf1110b9-ba86-4ce7-a72d-cb734f550441",
   "metadata": {},
   "outputs": [
    {
     "name": "stdout",
     "output_type": "stream",
     "text": [
      "[[1 2 3]\n",
      " [5 6 7]\n",
      " [8 9 0]]\n"
     ]
    },
    {
     "data": {
      "text/plain": [
       "array([[1, 2, 3],\n",
       "       [5, 6, 7],\n",
       "       [8, 9, 0]])"
      ]
     },
     "execution_count": 13,
     "metadata": {},
     "output_type": "execute_result"
    }
   ],
   "source": [
    "two_die_array = np.array([[1,2,3],[5,6,7,],[8,9,0]])\n",
    "print(two_die_array)\n",
    "two_die_array"
   ]
  },
  {
   "cell_type": "code",
   "execution_count": 14,
   "id": "e1e15913-5ed7-4cfd-a8e1-ff78028a0cb2",
   "metadata": {},
   "outputs": [
    {
     "data": {
      "text/plain": [
       "array([3, 7, 0])"
      ]
     },
     "execution_count": 14,
     "metadata": {},
     "output_type": "execute_result"
    }
   ],
   "source": [
    "two_die_array[:,2]"
   ]
  },
  {
   "cell_type": "code",
   "execution_count": 16,
   "id": "ca6dc07c-0fa1-46cb-ba82-45d516f95bd2",
   "metadata": {},
   "outputs": [
    {
     "data": {
      "text/plain": [
       "array([3, 7, 0])"
      ]
     },
     "execution_count": 16,
     "metadata": {},
     "output_type": "execute_result"
    }
   ],
   "source": [
    "two_die_array[:,2]"
   ]
  },
  {
   "cell_type": "markdown",
   "id": "05cf57f9-169d-4037-9a8f-586f0561687f",
   "metadata": {},
   "source": [
    "<font size = \"5\">***Array Attributes***"
   ]
  },
  {
   "cell_type": "markdown",
   "id": "49ed58ac-845e-4683-9444-c6a9e811dc23",
   "metadata": {},
   "source": [
    "***ndim:*** The number of dimensions of an array is contained in the ndim attribute."
   ]
  },
  {
   "cell_type": "code",
   "execution_count": 49,
   "id": "eb202551-6569-4bd1-9b43-0a8d794adaad",
   "metadata": {},
   "outputs": [
    {
     "data": {
      "text/plain": [
       "0"
      ]
     },
     "execution_count": 49,
     "metadata": {},
     "output_type": "execute_result"
    }
   ],
   "source": [
    "zero_dim_array = np.array(34)\n",
    "zero_dim_array.ndim"
   ]
  },
  {
   "cell_type": "code",
   "execution_count": 41,
   "id": "40673097-579d-462c-a1f6-3e748fac05c0",
   "metadata": {},
   "outputs": [
    {
     "data": {
      "text/plain": [
       "0"
      ]
     },
     "execution_count": 41,
     "metadata": {},
     "output_type": "execute_result"
    }
   ],
   "source": [
    "zero_dim_array = np.array(34)\n",
    "zero_dim_array.ndim"
   ]
  },
  {
   "cell_type": "code",
   "execution_count": 46,
   "id": "6b5b8cf7-0d52-4f8d-af9e-986b2cd588bf",
   "metadata": {},
   "outputs": [
    {
     "data": {
      "text/plain": [
       "1"
      ]
     },
     "execution_count": 46,
     "metadata": {},
     "output_type": "execute_result"
    }
   ],
   "source": [
    "one_dim_array = np.array([1,2,3,4])\n",
    "one_dim_array.ndim"
   ]
  },
  {
   "cell_type": "code",
   "execution_count": 44,
   "id": "5d96d4b1-c9d8-4acf-aef7-040c12403a3f",
   "metadata": {},
   "outputs": [
    {
     "data": {
      "text/plain": [
       "2"
      ]
     },
     "execution_count": 44,
     "metadata": {},
     "output_type": "execute_result"
    }
   ],
   "source": [
    "two_dim_array = np.array([[2,3],[4,5]])\n",
    "two_dim_array.ndim"
   ]
  },
  {
   "cell_type": "markdown",
   "id": "1a662519-9a46-40f9-9c0d-f11b1358af85",
   "metadata": {},
   "source": [
    "***shape:*** The shape of an array ia a tuple of non-negative integers that quickly the number of elements along each dimensions."
   ]
  },
  {
   "cell_type": "code",
   "execution_count": 48,
   "id": "12550f36-7733-4aad-aac5-50f99abbaa97",
   "metadata": {},
   "outputs": [
    {
     "name": "stdout",
     "output_type": "stream",
     "text": [
      "[[1 2 3]\n",
      " [4 5 6]]\n",
      "(2, 3)\n"
     ]
    }
   ],
   "source": [
    "x = np.array([[1,2,3],[4,5,6]])\n",
    "print(x)\n",
    "print(x.shape)"
   ]
  },
  {
   "cell_type": "markdown",
   "id": "ad3138d5-00ad-44dc-8a39-e703e222f2f6",
   "metadata": {},
   "source": [
    "***size:*** The fixed, total number of elements in array is contained in the size attributes."
   ]
  },
  {
   "cell_type": "code",
   "execution_count": 50,
   "id": "bc38a578-00ea-4df4-97f8-adc1d6e9087a",
   "metadata": {},
   "outputs": [
    {
     "name": "stdout",
     "output_type": "stream",
     "text": [
      "10\n",
      "(2, 5)\n"
     ]
    }
   ],
   "source": [
    "table_of_2 = np.array([[2,4,6,8,10],[1,3,5,7,9]])\n",
    "print(table_of_2.size)\n",
    "print(table_of_2.shape)"
   ]
  },
  {
   "cell_type": "markdown",
   "id": "148d84cb-beeb-4e7f-ba05-f4901bf4cba9",
   "metadata": {},
   "source": [
    "***dtype:*** The data type of the elements if the array can be checked using the dtype attributes."
   ]
  },
  {
   "cell_type": "markdown",
   "id": "097dfc34-60e9-4d7d-b062-11a44bb47e29",
   "metadata": {},
   "source": [
    "***Note:*** The data type of all the elements of a numpy array is same. i,e. Homegenous"
   ]
  },
  {
   "cell_type": "code",
   "execution_count": 52,
   "id": "58c1934e-71f1-4a73-b058-59e05d79354c",
   "metadata": {},
   "outputs": [
    {
     "data": {
      "text/plain": [
       "dtype('int64')"
      ]
     },
     "execution_count": 52,
     "metadata": {},
     "output_type": "execute_result"
    }
   ],
   "source": [
    "table_of_2.dtype"
   ]
  },
  {
   "cell_type": "code",
   "execution_count": 53,
   "id": "850dce30-c548-4659-95e5-444bf725bc6d",
   "metadata": {},
   "outputs": [
    {
     "data": {
      "text/plain": [
       "dtype('int64')"
      ]
     },
     "execution_count": 53,
     "metadata": {},
     "output_type": "execute_result"
    }
   ],
   "source": [
    "x.dtype"
   ]
  },
  {
   "cell_type": "code",
   "execution_count": 54,
   "id": "42de1763-eb7d-49ea-b6ee-c42c8801639b",
   "metadata": {},
   "outputs": [
    {
     "data": {
      "text/plain": [
       "2"
      ]
     },
     "execution_count": 54,
     "metadata": {},
     "output_type": "execute_result"
    }
   ],
   "source": [
    "x.ndim"
   ]
  },
  {
   "cell_type": "code",
   "execution_count": 61,
   "id": "e2107f8e-5ce4-46e5-8901-9d7758df431a",
   "metadata": {},
   "outputs": [
    {
     "data": {
      "text/plain": [
       "6"
      ]
     },
     "execution_count": 61,
     "metadata": {},
     "output_type": "execute_result"
    }
   ],
   "source": [
    "x.size"
   ]
  },
  {
   "cell_type": "code",
   "execution_count": 62,
   "id": "e20975d4-59be-47f4-a268-ad836281dbea",
   "metadata": {},
   "outputs": [
    {
     "data": {
      "text/plain": [
       "(2, 3)"
      ]
     },
     "execution_count": 62,
     "metadata": {},
     "output_type": "execute_result"
    }
   ],
   "source": [
    "x.shape"
   ]
  },
  {
   "cell_type": "code",
   "execution_count": 56,
   "id": "0d53d3aa-e395-4146-9ffd-5ad698f59776",
   "metadata": {},
   "outputs": [
    {
     "data": {
      "text/plain": [
       "array([1, 2, 3])"
      ]
     },
     "execution_count": 56,
     "metadata": {},
     "output_type": "execute_result"
    }
   ],
   "source": [
    "x[0,]"
   ]
  },
  {
   "cell_type": "code",
   "execution_count": 57,
   "id": "24d013ec-bea3-46f4-b6bd-9ac22ecc1f2d",
   "metadata": {},
   "outputs": [
    {
     "data": {
      "text/plain": [
       "array([1, 4])"
      ]
     },
     "execution_count": 57,
     "metadata": {},
     "output_type": "execute_result"
    }
   ],
   "source": [
    "x[:,0]"
   ]
  },
  {
   "cell_type": "code",
   "execution_count": 63,
   "id": "a1d3a923-5e9b-4825-9275-efc1f131604b",
   "metadata": {},
   "outputs": [
    {
     "data": {
      "text/plain": [
       "np.int64(6)"
      ]
     },
     "execution_count": 63,
     "metadata": {},
     "output_type": "execute_result"
    }
   ],
   "source": [
    "x[1,2]"
   ]
  },
  {
   "cell_type": "code",
   "execution_count": 17,
   "id": "e1424ca8-04b6-4653-af79-0f5917395d44",
   "metadata": {},
   "outputs": [
    {
     "data": {
      "text/plain": [
       "8"
      ]
     },
     "execution_count": 17,
     "metadata": {},
     "output_type": "execute_result"
    }
   ],
   "source": [
    "x.itemsize"
   ]
  },
  {
   "cell_type": "code",
   "execution_count": 18,
   "id": "ed92537c-6326-4afc-adea-4a52ba42a204",
   "metadata": {},
   "outputs": [
    {
     "data": {
      "text/plain": [
       "4"
      ]
     },
     "execution_count": 18,
     "metadata": {},
     "output_type": "execute_result"
    }
   ],
   "source": [
    "x.size"
   ]
  },
  {
   "cell_type": "code",
   "execution_count": null,
   "id": "3c414dd4-8428-4fec-a9fc-6c2181ed24a5",
   "metadata": {},
   "outputs": [],
   "source": []
  },
  {
   "cell_type": "code",
   "execution_count": null,
   "id": "c47c12e9-0850-4d77-8352-9e0ba2dce37c",
   "metadata": {},
   "outputs": [],
   "source": []
  },
  {
   "cell_type": "code",
   "execution_count": null,
   "id": "56b45021-7ad1-477e-a6fb-ddd6c026115b",
   "metadata": {},
   "outputs": [],
   "source": []
  },
  {
   "cell_type": "code",
   "execution_count": null,
   "id": "09381ecd-b5fd-44a8-b01e-ed85e90aaf2d",
   "metadata": {},
   "outputs": [],
   "source": []
  },
  {
   "cell_type": "markdown",
   "id": "a3daf48a-14c1-4618-a01f-61cf28c730db",
   "metadata": {},
   "source": [
    "## Same Order Techniques to create an array"
   ]
  },
  {
   "cell_type": "markdown",
   "id": "d31d2ede-1bd8-453e-a3ef-3dbfc80a56f0",
   "metadata": {},
   "source": [
    "The section covers np.zeros(), np.ones(), np.emoty(), np.arange(), np.linspace()"
   ]
  },
  {
   "cell_type": "markdown",
   "id": "2832baf9-0172-4e06-a6b9-cd3bbbcc1039",
   "metadata": {},
   "source": [
    "***np.zeros()*** You can create an array filled with zeros."
   ]
  },
  {
   "cell_type": "code",
   "execution_count": 65,
   "id": "2646ba73-26de-4ba6-8f11-71905ed0445f",
   "metadata": {},
   "outputs": [
    {
     "name": "stdout",
     "output_type": "stream",
     "text": [
      "[0. 0. 0. 0. 0. 0.]\n",
      "<class 'numpy.ndarray'>\n",
      "(6,)\n",
      "6\n"
     ]
    }
   ],
   "source": [
    "zero_array = np.zeros(6)\n",
    "print(zero_array)\n",
    "print(type(zero_array))\n",
    "print(zero_array.shape)\n",
    "print(zero_array.size)"
   ]
  },
  {
   "cell_type": "code",
   "execution_count": 69,
   "id": "1b4200d6-500b-4db6-a677-511d5c93d264",
   "metadata": {},
   "outputs": [
    {
     "name": "stdout",
     "output_type": "stream",
     "text": [
      "[[0. 0. 0.]\n",
      " [0. 0. 0.]]\n"
     ]
    }
   ],
   "source": [
    "# Create a table of zero (2 rows 3 column)\n",
    "\n",
    "zero_array_table = np.zeros((2,3))\n",
    "print(zero_array_table)"
   ]
  },
  {
   "cell_type": "markdown",
   "id": "8290cc2c-449d-4f54-9a49-86ad1373a347",
   "metadata": {},
   "source": [
    "***np.ones()*** You can create an array filled with ones."
   ]
  },
  {
   "cell_type": "code",
   "execution_count": 70,
   "id": "f51d1593-dc18-4291-ad12-5e6061eaa07f",
   "metadata": {},
   "outputs": [
    {
     "name": "stdout",
     "output_type": "stream",
     "text": [
      "[1. 1. 1. 1.]\n"
     ]
    }
   ],
   "source": [
    "ones_array = np.ones(4)\n",
    "print(ones_array)"
   ]
  },
  {
   "cell_type": "code",
   "execution_count": 74,
   "id": "c2adf553-4dea-4acd-9caf-73de1abdc4bd",
   "metadata": {},
   "outputs": [
    {
     "name": "stdout",
     "output_type": "stream",
     "text": [
      "[[1. 1.]\n",
      " [1. 1.]\n",
      " [1. 1.]\n",
      " [1. 1.]\n",
      " [1. 1.]]\n"
     ]
    }
   ],
   "source": [
    "ones_array_2d = np.ones((5,2))\n",
    "print(ones_array_2d)"
   ]
  },
  {
   "cell_type": "markdown",
   "id": "4991d3b6-b507-404e-8af8-07a82a51c396",
   "metadata": {},
   "source": [
    "***np.empty()*** This creates an empty array. The elements of an array are randoms and depends on the state of the memory. The reason is an empty over zeros is speed - just make sure to fill every elments afterwards."
   ]
  },
  {
   "cell_type": "code",
   "execution_count": 2,
   "id": "84e0a3c2-82b3-4ca3-8a3f-d979d192b1d0",
   "metadata": {},
   "outputs": [
    {
     "data": {
      "text/plain": [
       "array([2.22522597e-306, 3.11510340e-307, 3.11521375e-307, 2.22520967e-307,\n",
       "       1.61323372e-307, 4.67296746e-307])"
      ]
     },
     "execution_count": 2,
     "metadata": {},
     "output_type": "execute_result"
    }
   ],
   "source": [
    "empty_array = np.empty(6)\n",
    "empty_array"
   ]
  },
  {
   "cell_type": "markdown",
   "id": "e4f5f661-fdd9-4bd0-b6ca-8c43cc3c1e67",
   "metadata": {},
   "source": [
    "***np.arange(start, stop, step)*** Create an array within a range."
   ]
  },
  {
   "cell_type": "code",
   "execution_count": 7,
   "id": "aed02997-fb03-4ada-9c7a-ec801ef20258",
   "metadata": {},
   "outputs": [
    {
     "data": {
      "text/plain": [
       "array([0, 1, 2, 3])"
      ]
     },
     "execution_count": 7,
     "metadata": {},
     "output_type": "execute_result"
    }
   ],
   "source": [
    "x = np.arange(4)\n",
    "x"
   ]
  },
  {
   "cell_type": "code",
   "execution_count": 5,
   "id": "77a8b347-f936-469f-95c5-13b11f1957c4",
   "metadata": {},
   "outputs": [
    {
     "data": {
      "text/plain": [
       "array([ 5,  7,  9, 11])"
      ]
     },
     "execution_count": 5,
     "metadata": {},
     "output_type": "execute_result"
    }
   ],
   "source": [
    "x = np.arange(5,12,2)\n",
    "x"
   ]
  },
  {
   "cell_type": "markdown",
   "id": "5ad234cf-dc06-4314-9e0c-b5b7e7715372",
   "metadata": {},
   "source": [
    "***np.linspace(start, stop, step)*** Creates an array with values that are space lineraly in specific integral."
   ]
  },
  {
   "cell_type": "code",
   "execution_count": 11,
   "id": "1575f6b2-eed2-4ad7-8590-7831ff206350",
   "metadata": {},
   "outputs": [
    {
     "data": {
      "text/plain": [
       "array([ 4.        ,  4.78947368,  5.57894737,  6.36842105,  7.15789474,\n",
       "        7.94736842,  8.73684211,  9.52631579, 10.31578947, 11.10526316,\n",
       "       11.89473684, 12.68421053, 13.47368421, 14.26315789, 15.05263158,\n",
       "       15.84210526, 16.63157895, 17.42105263, 18.21052632, 19.        ])"
      ]
     },
     "execution_count": 11,
     "metadata": {},
     "output_type": "execute_result"
    }
   ],
   "source": [
    "new_array = np.linspace(4,19,20)\n",
    "new_array"
   ]
  },
  {
   "cell_type": "code",
   "execution_count": 12,
   "id": "5f2998d0-a653-4911-a6f3-ef99c16ccc6b",
   "metadata": {},
   "outputs": [
    {
     "data": {
      "text/plain": [
       "array([1.        , 1.01010101, 1.02020202, 1.03030303, 1.04040404,\n",
       "       1.05050505, 1.06060606, 1.07070707, 1.08080808, 1.09090909,\n",
       "       1.1010101 , 1.11111111, 1.12121212, 1.13131313, 1.14141414,\n",
       "       1.15151515, 1.16161616, 1.17171717, 1.18181818, 1.19191919,\n",
       "       1.2020202 , 1.21212121, 1.22222222, 1.23232323, 1.24242424,\n",
       "       1.25252525, 1.26262626, 1.27272727, 1.28282828, 1.29292929,\n",
       "       1.3030303 , 1.31313131, 1.32323232, 1.33333333, 1.34343434,\n",
       "       1.35353535, 1.36363636, 1.37373737, 1.38383838, 1.39393939,\n",
       "       1.4040404 , 1.41414141, 1.42424242, 1.43434343, 1.44444444,\n",
       "       1.45454545, 1.46464646, 1.47474747, 1.48484848, 1.49494949,\n",
       "       1.50505051, 1.51515152, 1.52525253, 1.53535354, 1.54545455,\n",
       "       1.55555556, 1.56565657, 1.57575758, 1.58585859, 1.5959596 ,\n",
       "       1.60606061, 1.61616162, 1.62626263, 1.63636364, 1.64646465,\n",
       "       1.65656566, 1.66666667, 1.67676768, 1.68686869, 1.6969697 ,\n",
       "       1.70707071, 1.71717172, 1.72727273, 1.73737374, 1.74747475,\n",
       "       1.75757576, 1.76767677, 1.77777778, 1.78787879, 1.7979798 ,\n",
       "       1.80808081, 1.81818182, 1.82828283, 1.83838384, 1.84848485,\n",
       "       1.85858586, 1.86868687, 1.87878788, 1.88888889, 1.8989899 ,\n",
       "       1.90909091, 1.91919192, 1.92929293, 1.93939394, 1.94949495,\n",
       "       1.95959596, 1.96969697, 1.97979798, 1.98989899, 2.        ])"
      ]
     },
     "execution_count": 12,
     "metadata": {},
     "output_type": "execute_result"
    }
   ],
   "source": [
    "n_array = np.linspace(1,2,100)\n",
    "n_array"
   ]
  },
  {
   "cell_type": "markdown",
   "id": "24fe27c6-7a97-4271-b776-79113b60adb7",
   "metadata": {},
   "source": [
    "***Concatenation & Sorting of Arrays***"
   ]
  },
  {
   "cell_type": "markdown",
   "id": "4f1d8a79-3c8d-42b1-aea8-ae5324b34d04",
   "metadata": {},
   "source": [
    "The sections covers np.sort(), np.concatnation()"
   ]
  },
  {
   "cell_type": "markdown",
   "id": "93311a0b-86dd-4e02-9069-6cce09fb4231",
   "metadata": {},
   "source": [
    "***np.sort()***"
   ]
  },
  {
   "cell_type": "code",
   "execution_count": 3,
   "id": "f2d8ad6a-d9a6-417c-bbc0-26f729c75f09",
   "metadata": {},
   "outputs": [
    {
     "data": {
      "text/plain": [
       "array([ 2,  3,  4,  5, 10])"
      ]
     },
     "execution_count": 3,
     "metadata": {},
     "output_type": "execute_result"
    }
   ],
   "source": [
    "array1 = np.array([10,2,3,4,5])\n",
    "new_array1 = np.sort(array1)\n",
    "new_array1"
   ]
  },
  {
   "cell_type": "code",
   "execution_count": 47,
   "id": "bdfa2215-eb7a-4c14-931b-503f2a679832",
   "metadata": {},
   "outputs": [
    {
     "data": {
      "text/plain": [
       "array([10,  2,  3,  4,  5])"
      ]
     },
     "execution_count": 47,
     "metadata": {},
     "output_type": "execute_result"
    }
   ],
   "source": [
    "array1"
   ]
  },
  {
   "cell_type": "code",
   "execution_count": 4,
   "id": "3cd0472f-b444-43b3-bc9c-ab6b1ce57d34",
   "metadata": {},
   "outputs": [
    {
     "name": "stdout",
     "output_type": "stream",
     "text": [
      "[ 2  3  4  5 10]\n"
     ]
    }
   ],
   "source": [
    "print(new_array1)"
   ]
  },
  {
   "cell_type": "code",
   "execution_count": 62,
   "id": "6f6e41c0-c6fc-45ef-b805-ba9bc6cbe3bb",
   "metadata": {},
   "outputs": [
    {
     "data": {
      "text/plain": [
       "array([ 1,  3,  4,  5, 10, 24])"
      ]
     },
     "execution_count": 62,
     "metadata": {},
     "output_type": "execute_result"
    }
   ],
   "source": [
    "a = np.sort([1, 24,  3,  4,  5, 10])\n",
    "a"
   ]
  },
  {
   "cell_type": "markdown",
   "id": "4eeec71c-ac54-404f-862f-684077a2c2c3",
   "metadata": {},
   "source": [
    "***np.conatenate()***"
   ]
  },
  {
   "cell_type": "code",
   "execution_count": 7,
   "id": "dac5bb03-a13a-4e60-95ac-977600753500",
   "metadata": {},
   "outputs": [
    {
     "data": {
      "text/plain": [
       "array([5, 7, 9])"
      ]
     },
     "execution_count": 7,
     "metadata": {},
     "output_type": "execute_result"
    }
   ],
   "source": [
    "a1 = np.array([1,2,3])\n",
    "a2 = np.array([4,5,6])\n",
    "a1 + a2"
   ]
  },
  {
   "cell_type": "code",
   "execution_count": 8,
   "id": "988a0b83-2e26-46e2-ae9c-3a134c47d9c6",
   "metadata": {},
   "outputs": [
    {
     "name": "stdout",
     "output_type": "stream",
     "text": [
      "[5 7 9]\n"
     ]
    }
   ],
   "source": [
    "print(a1 + a2)"
   ]
  },
  {
   "cell_type": "code",
   "execution_count": 21,
   "id": "12d85924-20f7-4ad1-ac1c-093ebfc7ede8",
   "metadata": {},
   "outputs": [
    {
     "data": {
      "text/plain": [
       "array([1, 2, 3, 4, 5, 6])"
      ]
     },
     "execution_count": 21,
     "metadata": {},
     "output_type": "execute_result"
    }
   ],
   "source": [
    "# Concatenation\n",
    "\n",
    "concatenated_array = np.concatenate((a1,a2))\n",
    "concatenated_array"
   ]
  },
  {
   "cell_type": "code",
   "execution_count": 22,
   "id": "6f318bef-ebf9-4eff-a106-d00fa969bae5",
   "metadata": {},
   "outputs": [
    {
     "data": {
      "text/plain": [
       "array([4, 5, 6, 1, 2, 3])"
      ]
     },
     "execution_count": 22,
     "metadata": {},
     "output_type": "execute_result"
    }
   ],
   "source": [
    "concatenated_array = np.concatenate((a2,a1))\n",
    "concatenated_array"
   ]
  },
  {
   "cell_type": "code",
   "execution_count": 20,
   "id": "dbfd0b3f-5b80-473b-974a-fd52853aaefd",
   "metadata": {},
   "outputs": [
    {
     "name": "stdout",
     "output_type": "stream",
     "text": [
      "x \n",
      " [[1 2]\n",
      " [3 4]]\n",
      "y \n",
      " [[5 6]\n",
      " [7 8]]\n"
     ]
    }
   ],
   "source": [
    "# Concatenate 2d arrays\n",
    "\n",
    "a = np.array([[1,2],[3,4]])\n",
    "b = np.array([[5,6],[7,8]])\n",
    "print(\"x \\n\",a)\n",
    "print(\"y \\n\",b)"
   ]
  },
  {
   "cell_type": "code",
   "execution_count": 28,
   "id": "daa16f38-ed4d-4546-9d54-f684ce3863df",
   "metadata": {},
   "outputs": [
    {
     "data": {
      "text/plain": [
       "array([[1, 2],\n",
       "       [3, 4],\n",
       "       [5, 6],\n",
       "       [7, 8]])"
      ]
     },
     "execution_count": 28,
     "metadata": {},
     "output_type": "execute_result"
    }
   ],
   "source": [
    "# Concatenate along  axis = 0\n",
    "\n",
    "np.concatenate((a,b) , axis = 0)"
   ]
  },
  {
   "cell_type": "code",
   "execution_count": 25,
   "id": "897f3725-fd10-4ac5-bb1e-dcdb9a7d5792",
   "metadata": {},
   "outputs": [
    {
     "data": {
      "text/plain": [
       "array([[1, 2, 5, 6],\n",
       "       [3, 4, 7, 8]])"
      ]
     },
     "execution_count": 25,
     "metadata": {},
     "output_type": "execute_result"
    }
   ],
   "source": [
    "# Concatenate along axis = 1\n",
    "\n",
    "np.concatenate((a,b) , axis = 1)"
   ]
  },
  {
   "cell_type": "code",
   "execution_count": null,
   "id": "1405e4dd-da9a-4b8c-a0bb-7f837c43910f",
   "metadata": {},
   "outputs": [],
   "source": [
    "Axis = 0 direction (down/row)\n",
    "\n",
    "|\n",
    "|\n",
    "|\n",
    "|\n",
    "|\n",
    "|\n",
    "↓\n",
    "\n",
    "\n",
    "Axis = 1 direction (across/column)\n",
    "\n",
    "----------------→"
   ]
  },
  {
   "cell_type": "markdown",
   "id": "3efa4464-f5ed-49ff-81e7-47d60d27a11c",
   "metadata": {},
   "source": [
    " ***arr.reshape()***  Using arr.reshape() will give here shape to an array without changing the data. Just remember that when you use the reshape method, the array you want to produce needs to have the same number of elements as the original array. If you start an array with 12 elements you'll need to make sure that your new array also have a total of 12 elements."
   ]
  },
  {
   "cell_type": "code",
   "execution_count": 29,
   "id": "432f6447-12c9-455c-bf61-9509f3b5d244",
   "metadata": {},
   "outputs": [],
   "source": [
    "import numpy as np"
   ]
  },
  {
   "cell_type": "code",
   "execution_count": 30,
   "id": "eb0f4a28-de0e-433f-9c41-945d3f319147",
   "metadata": {},
   "outputs": [
    {
     "data": {
      "text/plain": [
       "array([0, 1, 2, 3, 4, 5])"
      ]
     },
     "execution_count": 30,
     "metadata": {},
     "output_type": "execute_result"
    }
   ],
   "source": [
    "a = np.arange(6)\n",
    "a"
   ]
  },
  {
   "cell_type": "code",
   "execution_count": 31,
   "id": "64d84566-6ab2-41db-aef8-b38e03c39a18",
   "metadata": {},
   "outputs": [
    {
     "data": {
      "text/plain": [
       "(6,)"
      ]
     },
     "execution_count": 31,
     "metadata": {},
     "output_type": "execute_result"
    }
   ],
   "source": [
    "a.shape"
   ]
  },
  {
   "cell_type": "code",
   "execution_count": 33,
   "id": "500e90c8-f7a5-47a7-9207-0b5b2b348595",
   "metadata": {},
   "outputs": [
    {
     "data": {
      "text/plain": [
       "array([[0, 1],\n",
       "       [2, 3],\n",
       "       [4, 5]])"
      ]
     },
     "execution_count": 33,
     "metadata": {},
     "output_type": "execute_result"
    }
   ],
   "source": [
    "b = a.reshape(3,2)\n",
    "b"
   ]
  },
  {
   "cell_type": "code",
   "execution_count": 34,
   "id": "73e80948-7448-4243-9098-1e2cd9d048c5",
   "metadata": {},
   "outputs": [
    {
     "data": {
      "text/plain": [
       "array([0, 1, 2, 3, 4, 5])"
      ]
     },
     "execution_count": 34,
     "metadata": {},
     "output_type": "execute_result"
    }
   ],
   "source": [
    "a"
   ]
  },
  {
   "cell_type": "code",
   "execution_count": 35,
   "id": "371ab348-62b3-4f1d-ae4a-78c691026027",
   "metadata": {},
   "outputs": [
    {
     "ename": "ValueError",
     "evalue": "cannot reshape array of size 6 into shape (4,1)",
     "output_type": "error",
     "traceback": [
      "\u001b[1;31m---------------------------------------------------------------------------\u001b[0m",
      "\u001b[1;31mValueError\u001b[0m                                Traceback (most recent call last)",
      "Cell \u001b[1;32mIn[35], line 1\u001b[0m\n\u001b[1;32m----> 1\u001b[0m c \u001b[38;5;241m=\u001b[39m b\u001b[38;5;241m.\u001b[39mreshape(\u001b[38;5;241m4\u001b[39m,\u001b[38;5;241m1\u001b[39m)\n\u001b[0;32m      2\u001b[0m c\n",
      "\u001b[1;31mValueError\u001b[0m: cannot reshape array of size 6 into shape (4,1)"
     ]
    }
   ],
   "source": [
    "c = b.reshape(4,1)\n",
    "c"
   ]
  },
  {
   "cell_type": "code",
   "execution_count": 36,
   "id": "1ef181ae-94ac-4dbd-a2fa-6d970cfc484d",
   "metadata": {},
   "outputs": [
    {
     "data": {
      "text/plain": [
       "array([[0],\n",
       "       [1],\n",
       "       [2],\n",
       "       [3],\n",
       "       [4],\n",
       "       [5]])"
      ]
     },
     "execution_count": 36,
     "metadata": {},
     "output_type": "execute_result"
    }
   ],
   "source": [
    "d = b.reshape(6,1)\n",
    "d"
   ]
  },
  {
   "cell_type": "code",
   "execution_count": 38,
   "id": "a4fb9268-e238-407d-9c15-de487ccda0df",
   "metadata": {},
   "outputs": [
    {
     "data": {
      "text/plain": [
       "array([[0, 1, 2, 3, 4, 5]])"
      ]
     },
     "execution_count": 38,
     "metadata": {},
     "output_type": "execute_result"
    }
   ],
   "source": [
    "e = b.reshape(1,6)\n",
    "e"
   ]
  },
  {
   "cell_type": "markdown",
   "id": "454fd1f2-df19-4514-a1b4-0c1360a76035",
   "metadata": {},
   "source": [
    "***Indexing Using Conditions of Arrays***"
   ]
  },
  {
   "cell_type": "code",
   "execution_count": 64,
   "id": "dc2a7816-1fe7-4880-a6a5-c6b045f1cc0c",
   "metadata": {},
   "outputs": [
    {
     "data": {
      "text/plain": [
       "array([[ 1,  2,  3,  4],\n",
       "       [ 5,  6,  7,  8],\n",
       "       [ 9, 10, 11, 12]])"
      ]
     },
     "execution_count": 64,
     "metadata": {},
     "output_type": "execute_result"
    }
   ],
   "source": [
    "a = np.array([[1,2,3,4],[5,6,7,8],[9,10,11,12]])\n",
    "a"
   ]
  },
  {
   "cell_type": "code",
   "execution_count": 51,
   "id": "9bcbf639-079a-4db9-a150-471ab6e2236e",
   "metadata": {},
   "outputs": [
    {
     "data": {
      "text/plain": [
       "array([[ True,  True,  True,  True],\n",
       "       [False, False, False, False],\n",
       "       [False, False, False, False]])"
      ]
     },
     "execution_count": 51,
     "metadata": {},
     "output_type": "execute_result"
    }
   ],
   "source": [
    "a<5 # boolean array"
   ]
  },
  {
   "cell_type": "code",
   "execution_count": 52,
   "id": "d5ce7d2c-24c9-4075-9b6f-31dc06c94774",
   "metadata": {},
   "outputs": [
    {
     "name": "stdout",
     "output_type": "stream",
     "text": [
      "[1 2 3 4]\n"
     ]
    }
   ],
   "source": [
    "print(a[a<5]) # give elements"
   ]
  },
  {
   "cell_type": "code",
   "execution_count": 55,
   "id": "fbf442c5-9b90-4ec0-98c9-9a671bf00ea4",
   "metadata": {},
   "outputs": [
    {
     "name": "stdout",
     "output_type": "stream",
     "text": [
      "[ 2  4  6  8 10 12]\n"
     ]
    }
   ],
   "source": [
    "# You can select even numbers\n",
    "\n",
    "print(a[a % 2 == 0])"
   ]
  },
  {
   "cell_type": "code",
   "execution_count": null,
   "id": "f06ac736-55f3-49c9-a21a-14e88797b3c6",
   "metadata": {},
   "outputs": [],
   "source": [
    "c = a"
   ]
  },
  {
   "cell_type": "code",
   "execution_count": 59,
   "id": "7fe89d20-cd07-4d9a-9312-9459ffd8e713",
   "metadata": {},
   "outputs": [
    {
     "data": {
      "text/plain": [
       "array([ 3,  4,  5,  6,  7,  8,  9, 10, 11])"
      ]
     },
     "execution_count": 59,
     "metadata": {},
     "output_type": "execute_result"
    }
   ],
   "source": [
    "# You cannot use and we can use &\n",
    "\n",
    "c = a[(a > 2) & (a < 12)]\n",
    "c"
   ]
  },
  {
   "cell_type": "code",
   "execution_count": 68,
   "id": "73631113-4b7b-4efc-b65c-497e60081fcf",
   "metadata": {},
   "outputs": [
    {
     "data": {
      "text/plain": [
       "array([ 1,  2,  3,  4,  5,  6,  7,  8,  9, 10, 11, 12])"
      ]
     },
     "execution_count": 68,
     "metadata": {},
     "output_type": "execute_result"
    }
   ],
   "source": [
    "# You cannot use orn we can use |\n",
    "\n",
    "c = a[(a > 2) | (a < 11)]\n",
    "c"
   ]
  },
  {
   "cell_type": "code",
   "execution_count": null,
   "id": "c6c611fd-650a-4211-acd6-46b3d6c39250",
   "metadata": {},
   "outputs": [],
   "source": []
  },
  {
   "cell_type": "code",
   "execution_count": null,
   "id": "4b2599db-2ac5-45b1-9304-0fc9bd8ec1c0",
   "metadata": {},
   "outputs": [],
   "source": []
  },
  {
   "cell_type": "code",
   "execution_count": null,
   "id": "913987a1-8a1c-482c-85f2-1570047ea284",
   "metadata": {},
   "outputs": [],
   "source": []
  },
  {
   "cell_type": "code",
   "execution_count": null,
   "id": "f84f0a1a-1e25-4020-9477-ed0fe75aee9c",
   "metadata": {},
   "outputs": [],
   "source": []
  }
 ],
 "metadata": {
  "kernelspec": {
   "display_name": "Python 3 (ipykernel)",
   "language": "python",
   "name": "python3"
  },
  "language_info": {
   "codemirror_mode": {
    "name": "ipython",
    "version": 3
   },
   "file_extension": ".py",
   "mimetype": "text/x-python",
   "name": "python",
   "nbconvert_exporter": "python",
   "pygments_lexer": "ipython3",
   "version": "3.13.5"
  }
 },
 "nbformat": 4,
 "nbformat_minor": 5
}
