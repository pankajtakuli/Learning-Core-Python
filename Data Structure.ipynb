{
 "cells": [
  {
   "cell_type": "markdown",
   "id": "8e3f1857-faa6-4ed4-89e1-a33785fdb59d",
   "metadata": {},
   "source": [
    "<font size =\"6\">**Python Data Structure**"
   ]
  },
  {
   "cell_type": "markdown",
   "id": "a18006af-20af-405e-af6c-71611c9fc1ec",
   "metadata": {},
   "source": [
    "<font size = \"5\">**1.List**"
   ]
  },
  {
   "cell_type": "markdown",
   "id": "f19d95d9-0e67-4f9c-9a0f-4de8d497c315",
   "metadata": {},
   "source": [
    "**Defonation :** A list in an **ordered , mutable** collection in python."
   ]
  },
  {
   "cell_type": "markdown",
   "id": "d822ac7a-9b0e-42dd-8733-19663ea791b5",
   "metadata": {},
   "source": [
    "- Allows duplicates\n",
    "- Elements can be of mixed data types\n",
    "- Supports indexing (positive and negative)"
   ]
  },
  {
   "cell_type": "markdown",
   "id": "d671ae4b-150d-4624-974b-b58d5caef82f",
   "metadata": {},
   "source": [
    "<font size = \"4\">**Creating lists**"
   ]
  },
  {
   "cell_type": "code",
   "execution_count": 3,
   "id": "943d3d64-3448-409e-bd75-a912b107381c",
   "metadata": {},
   "outputs": [
    {
     "name": "stdout",
     "output_type": "stream",
     "text": [
      "Numbers: [10, 20, 30]\n",
      "Fruits: ['Mango', 'Apple', ' Banana']\n",
      "Mixed: [1, 'two', 3.0, [4, 5]]\n"
     ]
    }
   ],
   "source": [
    "nums = [10,20,30]\n",
    "fruits = [\"Mango\", \"Apple\" ,\" Banana\"]\n",
    "mixed = [1, \"two\",3.0 , [4,5]]\n",
    "\n",
    "print(\"Numbers:\",nums)\n",
    "print(\"Fruits:\",fruits)\n",
    "print(\"Mixed:\",mixed)"
   ]
  },
  {
   "cell_type": "code",
   "execution_count": 1,
   "id": "0509574a-7863-4072-998d-26205f3436d5",
   "metadata": {},
   "outputs": [
    {
     "name": "stdout",
     "output_type": "stream",
     "text": [
      "[30, 10, 20]\n",
      "[34, 65, 34, 65]\n"
     ]
    }
   ],
   "source": [
    "num1 = [30,10,20 ] # Lists preserve orders\n",
    "print(num1)   \n",
    "\n",
    "num2 = [34,65,34,65]\n",
    "print(num2)"
   ]
  },
  {
   "cell_type": "markdown",
   "id": "d9b1b11f-54c8-4812-bdb4-6eeef3e61da8",
   "metadata": {},
   "source": [
    "**1.1.   List Methods**"
   ]
  },
  {
   "cell_type": "markdown",
   "id": "e86158c2-b69b-47ea-80cd-09ec261c0276",
   "metadata": {},
   "source": [
    "**1.1.1.   len()**"
   ]
  },
  {
   "cell_type": "markdown",
   "id": "b43cc4ee-bfeb-4104-b693-7a673641892b",
   "metadata": {},
   "source": [
    "Note : len() is a function not a method."
   ]
  },
  {
   "cell_type": "code",
   "execution_count": 8,
   "id": "af395599-784e-42a7-a1fb-ca53b1d1761f",
   "metadata": {},
   "outputs": [
    {
     "name": "stdout",
     "output_type": "stream",
     "text": [
      "3\n"
     ]
    }
   ],
   "source": [
    "fruits = [\"Mango\",\"Banana\",\"Apple\"]\n",
    "print(len(fruits))"
   ]
  },
  {
   "cell_type": "code",
   "execution_count": 3,
   "id": "11f11d91-7634-4b87-a52f-da1ec695c0c2",
   "metadata": {},
   "outputs": [
    {
     "name": "stdout",
     "output_type": "stream",
     "text": [
      "14\n"
     ]
    }
   ],
   "source": [
    "nums = [1,2,3,2,4,24,2,2,2,5656.45,4,34.32,35,546,]\n",
    "print(len(nums))"
   ]
  },
  {
   "cell_type": "code",
   "execution_count": 15,
   "id": "934e2669-868f-4a58-8769-db5eb36a1ab9",
   "metadata": {},
   "outputs": [
    {
     "name": "stdout",
     "output_type": "stream",
     "text": [
      "5\n"
     ]
    }
   ],
   "source": [
    "letters = [\"python\",\"data\",\"science\",\"hello\",\"world\"]\n",
    "print(len(letters))"
   ]
  },
  {
   "cell_type": "markdown",
   "id": "135449d1-e2c3-4f7d-8e72-381def3e5615",
   "metadata": {},
   "source": [
    "**1.1.2. append()**"
   ]
  },
  {
   "cell_type": "code",
   "execution_count": 13,
   "id": "4a30ade1-1b8c-45e1-b551-8a77d60d72c2",
   "metadata": {},
   "outputs": [
    {
     "name": "stdout",
     "output_type": "stream",
     "text": [
      "After append: [10, 20, 30]\n"
     ]
    }
   ],
   "source": [
    "nums = [10,20]\n",
    "nums.append(30)\n",
    "print(\"After append:\",nums)"
   ]
  },
  {
   "cell_type": "markdown",
   "id": "ab742e46-7625-4501-8a23-749549cd87e0",
   "metadata": {},
   "source": [
    "**1.1.3.  extend()**"
   ]
  },
  {
   "cell_type": "code",
   "execution_count": 4,
   "id": "bb92407b-b0cc-4d31-9611-23c8644b205a",
   "metadata": {},
   "outputs": [
    {
     "name": "stdout",
     "output_type": "stream",
     "text": [
      "After extend: [1, 2, 3, 4, 5]\n"
     ]
    }
   ],
   "source": [
    "# extend method add another list only not a single element\n",
    "nums = [ 1, 2]\n",
    "nums.extend([3,4,5])\n",
    "print(\"After extend:\",nums)"
   ]
  },
  {
   "cell_type": "code",
   "execution_count": 3,
   "id": "8ab0bee3-fe60-4648-a110-137dd51983ca",
   "metadata": {},
   "outputs": [
    {
     "name": "stdout",
     "output_type": "stream",
     "text": [
      "[3, 45, 3, 0]\n"
     ]
    }
   ],
   "source": [
    "nums = [3,45,3]\n",
    "nums.extend([0])\n",
    "print(nums)"
   ]
  },
  {
   "cell_type": "code",
   "execution_count": null,
   "id": "d5751ba8-563c-4f8d-902e-4df5041fdb62",
   "metadata": {},
   "outputs": [],
   "source": []
  },
  {
   "cell_type": "code",
   "execution_count": 14,
   "id": "95dedfea-bf08-454e-9088-15665a9a4a85",
   "metadata": {},
   "outputs": [
    {
     "name": "stdout",
     "output_type": "stream",
     "text": [
      "<class 'tuple'>\n",
      "<class 'set'>\n",
      "<class 'list'>\n",
      "After extend: [1, 23, 45, 3, 4, 5, 56, 345, 23, 99, 990]\n"
     ]
    }
   ],
   "source": [
    "nums = [1,23,45]\n",
    "n = (3,4,5) # tuple\n",
    "n1 = {23,345,56} # set\n",
    "n2 = [99,990] # dictonary\n",
    "\n",
    "\n",
    "nums.extend(n) # We can add another tuple by extend method.\n",
    "nums.extend(n1) # We can add another set by extend method.\n",
    "nums.extend(n2) # We can add another dictonary by extend method.\n",
    "\n",
    "\n",
    "print(type(n))\n",
    "print(type(n1))\n",
    "print(type(n2))\n",
    "print(\"After extend:\",nums)"
   ]
  },
  {
   "cell_type": "code",
   "execution_count": 22,
   "id": "b6eb6305-5ae8-4c76-9639-b12e76a0b592",
   "metadata": {},
   "outputs": [
    {
     "name": "stdout",
     "output_type": "stream",
     "text": [
      "After extend: [3, 2, 67]\n",
      "After extend another list: [3, 2, 67, 'python', 'data', 'science', 'hello', 'world']\n"
     ]
    }
   ],
   "source": [
    "letters = [\"python\",\"data\",\"science\",\"hello\",\"world\"]\n",
    "lst1 = []\n",
    "lst1.extend({2,3,67})\n",
    "print(\"After extend:\",lst1)\n",
    "lst1.extend(letters)\n",
    "print(\"After extend another list:\",lst1)"
   ]
  },
  {
   "cell_type": "code",
   "execution_count": 7,
   "id": "ac976e9d-a760-406b-9383-1fecddcc4a44",
   "metadata": {},
   "outputs": [
    {
     "name": "stdout",
     "output_type": "stream",
     "text": [
      "[23, 12, 45, 56, 3, 'Pankaj']\n"
     ]
    }
   ],
   "source": [
    "n = [23,12,45,56,3]\n",
    "n.extend((\"Pankaj\",))\n",
    "print(n)"
   ]
  },
  {
   "cell_type": "code",
   "execution_count": 8,
   "id": "d685a69d-4cc1-4f58-9357-619461ec2dd0",
   "metadata": {},
   "outputs": [
    {
     "name": "stdout",
     "output_type": "stream",
     "text": [
      "[34, 534, 23, 22, 23, 'Name', 'Class']\n"
     ]
    }
   ],
   "source": [
    "n = [34,534,23,22,23]\n",
    "n.extend({\"Name\":\"Pankaj\",\"Class\":12})\n",
    "print(n)"
   ]
  },
  {
   "cell_type": "code",
   "execution_count": null,
   "id": "3246e970-a4ad-4df5-b571-899f0a915ed0",
   "metadata": {},
   "outputs": [],
   "source": []
  },
  {
   "cell_type": "markdown",
   "id": "6ab926eb-b4a2-47c7-b0e3-24693f9417f6",
   "metadata": {},
   "source": [
    "**1.1.4.  remove(value to be removed)**"
   ]
  },
  {
   "cell_type": "code",
   "execution_count": 16,
   "id": "f7a56dcd-b4b0-4751-be2d-c754fcdfbc4b",
   "metadata": {},
   "outputs": [
    {
     "name": "stdout",
     "output_type": "stream",
     "text": [
      "After remove: [1, 2, 3]\n"
     ]
    }
   ],
   "source": [
    "nums = [1,2,2,3]\n",
    "nums.remove(2)\n",
    "print(\"After remove:\",nums)"
   ]
  },
  {
   "cell_type": "code",
   "execution_count": 26,
   "id": "b8d8bfad-24ff-41f4-aa7c-014d39d7a781",
   "metadata": {},
   "outputs": [
    {
     "name": "stdout",
     "output_type": "stream",
     "text": [
      "After remove : [1, 2, 3, 2, 6]\n"
     ]
    }
   ],
   "source": [
    "nums = [1,2,3,2,[34,56,67],6]\n",
    "nums.remove([34,56,67])\n",
    "print(\"After remove :\",nums)"
   ]
  },
  {
   "cell_type": "code",
   "execution_count": 6,
   "id": "0cdc7a30-5717-40ec-b360-bfea5febc316",
   "metadata": {},
   "outputs": [
    {
     "name": "stdout",
     "output_type": "stream",
     "text": [
      "After remove: [1, 2, 4, 5]\n"
     ]
    }
   ],
   "source": [
    "nums = [1,2,2,4,5]\n",
    "nums.remove(2)\n",
    "print(\"After remove:\",nums)"
   ]
  },
  {
   "cell_type": "code",
   "execution_count": 10,
   "id": "98092413-86e6-4036-84bf-149f8373af8a",
   "metadata": {},
   "outputs": [
    {
     "name": "stdout",
     "output_type": "stream",
     "text": [
      "[34, 23, 23.78, 'data science', 56.09]\n"
     ]
    }
   ],
   "source": [
    "lst = [34,23,23.78,\"Pankaj\",\"data science\",56.09]\n",
    "lst.remove(\"Pankaj\")\n",
    "print(lst)"
   ]
  },
  {
   "cell_type": "code",
   "execution_count": null,
   "id": "458922e2-1b06-4851-8c64-198b5a424f2f",
   "metadata": {},
   "outputs": [],
   "source": []
  },
  {
   "cell_type": "markdown",
   "id": "cb6bb1ea-4c0d-484b-81c2-929b20c7e5b7",
   "metadata": {},
   "source": [
    "**1.1.5.  pop(index value to be removed\n",
    ")**"
   ]
  },
  {
   "cell_type": "code",
   "execution_count": 30,
   "id": "a6123be1-24ae-4ede-958c-58fb22afdbea",
   "metadata": {},
   "outputs": [
    {
     "name": "stdout",
     "output_type": "stream",
     "text": [
      "Popped last: 40\n",
      "Popped index 1: 20\n",
      "List now : [10, 30]\n"
     ]
    }
   ],
   "source": [
    "nums = [10,20,30,40]\n",
    "last = nums.pop()\n",
    "second = nums.pop(1)\n",
    "print(\"Popped last:\",last)\n",
    "print(\"Popped index 1:\",second)\n",
    "print(\"List now :\",nums)"
   ]
  },
  {
   "cell_type": "code",
   "execution_count": 32,
   "id": "a353c74e-4e59-45c8-8d23-fc3afa168faa",
   "metadata": {},
   "outputs": [
    {
     "name": "stdout",
     "output_type": "stream",
     "text": [
      "Removed value: 45 After removing the value new list: [23, 34, 56, 67]\n"
     ]
    }
   ],
   "source": [
    "nums = [23,34,45,56,67]\n",
    "nums1 = nums.pop(-3)\n",
    "print(\"Removed value:\",nums1,\"After removing the value new list:\",nums)"
   ]
  },
  {
   "cell_type": "code",
   "execution_count": 12,
   "id": "f3593747-51a8-42ac-8a51-b334710a46c6",
   "metadata": {},
   "outputs": [
    {
     "name": "stdout",
     "output_type": "stream",
     "text": [
      "[45, 3434, 23, 24]\n"
     ]
    }
   ],
   "source": [
    "n = [45,3434,23,24,24]\n",
    "n.pop(-1)\n",
    "print(n)"
   ]
  },
  {
   "cell_type": "markdown",
   "id": "ccbc4165-8bf3-4be3-9923-43c4ccebd496",
   "metadata": {},
   "source": [
    "**1.1.6. clear()**"
   ]
  },
  {
   "cell_type": "code",
   "execution_count": 33,
   "id": "d3204275-4d1b-4910-8c50-803f6d7c16f5",
   "metadata": {},
   "outputs": [
    {
     "name": "stdout",
     "output_type": "stream",
     "text": [
      "After clear: []\n"
     ]
    }
   ],
   "source": [
    "# It will clear all value of the list.\n",
    "\n",
    "nums = [1,2,3]\n",
    "nums.clear()\n",
    "print(\"After clear:\",nums)"
   ]
  },
  {
   "cell_type": "code",
   "execution_count": 16,
   "id": "abe6ed94-f676-4c7f-8c86-7da45adbdb0a",
   "metadata": {},
   "outputs": [
    {
     "name": "stdout",
     "output_type": "stream",
     "text": [
      "[]\n"
     ]
    }
   ],
   "source": [
    "lst = [34,23,23.78,\"Pankaj\",\"data science\",56.09]\n",
    "n.clear()\n",
    "print(n)"
   ]
  },
  {
   "cell_type": "code",
   "execution_count": null,
   "id": "2dc50cf3-729b-4038-b568-d2126411a666",
   "metadata": {},
   "outputs": [],
   "source": []
  },
  {
   "cell_type": "markdown",
   "id": "532df9a4-f4a6-479d-9a1a-3ac9ed24d8bd",
   "metadata": {},
   "source": [
    "**1.1.7.  index()**"
   ]
  },
  {
   "cell_type": "code",
   "execution_count": 34,
   "id": "345f126f-339a-4e7c-8438-aad271be7251",
   "metadata": {},
   "outputs": [
    {
     "name": "stdout",
     "output_type": "stream",
     "text": [
      "Index of 'b': 1\n"
     ]
    }
   ],
   "source": [
    "letters = [\"a\",\"b\",\"c\",\"b\"]\n",
    "print(\"Index of 'b':\",letters.index(\"b\"))"
   ]
  },
  {
   "cell_type": "code",
   "execution_count": 1,
   "id": "634e0d12-da51-4e98-b3af-7f23ce0345eb",
   "metadata": {},
   "outputs": [
    {
     "name": "stdout",
     "output_type": "stream",
     "text": [
      "Index value : 0\n"
     ]
    }
   ],
   "source": [
    "words = [\"d\",\"ah\",\"d\",\"j\",\"a\"]\n",
    "ind = words.index(\"d\")\n",
    "print(\"Index value :\",ind)"
   ]
  },
  {
   "cell_type": "code",
   "execution_count": 21,
   "id": "d260c466-c186-416d-b995-6ea726361290",
   "metadata": {},
   "outputs": [
    {
     "name": "stdout",
     "output_type": "stream",
     "text": [
      "3\n"
     ]
    }
   ],
   "source": [
    "lst = [34,23,23.78,\"Pankaj\",\"data science\",56.09]\n",
    "a = lst.index(\"Pankaj\")\n",
    "print(a)"
   ]
  },
  {
   "cell_type": "code",
   "execution_count": null,
   "id": "5e97da6f-57e8-4e6a-aa6b-dc31b15c103c",
   "metadata": {},
   "outputs": [],
   "source": []
  },
  {
   "cell_type": "code",
   "execution_count": null,
   "id": "39a960a8-3a64-42ac-bb67-75c52fb795cc",
   "metadata": {},
   "outputs": [],
   "source": []
  },
  {
   "cell_type": "markdown",
   "id": "2295a5fa-0593-4279-bca0-acb362fbb825",
   "metadata": {},
   "source": [
    "**1.1.8.  count()**"
   ]
  },
  {
   "cell_type": "code",
   "execution_count": 37,
   "id": "f593832d-c87f-47a3-be78-4cd5d74a6aa6",
   "metadata": {},
   "outputs": [
    {
     "name": "stdout",
     "output_type": "stream",
     "text": [
      "After count : 3\n"
     ]
    }
   ],
   "source": [
    "letters = [\"a\",\"b\",\"b\",\"c\",\"b\"]\n",
    "print(\"After count :\",letters.count(\"b\"))"
   ]
  },
  {
   "cell_type": "code",
   "execution_count": 40,
   "id": "852c7432-2fa5-4291-b647-347b43dd002e",
   "metadata": {},
   "outputs": [
    {
     "name": "stdout",
     "output_type": "stream",
     "text": [
      "After count : 6\n"
     ]
    }
   ],
   "source": [
    "nums = [1,2,3,1,2,3,1,12,1,32,1,31,1]\n",
    "count = nums.count(1)\n",
    "print(\"After count :\",count)"
   ]
  },
  {
   "cell_type": "markdown",
   "id": "054078ae-4e16-4fe6-9a9e-a7f001162013",
   "metadata": {},
   "source": [
    "**1.1.9.  sort()**"
   ]
  },
  {
   "cell_type": "code",
   "execution_count": 4,
   "id": "04a00b9e-2403-4acd-aa8d-dd7b1097f315",
   "metadata": {},
   "outputs": [
    {
     "name": "stdout",
     "output_type": "stream",
     "text": [
      "After sorted : [2, 2, 5, 9]\n"
     ]
    }
   ],
   "source": [
    "nums = [5,2,9,2]\n",
    "nums.sort()\n",
    "print(\"After sorted :\",nums)"
   ]
  },
  {
   "cell_type": "code",
   "execution_count": 27,
   "id": "89123b77-0c55-4726-b865-23ab0a735e55",
   "metadata": {},
   "outputs": [
    {
     "ename": "TypeError",
     "evalue": "'<' not supported between instances of 'int' and 'str'",
     "output_type": "error",
     "traceback": [
      "\u001b[1;31m---------------------------------------------------------------------------\u001b[0m",
      "\u001b[1;31mTypeError\u001b[0m                                 Traceback (most recent call last)",
      "Cell \u001b[1;32mIn[27], line 2\u001b[0m\n\u001b[0;32m      1\u001b[0m letters \u001b[38;5;241m=\u001b[39m [\u001b[38;5;124m\"\u001b[39m\u001b[38;5;124ma\u001b[39m\u001b[38;5;124m\"\u001b[39m,\u001b[38;5;124m\"\u001b[39m\u001b[38;5;124mb\u001b[39m\u001b[38;5;124m\"\u001b[39m,\u001b[38;5;241m3\u001b[39m,\u001b[38;5;124m\"\u001b[39m\u001b[38;5;124mhello\u001b[39m\u001b[38;5;124m\"\u001b[39m,\u001b[38;5;241m56\u001b[39m,\u001b[38;5;241m78.00\u001b[39m,\u001b[38;5;124m\"\u001b[39m\u001b[38;5;124mb\u001b[39m\u001b[38;5;124m\"\u001b[39m]\n\u001b[1;32m----> 2\u001b[0m \u001b[38;5;28mprint\u001b[39m(letters\u001b[38;5;241m.\u001b[39msort())\n",
      "\u001b[1;31mTypeError\u001b[0m: '<' not supported between instances of 'int' and 'str'"
     ]
    }
   ],
   "source": [
    "letters = [\"a\",\"b\",3,\"hello\",56,78.00,\"b\"]\n",
    "print(letters.sort())"
   ]
  },
  {
   "cell_type": "code",
   "execution_count": null,
   "id": "f9cc453c-d318-4cd2-84ba-f8e50ef55947",
   "metadata": {},
   "outputs": [],
   "source": []
  },
  {
   "cell_type": "code",
   "execution_count": 29,
   "id": "0587f914-f86d-450a-b8c6-d12c3d7795eb",
   "metadata": {},
   "outputs": [
    {
     "name": "stdout",
     "output_type": "stream",
     "text": [
      "None\n"
     ]
    }
   ],
   "source": [
    "lst = [\"34\",\"23\",\"23.78\",\"Pankaj\",\"data sciencel\",\"56.09\"]\n",
    "print(lst.sort())"
   ]
  },
  {
   "cell_type": "markdown",
   "id": "580c3d49-5d02-41fd-b75d-4daabad059d7",
   "metadata": {},
   "source": [
    "**1.1.10.  sort(reverse)**"
   ]
  },
  {
   "cell_type": "code",
   "execution_count": 2,
   "id": "3e4dab86-baf8-4220-8dfc-3f82ed282f91",
   "metadata": {},
   "outputs": [
    {
     "name": "stdout",
     "output_type": "stream",
     "text": [
      "After sorted : [9, 5, 2, 2]\n"
     ]
    }
   ],
   "source": [
    "nums = [5,2,9,2]\n",
    "nums.sort(reverse = True)\n",
    "print(\"After sorted :\",nums)"
   ]
  },
  {
   "cell_type": "code",
   "execution_count": 25,
   "id": "3ec02179-0df4-4ea7-9170-d0a781c94b5a",
   "metadata": {},
   "outputs": [
    {
     "name": "stdout",
     "output_type": "stream",
     "text": [
      "None\n"
     ]
    }
   ],
   "source": [
    "lst = [\"34\",\"23\",\"23.78\",\"Pankaj\",\"data sciencel\",\"56.09\"]\n",
    "a = lst.sort(reverse = True)\n",
    "print(a)"
   ]
  },
  {
   "cell_type": "code",
   "execution_count": null,
   "id": "5f628144-3196-4a1d-89b4-73886536898f",
   "metadata": {},
   "outputs": [],
   "source": []
  },
  {
   "cell_type": "markdown",
   "id": "916e69b2-be5b-4893-9341-a210a8d423f1",
   "metadata": {},
   "source": [
    "**1.1.11. reverse()**"
   ]
  },
  {
   "cell_type": "code",
   "execution_count": 2,
   "id": "549d8c86-7aaf-437b-b456-618e21dbce9b",
   "metadata": {},
   "outputs": [
    {
     "name": "stdout",
     "output_type": "stream",
     "text": [
      "After reverse : [89, 56, 78]\n"
     ]
    }
   ],
   "source": [
    "nums = [78,56,89]\n",
    "nums.reverse()\n",
    "print(\"After reverse :\",nums)"
   ]
  },
  {
   "cell_type": "code",
   "execution_count": 28,
   "id": "5066f853-4143-492f-a5f5-47793a71979a",
   "metadata": {},
   "outputs": [
    {
     "name": "stdout",
     "output_type": "stream",
     "text": [
      "['56.09', 'data sciencel', 'Pankaj', '23.78', '23', '34']\n"
     ]
    }
   ],
   "source": [
    "lst = [\"34\",\"23\",\"23.78\",\"Pankaj\",\"data sciencel\",\"56.09\"]\n",
    "lst.reverse()\n",
    "print(lst)"
   ]
  },
  {
   "cell_type": "code",
   "execution_count": 51,
   "id": "1b7d78b1-f50e-4190-96aa-fd7996f7841d",
   "metadata": {},
   "outputs": [
    {
     "name": "stdout",
     "output_type": "stream",
     "text": [
      "After reverse : ['e', 'd', 'z', 'v', 'k', 'a', 'h', 'c', 'b', 'a']\n"
     ]
    }
   ],
   "source": [
    "letters = [\"a\",\"b\",\"c\",\"h\",\"a\",\"k\",\"v\",\"z\",\"d\",\"e\"]\n",
    "letters.reverse()\n",
    "print(\"After reverse :\",letters)"
   ]
  },
  {
   "cell_type": "markdown",
   "id": "dbffbaa6-0e54-45ea-b521-a336c3ec68ad",
   "metadata": {},
   "source": [
    "**1.1.12  Slicing**"
   ]
  },
  {
   "cell_type": "code",
   "execution_count": 55,
   "id": "28ff8a18-89f1-4f80-a97a-2a5d435368b7",
   "metadata": {},
   "outputs": [
    {
     "name": "stdout",
     "output_type": "stream",
     "text": [
      "nums[1:4] = [20, 30, 40]\n",
      "nums[:3] = [10, 20, 30]\n",
      "nums[::2] = [10, 30, 50]\n",
      "nums[::-1] = [50, 40, 30, 20, 10]\n"
     ]
    }
   ],
   "source": [
    "nums = [10,20,30,40,50]\n",
    "print(\"nums[1:4] =\",nums[1:4])\n",
    "print(\"nums[:3] =\",nums[:3])\n",
    "print(\"nums[::2] =\",nums[::2])\n",
    "print(\"nums[::-1] =\",nums[::-1])"
   ]
  },
  {
   "cell_type": "markdown",
   "id": "02bfd4d2-7845-4091-9af1-d5fa6a4ac09d",
   "metadata": {},
   "source": [
    "**1.1.13. Concatenation and Repetation**"
   ]
  },
  {
   "cell_type": "code",
   "execution_count": 3,
   "id": "9a08121c-297e-4aa0-ab03-12ecae70e3f3",
   "metadata": {},
   "outputs": [
    {
     "name": "stdout",
     "output_type": "stream",
     "text": [
      "[1, 2, 3, 4]\n",
      "[1, 2, 1, 2, 1, 2]\n"
     ]
    }
   ],
   "source": [
    "print([1,2] + [3,4]) # Concatenation\n",
    "print([1,2] * 3) # Repetition"
   ]
  },
  {
   "cell_type": "code",
   "execution_count": 59,
   "id": "08664d9f-24f8-4b1b-b90c-ac023834476e",
   "metadata": {},
   "outputs": [
    {
     "name": "stdout",
     "output_type": "stream",
     "text": [
      "[1, 2, 3, 4, 1, 2, 3, 4]\n"
     ]
    }
   ],
   "source": [
    "print([1,2,3,4,] *2)"
   ]
  },
  {
   "cell_type": "code",
   "execution_count": 35,
   "id": "b11f8bef-be93-4319-a142-c9890d66d3e0",
   "metadata": {},
   "outputs": [
    {
     "name": "stdout",
     "output_type": "stream",
     "text": [
      "[[34, 56, 1, 2], [34, 56, 1, 2]]\n",
      "2\n"
     ]
    }
   ],
   "source": [
    "p = [[34,56,1,2]] * 2\n",
    "print(p)\n",
    "print(len(p))"
   ]
  },
  {
   "cell_type": "code",
   "execution_count": null,
   "id": "8903a334-deb6-4067-b38e-746e4500875f",
   "metadata": {},
   "outputs": [],
   "source": []
  },
  {
   "cell_type": "markdown",
   "id": "2c9b0363-a1b3-43f0-ac76-0832621f7d36",
   "metadata": {},
   "source": [
    "**1.1.14. Membership**"
   ]
  },
  {
   "cell_type": "code",
   "execution_count": 42,
   "id": "95588d98-4594-445b-b5b6-efcee3929f3f",
   "metadata": {},
   "outputs": [
    {
     "name": "stdout",
     "output_type": "stream",
     "text": [
      "True\n",
      "False\n"
     ]
    }
   ],
   "source": [
    "lst = [1,2,3,4,5,6]\n",
    "print(1 in lst)\n",
    "print(23 in lst)"
   ]
  },
  {
   "cell_type": "code",
   "execution_count": 44,
   "id": "5ca3901a-9b68-4293-b805-a856a3e51815",
   "metadata": {},
   "outputs": [
    {
     "name": "stdout",
     "output_type": "stream",
     "text": [
      "True\n",
      "True\n"
     ]
    }
   ],
   "source": [
    "lst1 = [\"pankaj\" , \"python\" , \"data\" , \"science\"]\n",
    "print(\"pankaj\" in lst1)\n",
    "print(\"hello\" not in lst1)"
   ]
  },
  {
   "cell_type": "code",
   "execution_count": null,
   "id": "9099aca9-dab4-4f59-ac0e-e4ac70d99261",
   "metadata": {},
   "outputs": [],
   "source": []
  },
  {
   "cell_type": "code",
   "execution_count": null,
   "id": "d7974074-087f-419d-8917-7ea3cc25a8ad",
   "metadata": {},
   "outputs": [],
   "source": []
  },
  {
   "cell_type": "code",
   "execution_count": null,
   "id": "81ce5027-1127-4450-9a66-59a4cf5f6888",
   "metadata": {},
   "outputs": [],
   "source": []
  },
  {
   "cell_type": "code",
   "execution_count": null,
   "id": "d11e959f-0ce3-4870-ae5b-e2e35db823d1",
   "metadata": {},
   "outputs": [],
   "source": []
  },
  {
   "cell_type": "code",
   "execution_count": null,
   "id": "1c477ac6-375f-4135-9346-c14fc4eb648d",
   "metadata": {},
   "outputs": [],
   "source": []
  },
  {
   "cell_type": "markdown",
   "id": "505ccf42-2a90-474f-8591-89dba01ffbcb",
   "metadata": {},
   "source": [
    "<font size = \"5\">**2.  Tuples**"
   ]
  },
  {
   "cell_type": "markdown",
   "id": "72fd6149-ad5e-41d1-b8df-5e6e783367a9",
   "metadata": {},
   "source": [
    "**Defination :** A tuple is an **ordered , immutable** collection."
   ]
  },
  {
   "cell_type": "markdown",
   "id": "48a85f35-aae9-403c-925b-617254c44f3a",
   "metadata": {},
   "source": [
    "- Allows duplicates\n",
    "- Good for fixed records"
   ]
  },
  {
   "cell_type": "markdown",
   "id": "33ef49f6-2f54-43b1-a9a3-c2522422584b",
   "metadata": {},
   "source": [
    "<font size = \"4\">**Creating Tuples**"
   ]
  },
  {
   "cell_type": "code",
   "execution_count": 69,
   "id": "fd07d159-4ed9-4217-99d2-69072091540e",
   "metadata": {},
   "outputs": [
    {
     "name": "stdout",
     "output_type": "stream",
     "text": [
      "<class 'tuple'>\n",
      "<class 'tuple'>\n",
      "Tuple : (10, 20, 30)\n",
      "Single element tuple : (42,)\n"
     ]
    }
   ],
   "source": [
    "t = (10,20,30)\n",
    "single = (42,)\n",
    "\n",
    "print(type(t))\n",
    "print(type(single))\n",
    "\n",
    "print(\"Tuple :\",t)\n",
    "print(\"Single element tuple :\", single)"
   ]
  },
  {
   "cell_type": "code",
   "execution_count": 5,
   "id": "770df3ae-8b26-4ecf-8d4f-128cebfb7ea8",
   "metadata": {},
   "outputs": [
    {
     "name": "stdout",
     "output_type": "stream",
     "text": [
      "(43,)\n",
      "<class 'tuple'>\n"
     ]
    }
   ],
   "source": [
    "t1 = 43,\n",
    "print(t1)\n",
    "print(type(t1))"
   ]
  },
  {
   "cell_type": "code",
   "execution_count": 7,
   "id": "e25c4f6a-6821-4eac-88ca-bfb3b6035433",
   "metadata": {},
   "outputs": [
    {
     "name": "stdout",
     "output_type": "stream",
     "text": [
      "(34, 45, 23, 54, 45, 'python', 'data science')\n",
      "<class 'tuple'>\n"
     ]
    }
   ],
   "source": [
    "t2 = 34,45,23,54,45,\"python\",\"data science\"\n",
    "print(t2)\n",
    "print(type(t2))"
   ]
  },
  {
   "cell_type": "code",
   "execution_count": 11,
   "id": "51951a5a-2138-4b60-99c2-a628332865f9",
   "metadata": {},
   "outputs": [
    {
     "data": {
      "text/plain": [
       "0"
      ]
     },
     "execution_count": 11,
     "metadata": {},
     "output_type": "execute_result"
    }
   ],
   "source": [
    "t2.index(34)"
   ]
  },
  {
   "cell_type": "markdown",
   "id": "7f7119fb-c1f4-4e70-94fd-afecbd7097ea",
   "metadata": {},
   "source": [
    "**2.1.   Tuple Methods**"
   ]
  },
  {
   "cell_type": "markdown",
   "id": "9fe4694d-7454-4140-868d-d6a443424034",
   "metadata": {},
   "source": [
    "**2.1.1. len()**"
   ]
  },
  {
   "cell_type": "markdown",
   "id": "45ca4f19-3222-4da0-b867-be016e434f3f",
   "metadata": {},
   "source": [
    "Note : len() is a funtion not a method."
   ]
  },
  {
   "cell_type": "code",
   "execution_count": 72,
   "id": "3d3c95dd-6e69-4330-a5ea-0ca549c7b304",
   "metadata": {},
   "outputs": [
    {
     "name": "stdout",
     "output_type": "stream",
     "text": [
      "Length : 3\n"
     ]
    }
   ],
   "source": [
    "t = (10,20,30)\n",
    "print(\"Length :\",len(t))"
   ]
  },
  {
   "cell_type": "code",
   "execution_count": 74,
   "id": "9b6d5144-a97e-4dc8-bdb6-724f4ebe46e1",
   "metadata": {},
   "outputs": [
    {
     "name": "stdout",
     "output_type": "stream",
     "text": [
      "Length : 6\n"
     ]
    }
   ],
   "source": [
    "t = (10,20,30,40,50,60)\n",
    "length = len(t)\n",
    "print(\"Length :\",length)"
   ]
  },
  {
   "cell_type": "code",
   "execution_count": null,
   "id": "c21faaad-a9ba-43ea-95ba-fba703c1b5f9",
   "metadata": {},
   "outputs": [],
   "source": []
  },
  {
   "cell_type": "markdown",
   "id": "7de4cb29-e0e8-4424-8ef8-8ef5a62fce65",
   "metadata": {},
   "source": [
    "**2.1.2. tuple.count()**"
   ]
  },
  {
   "cell_type": "code",
   "execution_count": 75,
   "id": "433aaa4e-6c77-46e2-a8d4-fb2d1590e070",
   "metadata": {},
   "outputs": [
    {
     "name": "stdout",
     "output_type": "stream",
     "text": [
      "After count : 6\n"
     ]
    }
   ],
   "source": [
    "t = (1,2,1,3,4,5,67,78,1,235,1,3,1,1,15,6)\n",
    "t1 = t.count(1)\n",
    "print(\"After count :\",t1)"
   ]
  },
  {
   "cell_type": "code",
   "execution_count": 77,
   "id": "4c39aed6-a4eb-433b-8001-cee8e9f5b6a4",
   "metadata": {},
   "outputs": [
    {
     "name": "stdout",
     "output_type": "stream",
     "text": [
      "After count :  2\n"
     ]
    }
   ],
   "source": [
    "tup = (2,4,\"python\",45.09,5,\"data\",4,\"science\",7.90,\"python\")\n",
    "print(\"After count : \",tup.count(\"python\"))"
   ]
  },
  {
   "cell_type": "code",
   "execution_count": null,
   "id": "343f7e74-2a06-453d-b848-63c53e77e99e",
   "metadata": {},
   "outputs": [],
   "source": []
  },
  {
   "cell_type": "markdown",
   "id": "17df04fb-9b4d-4c42-a085-39d76f0c39b7",
   "metadata": {},
   "source": [
    "**2.1.3.tuple.index()**"
   ]
  },
  {
   "cell_type": "code",
   "execution_count": 78,
   "id": "bbe9b1ab-4cdc-4521-a26f-3203cf9ec2f1",
   "metadata": {},
   "outputs": [
    {
     "name": "stdout",
     "output_type": "stream",
     "text": [
      "Index : 4\n"
     ]
    }
   ],
   "source": [
    "letters = (\"a\", \"b\", \"c\",\"d\",\"e\")\n",
    "let = letters.index(\"e\")\n",
    "print(\"Index :\",let)"
   ]
  },
  {
   "cell_type": "code",
   "execution_count": 79,
   "id": "c723d171-0c39-47d1-8650-f93799515f8f",
   "metadata": {},
   "outputs": [
    {
     "name": "stdout",
     "output_type": "stream",
     "text": [
      "Index : 3\n"
     ]
    }
   ],
   "source": [
    "print(\"Index :\",letters.index(\"d\"))"
   ]
  },
  {
   "cell_type": "markdown",
   "id": "7f1de303-694d-44aa-a54b-cbb78e8d8bff",
   "metadata": {},
   "source": [
    "**2.1.4.   Indexing and Slicing**"
   ]
  },
  {
   "cell_type": "code",
   "execution_count": 14,
   "id": "3832db20-a0aa-46c6-a7f1-36c617f973f5",
   "metadata": {},
   "outputs": [
    {
     "name": "stdout",
     "output_type": "stream",
     "text": [
      "t[0] : a\n",
      "t[-1] : e\n",
      "t[1:3] : ('b', 'c')\n",
      "<class 'str'>\n",
      "<class 'tuple'>\n"
     ]
    }
   ],
   "source": [
    "t = (\"a\", \"b\", \"c\",\"d\",\"e\")\n",
    "print(\"t[0] :\",t[0])\n",
    "print(\"t[-1] :\",t[-1])\n",
    "print(\"t[1:3] :\",t[1:3])\n",
    "t2 = t[0]\n",
    "t3 = t[1:3]\n",
    "print(type(t2))\n",
    "print(type(t3))"
   ]
  },
  {
   "cell_type": "code",
   "execution_count": null,
   "id": "29e1f79a-6d67-478f-8eb0-d796be06699f",
   "metadata": {},
   "outputs": [],
   "source": []
  },
  {
   "cell_type": "code",
   "execution_count": null,
   "id": "61087142-e23a-4c39-ae1d-f4ebfba4a8fe",
   "metadata": {},
   "outputs": [],
   "source": []
  },
  {
   "cell_type": "code",
   "execution_count": null,
   "id": "ef6727bf-1d31-4a61-8032-bd6fa662a73b",
   "metadata": {},
   "outputs": [],
   "source": []
  },
  {
   "cell_type": "markdown",
   "id": "a6b6f371-25b5-4b1a-94f4-0d6f4ae951b1",
   "metadata": {},
   "source": [
    "**2.1.5. Concatenation and Repetition**"
   ]
  },
  {
   "cell_type": "code",
   "execution_count": 85,
   "id": "2d87e672-524e-4231-84c2-217ab5711191",
   "metadata": {},
   "outputs": [
    {
     "name": "stdout",
     "output_type": "stream",
     "text": [
      "t1 + t2 : (1, 2, 3, 4)\n",
      "t1 * 3 : (1, 2, 1, 2, 1, 2)\n"
     ]
    }
   ],
   "source": [
    "t1 = (1,2)\n",
    "t2 = (3,4)\n",
    "print(\"t1 + t2 :\",t1 + t2)\n",
    "print(\"t1 * 3 :\",t1 *3)"
   ]
  },
  {
   "cell_type": "markdown",
   "id": "40cfa712-e783-4c1a-a7f0-9130572fbb66",
   "metadata": {},
   "source": [
    "**2.1.5. Membership**"
   ]
  },
  {
   "cell_type": "code",
   "execution_count": 90,
   "id": "11932de6-4109-44d2-ad85-c76039dc5673",
   "metadata": {},
   "outputs": [
    {
     "name": "stdout",
     "output_type": "stream",
     "text": [
      "True\n",
      "False\n",
      "False\n"
     ]
    }
   ],
   "source": [
    "t = (1,2,3,4)\n",
    "print(1 in t)\n",
    "print(1 not in t)\n",
    "print(5 in t)"
   ]
  },
  {
   "cell_type": "code",
   "execution_count": null,
   "id": "6da9c267-ca54-462e-a8e7-9d564a93299c",
   "metadata": {},
   "outputs": [],
   "source": []
  },
  {
   "cell_type": "code",
   "execution_count": null,
   "id": "34a1e706-d005-41dc-8559-928be4cb8f70",
   "metadata": {},
   "outputs": [],
   "source": []
  },
  {
   "cell_type": "code",
   "execution_count": null,
   "id": "02cfe53c-28fa-4039-9ff9-eab13415532f",
   "metadata": {},
   "outputs": [],
   "source": []
  },
  {
   "cell_type": "code",
   "execution_count": null,
   "id": "e64af47d-0eb9-44b0-aa7a-77a0e55875f4",
   "metadata": {},
   "outputs": [],
   "source": []
  },
  {
   "cell_type": "code",
   "execution_count": null,
   "id": "fa20afe5-49fd-4b7d-a9be-4f6d6cc19068",
   "metadata": {},
   "outputs": [],
   "source": []
  },
  {
   "cell_type": "code",
   "execution_count": null,
   "id": "e00be751-43a1-4c47-a07c-f12645f8121c",
   "metadata": {},
   "outputs": [],
   "source": []
  },
  {
   "cell_type": "code",
   "execution_count": null,
   "id": "b180a548-113e-4f1f-aa24-ba5c48a9cf95",
   "metadata": {},
   "outputs": [],
   "source": []
  },
  {
   "cell_type": "markdown",
   "id": "afc176a3-ab3b-4cfe-9f0f-6af9183223fc",
   "metadata": {},
   "source": []
  },
  {
   "cell_type": "markdown",
   "id": "e112b6a7-a040-4518-8c20-7f4270d6414c",
   "metadata": {},
   "source": [
    "<font size = \"5\">**3.Sets**"
   ]
  },
  {
   "cell_type": "markdown",
   "id": "1c7ef85b-1944-44f8-8f9c-ab1c04adeca2",
   "metadata": {},
   "source": [
    "**Characteristics of  a Set**"
   ]
  },
  {
   "cell_type": "markdown",
   "id": "e8495fc7-65c4-49e0-91d8-32070fb29ca0",
   "metadata": {},
   "source": [
    "A set is bulit-in data structure in Python wiht the following three characteristics"
   ]
  },
  {
   "cell_type": "markdown",
   "id": "ae79fd67-3d04-44fe-9def-12b208476b43",
   "metadata": {},
   "source": [
    "- Unordered: The items in the set are unorderd unlike list i.e. it will not maintain the order in which the items are inserted. The items will be a different order each time when we access the Set objects . There will not be any index value assigned to each item in the set.\n",
    "- Unchangeable: Set items must be immutable . We cannot change the set items. But set as a variable is mutable.\n",
    "- Unique: There cannot be two items with the same value in the set.\n",
    "- Iterable"
   ]
  },
  {
   "cell_type": "markdown",
   "id": "7320bc4c-1955-45a0-8778-c80029992154",
   "metadata": {},
   "source": [
    "**Creating a set**"
   ]
  },
  {
   "cell_type": "markdown",
   "id": "d79ba13a-ad4c-4ba8-891a-cfa0527b30b1",
   "metadata": {},
   "source": [
    "There are some ways to create a list\n",
    "- Using curly brackets\n",
    "- Using set()"
   ]
  },
  {
   "cell_type": "markdown",
   "id": "3cf0686e-4269-4812-b3f7-42fb77a652f4",
   "metadata": {},
   "source": [
    "**Defination :** A set is an **unordered & mutable** collection of **unique elements**."
   ]
  },
  {
   "cell_type": "markdown",
   "id": "0be9af81-4890-462c-bf8c-e1b46cc1bc6b",
   "metadata": {},
   "source": [
    "- No Duplicates\n",
    "- No Slicing/Indexing\n",
    "- Great for membership tests and set operations"
   ]
  },
  {
   "cell_type": "markdown",
   "id": "659bd9e2-4bfd-4281-9b19-69adb0447cd5",
   "metadata": {},
   "source": [
    "**Create & Deduplicate**"
   ]
  },
  {
   "cell_type": "code",
   "execution_count": 92,
   "id": "52053f9d-ea38-42fc-a8fd-eb42a2c05e63",
   "metadata": {},
   "outputs": [
    {
     "name": "stdout",
     "output_type": "stream",
     "text": [
      "s : {1, 2, 3}\n",
      "dedup : {1, 2, 3}\n"
     ]
    }
   ],
   "source": [
    "s = {1,2,3}\n",
    "dedup = set([1,2,2,3,3,])\n",
    "print(\"s :\",s)\n",
    "print(\"dedup :\",dedup)"
   ]
  },
  {
   "cell_type": "code",
   "execution_count": 4,
   "id": "09e29b79-042d-4357-9ba3-730a1c308549",
   "metadata": {},
   "outputs": [
    {
     "name": "stdout",
     "output_type": "stream",
     "text": [
      "{'p', 'l', 'a', 'e'}\n"
     ]
    }
   ],
   "source": [
    "s = set(\"apple\")\n",
    "print(s)"
   ]
  },
  {
   "cell_type": "code",
   "execution_count": null,
   "id": "99b40e50-7cac-4f65-afaf-69bb95a1a610",
   "metadata": {},
   "outputs": [],
   "source": [
    "set1 = set(3,6) # set constructer takes only one argument\n",
    "set2 = set(3) # set  constructer must have iterable data type\n",
    "set3 = set([]) # empty list become empty set\n",
    "set4 = set({}) # empty dict become empty set\n",
    "set5 = set((4)) # since it is an int inside parentheseis and non itereable data\n",
    "set6 = set((4,)) # sicnce parenthesis with coma is tuple which is iterable\n",
    "set7 = set(()) # empty set"
   ]
  },
  {
   "cell_type": "markdown",
   "id": "2fa6f234-5a4b-48c9-95b4-7a28e6771040",
   "metadata": {},
   "source": [
    "**3.1.Set Methods**"
   ]
  },
  {
   "cell_type": "markdown",
   "id": "caee33df-c7c1-44d3-88bb-1d77bc665711",
   "metadata": {},
   "source": [
    "**3.1.1. len()**"
   ]
  },
  {
   "cell_type": "code",
   "execution_count": 94,
   "id": "aa1c7c93-377b-47f1-b227-1b942b9924aa",
   "metadata": {},
   "outputs": [
    {
     "name": "stdout",
     "output_type": "stream",
     "text": [
      "Length : 3\n"
     ]
    }
   ],
   "source": [
    "s = {1,1,2,3}\n",
    "print(\"Length :\",len(s))"
   ]
  },
  {
   "cell_type": "code",
   "execution_count": 95,
   "id": "3b47aef0-a408-482a-bb69-8d87ec98f3ae",
   "metadata": {},
   "outputs": [
    {
     "name": "stdout",
     "output_type": "stream",
     "text": [
      "Lenght : 10\n"
     ]
    }
   ],
   "source": [
    "s = {1,2,43,4,212,2,345,65,423,3,4,23}\n",
    "s1 = len(s)\n",
    "print(\"Lenght :\",s1)"
   ]
  },
  {
   "cell_type": "markdown",
   "id": "80550816-6b02-4f3c-9482-624206576af9",
   "metadata": {},
   "source": [
    "**3.1.2.  add()**"
   ]
  },
  {
   "cell_type": "code",
   "execution_count": 99,
   "id": "1f5e4941-8364-45ea-9cf0-96b28799da98",
   "metadata": {},
   "outputs": [
    {
     "name": "stdout",
     "output_type": "stream",
     "text": [
      "After adding element : {1, 3, 4}\n"
     ]
    }
   ],
   "source": [
    "s = {1,3}\n",
    "b = s.add(4)\n",
    "print(\"After adding element :\",s)"
   ]
  },
  {
   "cell_type": "code",
   "execution_count": 102,
   "id": "1b05077a-e991-4d81-b763-fea46d7bd4bb",
   "metadata": {},
   "outputs": [
    {
     "name": "stdout",
     "output_type": "stream",
     "text": [
      "Element : None\n",
      "After adding : {2, 3, 21, 566, 23, 56}\n"
     ]
    }
   ],
   "source": [
    "a = {21,3,23,566,2}\n",
    "s1 = a.add(56)\n",
    "print(\"Element :\",s1)\n",
    "print(\"After adding :\",a)"
   ]
  },
  {
   "cell_type": "code",
   "execution_count": 12,
   "id": "e054023f-3332-4be0-b727-040a39e5dd21",
   "metadata": {},
   "outputs": [
    {
     "name": "stdout",
     "output_type": "stream",
     "text": [
      "After adding : {34, 3, 4, 5, 43, 45}\n"
     ]
    }
   ],
   "source": [
    "a = {3,43,4,34,5}\n",
    "a1 = a.add(45)\n",
    "print(\"After adding :\",a)"
   ]
  },
  {
   "cell_type": "markdown",
   "id": "8c5fd754-d3a5-4409-8d39-36cfd74a3e18",
   "metadata": {},
   "source": [
    "**3.1.3.  update(iterable)**"
   ]
  },
  {
   "cell_type": "markdown",
   "id": "abf0dcd5-d262-4008-accf-44cc322eac80",
   "metadata": {},
   "source": [
    "Iterable data types: string , list , tuple , set & dictonary."
   ]
  },
  {
   "cell_type": "code",
   "execution_count": 1,
   "id": "45cef533-4f67-4cfe-8cdb-20f157144a2c",
   "metadata": {},
   "outputs": [
    {
     "name": "stdout",
     "output_type": "stream",
     "text": [
      "After update : {1, 2, 3, 4, 5}\n"
     ]
    }
   ],
   "source": [
    "s ={1}\n",
    "s.update({2,3},[4,5]) # update() method can update set by list , another set & tuple also.\n",
    "print(\"After update :\",s)"
   ]
  },
  {
   "cell_type": "markdown",
   "id": "19933a26-5282-40f4-88cf-7eb390551dce",
   "metadata": {},
   "source": [
    "Note : We can add another list , tuple & set in the set."
   ]
  },
  {
   "cell_type": "code",
   "execution_count": 117,
   "id": "01699231-9d25-44ca-a528-37ac05c0c45b",
   "metadata": {},
   "outputs": [
    {
     "name": "stdout",
     "output_type": "stream",
     "text": [
      "{2, 3, 4}\n"
     ]
    }
   ],
   "source": [
    "s = {2,}\n",
    "l = [2,3,4]\n",
    "s1 = s.update(l)\n",
    "print(s)"
   ]
  },
  {
   "cell_type": "code",
   "execution_count": 5,
   "id": "f908972b-cb1f-454d-8fdf-93f660ce9a60",
   "metadata": {},
   "outputs": [
    {
     "name": "stdout",
     "output_type": "stream",
     "text": [
      "{1, 'T', 'u', 'r', 'e'}\n"
     ]
    }
   ],
   "source": [
    "s = {1}\n",
    "s.update(\"True\")\n",
    "print(s)"
   ]
  },
  {
   "cell_type": "code",
   "execution_count": 7,
   "id": "f1aa5a83-c06b-44c2-bb2b-f0aad9e08a81",
   "metadata": {},
   "outputs": [
    {
     "name": "stdout",
     "output_type": "stream",
     "text": [
      "<class 'set'>\n"
     ]
    }
   ],
   "source": [
    "s = {2,}\n",
    "print(type(s))"
   ]
  },
  {
   "cell_type": "code",
   "execution_count": 6,
   "id": "ca60be00-ba91-40ec-9d83-31f377616014",
   "metadata": {},
   "outputs": [
    {
     "name": "stdout",
     "output_type": "stream",
     "text": [
      "{1, 2, 3, 'l', 'h', 'e', 'o'}\n"
     ]
    }
   ],
   "source": [
    "s = {1,2,3}\n",
    "s.update(\"hello\")\n",
    "print(s)"
   ]
  },
  {
   "cell_type": "code",
   "execution_count": 8,
   "id": "c836b06a-60f6-4f70-8776-bb2c543a7767",
   "metadata": {},
   "outputs": [
    {
     "name": "stdout",
     "output_type": "stream",
     "text": [
      "<class 'dict'>\n"
     ]
    }
   ],
   "source": [
    "s = {}\n",
    "print(type(s))"
   ]
  },
  {
   "cell_type": "code",
   "execution_count": 120,
   "id": "3f176f24-ca40-40d3-abdb-89addee979dc",
   "metadata": {},
   "outputs": [
    {
     "name": "stdout",
     "output_type": "stream",
     "text": [
      "<class 'set'>\n",
      "<class 'tuple'>\n"
     ]
    }
   ],
   "source": [
    "s = {2,}\n",
    "t = (2,)\n",
    "print(type(s))\n",
    "print(type(t))"
   ]
  },
  {
   "cell_type": "markdown",
   "id": "227e82ad-f99c-4589-9625-b9074daab8c1",
   "metadata": {},
   "source": [
    "**3.1.4.remove()**"
   ]
  },
  {
   "cell_type": "code",
   "execution_count": 11,
   "id": "34dd9975-e393-40ad-a3fa-72db149b9f5e",
   "metadata": {},
   "outputs": [
    {
     "name": "stdout",
     "output_type": "stream",
     "text": [
      "After removing : {1, 3}\n"
     ]
    }
   ],
   "source": [
    "s = {1,2,3}\n",
    "s.remove(2)\n",
    "print(\"After removing :\",s)"
   ]
  },
  {
   "cell_type": "code",
   "execution_count": 125,
   "id": "33da7f69-f042-45c2-8410-6bd2694c3a16",
   "metadata": {},
   "outputs": [
    {
     "name": "stdout",
     "output_type": "stream",
     "text": [
      "After removing : {2.0, 4, 'science', 6, 'Abdullah', 'doctor', 'data'}\n"
     ]
    }
   ],
   "source": [
    "s = {\"doctor\",\"Abdullah\", \"Python\",\"data\", \"science\",4,6,2.0}\n",
    "s.remove(\"Python\")\n",
    "print(\"After removing :\",s)"
   ]
  },
  {
   "cell_type": "markdown",
   "id": "b11631e1-c487-4afd-b57f-5dad373796ed",
   "metadata": {},
   "source": [
    "**3.1.5.  discard()**"
   ]
  },
  {
   "cell_type": "code",
   "execution_count": 1,
   "id": "72440c1d-8bf8-4f09-a528-dc884d8daf5a",
   "metadata": {},
   "outputs": [
    {
     "name": "stdout",
     "output_type": "stream",
     "text": [
      "After discard : {1, 3, 4, 5}\n"
     ]
    }
   ],
   "source": [
    "s = {1,2,3,4,5}\n",
    "s.discard(2)\n",
    "print(\"After discard :\",s)"
   ]
  },
  {
   "cell_type": "code",
   "execution_count": 32,
   "id": "ded68fb7-7a4e-4f21-90f3-d2b7806c581f",
   "metadata": {},
   "outputs": [
    {
     "name": "stdout",
     "output_type": "stream",
     "text": [
      "After removing : {2.0, 4, 6, 'Abdullah', 'Python', 'science', 'data'}\n"
     ]
    }
   ],
   "source": [
    "s = {\"doctor\",\"Abdullah\", \"Python\",\"data\", \"science\",4,6,2.0}\n",
    "s.discard(\"doctor\")\n",
    "print(\"After removing :\",s)"
   ]
  },
  {
   "cell_type": "code",
   "execution_count": 12,
   "id": "03e2a8e9-673d-467c-a995-890a38954129",
   "metadata": {},
   "outputs": [
    {
     "name": "stdout",
     "output_type": "stream",
     "text": [
      "After discard : {2, 3, 34, 325, 23, 567, 445, 446}\n"
     ]
    }
   ],
   "source": [
    "# discard will no show error when we discard the value which is not present in the set.\n",
    "\n",
    "s = {23,3,445,2,325,446,567,34,23}\n",
    "s.discard(22)\n",
    "print(\"After discard :\",s)"
   ]
  },
  {
   "cell_type": "code",
   "execution_count": 6,
   "id": "b03427d4-4a3c-4a3d-af63-9e0074ee861a",
   "metadata": {},
   "outputs": [
    {
     "name": "stdout",
     "output_type": "stream",
     "text": [
      "{3, 34, 325, 23, 567, 445, 446}\n"
     ]
    }
   ],
   "source": [
    "print(s)"
   ]
  },
  {
   "cell_type": "markdown",
   "id": "68abfa2c-6d0a-43e6-a520-f30cb3f41288",
   "metadata": {},
   "source": [
    "**3.1.6.pop()**"
   ]
  },
  {
   "cell_type": "code",
   "execution_count": 15,
   "id": "7acc0227-76b6-4ac7-9edf-c70d406a03c4",
   "metadata": {},
   "outputs": [
    {
     "name": "stdout",
     "output_type": "stream",
     "text": [
      "After pop : {20, 30}\n"
     ]
    }
   ],
   "source": [
    "# WE CANNOT USE INDEXING/SLICING IN SET.\n",
    "\n",
    "s = {10,20,30}\n",
    "s.pop()\n",
    "print(\"After pop :\",s)"
   ]
  },
  {
   "cell_type": "code",
   "execution_count": 26,
   "id": "2eba022f-5cd0-4a3f-9677-5e1345a4c582",
   "metadata": {},
   "outputs": [
    {
     "name": "stdout",
     "output_type": "stream",
     "text": [
      "2\n",
      "{3, 4, 898, 23}\n"
     ]
    }
   ],
   "source": [
    "s = {2,3,4,2,3,898,3,23,2,2,2,2,2,3,}\n",
    "print(s.pop())\n",
    "print(s)"
   ]
  },
  {
   "cell_type": "code",
   "execution_count": null,
   "id": "3cfbf194-6edc-4e6f-9272-d8df7180948e",
   "metadata": {},
   "outputs": [],
   "source": []
  },
  {
   "cell_type": "markdown",
   "id": "c9e21ab8-7834-48c0-9bc6-06b2d480cab7",
   "metadata": {},
   "source": [
    "**3.1.7.  clear()**"
   ]
  },
  {
   "cell_type": "code",
   "execution_count": 18,
   "id": "576a4b07-4da2-476b-ae96-53e444efb156",
   "metadata": {},
   "outputs": [
    {
     "name": "stdout",
     "output_type": "stream",
     "text": [
      "After clear : set()\n",
      "set()\n"
     ]
    }
   ],
   "source": [
    "s = {12,23,34,2,312,23,23,12,76}\n",
    "s.clear()\n",
    "print(\"After clear :\",s)\n",
    "print(s)"
   ]
  },
  {
   "cell_type": "markdown",
   "id": "061e7f60-547a-4120-810e-d2030055713f",
   "metadata": {},
   "source": [
    "**3.1.8. union()**"
   ]
  },
  {
   "cell_type": "code",
   "execution_count": 1,
   "id": "7f8d737d-768a-434a-b72d-40f578497720",
   "metadata": {},
   "outputs": [
    {
     "name": "stdout",
     "output_type": "stream",
     "text": [
      "After union : {1, 2, 3, 4, 5}\n",
      "{1, 2, 3, 4, 5}\n"
     ]
    }
   ],
   "source": [
    "a , b = {1,2,3} , {3,4,5}\n",
    "ab = b.union(a)\n",
    "print(\"After union :\",ab)\n",
    "ba = a.union(b)\n",
    "print(ba)"
   ]
  },
  {
   "cell_type": "code",
   "execution_count": 22,
   "id": "8bea6387-b1f8-42a3-b28e-2ae9e8d6dca6",
   "metadata": {},
   "outputs": [
    {
     "name": "stdout",
     "output_type": "stream",
     "text": [
      "After union:  {'python', 'b', 'c', 'd', 'a', 'data', 'sience'}\n"
     ]
    }
   ],
   "source": [
    "a , b = {\"a\", \"b\", \"c\",\"d\",\"python\"} , {\"c\",\"d\", \"python\", \"data\", \"sience\"}\n",
    "ab = a.union(b)\n",
    "print(\"After union: \",ab)"
   ]
  },
  {
   "cell_type": "markdown",
   "id": "e81407ef-8675-47ad-ac8d-02ca27708ec8",
   "metadata": {},
   "source": [
    "**3.1.9. intersection()**"
   ]
  },
  {
   "cell_type": "code",
   "execution_count": 24,
   "id": "d25ebcad-079a-430e-8ea3-5b82d152803e",
   "metadata": {},
   "outputs": [
    {
     "name": "stdout",
     "output_type": "stream",
     "text": [
      "After intersection : {2, 3}\n"
     ]
    }
   ],
   "source": [
    "a , b = {1,2,3} , {2,3,4}\n",
    "ab = a.intersection(b)\n",
    "print(\"After intersection :\",ab)"
   ]
  },
  {
   "cell_type": "code",
   "execution_count": null,
   "id": "c6191058-25f7-492a-bc1a-2448607f2dfd",
   "metadata": {},
   "outputs": [],
   "source": []
  },
  {
   "cell_type": "code",
   "execution_count": null,
   "id": "aa205a25-b701-4dec-8b0e-e2ecd69b5017",
   "metadata": {},
   "outputs": [],
   "source": []
  },
  {
   "cell_type": "code",
   "execution_count": 27,
   "id": "01ac4487-d855-418d-9fa3-26b968e32cf4",
   "metadata": {},
   "outputs": [
    {
     "name": "stdout",
     "output_type": "stream",
     "text": [
      "After intersection : {'b', 'a'}\n"
     ]
    }
   ],
   "source": [
    "a ,b  = {\"a\",\"b\",\"c\",\"s\"} , {\"a\",\"b\",\"d\",\"e\"}\n",
    "print(\"After intersection :\",a.intersection(b))"
   ]
  },
  {
   "cell_type": "markdown",
   "id": "c58fc15d-86bc-452b-9c50-695c9e5ed1ed",
   "metadata": {},
   "source": [
    "**3.1.10. difference()**"
   ]
  },
  {
   "cell_type": "code",
   "execution_count": 28,
   "id": "36a719bd-558a-4501-a2f1-236f71235fed",
   "metadata": {},
   "outputs": [
    {
     "name": "stdout",
     "output_type": "stream",
     "text": [
      "After difference : {1, 2}\n"
     ]
    }
   ],
   "source": [
    "a , b = {1,2,3,4} , {3,4,5,6}\n",
    "print(\"After difference :\",a.difference(b))"
   ]
  },
  {
   "cell_type": "code",
   "execution_count": 29,
   "id": "74222182-aaee-4db1-9f22-ef020f16fb71",
   "metadata": {},
   "outputs": [
    {
     "name": "stdout",
     "output_type": "stream",
     "text": [
      "After difference : {5, 6}\n"
     ]
    }
   ],
   "source": [
    "a , b = {1,2,3,4} , {3,4,5,6}\n",
    "print(\"After difference :\",b.difference(a))"
   ]
  },
  {
   "cell_type": "markdown",
   "id": "057fde0f-5b4b-4638-a7f7-cd4419cb59f6",
   "metadata": {},
   "source": [
    "**3.1.11.  symmetric_difference()**"
   ]
  },
  {
   "cell_type": "code",
   "execution_count": 2,
   "id": "fc8a6850-e10c-4f77-b8aa-e5ab94d25d1a",
   "metadata": {},
   "outputs": [
    {
     "name": "stdout",
     "output_type": "stream",
     "text": [
      "After symmetric_difference : {1, 4}\n"
     ]
    }
   ],
   "source": [
    "a , b = {1,2,3} , {2,3,4}\n",
    "print(\"After symmetric_difference :\",a.symmetric_difference(b))"
   ]
  },
  {
   "cell_type": "code",
   "execution_count": 3,
   "id": "73ce1547-eac6-4884-b0c7-2de48e297206",
   "metadata": {},
   "outputs": [
    {
     "name": "stdout",
     "output_type": "stream",
     "text": [
      "After symmetric_difference : {1, 4}\n"
     ]
    }
   ],
   "source": [
    "a , b = {1,2,3} , {2,3,4}\n",
    "print(\"After symmetric_difference :\",b.symmetric_difference(a))"
   ]
  },
  {
   "cell_type": "markdown",
   "id": "a50ab1e6-d167-4e34-962f-6f9910654b48",
   "metadata": {},
   "source": [
    "**3.1.12. issubset() , issuperset() , isdisjoint()**"
   ]
  },
  {
   "cell_type": "code",
   "execution_count": 38,
   "id": "801245f1-532f-45ef-8ccf-2bf94a65ffeb",
   "metadata": {},
   "outputs": [
    {
     "name": "stdout",
     "output_type": "stream",
     "text": [
      "a.issubset(b): True\n",
      "b.issuperset(a): True\n",
      "a.isdisjoint(c): True\n"
     ]
    }
   ],
   "source": [
    "a = {1,2}\n",
    "b = {1,2,3}\n",
    "c = {7,8}\n",
    "print(\"a.issubset(b):\",a.issubset(b))\n",
    "print(\"b.issuperset(a):\",b.issuperset(a))\n",
    "print(\"a.isdisjoint(c):\",a.isdisjoint(c))"
   ]
  },
  {
   "cell_type": "code",
   "execution_count": null,
   "id": "7711edea-994e-4f9e-961f-eacbde801c86",
   "metadata": {},
   "outputs": [],
   "source": []
  },
  {
   "cell_type": "code",
   "execution_count": null,
   "id": "9804f5e0-aa5e-43a6-8dc4-87afc62771f0",
   "metadata": {},
   "outputs": [],
   "source": []
  },
  {
   "cell_type": "markdown",
   "id": "68de2116-7f9e-495c-a5a1-2a3e35c5cf32",
   "metadata": {},
   "source": [
    "**TYPE CASTING**"
   ]
  },
  {
   "cell_type": "code",
   "execution_count": 19,
   "id": "4b5c8283-85be-4845-9a90-6e05fa63a9d1",
   "metadata": {},
   "outputs": [
    {
     "name": "stdout",
     "output_type": "stream",
     "text": [
      "[23, 34, 45, 56, 23, 32, 45]\n",
      "<class 'tuple'>\n",
      "<class 'list'>\n"
     ]
    }
   ],
   "source": [
    "T = 23,34,45,56,23,32,45\n",
    "new_list = list(T)\n",
    "print(new_list)\n",
    "print(type(T))\n",
    "print(type(new_list))"
   ]
  },
  {
   "cell_type": "code",
   "execution_count": 27,
   "id": "c3a31199-d6ec-4dd4-98c3-d0362ac3ff18",
   "metadata": {},
   "outputs": [
    {
     "name": "stdout",
     "output_type": "stream",
     "text": [
      "(34, 5434, 354, 343, 'python', 'data science')\n",
      "<class 'tuple'>\n",
      "<class 'str'>\n"
     ]
    }
   ],
   "source": [
    "t = 34,5434,354,343,\"python\",\"data science\"\n",
    "new_str = str(t)\n",
    "print(new_str)\n",
    "print(type(t))\n",
    "print(type(new_str))"
   ]
  },
  {
   "cell_type": "code",
   "execution_count": 2,
   "id": "e4807d61-690b-416d-9b9b-b4d26ec76c5c",
   "metadata": {},
   "outputs": [
    {
     "name": "stdout",
     "output_type": "stream",
     "text": [
      "<class 'list'>\n",
      "[1, 2, 3, 1, 2, 3, 4, 7]\n",
      "<class 'set'>\n",
      "{1, 2, 3, 4, 7}\n",
      "<class 'list'>\n",
      "[1, 2, 3, 4, 7]\n"
     ]
    }
   ],
   "source": [
    "s = [1,2,3,1,2,3,4,7]\n",
    "print(type(s))\n",
    "print(s)\n",
    "t = set(s)\n",
    "print(type(t))\n",
    "print(t)\n",
    "l = list(t)\n",
    "print(type(l))\n",
    "print(l)"
   ]
  },
  {
   "cell_type": "code",
   "execution_count": null,
   "id": "92ef418e-2ecd-46e4-a8de-e095f2da0efd",
   "metadata": {},
   "outputs": [],
   "source": []
  },
  {
   "cell_type": "code",
   "execution_count": null,
   "id": "93531f92-2c9d-40ba-90db-ec5b3fe88199",
   "metadata": {},
   "outputs": [],
   "source": []
  },
  {
   "cell_type": "markdown",
   "id": "a43409dc-7d91-4672-8e7d-131c4ccdb572",
   "metadata": {},
   "source": [
    "<font size = \"5\">**4. Dictonaries**"
   ]
  },
  {
   "cell_type": "markdown",
   "id": "3f0f0d08-e2d8-4131-87bb-b090d71edcb0",
   "metadata": {},
   "source": [
    "**Defination:** A dictonary maps **unique , mutable keys** to values."
   ]
  },
  {
   "cell_type": "markdown",
   "id": "1dd7aef3-fba4-4f2c-bbf5-5c540469548a",
   "metadata": {},
   "source": [
    "- Mutable Data Types\n",
    "- Fast Lookups\n",
    "- Preserves insertion Order"
   ]
  },
  {
   "cell_type": "markdown",
   "id": "11ef2245-06fa-4745-817c-ac60668a1200",
   "metadata": {},
   "source": [
    "**Creating Dictonaries**"
   ]
  },
  {
   "cell_type": "code",
   "execution_count": 29,
   "id": "a40e2981-632e-4b6a-b8fa-8b397ea939f4",
   "metadata": {},
   "outputs": [
    {
     "name": "stdout",
     "output_type": "stream",
     "text": [
      "person : {'Name': 'Pankaj', 'Role': 'Data Scientist'}\n",
      "pairs : {'x': 1, 'y': 2}\n"
     ]
    }
   ],
   "source": [
    "person = {\"Name\":\"Pankaj\" , \"Role\":\"Data Scientist\"}\n",
    "pairs = dict([(\"x\",1) , (\"y\",2)])\n",
    "print(\"person :\",person)\n",
    "print(\"pairs :\",pairs)"
   ]
  },
  {
   "cell_type": "code",
   "execution_count": null,
   "id": "650f5faa-9267-4699-aa61-902c079ef55c",
   "metadata": {},
   "outputs": [],
   "source": []
  },
  {
   "cell_type": "code",
   "execution_count": null,
   "id": "3e11c10b-8880-4fbb-a611-8d16947b42a2",
   "metadata": {},
   "outputs": [],
   "source": []
  },
  {
   "cell_type": "code",
   "execution_count": null,
   "id": "ef764160-42ca-4450-9c64-ef5ebd7aca73",
   "metadata": {},
   "outputs": [],
   "source": []
  },
  {
   "cell_type": "markdown",
   "id": "caadb8ca-b8f3-4494-99bb-ebfda91096c5",
   "metadata": {},
   "source": [
    "**4.1. Dictonary Methods**"
   ]
  },
  {
   "cell_type": "markdown",
   "id": "d096f3d7-d676-444e-a8ef-25e3814fc787",
   "metadata": {},
   "source": [
    "**4.1.1. len()**"
   ]
  },
  {
   "cell_type": "code",
   "execution_count": 35,
   "id": "09e972fe-e391-492f-af9b-fc9898e8a60e",
   "metadata": {},
   "outputs": [
    {
     "name": "stdout",
     "output_type": "stream",
     "text": [
      "Length of the Dictonary : 2\n"
     ]
    }
   ],
   "source": [
    "d = {\"a\":1 , \"b\":2}\n",
    "print(\"Length of the Dictonary :\",len(d))"
   ]
  },
  {
   "cell_type": "code",
   "execution_count": 37,
   "id": "8129cc85-381e-4c54-83ec-b73f4c12f4df",
   "metadata": {},
   "outputs": [
    {
     "name": "stdout",
     "output_type": "stream",
     "text": [
      "Length of Dictonary : 4\n"
     ]
    }
   ],
   "source": [
    "names = {\"pankaj\":45 , \"raja\":56 , \"neeraj\":64 , \"mohit\":67}\n",
    "a = len(names)\n",
    "print(\"Length of Dictonary :\",a)"
   ]
  },
  {
   "cell_type": "markdown",
   "id": "1297d969-1e76-4118-b7b7-89a0547c5f83",
   "metadata": {},
   "source": [
    "**4.1.2. Acess:[] vs get()**"
   ]
  },
  {
   "cell_type": "code",
   "execution_count": 1,
   "id": "92d066e1-b484-466a-823a-c91dfa952e06",
   "metadata": {},
   "outputs": [
    {
     "name": "stdout",
     "output_type": "stream",
     "text": [
      "name : Mayank\n",
      "Age will be : 45\n",
      "Salary will get : None\n"
     ]
    }
   ],
   "source": [
    "d = {\"name\":\"Mayank\" , \"age\":45}\n",
    "print(\"name :\",d[\"name\"])\n",
    "print(\"Age will be :\",d.get(\"age\"))\n",
    "print(\"Salary will get :\",d.get(\"salary\")) \n",
    "# When we print the value which is not given to the dictonary then output will be \"none\"."
   ]
  },
  {
   "cell_type": "markdown",
   "id": "ea4b3b58-1b71-40bb-85ec-955ac52d9a93",
   "metadata": {},
   "source": [
    "**4.1.3. Insert/Update**"
   ]
  },
  {
   "cell_type": "code",
   "execution_count": 63,
   "id": "a58bbdcb-c908-4c8f-8284-67eb08586e55",
   "metadata": {},
   "outputs": [
    {
     "name": "stdout",
     "output_type": "stream",
     "text": [
      "After assignment : {'language': 'Python', 'year': 1991}\n"
     ]
    }
   ],
   "source": [
    "d = {}\n",
    "d[\"language\"] = \"Python\"\n",
    "d[\"year\"] = 1991\n",
    "print(\"After assignment :\",d)"
   ]
  },
  {
   "cell_type": "code",
   "execution_count": 65,
   "id": "4680f38c-64af-4882-bf86-5985a48f0926",
   "metadata": {},
   "outputs": [
    {
     "name": "stdout",
     "output_type": "stream",
     "text": [
      "{'language': 'Python', 'year': 1991}\n"
     ]
    }
   ],
   "source": [
    "print(d)"
   ]
  },
  {
   "cell_type": "code",
   "execution_count": null,
   "id": "cb7127a5-530f-4ea7-a55a-073c158add12",
   "metadata": {},
   "outputs": [],
   "source": []
  },
  {
   "cell_type": "markdown",
   "id": "8cdc2e1f-5655-4452-b906-81bd84d49aaa",
   "metadata": {},
   "source": [
    "**4.1.4. update()**"
   ]
  },
  {
   "cell_type": "code",
   "execution_count": 68,
   "id": "697e71c8-f8e7-4283-a83a-0af2a6867d6b",
   "metadata": {},
   "outputs": [
    {
     "name": "stdout",
     "output_type": "stream",
     "text": [
      "After update : {'a': 10, 'b': 20}\n"
     ]
    }
   ],
   "source": [
    "d = {\"a\":1 , \"b\":2}\n",
    "d.update({\"a\":10 , \"b\":20})\n",
    "print(\"After update :\",d)"
   ]
  },
  {
   "cell_type": "markdown",
   "id": "f8e4ed6d-57f7-4ce5-9f05-f97d360b7dad",
   "metadata": {},
   "source": [
    "**4.1.5. pop()**"
   ]
  },
  {
   "cell_type": "code",
   "execution_count": 3,
   "id": "3c5d270c-0b13-4274-8e2d-929b8e232d7a",
   "metadata": {},
   "outputs": [
    {
     "name": "stdout",
     "output_type": "stream",
     "text": [
      "Popped a : 1  dictonary now : {'b': 2, 'c': 3, 'd': 4, 'e': 5}\n"
     ]
    }
   ],
   "source": [
    "d = {\"a\":1 , \"b\":2 , \"c\":3 , \"d\":4 , \"e\":5}\n",
    "val = d.pop(\"a\")\n",
    "print(\"Popped a :\",val,\" dictonary now :\",d)"
   ]
  },
  {
   "cell_type": "code",
   "execution_count": 4,
   "id": "23e61265-6267-4273-a2c0-f01926099244",
   "metadata": {},
   "outputs": [
    {
     "name": "stdout",
     "output_type": "stream",
     "text": [
      "After popped 'a' : {'b': 2, 'c': 3, 'd': 4, 'e': 5}\n"
     ]
    }
   ],
   "source": [
    "print(\"After popped 'a' :\",d)"
   ]
  },
  {
   "cell_type": "code",
   "execution_count": null,
   "id": "c0c22cce-33b0-4675-9b12-78592e351646",
   "metadata": {},
   "outputs": [],
   "source": []
  },
  {
   "cell_type": "markdown",
   "id": "500466af-8236-4036-bbe1-067caaabccd3",
   "metadata": {},
   "source": [
    "**4.1.6. popitem()**"
   ]
  },
  {
   "cell_type": "code",
   "execution_count": 39,
   "id": "a531ce0f-a3a6-4216-b281-73a0df786bd8",
   "metadata": {},
   "outputs": [
    {
     "name": "stdout",
     "output_type": "stream",
     "text": [
      "Popped item : ('a', 4) dictonary now : {'x': 1, 'y': 2, 'z': 3}\n"
     ]
    }
   ],
   "source": [
    "d = {\"x\":1 , \"y\":2 , \"z\":3 , \"a\":4}\n",
    "item = d.popitem()\n",
    "print(\"Popped item :\",item,\"dictonary now :\",d)"
   ]
  },
  {
   "cell_type": "code",
   "execution_count": 8,
   "id": "c266657b-010d-4d22-aa59-35014884029c",
   "metadata": {},
   "outputs": [
    {
     "name": "stdout",
     "output_type": "stream",
     "text": [
      "<class 'tuple'>\n"
     ]
    }
   ],
   "source": [
    "print(type(item))"
   ]
  },
  {
   "cell_type": "markdown",
   "id": "07a37d36-0fdf-404e-929e-8f940eb79660",
   "metadata": {},
   "source": [
    "**4.1.7.clear()**"
   ]
  },
  {
   "cell_type": "code",
   "execution_count": 13,
   "id": "1c2fccf3-3cc2-4aee-9e2f-ea50a9eaffe0",
   "metadata": {},
   "outputs": [
    {
     "name": "stdout",
     "output_type": "stream",
     "text": [
      "After clear : {}\n"
     ]
    }
   ],
   "source": [
    "d = {\"a\":1 , \"b\":2 , \"c\":3 , \"d\":4}\n",
    "d.clear()\n",
    "print(\"After clear :\",d)"
   ]
  },
  {
   "cell_type": "markdown",
   "id": "77156ccc-8a73-460f-a43f-5b182c4466d5",
   "metadata": {},
   "source": [
    "**4.1.8.keys() , values() , items()**"
   ]
  },
  {
   "cell_type": "code",
   "execution_count": 16,
   "id": "047d0c1a-1405-4b62-9d26-ac67088452af",
   "metadata": {
    "scrolled": true
   },
   "outputs": [
    {
     "name": "stdout",
     "output_type": "stream",
     "text": [
      "keys : ['name', 'role', 'age', 'address']\n",
      "values : ['Nishi', 'data scientist', 23, 'Haldwani']\n",
      "items : [('name', 'Nishi'), ('role', 'data scientist'), ('age', 23), ('address', 'Haldwani')]\n"
     ]
    }
   ],
   "source": [
    "d = {\"name\": \"Nishi\" , \"role\":\"data scientist\" , \"age\":23 , \"address\":\"Haldwani\"}\n",
    "print(\"keys :\",list(d.keys()))\n",
    "print(\"values :\",list(d.values()))\n",
    "print(\"items :\",list(d.items()))"
   ]
  },
  {
   "cell_type": "code",
   "execution_count": null,
   "id": "f414a2fb-5cd2-4256-bf3e-22fabf02cd44",
   "metadata": {},
   "outputs": [],
   "source": []
  },
  {
   "cell_type": "markdown",
   "id": "ea7ec68f-64f5-4623-a8b1-b150e5be9f15",
   "metadata": {},
   "source": [
    "**str.strip()**"
   ]
  },
  {
   "cell_type": "code",
   "execution_count": 2,
   "id": "73c16faf-f2bf-432b-87cc-e64ef3088523",
   "metadata": {},
   "outputs": [
    {
     "name": "stdout",
     "output_type": "stream",
     "text": [
      "hello\n"
     ]
    }
   ],
   "source": [
    "s = \"  hello  \"\n",
    "print(s.strip())\n",
    "# \"hello\" <- spaces removed from both sides"
   ]
  },
  {
   "cell_type": "code",
   "execution_count": null,
   "id": "dffc6c39-850f-4983-92b6-11fb88f5d763",
   "metadata": {},
   "outputs": [],
   "source": []
  }
 ],
 "metadata": {
  "kernelspec": {
   "display_name": "Python 3 (ipykernel)",
   "language": "python",
   "name": "python3"
  },
  "language_info": {
   "codemirror_mode": {
    "name": "ipython",
    "version": 3
   },
   "file_extension": ".py",
   "mimetype": "text/x-python",
   "name": "python",
   "nbconvert_exporter": "python",
   "pygments_lexer": "ipython3",
   "version": "3.13.5"
  }
 },
 "nbformat": 4,
 "nbformat_minor": 5
}
