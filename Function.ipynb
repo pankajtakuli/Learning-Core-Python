{
 "cells": [
  {
   "cell_type": "markdown",
   "id": "e4ed2ac4-a9c4-455e-a87d-23d8fdff4035",
   "metadata": {},
   "source": [
    "### Function"
   ]
  },
  {
   "cell_type": "markdown",
   "id": "fb846123-5b57-426b-a70c-ac204a982de4",
   "metadata": {},
   "source": [
    "- Function is the name of a block of code."
   ]
  },
  {
   "cell_type": "markdown",
   "id": "2e852541-fa3b-4aef-9f7a-db637de241fc",
   "metadata": {},
   "source": [
    "- **For Using The Function:** We need to call the function name."
   ]
  },
  {
   "cell_type": "code",
   "execution_count": 4,
   "id": "cab95266-6d8a-4e8a-bf70-0f56937b6f62",
   "metadata": {},
   "outputs": [
    {
     "name": "stdout",
     "output_type": "stream",
     "text": [
      "Greeting from VijAI Robotics!\n"
     ]
    }
   ],
   "source": [
    "print(\"Greeting from VijAI Robotics!\")"
   ]
  },
  {
   "cell_type": "code",
   "execution_count": 9,
   "id": "25eb7301-9658-4575-b741-c0ef13e2aff7",
   "metadata": {},
   "outputs": [
    {
     "name": "stdout",
     "output_type": "stream",
     "text": [
      "Greeting from VijAI Robotics!\n"
     ]
    }
   ],
   "source": [
    "# Function defined create\n",
    "def greet():\n",
    "    print(\"Greeting from VijAI Robotics!\")\n",
    "\n",
    "greet() # Calling the function"
   ]
  },
  {
   "cell_type": "code",
   "execution_count": 10,
   "id": "1b6a8544-637b-450f-8c4f-edf91de0277a",
   "metadata": {},
   "outputs": [
    {
     "name": "stdout",
     "output_type": "stream",
     "text": [
      "Greeting from VijAI Robotics!\n"
     ]
    }
   ],
   "source": [
    "greet()"
   ]
  },
  {
   "cell_type": "code",
   "execution_count": 11,
   "id": "479249df-d2f2-4d71-82ac-aa20ba19e8f8",
   "metadata": {},
   "outputs": [
    {
     "name": "stdout",
     "output_type": "stream",
     "text": [
      "Greeting from VijAI Robotics!\n",
      "None\n"
     ]
    }
   ],
   "source": [
    "print(greet())"
   ]
  },
  {
   "cell_type": "code",
   "execution_count": 16,
   "id": "b5394dc7-1345-4ad6-9ee2-4c28b24da957",
   "metadata": {},
   "outputs": [
    {
     "name": "stdout",
     "output_type": "stream",
     "text": [
      "Greeting from VijAI Robotics!\n",
      "None\n"
     ]
    }
   ],
   "source": [
    "x = greet()\n",
    "print(x)"
   ]
  },
  {
   "cell_type": "code",
   "execution_count": null,
   "id": "54236571-fa94-425f-988f-f81be1f663ac",
   "metadata": {},
   "outputs": [],
   "source": []
  },
  {
   "cell_type": "code",
   "execution_count": null,
   "id": "24503574-033e-4f1f-b78c-b4ea97fbbb4b",
   "metadata": {},
   "outputs": [],
   "source": []
  },
  {
   "cell_type": "code",
   "execution_count": 5,
   "id": "55bdacdc-6e61-4876-93e2-d54a40041dbf",
   "metadata": {},
   "outputs": [
    {
     "name": "stdout",
     "output_type": "stream",
     "text": [
      "Welcome Priyanshu\n",
      "Greeting from VijAI Robotics!\n",
      "Welcome Mayank\n",
      "Greeting from VijAI Robotics!\n",
      "Welcome Shreya\n",
      "Greeting from VijAI Robotics!\n"
     ]
    }
   ],
   "source": [
    "name1 = \"Priyanshu\"\n",
    "name2 = \"Mayank\"\n",
    "name3 = \"Shreya\"\n",
    "print(\"Welcome\",name1)\n",
    "print(\"Greeting from VijAI Robotics!\")\n",
    "print(\"Welcome\",name2)\n",
    "print(\"Greeting from VijAI Robotics!\")\n",
    "print(\"Welcome\",name3)\n",
    "print(\"Greeting from VijAI Robotics!\")"
   ]
  },
  {
   "cell_type": "code",
   "execution_count": 9,
   "id": "232d593f-6381-4684-afd7-7e8aa7ddbb1a",
   "metadata": {},
   "outputs": [
    {
     "name": "stdout",
     "output_type": "stream",
     "text": [
      "Welcome Priyanshu\n",
      "Greeting from VijAI Robotics!\n",
      "Welcome Mayank\n",
      "Greeting from VijAI Robotics!\n",
      "Welcome Shreya\n",
      "Greeting from VijAI Robotics!\n"
     ]
    }
   ],
   "source": [
    "name1 = \"Priyanshu\"\n",
    "name2 = \"Mayank\"\n",
    "name3 = \"Shreya\"\n",
    "print(\"Welcome\",name1)\n",
    "greet()\n",
    "print(\"Welcome\",name2)\n",
    "greet()\n",
    "print(\"Welcome\",name3)\n",
    "greet()"
   ]
  },
  {
   "cell_type": "code",
   "execution_count": 2,
   "id": "70960324-768b-47fe-bb6c-3ca3f67dfc3d",
   "metadata": {
    "scrolled": true
   },
   "outputs": [
    {
     "name": "stdout",
     "output_type": "stream",
     "text": [
      "Welcome Priyanshu\n",
      "Greeting from VijAI Robotics!\n",
      "Welcome Shreya\n",
      "Greeting from VijAI Robotics!\n",
      "Welcome Mayank\n",
      "Greeting from VijAI Robotics!\n"
     ]
    }
   ],
   "source": [
    "# def funciton_name(parameter1 , parameter2 , parameter3 , .......):\n",
    "\n",
    "\n",
    "def greet_student(name):\n",
    "    print(\"Welcome\",name)\n",
    "    print(\"Greeting from VijAI Robotics!\")\n",
    "\n",
    "name1 = \"Priyanshu\"\n",
    "name2 = \"Shreya\"\n",
    "name3 = \"Mayank\"\n",
    "\n",
    "greet_student(name1)\n",
    "greet_student(name2)\n",
    "greet_student(name3)"
   ]
  },
  {
   "cell_type": "code",
   "execution_count": 37,
   "id": "1cb5ccee-e03a-4386-9970-69d42f6b82d6",
   "metadata": {},
   "outputs": [
    {
     "name": "stdout",
     "output_type": "stream",
     "text": [
      "Data Science 10 AM\n"
     ]
    }
   ],
   "source": [
    "course_name = \"Data Science\"\n",
    "batch_timing = \"10 AM\"\n",
    "print(course_name , batch_timing)"
   ]
  },
  {
   "cell_type": "code",
   "execution_count": 45,
   "id": "8cd78101-ec8c-4d20-b906-c51463e57a45",
   "metadata": {
    "scrolled": true
   },
   "outputs": [
    {
     "name": "stdout",
     "output_type": "stream",
     "text": [
      "Data Science 10 AM\n",
      "Welcome Nishi\n",
      "Greeting from VijAI Robotics!\n"
     ]
    }
   ],
   "source": [
    "print(course_name , batch_timing)\n",
    "greet_student(\"Nishi\")"
   ]
  },
  {
   "cell_type": "code",
   "execution_count": 55,
   "id": "b210b170-c9b1-4aaa-830e-869665e84067",
   "metadata": {
    "scrolled": true
   },
   "outputs": [
    {
     "name": "stdout",
     "output_type": "stream",
     "text": [
      "Hello world tiger\n"
     ]
    }
   ],
   "source": [
    "def greet_student():\n",
    "    print(\"Hello world\",name)\n",
    "\n",
    "name = \"tiger\"\n",
    "greet_student()"
   ]
  },
  {
   "cell_type": "code",
   "execution_count": 3,
   "id": "81847e73-6862-4ebb-903b-e32213f372f6",
   "metadata": {},
   "outputs": [
    {
     "ename": "TypeError",
     "evalue": "greet_student() missing 1 required positional argument: 'name'",
     "output_type": "error",
     "traceback": [
      "\u001b[1;31m---------------------------------------------------------------------------\u001b[0m",
      "\u001b[1;31mTypeError\u001b[0m                                 Traceback (most recent call last)",
      "Cell \u001b[1;32mIn[3], line 1\u001b[0m\n\u001b[1;32m----> 1\u001b[0m greet_student()\n",
      "\u001b[1;31mTypeError\u001b[0m: greet_student() missing 1 required positional argument: 'name'"
     ]
    }
   ],
   "source": [
    "greet_student()"
   ]
  },
  {
   "cell_type": "code",
   "execution_count": 6,
   "id": "5ef18293-e0ef-44fc-a661-5c92aaba6ffa",
   "metadata": {},
   "outputs": [
    {
     "name": "stdout",
     "output_type": "stream",
     "text": [
      "Greeting from VijAI Robotics!\n"
     ]
    }
   ],
   "source": [
    "greet()"
   ]
  },
  {
   "cell_type": "code",
   "execution_count": 4,
   "id": "747c4f17-9d28-4e09-a2af-d70b3c55b652",
   "metadata": {},
   "outputs": [
    {
     "name": "stdout",
     "output_type": "stream",
     "text": [
      "\n"
     ]
    }
   ],
   "source": [
    "print() # print() is built-in fucnction"
   ]
  },
  {
   "cell_type": "code",
   "execution_count": 29,
   "id": "9991db5a-e97e-4d6c-a5e8-758e0a06bacf",
   "metadata": {
    "jupyter": {
     "source_hidden": true
    }
   },
   "outputs": [
    {
     "ename": "TypeError",
     "evalue": "type() takes 1 or 3 arguments",
     "output_type": "error",
     "traceback": [
      "\u001b[1;31m---------------------------------------------------------------------------\u001b[0m",
      "\u001b[1;31mTypeError\u001b[0m                                 Traceback (most recent call last)",
      "Cell \u001b[1;32mIn[29], line 1\u001b[0m\n\u001b[1;32m----> 1\u001b[0m \u001b[38;5;28mtype\u001b[39m()\n",
      "\u001b[1;31mTypeError\u001b[0m: type() takes 1 or 3 arguments"
     ]
    }
   ],
   "source": [
    "type() # we can say parameter as argument and we have not given the parameter"
   ]
  },
  {
   "cell_type": "code",
   "execution_count": 8,
   "id": "d4868446-44aa-48ed-87f1-555d3d229bed",
   "metadata": {},
   "outputs": [
    {
     "ename": "TypeError",
     "evalue": "greet() takes 0 positional arguments but 1 was given",
     "output_type": "error",
     "traceback": [
      "\u001b[1;31m---------------------------------------------------------------------------\u001b[0m",
      "\u001b[1;31mTypeError\u001b[0m                                 Traceback (most recent call last)",
      "Cell \u001b[1;32mIn[8], line 4\u001b[0m\n\u001b[0;32m      1\u001b[0m \u001b[38;5;28;01mdef\u001b[39;00m\u001b[38;5;250m \u001b[39m\u001b[38;5;21mgreet\u001b[39m():\n\u001b[0;32m      2\u001b[0m     \u001b[38;5;28mprint\u001b[39m(\u001b[38;5;124m\"\u001b[39m\u001b[38;5;124mWecome to ABC!\u001b[39m\u001b[38;5;124m\"\u001b[39m)\n\u001b[1;32m----> 4\u001b[0m greet(\u001b[38;5;124m\"\u001b[39m\u001b[38;5;124mPankaj\u001b[39m\u001b[38;5;124m\"\u001b[39m)\n",
      "\u001b[1;31mTypeError\u001b[0m: greet() takes 0 positional arguments but 1 was given"
     ]
    }
   ],
   "source": [
    "def greet():\n",
    "    print(\"Wecome to ABC!\")\n",
    "    \n",
    "greet(\"Pankaj\")"
   ]
  },
  {
   "cell_type": "code",
   "execution_count": 38,
   "id": "334dc9da-7811-43c2-84f8-dd3fabe96a03",
   "metadata": {},
   "outputs": [
    {
     "name": "stdout",
     "output_type": "stream",
     "text": [
      "Wecome to ABC!\n"
     ]
    }
   ],
   "source": [
    "def greet(name):\n",
    "    print(\"Wecome to ABC!\")\n",
    "    \n",
    "greet(\"Pankaj\")"
   ]
  },
  {
   "cell_type": "code",
   "execution_count": 17,
   "id": "06189433-418e-4f1c-a211-c36363ba26ad",
   "metadata": {},
   "outputs": [
    {
     "name": "stdout",
     "output_type": "stream",
     "text": [
      "Wecome to ABC!\n"
     ]
    },
    {
     "ename": "TypeError",
     "evalue": "greet() missing 1 required positional argument: 'name'",
     "output_type": "error",
     "traceback": [
      "\u001b[1;31m---------------------------------------------------------------------------\u001b[0m",
      "\u001b[1;31mTypeError\u001b[0m                                 Traceback (most recent call last)",
      "Cell \u001b[1;32mIn[17], line 5\u001b[0m\n\u001b[0;32m      2\u001b[0m     \u001b[38;5;28mprint\u001b[39m(\u001b[38;5;124m\"\u001b[39m\u001b[38;5;124mWecome to ABC!\u001b[39m\u001b[38;5;124m\"\u001b[39m)\n\u001b[0;32m      4\u001b[0m greet(\u001b[38;5;124m\"\u001b[39m\u001b[38;5;124mPankaj\u001b[39m\u001b[38;5;124m\"\u001b[39m)\n\u001b[1;32m----> 5\u001b[0m greet()\n",
      "\u001b[1;31mTypeError\u001b[0m: greet() missing 1 required positional argument: 'name'"
     ]
    }
   ],
   "source": [
    "def greet(name):\n",
    "    print(\"Wecome to ABC!\")\n",
    "\n",
    "greet(\"Pankaj\")\n",
    "greet()"
   ]
  },
  {
   "cell_type": "code",
   "execution_count": 30,
   "id": "7605c644-b8d1-49a7-b3ae-604a6cdafe15",
   "metadata": {},
   "outputs": [
    {
     "name": "stdout",
     "output_type": "stream",
     "text": [
      "Wecome to ABC!\n"
     ]
    },
    {
     "ename": "TypeError",
     "evalue": "greet() missing 1 required positional argument: 'ID'",
     "output_type": "error",
     "traceback": [
      "\u001b[1;31m---------------------------------------------------------------------------\u001b[0m",
      "\u001b[1;31mTypeError\u001b[0m                                 Traceback (most recent call last)",
      "Cell \u001b[1;32mIn[30], line 5\u001b[0m\n\u001b[0;32m      2\u001b[0m     \u001b[38;5;28mprint\u001b[39m(\u001b[38;5;124m\"\u001b[39m\u001b[38;5;124mWecome to ABC!\u001b[39m\u001b[38;5;124m\"\u001b[39m)\n\u001b[0;32m      4\u001b[0m greet(\u001b[38;5;124m\"\u001b[39m\u001b[38;5;124mPankaj\u001b[39m\u001b[38;5;124m\"\u001b[39m , \u001b[38;5;124m\"\u001b[39m\u001b[38;5;124mvij1\u001b[39m\u001b[38;5;124m\"\u001b[39m)\n\u001b[1;32m----> 5\u001b[0m greet(\u001b[38;5;124m\"\u001b[39m\u001b[38;5;124mPankaj\u001b[39m\u001b[38;5;124m\"\u001b[39m)\n\u001b[0;32m      6\u001b[0m greet()\n",
      "\u001b[1;31mTypeError\u001b[0m: greet() missing 1 required positional argument: 'ID'"
     ]
    }
   ],
   "source": [
    "def greet(name , ID):\n",
    "    print(\"Wecome to ABC!\")\n",
    "\n",
    "greet(\"Pankaj\" , \"vij1\")\n",
    "greet(\"Pankaj\")\n",
    "greet()"
   ]
  },
  {
   "cell_type": "code",
   "execution_count": 28,
   "id": "85aa66e2-b830-4c89-b97e-042cd125e799",
   "metadata": {},
   "outputs": [
    {
     "ename": "TypeError",
     "evalue": "len() takes exactly one argument (0 given)",
     "output_type": "error",
     "traceback": [
      "\u001b[1;31m---------------------------------------------------------------------------\u001b[0m",
      "\u001b[1;31mTypeError\u001b[0m                                 Traceback (most recent call last)",
      "Cell \u001b[1;32mIn[28], line 1\u001b[0m\n\u001b[1;32m----> 1\u001b[0m \u001b[38;5;28mlen\u001b[39m()\n",
      "\u001b[1;31mTypeError\u001b[0m: len() takes exactly one argument (0 given)"
     ]
    }
   ],
   "source": [
    "len()"
   ]
  },
  {
   "cell_type": "code",
   "execution_count": 28,
   "id": "4bb494db-3dbd-41dd-b6eb-7c1c1051ac49",
   "metadata": {},
   "outputs": [
    {
     "ename": "TypeError",
     "evalue": "len() takes exactly one argument (0 given)",
     "output_type": "error",
     "traceback": [
      "\u001b[1;31m---------------------------------------------------------------------------\u001b[0m",
      "\u001b[1;31mTypeError\u001b[0m                                 Traceback (most recent call last)",
      "Cell \u001b[1;32mIn[28], line 1\u001b[0m\n\u001b[1;32m----> 1\u001b[0m \u001b[38;5;28mlen\u001b[39m()\n",
      "\u001b[1;31mTypeError\u001b[0m: len() takes exactly one argument (0 given)"
     ]
    }
   ],
   "source": [
    "len()"
   ]
  },
  {
   "cell_type": "code",
   "execution_count": 33,
   "id": "4d9974a1-6c39-4303-9a82-fd22352e7598",
   "metadata": {},
   "outputs": [
    {
     "name": "stdout",
     "output_type": "stream",
     "text": [
      "Wecome to ABC!\n",
      "Pankaj vij1\n",
      "Wecome to ABC!\n",
      "Suraj vij3\n"
     ]
    }
   ],
   "source": [
    "def greet(name , ID):\n",
    "    print(\"Wecome to ABC!\")\n",
    "    print(name , ID)\n",
    "\n",
    "greet(\"Pankaj\" , \"vij1\")\n",
    "greet(\"Suraj\" , \"vij3\")"
   ]
  },
  {
   "cell_type": "code",
   "execution_count": 34,
   "id": "813ad520-def1-4212-90bd-48630cc30956",
   "metadata": {},
   "outputs": [
    {
     "name": "stdout",
     "output_type": "stream",
     "text": [
      "Wecome to ABC!\n"
     ]
    }
   ],
   "source": [
    "def greet(name , ID):\n",
    "    print(\"Wecome to ABC!\")\n",
    "    std_id = name + \"_\" + ID\n",
    "\n",
    "greet(\"suraj\" , \"vij3\")"
   ]
  },
  {
   "cell_type": "code",
   "execution_count": 37,
   "id": "c608975e-eb70-466f-98da-ecb6d65ef150",
   "metadata": {},
   "outputs": [
    {
     "name": "stdout",
     "output_type": "stream",
     "text": [
      "Wecome Suraj to ABC!\n",
      "Suraj_vij3\n"
     ]
    }
   ],
   "source": [
    "def greet(name  , ID):\n",
    "    print(\"Wecome\",name,\"to ABC!\")\n",
    "    std_id = name + \"_\" + ID\n",
    "    print(std_id)\n",
    "\n",
    "greet(\"Suraj\" , \"vij3\")"
   ]
  },
  {
   "cell_type": "code",
   "execution_count": 6,
   "id": "3126ee9b-e44d-4a64-ba0c-8e617034abe2",
   "metadata": {},
   "outputs": [
    {
     "name": "stdout",
     "output_type": "stream",
     "text": [
      "Priyanshu is enrolled.\n",
      "Priyanshu your student is Priyanshu_vij1\n"
     ]
    }
   ],
   "source": [
    "def enroll(name , ID):\n",
    "    print(name,\"is enrolled.\")\n",
    "    std_id = name + \"_\" + ID\n",
    "    return std_id\n",
    "\n",
    "name1 = \"Priyanshu\"\n",
    "id1 = \"vij1\"\n",
    "std_1 = enroll(name1,id1)\n",
    "print(name1,\"your student  is\",std_1)"
   ]
  },
  {
   "cell_type": "code",
   "execution_count": 3,
   "id": "cfcf9951-2529-4b45-aee2-9fd6682b0be3",
   "metadata": {},
   "outputs": [
    {
     "name": "stdout",
     "output_type": "stream",
     "text": [
      "<class 'int'>\n"
     ]
    },
    {
     "data": {
      "text/plain": [
       "int"
      ]
     },
     "execution_count": 3,
     "metadata": {},
     "output_type": "execute_result"
    }
   ],
   "source": [
    "x = 18\n",
    "y = type(x)\n",
    "print(y)\n",
    "y"
   ]
  },
  {
   "cell_type": "code",
   "execution_count": 43,
   "id": "576be7a3-11dd-4053-bc50-a79343819a30",
   "metadata": {},
   "outputs": [
    {
     "name": "stdout",
     "output_type": "stream",
     "text": [
      "<class 'int'>\n"
     ]
    }
   ],
   "source": [
    "x = 18\n",
    "print(type(x))"
   ]
  },
  {
   "cell_type": "code",
   "execution_count": 44,
   "id": "efce0d6d-91c7-4e49-9c84-5a30135adf13",
   "metadata": {},
   "outputs": [
    {
     "data": {
      "text/plain": [
       "int"
      ]
     },
     "execution_count": 44,
     "metadata": {},
     "output_type": "execute_result"
    }
   ],
   "source": [
    "x = 18\n",
    "type(x)"
   ]
  },
  {
   "cell_type": "code",
   "execution_count": 3,
   "id": "aca53c11-0e68-45d5-96a7-a1333346d043",
   "metadata": {},
   "outputs": [
    {
     "name": "stdout",
     "output_type": "stream",
     "text": [
      "Priyanshu is enrolled.\n",
      "('Priyanshu_vij1', 'vijai Robotics')\n",
      "Priyanshu your student is ('Priyanshu_vij1', 'vijai Robotics')\n"
     ]
    }
   ],
   "source": [
    "def enroll(name , ID):\n",
    "    print(name,\"is enrolled.\")\n",
    "    std_id = name + \"_\" + ID\n",
    "    inst_name = \"vijai Robotics\"\n",
    "    return std_id , inst_name\n",
    "\n",
    "name1 = \"Priyanshu\"\n",
    "id1 = \"vij1\"\n",
    "print(enroll(name1,id1))\n",
    "print(name1,\"your student is\",std_1)"
   ]
  },
  {
   "cell_type": "code",
   "execution_count": 8,
   "id": "4116ac43-a004-46b3-b7f4-75be0c1ed02c",
   "metadata": {},
   "outputs": [
    {
     "name": "stdout",
     "output_type": "stream",
     "text": [
      "Priyanshu is enrolled.\n",
      "Priyanshu_vij1\n",
      "Priyanshu your student is Priyanshu_vij1\n",
      "<class 'str'>\n"
     ]
    }
   ],
   "source": [
    "std_1 = enroll(name1,id1)\n",
    "print(std_1)\n",
    "print(name1,\"your student is\",std_1)\n",
    "print(type(std_1))"
   ]
  },
  {
   "cell_type": "code",
   "execution_count": 4,
   "id": "53da919f-9358-4010-962f-9f06fa1b79ba",
   "metadata": {},
   "outputs": [
    {
     "name": "stdout",
     "output_type": "stream",
     "text": [
      "Priyanshu is enrolled.\n"
     ]
    },
    {
     "data": {
      "text/plain": [
       "('Priyanshu_vij1', 'vijai Robotics')"
      ]
     },
     "execution_count": 4,
     "metadata": {},
     "output_type": "execute_result"
    }
   ],
   "source": [
    "enroll(name1,id1)"
   ]
  },
  {
   "cell_type": "code",
   "execution_count": 21,
   "id": "eacd842d-f955-4dfb-a225-771cf5d11411",
   "metadata": {},
   "outputs": [
    {
     "name": "stdout",
     "output_type": "stream",
     "text": [
      "Priyanshu is enrolled.\n",
      "Priyanshu_vij1 is your student.\n",
      "vijai Robotics is your institude.\n"
     ]
    }
   ],
   "source": [
    "def enroll(name , ID):\n",
    "    print(name,\"is enrolled.\")\n",
    "    std_id = name + \"_\" + ID\n",
    "    inst_name = \"vijai Robotics\"\n",
    "    return std_id , inst_name\n",
    "\n",
    "name1 = \"Priyanshu\"\n",
    "id1 = \"vij1\"\n",
    "a , b = enroll(name1,id1) # unpacking the tuple\n",
    "\n",
    "print(a,\"is your student.\")\n",
    "print(b,\"is your institude.\")"
   ]
  },
  {
   "cell_type": "code",
   "execution_count": 28,
   "id": "ac3828c4-37d7-4f8b-a667-73b3d7286060",
   "metadata": {},
   "outputs": [
    {
     "name": "stdout",
     "output_type": "stream",
     "text": [
      "Pankaj is enrolled.\n"
     ]
    },
    {
     "data": {
      "text/plain": [
       "('Pankaj_Vij1', 'vijai Robotics')"
      ]
     },
     "execution_count": 28,
     "metadata": {},
     "output_type": "execute_result"
    }
   ],
   "source": [
    "def enroll(name , ID):\n",
    "    print(name,\"is enrolled.\")\n",
    "    std_id = name + \"_\" + ID\n",
    "    inst_name = \"vijai Robotics\"\n",
    "    return std_id , inst_name\n",
    "    \n",
    "name1 = \"Pankaj\"\n",
    "ID = \"Vij1\"\n",
    "\n",
    "enroll(name1,ID)"
   ]
  },
  {
   "cell_type": "code",
   "execution_count": 37,
   "id": "a4e74eb2-997f-4830-a2a8-2453663c9edf",
   "metadata": {},
   "outputs": [
    {
     "name": "stdout",
     "output_type": "stream",
     "text": [
      "Tushar is enrolled!\n",
      "Tushar_vij1\n"
     ]
    }
   ],
   "source": [
    "def enroll(name,ID):\n",
    "    print(name,\"is enrolled!\")\n",
    "    std_id = name + \"_\" + ID\n",
    "    return std_id\n",
    "   \n",
    "name1 = \"Tushar\"\n",
    "id1 = \"vij1\"\n",
    "admin1 = enroll(name1,id1)\n",
    "print(admin1)"
   ]
  },
  {
   "cell_type": "code",
   "execution_count": 18,
   "id": "19cddcb0-29f4-441e-85d4-00e690c8a058",
   "metadata": {},
   "outputs": [
    {
     "name": "stdout",
     "output_type": "stream",
     "text": [
      "Tushar is enrolled!\n"
     ]
    },
    {
     "data": {
      "text/plain": [
       "'Tushar_vij1'"
      ]
     },
     "execution_count": 18,
     "metadata": {},
     "output_type": "execute_result"
    }
   ],
   "source": [
    "enroll(name1,id1)"
   ]
  },
  {
   "cell_type": "code",
   "execution_count": 1,
   "id": "c4158326-15e4-4c13-bcee-3b21a1dae7d0",
   "metadata": {},
   "outputs": [
    {
     "name": "stdout",
     "output_type": "stream",
     "text": [
      "Tushar is enrolled!\n",
      "Nishi is enrolled!\n",
      "Abdullah is enrolled!\n",
      "1 Tushar_vij1\n",
      "2 Nishi_vij2\n",
      "3 Abdullah_vij3\n"
     ]
    }
   ],
   "source": [
    "def enroll(name,ID):\n",
    "    print(name,\"is enrolled!\")\n",
    "    std_id = name + \"_\" + ID\n",
    "    return std_id\n",
    "  \n",
    "name1 = \"Tushar\"\n",
    "id1 = \"vij1\"\n",
    "admin1 = enroll(name1,id1)\n",
    "\n",
    "name2 = \"Nishi\"\n",
    "id2 = \"vij2\"\n",
    "admin2 = enroll(name2,id2)\n",
    "\n",
    "name3 = \"Abdullah\"\n",
    "id3 = \"vij3\"\n",
    "admin3 = enroll(name3,id3)\n",
    "\n",
    "print(\"1\",admin1)\n",
    "print(\"2\",admin2)\n",
    "print(\"3\",admin3)"
   ]
  },
  {
   "cell_type": "code",
   "execution_count": 33,
   "id": "1ad43295-8928-44e5-99d1-893b1bd64bfa",
   "metadata": {},
   "outputs": [
    {
     "name": "stdout",
     "output_type": "stream",
     "text": [
      "Hello world\n",
      "None\n"
     ]
    }
   ],
   "source": [
    "z = print(\"Hello world\")\n",
    "print(z)"
   ]
  },
  {
   "cell_type": "code",
   "execution_count": 34,
   "id": "c84051c6-69cc-4bcb-9fea-0ef13bfb65e0",
   "metadata": {},
   "outputs": [
    {
     "name": "stdout",
     "output_type": "stream",
     "text": [
      "Hello world\n",
      "None\n"
     ]
    }
   ],
   "source": [
    "print(print(\"Hello world\"))"
   ]
  },
  {
   "cell_type": "code",
   "execution_count": 14,
   "id": "a3a99936-60ac-4d9d-b18c-4c0a733abd35",
   "metadata": {},
   "outputs": [],
   "source": [
    "None # None is a data type"
   ]
  },
  {
   "cell_type": "code",
   "execution_count": 35,
   "id": "9fd2dd0e-dc2a-4f07-b384-cb7e27a46681",
   "metadata": {},
   "outputs": [
    {
     "name": "stdout",
     "output_type": "stream",
     "text": [
      "Hello world\n",
      "None\n",
      "None\n"
     ]
    }
   ],
   "source": [
    "print(print(print(\"Hello world\")))"
   ]
  },
  {
   "cell_type": "code",
   "execution_count": 15,
   "id": "cdec568a-ba09-46ab-856a-edd481a197be",
   "metadata": {},
   "outputs": [
    {
     "name": "stdout",
     "output_type": "stream",
     "text": [
      "\n",
      "None\n",
      "None\n"
     ]
    }
   ],
   "source": [
    "print(print(print()))"
   ]
  },
  {
   "cell_type": "code",
   "execution_count": 12,
   "id": "4dd2e444-b981-43cb-ab5b-45ce39dbb7bb",
   "metadata": {},
   "outputs": [],
   "source": [
    "None"
   ]
  },
  {
   "cell_type": "code",
   "execution_count": 13,
   "id": "ad95ee7d-8581-4a45-b017-0254a015d2f2",
   "metadata": {},
   "outputs": [
    {
     "name": "stdout",
     "output_type": "stream",
     "text": [
      "None\n"
     ]
    }
   ],
   "source": [
    "print(None)"
   ]
  },
  {
   "cell_type": "code",
   "execution_count": 17,
   "id": "d06287d5-5dd1-470f-b02f-b9e894cf132c",
   "metadata": {},
   "outputs": [
    {
     "name": "stdout",
     "output_type": "stream",
     "text": [
      "hello world\n",
      "None\n"
     ]
    }
   ],
   "source": [
    "print(print(\"hello world\"))"
   ]
  },
  {
   "cell_type": "code",
   "execution_count": 19,
   "id": "432611f5-e9ac-49d4-890b-8228a6535d89",
   "metadata": {},
   "outputs": [
    {
     "name": "stdout",
     "output_type": "stream",
     "text": [
      "124.7\n"
     ]
    }
   ],
   "source": [
    "def sum(a,b,c):\n",
    "    return a + b + c\n",
    "\n",
    "x = 23\n",
    "y = 67.5\n",
    "z = 34.2\n",
    "\n",
    "sum_of_num = sum(x,y,z)\n",
    "print(sum_of_num)"
   ]
  },
  {
   "cell_type": "code",
   "execution_count": 36,
   "id": "83df4f0c-1b13-4e02-a6c9-f7d788272a8b",
   "metadata": {},
   "outputs": [
    {
     "name": "stdin",
     "output_type": "stream",
     "text": [
      "Enter the name of the student: Pankaj\n",
      "Enter the date of enrollment:d 12/09/2025\n"
     ]
    },
    {
     "data": {
      "text/plain": [
       "('Pankaj', '12/09/2025', 'Pankaj_vij2025')"
      ]
     },
     "execution_count": 36,
     "metadata": {},
     "output_type": "execute_result"
    }
   ],
   "source": [
    "# This function is used to enroll new student \n",
    "def enroll_students():\n",
    "    name = input(\"Enter the name of the student:\")\n",
    "    enrollment_date = input(\"Enter the date of enrollment:d\")\n",
    "    student_id = name + \"_\" + \"vij2025\"\n",
    "    return name , enrollment_date , student_id\n",
    "\n",
    "enroll_students()"
   ]
  },
  {
   "cell_type": "code",
   "execution_count": 21,
   "id": "c4014011-ac93-431b-9847-832ef4d14cec",
   "metadata": {},
   "outputs": [
    {
     "name": "stdin",
     "output_type": "stream",
     "text": [
      "Enter the name of the student: Pankaj\n",
      "Enter the date of enrollment:d 12/9/2025\n"
     ]
    }
   ],
   "source": [
    "name1 , enroll_date1 , std_id1 = enroll_students()"
   ]
  },
  {
   "cell_type": "code",
   "execution_count": 25,
   "id": "74059b32-9c6e-4542-966d-0bc287dd2d4d",
   "metadata": {},
   "outputs": [
    {
     "name": "stdout",
     "output_type": "stream",
     "text": [
      "Student name: Pankaj\n",
      "Enrolled date of student: 12/9/2025\n",
      "Student id : Pankaj_vij2025\n"
     ]
    }
   ],
   "source": [
    "print(\"Student name:\",name1)\n",
    "print(\"Enrolled date of student:\",enroll_date1)\n",
    "print(\"Student id :\",std_id1)"
   ]
  },
  {
   "cell_type": "code",
   "execution_count": 30,
   "id": "ca4336e3-efd8-49f0-b58b-aa1b8988757f",
   "metadata": {},
   "outputs": [
    {
     "name": "stdin",
     "output_type": "stream",
     "text": [
      "Enter the name of the student: suhel\n",
      "Enter date of enrollment: 12/09/2024\n"
     ]
    }
   ],
   "source": [
    "def enroll_students():\n",
    "    name = input(\"Enter the name of the student:\")\n",
    "    enrollment_date = input(\"Enter date of enrollment:\")\n",
    "\n",
    "    if enrollment_date[6:] == \"2025\":\n",
    "        student_id = name + \"_\" + \"vij2025\"\n",
    "    else: \n",
    "        student_id = name + \"_\" + \"vij2024\"\n",
    "\n",
    "    return name,enrollment_date,student_id \n",
    "\n",
    "name2 , enroll_date_2 , std_id2 , = enroll_students()"
   ]
  },
  {
   "cell_type": "code",
   "execution_count": 32,
   "id": "b49bc75d-7eec-48bf-909e-e9158eebed62",
   "metadata": {},
   "outputs": [
    {
     "name": "stdout",
     "output_type": "stream",
     "text": [
      "suhel 12/09/2024 suhel_vij2024\n"
     ]
    }
   ],
   "source": [
    "print(name2,enroll_date_2,std_id2)"
   ]
  },
  {
   "cell_type": "code",
   "execution_count": 35,
   "id": "6f167df1-b471-4fbb-8e2a-fff22605c17e",
   "metadata": {},
   "outputs": [
    {
     "name": "stdin",
     "output_type": "stream",
     "text": [
      "Enter the name of the student: Shreya\n",
      "Enter date of enrollment: 12/09/2025\n"
     ]
    },
    {
     "name": "stdout",
     "output_type": "stream",
     "text": [
      "Shreya 12/09/2025 Shreya_vij2025\n"
     ]
    }
   ],
   "source": [
    "name3 , enroll_date_3 , std_id3 = enroll_students()\n",
    "print(name3,enroll_date_3,std_id3)"
   ]
  },
  {
   "cell_type": "code",
   "execution_count": 52,
   "id": "016f1dd4-cf8c-4535-a94e-653a9969b450",
   "metadata": {},
   "outputs": [],
   "source": [
    "# code for students eligibility for the nation team\n",
    "def students():\n",
    "    name = input(\"Enter the student name:\")\n",
    "    age = int(input(\"Enter the age:\"))\n",
    "\n",
    "    if age > 15 and age < 19:\n",
    "        student_age = \"is eligible for the nation team.\"\n",
    "    else:\n",
    "        student_age = \"is not eligible for the nation team.\"\n",
    "\n",
    "    return name , age , student_age\n"
   ]
  },
  {
   "cell_type": "code",
   "execution_count": 48,
   "id": "c37952c5-b809-4933-a5f2-17355d2adfe8",
   "metadata": {},
   "outputs": [
    {
     "name": "stdin",
     "output_type": "stream",
     "text": [
      "Enter the student name: pankaj\n",
      "Enter the age: 23\n"
     ]
    },
    {
     "name": "stdout",
     "output_type": "stream",
     "text": [
      "pankaj  is not eligible for the nation team.\n"
     ]
    }
   ],
   "source": [
    "name1 , age1 , student_age1 = students()\n",
    "print(name1,student_age1)"
   ]
  },
  {
   "cell_type": "code",
   "execution_count": 50,
   "id": "9f4e99c1-20a2-4d4a-a6aa-0d45d4d4ccdd",
   "metadata": {},
   "outputs": [
    {
     "name": "stdin",
     "output_type": "stream",
     "text": [
      "Enter the student name: Aayush\n",
      "Enter the age: 13\n"
     ]
    },
    {
     "name": "stdout",
     "output_type": "stream",
     "text": [
      "Aayush  is not eligible for the nation team.\n"
     ]
    }
   ],
   "source": [
    "name2 , age2, student_age2 = students()\n",
    "print(name2,student_age2)"
   ]
  },
  {
   "cell_type": "code",
   "execution_count": 3,
   "id": "f30b9725-6bc6-4efa-a4f2-3e8f20fefeaf",
   "metadata": {},
   "outputs": [],
   "source": [
    "# checking the valid name or not\n",
    "def name():\n",
    "    n = input(\"Enter the name:\")\n",
    "\n",
    "    if \"vij25\" in n:\n",
    "        st = \"valid name for vijai robotics..\"\n",
    "    else:\n",
    "        st = \"not a valid name.\"\n",
    "\n",
    "    return n,st"
   ]
  },
  {
   "cell_type": "code",
   "execution_count": 4,
   "id": "cfc1814b-03d2-4482-8908-0dd3f14d28b1",
   "metadata": {},
   "outputs": [
    {
     "name": "stdin",
     "output_type": "stream",
     "text": [
      "Enter the name: Pankajvij25\n"
     ]
    },
    {
     "name": "stdout",
     "output_type": "stream",
     "text": [
      "Pankajvij25 valid name for vijai robotics..\n"
     ]
    }
   ],
   "source": [
    "n1 , st1= name()\n",
    "print(n1 ,st1)"
   ]
  },
  {
   "cell_type": "code",
   "execution_count": 6,
   "id": "599be709-f3c3-4d1e-b380-bf1e4b400263",
   "metadata": {},
   "outputs": [
    {
     "name": "stdin",
     "output_type": "stream",
     "text": [
      "Enter the name: Abdullah\n"
     ]
    },
    {
     "name": "stdout",
     "output_type": "stream",
     "text": [
      "Abdullah not a valid name.\n"
     ]
    }
   ],
   "source": [
    "n2 , st2 = name()\n",
    "print(n2 , st2)"
   ]
  },
  {
   "cell_type": "code",
   "execution_count": 2,
   "id": "5420b26c-d107-4d1e-94db-3e0b1eab8a25",
   "metadata": {},
   "outputs": [
    {
     "name": "stdin",
     "output_type": "stream",
     "text": [
      "Enter the first number: 56\n",
      "Enter the second number: 6\n",
      "Enter the operator (+,-,*,/): -\n"
     ]
    },
    {
     "data": {
      "text/plain": [
       "50.0"
      ]
     },
     "execution_count": 2,
     "metadata": {},
     "output_type": "execute_result"
    }
   ],
   "source": [
    "def calculator():\n",
    "    num1 = float(input(\"Enter the first number:\"))\n",
    "    num2 = float(input(\"Enter the second number:\"))\n",
    "    opt = input(\"Enter the operator (+,-,*,/):\")\n",
    "\n",
    "    if opt == \"+\":\n",
    "        return num1 + num2\n",
    "    elif opt == \"-\":\n",
    "        return num1 - num2\n",
    "    elif opt == \"*\":\n",
    "        return num1 * num2\n",
    "    elif opt == \"/\":\n",
    "        return num1 / num2\n",
    "    else:\n",
    "        print(\"Invalid operator\")\n",
    "\n",
    "calculator()"
   ]
  },
  {
   "cell_type": "code",
   "execution_count": 1,
   "id": "7b1dc1c5-e78b-445e-ada7-66faa1f1091d",
   "metadata": {},
   "outputs": [
    {
     "name": "stdin",
     "output_type": "stream",
     "text": [
      "Enter the first number: 6\n",
      "Enter the second number: 5\n",
      "Enter the operator (+,-,*,/): =\n"
     ]
    },
    {
     "name": "stdout",
     "output_type": "stream",
     "text": [
      "Invalid operator\n"
     ]
    }
   ],
   "source": [
    "def calculator(n1,n2,ch):\n",
    "   \n",
    "    if opt == \"+\":\n",
    "        return num1 + num2\n",
    "    elif opt == \"-\":\n",
    "        return num1 - num2\n",
    "    elif opt == \"*\":\n",
    "        return num1 * num2\n",
    "    elif opt == \"/\":\n",
    "        return num1 / num2\n",
    "    else:\n",
    "        print(\"Invalid operator\")\n",
    "\n",
    "num1 = float(input(\"Enter the first number:\"))\n",
    "num2 = float(input(\"Enter the second number:\"))\n",
    "opt = input(\"Enter the operator (+,-,*,/):\")\n",
    "\n",
    "calculator(num1,num2,opt)"
   ]
  },
  {
   "cell_type": "markdown",
   "id": "46b74287-de3f-4d4a-b473-47fc7834d5bc",
   "metadata": {},
   "source": [
    "<font size = \"6\"><b>_Python Function_<b>"
   ]
  },
  {
   "cell_type": "markdown",
   "id": "07fbe735-dddd-40c0-89cf-7d0a0658b24a",
   "metadata": {},
   "source": [
    "Python function are a block of elements that does a specific task. The ideas is to put some commonly or repeatedly done task together and make a function so that instead of writing the same code again and again for different inputs, we can do the functions call to reuse code contained in it over and over again."
   ]
  },
  {
   "cell_type": "markdown",
   "id": "6160598d-cdd6-4d98-bb99-e4336c6f4d21",
   "metadata": {},
   "source": [
    " ***_Defining a Function_***"
   ]
  },
  {
   "cell_type": "markdown",
   "id": "ef380d7f-80b1-4296-82aa-4a5e6199a886",
   "metadata": {},
   "source": [
    "We can define a function in Python using the def keyword. We can add add any type of functionalities and properties to it as we require.\n",
    "\n",
    "The ***def keyword*** stands for define. It is used to create a user-defined function. It marks the begining of a function block and allows you to goup a set of statements so they can be reused when the function is called.\n",
    "\n",
    "Syntax:"
   ]
  },
  {
   "cell_type": "markdown",
   "id": "02c99ec6-2fbc-460d-8477-b5dc3ef91c29",
   "metadata": {},
   "source": [
    "def function_name(parameters):\n",
    "\n",
    "      # function body\n",
    "***Explaination***\n",
    "- def starts the function defination.\n",
    "- function_name : Name of the function.\n",
    "- parameters : Input passed to the function (inside = ()), optional.\n",
    "- Indented code : The function body that prints a welcome message when called."
   ]
  },
  {
   "cell_type": "markdown",
   "id": "c70836bf-7ab5-43e7-9b08-43f96dce90ee",
   "metadata": {},
   "source": [
    "***Calling a function***\n",
    "\n",
    "After creating a function in Python we can call it by using the name of the functions followed by the parethesis containg parameters of that particular function."
   ]
  },
  {
   "cell_type": "code",
   "execution_count": 1,
   "id": "3e4f07cf-0927-4b36-bb41-f00845b5c26f",
   "metadata": {},
   "outputs": [
    {
     "name": "stdout",
     "output_type": "stream",
     "text": [
      "Welcome to vijAI\n"
     ]
    }
   ],
   "source": [
    "def fun():\n",
    "    print(\"Welcome to vijAI\")\n",
    "\n",
    "fun() # Deiver code to call the function"
   ]
  },
  {
   "cell_type": "code",
   "execution_count": 6,
   "id": "0e069bc5-5df8-4f87-ac1c-4850013a321c",
   "metadata": {},
   "outputs": [
    {
     "name": "stdout",
     "output_type": "stream",
     "text": [
      "7\n"
     ]
    }
   ],
   "source": [
    "def add(n1 , n2):\n",
    "    n3 = n1 + n2\n",
    "    print(n3)\n",
    "\n",
    "add(3,4)"
   ]
  },
  {
   "cell_type": "code",
   "execution_count": 1,
   "id": "d305cfcd-c8d5-4fcc-a988-da106d1889b3",
   "metadata": {},
   "outputs": [
    {
     "name": "stdout",
     "output_type": "stream",
     "text": [
      "8\n"
     ]
    }
   ],
   "source": [
    "def add( n1 , n2):\n",
    "    n3 = n1 + n2\n",
    "    print(n3)\n",
    "\n",
    "add( 3,5)"
   ]
  },
  {
   "cell_type": "code",
   "execution_count": 4,
   "id": "acd26106-65f3-4717-81bb-11e6c757bb79",
   "metadata": {},
   "outputs": [
    {
     "name": "stdout",
     "output_type": "stream",
     "text": [
      "14\n"
     ]
    }
   ],
   "source": [
    "add(9,5)"
   ]
  },
  {
   "cell_type": "code",
   "execution_count": null,
   "id": "a35a9047-25dd-4098-a9d5-b1611d44841f",
   "metadata": {},
   "outputs": [],
   "source": []
  },
  {
   "cell_type": "code",
   "execution_count": null,
   "id": "14631ddd-d542-4216-ab72-d4482b1474fd",
   "metadata": {},
   "outputs": [],
   "source": []
  },
  {
   "cell_type": "code",
   "execution_count": null,
   "id": "63c62fee-a22a-492e-8f00-9b7ed7726297",
   "metadata": {},
   "outputs": [],
   "source": []
  },
  {
   "cell_type": "code",
   "execution_count": null,
   "id": "1e390202-1559-4961-b0bd-c23436b9a97c",
   "metadata": {},
   "outputs": [],
   "source": []
  },
  {
   "cell_type": "code",
   "execution_count": null,
   "id": "cd1d1638-c100-4bae-a025-470443eb2e4a",
   "metadata": {},
   "outputs": [],
   "source": []
  },
  {
   "cell_type": "code",
   "execution_count": null,
   "id": "ed966ba0-dd9d-4a3e-98df-8fc78a23da90",
   "metadata": {},
   "outputs": [],
   "source": []
  },
  {
   "cell_type": "code",
   "execution_count": null,
   "id": "4763d882-3672-4904-b62a-8801eeb4caf8",
   "metadata": {},
   "outputs": [],
   "source": []
  }
 ],
 "metadata": {
  "kernelspec": {
   "display_name": "Python 3 (ipykernel)",
   "language": "python",
   "name": "python3"
  },
  "language_info": {
   "codemirror_mode": {
    "name": "ipython",
    "version": 3
   },
   "file_extension": ".py",
   "mimetype": "text/x-python",
   "name": "python",
   "nbconvert_exporter": "python",
   "pygments_lexer": "ipython3",
   "version": "3.13.5"
  }
 },
 "nbformat": 4,
 "nbformat_minor": 5
}
