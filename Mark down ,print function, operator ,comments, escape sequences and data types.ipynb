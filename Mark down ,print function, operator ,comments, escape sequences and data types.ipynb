{
 "cells": [
  {
   "cell_type": "markdown",
   "id": "8056e00a-ecf1-4699-8a61-5057515e6891",
   "metadata": {},
   "source": [
    "# Operators"
   ]
  },
  {
   "cell_type": "markdown",
   "id": "c3af372d-08f4-45a1-b16d-7ccec7c5f00f",
   "metadata": {},
   "source": [
    " Operators are the special symbol in python that performs operations on variables and values \"+\" is an operator."
   ]
  },
  {
   "cell_type": "markdown",
   "id": "1533620c-7e0e-482b-887b-83727fb0fbbb",
   "metadata": {},
   "source": [
    " **Airthematic operators**\n",
    "1. Addition ( **+** )\n",
    "2. Subration ( **-** )\n",
    "3. Multiplication ( * )\n",
    "4. Division ( **/** )\n",
    "5. Floor division ( **//** )\n",
    "6. Modulus ( **%** )\n",
    "7. Exponeation ( ** )"
   ]
  },
  {
   "cell_type": "code",
   "execution_count": 2,
   "id": "4eb9590e-c85c-4a2d-ab26-2cbfe7a76834",
   "metadata": {},
   "outputs": [
    {
     "name": "stdout",
     "output_type": "stream",
     "text": [
      "6.666666666666667 this is result of normal divison\n",
      "6 this is result of floor division\n"
     ]
    }
   ],
   "source": [
    "a = 20\n",
    "b = 3\n",
    "c = a/b # Division is used\n",
    "d = a//b # FLoor division\n",
    "print(c,'this is result of normal divison')\n",
    "print(d,'this is result of floor division it returns the qutionet')"
   ]
  },
  {
   "cell_type": "code",
   "execution_count": 7,
   "id": "096b45c3-196f-4bf3-85c5-32ebc7ab6809",
   "metadata": {},
   "outputs": [
    {
     "name": "stdout",
     "output_type": "stream",
     "text": [
      "49 is square of 7.\n"
     ]
    }
   ],
   "source": [
    "a = 7\n",
    "b = 2\n",
    "c = a**b # 'a' is the exponent of 'b'.\n",
    "print(c,'is square of 7.')"
   ]
  },
  {
   "cell_type": "code",
   "execution_count": 8,
   "id": "e1f8cd7a-fb70-412e-ad0b-9c0e09468c91",
   "metadata": {},
   "outputs": [
    {
     "data": {
      "text/plain": [
       "7.888888888888889"
      ]
     },
     "execution_count": 8,
     "metadata": {},
     "output_type": "execute_result"
    }
   ],
   "source": [
    "a = 2 + 3 - 5 * 2 / 3 ** 2 + 4\n",
    "b = 3**2\n",
    "# new equation becomes = 2 + 3 - 5 * 2 / b + 4\n",
    "\n",
    "c = 5*2\n",
    "# new equation becomes = 2 + 3 - c / b + 4\n",
    "\n",
    "d = c/b\n",
    "# new equation becomes = 2+3-d+4\n",
    "\n",
    "e = 2 + 3 + 4\n",
    "# new equation becomes = e-d\n",
    "\n",
    "f = e - d\n",
    "\n",
    "f"
   ]
  },
  {
   "cell_type": "markdown",
   "id": "38ae20ca-9f8b-474d-8415-9266acf6591e",
   "metadata": {},
   "source": [
    "#### ()\n",
    "#### **\n",
    "#### *,/,//,%  First one will solve first \n",
    "#### +,-\n",
    "1. Solve the precueding operation with precudence.\n",
    "2. left to right."
   ]
  },
  {
   "cell_type": "code",
   "execution_count": 20,
   "id": "9c313211-2958-4ee3-80a6-5b0acea6db9f",
   "metadata": {},
   "outputs": [
    {
     "name": "stdout",
     "output_type": "stream",
     "text": [
      "-7.666666666666667 -7.666666666666667\n"
     ]
    }
   ],
   "source": [
    "_1st_question = 2 + 5 ** (3 - 1) // 2 % 11 -5 + 4 / 3 + 2 - 3 * 3\n",
    "\n",
    "# 1st\n",
    "a = (3 - 1)\n",
    "eq1 = 2 + 5 ** a // 2 % 11 -5 + 4 / 3 + 2 - 3 * 3\n",
    "\n",
    "# 2nd\n",
    "b = 5 ** a\n",
    "eq2 = 2 + b // 2 % 11 -5 + 4 / 3 + 2 - 3 * 3\n",
    "\n",
    "# 3rd\n",
    "c = b // 2\n",
    "eq3 = 2 + c % 11 -5 + 4 / 3 + 2 - 3 * 3\n",
    "\n",
    "# 4th\n",
    "d = c % 11\n",
    "eq4 = 2 + d - 5 + 4 / 3 + 2 - 3 * 3\n",
    "\n",
    "# 5th\n",
    "e = 4 / 3\n",
    "eq5 = 2 + d - 5 + e + 2 - 3 * 3\n",
    "\n",
    "# 6th\n",
    "f = 3 * 3\n",
    "eq6 = 2 + d - 5 + e + 2 - f\n",
    "\n",
    "# 7th\n",
    "g = 2 + d + e + 2 \n",
    "eq7 = g - 5 - f\n",
    "\n",
    "print(eq7 , _1st_question)"
   ]
  },
  {
   "cell_type": "code",
   "execution_count": null,
   "id": "8a57b643-932b-406b-9321-9b7ce7e6e4e0",
   "metadata": {},
   "outputs": [],
   "source": []
  },
  {
   "cell_type": "code",
   "execution_count": null,
   "id": "a2d2e43f-52b2-4158-a384-e6794f7e87d4",
   "metadata": {},
   "outputs": [],
   "source": []
  },
  {
   "cell_type": "code",
   "execution_count": null,
   "id": "44642453-936c-4e64-9e45-fda53261d971",
   "metadata": {},
   "outputs": [],
   "source": []
  },
  {
   "cell_type": "markdown",
   "id": "4896fb87-39d7-47a4-9e53-b3448dd13957",
   "metadata": {},
   "source": [
    "# comments"
   ]
  },
  {
   "cell_type": "code",
   "execution_count": 5,
   "id": "616576af-46f5-48cb-b777-499b63b30d2c",
   "metadata": {},
   "outputs": [
    {
     "data": {
      "text/plain": [
       "'\\n\\nthis\\nis \\na \\nmulti-line \\ncomment\\n\\n'"
      ]
     },
     "execution_count": 5,
     "metadata": {},
     "output_type": "execute_result"
    }
   ],
   "source": [
    "'''\n",
    "\n",
    "this\n",
    "is \n",
    "a \n",
    "multi-line \n",
    "comment\n",
    "\n",
    "'''"
   ]
  },
  {
   "cell_type": "markdown",
   "id": "552a6c82-a950-43b4-bde3-bab52e60df08",
   "metadata": {},
   "source": [
    "# heading 1"
   ]
  },
  {
   "cell_type": "markdown",
   "id": "023be45b-ed72-41b6-ad41-9e8db583bdaf",
   "metadata": {},
   "source": [
    "## headimg 2"
   ]
  },
  {
   "cell_type": "markdown",
   "id": "5f4a3790-f9ab-4fb6-b7e5-43b3ebe28f54",
   "metadata": {},
   "source": [
    "### heading 3"
   ]
  },
  {
   "cell_type": "markdown",
   "id": "d7cbdcce-04bd-437f-ac56-d0d2390aaf4e",
   "metadata": {},
   "source": [
    "#### heading 4"
   ]
  },
  {
   "cell_type": "markdown",
   "id": "2a289865-38ce-4e1c-9b2e-e51a5cece689",
   "metadata": {},
   "source": [
    "##### heading 5"
   ]
  },
  {
   "cell_type": "markdown",
   "id": "0cb3a1c7-326d-4ebc-ba9e-8170c99ad845",
   "metadata": {},
   "source": [
    "###### heading 6"
   ]
  },
  {
   "cell_type": "markdown",
   "id": "e57d850f-20ae-456c-a5cd-e4b0a38b5044",
   "metadata": {},
   "source": [
    "_HEADING_"
   ]
  },
  {
   "cell_type": "markdown",
   "id": "e7f7c9f5-00f3-4fef-a2ae-4793939e5152",
   "metadata": {},
   "source": [
    "*Python* was created by Guido Van Rossum."
   ]
  },
  {
   "cell_type": "markdown",
   "id": "e5a29b0d-058a-44b6-a322-d9fe4861b012",
   "metadata": {},
   "source": [
    "Python was created by Guido Van Rossum."
   ]
  },
  {
   "cell_type": "code",
   "execution_count": 13,
   "id": "26e43d66-580e-4f69-8c72-6a0a322c3680",
   "metadata": {},
   "outputs": [],
   "source": [
    "# *Python* was created by Guido Van Rossum."
   ]
  },
  {
   "cell_type": "markdown",
   "id": "193f2775-4c1e-4576-9737-2d1dd4faa9c0",
   "metadata": {},
   "source": [
    "*Python* was created by *Guido Van Rossum.*"
   ]
  },
  {
   "cell_type": "markdown",
   "id": "4e0e9fbe-e12e-4c89-8754-2fa8a3bb2e24",
   "metadata": {},
   "source": [
    "**Python** was created by **Guido Van Rossum.**"
   ]
  },
  {
   "cell_type": "markdown",
   "id": "9cd2931b-8250-40a3-89a8-c8969b05329f",
   "metadata": {},
   "source": [
    "**Python** was created by Guido Van Rossum."
   ]
  },
  {
   "cell_type": "markdown",
   "id": "8c04fe4a-cec2-4076-859f-2d819e2f1c34",
   "metadata": {},
   "source": [
    "***Python*** was created by Guido Van Rossum.\n"
   ]
  },
  {
   "cell_type": "markdown",
   "id": "98ff9997-9ab0-4188-be0d-2a19d0a84e73",
   "metadata": {},
   "source": [
    "***Python*** was created by ***Guido Van Rossum.***"
   ]
  },
  {
   "cell_type": "markdown",
   "id": "59e26b14-2bcb-4286-8523-4214b6e83902",
   "metadata": {},
   "source": [
    "***Python was created by Guido Van Rossum.***"
   ]
  },
  {
   "cell_type": "raw",
   "id": "57867879-905d-495a-9ed4-d4e8dc6c1d7e",
   "metadata": {},
   "source": [
    "*** Pyhon was created by Guido Van Rossum. ***"
   ]
  },
  {
   "cell_type": "code",
   "execution_count": null,
   "id": "c19c1e75-a14e-4bdb-b9ad-bc2a7aa93d6f",
   "metadata": {},
   "outputs": [],
   "source": []
  },
  {
   "cell_type": "code",
   "execution_count": 2,
   "id": "686e97f7-79e7-4d07-af85-767cfd025717",
   "metadata": {},
   "outputs": [
    {
     "data": {
      "text/plain": [
       "35"
      ]
     },
     "execution_count": 2,
     "metadata": {},
     "output_type": "execute_result"
    }
   ],
   "source": [
    "12+23"
   ]
  },
  {
   "cell_type": "raw",
   "id": "2421f650-08ca-4bc6-823f-6ee03d94b61e",
   "metadata": {},
   "source": [
    "12+23"
   ]
  },
  {
   "cell_type": "raw",
   "id": "e6db2cf9-5ace-4909-9889-aa57088c441f",
   "metadata": {},
   "source": [
    "print(\"Hello World!\")"
   ]
  },
  {
   "cell_type": "code",
   "execution_count": null,
   "id": "6c90762a-5ecd-4b35-bbc9-d42e2bffeb78",
   "metadata": {},
   "outputs": [],
   "source": [
    "\"\"\"\n",
    "\n",
    "multi-line comment\n",
    "\n",
    "\"\"\""
   ]
  },
  {
   "cell_type": "code",
   "execution_count": 4,
   "id": "a5e3c405-5f95-4741-af5d-77d26ff9fd0a",
   "metadata": {},
   "outputs": [
    {
     "data": {
      "text/plain": [
       "'python'"
      ]
     },
     "execution_count": 4,
     "metadata": {},
     "output_type": "execute_result"
    }
   ],
   "source": [
    "\"python\""
   ]
  },
  {
   "cell_type": "code",
   "execution_count": 5,
   "id": "211e98fd-c4d1-4088-96c7-345913fda02a",
   "metadata": {},
   "outputs": [
    {
     "data": {
      "text/plain": [
       "'python'"
      ]
     },
     "execution_count": 5,
     "metadata": {},
     "output_type": "execute_result"
    }
   ],
   "source": [
    "'python'"
   ]
  },
  {
   "cell_type": "code",
   "execution_count": 7,
   "id": "21e70868-6c7c-48d3-9db7-29a083274441",
   "metadata": {},
   "outputs": [
    {
     "data": {
      "text/plain": [
       "'java'"
      ]
     },
     "execution_count": 7,
     "metadata": {},
     "output_type": "execute_result"
    }
   ],
   "source": [
    "\"python\"\n",
    "\"java\""
   ]
  },
  {
   "cell_type": "code",
   "execution_count": 8,
   "id": "a8f49e34-6e8b-4788-9b46-b3ca04be5624",
   "metadata": {},
   "outputs": [
    {
     "data": {
      "text/plain": [
       "'C++'"
      ]
     },
     "execution_count": 8,
     "metadata": {},
     "output_type": "execute_result"
    }
   ],
   "source": [
    "\"python\"\n",
    "\"java\"\n",
    "\"C++\""
   ]
  },
  {
   "cell_type": "code",
   "execution_count": 9,
   "id": "1c0a9e6c-0433-4a50-a957-e609fcc755ed",
   "metadata": {},
   "outputs": [
    {
     "data": {
      "text/plain": [
       "'data science'"
      ]
     },
     "execution_count": 9,
     "metadata": {},
     "output_type": "execute_result"
    }
   ],
   "source": [
    "\"python\"\n",
    "\"java\"\n",
    "\"C++\"\n",
    "\"data science\""
   ]
  },
  {
   "cell_type": "code",
   "execution_count": 10,
   "id": "a49e5de8-64bc-425c-8dc5-513e8082830f",
   "metadata": {},
   "outputs": [
    {
     "data": {
      "text/plain": [
       "12"
      ]
     },
     "execution_count": 10,
     "metadata": {},
     "output_type": "execute_result"
    }
   ],
   "source": [
    "\"data science\"\n",
    "12"
   ]
  },
  {
   "cell_type": "code",
   "execution_count": 11,
   "id": "987ba899-48ad-44f0-8952-08695dbf0f67",
   "metadata": {},
   "outputs": [
    {
     "data": {
      "text/plain": [
       "12"
      ]
     },
     "execution_count": 11,
     "metadata": {},
     "output_type": "execute_result"
    }
   ],
   "source": [
    "12"
   ]
  },
  {
   "cell_type": "code",
   "execution_count": 13,
   "id": "1c123a68-c3c4-47e6-bfea-90fd64f30aec",
   "metadata": {},
   "outputs": [
    {
     "data": {
      "text/plain": [
       "623"
      ]
     },
     "execution_count": 13,
     "metadata": {},
     "output_type": "execute_result"
    }
   ],
   "source": [
    "\"python \"\n",
    "89*7"
   ]
  },
  {
   "cell_type": "code",
   "execution_count": 23,
   "id": "9a518eaf-9faa-4ee3-8766-c34425794954",
   "metadata": {},
   "outputs": [
    {
     "data": {
      "text/plain": [
       "108"
      ]
     },
     "execution_count": 23,
     "metadata": {},
     "output_type": "execute_result"
    }
   ],
   "source": [
    "\"artificial intelligence\"\n",
    "45/9\n",
    "12*9"
   ]
  },
  {
   "cell_type": "code",
   "execution_count": 24,
   "id": "c8261bdf-0f9a-413a-ae0f-73ce5300f5e4",
   "metadata": {
    "scrolled": true
   },
   "outputs": [
    {
     "name": "stdout",
     "output_type": "stream",
     "text": [
      "artificial intelligence\n",
      "5.0\n",
      "108\n"
     ]
    }
   ],
   "source": [
    "print(\"artificial intelligence\")\n",
    "print(45/9)\n",
    "print(12*9)"
   ]
  },
  {
   "cell_type": "code",
   "execution_count": 28,
   "id": "bdc55298-83ad-4296-8dfd-66adaf401d99",
   "metadata": {},
   "outputs": [
    {
     "name": "stdout",
     "output_type": "stream",
     "text": [
      "python\n",
      "45/9\n",
      "12*9\n"
     ]
    }
   ],
   "source": [
    "print(\"python\")\n",
    "print(\"45/9\")\n",
    "print('12*9')"
   ]
  },
  {
   "cell_type": "code",
   "execution_count": 29,
   "id": "737e0700-5b35-4553-aa97-b08f6baeb33d",
   "metadata": {},
   "outputs": [
    {
     "name": "stdout",
     "output_type": "stream",
     "text": [
      "python\n",
      "45/9\n",
      "12*9\n"
     ]
    }
   ],
   "source": [
    "print('python')\n",
    "print('45/9')\n",
    "print('12*9')"
   ]
  },
  {
   "cell_type": "code",
   "execution_count": 31,
   "id": "f0f9d78a-01bf-44a2-b131-8894bdb2b5e3",
   "metadata": {},
   "outputs": [
    {
     "data": {
      "text/plain": [
       "'12/2'"
      ]
     },
     "execution_count": 31,
     "metadata": {},
     "output_type": "execute_result"
    }
   ],
   "source": [
    "'12/2'"
   ]
  },
  {
   "cell_type": "code",
   "execution_count": 32,
   "id": "e977e400-c477-4e79-bf91-f4ede56457a4",
   "metadata": {},
   "outputs": [
    {
     "data": {
      "text/plain": [
       "'12@##$'"
      ]
     },
     "execution_count": 32,
     "metadata": {},
     "output_type": "execute_result"
    }
   ],
   "source": [
    "\"12@##$\""
   ]
  },
  {
   "cell_type": "code",
   "execution_count": 34,
   "id": "886e401c-30f1-4a2a-8884-a61cee2be463",
   "metadata": {},
   "outputs": [
    {
     "ename": "SyntaxError",
     "evalue": "invalid syntax (2581643897.py, line 1)",
     "output_type": "error",
     "traceback": [
      "\u001b[1;36m  Cell \u001b[1;32mIn[34], line 1\u001b[1;36m\u001b[0m\n\u001b[1;33m    12@44$$\u001b[0m\n\u001b[1;37m         ^\u001b[0m\n\u001b[1;31mSyntaxError\u001b[0m\u001b[1;31m:\u001b[0m invalid syntax\n"
     ]
    }
   ],
   "source": [
    "12@44$$"
   ]
  },
  {
   "cell_type": "code",
   "execution_count": 35,
   "id": "a23ec6b8-7843-47c5-b4da-45402fb1a107",
   "metadata": {},
   "outputs": [
    {
     "ename": "NameError",
     "evalue": "name 'python' is not defined",
     "output_type": "error",
     "traceback": [
      "\u001b[1;31m---------------------------------------------------------------------------\u001b[0m",
      "\u001b[1;31mNameError\u001b[0m                                 Traceback (most recent call last)",
      "Cell \u001b[1;32mIn[35], line 1\u001b[0m\n\u001b[1;32m----> 1\u001b[0m python\n",
      "\u001b[1;31mNameError\u001b[0m: name 'python' is not defined"
     ]
    }
   ],
   "source": [
    "python"
   ]
  },
  {
   "cell_type": "code",
   "execution_count": 36,
   "id": "ff88cac1-c516-40f2-a97c-45b70c5cac14",
   "metadata": {},
   "outputs": [
    {
     "ename": "SyntaxError",
     "evalue": "invalid syntax (330750712.py, line 1)",
     "output_type": "error",
     "traceback": [
      "\u001b[1;36m  Cell \u001b[1;32mIn[36], line 1\u001b[1;36m\u001b[0m\n\u001b[1;33m    data science\u001b[0m\n\u001b[1;37m         ^\u001b[0m\n\u001b[1;31mSyntaxError\u001b[0m\u001b[1;31m:\u001b[0m invalid syntax\n"
     ]
    }
   ],
   "source": [
    "data science"
   ]
  },
  {
   "cell_type": "code",
   "execution_count": 38,
   "id": "b4fc1085-c5fe-4db1-ae51-9797d2a12317",
   "metadata": {},
   "outputs": [
    {
     "ename": "SyntaxError",
     "evalue": "invalid syntax (3321816815.py, line 1)",
     "output_type": "error",
     "traceback": [
      "\u001b[1;36m  Cell \u001b[1;32mIn[38], line 1\u001b[1;36m\u001b[0m\n\u001b[1;33m    artificial intelligence\u001b[0m\n\u001b[1;37m               ^\u001b[0m\n\u001b[1;31mSyntaxError\u001b[0m\u001b[1;31m:\u001b[0m invalid syntax\n"
     ]
    }
   ],
   "source": [
    "artificial intelligence"
   ]
  },
  {
   "cell_type": "code",
   "execution_count": 39,
   "id": "9fb2c1ea-fe9b-40f9-84c7-81031612b59a",
   "metadata": {},
   "outputs": [
    {
     "name": "stdout",
     "output_type": "stream",
     "text": [
      "DS\n"
     ]
    },
    {
     "data": {
      "text/plain": [
       "'ML'"
      ]
     },
     "execution_count": 39,
     "metadata": {},
     "output_type": "execute_result"
    }
   ],
   "source": [
    "\"Ai\"\n",
    "print(\"DS\")\n",
    "\"ML\""
   ]
  },
  {
   "cell_type": "code",
   "execution_count": 40,
   "id": "f32a8bbb-b68c-49d3-a168-1c48f3051752",
   "metadata": {},
   "outputs": [
    {
     "name": "stdout",
     "output_type": "stream",
     "text": [
      "I am learning \n"
     ]
    },
    {
     "data": {
      "text/plain": [
       "'data science'"
      ]
     },
     "execution_count": 40,
     "metadata": {},
     "output_type": "execute_result"
    }
   ],
   "source": [
    "print(\"I am learning \")\n",
    "\"data science\""
   ]
  },
  {
   "cell_type": "code",
   "execution_count": 41,
   "id": "da1d9476-58e8-496e-bf1d-5901d01ddd53",
   "metadata": {},
   "outputs": [
    {
     "name": "stdout",
     "output_type": "stream",
     "text": [
      "I am learning \n",
      "data science\n"
     ]
    }
   ],
   "source": [
    "print(\"I am learning \")\n",
    "print(\"data science\")"
   ]
  },
  {
   "cell_type": "code",
   "execution_count": 45,
   "id": "e0309cde-d5ce-47db-9518-f16ba3a4b127",
   "metadata": {},
   "outputs": [
    {
     "name": "stdout",
     "output_type": "stream",
     "text": [
      "i am learning \n",
      "dada science\n",
      "python\n"
     ]
    }
   ],
   "source": [
    "print(\"\"\"i am learning \n",
    "dada science\n",
    "python\"\"\")"
   ]
  },
  {
   "cell_type": "code",
   "execution_count": 48,
   "id": "92234ef6-3522-45f3-9b5b-d27ba77619f7",
   "metadata": {},
   "outputs": [
    {
     "name": "stdout",
     "output_type": "stream",
     "text": [
      "i am learning \n",
      "data science \n",
      " python\n"
     ]
    }
   ],
   "source": [
    "print(\"i am learning \\ndata science \\n python\")"
   ]
  },
  {
   "cell_type": "code",
   "execution_count": 52,
   "id": "33d381d4-cb3b-4771-ab5e-b1f73b396ca7",
   "metadata": {},
   "outputs": [
    {
     "name": "stdout",
     "output_type": "stream",
     "text": [
      "I am learning \n",
      "   Data science\n"
     ]
    }
   ],
   "source": [
    "print(\"I am learning \\n   Data science\")"
   ]
  },
  {
   "cell_type": "code",
   "execution_count": 54,
   "id": "6cbb4749-092f-4725-884a-8d5658cb0232",
   "metadata": {},
   "outputs": [
    {
     "name": "stdout",
     "output_type": "stream",
     "text": [
      "python \n",
      "@C++\n"
     ]
    }
   ],
   "source": [
    "print(\"python \\n@C++\")"
   ]
  },
  {
   "cell_type": "code",
   "execution_count": 55,
   "id": "3085523d-73be-4789-be49-2294647a233b",
   "metadata": {},
   "outputs": [
    {
     "name": "stdout",
     "output_type": "stream",
     "text": [
      "abc \n",
      "78\n"
     ]
    }
   ],
   "source": [
    "print(\"abc \\n78\")"
   ]
  },
  {
   "cell_type": "code",
   "execution_count": 58,
   "id": "11c1a069-4807-47fe-81ff-812ca11c6b46",
   "metadata": {},
   "outputs": [
    {
     "name": "stdout",
     "output_type": "stream",
     "text": [
      "abc           \n",
      "#3453\n"
     ]
    }
   ],
   "source": [
    "print(\"abc           \\n#3453\")"
   ]
  },
  {
   "cell_type": "code",
   "execution_count": 59,
   "id": "979ad2f0-7483-47de-ab3a-7b751a1773e9",
   "metadata": {},
   "outputs": [
    {
     "name": "stdout",
     "output_type": "stream",
     "text": [
      "python\n",
      "\n",
      "DS\n"
     ]
    }
   ],
   "source": [
    "print(\"python\\n\\nDS\")"
   ]
  },
  {
   "cell_type": "code",
   "execution_count": 60,
   "id": "92bfb1f7-9e93-486a-8a9b-30da7fc89de2",
   "metadata": {},
   "outputs": [
    {
     "name": "stdout",
     "output_type": "stream",
     "text": [
      "pyhton\n",
      "\n",
      "\n",
      "DS\n"
     ]
    }
   ],
   "source": [
    "print(\"pyhton\\n\\n\\nDS\")"
   ]
  },
  {
   "cell_type": "code",
   "execution_count": 2,
   "id": "0e1b6981-b215-4dac-9bdb-d1846bf9089c",
   "metadata": {},
   "outputs": [
    {
     "name": "stdout",
     "output_type": "stream",
     "text": [
      "\n",
      "python\n",
      "\n",
      "DS\n"
     ]
    }
   ],
   "source": [
    "print(\"\\npython\\n\\nDS\")"
   ]
  },
  {
   "cell_type": "raw",
   "id": "d84c974f-fbe8-43f2-ad49-a9dc91c87587",
   "metadata": {},
   "source": [
    "print(12/4,\"=\")"
   ]
  },
  {
   "cell_type": "code",
   "execution_count": 65,
   "id": "59bf9256-28dc-4c64-b048-20b29dfb19d3",
   "metadata": {},
   "outputs": [
    {
     "name": "stdout",
     "output_type": "stream",
     "text": [
      "12 / 8 = 1.5\n"
     ]
    }
   ],
   "source": [
    "print(\"12 / 8 =\",12/8)"
   ]
  },
  {
   "cell_type": "code",
   "execution_count": 67,
   "id": "67bebcc9-9578-43f4-9352-fc82764c0329",
   "metadata": {},
   "outputs": [
    {
     "name": "stdout",
     "output_type": "stream",
     "text": [
      "12 / 8 = 1.5\n"
     ]
    }
   ],
   "source": [
    "a = 12 / 8\n",
    "print(\"12 / 8 =\",a)"
   ]
  },
  {
   "cell_type": "code",
   "execution_count": 69,
   "id": "cb2f0d89-941a-4776-b7f8-c536fdbe75b6",
   "metadata": {},
   "outputs": [
    {
     "name": "stdout",
     "output_type": "stream",
     "text": [
      "Multiplication is : 96\n"
     ]
    }
   ],
   "source": [
    "a=12*8\n",
    "print(\"Multiplication is :\",a)"
   ]
  },
  {
   "cell_type": "code",
   "execution_count": 71,
   "id": "8866dd28-8686-480e-beb3-67264954c07c",
   "metadata": {},
   "outputs": [
    {
     "data": {
      "text/plain": [
       "'😋'"
      ]
     },
     "execution_count": 71,
     "metadata": {},
     "output_type": "execute_result"
    }
   ],
   "source": [
    "\"😋\""
   ]
  },
  {
   "cell_type": "code",
   "execution_count": 72,
   "id": "bb8d4cc6-9362-42c4-beae-a5211f029683",
   "metadata": {},
   "outputs": [
    {
     "name": "stdout",
     "output_type": "stream",
     "text": [
      "😶‍🌫️👍\n"
     ]
    }
   ],
   "source": [
    "print(\"😶‍🌫️👍\")"
   ]
  },
  {
   "cell_type": "code",
   "execution_count": 1,
   "id": "e7a8d39b-5051-48b6-8e0a-c42fb612a234",
   "metadata": {},
   "outputs": [
    {
     "name": "stdout",
     "output_type": "stream",
     "text": [
      "12 / 8 = 1.5\n"
     ]
    }
   ],
   "source": [
    "print(\"12 / 8 =\",12/8)"
   ]
  },
  {
   "cell_type": "code",
   "execution_count": 3,
   "id": "c2e48935-93d0-4433-ab94-c4d84a16b296",
   "metadata": {},
   "outputs": [
    {
     "name": "stdout",
     "output_type": "stream",
     "text": [
      "109.75\n"
     ]
    }
   ],
   "source": [
    "print(90*1+23-13/4)"
   ]
  },
  {
   "cell_type": "code",
   "execution_count": 4,
   "id": "4d4e63ca-f43e-424f-bbc7-fb6ed7c0818b",
   "metadata": {},
   "outputs": [
    {
     "name": "stdout",
     "output_type": "stream",
     "text": [
      "1\n"
     ]
    }
   ],
   "source": [
    "print(45%2)"
   ]
  },
  {
   "cell_type": "code",
   "execution_count": 1,
   "id": "816a4e9e-2aab-4a17-9412-d8aaee9b8c7a",
   "metadata": {},
   "outputs": [
    {
     "name": "stdout",
     "output_type": "stream",
     "text": [
      "12\n"
     ]
    }
   ],
   "source": [
    "print(22-10)"
   ]
  },
  {
   "cell_type": "markdown",
   "id": "8e3e0d1f-fc27-49b7-9b3a-ffebf4137947",
   "metadata": {},
   "source": [
    " **Data Types**"
   ]
  },
  {
   "cell_type": "code",
   "execution_count": 4,
   "id": "68f88e4a-e075-4d8f-8176-b72d4d201887",
   "metadata": {},
   "outputs": [
    {
     "data": {
      "text/plain": [
       "45.6"
      ]
     },
     "execution_count": 4,
     "metadata": {},
     "output_type": "execute_result"
    }
   ],
   "source": [
    "45.6 # float"
   ]
  },
  {
   "cell_type": "code",
   "execution_count": 11,
   "id": "992427e0-952d-46b2-a885-216ab2ce8273",
   "metadata": {},
   "outputs": [
    {
     "data": {
      "text/plain": [
       "False"
      ]
     },
     "execution_count": 11,
     "metadata": {},
     "output_type": "execute_result"
    }
   ],
   "source": [
    "True # boolean\n",
    "False # boolean"
   ]
  },
  {
   "cell_type": "code",
   "execution_count": 16,
   "id": "04a7c981-2c8b-4116-8da1-c7b534df2a4a",
   "metadata": {},
   "outputs": [
    {
     "data": {
      "text/plain": [
       "'True'"
      ]
     },
     "execution_count": 16,
     "metadata": {},
     "output_type": "execute_result"
    }
   ],
   "source": [
    "\"hello world\" # string\n",
    "\"True\" # string"
   ]
  },
  {
   "cell_type": "code",
   "execution_count": 17,
   "id": "df31370a-cd8f-4129-b29e-c65edd3bf8de",
   "metadata": {},
   "outputs": [
    {
     "data": {
      "text/plain": [
       "34"
      ]
     },
     "execution_count": 17,
     "metadata": {},
     "output_type": "execute_result"
    }
   ],
   "source": [
    "34 # integer"
   ]
  },
  {
   "cell_type": "code",
   "execution_count": 18,
   "id": "426ede5e-e09d-493a-a608-ef2a72e84583",
   "metadata": {},
   "outputs": [
    {
     "data": {
      "text/plain": [
       "'45'"
      ]
     },
     "execution_count": 18,
     "metadata": {},
     "output_type": "execute_result"
    }
   ],
   "source": [
    "\"45\" # string"
   ]
  },
  {
   "cell_type": "markdown",
   "id": "097e4b0e-205d-46ce-8644-a10f82d83a2b",
   "metadata": {},
   "source": [
    "**Escape Sequences**"
   ]
  },
  {
   "cell_type": "code",
   "execution_count": 19,
   "id": "13d68f3e-6a66-4474-a54c-f91306fea73d",
   "metadata": {},
   "outputs": [
    {
     "name": "stdout",
     "output_type": "stream",
     "text": [
      "Python\n",
      "Data Science\n"
     ]
    }
   ],
   "source": [
    "print(\"Python\\nData Science\")"
   ]
  },
  {
   "cell_type": "code",
   "execution_count": 21,
   "id": "b67ee22d-b317-486a-b7f5-02ef4cdaafb4",
   "metadata": {},
   "outputs": [
    {
     "name": "stdout",
     "output_type": "stream",
     "text": [
      "Data  python  science   \n"
     ]
    }
   ],
   "source": [
    "print(\"Data  python  science   \")"
   ]
  },
  {
   "cell_type": "code",
   "execution_count": 25,
   "id": "ca3f8af2-3e2a-40dc-a7b2-2d293467845b",
   "metadata": {},
   "outputs": [
    {
     "name": "stdout",
     "output_type": "stream",
     "text": [
      "data \t python \t science\n"
     ]
    }
   ],
   "source": [
    "print(\"data \\t python \\t science\")"
   ]
  },
  {
   "cell_type": "code",
   "execution_count": 26,
   "id": "33beddda-a907-4197-abc4-04edc9b8aeeb",
   "metadata": {},
   "outputs": [
    {
     "name": "stdout",
     "output_type": "stream",
     "text": [
      "data\t science\n",
      "python\n"
     ]
    }
   ],
   "source": [
    "print(\"data\\t science\\npython\")"
   ]
  },
  {
   "cell_type": "code",
   "execution_count": 28,
   "id": "17b0b5f2-e1be-4b1f-b184-891e44c863dd",
   "metadata": {},
   "outputs": [
    {
     "name": "stdout",
     "output_type": "stream",
     "text": [
      "data\t\t\tscience\n"
     ]
    }
   ],
   "source": [
    "print(\"data\\t\\t\\tscience\")"
   ]
  },
  {
   "cell_type": "code",
   "execution_count": 1,
   "id": "0c791ed7-2484-44dd-b364-a8f8c55e56b7",
   "metadata": {},
   "outputs": [
    {
     "name": "stdout",
     "output_type": "stream",
     "text": [
      "Hello world \\ data science\n"
     ]
    }
   ],
   "source": [
    "print(\"Hello world \\ data science\")"
   ]
  },
  {
   "cell_type": "code",
   "execution_count": null,
   "id": "cdbd2568-0b92-435f-aade-68d0f1f24a15",
   "metadata": {},
   "outputs": [],
   "source": []
  },
  {
   "cell_type": "code",
   "execution_count": null,
   "id": "0fc0551a-0a41-4992-88bb-ee3f02f1fd71",
   "metadata": {},
   "outputs": [],
   "source": []
  },
  {
   "cell_type": "code",
   "execution_count": null,
   "id": "a35c2aa0-2a82-4c53-a9d9-55111e63a88e",
   "metadata": {},
   "outputs": [],
   "source": []
  },
  {
   "cell_type": "code",
   "execution_count": null,
   "id": "0df8d671-5acf-45dc-b05f-67b19e3d3255",
   "metadata": {},
   "outputs": [],
   "source": []
  }
 ],
 "metadata": {
  "kernelspec": {
   "display_name": "Python 3 (ipykernel)",
   "language": "python",
   "name": "python3"
  },
  "language_info": {
   "codemirror_mode": {
    "name": "ipython",
    "version": 3
   },
   "file_extension": ".py",
   "mimetype": "text/x-python",
   "name": "python",
   "nbconvert_exporter": "python",
   "pygments_lexer": "ipython3",
   "version": "3.13.5"
  }
 },
 "nbformat": 4,
 "nbformat_minor": 5
}
