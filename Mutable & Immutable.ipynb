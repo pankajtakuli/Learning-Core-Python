{
 "cells": [
  {
   "cell_type": "markdown",
   "id": "16d71c5c-640d-46d0-9d9a-97ded8d469a4",
   "metadata": {},
   "source": [
    "**Immutable Data Type**"
   ]
  },
  {
   "cell_type": "markdown",
   "id": "a5d6b18e-f96a-49f4-b1bb-044ee1b9a421",
   "metadata": {},
   "source": [
    "*On changing the value the id of the variable changes.*"
   ]
  },
  {
   "cell_type": "code",
   "execution_count": 1,
   "id": "ac5c89e4-dd33-4396-b0ed-a5fce0cbb6b9",
   "metadata": {},
   "outputs": [
    {
     "name": "stdout",
     "output_type": "stream",
     "text": [
      "29\n",
      "140717998061352\n"
     ]
    }
   ],
   "source": [
    "# Immutable\n",
    "\n",
    "x = 29\n",
    "print(x)\n",
    "print(id(x))"
   ]
  },
  {
   "cell_type": "code",
   "execution_count": 12,
   "id": "d9408d04-ed47-4932-ac73-52d81cb3b76b",
   "metadata": {},
   "outputs": [
    {
     "name": "stdout",
     "output_type": "stream",
     "text": [
      "34\n",
      "140717998061512\n"
     ]
    }
   ],
   "source": [
    "x = 34\n",
    "print(x)\n",
    "print(id(x)) # Id is changing "
   ]
  },
  {
   "cell_type": "markdown",
   "id": "69605a3b-2de6-4119-839d-9d9b751f3e9f",
   "metadata": {},
   "source": [
    "**Mutable Data Type**"
   ]
  },
  {
   "cell_type": "markdown",
   "id": "a39105b9-3797-4882-8a65-4c785c6ae7f4",
   "metadata": {},
   "source": [
    "*On changing the value of the variable , the id does not change.*"
   ]
  },
  {
   "cell_type": "code",
   "execution_count": 3,
   "id": "c90e617d-d930-4e32-8705-13d46edab926",
   "metadata": {},
   "outputs": [
    {
     "name": "stdout",
     "output_type": "stream",
     "text": [
      "['Pankaj', 'Neeraj', 'Tushar']\n",
      "2819556400000\n"
     ]
    }
   ],
   "source": [
    "# Mutable\n",
    "\n",
    "lst1 = [\"Pankaj\", \"Neeraj\" , \"Tushar\"]\n",
    "print(lst1)\n",
    "print(id(lst1))"
   ]
  },
  {
   "cell_type": "code",
   "execution_count": 13,
   "id": "6c740bf2-a4de-45e4-a046-628f15bf3fb0",
   "metadata": {},
   "outputs": [
    {
     "name": "stdout",
     "output_type": "stream",
     "text": [
      "['Mayank']\n",
      "2819556400000\n"
     ]
    }
   ],
   "source": [
    "lst1.append(\"Mayank\")\n",
    "print(lst1)\n",
    "print(id(lst1)) # Id not changing"
   ]
  },
  {
   "cell_type": "code",
   "execution_count": 6,
   "id": "b6af4dc1-611e-4e75-9efe-f3cf1838e712",
   "metadata": {},
   "outputs": [
    {
     "name": "stdout",
     "output_type": "stream",
     "text": [
      "['Pankaj', 'Tushar', 'Mayank']\n",
      "2819556400000\n"
     ]
    }
   ],
   "source": [
    "lst1.remove(\"Neeraj\")\n",
    "print(lst1)\n",
    "print(id(lst1))"
   ]
  },
  {
   "cell_type": "code",
   "execution_count": 8,
   "id": "c2c1a358-499f-410f-98f6-095f6dd62279",
   "metadata": {},
   "outputs": [
    {
     "name": "stdout",
     "output_type": "stream",
     "text": [
      "['Nishi', 'Tushar', 'Mayank']\n",
      "2819556400000\n"
     ]
    }
   ],
   "source": [
    "lst1[0]= \"Nishi\"\n",
    "print(lst1)\n",
    "print(id(lst1))"
   ]
  },
  {
   "cell_type": "code",
   "execution_count": 9,
   "id": "64543bb5-221c-46c0-8aa9-a6f273ac7631",
   "metadata": {},
   "outputs": [
    {
     "name": "stdout",
     "output_type": "stream",
     "text": [
      "[]\n",
      "2819556400000\n"
     ]
    }
   ],
   "source": [
    "lst1.clear()\n",
    "print(lst1)\n",
    "print(id(lst1))"
   ]
  },
  {
   "cell_type": "code",
   "execution_count": 10,
   "id": "5b36524b-3885-4193-afc7-8e2fcfda211a",
   "metadata": {},
   "outputs": [
    {
     "data": {
      "text/plain": [
       "'h'"
      ]
     },
     "execution_count": 10,
     "metadata": {},
     "output_type": "execute_result"
    }
   ],
   "source": [
    "str1 = \"hello world\"\n",
    "str1[0]"
   ]
  },
  {
   "cell_type": "code",
   "execution_count": 11,
   "id": "d4a2a5e1-2c5c-4c1e-a9da-17deaaf368a3",
   "metadata": {},
   "outputs": [
    {
     "ename": "TypeError",
     "evalue": "'str' object does not support item assignment",
     "output_type": "error",
     "traceback": [
      "\u001b[1;31m---------------------------------------------------------------------------\u001b[0m",
      "\u001b[1;31mTypeError\u001b[0m                                 Traceback (most recent call last)",
      "Cell \u001b[1;32mIn[11], line 1\u001b[0m\n\u001b[1;32m----> 1\u001b[0m str1[\u001b[38;5;241m0\u001b[39m] \u001b[38;5;241m=\u001b[39m \u001b[38;5;124m\"\u001b[39m\u001b[38;5;124mx\u001b[39m\u001b[38;5;124m\"\u001b[39m\n",
      "\u001b[1;31mTypeError\u001b[0m: 'str' object does not support item assignment"
     ]
    }
   ],
   "source": [
    "str1[0] = \"x\""
   ]
  },
  {
   "cell_type": "code",
   "execution_count": null,
   "id": "a247c838-4df0-4887-b6d5-a7b2692917c8",
   "metadata": {},
   "outputs": [],
   "source": []
  },
  {
   "cell_type": "code",
   "execution_count": null,
   "id": "403a2f47-ffc4-4cc7-917f-4b3da5bed118",
   "metadata": {},
   "outputs": [],
   "source": []
  },
  {
   "cell_type": "markdown",
   "id": "7b0dab93-fef9-4083-a6d2-5fea9a1e36e5",
   "metadata": {},
   "source": []
  },
  {
   "cell_type": "code",
   "execution_count": null,
   "id": "5e54ff8f-0d2d-435c-bb40-01b74bcdf8ca",
   "metadata": {},
   "outputs": [],
   "source": []
  },
  {
   "cell_type": "code",
   "execution_count": null,
   "id": "416d5659-8aaa-461b-88af-3d5bd90b44ab",
   "metadata": {},
   "outputs": [],
   "source": []
  },
  {
   "cell_type": "code",
   "execution_count": null,
   "id": "5c065686-728c-47e4-b8e4-cf8ff28c4d75",
   "metadata": {},
   "outputs": [],
   "source": []
  },
  {
   "cell_type": "code",
   "execution_count": null,
   "id": "42e3b484-687d-425f-ac51-2e36fe627dfa",
   "metadata": {},
   "outputs": [],
   "source": []
  }
 ],
 "metadata": {
  "kernelspec": {
   "display_name": "Python 3 (ipykernel)",
   "language": "python",
   "name": "python3"
  },
  "language_info": {
   "codemirror_mode": {
    "name": "ipython",
    "version": 3
   },
   "file_extension": ".py",
   "mimetype": "text/x-python",
   "name": "python",
   "nbconvert_exporter": "python",
   "pygments_lexer": "ipython3",
   "version": "3.13.5"
  }
 },
 "nbformat": 4,
 "nbformat_minor": 5
}
