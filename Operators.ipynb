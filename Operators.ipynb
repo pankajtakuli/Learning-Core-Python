{
 "cells": [
  {
   "cell_type": "markdown",
   "id": "f6f7bfe0-85a6-4b98-9044-01bba552b9fa",
   "metadata": {},
   "source": [
    "<font size = \"6\"><b>OPERATORS<B>"
   ]
  },
  {
   "cell_type": "markdown",
   "id": "d2050ea1-4ae4-4f20-a46c-34856ac47212",
   "metadata": {},
   "source": [
    "<font size = \"5\"><b>Operators<b> are symbols which are used to perform a specific operation between values.\n",
    "1. Airthematic operators\n",
    "2. Comparison operators\n",
    "3. Assignment operators\n",
    "4. Logical operators\n",
    "5. Bitwise operators\n",
    "6. Membership operators\n",
    "7. Identity operators"
   ]
  },
  {
   "cell_type": "markdown",
   "id": "21a8dd79-7c93-422b-b47e-354b7d9fd7e7",
   "metadata": {},
   "source": [
    "<font size = \"5\"> 1. **Airthematic operators**\n",
    "1. Addition ( **+** )\n",
    "2. Subration ( **-** )\n",
    "3. Multiplication ( * )\n",
    "4. Division ( **/** )\n",
    "5. Floor division ( **//** )\n",
    "6. Modulus ( **%** )\n",
    "7. Exponentiation ( ** )"
   ]
  },
  {
   "cell_type": "code",
   "execution_count": 14,
   "id": "6208b921-adc0-43c1-bbef-8c8a325f2b4a",
   "metadata": {},
   "outputs": [
    {
     "name": "stdout",
     "output_type": "stream",
     "text": [
      "2.5\n",
      "2\n"
     ]
    }
   ],
   "source": [
    "# Floor Division (//)\n",
    "\n",
    "print(5/2)\n",
    "print(5//2)"
   ]
  },
  {
   "cell_type": "code",
   "execution_count": 6,
   "id": "6f7b03dc-daa0-4200-ad0a-8b642ddc711e",
   "metadata": {},
   "outputs": [
    {
     "name": "stdout",
     "output_type": "stream",
     "text": [
      "1.5\n",
      "1\n"
     ]
    }
   ],
   "source": [
    "print(3/2)\n",
    "print(3//2)"
   ]
  },
  {
   "cell_type": "code",
   "execution_count": 7,
   "id": "5461edac-c1ae-4021-bb10-ef8cc7a875c1",
   "metadata": {},
   "outputs": [
    {
     "name": "stdout",
     "output_type": "stream",
     "text": [
      "-2.5\n",
      "-3\n"
     ]
    }
   ],
   "source": [
    "print(-5/2)\n",
    "print(-5//2)"
   ]
  },
  {
   "cell_type": "code",
   "execution_count": 8,
   "id": "136f7474-43dd-4e56-bbce-45476d59dd5f",
   "metadata": {},
   "outputs": [
    {
     "name": "stdout",
     "output_type": "stream",
     "text": [
      "-1.5\n",
      "-2\n"
     ]
    }
   ],
   "source": [
    "print(-3/2)\n",
    "print(-3//2)"
   ]
  },
  {
   "cell_type": "code",
   "execution_count": 15,
   "id": "daf3534c-d568-4846-bab5-4659b167e65d",
   "metadata": {},
   "outputs": [
    {
     "name": "stdout",
     "output_type": "stream",
     "text": [
      "4\n",
      "9\n",
      "16\n",
      "625\n"
     ]
    }
   ],
   "source": [
    "# Exponentiation (**)\n",
    "\n",
    "print(2**2)\n",
    "print(3**2)\n",
    "print(4**2)\n",
    "print(5**4)"
   ]
  },
  {
   "cell_type": "code",
   "execution_count": 16,
   "id": "98f6d3b5-9cec-459a-9b9e-dde41313ba54",
   "metadata": {},
   "outputs": [
    {
     "name": "stdout",
     "output_type": "stream",
     "text": [
      "1\n",
      "1\n",
      "1\n",
      "2\n"
     ]
    }
   ],
   "source": [
    "# Modulo (%) Gives remainder\n",
    "\n",
    "print(5%2)\n",
    "print(3%2)\n",
    "print(7%3)\n",
    "print(20%3)"
   ]
  },
  {
   "cell_type": "code",
   "execution_count": 17,
   "id": "7475747a-0c68-40f2-892f-b696365f5367",
   "metadata": {},
   "outputs": [
    {
     "name": "stdout",
     "output_type": "stream",
     "text": [
      "1\n"
     ]
    }
   ],
   "source": [
    "x = 5\n",
    "y = 2\n",
    "print(x%y)"
   ]
  },
  {
   "cell_type": "markdown",
   "id": "fd490907-0081-48b1-b42e-d29537af5bd6",
   "metadata": {},
   "source": [
    "<font size = \"5\"> <b>2. Comparison Operators<b>\n"
   ]
  },
  {
   "cell_type": "code",
   "execution_count": 21,
   "id": "a59a40bb-93da-4115-8b75-9a2165797056",
   "metadata": {},
   "outputs": [
    {
     "name": "stdout",
     "output_type": "stream",
     "text": [
      "False\n",
      "True\n",
      "True\n",
      "False\n",
      "False\n",
      "True\n"
     ]
    }
   ],
   "source": [
    "# Comperison Operators ( == , != , >  , <  , >=  , <= )\n",
    "# Compersion Operators allow to compare values. They give result as either True or False.\n",
    "\n",
    "x = 78\n",
    "y = 10\n",
    "\n",
    "print(x==y) # False\n",
    "print(x!=y) # True\n",
    "print(x>y) # True\n",
    "print(x<y) # False\n",
    "print(x<=y) # x==y or x<y 78==10 or 78<10 False\n",
    "print(x>=y) # x==y or x>y 78==10 or 78>10 True\n"
   ]
  },
  {
   "cell_type": "code",
   "execution_count": 22,
   "id": "012e8f99-bbf6-4adb-9b0e-3c31bbdff19a",
   "metadata": {},
   "outputs": [
    {
     "name": "stdout",
     "output_type": "stream",
     "text": [
      "True\n"
     ]
    }
   ],
   "source": [
    "a = 56\n",
    "b = 56\n",
    "print(a == b)"
   ]
  },
  {
   "cell_type": "code",
   "execution_count": 23,
   "id": "ffc0cc65-a13c-48e5-9a7d-73aea4cc10cd",
   "metadata": {},
   "outputs": [
    {
     "name": "stdout",
     "output_type": "stream",
     "text": [
      "True\n"
     ]
    }
   ],
   "source": [
    "print(a == 56)"
   ]
  },
  {
   "cell_type": "code",
   "execution_count": 24,
   "id": "709bda5d-e2a1-4a3a-b665-112abef75983",
   "metadata": {},
   "outputs": [
    {
     "name": "stdout",
     "output_type": "stream",
     "text": [
      "False\n"
     ]
    }
   ],
   "source": [
    "print(a !=b)"
   ]
  },
  {
   "cell_type": "code",
   "execution_count": 25,
   "id": "85730165-c9f4-484e-8430-c2d9dd341e96",
   "metadata": {},
   "outputs": [
    {
     "name": "stdout",
     "output_type": "stream",
     "text": [
      "True\n"
     ]
    }
   ],
   "source": [
    "c  = 58\n",
    "print(a != c)"
   ]
  },
  {
   "cell_type": "code",
   "execution_count": 26,
   "id": "f49c6b7f-1f0c-4e66-8dc8-7779c40b33e8",
   "metadata": {},
   "outputs": [
    {
     "name": "stdout",
     "output_type": "stream",
     "text": [
      "True\n"
     ]
    }
   ],
   "source": [
    "print(x!=y)"
   ]
  },
  {
   "cell_type": "code",
   "execution_count": 31,
   "id": "213e860f-1a35-419d-8d25-d2497f099355",
   "metadata": {},
   "outputs": [
    {
     "name": "stdout",
     "output_type": "stream",
     "text": [
      "False\n",
      "True\n"
     ]
    }
   ],
   "source": [
    "a = 12\n",
    "b = 56\n",
    "print(a>=b) # a<b or a=b\n",
    "print(a<=b) # a<b or a=b"
   ]
  },
  {
   "cell_type": "code",
   "execution_count": 2,
   "id": "07684cd2-225b-459c-8c2e-0b0bba581420",
   "metadata": {},
   "outputs": [
    {
     "data": {
      "text/plain": [
       "False"
      ]
     },
     "execution_count": 2,
     "metadata": {},
     "output_type": "execute_result"
    }
   ],
   "source": [
    "z = \"Hello world\"\n",
    "\"string\" == z"
   ]
  },
  {
   "cell_type": "code",
   "execution_count": 3,
   "id": "11e00b0b-45ae-4781-bea9-782ff62d3372",
   "metadata": {},
   "outputs": [
    {
     "data": {
      "text/plain": [
       "True"
      ]
     },
     "execution_count": 3,
     "metadata": {},
     "output_type": "execute_result"
    }
   ],
   "source": [
    "z != \"string\""
   ]
  },
  {
   "cell_type": "code",
   "execution_count": 4,
   "id": "bc03946d-830f-464b-acf5-cf0c5826484a",
   "metadata": {},
   "outputs": [
    {
     "data": {
      "text/plain": [
       "False"
      ]
     },
     "execution_count": 4,
     "metadata": {},
     "output_type": "execute_result"
    }
   ],
   "source": [
    "z > \"string\""
   ]
  },
  {
   "cell_type": "code",
   "execution_count": 10,
   "id": "841ec17f-9bb5-40c5-836f-8676390b7988",
   "metadata": {},
   "outputs": [
    {
     "name": "stdout",
     "output_type": "stream",
     "text": [
      "True\n",
      "False\n"
     ]
    }
   ],
   "source": [
    "a = \"Hellooo\"\n",
    "b = \"python\"\n",
    "print(a<b)\n",
    "print(a>b)"
   ]
  },
  {
   "cell_type": "code",
   "execution_count": 13,
   "id": "a5aafb35-1de7-4a71-8cfc-0181829a9f08",
   "metadata": {},
   "outputs": [
    {
     "name": "stdout",
     "output_type": "stream",
     "text": [
      "112\n",
      "80\n"
     ]
    }
   ],
   "source": [
    "# Unicode value\n",
    "\n",
    "a = \"p\"\n",
    "b = \"P\"\n",
    "print(ord(a))\n",
    "print(ord(b))\n"
   ]
  },
  {
   "cell_type": "code",
   "execution_count": 16,
   "id": "60273bec-bd71-480e-952f-e7dcec1d6fc7",
   "metadata": {},
   "outputs": [
    {
     "name": "stdout",
     "output_type": "stream",
     "text": [
      "False\n"
     ]
    }
   ],
   "source": [
    "print(a<b)"
   ]
  },
  {
   "cell_type": "code",
   "execution_count": 15,
   "id": "32df157b-2706-457c-b859-faee5168078d",
   "metadata": {},
   "outputs": [
    {
     "name": "stdout",
     "output_type": "stream",
     "text": [
      "65\n",
      "97\n"
     ]
    }
   ],
   "source": [
    "print(ord(\"A\"))\n",
    "print(ord(\"a\"))"
   ]
  },
  {
   "cell_type": "code",
   "execution_count": 19,
   "id": "945bff2f-2071-4f31-9370-3032b93cce84",
   "metadata": {},
   "outputs": [
    {
     "name": "stdout",
     "output_type": "stream",
     "text": [
      "112\n",
      "100\n",
      "True\n"
     ]
    }
   ],
   "source": [
    "x = \"python\"\n",
    "y = \"data\"\n",
    "print(ord(\"p\"))\n",
    "print(ord(\"d\"))\n",
    "print(x>y)"
   ]
  },
  {
   "cell_type": "code",
   "execution_count": 21,
   "id": "bbef9371-bc91-483d-9983-f2e2c0547de4",
   "metadata": {},
   "outputs": [
    {
     "name": "stdout",
     "output_type": "stream",
     "text": [
      "121\n",
      "97\n",
      "False\n"
     ]
    }
   ],
   "source": [
    "x = \"python\"\n",
    "y = \"pata\"\n",
    "print(ord(\"y\"))\n",
    "print(ord(\"a\"))\n",
    "print(x < y)"
   ]
  },
  {
   "cell_type": "markdown",
   "id": "c73bad3e-7904-43cd-aa5a-a6f37bc6405f",
   "metadata": {},
   "source": [
    "<font size =\"5\"><b>3.Logical Operators<b>"
   ]
  },
  {
   "cell_type": "code",
   "execution_count": 22,
   "id": "1dbd2aad-e1db-435a-a664-0088d85ed008",
   "metadata": {},
   "outputs": [
    {
     "name": "stdout",
     "output_type": "stream",
     "text": [
      "True\n"
     ]
    }
   ],
   "source": [
    "# Logical Operators   and  or  not \n",
    "# It is used to combine conditional statements.\n",
    "\n",
    "x = 13\n",
    "y = 14\n",
    "z = 15\n",
    "\n",
    "print(x<y or y!=z)"
   ]
  },
  {
   "cell_type": "code",
   "execution_count": 53,
   "id": "ed9e1781-2db1-4121-86f7-f8f74bf2c49d",
   "metadata": {},
   "outputs": [
    {
     "name": "stdout",
     "output_type": "stream",
     "text": [
      "True\n",
      "True\n",
      "True\n"
     ]
    }
   ],
   "source": [
    "x = 2\n",
    "y = 1\n",
    "z = 3\n",
    "\n",
    "print(x>y)\n",
    "print(y!=z)\n",
    "\n",
    "print(x<y or y!=z)"
   ]
  },
  {
   "cell_type": "code",
   "execution_count": 66,
   "id": "ed8081e3-02f5-4c87-b619-6da30c76eb85",
   "metadata": {},
   "outputs": [
    {
     "name": "stdout",
     "output_type": "stream",
     "text": [
      "True\n",
      "True\n",
      "True\n"
     ]
    }
   ],
   "source": [
    "print(x<y) # True\n",
    "print(y!=z) # True\n",
    "\n",
    "print(x<y or y!=z) # True"
   ]
  },
  {
   "cell_type": "code",
   "execution_count": 70,
   "id": "6e2dabae-a8a1-40df-88e7-30e9c847d156",
   "metadata": {},
   "outputs": [
    {
     "name": "stdout",
     "output_type": "stream",
     "text": [
      "False\n",
      "False\n",
      "False\n"
     ]
    }
   ],
   "source": [
    "x = 2\n",
    "y = 5\n",
    "z = 3\n",
    "\n",
    "print(x>y) # False\n",
    "print(y==z) # False\n",
    "\n",
    "print(x>y and y==z)  # False"
   ]
  },
  {
   "cell_type": "code",
   "execution_count": 73,
   "id": "7a1dc010-36fa-40ab-9655-8b43fbd15ef9",
   "metadata": {},
   "outputs": [
    {
     "name": "stdout",
     "output_type": "stream",
     "text": [
      "False\n",
      "True\n",
      "False\n"
     ]
    }
   ],
   "source": [
    "x = 2\n",
    "y = 5\n",
    "z = 5\n",
    "\n",
    "print(x>y) # False\n",
    "print(y==z) # True\n",
    "\n",
    "print(x>y and y==z)  "
   ]
  },
  {
   "cell_type": "code",
   "execution_count": 72,
   "id": "75e1e991-cc4d-4db5-b652-b4691fd47832",
   "metadata": {},
   "outputs": [
    {
     "name": "stdout",
     "output_type": "stream",
     "text": [
      "True\n",
      "True\n",
      "True\n"
     ]
    }
   ],
   "source": [
    "x = 6\n",
    "y = 5\n",
    "z = 5\n",
    "\n",
    "print(x>y) # True\n",
    "print(y==z) # True\n",
    "\n",
    "print(x>y and y==z)  "
   ]
  },
  {
   "cell_type": "code",
   "execution_count": null,
   "id": "21029d06-f7e0-46f8-8b31-a567e05d4062",
   "metadata": {},
   "outputs": [],
   "source": [
    "x = 2\n",
    "y = 5\n",
    "z = 5\n",
    "\n",
    "print(x>y) # False\n",
    "print(y==z) # False4\n",
    "\n",
    "print(x>y and y==z)  "
   ]
  },
  {
   "cell_type": "code",
   "execution_count": 69,
   "id": "7257b676-a193-4972-966d-4b33fbc4549a",
   "metadata": {},
   "outputs": [
    {
     "name": "stdout",
     "output_type": "stream",
     "text": [
      "False\n",
      "True\n",
      "True\n"
     ]
    }
   ],
   "source": [
    "x = 34\n",
    "y = 56\n",
    "print(x>=y) # False\n",
    "print(x<y) # True\n",
    "\n",
    "print(x>=y or x<y)"
   ]
  },
  {
   "cell_type": "code",
   "execution_count": null,
   "id": "d8e12689-891f-4476-ad67-f7ab791b6d7c",
   "metadata": {},
   "outputs": [],
   "source": [
    "x = 2\n",
    "y = 5\n",
    "z = 3\n",
    "\n",
    "print()"
   ]
  },
  {
   "cell_type": "code",
   "execution_count": null,
   "id": "91098c43-cda1-4bab-998c-93586a52f386",
   "metadata": {},
   "outputs": [],
   "source": []
  },
  {
   "cell_type": "code",
   "execution_count": null,
   "id": "2546b6b5-3a2a-4f3b-ae80-8cfc12678379",
   "metadata": {},
   "outputs": [],
   "source": []
  },
  {
   "cell_type": "code",
   "execution_count": null,
   "id": "9deb0bf5-2718-457e-803c-8a4f552fc07c",
   "metadata": {},
   "outputs": [],
   "source": []
  },
  {
   "cell_type": "code",
   "execution_count": null,
   "id": "34644a54-2b28-4c7a-8294-287272a1eeb2",
   "metadata": {},
   "outputs": [],
   "source": []
  },
  {
   "cell_type": "code",
   "execution_count": 25,
   "id": "c2675a9c-2e8a-4877-848b-a520731414ee",
   "metadata": {},
   "outputs": [
    {
     "name": "stdout",
     "output_type": "stream",
     "text": [
      "False\n",
      "True\n",
      "True\n"
     ]
    }
   ],
   "source": [
    "x = 18\n",
    "print(x<y)\n",
    "print(y!=z)\n",
    "print(x<y or y!=z)"
   ]
  },
  {
   "cell_type": "code",
   "execution_count": 27,
   "id": "76f57ab4-caef-40a5-9ab5-497b0a42425f",
   "metadata": {},
   "outputs": [
    {
     "name": "stdout",
     "output_type": "stream",
     "text": [
      "False\n",
      "False\n",
      "False\n"
     ]
    }
   ],
   "source": [
    "x = 18\n",
    "y = 14\n",
    "z = 14\n",
    "print(x<y)\n",
    "print(y!=z)\n",
    "print(x<y or y!=z)"
   ]
  },
  {
   "cell_type": "code",
   "execution_count": 29,
   "id": "2333bd75-fee9-404c-bcc1-10925839db7b",
   "metadata": {},
   "outputs": [
    {
     "name": "stdout",
     "output_type": "stream",
     "text": [
      "False\n",
      "True\n"
     ]
    }
   ],
   "source": [
    "a = 56\n",
    "b = 67 \n",
    "c = 56\n",
    "print(a>b)\n",
    "print(a<b or a == c)"
   ]
  },
  {
   "cell_type": "code",
   "execution_count": 37,
   "id": "f18327b7-8dfc-4156-bf47-2f736f17eee7",
   "metadata": {},
   "outputs": [
    {
     "name": "stdout",
     "output_type": "stream",
     "text": [
      "True\n",
      "True\n",
      "True\n",
      "True\n",
      "True\n",
      "False\n"
     ]
    }
   ],
   "source": [
    "a = \"hello\"\n",
    "b = \"world\"\n",
    "c = \"data science\"\n",
    "d = \"hello\"\n",
    "\n",
    "print(a<b)\n",
    "print(c<a)\n",
    "print(b<a or c!=a)\n",
    "print(a!=b)\n",
    "print(a == d)\n",
    "print(d != a)"
   ]
  },
  {
   "cell_type": "code",
   "execution_count": 38,
   "id": "51223845-d2b8-4bef-81cf-4bb39f71e93b",
   "metadata": {},
   "outputs": [
    {
     "name": "stdout",
     "output_type": "stream",
     "text": [
      "False\n",
      "True\n"
     ]
    }
   ],
   "source": [
    "a = 57\n",
    "b = 26.5\n",
    "\n",
    "print(a<b or a == b) # This is same as a<=b\n",
    "print(a>b or a == b) # This is same as a>=b"
   ]
  },
  {
   "cell_type": "code",
   "execution_count": 68,
   "id": "b1bd5db0-9876-4acb-89a1-fa478c2ccab0",
   "metadata": {},
   "outputs": [
    {
     "name": "stdout",
     "output_type": "stream",
     "text": [
      "True\n",
      "False\n"
     ]
    }
   ],
   "source": [
    "# Even number checker\n",
    "\n",
    "num = 2\n",
    "print(num%2 == 0)\n",
    "\n",
    "num = 89\n",
    "print(num%2 == 0)"
   ]
  },
  {
   "cell_type": "code",
   "execution_count": 69,
   "id": "9b828ab4-3987-43e8-8a51-f9e4ba815220",
   "metadata": {},
   "outputs": [
    {
     "data": {
      "text/plain": [
       "True"
      ]
     },
     "execution_count": 69,
     "metadata": {},
     "output_type": "execute_result"
    }
   ],
   "source": [
    "num%3 != 1"
   ]
  },
  {
   "cell_type": "code",
   "execution_count": 70,
   "id": "8eb3821b-c652-4f01-a47d-0c0622e3daff",
   "metadata": {},
   "outputs": [
    {
     "name": "stdout",
     "output_type": "stream",
     "text": [
      "True\n",
      "True\n",
      "True\n",
      "True\n"
     ]
    }
   ],
   "source": [
    "print(num*0 == 0)\n",
    "print(num-45 != 6)\n",
    "print(num*2 !=4)\n",
    "print(num != 0)"
   ]
  },
  {
   "cell_type": "code",
   "execution_count": 53,
   "id": "ec0aa084-7ca1-4790-87bd-fb76598f2a07",
   "metadata": {},
   "outputs": [
    {
     "name": "stdout",
     "output_type": "stream",
     "text": [
      "False\n"
     ]
    }
   ],
   "source": [
    "a = \"hello world\"\n",
    "print(a*5 == \"hello world\")"
   ]
  },
  {
   "cell_type": "code",
   "execution_count": 62,
   "id": "d996d599-6ec4-4cca-bd2e-938032a396f9",
   "metadata": {},
   "outputs": [
    {
     "name": "stdout",
     "output_type": "stream",
     "text": [
      "True\n"
     ]
    }
   ],
   "source": [
    "b = \"python\"\n",
    "print(a != b)\n"
   ]
  },
  {
   "cell_type": "code",
   "execution_count": 73,
   "id": "5b6b43dc-c08b-49b1-a010-fa9a0be09895",
   "metadata": {},
   "outputs": [
    {
     "name": "stdout",
     "output_type": "stream",
     "text": [
      "False\n"
     ]
    }
   ],
   "source": [
    "c = \"datadata\"\n",
    "print(a*2 == c)"
   ]
  },
  {
   "cell_type": "code",
   "execution_count": 1,
   "id": "32fd3da4-cdb1-4984-9974-62229d66bc7c",
   "metadata": {},
   "outputs": [
    {
     "name": "stdout",
     "output_type": "stream",
     "text": [
      "True\n"
     ]
    }
   ],
   "source": [
    "x = \"data\"\n",
    "print(x*2 == \"datadata\")"
   ]
  },
  {
   "cell_type": "code",
   "execution_count": 12,
   "id": "b827492c-d8b1-4233-9520-8dca98416dad",
   "metadata": {},
   "outputs": [],
   "source": [
    "a = 25\n",
    "b = 20\n",
    "c = 20"
   ]
  },
  {
   "cell_type": "code",
   "execution_count": 13,
   "id": "edf32b25-2e3a-4e38-b562-6cbac38f27e0",
   "metadata": {},
   "outputs": [
    {
     "name": "stdout",
     "output_type": "stream",
     "text": [
      "False\n",
      "False\n",
      "False\n"
     ]
    }
   ],
   "source": [
    "print(a<b)\n",
    "print(b!=c)\n",
    "print(c>a)"
   ]
  },
  {
   "cell_type": "code",
   "execution_count": null,
   "id": "2aa61004-b948-4d74-90be-fa19b5c5db68",
   "metadata": {},
   "outputs": [],
   "source": [
    "# or"
   ]
  },
  {
   "cell_type": "code",
   "execution_count": 38,
   "id": "8b56e086-dc45-4018-ac58-9f75022adafd",
   "metadata": {},
   "outputs": [
    {
     "name": "stdout",
     "output_type": "stream",
     "text": [
      "True\n",
      "False\n"
     ]
    }
   ],
   "source": [
    "a = 25\n",
    "b = 20\n",
    "c = 20\n",
    "print(b==c)\n",
    "print(a<b  or b==a) # False or True --> False"
   ]
  },
  {
   "cell_type": "code",
   "execution_count": 16,
   "id": "bbd187f8-7ad5-4cf4-8987-9027429073f8",
   "metadata": {},
   "outputs": [
    {
     "name": "stdout",
     "output_type": "stream",
     "text": [
      "True\n"
     ]
    }
   ],
   "source": [
    "print(c==b)"
   ]
  },
  {
   "cell_type": "code",
   "execution_count": 17,
   "id": "a9d114ea-de5e-446f-9b6d-8fdfa5486549",
   "metadata": {},
   "outputs": [
    {
     "name": "stdout",
     "output_type": "stream",
     "text": [
      "True\n"
     ]
    }
   ],
   "source": [
    "print(a<b or b!=c or c>a or c==b)"
   ]
  },
  {
   "cell_type": "code",
   "execution_count": 29,
   "id": "ec212979-a9b1-4729-b57e-20a2daedd90e",
   "metadata": {},
   "outputs": [],
   "source": [
    "# and"
   ]
  },
  {
   "cell_type": "code",
   "execution_count": 36,
   "id": "f3a2e07c-166d-4bd0-aabb-a6eb9d3bb208",
   "metadata": {},
   "outputs": [
    {
     "name": "stdout",
     "output_type": "stream",
     "text": [
      "True\n",
      "True\n",
      "True\n"
     ]
    }
   ],
   "source": [
    "x = 13\n",
    "y = 14\n",
    "z = 15\n",
    "print(x<y)\n",
    "print(y!=z)\n",
    "print(x<y and y!=z) # True and False -> True"
   ]
  },
  {
   "cell_type": "code",
   "execution_count": 37,
   "id": "c8817cf9-a199-4eee-851f-79263f45028c",
   "metadata": {},
   "outputs": [
    {
     "name": "stdout",
     "output_type": "stream",
     "text": [
      "True\n",
      "False\n",
      "False\n"
     ]
    }
   ],
   "source": [
    "x = 13\n",
    "y = 14\n",
    "z = 14\n",
    "print(x<y)\n",
    "print(y!=z)\n",
    "print(x<y and y!=z) # True and False -> False"
   ]
  },
  {
   "cell_type": "code",
   "execution_count": 38,
   "id": "b00d6af2-abee-4551-ba7b-4f954bd427c7",
   "metadata": {},
   "outputs": [
    {
     "name": "stdout",
     "output_type": "stream",
     "text": [
      "False\n",
      "True\n",
      "False\n"
     ]
    }
   ],
   "source": [
    "x = 20\n",
    "y = 14\n",
    "z = 15\n",
    "print(x<y)\n",
    "print(y!=z)\n",
    "print(x<y and y!=z) # False and True -> False"
   ]
  },
  {
   "cell_type": "code",
   "execution_count": 39,
   "id": "daea84d5-a449-4b50-aad0-66b52022a4f7",
   "metadata": {},
   "outputs": [
    {
     "name": "stdout",
     "output_type": "stream",
     "text": [
      "False\n",
      "False\n",
      "False\n"
     ]
    }
   ],
   "source": [
    "x = 20\n",
    "y = 15\n",
    "z = 15\n",
    "print(x<y)\n",
    "print(y!=z)\n",
    "print(x<y and y!=z) # False and Fasle -> False"
   ]
  },
  {
   "cell_type": "code",
   "execution_count": 49,
   "id": "ed4219af-8279-4050-80a2-8829e63e42cb",
   "metadata": {},
   "outputs": [
    {
     "name": "stdout",
     "output_type": "stream",
     "text": [
      "True\n",
      "False\n",
      "True\n",
      "True\n"
     ]
    }
   ],
   "source": [
    "x = 10\n",
    "y = 11\n",
    "z = 11\n",
    "print(x<y)\n",
    "print(y!=z)\n",
    "print(z>x)\n",
    "print(x<y and y!=z or z>x) #"
   ]
  },
  {
   "cell_type": "code",
   "execution_count": 1,
   "id": "5005cbf5-2a8a-4906-8d8f-eb74947b2214",
   "metadata": {},
   "outputs": [
    {
     "name": "stdout",
     "output_type": "stream",
     "text": [
      "True\n"
     ]
    }
   ],
   "source": [
    "# not operator\n",
    "\n",
    "x = 12\n",
    "print(not x == 20)"
   ]
  },
  {
   "cell_type": "code",
   "execution_count": 3,
   "id": "a91b8fba-2e9a-4891-b842-75b48ffd1423",
   "metadata": {},
   "outputs": [
    {
     "name": "stdout",
     "output_type": "stream",
     "text": [
      "False\n"
     ]
    }
   ],
   "source": [
    "x = 20\n",
    "print(not x == 20)"
   ]
  },
  {
   "cell_type": "markdown",
   "id": "a4735c88-a9e3-49b2-a42f-c6420972ad42",
   "metadata": {},
   "source": [
    "The precedence of Logical Operators in Python is as follows:\n",
    "   1. Logical not\n",
    "   2. Logical and\n",
    "   3. Logical or"
   ]
  },
  {
   "cell_type": "code",
   "execution_count": 23,
   "id": "99152829-62d2-426a-ae22-bcac89993dc6",
   "metadata": {},
   "outputs": [
    {
     "name": "stdout",
     "output_type": "stream",
     "text": [
      "True\n",
      "True\n"
     ]
    }
   ],
   "source": [
    "print(not True and not False or True or False and True)\n",
    "print(False and True or True or False and True)"
   ]
  },
  {
   "cell_type": "code",
   "execution_count": 15,
   "id": "8d5ed0a5-f2a4-48a1-88bf-3957a3ca76ff",
   "metadata": {},
   "outputs": [
    {
     "name": "stdout",
     "output_type": "stream",
     "text": [
      "False\n"
     ]
    }
   ],
   "source": [
    "print(not True and False and not True)"
   ]
  },
  {
   "cell_type": "code",
   "execution_count": 16,
   "id": "fd10de0c-32e4-479b-915d-16255c3de61e",
   "metadata": {},
   "outputs": [
    {
     "name": "stdout",
     "output_type": "stream",
     "text": [
      "False\n"
     ]
    }
   ],
   "source": [
    "print(True and False and False)"
   ]
  },
  {
   "cell_type": "code",
   "execution_count": 49,
   "id": "f1155aab-675a-455e-bd7a-a53ae2dc884f",
   "metadata": {},
   "outputs": [
    {
     "name": "stdout",
     "output_type": "stream",
     "text": [
      "False\n"
     ]
    }
   ],
   "source": [
    "print(not not False or not True)"
   ]
  },
  {
   "cell_type": "code",
   "execution_count": 22,
   "id": "b607d650-6bf5-47e3-9ce8-965a5ce3d14d",
   "metadata": {},
   "outputs": [
    {
     "name": "stdout",
     "output_type": "stream",
     "text": [
      "False\n"
     ]
    }
   ],
   "source": [
    "print(not False and not True)"
   ]
  },
  {
   "cell_type": "code",
   "execution_count": 3,
   "id": "74a2682e-d968-4356-9aed-92ad4edd7e0f",
   "metadata": {},
   "outputs": [
    {
     "data": {
      "text/plain": [
       "False"
      ]
     },
     "execution_count": 3,
     "metadata": {},
     "output_type": "execute_result"
    }
   ],
   "source": [
    "not (not False and not True) and False"
   ]
  },
  {
   "cell_type": "code",
   "execution_count": 31,
   "id": "c9d82cda-08ff-4446-856f-3689b308b457",
   "metadata": {},
   "outputs": [
    {
     "name": "stdout",
     "output_type": "stream",
     "text": [
      "False\n"
     ]
    }
   ],
   "source": [
    "print( False and not not not not not not True)"
   ]
  },
  {
   "cell_type": "code",
   "execution_count": 40,
   "id": "d8c83898-6fbb-4500-9a5a-2dc35069bde6",
   "metadata": {},
   "outputs": [],
   "source": [
    "# True and False -> True\n",
    "# True or False -> False"
   ]
  },
  {
   "cell_type": "code",
   "execution_count": 47,
   "id": "93f1297a-b68e-4c68-acc3-2f4f926e0ea1",
   "metadata": {},
   "outputs": [
    {
     "name": "stdout",
     "output_type": "stream",
     "text": [
      "True\n",
      "False\n",
      "False\n",
      "True\n"
     ]
    }
   ],
   "source": [
    "a = 5\n",
    "b = 4\n",
    "print(a>b)\n",
    "print(b>a)\n",
    "print(a>b and b>a) # True and False -> False\n",
    "print(a>b or b>a)  # False or True -> True"
   ]
  },
  {
   "cell_type": "code",
   "execution_count": 57,
   "id": "747908f1-1d38-44d5-8442-28844b511d9b",
   "metadata": {},
   "outputs": [
    {
     "name": "stdout",
     "output_type": "stream",
     "text": [
      "False\n",
      "False\n",
      "False\n",
      "False\n"
     ]
    }
   ],
   "source": [
    "print( not not False and not True or False and not False)\n",
    "print(not True and False or False and True)\n",
    "print(False and False or False)\n",
    "print(False or False)"
   ]
  },
  {
   "cell_type": "code",
   "execution_count": 2,
   "id": "f6dec3c3-d9f2-431c-ae49-3b52394b46ac",
   "metadata": {},
   "outputs": [
    {
     "name": "stdout",
     "output_type": "stream",
     "text": [
      "True\n",
      "True\n",
      "True\n",
      "True\n",
      "True\n"
     ]
    }
   ],
   "source": [
    "print(not False or True and False and not not True or True or not False and True or not False and not not False)\n",
    "print(True or True and False and not False or True or True and True or False and not True)\n",
    "print(True or True and False and True or True or True and True or False or False)\n",
    "print(True or False or True or True or False or False)\n",
    "print(True)"
   ]
  },
  {
   "cell_type": "code",
   "execution_count": 2,
   "id": "5bfcb1c9-466b-4458-959e-77699566b531",
   "metadata": {},
   "outputs": [
    {
     "name": "stdout",
     "output_type": "stream",
     "text": [
      "True\n",
      "True\n",
      "True\n",
      "True\n"
     ]
    }
   ],
   "source": [
    "print(not False and True and False or False and not True or not False or True and not False or not True and False or False and not True)\n",
    "print(True and True and False or False and False or True or True and True or False and False or False and False )\n",
    "print(False or False or True or True or False or False)\n",
    "print(True)"
   ]
  },
  {
   "cell_type": "code",
   "execution_count": 6,
   "id": "9be315e0-6083-4e61-ae87-3b71e3773077",
   "metadata": {},
   "outputs": [
    {
     "name": "stdout",
     "output_type": "stream",
     "text": [
      "False\n",
      "True\n"
     ]
    }
   ],
   "source": [
    "wake_up = True \n",
    "uniform = False\n",
    "print(wake_up and uniform)\n",
    "print(wake_up or uniform)"
   ]
  },
  {
   "cell_type": "code",
   "execution_count": 7,
   "id": "6495c738-21fa-409a-a384-99bf6eeefe5b",
   "metadata": {},
   "outputs": [
    {
     "name": "stdout",
     "output_type": "stream",
     "text": [
      "True\n"
     ]
    }
   ],
   "source": [
    "day = \"Tuesday\"\n",
    "homework = \"not done\"\n",
    "\n",
    "print(day != \"Sunday\"  and day != \"Saturday\" and homework == \"not done\")"
   ]
  },
  {
   "cell_type": "markdown",
   "id": "98603343-d9bc-4c67-83dd-7d0a6829c39b",
   "metadata": {},
   "source": [
    "<font size = \"5\"><b>4. Identity Operators<b>"
   ]
  },
  {
   "cell_type": "code",
   "execution_count": 3,
   "id": "8ee783be-4d33-4a9d-bcbc-cf4f3a480bc8",
   "metadata": {},
   "outputs": [
    {
     "name": "stdout",
     "output_type": "stream",
     "text": [
      "140718412379400\n",
      "140718412379400\n",
      "True\n",
      "False\n"
     ]
    }
   ],
   "source": [
    "# Identity Operators  is  /  not is\n",
    "# Check whether two variables share the same memory location or not\n",
    "\n",
    "x = 12\n",
    "y = 12\n",
    "print(id(x))\n",
    "print(id(y))\n",
    "print(x is y)\n",
    "print(x is not y)"
   ]
  },
  {
   "cell_type": "code",
   "execution_count": 5,
   "id": "d6d0b344-d443-44d1-9530-06e53a11f7df",
   "metadata": {},
   "outputs": [
    {
     "name": "stdout",
     "output_type": "stream",
     "text": [
      "140718412379400\n",
      "140718412379432\n",
      "False\n"
     ]
    }
   ],
   "source": [
    "a = 12\n",
    "b = 13\n",
    "print(id(a))\n",
    "print(id(b))\n",
    "print(a is b)"
   ]
  },
  {
   "cell_type": "code",
   "execution_count": 13,
   "id": "9d340369-99c7-4a4c-8df1-7e3361b30d5d",
   "metadata": {},
   "outputs": [
    {
     "name": "stdout",
     "output_type": "stream",
     "text": [
      "1907014514624\n",
      "1907014467456\n",
      "False\n",
      "True\n",
      "True\n"
     ]
    }
   ],
   "source": [
    "a = [12] # List\n",
    "n = [12] # list\n",
    "print(id(a))\n",
    "print(id(n))\n",
    "print(a is n) # Memory Location check\n",
    "print(a == n) # Value Check\n",
    "print(a is not n)"
   ]
  },
  {
   "cell_type": "markdown",
   "id": "5d7e2e11-08a4-4973-a703-fa810fa427a7",
   "metadata": {},
   "source": [
    "<font size = \"5\"><b>5. Membership Operator<b>"
   ]
  },
  {
   "cell_type": "code",
   "execution_count": 32,
   "id": "00265170-9962-4e25-a606-1602a445de29",
   "metadata": {},
   "outputs": [
    {
     "name": "stdout",
     "output_type": "stream",
     "text": [
      "True\n",
      "True\n"
     ]
    }
   ],
   "source": [
    "# Membership in /  not in\n",
    "# Membership Operators check whether a value is present in a sequence of values \n",
    "# Sequence  - Strings , Lists , Tuples , Sets , Dictonaries \n",
    "\n",
    "a = \"data science\"\n",
    "b = \"data\"\n",
    "print(b in a)\n",
    "print( \"data\" in a)"
   ]
  },
  {
   "cell_type": "code",
   "execution_count": 36,
   "id": "7b0dd9e4-ff30-431d-b9e3-e918c6cb419c",
   "metadata": {},
   "outputs": [
    {
     "name": "stdout",
     "output_type": "stream",
     "text": [
      "False\n",
      "True\n",
      "False\n"
     ]
    }
   ],
   "source": [
    "print(b not in a)\n",
    "print(\"nce \" not in a)\n",
    "print(\"da\" not in b)"
   ]
  },
  {
   "cell_type": "code",
   "execution_count": 15,
   "id": "aedcc6a8-00ec-49cc-bed0-a0a6c2e6a7d5",
   "metadata": {},
   "outputs": [
    {
     "name": "stdout",
     "output_type": "stream",
     "text": [
      "True\n",
      "True\n",
      "True\n",
      "True\n",
      "True\n",
      "False\n",
      "True\n",
      "True\n"
     ]
    }
   ],
   "source": [
    "a = \"data science \"\n",
    "print(\"a\" in a)\n",
    "print(\" \" in a)\n",
    "print(\"science\" in a)\n",
    "print(\" \" in a)\n",
    "print(\"ata \" in a)   \n",
    "print(\"  \" in a)\n",
    "print(\"  \" not in a)\n",
    "print(\"science \" in a)"
   ]
  },
  {
   "cell_type": "code",
   "execution_count": 19,
   "id": "8cb39b85-8218-4f05-b5d2-065efd0e7556",
   "metadata": {},
   "outputs": [
    {
     "name": "stdout",
     "output_type": "stream",
     "text": [
      "False\n",
      "True\n",
      "True\n",
      "False\n",
      "False\n",
      "True\n"
     ]
    }
   ],
   "source": [
    "a = \"data science\"\n",
    "print(a in \"data\")\n",
    "print(\"data\" in a)\n",
    "print(a not in \"data\")\n",
    "print(\" sci \" in a)\n",
    "print(\" data science\" in \"data science \")\n",
    "print(\"data science\" in \"data science \")"
   ]
  },
  {
   "cell_type": "code",
   "execution_count": 16,
   "id": "12b4b3ca-9e7f-4d83-ad7d-700ce3646466",
   "metadata": {},
   "outputs": [
    {
     "data": {
      "text/plain": [
       "False"
      ]
     },
     "execution_count": 16,
     "metadata": {},
     "output_type": "execute_result"
    }
   ],
   "source": [
    "\"data science\" in \"data\""
   ]
  },
  {
   "cell_type": "code",
   "execution_count": null,
   "id": "57a6fd41-deb8-4feb-b0e1-ab810e04f369",
   "metadata": {},
   "outputs": [],
   "source": []
  },
  {
   "cell_type": "markdown",
   "id": "ce5d4e58-ae37-46be-9688-eb315f806298",
   "metadata": {},
   "source": [
    "<font size =\"5\"><b>6. Bitwise Operators<b>"
   ]
  },
  {
   "cell_type": "markdown",
   "id": "362fcb2f-aaaf-4e03-ac79-284be12a6d2a",
   "metadata": {},
   "source": [
    "### Bitwise Operators   &  |  ^   ~  <<  >>\n",
    "##### & - Bitwise AND\n",
    "##### | - Bitwise OR\n",
    "##### ^ - Bitwise XOR\n",
    "##### ~ - Bitwise NOT\n",
    "##### << - Left Shift\n",
    "##### >> - Right Shift"
   ]
  },
  {
   "cell_type": "code",
   "execution_count": 2,
   "id": "407d240b-30f3-4495-a02a-a27c6fc3078b",
   "metadata": {},
   "outputs": [
    {
     "name": "stdout",
     "output_type": "stream",
     "text": [
      "4\n"
     ]
    }
   ],
   "source": [
    "a = 5\n",
    "b = 6\n",
    "print(a & b)"
   ]
  },
  {
   "cell_type": "markdown",
   "id": "abf2c9bd-1455-40b2-bdaf-9999685f82d8",
   "metadata": {},
   "source": [
    "<font size =\"5\"><b>7. Assignment Operators<b>"
   ]
  },
  {
   "cell_type": "code",
   "execution_count": 1,
   "id": "ebfcc779-2586-4cac-a7d7-5f495802ef46",
   "metadata": {},
   "outputs": [
    {
     "name": "stdout",
     "output_type": "stream",
     "text": [
      "8\n"
     ]
    }
   ],
   "source": [
    "# Assignment Operators       = += -= *= /= //= **= %= |= &= ^= <<= >>=\n",
    "# Assignment Operators assign values in variables\n",
    "\n",
    "x = 8\n",
    "print(x)"
   ]
  },
  {
   "cell_type": "code",
   "execution_count": 2,
   "id": "1b264aa0-cc3a-4af1-9685-263f85a4855a",
   "metadata": {},
   "outputs": [
    {
     "name": "stdout",
     "output_type": "stream",
     "text": [
      "17\n"
     ]
    }
   ],
   "source": [
    "x+=9\n",
    "print(x)"
   ]
  },
  {
   "cell_type": "code",
   "execution_count": 3,
   "id": "9e46ac36-a8ca-49e8-b2aa-047c8c8555bd",
   "metadata": {},
   "outputs": [
    {
     "name": "stdout",
     "output_type": "stream",
     "text": [
      "17\n"
     ]
    }
   ],
   "source": [
    "x = 8\n",
    "x = x + 9\n",
    "print(x)"
   ]
  },
  {
   "cell_type": "code",
   "execution_count": 5,
   "id": "845d14e5-4f35-4c4c-8f94-705f86e2b65c",
   "metadata": {},
   "outputs": [
    {
     "name": "stdout",
     "output_type": "stream",
     "text": [
      "8\n"
     ]
    }
   ],
   "source": [
    "a = 10\n",
    "a -= 2\n",
    "print(a)"
   ]
  },
  {
   "cell_type": "code",
   "execution_count": 10,
   "id": "6854d47d-6030-498c-835c-ca200dc62ff6",
   "metadata": {},
   "outputs": [
    {
     "name": "stdout",
     "output_type": "stream",
     "text": [
      "20\n"
     ]
    }
   ],
   "source": [
    "a = 10\n",
    "a *= 2 # a = a * 2\n",
    "print(a)"
   ]
  },
  {
   "cell_type": "code",
   "execution_count": 11,
   "id": "9e76b20c-7051-4c1c-9184-3e600e0abca6",
   "metadata": {},
   "outputs": [
    {
     "name": "stdout",
     "output_type": "stream",
     "text": [
      "5.0\n"
     ]
    }
   ],
   "source": [
    "a = 10\n",
    "a /= 2  # a = a / 2\n",
    "print(a)"
   ]
  },
  {
   "cell_type": "code",
   "execution_count": 14,
   "id": "3d1ec468-19da-4811-be60-05566daa5b89",
   "metadata": {},
   "outputs": [
    {
     "name": "stdout",
     "output_type": "stream",
     "text": [
      "2\n"
     ]
    }
   ],
   "source": [
    "a = 10\n",
    "a %= 4\n",
    "print(a)"
   ]
  },
  {
   "cell_type": "code",
   "execution_count": null,
   "id": "b406c9a7-877b-4b7b-815c-d9efbe627417",
   "metadata": {},
   "outputs": [],
   "source": []
  },
  {
   "cell_type": "code",
   "execution_count": null,
   "id": "cfd759cc-8056-40ea-ab4a-be4699515a75",
   "metadata": {},
   "outputs": [],
   "source": []
  },
  {
   "cell_type": "code",
   "execution_count": null,
   "id": "23673f04-e0f2-4608-9d65-e1b01595b79c",
   "metadata": {},
   "outputs": [],
   "source": []
  },
  {
   "cell_type": "code",
   "execution_count": null,
   "id": "7be36e89-f2a4-4c3b-8b92-ce2480ee9d32",
   "metadata": {},
   "outputs": [],
   "source": []
  },
  {
   "cell_type": "code",
   "execution_count": null,
   "id": "80ef266e-58df-4673-8eeb-b25aef74bac6",
   "metadata": {},
   "outputs": [],
   "source": []
  },
  {
   "cell_type": "code",
   "execution_count": null,
   "id": "7807b3e2-7105-44f3-81a7-501f0f14da12",
   "metadata": {},
   "outputs": [],
   "source": []
  },
  {
   "cell_type": "code",
   "execution_count": null,
   "id": "fd095773-46bd-4bb1-a4d3-e80c4a871447",
   "metadata": {},
   "outputs": [],
   "source": []
  }
 ],
 "metadata": {
  "kernelspec": {
   "display_name": "Python 3 (ipykernel)",
   "language": "python",
   "name": "python3"
  },
  "language_info": {
   "codemirror_mode": {
    "name": "ipython",
    "version": 3
   },
   "file_extension": ".py",
   "mimetype": "text/x-python",
   "name": "python",
   "nbconvert_exporter": "python",
   "pygments_lexer": "ipython3",
   "version": "3.13.5"
  }
 },
 "nbformat": 4,
 "nbformat_minor": 5
}
