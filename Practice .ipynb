{
 "cells": [
  {
   "cell_type": "code",
   "execution_count": 29,
   "id": "85abcd3e-3f58-4978-aee9-5a03abb4233f",
   "metadata": {
    "scrolled": true
   },
   "outputs": [
    {
     "name": "stdout",
     "output_type": "stream",
     "text": [
      "False\n",
      "True\n",
      "False\n"
     ]
    }
   ],
   "source": [
    "# If it's a weekday and the time is before 7:00 AM, wake up.\n",
    "\n",
    "\n",
    "day = \"sunday\"\n",
    "time = 6\n",
    "\n",
    "print(day != \"saturday\" and day != \"sunday\")\n",
    "print(time < 7)\n",
    "print(day != \"saturday\" and day != \"sunday\" and time < 7 )"
   ]
  },
  {
   "cell_type": "code",
   "execution_count": 5,
   "id": "929c0aff-97f9-4642-a30b-17b2c59feb10",
   "metadata": {},
   "outputs": [
    {
     "name": "stdout",
     "output_type": "stream",
     "text": [
      "False\n"
     ]
    }
   ],
   "source": [
    "# If it's a weekday and the time is before 7:00 AM, wake up.\n",
    "\n",
    "\n",
    "day = \"Saturday\" # Current day\n",
    "time = 6         # Current time\n",
    "\n",
    "print(day != \"Saturday\" and day!= \"Sunday\" and time < 7)"
   ]
  },
  {
   "cell_type": "code",
   "execution_count": 23,
   "id": "fa5925d1-0f12-4c12-8d18-40feb6a0b0cc",
   "metadata": {},
   "outputs": [
    {
     "name": "stdout",
     "output_type": "stream",
     "text": [
      "True\n"
     ]
    }
   ],
   "source": [
    "# If it is raining and you don't have an umbrella , stay home.\n",
    "\n",
    "weather = \"not raining\"\n",
    "umbrella = \"yes\"\n",
    "\n",
    "\n",
    "print(weather == \"not raining\" and umbrella == \"yes\")"
   ]
  },
  {
   "cell_type": "code",
   "execution_count": 12,
   "id": "790979d1-c4a0-4639-b304-5ebbde413a8e",
   "metadata": {},
   "outputs": [
    {
     "name": "stdout",
     "output_type": "stream",
     "text": [
      "True\n"
     ]
    }
   ],
   "source": [
    "# If it's a weekday and homework is not done , panic!.\n",
    "\n",
    "\n",
    "homework = \"done\"\n",
    "weekday = \"monday\"\n",
    "\n",
    "print(homework == \"done\" and weekday != \"sunday\" and weekday != \"sauturday\")"
   ]
  },
  {
   "cell_type": "code",
   "execution_count": 51,
   "id": "0cc2a8a9-a3c1-4316-a10c-4f0deb10e6ce",
   "metadata": {},
   "outputs": [
    {
     "name": "stdout",
     "output_type": "stream",
     "text": [
      "True\n",
      "False\n",
      "False\n"
     ]
    }
   ],
   "source": [
    "# If you wake up and your uniform is clean , go take a shower and get dressed.\n",
    "\n",
    "wake_up1 = \"yes\"\n",
    "uniform1 = \"not clean\"\n",
    "\n",
    "wake_up = \"yes\"\n",
    "uniform = \"clean\"\n",
    "\n",
    "print(wake_up == wake_up1)\n",
    "print(uniform == uniform1)\n",
    "print(wake_up == wake_up1 and uniform == uniform1)"
   ]
  },
  {
   "cell_type": "code",
   "execution_count": 8,
   "id": "9c3dd545-45c9-4b95-9c67-599cf69c0cbb",
   "metadata": {},
   "outputs": [
    {
     "name": "stdout",
     "output_type": "stream",
     "text": [
      "True\n"
     ]
    }
   ],
   "source": [
    "# If you wake up and your uniform is clean , go take a shower and get dressed.\n",
    "\n",
    "wake_up = True\n",
    "uniform = True\n",
    "\n",
    "print(wake_up and uniform)"
   ]
  },
  {
   "cell_type": "code",
   "execution_count": 9,
   "id": "fcb3b09e-4cc4-4096-a807-5735888b0a01",
   "metadata": {},
   "outputs": [
    {
     "name": "stdout",
     "output_type": "stream",
     "text": [
      "True\n",
      "False\n",
      "False\n"
     ]
    }
   ],
   "source": [
    "# If it's weekday and not raining ,go to market!\n",
    "\n",
    "holiday1 = \"sunday\"\n",
    "holiday2 = \"saturday\"\n",
    "\n",
    "condition = \"raining\"\n",
    "\n",
    "day = \"monday\"\n",
    "cond = \"raining\"\n",
    "\n",
    "print(day != holiday1 and day != holiday2)\n",
    "print(cond != condition)\n",
    "print(day != holiday1 and day != holiday2 and cond != condition)"
   ]
  },
  {
   "cell_type": "code",
   "execution_count": 41,
   "id": "1e5e0824-d7e8-4511-b4fe-c9a91a95009a",
   "metadata": {},
   "outputs": [
    {
     "name": "stdout",
     "output_type": "stream",
     "text": [
      "False\n",
      "True\n",
      "False\n"
     ]
    }
   ],
   "source": [
    "# If it's 10 PM and study is complete ,go and sleep!\n",
    "\n",
    "sleep_time = 10\n",
    "study = \"complete\"\n",
    "\n",
    "time = 9\n",
    "study1 = \"complete\"\n",
    "\n",
    "print(time>=sleep_time)\n",
    "print(study == study1)\n",
    "print(time >= sleep_time and study == study1)"
   ]
  },
  {
   "cell_type": "code",
   "execution_count": 52,
   "id": "9422a778-70e1-42f6-b48f-8e5eb397bebc",
   "metadata": {},
   "outputs": [
    {
     "name": "stdout",
     "output_type": "stream",
     "text": [
      "True\n",
      "False\n",
      "False\n"
     ]
    }
   ],
   "source": [
    "# If you have laptop and sir is on the time , class will start on time!\n",
    "\n",
    "condition1 = \"laptop\"\n",
    "sir_on_time = \"yes\"\n",
    "\n",
    "condition = \"laptop\"\n",
    "time = \"no\"\n",
    "\n",
    "print(condition == condition1)\n",
    "print(time == sir_on_time)\n",
    "print(condition == condition1 and time == sir_on_time)"
   ]
  },
  {
   "cell_type": "code",
   "execution_count": 42,
   "id": "5eab513a-1b2b-4e74-9445-4ba941354b5d",
   "metadata": {},
   "outputs": [
    {
     "name": "stdout",
     "output_type": "stream",
     "text": [
      "True\n",
      "False\n",
      "False\n"
     ]
    }
   ],
   "source": [
    "# If you have ball and it's not raining , go and play!\n",
    "\n",
    "ball = \"yes\"\n",
    "raining = \"yes\"\n",
    "\n",
    "ball1 = \"yes\"\n",
    "raining1 = \"yes\"\n",
    "\n",
    "print(ball == ball1)\n",
    "print(raining != raining1)\n",
    "print(ball == ball1 and raining != raining1)"
   ]
  },
  {
   "cell_type": "code",
   "execution_count": 20,
   "id": "70790bf1-8a56-4e8b-8acb-d068f8ba5597",
   "metadata": {},
   "outputs": [
    {
     "name": "stdout",
     "output_type": "stream",
     "text": [
      "True\n"
     ]
    }
   ],
   "source": [
    "# If lunch is ready or fruits in basket, go and eat!\n",
    "\n",
    "\n",
    "lunch = \"not ready\"\n",
    "fruits = \"yes\"\n",
    "\n",
    "print(lunch == \"ready\" or fruits == \"yes\")"
   ]
  },
  {
   "cell_type": "code",
   "execution_count": 61,
   "id": "d62701e7-7da3-48be-89b5-c390f5d1be3f",
   "metadata": {},
   "outputs": [
    {
     "name": "stdout",
     "output_type": "stream",
     "text": [
      "False\n",
      "True\n",
      "False\n"
     ]
    }
   ],
   "source": [
    "# If you wake up or not and it's weekday , go to school!\n",
    "\n",
    "wake_up1 = \"yes\"\n",
    "wake_up2 = \"no\"\n",
    "\n",
    "holiday1 = \"sumday\"\n",
    "holiday2 = \"saturday\"\n",
    "\n",
    "day = \"saturday\"\n",
    "wake_up_time = \"no\"\n",
    "\n",
    "print(day != holiday1 and day != holiday2)\n",
    "print(wake_up_time == wake_up1 or wake_up_time == wake_up2)\n",
    "\n",
    "print(day != holiday1 and day != holiday2 and (wake_up_time == wake_up1 or wake_up_time == wake_up2 ))"
   ]
  },
  {
   "cell_type": "code",
   "execution_count": 21,
   "id": "e1b46f13-fd16-4e5c-a434-8e2ae583558f",
   "metadata": {},
   "outputs": [
    {
     "name": "stdout",
     "output_type": "stream",
     "text": [
      "True\n"
     ]
    }
   ],
   "source": [
    "# If it's not raining today and your homework is complete , then go to the school!\n",
    "\n",
    "rain = \"no\"\n",
    "work = \"yes\"\n",
    "\n",
    "print(rain == \"no\" and work == \"yes\")"
   ]
  },
  {
   "cell_type": "code",
   "execution_count": 31,
   "id": "aee2e1e3-da1e-4d19-bc9a-11caa8f58ec8",
   "metadata": {},
   "outputs": [
    {
     "name": "stdout",
     "output_type": "stream",
     "text": [
      "True\n"
     ]
    }
   ],
   "source": [
    "# If today is Monday and you forgot your ID card ,go back and get it!\n",
    "\n",
    "day = \"Monday\"\n",
    "ID_card = \"yes\"\n",
    "\n",
    "print(day != \"Saturday\" and day != \"Sunday\" and ID_card == \"yes\")"
   ]
  },
  {
   "cell_type": "code",
   "execution_count": 28,
   "id": "53a9ad23-2615-4ea2-badb-e85cc450a8ee",
   "metadata": {},
   "outputs": [
    {
     "name": "stdout",
     "output_type": "stream",
     "text": [
      "False\n"
     ]
    }
   ],
   "source": [
    "# If the bus has already arrived and you're not ready , take an auto!\n",
    "\n",
    "bus = \"arrived\"\n",
    "ready = \"no\"\n",
    "\n",
    "print(bus == \"arrived\" and ready == \"yes\")"
   ]
  },
  {
   "cell_type": "code",
   "execution_count": 15,
   "id": "90bc7e93-088c-4730-8628-b8e4882c344b",
   "metadata": {},
   "outputs": [
    {
     "name": "stdout",
     "output_type": "stream",
     "text": [
      "False\n"
     ]
    }
   ],
   "source": [
    "# If today is Sunday or a holiday , sleep again!\n",
    "\n",
    "day = \"Monday\"\n",
    "holiday = \"no\"\n",
    "\n",
    "print(day == \"Sunday\" and day == \"Saturday\" or holiday == \"yes\")"
   ]
  },
  {
   "cell_type": "code",
   "execution_count": 30,
   "id": "45911a87-778e-4e43-8ff8-d75287fa316c",
   "metadata": {},
   "outputs": [
    {
     "name": "stdout",
     "output_type": "stream",
     "text": [
      "False\n"
     ]
    }
   ],
   "source": [
    "# If you're ready , have your ID , and bus hasn't arrived , wait at the gate!\n",
    "\n",
    "ready = \"no\"\n",
    "ID = \"yes\"\n",
    "bus = \"yes\"\n",
    "\n",
    "print(ready == \"yes\" and ID == \"yes\" and bus == \"yes\")"
   ]
  },
  {
   "cell_type": "code",
   "execution_count": 26,
   "id": "e2d5b538-514d-4b52-8f8f-e9c5314610ea",
   "metadata": {},
   "outputs": [
    {
     "name": "stdout",
     "output_type": "stream",
     "text": [
      "False\n"
     ]
    }
   ],
   "source": [
    "# If raining , you missed the bus and forgot your ID , skip school today!\n",
    "\n",
    "raining = \"no\"\n",
    "bus = \"missed\"\n",
    "ID = \"not forgot\"\n",
    "\n",
    "print(raining != \"yes\" and bus != \"missed\" and ID != \"forgot\")"
   ]
  },
  {
   "cell_type": "code",
   "execution_count": null,
   "id": "d6538dde-c72c-4835-b6d0-0bd4bd014028",
   "metadata": {},
   "outputs": [],
   "source": []
  },
  {
   "cell_type": "code",
   "execution_count": null,
   "id": "2fea0cf0-cb9f-4e89-b3fa-1f44dcdc8298",
   "metadata": {},
   "outputs": [],
   "source": []
  },
  {
   "cell_type": "code",
   "execution_count": null,
   "id": "c9d65aa6-f507-45e3-b60a-d17e207c95f0",
   "metadata": {},
   "outputs": [],
   "source": []
  },
  {
   "cell_type": "code",
   "execution_count": null,
   "id": "30d438e3-0392-4bc1-9680-5f2f44b21bd9",
   "metadata": {},
   "outputs": [],
   "source": []
  },
  {
   "cell_type": "code",
   "execution_count": null,
   "id": "4567e21e-4f10-4053-9029-b2dfc6ce279e",
   "metadata": {},
   "outputs": [],
   "source": []
  },
  {
   "cell_type": "code",
   "execution_count": null,
   "id": "4026e094-96e5-4b79-bac1-a78dd3745d0b",
   "metadata": {},
   "outputs": [],
   "source": []
  }
 ],
 "metadata": {
  "kernelspec": {
   "display_name": "Python 3 (ipykernel)",
   "language": "python",
   "name": "python3"
  },
  "language_info": {
   "codemirror_mode": {
    "name": "ipython",
    "version": 3
   },
   "file_extension": ".py",
   "mimetype": "text/x-python",
   "name": "python",
   "nbconvert_exporter": "python",
   "pygments_lexer": "ipython3",
   "version": "3.13.5"
  }
 },
 "nbformat": 4,
 "nbformat_minor": 5
}
