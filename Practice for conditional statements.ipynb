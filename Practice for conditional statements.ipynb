{
 "cells": [
  {
   "cell_type": "code",
   "execution_count": 8,
   "id": "13378ad2-61eb-40ab-9744-e8d3c0928a91",
   "metadata": {},
   "outputs": [
    {
     "name": "stdin",
     "output_type": "stream",
     "text": [
      "Enter the number: 67\n"
     ]
    },
    {
     "name": "stdout",
     "output_type": "stream",
     "text": [
      "Positive!\n",
      "Odd!\n"
     ]
    }
   ],
   "source": [
    "# Number Classification\n",
    "\n",
    "num = int(input(\"Enter the number:\"))\n",
    "\n",
    "if num > 0:\n",
    "    print(\"Positive!\")\n",
    "    if num % 2 == 0:\n",
    "        print(\"Even!\")\n",
    "    else:\n",
    "        print(\"Odd!\")\n",
    "else:\n",
    "    if num == 0:\n",
    "        print(\"Zero!\")\n",
    "    else:\n",
    "        print(\"Negative!\")"
   ]
  },
  {
   "cell_type": "code",
   "execution_count": 5,
   "id": "85c82c62-d1c6-4ac3-b460-c8b17a8fd95a",
   "metadata": {},
   "outputs": [
    {
     "name": "stdin",
     "output_type": "stream",
     "text": [
      "Enter the year: 124\n"
     ]
    },
    {
     "name": "stdout",
     "output_type": "stream",
     "text": [
      "Leap year!\n"
     ]
    }
   ],
   "source": [
    "# Leap Year Checker\n",
    "\n",
    "year = int(input(\"Enter the year:\"))\n",
    "if year % 4 == 0:\n",
    "    if year % 100 == 0:\n",
    "        if year % 4 == 0:\n",
    "            print(\"Leap year!\")\n",
    "        else:\n",
    "            print(\"Not a leap year!\")\n",
    "    else:\n",
    "        print(\"Leap year!\")\n",
    "else:\n",
    "        print(\"not a Leap year!\")\n"
   ]
  },
  {
   "cell_type": "code",
   "execution_count": 7,
   "id": "5907230e-ef44-4a8e-b2b0-353830f56b3a",
   "metadata": {},
   "outputs": [
    {
     "name": "stdin",
     "output_type": "stream",
     "text": [
      "Enter the number: 5\n"
     ]
    },
    {
     "name": "stdout",
     "output_type": "stream",
     "text": [
      "Not divisible by 2 and 3!\n"
     ]
    }
   ],
   "source": [
    "# Divisibility Test\n",
    "\n",
    "num = int(input(\"Enter the number:\"))\n",
    "if num % 2 == 0 and num % 3 == 0:\n",
    "    print(\"Number is divisible by 2 and 3.\")\n",
    "    if num % 2 == 0:\n",
    "        print(\"Divisible by 2.\")\n",
    "    else:\n",
    "        print(\"Divisible by 3.\")\n",
    "else:\n",
    "    print(\"Not divisible by 2 and 3!\")"
   ]
  },
  {
   "cell_type": "code",
   "execution_count": 30,
   "id": "68cd885a-0ea5-4194-a6c5-c7b9ca1d371e",
   "metadata": {},
   "outputs": [
    {
     "name": "stdin",
     "output_type": "stream",
     "text": [
      "Enter the age: 15\n"
     ]
    },
    {
     "name": "stdout",
     "output_type": "stream",
     "text": [
      "Teenager!\n"
     ]
    }
   ],
   "source": [
    "# Age Group Classification\n",
    "\n",
    "age = int(input(\"Enter the age:\"))\n",
    "if age <= 100:\n",
    "    if age < 65:\n",
    "        if age > 0 and age <= 12:\n",
    "            print(\"Child.\")\n",
    "        elif age >= 13 and age <= 19:\n",
    "            print(\"Teenager!\")\n",
    "        elif age >= 20 and age <= 64:\n",
    "            print(\"Adult!\")\n",
    "    else:\n",
    "        if age > 64:\n",
    "            print(\"Seniors!\")\n",
    "else:\n",
    "    print(\"Not a valid age!\")"
   ]
  },
  {
   "cell_type": "code",
   "execution_count": 48,
   "id": "246de4d5-a95a-4bc3-8898-aeee03d2016b",
   "metadata": {},
   "outputs": [
    {
     "name": "stdin",
     "output_type": "stream",
     "text": [
      "Enter marks (0-100): 65\n"
     ]
    },
    {
     "name": "stdout",
     "output_type": "stream",
     "text": [
      "D\n"
     ]
    }
   ],
   "source": [
    "# Grade Evaluvation\n",
    "\n",
    "marks = int(input(\"Enter marks (0-100):\"))\n",
    "if marks <= 100:\n",
    "    if marks >= 90:\n",
    "        print(\"A\")\n",
    "    elif marks >= 80:\n",
    "        print(\"B\")\n",
    "    elif marks >= 70:\n",
    "        print(\"C\")\n",
    "    elif marks >= 60:\n",
    "        print(\"D\")\n",
    "    elif marks <= 60:\n",
    "        print(\"F\")\n",
    "else:\n",
    "    print(\"Not a vaid marks!\")"
   ]
  },
  {
   "cell_type": "code",
   "execution_count": 4,
   "id": "3792b015-f09e-482f-b20f-5c74d0c1b01f",
   "metadata": {},
   "outputs": [
    {
     "name": "stdin",
     "output_type": "stream",
     "text": [
      "Take a number from 1-7: 89\n"
     ]
    },
    {
     "name": "stdout",
     "output_type": "stream",
     "text": [
      "Not valid!\n"
     ]
    }
   ],
   "source": [
    "# Day of the week\n",
    "\n",
    "num = int(input(\"Take a number from 1-7:\"))\n",
    "if num == 1:\n",
    "    print(\"Monday.\")\n",
    "elif num == 2:\n",
    "    print(\"Tuesday.\")\n",
    "elif num == 3:\n",
    "    print(\"Wednesday.\")\n",
    "elif num ==4:\n",
    "    print(\"Thrusay.\")\n",
    "elif num == 5:\n",
    "    print(\"Friday.\")\n",
    "elif num == 6:\n",
    "    print(\"Saturday.\")\n",
    "elif num == 7:\n",
    "    print(\"Sunday.\")\n",
    "else:\n",
    "    print(\"Not valid!\")"
   ]
  },
  {
   "cell_type": "code",
   "execution_count": null,
   "id": "23eaad2f-9dc6-49a8-95b9-8b42f0cbb8e6",
   "metadata": {},
   "outputs": [],
   "source": []
  },
  {
   "cell_type": "code",
   "execution_count": null,
   "id": "9de075cd-22df-41ec-96d9-a19b3a8c9b02",
   "metadata": {},
   "outputs": [],
   "source": []
  },
  {
   "cell_type": "code",
   "execution_count": null,
   "id": "ff00f663-4e18-4864-bd06-fa871420f3ac",
   "metadata": {},
   "outputs": [],
   "source": []
  },
  {
   "cell_type": "code",
   "execution_count": null,
   "id": "6147d618-bdca-4e9a-a350-ecc60a7869e8",
   "metadata": {},
   "outputs": [],
   "source": []
  }
 ],
 "metadata": {
  "kernelspec": {
   "display_name": "Python 3 (ipykernel)",
   "language": "python",
   "name": "python3"
  },
  "language_info": {
   "codemirror_mode": {
    "name": "ipython",
    "version": 3
   },
   "file_extension": ".py",
   "mimetype": "text/x-python",
   "name": "python",
   "nbconvert_exporter": "python",
   "pygments_lexer": "ipython3",
   "version": "3.13.5"
  }
 },
 "nbformat": 4,
 "nbformat_minor": 5
}
