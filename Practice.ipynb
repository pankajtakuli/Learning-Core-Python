{
 "cells": [
  {
   "cell_type": "code",
   "execution_count": 1,
   "id": "66cc7f50-6e63-4431-aa8a-c286ef2de82b",
   "metadata": {},
   "outputs": [
    {
     "name": "stdin",
     "output_type": "stream",
     "text": [
      "Enter the number 1: 6\n",
      "Enter the number 2: 7\n"
     ]
    },
    {
     "name": "stdout",
     "output_type": "stream",
     "text": [
      "Sum of the numbers is: 13.0\n",
      "Subtraction of the numbers is: 13.0\n",
      "Multiplication of the numbers is: 13.0\n",
      "Division of the numbers is: 0.8571428571428571\n"
     ]
    }
   ],
   "source": [
    "number1 = float(input(\"Enter the number 1:\"))\n",
    "number2 = float(input(\"Enter the number 2:\"))\n",
    "sum = number1 + number2\n",
    "sub = number1 + number2\n",
    "multiply = number1 + number2\n",
    "div = number1 / number2\n",
    "print(\"Sum of the numbers is:\",sum)\n",
    "print(\"Subtraction of the numbers is:\",sub)\n",
    "print(\"Multiplication of the numbers is:\",multiply)\n",
    "print(\"Division of the numbers is:\",div)"
   ]
  },
  {
   "cell_type": "code",
   "execution_count": 5,
   "id": "14e20f5d-1423-4a70-be33-0f035951f80b",
   "metadata": {},
   "outputs": [
    {
     "name": "stdin",
     "output_type": "stream",
     "text": [
      "Enter the first number: 4\n",
      "Enter the second number: 5\n",
      "Enter the operation you want: div\n"
     ]
    },
    {
     "name": "stdout",
     "output_type": "stream",
     "text": [
      "Your result: 0.8\n"
     ]
    }
   ],
   "source": [
    "n1 = float(input(\"Enter the first number:\"))\n",
    "n2 = float(input(\"Enter the second number:\"))\n",
    "\n",
    "condition = input(\"Enter the operation you want:\").strip().lower()\n",
    "if condition == \"sum\":\n",
    "    print(\"Your result\", n1 + n2)\n",
    "elif condition == \"sub\":\n",
    "    print(\"Your result:\", n1 - n2)\n",
    "elif condition == \"multiply\":\n",
    "    print(\"Your result:\", n1 * n2)\n",
    "elif condition == \"div\":\n",
    "    print(\"Your result:\", n1 / n2)\n",
    "else:\n",
    "    print(\"Invalid condition!\")"
   ]
  },
  {
   "cell_type": "code",
   "execution_count": 81,
   "id": "8717b3de-8a71-4758-bcbf-7342fdb78f47",
   "metadata": {},
   "outputs": [
    {
     "name": "stdin",
     "output_type": "stream",
     "text": [
      "Enter the first number: 4\n",
      "Enter the second number: 5\n"
     ]
    },
    {
     "name": "stdout",
     "output_type": "stream",
     "text": [
      "first number: 4.0\n",
      "Second number: 5.0\n",
      "Sum: 9.0\n",
      "Subtract: -1.0\n",
      "Multiply: 20.0\n"
     ]
    }
   ],
   "source": [
    "def calc():\n",
    "    n1 = float(input(\"Enter the first number:\"))\n",
    "    n2 = float(input(\"Enter the second number:\"))\n",
    "    \n",
    "    sum =  n1 + n2\n",
    "    sub = n1 - n2\n",
    "    multiply = n1 * n2\n",
    "    div = n1 /n2\n",
    "\n",
    "    return n1 , n2 , sum , sub , multiply , div\n",
    "    \n",
    "num1 , num2 , add , subtract , multiplication, division = calc()\n",
    "print(\"first number:\",n1)\n",
    "print(\"Second number:\",n2)\n",
    "print(\"Sum:\",add)\n",
    "print(\"Subtract:\",subtract)\n",
    "print(\"Multiply:\",multiplication)\n"
   ]
  },
  {
   "cell_type": "code",
   "execution_count": 4,
   "id": "b76a8174-8beb-4129-99a1-4cc16bfd2174",
   "metadata": {},
   "outputs": [
    {
     "name": "stdin",
     "output_type": "stream",
     "text": [
      "Enter the first number: 45\n",
      "Enter the second number: 6\n",
      "Enter condition: sub\n"
     ]
    },
    {
     "ename": "UnboundLocalError",
     "evalue": "cannot access local variable 'result_sum' where it is not associated with a value",
     "output_type": "error",
     "traceback": [
      "\u001b[1;31m---------------------------------------------------------------------------\u001b[0m",
      "\u001b[1;31mUnboundLocalError\u001b[0m                         Traceback (most recent call last)",
      "Cell \u001b[1;32mIn[4], line 21\u001b[0m\n\u001b[0;32m     18\u001b[0m         message \u001b[38;5;241m=\u001b[39m \u001b[38;5;124m\"\u001b[39m\u001b[38;5;124mInvaild condition\u001b[39m\u001b[38;5;124m\"\u001b[39m\n\u001b[0;32m     20\u001b[0m     \u001b[38;5;28;01mreturn\u001b[39;00m cond, result_sum , result_sub , result_multiply , result_div , message\n\u001b[1;32m---> 21\u001b[0m calc()\n",
      "Cell \u001b[1;32mIn[4], line 20\u001b[0m, in \u001b[0;36mcalc\u001b[1;34m()\u001b[0m\n\u001b[0;32m     17\u001b[0m \u001b[38;5;28;01melse\u001b[39;00m:\n\u001b[0;32m     18\u001b[0m     message \u001b[38;5;241m=\u001b[39m \u001b[38;5;124m\"\u001b[39m\u001b[38;5;124mInvaild condition\u001b[39m\u001b[38;5;124m\"\u001b[39m\n\u001b[1;32m---> 20\u001b[0m \u001b[38;5;28;01mreturn\u001b[39;00m cond, result_sum , result_sub , result_multiply , result_div , message\n",
      "\u001b[1;31mUnboundLocalError\u001b[0m: cannot access local variable 'result_sum' where it is not associated with a value"
     ]
    }
   ],
   "source": [
    "def calc():\n",
    "    n1 = float(input(\"Enter the first number:\"))\n",
    "    n2 = float(input(\"Enter the second number:\"))\n",
    "    cond = input(\"Enter condition:\").strip().lower()\n",
    "    \n",
    "    if cond == \"sum\":\n",
    "        result_sum =  n1 + n2\n",
    "    elif cond == \"sub\":\n",
    "        result_sub =  n1 - n2\n",
    "    elif cond == \"multiply\":\n",
    "        result_multiply = n1 * n2\n",
    "    elif cond == \"div\":\n",
    "        if n2 != 0:\n",
    "            result_div = n1/n2\n",
    "        else:\n",
    "            message = \"We cannot divide by zero.\"\n",
    "    else:\n",
    "        message = \"Invaild condition\"\n",
    "        \n",
    "    return cond, result_sum , result_sub , result_multiply , result_div , message\n",
    "calc()"
   ]
  },
  {
   "cell_type": "code",
   "execution_count": 90,
   "id": "4588bff0-36ca-4b69-a592-e8356ca6060f",
   "metadata": {},
   "outputs": [
    {
     "name": "stdin",
     "output_type": "stream",
     "text": [
      "Enter the first number: 4\n",
      "Enter the second number: 5\n",
      "Enter the choice: sum\n"
     ]
    },
    {
     "ename": "UnboundLocalError",
     "evalue": "cannot access local variable 'sub' where it is not associated with a value",
     "output_type": "error",
     "traceback": [
      "\u001b[1;31m---------------------------------------------------------------------------\u001b[0m",
      "\u001b[1;31mUnboundLocalError\u001b[0m                         Traceback (most recent call last)",
      "Cell \u001b[1;32mIn[90], line 20\u001b[0m\n\u001b[0;32m     17\u001b[0m         div \u001b[38;5;241m=\u001b[39m n1 \u001b[38;5;241m/\u001b[39mn2\n\u001b[0;32m     19\u001b[0m     \u001b[38;5;28;01mreturn\u001b[39;00m n1 , n2 , \u001b[38;5;28msum\u001b[39m , sub , multiply , div \n\u001b[1;32m---> 20\u001b[0m num1 , num2 , add , subtract , multiplication, division \u001b[38;5;241m=\u001b[39m calc()\n",
      "Cell \u001b[1;32mIn[90], line 19\u001b[0m, in \u001b[0;36mcalc\u001b[1;34m()\u001b[0m\n\u001b[0;32m     16\u001b[0m \u001b[38;5;28;01melif\u001b[39;00m choice \u001b[38;5;241m==\u001b[39m \u001b[38;5;124m\"\u001b[39m\u001b[38;5;124mdiv\u001b[39m\u001b[38;5;124m\"\u001b[39m:\n\u001b[0;32m     17\u001b[0m     div \u001b[38;5;241m=\u001b[39m n1 \u001b[38;5;241m/\u001b[39mn2\n\u001b[1;32m---> 19\u001b[0m \u001b[38;5;28;01mreturn\u001b[39;00m n1 , n2 , \u001b[38;5;28msum\u001b[39m , sub , multiply , div\n",
      "\u001b[1;31mUnboundLocalError\u001b[0m: cannot access local variable 'sub' where it is not associated with a value"
     ]
    }
   ],
   "source": [
    "def calc():\n",
    "    n1 = float(input(\"Enter the first number:\"))\n",
    "    n2 = float(input(\"Enter the second number:\"))\n",
    "    \n",
    "    # sum =  n1 + n2\n",
    "    # sub = n1 - n2\n",
    "    # multiply = n1 * n\n",
    "    # div = n1 /n2\n",
    "    choice = input(\"Enter the choice:\")\n",
    "    if choice == \"\":\n",
    "        sum = n1 + n2\n",
    "    elif choice == \"sub\":\n",
    "        sub = n1 - n2\n",
    "    elif choice == \"multiply\":\n",
    "        multiply = n1 * n2\n",
    "    elif choice == \"div\":\n",
    "        div = n1 /n2\n",
    "\n",
    "    return n1 , n2 , sum , sub , multiply , div \n",
    "num1 , num2 , add , subtract , multiplication, division = calc()"
   ]
  },
  {
   "cell_type": "code",
   "execution_count": null,
   "id": "db4ad295-fe0c-4734-9f7d-ad42f75f8e88",
   "metadata": {},
   "outputs": [],
   "source": [
    "def calc():\n",
    "    n1 = float(input(\"Enter the first number:\"))\n",
    "    n2 = float(input(\"Enter the second number:\"))\n",
    "    choice = input(\"Enter the choice:\")\n",
    "    \n",
    "    if choice == \"sum\":\n",
    "        sum = n1 + n2\n",
    "    elif choice == \"sub\":\n",
    "        sub = n1 - n2\n",
    "    elif choice == \"multiply\":\n",
    "        multiply = n1 * n2\n",
    "    elif choice == \"div\":\n",
    "        div = n1 /n2\n",
    "    else:\n",
    "        value = \"Invalid\"\n",
    "        \n",
    " \n",
    "num1 , num2 , add , subtract , multiplication, division = calc()"
   ]
  },
  {
   "cell_type": "code",
   "execution_count": null,
   "id": "86bfaec3-ccfc-4e33-8eab-f31a0da39ef0",
   "metadata": {},
   "outputs": [],
   "source": []
  },
  {
   "cell_type": "code",
   "execution_count": 3,
   "id": "3a713771-7b95-4d7e-993f-1e940ec18e75",
   "metadata": {},
   "outputs": [
    {
     "name": "stdout",
     "output_type": "stream",
     "text": [
      "<class 'list'>\n"
     ]
    }
   ],
   "source": [
    "s = [ ]\n",
    "print(type(s))"
   ]
  },
  {
   "cell_type": "code",
   "execution_count": null,
   "id": "2c3bf3bc-eab4-4382-a3dc-47872f51e0ed",
   "metadata": {},
   "outputs": [],
   "source": []
  },
  {
   "cell_type": "code",
   "execution_count": null,
   "id": "57d11014-c4d2-4f81-8f29-7924d3f169b2",
   "metadata": {},
   "outputs": [],
   "source": []
  },
  {
   "cell_type": "code",
   "execution_count": 2,
   "id": "8e8b6e5b-d360-4757-95bc-89e664c3350e",
   "metadata": {},
   "outputs": [
    {
     "name": "stdin",
     "output_type": "stream",
     "text": [
      "Enter the first number: 56\n",
      "Enter the second number: 98\n",
      "Enter the choice (+,-,*,/): -\n"
     ]
    },
    {
     "name": "stdout",
     "output_type": "stream",
     "text": [
      "Result: -42.0\n",
      "Message: Successful subtraction\n"
     ]
    }
   ],
   "source": [
    "def calculation():\n",
    "    a = float(input(\"Enter the first number:\"))\n",
    "    b = float(input(\"Enter the second number:\"))\n",
    "    choice = input(\"Enter the choice (+,-,*,/):\")\n",
    "\n",
    "    if choice == \"+\":\n",
    "        result = a + b\n",
    "        message = \"Successful sum\"\n",
    "    elif choice == \"-\":\n",
    "        result = a - b\n",
    "        message = \"Successful subtraction\"\n",
    "    elif choice == \"*\":\n",
    "        result = a * b\n",
    "        message = \"Successful multiply\"\n",
    "    elif choice == \"/\":\n",
    "        if b != 0:\n",
    "            result = a / b\n",
    "            message = \"Successful division\"\n",
    "        else:\n",
    "            result = None\n",
    "            message = \"Invalid numbers!\"\n",
    "            \n",
    "    else:\n",
    "        result = None\n",
    "        message = \"Invalid\"\n",
    "    return  result , message\n",
    "\n",
    "result, message = calculation()\n",
    "\n",
    "print(\"Result:\",result)\n",
    "print(\"Message:\",message)\n"
   ]
  },
  {
   "cell_type": "code",
   "execution_count": null,
   "id": "6f813b53-5757-444f-b313-927631d6a820",
   "metadata": {},
   "outputs": [],
   "source": []
  },
  {
   "cell_type": "code",
   "execution_count": 8,
   "id": "e70991c3-a282-4578-88c9-f6cbbdc5a8a0",
   "metadata": {},
   "outputs": [
    {
     "name": "stdin",
     "output_type": "stream",
     "text": [
      "Enter first number: 56\n",
      "Enter second number: 44\n"
     ]
    },
    {
     "name": "stdout",
     "output_type": "stream",
     "text": [
      "Result: 100.0\n"
     ]
    }
   ],
   "source": [
    "# Basic Calculator\n",
    "\n",
    "# Create user defined variable with input function\n",
    "\n",
    "num1 = input(\"Enter first number:\")\n",
    "num2 = input(\"Enter second number:\")\n",
    "\n",
    "# num1 & num2 are string data types so we can not enter an integer and float in it.\n",
    "\n",
    "# Therefore i have to make num1 & num2 as float by typing casting method.\n",
    "\n",
    "num1 = float(num1)\n",
    "num2 = float(num2)\n",
    "\n",
    "result = num1 + num2\n",
    "\n",
    "print(\"Result:\",result)"
   ]
  },
  {
   "cell_type": "code",
   "execution_count": 9,
   "id": "b9afd19a-fd13-4200-aa69-e792c58e759f",
   "metadata": {},
   "outputs": [
    {
     "name": "stdin",
     "output_type": "stream",
     "text": [
      "Enter first number: 56\n",
      "Enter second number: 28\n",
      "Enter choice of operator (+,-,*,/): /\n"
     ]
    },
    {
     "name": "stdout",
     "output_type": "stream",
     "text": [
      "Result: 2.0\n"
     ]
    }
   ],
   "source": [
    "# Additon , Subtraction , Multiplication , Division\n",
    "# Create user defined variable with input function\n",
    "\n",
    "num1 = input(\"Enter first number:\")\n",
    "num2 = input(\"Enter second number:\")\n",
    "operator = input(\"Enter choice of operator (+,-,*,/):\")\n",
    "\n",
    "# num1 and num2 are string data types so we can not enter as integer and float in it.\n",
    "\n",
    "# therefore i have to make num1 & num2 as float by tuype casting method.\n",
    "\n",
    "num1 = float(num1)\n",
    "num2 = float(num2)\n",
    "\n",
    "if operator == \"+\":\n",
    "    result = num1 + num2\n",
    "elif operator == \"-\":\n",
    "    result = num1 - num2\n",
    "elif operator == \"*\":\n",
    "    result = num1 * num2\n",
    "elif operator == \"/\":\n",
    "    result = num1 / num2\n",
    "else:\n",
    "    print(\"Invalid operator!\")\n",
    "print(\"Result:\",result)"
   ]
  },
  {
   "cell_type": "code",
   "execution_count": 1,
   "id": "255bbe5c-fcc6-4187-8db8-7376cdbd7461",
   "metadata": {},
   "outputs": [
    {
     "name": "stdout",
     "output_type": "stream",
     "text": [
      "Mamta\n",
      "Mayank\n",
      "Tushar\n",
      "Nishi\n",
      "Priyanshu\n",
      "Abdullah\n",
      "Aayush\n",
      "Suhail\n",
      "Aarti\n"
     ]
    }
   ],
   "source": [
    "names = [\"Mamta\",\"Mayank\",\"Tushar\",\"Nishi\",\"Priyanshu\",\"Abdullah\",\"Aayush\",\"Suhail\",\"Aarti\"]\n",
    "count = 0\n",
    "while count < len(names):\n",
    "    print(names[count])\n",
    "    count += 1"
   ]
  },
  {
   "cell_type": "code",
   "execution_count": 4,
   "id": "3dfe91b1-97c4-4023-9946-4a6fce84464c",
   "metadata": {},
   "outputs": [
    {
     "name": "stdout",
     "output_type": "stream",
     "text": [
      "pankaj\n",
      "34\n",
      "data\n",
      "science\n",
      "9\n",
      "90.0\n"
     ]
    }
   ],
   "source": [
    "def lst(a):\n",
    "    count = 0\n",
    "    while count < len(a):\n",
    "        print(s[count])\n",
    "        count += 1\n",
    "s = [\"pankaj\",34,\"data\",\"science\",9,90.00]        \n",
    "lst(s)"
   ]
  },
  {
   "cell_type": "code",
   "execution_count": 11,
   "id": "f1e4d618-b75c-4e83-b4b8-545e7963a0f1",
   "metadata": {},
   "outputs": [
    {
     "name": "stdout",
     "output_type": "stream",
     "text": [
      "Mango\n",
      "Apple\n",
      "Graphes\n",
      "Banana\n",
      "Gauava\n"
     ]
    }
   ],
   "source": [
    "def list_fruits(lst):\n",
    "    count = 0\n",
    "    while count < len(lst):\n",
    "        print(fruits[count])\n",
    "        count += 1\n",
    "       \n",
    "fruits = [\"Mango\",\"Apple\",\"Graphes\",\"Banana\",\"Gauava\"]\n",
    "list_fruits(fruits)"
   ]
  },
  {
   "cell_type": "code",
   "execution_count": 2,
   "id": "5e5188f9-cd51-49e5-b4eb-391627048b77",
   "metadata": {},
   "outputs": [
    {
     "name": "stdin",
     "output_type": "stream",
     "text": [
      "Enter rows: 5\n"
     ]
    },
    {
     "name": "stdout",
     "output_type": "stream",
     "text": [
      "    *\n",
      "   ***\n",
      "  *****\n",
      " *******\n",
      "*********\n"
     ]
    }
   ],
   "source": [
    "rows = int(input(\"Enter rows:\"))\n",
    "for i in range(1,rows + 1):\n",
    "    print(\" \"*(rows - i),end = \"\")\n",
    "    print((2*i-1)*\"*\")"
   ]
  },
  {
   "cell_type": "code",
   "execution_count": 3,
   "id": "e4557772-a632-4ce3-9316-1027c11251a1",
   "metadata": {},
   "outputs": [
    {
     "name": "stdout",
     "output_type": "stream",
     "text": [
      "     \n",
      "    *\n",
      "   ***\n",
      "  *****\n",
      " *******\n"
     ]
    }
   ],
   "source": [
    "count = 0\n",
    "while count < 5:\n",
    "    print(\" \"*(5-count),end = \"\")\n",
    "    print((2*count-1)*\"*\")\n",
    "    count += 1"
   ]
  },
  {
   "cell_type": "code",
   "execution_count": 2,
   "id": "cb694d22-cc61-4918-802b-8c8801016e2e",
   "metadata": {},
   "outputs": [
    {
     "name": "stdout",
     "output_type": "stream",
     "text": [
      "    *********\n",
      "   *********\n",
      "  *********\n",
      " *********\n"
     ]
    }
   ],
   "source": [
    "i = 5\n",
    "count = 1\n",
    "while count < i:\n",
    "    spaces = i - count \n",
    "    stars = 2 * i - 1\n",
    "    print(spaces * \" \",end=\"\")\n",
    "    print(stars * \"*\")\n",
    "    count += 1"
   ]
  },
  {
   "cell_type": "code",
   "execution_count": 11,
   "id": "65ecfd54-9e0c-4af6-a099-4e3bb8dd8137",
   "metadata": {},
   "outputs": [
    {
     "name": "stdin",
     "output_type": "stream",
     "text": [
      "Enter first number: 67\n",
      "Enter second number: 4\n",
      "Enter the choice (+,-,*,/): +\n"
     ]
    },
    {
     "name": "stdout",
     "output_type": "stream",
     "text": [
      "Result: 71.0\n"
     ]
    }
   ],
   "source": [
    "def calc():\n",
    "    a = float(input(\"Enter first number:\"))\n",
    "    b = float(input(\"Enter second number:\"))\n",
    "    choice = input(\"Enter the choice (+,-,*,/):\")\n",
    "    if choice == \"+\":\n",
    "        result = a + b\n",
    "    elif choice == \"-\":\n",
    "        result = a - b\n",
    "    elif choice == \"*\":\n",
    "        result = a * b\n",
    "    elif choice == \"/\":\n",
    "        if b == 0:\n",
    "            result = \"Invalid number for division.\"\n",
    "        else:\n",
    "            result = a / b\n",
    "    else:\n",
    "        result = \"Invalid choice!\"\n",
    "    return result\n",
    "result = calc()\n",
    "\n",
    "print(\"Result:\",result)"
   ]
  },
  {
   "cell_type": "code",
   "execution_count": 1,
   "id": "6620b743-aff9-433b-bada-c50a5c389415",
   "metadata": {},
   "outputs": [
    {
     "name": "stdin",
     "output_type": "stream",
     "text": [
      "Enter first number: 6\n",
      "Enter second number: 7\n",
      "Enter the choice (+,-,*,/): /\n"
     ]
    },
    {
     "name": "stdout",
     "output_type": "stream",
     "text": [
      "Result: 0.8571428571428571\n"
     ]
    },
    {
     "name": "stdin",
     "output_type": "stream",
     "text": [
      "You want to use again (yes/no): yes\n",
      "Enter first number: 4\n",
      "Enter second number: 0\n",
      "Enter the choice (+,-,*,/): *\n"
     ]
    },
    {
     "name": "stdout",
     "output_type": "stream",
     "text": [
      "Result: 0.0\n"
     ]
    },
    {
     "name": "stdin",
     "output_type": "stream",
     "text": [
      "You want to use again (yes/no): no\n"
     ]
    }
   ],
   "source": [
    "while True:\n",
    "    num1 = float(input(\"Enter first number:\"))\n",
    "    num2 = float(input(\"Enter second number:\"))\n",
    "    operator = input(\"Enter the choice (+,-,*,/):\")\n",
    "    if operator == \"+\":\n",
    "        result = num1 + num2\n",
    "    elif operator == \"-\":\n",
    "        result = num1 - num2\n",
    "    elif operator == \"*\":\n",
    "        result = num1 * num2\n",
    "    elif operator == \"/\":\n",
    "        if num2 != 0:\n",
    "            result = num1 / num2\n",
    "        else:\n",
    "            result = \"Invalid\"\n",
    "    else:\n",
    "        result = \"Invalid choice!\"\n",
    "        continue\n",
    "    print(\"Result:\",result)\n",
    "    choice = input(\"You want to use again (yes/no):\")\n",
    "    if choice == \"yes\":\n",
    "        continue\n",
    "    else:\n",
    "        break "
   ]
  },
  {
   "cell_type": "code",
   "execution_count": 1,
   "id": "51502c26-160b-431b-95f8-141f6aa15066",
   "metadata": {},
   "outputs": [
    {
     "name": "stdin",
     "output_type": "stream",
     "text": [
      "You wanna drink tea(yes/no): yes\n",
      "Enter the tea want to drink(black , lemon , honey: black\n",
      "Ingrediants? (yes/no): yes\n"
     ]
    },
    {
     "name": "stdout",
     "output_type": "stream",
     "text": [
      "Your tea is ready you can drink!\n"
     ]
    }
   ],
   "source": [
    "drink = input(\"You wanna drink tea(yes/no):\")\n",
    "if drink == \"yes\":\n",
    "    choice = input(\"Enter the tea want to drink(black , lemon , honey:\").strip().lower()\n",
    "    if choice == \"black\":\n",
    "        ingrediants = input(\"Ingrediants? (yes/no):\").strip().lower()\n",
    "        if ingrediants == \"yes\":\n",
    "            print(\"Your tea is ready you can drink!\")\n",
    "        else:\n",
    "            print(\"Sorry igrediants are not present!\")\n",
    "    elif choice == \"lemon\":\n",
    "        ingrediants = input(\"Ingrediants? (yes/no):\").strip().lower()\n",
    "        if ingrediants == \"yes\":\n",
    "            print(\"Your tea is ready you can drink!\")\n",
    "        else:\n",
    "            print(\"Sorry igrediants are not present!\")\n",
    "    elif choice == \"honey\":\n",
    "           ingrediants = input(\" Ingrediants? (yes/no):\").strip().lower()\n",
    "           if ingrediants == \"yes\":\n",
    "               print(\"Your tea is ready you can drink!\")\n",
    "           else:\n",
    "               print(\"Sorry igrediants are not present!\")\n",
    "    else:\n",
    "        print(\"Tea is not available!\")\n",
    "else:\n",
    "    print(\"Thank you for visiting!\")"
   ]
  },
  {
   "cell_type": "code",
   "execution_count": 42,
   "id": "f43f223b-1b7f-44d7-b239-c6c3e3725951",
   "metadata": {},
   "outputs": [
    {
     "name": "stdout",
     "output_type": "stream",
     "text": [
      "Ingrediants present: lemon_juice\n",
      "Ingrediants present: water_juice\n",
      "Ingrediants present: water_30_c\n"
     ]
    }
   ],
   "source": [
    "list_lemon = [\"lemon_juice\" , \"water_juice\" , \"water_30_c\"]\n",
    "list_honey = [\"honey\",\"tea_leaves\" , \"gjinger\" , \"ilaichi\", \"water_40_c\"]\n",
    "list_black = [\"tea_leaves\" , \"water_30 c\"]\n",
    "for i in list_lemon:\n",
    "    print(i)\n",
    "c1 input(\"+\")\n",
    "for j in list_honey:\n",
    "    print(j)\n",
    "for k in list_black:\n",
    "    print\n",
    "    \n",
    "if i in list_lemon:\n",
    "    print(\"Your lemon tea is ready!\")\n",
    "else:\n",
    "    print(\"Ingrediants not present!\")\n",
    "      "
   ]
  },
  {
   "cell_type": "code",
   "execution_count": 6,
   "id": "e23a5a11-4410-49be-af32-79650c5ab73c",
   "metadata": {},
   "outputs": [
    {
     "ename": "NameError",
     "evalue": "name 's' is not defined",
     "output_type": "error",
     "traceback": [
      "\u001b[1;31m---------------------------------------------------------------------------\u001b[0m",
      "\u001b[1;31mNameError\u001b[0m                                 Traceback (most recent call last)",
      "Cell \u001b[1;32mIn[6], line 14\u001b[0m\n\u001b[0;32m      8\u001b[0m     \u001b[38;5;66;03m# elif lst.sorted(reverse = True) == True:\u001b[39;00m\n\u001b[0;32m      9\u001b[0m     \u001b[38;5;66;03m#     result = True \u001b[39;00m\n\u001b[0;32m     10\u001b[0m     \u001b[38;5;66;03m#     order = \"Descending order\"\u001b[39;00m\n\u001b[0;32m     11\u001b[0m     \u001b[38;5;28;01melse\u001b[39;00m:\n\u001b[0;32m     12\u001b[0m         \u001b[38;5;28mprint\u001b[39m(\u001b[38;5;28;01mFalse\u001b[39;00m)  \n\u001b[1;32m---> 14\u001b[0m is_sorted(s)\n",
      "\u001b[1;31mNameError\u001b[0m: name 's' is not defined"
     ]
    }
   ],
   "source": [
    "# Write a function is_sorted(lst) that returns True if the list is sorted in ascending or descending order, else False.\n",
    "\n",
    "def is_sorted(lst):\n",
    "    s = input(\"Enter the list you want to check:\")\n",
    "    if s.sort() == True:\n",
    "        print(True)\n",
    "        print(\"Ascending order\")\n",
    "    # elif lst.sorted(reverse = True) == True:\n",
    "    #     result = True \n",
    "    #     order = \"Descending order\"\n",
    "    else:\n",
    "        print(False)  \n",
    "\n",
    "is_sorted(s)"
   ]
  },
  {
   "cell_type": "code",
   "execution_count": 3,
   "id": "31c6298e-420c-4090-9d16-7ece30404896",
   "metadata": {},
   "outputs": [
    {
     "name": "stdout",
     "output_type": "stream",
     "text": [
      "25\n"
     ]
    }
   ],
   "source": [
    "# Given a list of numbers, write a function to return the sum of all the numbers.\n",
    "\n",
    "\n",
    "def lst(num):\n",
    "    return sum(num)\n",
    "print(lst([23,2]))"
   ]
  },
  {
   "cell_type": "code",
   "execution_count": 4,
   "id": "57bbabd6-d01f-455d-9c28-781b313b3d56",
   "metadata": {},
   "outputs": [
    {
     "name": "stdout",
     "output_type": "stream",
     "text": [
      "Sum of the total numbers in list: 477\n"
     ]
    }
   ],
   "source": [
    "# To add all element of list.\n",
    "\n",
    "lst = [23,12,45,57,76,80,90,54,40]\n",
    "total = 0\n",
    "for i in lst:\n",
    "    total += i\n",
    "print(\"Sum of the total numbers in list:\",total)"
   ]
  },
  {
   "cell_type": "code",
   "execution_count": 10,
   "id": "a7c751e1-80b6-4ba6-8332-dc26fd94c1a1",
   "metadata": {},
   "outputs": [
    {
     "name": "stdin",
     "output_type": "stream",
     "text": [
      "Enter an item to  add in list ('done' If you have finish): 56\n",
      "Enter an item to  add in list ('done' If you have finish): pankaj\n",
      "Enter an item to  add in list ('done' If you have finish): 4.0\n",
      "Enter an item to  add in list ('done' If you have finish): done\n"
     ]
    },
    {
     "name": "stdout",
     "output_type": "stream",
     "text": [
      "Final list: ['56', 'pankaj', '4.0']\n"
     ]
    }
   ],
   "source": [
    "my_list = []\n",
    "lst = \"\"\n",
    "while lst != \"done\":\n",
    "    lst  = input(\"Enter an item to  add in list ('done' If you have finish):\").lower()\n",
    "    if lst != 'done':\n",
    "        my_list.append(lst)\n",
    "\n",
    "print(\"Final list:\",my_list)\n"
   ]
  },
  {
   "cell_type": "code",
   "execution_count": 17,
   "id": "e7b990e1-7760-48d8-a18f-b4a4f5036c7d",
   "metadata": {},
   "outputs": [
    {
     "name": "stdin",
     "output_type": "stream",
     "text": [
      "Enter an item to add (you can add 20 item only or 'done' for finish): 5\n",
      "Enter an item to add (you can add 20 item only or 'done' for finish): 4\n",
      "Enter an item to add (you can add 20 item only or 'done' for finish): 4\n",
      "Enter an item to add (you can add 20 item only or 'done' for finish): 3\n",
      "Enter an item to add (you can add 20 item only or 'done' for finish): done\n"
     ]
    },
    {
     "name": "stdout",
     "output_type": "stream",
     "text": [
      "Final list: ['5', '4', '4', '3']\n"
     ]
    }
   ],
   "source": [
    "my_list = []\n",
    "for user in range(21):\n",
    "    user = input(\"Enter an item to add (you can add 20 item only or 'done' for finish):\")\n",
    "    if user != \"done\":\n",
    "        my_list.append(user)\n",
    "    else:\n",
    "        break\n",
    "\n",
    "print(\"Final list:\",my_list)"
   ]
  },
  {
   "cell_type": "code",
   "execution_count": 1,
   "id": "a4802b01-c88d-47e0-b6a2-97c848945738",
   "metadata": {},
   "outputs": [
    {
     "name": "stdin",
     "output_type": "stream",
     "text": [
      "Item to add ('done' for finish): 34\n",
      "Item to add ('done' for finish): 56\n",
      "Item to add ('done' for finish): 45\n",
      "Item to add ('done' for finish): done\n"
     ]
    },
    {
     "name": "stdout",
     "output_type": "stream",
     "text": [
      "Final list: ['34', '56', '45']\n"
     ]
    }
   ],
   "source": [
    "my_list = []\n",
    "lst = \"\"\n",
    "while lst != \"done\":\n",
    "    lst = input(\"Item to add ('done' for finish):\")\n",
    "    if lst != \"done\":\n",
    "        my_list.append(lst)\n",
    "\n",
    "print(\"Final list:\",my_list)"
   ]
  },
  {
   "cell_type": "code",
   "execution_count": 4,
   "id": "98bc31d6-d3a1-4577-b3bd-a0195e084841",
   "metadata": {},
   "outputs": [
    {
     "name": "stdin",
     "output_type": "stream",
     "text": [
      "Enter the tea want to drink(lemon , milk , mashala): milk\n",
      "Enter the ingredents you want to add in tea: tealeaves,milk,ginger,water\n"
     ]
    },
    {
     "name": "stdout",
     "output_type": "stream",
     "text": [
      "Your milk tea is ready!\n"
     ]
    }
   ],
   "source": [
    "while True:\n",
    "    tea = input(\"Enter the tea want to drink(lemon , milk , mashala):\").lower()\n",
    "    if tea == \"lemon\":\n",
    "        ingredents = input(\"Enter the ingredents you want to add in tea:\")\n",
    "        if ingredents == \"tealeaves,boiledwater,lemon\":\n",
    "            print(\"Your lemon tea is ready!\")\n",
    "        else:\n",
    "            print(\"Your ingredents are not available.\")\n",
    "    elif tea == \"milk\":\n",
    "        ingredents = input(\"Enter the ingredents you want to add in tea:\").lower()\n",
    "        if ingredents == \"tealeaves,milk,ginger,water\":\n",
    "            print(\"Your milk tea is ready!\")\n",
    "        else:\n",
    "            print(\"Your ingredents are not available.\")\n",
    "    elif tea == \"mashala\":\n",
    "        ingredents = input(\"Enter the ingredents you want to add in tea:\").lower()\n",
    "        if ingredents == \"tealeaves,water,milk,ginger,teamashala\":\n",
    "            print(\"Your mashala tea is ready!\")\n",
    "        else:\n",
    "            print(\"Your ingredents are not available.\")\n",
    "    else:\n",
    "        print(\"Tea is not available!\")\n",
    "    break"
   ]
  },
  {
   "cell_type": "code",
   "execution_count": null,
   "id": "298c720b-2d6d-4e75-acdc-24aec110449b",
   "metadata": {},
   "outputs": [],
   "source": []
  },
  {
   "cell_type": "code",
   "execution_count": 1,
   "id": "637f62de-59c0-42ff-bae5-6f11f7334b77",
   "metadata": {},
   "outputs": [
    {
     "name": "stdin",
     "output_type": "stream",
     "text": [
      "Enter the tea want to drink(lemon , milk , mashala): milk\n",
      "Enter the ingredents you want to add in tea('done' for finish): water\n",
      "Enter the ingredents you want to add in tea('done' for finish): milk\n",
      "Enter the ingredents you want to add in tea('done' for finish): done\n"
     ]
    },
    {
     "name": "stdout",
     "output_type": "stream",
     "text": [
      "Your ingredents are not available.\n"
     ]
    }
   ],
   "source": [
    "while True:\n",
    "    tea = input(\"Enter the tea want to drink(lemon , milk , mashala):\").lower()\n",
    "    if tea == \"lemon\":\n",
    "        ingredent_list = []\n",
    "        for ingredents in range(11):\n",
    "            ingredents = input(\"Enter the ingredents you want to add in tea('done' for finish):\").lower()\n",
    "            if ingredents != \"done\": \n",
    "                ingredent_list.append(ingredents)\n",
    "            else:\n",
    "                break\n",
    "        if \"tealeaves\" in ingredent_list and  \"boiledwater\" in ingredent_list and \"lemon\" in ingredent_list:\n",
    "            print(\"Your lemon tea is ready!\")\n",
    "        else:\n",
    "            print(\"Your ingredents are not available.\")\n",
    "    elif tea == \"milk\":\n",
    "        ingredent_list = []\n",
    "        for ingredents in range(11):\n",
    "            ingredents = input(\"Enter the ingredents you want to add in tea('done' for finish):\").lower()\n",
    "            if ingredents != \"done\": \n",
    "                ingredent_list.append(ingredents)\n",
    "            else:\n",
    "                break\n",
    "        if \"tealeaves\" in ingredent_list and \"water\" in ingredent_list and \"milk\" in ingredent_list and \"ginger\" in ingredent_list:\n",
    "            print(\"Your milk tea is ready!\")\n",
    "        else:\n",
    "            print(\"Your ingredents are not available.\")\n",
    "    elif tea == \"mashala\":\n",
    "        ingredent_list = []\n",
    "        for ingredents in range(11):\n",
    "            ingredents = input(\"Enter the ingredents you want to add in tea('done' for finish):\").lower()\n",
    "            if ingredents != \"done\": \n",
    "                ingredent_list.append(ingredents)\n",
    "            else:\n",
    "                break\n",
    "        if \"tealeaves\" in ingredent_list and \"water\" in ingredent_list and \"milk\" in ingredent_list and \"ginger\" in ingredent_list and \"teamashala\" in ingredent_list:\n",
    "            print(\"Your milk tea is ready!\")\n",
    "        else:\n",
    "            print(\"Your ingredents are not available.\")\n",
    "    else:\n",
    "        print(\"Tea is not available!\")\n",
    "    break"
   ]
  },
  {
   "cell_type": "code",
   "execution_count": 2,
   "id": "e77106dd-4cff-4072-83bf-523d5562aa22",
   "metadata": {},
   "outputs": [
    {
     "data": {
      "text/plain": [
       "['h', 'llo world']"
      ]
     },
     "execution_count": 2,
     "metadata": {},
     "output_type": "execute_result"
    }
   ],
   "source": [
    "a = 'hello world'\n",
    "a.split(\"e\")"
   ]
  },
  {
   "cell_type": "code",
   "execution_count": 5,
   "id": "6f79f8bd-203b-465c-9d87-4d7bd4dc6964",
   "metadata": {},
   "outputs": [
    {
     "name": "stdin",
     "output_type": "stream",
     "text": [
      "Enter name: agaadsg\n",
      "Enter password in numbers: 233\n"
     ]
    },
    {
     "name": "stdout",
     "output_type": "stream",
     "text": [
      "Wrong password!\n"
     ]
    },
    {
     "name": "stdin",
     "output_type": "stream",
     "text": [
      "Enter name again: agsafg\n",
      "Enter password again: 242\n"
     ]
    },
    {
     "name": "stdout",
     "output_type": "stream",
     "text": [
      "Wrong password and username! Try again!\n"
     ]
    },
    {
     "name": "stdin",
     "output_type": "stream",
     "text": [
      "Enter name again: asdgfsa\n",
      "Enter password again: 342\n"
     ]
    },
    {
     "name": "stdout",
     "output_type": "stream",
     "text": [
      "Wrong password and username! Try again!\n"
     ]
    },
    {
     "name": "stdin",
     "output_type": "stream",
     "text": [
      "Enter name again: pankaj\n",
      "Enter password again: 1234\n"
     ]
    },
    {
     "name": "stdout",
     "output_type": "stream",
     "text": [
      "You have login successfully!\n"
     ]
    }
   ],
   "source": [
    "name = input(\"Enter name:\")\n",
    "password = int(input(\"Enter password in numbers:\"))\n",
    "if name == \"pankaj\" and password == 1234:\n",
    "    print(\"You have login successfully!\")\n",
    "else:\n",
    "    print(\"Wrong password!\")\n",
    "    for n in range(3): \n",
    "        name = input(\"Enter name again:\")\n",
    "        password = int(input(\"Enter password again:\"))\n",
    "        if name == \"pankaj\" and password == 1234:\n",
    "            print(\"You have login successfully!\")\n",
    "            break\n",
    "        else:\n",
    "            print(\"Wrong password and username! Try again!\")\n",
    "          "
   ]
  },
  {
   "cell_type": "code",
   "execution_count": 16,
   "id": "83420b28-bcd3-4a04-97e3-dfbc2fb52266",
   "metadata": {},
   "outputs": [
    {
     "name": "stdout",
     "output_type": "stream",
     "text": [
      "     *\n",
      "    ***\n",
      "   *****\n",
      "  *******\n",
      " *********\n",
      "***********\n"
     ]
    }
   ],
   "source": [
    "\n",
    "a = 1\n",
    "while a <= 6:\n",
    "    print(\" \"*(6-a),end=\"\")\n",
    "    print((a*2-1)*\"*\")\n",
    "    a += 1"
   ]
  },
  {
   "cell_type": "code",
   "execution_count": 5,
   "id": "05c8e453-b92d-4e75-8eb7-d783e97c02ac",
   "metadata": {},
   "outputs": [
    {
     "name": "stdout",
     "output_type": "stream",
     "text": [
      "     *\n",
      "    ***\n",
      "   *****\n",
      "  *******\n",
      " *********\n"
     ]
    }
   ],
   "source": [
    "for i in range(1,6):\n",
    "    print(\" \"*(6-i),end=\"\")\n",
    "    print((2*i-1)*\"*\")"
   ]
  },
  {
   "cell_type": "code",
   "execution_count": 19,
   "id": "77cccc7d-5db3-46de-895f-08d5ef90b792",
   "metadata": {},
   "outputs": [
    {
     "name": "stdout",
     "output_type": "stream",
     "text": [
      "92\n"
     ]
    }
   ],
   "source": [
    "# Program to add all elemnt to list.\n",
    "\n",
    "list1 = [23,12,34,23]\n",
    "total = 0\n",
    "for i in list1:\n",
    "    total += i\n",
    "print(total)"
   ]
  },
  {
   "cell_type": "code",
   "execution_count": 43,
   "id": "7ecdd2d3-8e08-4ecb-9076-ea5075efcc6c",
   "metadata": {},
   "outputs": [
    {
     "name": "stdin",
     "output_type": "stream",
     "text": [
      "Enter the elemnt ('done'for finish): sdfh\n",
      "Enter the elemnt ('done'for finish): sdfg\n",
      "Enter the elemnt ('done'for finish): sfdhg\n",
      "Enter the elemnt ('done'for finish): done\n"
     ]
    },
    {
     "name": "stdout",
     "output_type": "stream",
     "text": [
      "Final list: ['sdfh', 'sdfg', 'sfdhg']\n"
     ]
    }
   ],
   "source": [
    "my_list = []\n",
    "user = \"\"\n",
    "while True:\n",
    "    user = input(\"Enter the elemnt ('done'for finish):\")\n",
    "    if user != \"done\":\n",
    "        my_list.append(user)\n",
    "    elif user == \"done\":\n",
    "        break\n",
    "print(\"Final list:\",my_list)"
   ]
  },
  {
   "cell_type": "code",
   "execution_count": 3,
   "id": "ef7688f4-cf16-45a9-8db5-bfe0c9c0d82b",
   "metadata": {},
   "outputs": [],
   "source": [
    "rows = 1\n",
    "i = 5\n",
    "while i <= rows:\n",
    "    print(i)\n",
    "    i -= 1"
   ]
  },
  {
   "cell_type": "markdown",
   "id": "7516c1de-6803-4cb1-9c86-5ac6e9bcadc3",
   "metadata": {},
   "source": [
    " "
   ]
  },
  {
   "cell_type": "code",
   "execution_count": 4,
   "id": "ac4e5499-bd15-475d-8c34-1d3b2d8b0025",
   "metadata": {},
   "outputs": [
    {
     "name": "stdout",
     "output_type": "stream",
     "text": [
      "21\n",
      "720\n"
     ]
    }
   ],
   "source": [
    "import functools\n",
    "import operator\n",
    "a = [1,2,3,4,5,6]\n",
    "\n",
    "print(functools.reduce(operator.add, a))\n",
    "print(functools.reduce(operator.mul, a))\n"
   ]
  },
  {
   "cell_type": "code",
   "execution_count": 11,
   "id": "65af0f64-cac1-428f-a816-c0b0bef09bdf",
   "metadata": {},
   "outputs": [
    {
     "name": "stdout",
     "output_type": "stream",
     "text": [
      "VIJAI IN ROBOTICS\n"
     ]
    }
   ],
   "source": [
    "s = \"vijAI in Robotics\"\n",
    "res = lambda x : x.upper()\n",
    "print(res(s))"
   ]
  },
  {
   "cell_type": "code",
   "execution_count": 21,
   "id": "c01194a1-7733-4a3a-aefe-d8ae39a8b112",
   "metadata": {},
   "outputs": [
    {
     "ename": "TypeError",
     "evalue": "'str' object is not callable",
     "output_type": "error",
     "traceback": [
      "\u001b[1;31m---------------------------------------------------------------------------\u001b[0m",
      "\u001b[1;31mTypeError\u001b[0m                                 Traceback (most recent call last)",
      "Cell \u001b[1;32mIn[21], line 3\u001b[0m\n\u001b[0;32m      1\u001b[0m s \u001b[38;5;241m=\u001b[39m \u001b[38;5;124m\"\u001b[39m\u001b[38;5;124mvijAI in robotics\u001b[39m\u001b[38;5;124m\"\u001b[39m\n\u001b[0;32m      2\u001b[0m res \u001b[38;5;241m=\u001b[39m \u001b[38;5;28;01mlambda\u001b[39;00m x : x\u001b[38;5;241m.\u001b[39mupper() , s\n\u001b[1;32m----> 3\u001b[0m \u001b[38;5;28mprint\u001b[39m(s())\n",
      "\u001b[1;31mTypeError\u001b[0m: 'str' object is not callable"
     ]
    }
   ],
   "source": [
    "s = \"vijAI in robotics\"\n",
    "res = lambda x : x.upper() , s\n",
    "print(s())"
   ]
  },
  {
   "cell_type": "code",
   "execution_count": null,
   "id": "0f14745a-74c7-4daf-91e8-6b21febd1bf2",
   "metadata": {},
   "outputs": [],
   "source": []
  },
  {
   "cell_type": "code",
   "execution_count": null,
   "id": "d39dd436-3261-466b-8302-fd4c78d3c6fa",
   "metadata": {},
   "outputs": [],
   "source": []
  },
  {
   "cell_type": "code",
   "execution_count": null,
   "id": "ce597ec8-0acf-4d92-bb69-2be7e702e85b",
   "metadata": {},
   "outputs": [],
   "source": []
  },
  {
   "cell_type": "code",
   "execution_count": 14,
   "id": "e9df9204-2a9c-4d06-a415-9c288e3a04e0",
   "metadata": {},
   "outputs": [
    {
     "name": "stdout",
     "output_type": "stream",
     "text": [
      "Positive\n",
      "Zero\n",
      "Negative\n"
     ]
    }
   ],
   "source": [
    "n = lambda x :\"Positive\" if x > 0 else \"Negative\" if x < 0 else \"Zero\"\n",
    "print(n(9))\n",
    "print(n(0))\n",
    "print(n(-2))"
   ]
  },
  {
   "cell_type": "code",
   "execution_count": 17,
   "id": "e1d0d751-46bb-4ce8-9b93-5ae181208ac5",
   "metadata": {},
   "outputs": [
    {
     "name": "stdout",
     "output_type": "stream",
     "text": [
      "Even\n",
      "Even\n",
      "Odd\n"
     ]
    }
   ],
   "source": [
    "num = lambda x: \"Even\" if x % 2 == 0 else \"Odd\"\n",
    "print(num(4))\n",
    "print(num(0))\n",
    "print(num(1))"
   ]
  },
  {
   "cell_type": "code",
   "execution_count": 19,
   "id": "24d2e492-1e21-4cc2-bc70-9c2c15ae6dff",
   "metadata": {},
   "outputs": [
    {
     "name": "stdout",
     "output_type": "stream",
     "text": [
      "10\n",
      "20\n",
      "30\n",
      "40\n"
     ]
    }
   ],
   "source": [
    "li = [lambda arg = x: arg * 10 for x in range(1,5)]\n",
    "for i in li:\n",
    "    print(i())"
   ]
  },
  {
   "cell_type": "code",
   "execution_count": 24,
   "id": "17795ad9-655a-47cd-b7d7-81eca09c27fc",
   "metadata": {
    "scrolled": true
   },
   "outputs": [
    {
     "name": "stdout",
     "output_type": "stream",
     "text": [
      "(12, 20)\n"
     ]
    }
   ],
   "source": [
    "calc = lambda x, y: (x + y, x * y)\n",
    "res = calc(2, 10)\n",
    "print(res)"
   ]
  },
  {
   "cell_type": "code",
   "execution_count": 30,
   "id": "743509b2-6af5-4918-b3a1-e17d8967d834",
   "metadata": {
    "scrolled": true
   },
   "outputs": [
    {
     "name": "stdout",
     "output_type": "stream",
     "text": [
      "[2, 4, 6]\n"
     ]
    }
   ],
   "source": [
    "n = [1,2,3,4,5,6]\n",
    "res = filter(lambda x: x % 2 == 0, n)\n",
    "print(list(res))"
   ]
  },
  {
   "cell_type": "code",
   "execution_count": 33,
   "id": "ea513545-b573-48db-9c7a-73e1d41fd0d5",
   "metadata": {},
   "outputs": [
    {
     "name": "stdout",
     "output_type": "stream",
     "text": [
      "9\n",
      "9\n"
     ]
    }
   ],
   "source": [
    "def calc(n):\n",
    "    return n ** 2\n",
    "\n",
    "print(calc(3))\n",
    "\n",
    "\n",
    "\n",
    "n = lambda x : x **2\n",
    "print(n(3))"
   ]
  },
  {
   "cell_type": "code",
   "execution_count": 1,
   "id": "43f29f09-5135-475f-b47f-2a9e822de584",
   "metadata": {
    "scrolled": true
   },
   "outputs": [
    {
     "name": "stdout",
     "output_type": "stream",
     "text": [
      "1 is not a prime number\n",
      "2 is a prime number\n",
      "3 is a prime number\n",
      "4 is not a prime number\n",
      "5 is a prime number\n",
      "6 is not a prime number\n",
      "7 is a prime number\n",
      "8 is not a prime number\n",
      "9 is not a prime number\n",
      "10 is not a prime number\n",
      "11 is a prime number\n",
      "12 is not a prime number\n",
      "13 is a prime number\n",
      "14 is not a prime number\n",
      "15 is not a prime number\n",
      "16 is not a prime number\n",
      "17 is a prime number\n",
      "18 is not a prime number\n",
      "19 is a prime number\n",
      "20 is not a prime number\n"
     ]
    }
   ],
   "source": [
    "# Function to check if a number is prime\n",
    "def is_prime(n):\n",
    "    if n <= 1:\n",
    "        return False\n",
    "    for i in range(2, int(n ** 0.5) + 1):  # Check divisibility up to the square root of the number\n",
    "        if n % i == 0:\n",
    "            return False\n",
    "    return True\n",
    "\n",
    "# Test the function with a few values\n",
    "for num in range(1, 21):\n",
    "    if is_prime(num):\n",
    "        print(f\"{num} is a prime number\")\n",
    "    else:\n",
    "        print(f\"{num} is not a prime number\")"
   ]
  },
  {
   "cell_type": "code",
   "execution_count": 2,
   "id": "0a9d41d3-3050-47f3-950d-601c9a2fafdc",
   "metadata": {},
   "outputs": [
    {
     "name": "stdout",
     "output_type": "stream",
     "text": [
      "1 is not prime number.\n",
      "2 is prime number.\n",
      "3 is prime number.\n",
      "4 is not prime number.\n",
      "5 is prime number.\n",
      "6 is not prime number.\n",
      "7 is prime number.\n",
      "8 is not prime number.\n",
      "9 is not prime number.\n",
      "10 is not prime number.\n",
      "11 is prime number.\n",
      "12 is not prime number.\n",
      "13 is prime number.\n",
      "14 is not prime number.\n",
      "15 is not prime number.\n",
      "16 is not prime number.\n",
      "17 is prime number.\n",
      "18 is not prime number.\n",
      "19 is prime number.\n",
      "20 is not prime number.\n"
     ]
    }
   ],
   "source": [
    "def is_prime(n):\n",
    "    if n <= 1:\n",
    "        return False\n",
    "    for i in range(2,int(n ** 0.5) + 1):\n",
    "        if n % i == 0:\n",
    "            return False\n",
    "    return True\n",
    "\n",
    "for n in range(1,21):\n",
    "    if is_prime(n):\n",
    "        print(f\"{n} is prime number.\")\n",
    "    else:\n",
    "        print(f\"{n} is not prime number.\")"
   ]
  },
  {
   "cell_type": "code",
   "execution_count": 19,
   "id": "ae95ae48-f87d-4ef3-997a-a093f6dc4976",
   "metadata": {},
   "outputs": [
    {
     "name": "stdout",
     "output_type": "stream",
     "text": [
      "3\n"
     ]
    }
   ],
   "source": [
    "a = 3.5\n",
    "b = int(a)\n",
    "print(b)"
   ]
  },
  {
   "cell_type": "code",
   "execution_count": 8,
   "id": "14930800-21a2-454b-a3e9-63ba07af16cb",
   "metadata": {},
   "outputs": [
    {
     "name": "stdout",
     "output_type": "stream",
     "text": [
      "Recursice Fibonacci.\n",
      "0 1 1 2 3 5 8 13 21 34 "
     ]
    }
   ],
   "source": [
    "def fibonacci_recursive(n):\n",
    "    if n <= 1:\n",
    "        return n\n",
    "    return fibonacci_recursive(n - 1) + fibonacci_recursive(n - 2)\n",
    "\n",
    "\n",
    "def fibonacci_loop(n):\n",
    "    f = [0, 1]\n",
    "    for i in range(2,n):\n",
    "        next_value = fibonacci_loop(n -1) + fibonacci_loop(n - 2)\n",
    "        f.append(next_value)\n",
    "    return f\n",
    "\n",
    "\n",
    "n = 10\n",
    "print(\"Recursice Fibonacci.\")\n",
    "for i in range(n):\n",
    "    print(fibonacci_recursive(i), end = \" \")"
   ]
  },
  {
   "cell_type": "code",
   "execution_count": 5,
   "id": "4646105d-a0e5-4167-bf1a-c6a545876ac3",
   "metadata": {},
   "outputs": [
    {
     "name": "stdout",
     "output_type": "stream",
     "text": [
      "Recursive Fibonacci:\n",
      "0 1 1 2 3 5 8 13 21 34 55 89 \n",
      "\n",
      "Loop Fibonacci:\n",
      "[0, 1, 1, 2, 3, 5, 8, 13, 21, 34, 55, 89]\n"
     ]
    }
   ],
   "source": [
    "# Function to generate Fibonacci numbers using recursion\n",
    "def fibonacci_recursive(n):\n",
    "    if n <= 1:\n",
    "        return n\n",
    "    return fibonacci_recursive(n - 1) + fibonacci_recursive(n - 2)\n",
    "\n",
    "# Function to generate Fibonacci numbers using loops (efficient)\n",
    "def fibonacci_loop(n):\n",
    "    fib_sequence = [0, 1]  # Initialize first two Fibonacci numbers\n",
    "    for i in range(2, n):\n",
    "        next_value = fib_sequence[i - 1] + fib_sequence[i - 2]\n",
    "        fib_sequence.append(next_value)\n",
    "    return fib_sequence\n",
    "\n",
    "# Generate the first 10 Fibonacci numbers\n",
    "n = 12\n",
    "print(\"Recursive Fibonacci:\")\n",
    "for i in range(n):\n",
    "    print(fibonacci_recursive(i), end=\" \")\n",
    "\n",
    "print(\"\\n\\nLoop Fibonacci:\")\n",
    "print(fibonacci_loop(n))"
   ]
  },
  {
   "cell_type": "code",
   "execution_count": 7,
   "id": "38d6342c-9a5f-4fd6-a9de-304e8a357309",
   "metadata": {},
   "outputs": [
    {
     "name": "stdout",
     "output_type": "stream",
     "text": [
      "Fibonacci recursive.\n",
      "0 1 1 2 3 5 8 13 21 34 55 89 \n",
      "\n",
      "Fibonacci loop \n",
      "[0, 1, 1, 2, 3, 5, 8, 13, 21, 34, 55, 89]\n"
     ]
    }
   ],
   "source": [
    "def fib_rec(n):\n",
    "    if n <= 1:\n",
    "        return n\n",
    "    return fib_rec(n - 1) + fib_rec(n - 2)\n",
    "\n",
    "def fib(n):\n",
    "    fib_seq = [0 , 1]\n",
    "    for i in range(2 , n):\n",
    "        next_value = fib_seq[i - 1] + fib_seq[i - 2]\n",
    "        fib_seq.append(next_value)\n",
    "    return fib_seq\n",
    "\n",
    "n = 12\n",
    "print(\"Fibonacci recursive.\")\n",
    "for i in range(n):\n",
    "    print(fib_rec(i),end= \" \")\n",
    "\n",
    "print(\"\\n\\nFibonacci loop \")\n",
    "print(fib(n))\n",
    "        "
   ]
  },
  {
   "cell_type": "code",
   "execution_count": 4,
   "id": "e86e170d-b83c-4c7e-b121-799be117b7ac",
   "metadata": {},
   "outputs": [
    {
     "name": "stdout",
     "output_type": "stream",
     "text": [
      "\n",
      "Basic Calculator\n",
      "Select Operartion\n",
      "1. Add\n",
      "2. Subrtact\n",
      "3. Multiply\n",
      "4. Divide\n",
      "5. Exit\n"
     ]
    },
    {
     "name": "stdin",
     "output_type": "stream",
     "text": [
      "Enter your choice(1,2,3,4,5) 4\n",
      "Enter the first number: f\n"
     ]
    },
    {
     "name": "stdout",
     "output_type": "stream",
     "text": [
      "Invalid input. Plss enter input again.\n",
      "\n",
      "Basic Calculator\n",
      "Select Operartion\n",
      "1. Add\n",
      "2. Subrtact\n",
      "3. Multiply\n",
      "4. Divide\n",
      "5. Exit\n"
     ]
    },
    {
     "name": "stdin",
     "output_type": "stream",
     "text": [
      "Enter your choice(1,2,3,4,5) f\n"
     ]
    },
    {
     "name": "stdout",
     "output_type": "stream",
     "text": [
      "Invalid choice. Pls select a valid option.\n"
     ]
    },
    {
     "name": "stdin",
     "output_type": "stream",
     "text": [
      "Enter the first number: f\n"
     ]
    },
    {
     "name": "stdout",
     "output_type": "stream",
     "text": [
      "Invalid input. Plss enter input again.\n",
      "\n",
      "Basic Calculator\n",
      "Select Operartion\n",
      "1. Add\n",
      "2. Subrtact\n",
      "3. Multiply\n",
      "4. Divide\n",
      "5. Exit\n"
     ]
    },
    {
     "name": "stdin",
     "output_type": "stream",
     "text": [
      "Enter your choice(1,2,3,4,5) f\n"
     ]
    },
    {
     "name": "stdout",
     "output_type": "stream",
     "text": [
      "Invalid choice. Pls select a valid option.\n"
     ]
    },
    {
     "name": "stdin",
     "output_type": "stream",
     "text": [
      "Enter the first number: f\n"
     ]
    },
    {
     "name": "stdout",
     "output_type": "stream",
     "text": [
      "Invalid input. Plss enter input again.\n",
      "\n",
      "Basic Calculator\n",
      "Select Operartion\n",
      "1. Add\n",
      "2. Subrtact\n",
      "3. Multiply\n",
      "4. Divide\n",
      "5. Exit\n"
     ]
    },
    {
     "name": "stdin",
     "output_type": "stream",
     "text": [
      "Enter your choice(1,2,3,4,5) f\n"
     ]
    },
    {
     "name": "stdout",
     "output_type": "stream",
     "text": [
      "Invalid choice. Pls select a valid option.\n"
     ]
    },
    {
     "name": "stdin",
     "output_type": "stream",
     "text": [
      "Enter the first number: f\n"
     ]
    },
    {
     "name": "stdout",
     "output_type": "stream",
     "text": [
      "Invalid input. Plss enter input again.\n",
      "\n",
      "Basic Calculator\n",
      "Select Operartion\n",
      "1. Add\n",
      "2. Subrtact\n",
      "3. Multiply\n",
      "4. Divide\n",
      "5. Exit\n"
     ]
    },
    {
     "name": "stdin",
     "output_type": "stream",
     "text": [
      "Enter your choice(1,2,3,4,5) f\n"
     ]
    },
    {
     "name": "stdout",
     "output_type": "stream",
     "text": [
      "Invalid choice. Pls select a valid option.\n"
     ]
    },
    {
     "name": "stdin",
     "output_type": "stream",
     "text": [
      "Enter the first number: f\n"
     ]
    },
    {
     "name": "stdout",
     "output_type": "stream",
     "text": [
      "Invalid input. Plss enter input again.\n",
      "\n",
      "Basic Calculator\n",
      "Select Operartion\n",
      "1. Add\n",
      "2. Subrtact\n",
      "3. Multiply\n",
      "4. Divide\n",
      "5. Exit\n"
     ]
    },
    {
     "name": "stdin",
     "output_type": "stream",
     "text": [
      "Enter your choice(1,2,3,4,5) 5\n"
     ]
    },
    {
     "name": "stdout",
     "output_type": "stream",
     "text": [
      "Exit the calculator. Goodbye!\n"
     ]
    }
   ],
   "source": [
    "def add(x,y):\n",
    "    return x + y\n",
    "def sub(x,y):\n",
    "    return x - y\n",
    "def mul(x,y):\n",
    "    return x * y\n",
    "def div(x,y):\n",
    "    if y != 0:\n",
    "        return x / y\n",
    "    else:\n",
    "        print(\"Cannot devide by zero!\")\n",
    "def display_menu():\n",
    "    print(\"\\nBasic Calculator\")\n",
    "    print(\"Select Operartion\")\n",
    "    print(\"1. Add\")\n",
    "    print(\"2. Subrtact\")\n",
    "    print(\"3. Multiply\")\n",
    "    print(\"4. Divide\")\n",
    "    print(\"5. Exit\")\n",
    "    return input(\"Enter your choice(1,2,3,4,5)\")\n",
    "\n",
    "def calculator():\n",
    "    while True:\n",
    "        choice = display_menu()\n",
    "        if choice == \"5\":\n",
    "            print(\"Exit the calculator. Goodbye!\")\n",
    "            break\n",
    "\n",
    "        if choice not in ['1','2','3','4','5']:\n",
    "            print(\"Invalid choice. Pls select a valid option.\")\n",
    "\n",
    "        try:\n",
    "            num1 = float(input(\"Enter the first number:\"))\n",
    "            num2 = float(input(\"ENter the second number:\"))\n",
    "        except ValueError:\n",
    "            print(\"Invalid input. Plss enter input again.\")\n",
    "            continue\n",
    "\n",
    "        try:\n",
    "            if choice == \"1\":\n",
    "                result = add(num1,num2)\n",
    "                print(f\"The result of {num1} + {num2} = {result}\")\n",
    "            elif choice == \"2\":\n",
    "                result  = sub(num1,num2)\n",
    "                print(f\"The result of {num1} - {num2} = {result}\")\n",
    "            elif choice == \"3\":\n",
    "                result = mul(num1,num2)\n",
    "                print(f\"The result of {num1} * {num2} = {result}\")\n",
    "            elif choice == \"4\":\n",
    "                result = div(num1,num2)\n",
    "                print(f\"The result of {num1} / {num2} = {result}\")\n",
    "        except ValueError as e:\n",
    "            print(e)\n",
    "\n",
    "calculator()\n",
    "            "
   ]
  },
  {
   "cell_type": "code",
   "execution_count": 17,
   "id": "af960e5c-092c-4c69-82a1-8bcb51a6f86c",
   "metadata": {},
   "outputs": [
    {
     "name": "stdin",
     "output_type": "stream",
     "text": [
      "Enter the number t\n"
     ]
    },
    {
     "name": "stdout",
     "output_type": "stream",
     "text": [
      "Sorry error is occured\n",
      "Hello world\n"
     ]
    }
   ],
   "source": [
    "a = input(\"Enter the number\")\n",
    "try:\n",
    "    for i in range(1,11):\n",
    "        print(f\"{a} * {i} = {int(a)*i}\")\n",
    "except Exception as e:\n",
    "    print(\"Sorry error is occured\")\n",
    "print(\"Hello world\")"
   ]
  },
  {
   "cell_type": "code",
   "execution_count": null,
   "id": "1ab8cfe0-bc1c-4263-aa87-350d8b3abafd",
   "metadata": {},
   "outputs": [],
   "source": []
  },
  {
   "cell_type": "code",
   "execution_count": 16,
   "id": "3ad6c3c1-bc40-4fa5-921a-43d6b75aff73",
   "metadata": {},
   "outputs": [
    {
     "name": "stdin",
     "output_type": "stream",
     "text": [
      "Enter the number: 65\n"
     ]
    },
    {
     "name": "stdout",
     "output_type": "stream",
     "text": [
      "Too High!\n"
     ]
    },
    {
     "name": "stdin",
     "output_type": "stream",
     "text": [
      "Enter the number: 50\n"
     ]
    },
    {
     "name": "stdout",
     "output_type": "stream",
     "text": [
      "Too High!\n"
     ]
    },
    {
     "name": "stdin",
     "output_type": "stream",
     "text": [
      "Enter the number: 40\n"
     ]
    },
    {
     "name": "stdout",
     "output_type": "stream",
     "text": [
      "Too High!\n"
     ]
    },
    {
     "name": "stdin",
     "output_type": "stream",
     "text": [
      "Enter the number: 30\n"
     ]
    },
    {
     "name": "stdout",
     "output_type": "stream",
     "text": [
      "Too High!\n"
     ]
    },
    {
     "name": "stdin",
     "output_type": "stream",
     "text": [
      "Enter the number: 20\n"
     ]
    },
    {
     "name": "stdout",
     "output_type": "stream",
     "text": [
      "Too Low\n"
     ]
    },
    {
     "name": "stdin",
     "output_type": "stream",
     "text": [
      "Enter the number: 27\n"
     ]
    },
    {
     "name": "stdout",
     "output_type": "stream",
     "text": [
      "Too Low\n"
     ]
    },
    {
     "name": "stdin",
     "output_type": "stream",
     "text": [
      "Enter the number: 29\n"
     ]
    },
    {
     "name": "stdout",
     "output_type": "stream",
     "text": [
      "Too High!\n"
     ]
    },
    {
     "name": "stdin",
     "output_type": "stream",
     "text": [
      "Enter the number: 28\n"
     ]
    },
    {
     "name": "stdout",
     "output_type": "stream",
     "text": [
      "Congratulation you have guessed the number, in 8 attempts. \n"
     ]
    }
   ],
   "source": [
    "import random\n",
    "\n",
    "def guess_game():\n",
    "    number = random.randint(1,100)\n",
    "    attempts = 0\n",
    "\n",
    "    while True:\n",
    "        n = int(input(\"Enter the number:\"))\n",
    "        attempts += 1\n",
    "        if n < number:\n",
    "            print(\"Too Low\")\n",
    "        elif n > number:\n",
    "            print(\"Too High!\")\n",
    "        else:\n",
    "            print(f\"Congratulation you have guessed the number, in {attempts} attempts. \")\n",
    "            break\n",
    "\n",
    "guess_game()"
   ]
  },
  {
   "cell_type": "code",
   "execution_count": 18,
   "id": "3d8c4909-6329-4fa5-acb6-79d3e2aabcf2",
   "metadata": {},
   "outputs": [
    {
     "name": "stdout",
     "output_type": "stream",
     "text": [
      "30\n",
      "{(1, 2, 4): 8, (4, 2, 1): 10, (1, 2): 12}\n"
     ]
    }
   ],
   "source": [
    "my_dict = {}\n",
    "my_dict[(1,2,4)] = 8\n",
    "my_dict[(4,2,1)] = 10\n",
    "my_dict[(1,2)] = 12\n",
    "sum = 0\n",
    "for k in my_dict:\n",
    "    sum += my_dict[k]\n",
    "print(sum)\n",
    "print(my_dict)"
   ]
  },
  {
   "cell_type": "code",
   "execution_count": 21,
   "id": "4f6e26f8-7bb9-41bc-9650-85b880c73caf",
   "metadata": {},
   "outputs": [
    {
     "name": "stdout",
     "output_type": "stream",
     "text": [
      "dict_items([('name', 'pankaj'), ('age', 27), ('address', 'Delhi')])\n"
     ]
    }
   ],
   "source": [
    "my = {'name':'pankaj','age':26}\n",
    "my[\"age\"] = 27\n",
    "my['address'] = \"Delhi\"\n",
    "print(my.items())"
   ]
  },
  {
   "cell_type": "code",
   "execution_count": 22,
   "id": "fb2650e8-ce2e-4137-b4c2-cef699b7aa63",
   "metadata": {},
   "outputs": [
    {
     "name": "stdout",
     "output_type": "stream",
     "text": [
      "True\n"
     ]
    }
   ],
   "source": [
    "tuple_a = 'a' , 'b'\n",
    "tuple_b = ('a' , 'b')\n",
    "print(tuple_a == tuple_b)"
   ]
  },
  {
   "cell_type": "code",
   "execution_count": 1,
   "id": "854af611-3f9d-4f5b-bf85-ed78f28e0b57",
   "metadata": {},
   "outputs": [
    {
     "name": "stdout",
     "output_type": "stream",
     "text": [
      "1 is not a prime number\n",
      "2 is a prime number\n",
      "3 is a prime number\n",
      "4 is not a prime number\n",
      "5 is a prime number\n",
      "6 is not a prime number\n",
      "7 is a prime number\n",
      "8 is not a prime number\n",
      "9 is not a prime number\n",
      "10 is not a prime number\n",
      "11 is a prime number\n",
      "12 is not a prime number\n",
      "13 is a prime number\n",
      "14 is not a prime number\n",
      "15 is not a prime number\n",
      "16 is not a prime number\n",
      "17 is a prime number\n",
      "18 is not a prime number\n",
      "19 is a prime number\n",
      "20 is not a prime number\n"
     ]
    }
   ],
   "source": [
    "# Function to check if a number is prime\n",
    "def is_prime(n):\n",
    "    if n <= 1:\n",
    "        return False\n",
    "    for i in range(2, int(n ** 0.5) + 1):  # Check divisibility up to the square root of the number\n",
    "        if n % i == 0:\n",
    "            return False\n",
    "    return True\n",
    "\n",
    "# Test the function with a few values\n",
    "for num in range(1, 21):\n",
    "    if is_prime(num):\n",
    "        print(f\"{num} is a prime number\")\n",
    "    else:\n",
    "        print(f\"{num} is not a prime number\")\n"
   ]
  },
  {
   "cell_type": "code",
   "execution_count": 5,
   "id": "e34e26f4-ae0d-406d-be20-add0988f424d",
   "metadata": {},
   "outputs": [
    {
     "name": "stdout",
     "output_type": "stream",
     "text": [
      "2 is greter than 1.\n",
      "3 is greter than 1.\n",
      "4 is greter than 1.\n",
      "5 is greter than 1.\n",
      "6 is greter than 1.\n",
      "7 is greter than 1.\n",
      "8 is greter than 1.\n",
      "9 is greter than 1.\n",
      "10 is greter than 1.\n",
      "11 is greter than 1.\n",
      "12 is greter than 1.\n",
      "13 is greter than 1.\n",
      "14 is greter than 1.\n"
     ]
    }
   ],
   "source": [
    "def abc(n):\n",
    "    if n == 0:\n",
    "        return False\n",
    "    else:\n",
    "        return True\n",
    "for i in range(2, 15):\n",
    "    if abc(i):\n",
    "        print(f\"{i} is greter than 1.\")\n",
    "\n",
    "    else:\n",
    "        print(f\"{i} is 0.\")\n"
   ]
  },
  {
   "cell_type": "code",
   "execution_count": 8,
   "id": "03f6cbca-673d-487c-8497-5a8df7309a66",
   "metadata": {},
   "outputs": [
    {
     "name": "stdout",
     "output_type": "stream",
     "text": [
      "* * * * * \n",
      "*       * \n",
      "*       * \n",
      "*       * \n",
      "* * * * * \n"
     ]
    }
   ],
   "source": [
    "a = 1\n",
    "i = 5\n",
    "while a <= i:\n",
    "    b = 1\n",
    "    while b <= i:\n",
    "        if a == 1 or a == i or b == 1 or b == i:\n",
    "            print(\"*\",end = \" \")\n",
    "        else:\n",
    "            print(\" \",end = \" \")\n",
    "        b += 1\n",
    "    print()\n",
    "    a += 1"
   ]
  },
  {
   "cell_type": "code",
   "execution_count": 5,
   "id": "d8557947-4445-4ebe-aeac-ca385e7e912b",
   "metadata": {},
   "outputs": [
    {
     "name": "stdout",
     "output_type": "stream",
     "text": [
      "* * * * * "
     ]
    }
   ],
   "source": [
    "i = 5\n",
    "a = 1\n",
    "while a <= i:\n",
    "    print(\"*\",end = \" \")\n",
    "    a += 1"
   ]
  },
  {
   "cell_type": "code",
   "execution_count": 1,
   "id": "6403f911-9dee-407d-adf0-721573739129",
   "metadata": {},
   "outputs": [
    {
     "name": "stdout",
     "output_type": "stream",
     "text": [
      "\n",
      "1 \n",
      "1 2 \n",
      "1 2 3 \n",
      "1 2 3 4 \n",
      "1 2 3 4 5 \n"
     ]
    }
   ],
   "source": [
    "size = 5\n",
    "for i in range(size + 1):\n",
    "    for j in range(1, i + 1):\n",
    "        print(j,end = \" \")\n",
    "    print()"
   ]
  },
  {
   "cell_type": "code",
   "execution_count": 3,
   "id": "7233bfc3-e77c-495e-bf28-f8ebcb6e9342",
   "metadata": {},
   "outputs": [
    {
     "name": "stdout",
     "output_type": "stream",
     "text": [
      "\n",
      "1 \n",
      "0 1 \n",
      "1 0 1 \n",
      "0 1 0 1 \n",
      "1 0 1 0 1 \n"
     ]
    }
   ],
   "source": [
    "size = 5\n",
    "for i in range(size + 1):\n",
    "    for j in range(1, i + 1):\n",
    "        if (i + j) % 2 == 0:\n",
    "            print(\"1\",end = \" \")\n",
    "        else:\n",
    "            print(\"0\",end = \" \")\n",
    "    print()"
   ]
  },
  {
   "cell_type": "code",
   "execution_count": 4,
   "id": "a043028d-57d9-4605-a227-b3c51de11ae2",
   "metadata": {},
   "outputs": [
    {
     "name": "stdout",
     "output_type": "stream",
     "text": [
      "\n",
      "1 \n",
      "2 3 \n",
      "4 5 6 \n",
      "7 8 9 10 \n",
      "11 12 13 14 15 \n"
     ]
    }
   ],
   "source": [
    "size = 5\n",
    "count = 1\n",
    "for i in range(size + 1):\n",
    "    for j in range(1, i + 1):\n",
    "        print(count,end =\" \")\n",
    "        count += 1\n",
    "    print()"
   ]
  },
  {
   "cell_type": "code",
   "execution_count": 6,
   "id": "80118b3d-e444-4c1e-8473-34d46a817e92",
   "metadata": {},
   "outputs": [
    {
     "name": "stdout",
     "output_type": "stream",
     "text": [
      "1 is not prime number.\n",
      "2 is prime number.\n",
      "3 is prime number.\n",
      "4 is prime number.\n",
      "5 is prime number.\n",
      "6 is prime number.\n",
      "7 is prime number.\n",
      "8 is prime number.\n",
      "9 is prime number.\n",
      "10 is prime number.\n",
      "11 is prime number.\n",
      "12 is prime number.\n",
      "13 is prime number.\n",
      "14 is prime number.\n",
      "15 is prime number.\n",
      "16 is prime number.\n",
      "17 is prime number.\n",
      "18 is prime number.\n",
      "19 is prime number.\n",
      "20 is prime number.\n"
     ]
    }
   ],
   "source": [
    "def is_prime(n):\n",
    "    if n <= 1 :\n",
    "        return False\n",
    "    else:\n",
    "        # count = 0\n",
    "        # for k in range(n):\n",
    "        #     if n % k == 0:\n",
    "        #         count += 1\n",
    "        #         if count == 2:\n",
    "        return True\n",
    "\n",
    "\n",
    "\n",
    "for i in range(1,21):\n",
    "    if is_prime(i):\n",
    "        print(f\"{i} is prime number.\")\n",
    "    else:\n",
    "        print(f\"{i} is not prime number.\")"
   ]
  },
  {
   "cell_type": "code",
   "execution_count": 27,
   "id": "75e96334-d370-48f7-9a9b-11aeb0722e70",
   "metadata": {},
   "outputs": [
    {
     "name": "stdout",
     "output_type": "stream",
     "text": [
      "    \n",
      "   *\n",
      "  ***\n",
      " *****\n",
      "  ***\n",
      "   *\n"
     ]
    }
   ],
   "source": [
    "size = 3\n",
    "for i in range(size + 1):\n",
    "    sp = size - i\n",
    "    st = i * 2 - 1\n",
    "    print(sp*\" \",end= \" \")\n",
    "    print(st*\"*\")\n",
    "\n",
    "i = size - 1\n",
    "for j in range(i, 0 , -1):\n",
    "    sp = size - j\n",
    "    st = j * 2 -1\n",
    "    print(sp*\" \",end = \" \")\n",
    "    print(st*\"*\")\n",
    "    "
   ]
  },
  {
   "cell_type": "code",
   "execution_count": 1,
   "id": "76e0a74f-f51e-4c68-9d9a-19f3165615d8",
   "metadata": {},
   "outputs": [
    {
     "name": "stdout",
     "output_type": "stream",
     "text": [
      "<class 'type'>\n"
     ]
    }
   ],
   "source": [
    "print(type(type(type(int))))"
   ]
  },
  {
   "cell_type": "code",
   "execution_count": 2,
   "id": "6c86136f-3343-4c94-92c1-46588560c492",
   "metadata": {},
   "outputs": [
    {
     "name": "stdout",
     "output_type": "stream",
     "text": [
      "1\n",
      "None\n"
     ]
    }
   ],
   "source": [
    "print(print('1'))"
   ]
  },
  {
   "cell_type": "code",
   "execution_count": null,
   "id": "47df4b09-9fe0-4989-85c8-188ca23b7268",
   "metadata": {},
   "outputs": [],
   "source": []
  },
  {
   "cell_type": "code",
   "execution_count": null,
   "id": "b9cbd70f-b9c5-4188-a74b-023e7abb2bad",
   "metadata": {},
   "outputs": [],
   "source": []
  },
  {
   "cell_type": "code",
   "execution_count": null,
   "id": "700ede02-d47c-45e3-bb2c-94b120676348",
   "metadata": {},
   "outputs": [],
   "source": []
  },
  {
   "cell_type": "code",
   "execution_count": null,
   "id": "d78d4208-1fb3-4daf-b1a8-09d95d870419",
   "metadata": {},
   "outputs": [],
   "source": []
  },
  {
   "cell_type": "code",
   "execution_count": null,
   "id": "65eb17ae-85dc-4ddf-91aa-25156d38184a",
   "metadata": {},
   "outputs": [],
   "source": []
  },
  {
   "cell_type": "code",
   "execution_count": null,
   "id": "8224ac83-e417-40b9-9fce-3cf55ef00eb5",
   "metadata": {},
   "outputs": [],
   "source": []
  }
 ],
 "metadata": {
  "kernelspec": {
   "display_name": "Python 3 (ipykernel)",
   "language": "python",
   "name": "python3"
  },
  "language_info": {
   "codemirror_mode": {
    "name": "ipython",
    "version": 3
   },
   "file_extension": ".py",
   "mimetype": "text/x-python",
   "name": "python",
   "nbconvert_exporter": "python",
   "pygments_lexer": "ipython3",
   "version": "3.13.5"
  }
 },
 "nbformat": 4,
 "nbformat_minor": 5
}
