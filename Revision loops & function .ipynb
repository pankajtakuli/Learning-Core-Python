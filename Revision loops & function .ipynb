{
 "cells": [
  {
   "cell_type": "markdown",
   "id": "805c1b47-9b23-48fa-988e-8539ded84af3",
   "metadata": {},
   "source": [
    "***Revision for loop in Python***"
   ]
  },
  {
   "cell_type": "markdown",
   "id": "2161c034-c851-4fd1-b9e5-1fbce3f6191f",
   "metadata": {},
   "source": [
    "_A for loop is used to repeat a block of code a specific number of times or for each item in a sequence (like a list , string , etc.)_"
   ]
  },
  {
   "cell_type": "code",
   "execution_count": null,
   "id": "2d934b91-1317-4d19-9308-30bc0cceea64",
   "metadata": {},
   "outputs": [],
   "source": [
    "# Syntax\n",
    "for variable in sequence:\n",
    "    # Code block idented"
   ]
  },
  {
   "cell_type": "markdown",
   "id": "e4c73e52-e4ae-4abe-881c-c0fa0a92648c",
   "metadata": {},
   "source": [
    "***Example 1***"
   ]
  },
  {
   "cell_type": "code",
   "execution_count": 4,
   "id": "153efdf7-6c22-4edf-b828-d90582216bba",
   "metadata": {},
   "outputs": [
    {
     "name": "stdout",
     "output_type": "stream",
     "text": [
      "Apple\n",
      "Banana\n",
      "Cherry\n"
     ]
    }
   ],
   "source": [
    "\n",
    "fruits = [\"Apple\",\"Banana\",\"Cherry\"]\n",
    "for fruit in fruits:\n",
    "    print(fruit)"
   ]
  },
  {
   "cell_type": "code",
   "execution_count": 2,
   "id": "a24571cf-810f-4086-aff7-33b7d8fb1c54",
   "metadata": {},
   "outputs": [
    {
     "name": "stdout",
     "output_type": "stream",
     "text": [
      "Apple Banana Cherry "
     ]
    }
   ],
   "source": [
    "fruits = [\"Apple\",\"Banana\",\"Cherry\"]\n",
    "for fruit in fruits:\n",
    "    print(fruit , end= \" \")"
   ]
  },
  {
   "cell_type": "code",
   "execution_count": 5,
   "id": "442a43db-d92c-45bf-8887-3119af1a9808",
   "metadata": {},
   "outputs": [
    {
     "name": "stdout",
     "output_type": "stream",
     "text": [
      "Apple\n",
      "Banana\n",
      "Cherry\n"
     ]
    }
   ],
   "source": [
    "fruits = [\"Apple\",\"Banana\",\"Cherry\"]\n",
    "for fruit in fruits:\n",
    "    print(fruit,end=\"\\n\")"
   ]
  },
  {
   "cell_type": "code",
   "execution_count": 6,
   "id": "025452be-b281-44ff-8256-141f0e48a0f8",
   "metadata": {},
   "outputs": [
    {
     "name": "stdout",
     "output_type": "stream",
     "text": [
      "Apple$$$Banana$$$Cherry$$$"
     ]
    }
   ],
   "source": [
    "fruits = [\"Apple\",\"Banana\",\"Cherry\"]\n",
    "for fruit in fruits:\n",
    "    print(fruit,end=\"$$$\")"
   ]
  },
  {
   "cell_type": "markdown",
   "id": "1d0a5cfe-6502-4efa-90ff-faf282878d94",
   "metadata": {},
   "source": [
    "***Example 2***"
   ]
  },
  {
   "cell_type": "code",
   "execution_count": 12,
   "id": "1f41b179-2cb4-4ad3-bd80-ebc1b56e8e21",
   "metadata": {},
   "outputs": [
    {
     "name": "stdout",
     "output_type": "stream",
     "text": [
      " 1  2  3  4  5  6 \n",
      " 2  4  6  8 10 12 \n",
      " 3  6  9 12 15 18 \n",
      " 4  8 12 16 20 24 \n",
      " 5 10 15 20 25 30 \n"
     ]
    }
   ],
   "source": [
    " for i in range(1,6):\n",
    "    for j in range(1,7):\n",
    "        print(f\"{i*j:2}\",end=\" \")\n",
    "    print()"
   ]
  },
  {
   "cell_type": "markdown",
   "id": "60134d79-7548-444f-8252-2a0794e4b5b8",
   "metadata": {},
   "source": [
    "***Example 3***"
   ]
  },
  {
   "cell_type": "code",
   "execution_count": 4,
   "id": "a3bd70f0-8662-4322-902b-2ff7a67882f1",
   "metadata": {},
   "outputs": [
    {
     "name": "stdout",
     "output_type": "stream",
     "text": [
      "* * * * * \n",
      "*       * \n",
      "*       * \n",
      "*       * \n",
      "* * * * * \n"
     ]
    }
   ],
   "source": [
    "\n",
    "size = 5\n",
    "for i in range(size):\n",
    "    for j in range(size):\n",
    "        if i == 0 or i == size - 1 or j == 0 or j == size - 1:\n",
    "            print(\"*\",end=\" \")\n",
    "        else:\n",
    "            print(\" \",end=\" \")\n",
    "    print()\n",
    "    "
   ]
  },
  {
   "cell_type": "code",
   "execution_count": 2,
   "id": "9f6d0195-30e9-45eb-a1f1-0b197dcad968",
   "metadata": {},
   "outputs": [
    {
     "name": "stdout",
     "output_type": "stream",
     "text": [
      "0* 1* 2* 3* 4* \n",
      "0* 1  2  3  4* \n",
      "0* 1  2  3  4* \n",
      "0* 1  2  3  4* \n",
      "0* 1* 2* 3* 4* \n"
     ]
    }
   ],
   "source": [
    "\n",
    "size = 5\n",
    "for i in range(size):\n",
    "    for j in range(size):\n",
    "        print(j,end=\"\")\n",
    "        if i == 0 or i == size - 1 or j == 0 or j == size - 1:\n",
    "            print(\"*\",end=\" \")\n",
    "        else:\n",
    "            print(\" \",end=\" \")\n",
    "    print()\n",
    "    "
   ]
  },
  {
   "cell_type": "code",
   "execution_count": 26,
   "id": "e5d2def7-86f8-4b58-a26a-2be28bd12e2e",
   "metadata": {},
   "outputs": [
    {
     "name": "stdout",
     "output_type": "stream",
     "text": [
      "* * * * * \n",
      "*       *\n",
      "*       *\n",
      "* * * * * \n"
     ]
    }
   ],
   "source": [
    "for i in range(5,0,-1):\n",
    "    print(i*\"* \")\n",
    "    if i == 5:\n",
    "        print(\"*\",\" \"*5,\"*\")\n",
    "        print(\"*\",\" \"*5,\"*\")\n",
    "        print(5*\"* \")\n",
    "        break\n",
    "        "
   ]
  },
  {
   "cell_type": "markdown",
   "id": "1154b569-3bc3-4640-967d-fae1556e813c",
   "metadata": {},
   "source": [
    "***🧠 Pro Tip to Practice:***"
   ]
  },
  {
   "cell_type": "code",
   "execution_count": null,
   "id": "f057154d-4d00-4b6c-ba99-85d66a6b735a",
   "metadata": {},
   "outputs": [],
   "source": [
    "\n",
    "\n",
    "Start with:\n",
    "\n",
    "for i in range(n):\n",
    "    for j in range(m):\n",
    "        print(\"?\", end=\" \")\n",
    "    print()\n",
    "\n",
    "\n",
    "Then change:\n",
    "\n",
    "? → *, i, j, i*j, etc.\n",
    "\n",
    "Add if conditions for borders, diagonals, triangles\n",
    "\n",
    "Vary n and m for shape\n"
   ]
  },
  {
   "cell_type": "markdown",
   "id": "8f789bbb-51bc-41d3-bd46-41cb93826e92",
   "metadata": {},
   "source": [
    "***Example 4***"
   ]
  },
  {
   "cell_type": "code",
   "execution_count": 28,
   "id": "5b8bfd44-15a0-41c8-ae03-bdcb0d38ea50",
   "metadata": {},
   "outputs": [
    {
     "name": "stdin",
     "output_type": "stream",
     "text": [
      "Enter the password:  fghg\n",
      "Enter the password:  ghikjx\n",
      "Enter the password:  dzfbg\n",
      "Enter the password:  za\n",
      "Enter the password:  python123\n"
     ]
    },
    {
     "name": "stdout",
     "output_type": "stream",
     "text": [
      "Access granted ✅\n"
     ]
    }
   ],
   "source": [
    "password = \"python123\"\n",
    "user_input = \"\"\n",
    "\n",
    "while user_input != password:\n",
    "    user_input = input(\"Enter the password: \")\n",
    "\n",
    "print(\"Access granted ✅\")\n"
   ]
  },
  {
   "cell_type": "code",
   "execution_count": 30,
   "id": "8ebd3bd6-1047-4180-9807-979d3193938a",
   "metadata": {},
   "outputs": [
    {
     "name": "stdin",
     "output_type": "stream",
     "text": [
      "Enter password: ajfhsag\n",
      "Enter password again: agasg\n",
      "Enter password again: dafsG\n",
      "Enter password again: python123\n"
     ]
    },
    {
     "name": "stdout",
     "output_type": "stream",
     "text": [
      "Access granted ✅\n"
     ]
    }
   ],
   "source": [
    "user = input(\"Enter password:\")\n",
    "while user != \"python123\":\n",
    "    user = input(\"Enter password again:\")\n",
    "print(\"Access granted ✅\")"
   ]
  },
  {
   "cell_type": "markdown",
   "id": "c7022ac5-7cd8-4135-9180-24a2718181f5",
   "metadata": {},
   "source": [
    "***while loop with break***"
   ]
  },
  {
   "cell_type": "markdown",
   "id": "db4af040-f2e9-455f-8482-5d18e70a51fe",
   "metadata": {},
   "source": [
    "You can exit a loop early using break."
   ]
  },
  {
   "cell_type": "code",
   "execution_count": 32,
   "id": "bfc03a4e-6172-406b-8f84-e565a888cb68",
   "metadata": {},
   "outputs": [
    {
     "name": "stdout",
     "output_type": "stream",
     "text": [
      "1\n",
      "2\n",
      "3\n",
      "4\n"
     ]
    }
   ],
   "source": [
    "i = 1\n",
    "while True:\n",
    "    print(i)\n",
    "    i += 1\n",
    "    if i == 5:\n",
    "        break"
   ]
  },
  {
   "cell_type": "markdown",
   "id": "5963faac-b240-440b-9180-f0009a205467",
   "metadata": {},
   "source": [
    "***Example 5 : Sum of number until 0 is entered.***"
   ]
  },
  {
   "cell_type": "code",
   "execution_count": 37,
   "id": "6c68124b-c685-4fb0-b83e-17d4fe1a446a",
   "metadata": {},
   "outputs": [
    {
     "name": "stdin",
     "output_type": "stream",
     "text": [
      "Enter the number (0 to stop): 5\n",
      "Enter the number (0 to stop): 5\n",
      "Enter the number (0 to stop): 5\n",
      "Enter the number (0 to stop): 0\n"
     ]
    },
    {
     "name": "stdout",
     "output_type": "stream",
     "text": [
      "Total sum: 15\n"
     ]
    }
   ],
   "source": [
    "total = 0\n",
    "user = \"\"\n",
    "while user != 0:\n",
    "    user = int(input(\"Enter the number (0 to stop):\"))\n",
    "    total = total + user\n",
    "print(\"Total sum:\",total)"
   ]
  },
  {
   "cell_type": "markdown",
   "id": "6004c21d-59ff-486d-886a-f3813d29f87b",
   "metadata": {},
   "source": [
    "***Example 6 :Write a program that multiples two integer numbers without using * operator, using repeated addition.***"
   ]
  },
  {
   "cell_type": "code",
   "execution_count": 2,
   "id": "3a45290f-47df-45f8-895b-8eb9f7a9db5b",
   "metadata": {},
   "outputs": [
    {
     "name": "stdin",
     "output_type": "stream",
     "text": [
      "Enter first number: 56\n",
      "Enter second number: 4\n"
     ]
    },
    {
     "name": "stdout",
     "output_type": "stream",
     "text": [
      "The product of 56 and 4 is 224\n"
     ]
    }
   ],
   "source": [
    "\n",
    "n1 = int(input(\"Enter first number:\"))\n",
    "n2 = int(input(\"Enter second number:\"))\n",
    "product = 0\n",
    "count = n1\n",
    "while count > 0:\n",
    "    count = count - 1\n",
    "    product = product + n2 \n",
    "print(\"The product of\",n1,\"and\",n2,\"is\",product)\n"
   ]
  },
  {
   "cell_type": "code",
   "execution_count": 3,
   "id": "36928f20-942c-447e-9a37-7763fa56ec4e",
   "metadata": {},
   "outputs": [
    {
     "name": "stdin",
     "output_type": "stream",
     "text": [
      "Enter first number: 56\n",
      "Enter second number: 1\n"
     ]
    },
    {
     "name": "stdout",
     "output_type": "stream",
     "text": [
      "The product of 56 and 1 is 56\n"
     ]
    }
   ],
   "source": [
    "\n",
    "n1 = int(input(\"Enter first number:\"))\n",
    "n2 = int(input(\"Enter second number:\"))\n",
    "product = 0\n",
    "for i in range(n1):\n",
    "    product += n2\n",
    "print(\"The product of\",n1,\"and\",n2,\"is\",product)\n"
   ]
  },
  {
   "cell_type": "markdown",
   "id": "639904ba-6701-4ef5-85e3-9113237ae410",
   "metadata": {},
   "source": [
    "| Use Case                      | Why `while` is useful                                     |\n",
    "| ----------------------------- | --------------------------------------------------------- |\n",
    "| User input until correct      | Loops until user gives valid input                        |\n",
    "| Retry operations              | Retry downloading or connecting until successful          |\n",
    "| Infinite loops (with `break`) | Useful in games, UI, bots, etc.                           |\n",
    "| Polling or waiting            | Wait for a condition to become true (like a sensor value) |\n",
    "| Simulations                   | Run steps until a condition (e.g., no more data)          |\n"
   ]
  },
  {
   "cell_type": "markdown",
   "id": "67e1fabc-7ba9-46de-ba49-8fb128679563",
   "metadata": {},
   "source": [
    "#### while vs for loop: When to use what?\n",
    "| Loop Type | When to Use                                               |\n",
    "| --------- | --------------------------------------------------------- |\n",
    "| `for`     | When you know how many times to loop                      |\n",
    "| `while`   | When you **don’t know** in advance (depends on condition) |\n"
   ]
  },
  {
   "cell_type": "markdown",
   "id": "ee668f4a-11fc-40c9-8389-e1897e1b5b84",
   "metadata": {},
   "source": [
    "***while loop patern***"
   ]
  },
  {
   "cell_type": "code",
   "execution_count": 2,
   "id": "0c297f24-cc8f-42d0-9ba5-13f33f85f7c7",
   "metadata": {},
   "outputs": [
    {
     "name": "stdout",
     "output_type": "stream",
     "text": [
      "*\n",
      "**\n",
      "***\n",
      "****\n",
      "*****\n"
     ]
    }
   ],
   "source": [
    "i = 1\n",
    "rows = 5\n",
    "while i <= rows:\n",
    "    print(i*\"*\")\n",
    "    i += 1"
   ]
  },
  {
   "cell_type": "markdown",
   "id": "e9ca645f-3c5c-49a6-ac1c-b69c2e220c22",
   "metadata": {},
   "source": [
    "***Example 7***"
   ]
  },
  {
   "cell_type": "code",
   "execution_count": 3,
   "id": "0342d147-a453-4921-9c64-cbc9c228a8fd",
   "metadata": {},
   "outputs": [
    {
     "name": "stdout",
     "output_type": "stream",
     "text": [
      "1 \n",
      "1 2 \n",
      "1 2 3 \n",
      "1 2 3 4 \n",
      "1 2 3 4 5 \n"
     ]
    }
   ],
   "source": [
    "rows = 5\n",
    "i = 1\n",
    "\n",
    "while i <= rows:\n",
    "    j = 1\n",
    "    while j <= i:\n",
    "        print(j,end=\" \")\n",
    "        j += 1\n",
    "    print()\n",
    "    i += 1"
   ]
  },
  {
   "cell_type": "code",
   "execution_count": 5,
   "id": "4200b62a-979c-41ae-8732-c908241d8d1b",
   "metadata": {},
   "outputs": [
    {
     "name": "stdout",
     "output_type": "stream",
     "text": [
      "*****\n",
      "****\n",
      "***\n",
      "**\n",
      "*\n"
     ]
    }
   ],
   "source": [
    "i = 5\n",
    "rows = 1\n",
    "while i >= rows:\n",
    "    print(i*\"*\")\n",
    "    i -= 1\n",
    "    "
   ]
  },
  {
   "cell_type": "markdown",
   "id": "d7c63965-0bdf-4688-90e3-224eb71625fc",
   "metadata": {},
   "source": [
    "***Example 8***"
   ]
  },
  {
   "cell_type": "code",
   "execution_count": 6,
   "id": "163c8c50-ba54-49b8-99d5-7be61b61b403",
   "metadata": {},
   "outputs": [
    {
     "name": "stdout",
     "output_type": "stream",
     "text": [
      "    *\n",
      "    **\n",
      "    ***\n",
      "    ****\n",
      "    *****\n"
     ]
    }
   ],
   "source": [
    "rows = 5\n",
    "i = 1\n",
    "\n",
    "while i <= rows:\n",
    "    spaces = rows - 1\n",
    "    stars = i\n",
    "\n",
    "    j = 1\n",
    "    while j <= spaces:\n",
    "        print(\" \",end=\"\")\n",
    "        j += 1\n",
    "\n",
    "    k = 1\n",
    "    while k <= stars:\n",
    "        print(\"*\",end=\"\")\n",
    "        k += 1\n",
    "\n",
    "    print()\n",
    "    i += 1"
   ]
  },
  {
   "cell_type": "code",
   "execution_count": 1,
   "id": "ebf7408b-c791-4f7e-9692-c515db04ea83",
   "metadata": {},
   "outputs": [
    {
     "name": "stdout",
     "output_type": "stream",
     "text": [
      "    *\n",
      "   **\n",
      "  ***\n",
      " ****\n",
      "*****\n"
     ]
    }
   ],
   "source": [
    "rows = 5\n",
    "i = 1\n",
    "while i <= rows:\n",
    "    spaces = rows - i\n",
    "    stars = i\n",
    "\n",
    "    j = 1\n",
    "    while j <= spaces:\n",
    "        print(\" \",end = \"\")\n",
    "        j += 1\n",
    "\n",
    "    k = 1\n",
    "    while k <= stars:\n",
    "        print(\"*\",end=\"\")\n",
    "        k += 1\n",
    "\n",
    "        \n",
    "    print()\n",
    "    i += 1"
   ]
  },
  {
   "cell_type": "code",
   "execution_count": null,
   "id": "1bcde91e-fe8e-4f2c-8613-d27b17dd700d",
   "metadata": {},
   "outputs": [],
   "source": []
  },
  {
   "cell_type": "code",
   "execution_count": null,
   "id": "a577f9ef-5e5e-4fd6-96d0-5e136dd3836d",
   "metadata": {},
   "outputs": [],
   "source": []
  },
  {
   "cell_type": "code",
   "execution_count": null,
   "id": "4fdeeeb3-9d23-4535-9bac-58936e163ba9",
   "metadata": {},
   "outputs": [],
   "source": []
  },
  {
   "cell_type": "code",
   "execution_count": null,
   "id": "16cb6ee3-b349-482f-9559-17a47e3a34fb",
   "metadata": {},
   "outputs": [],
   "source": []
  },
  {
   "cell_type": "code",
   "execution_count": null,
   "id": "08fc9217-ecc5-47ea-bdf8-a45c1f56228e",
   "metadata": {},
   "outputs": [],
   "source": []
  },
  {
   "cell_type": "code",
   "execution_count": 4,
   "id": "f061da6f-6c2f-4c8d-a0ab-5588dfc9d822",
   "metadata": {},
   "outputs": [
    {
     "name": "stdout",
     "output_type": "stream",
     "text": [
      "    *\n",
      "   **\n",
      "  ***\n",
      " ****\n",
      "*****\n"
     ]
    }
   ],
   "source": [
    "rows = 5\n",
    "i = 1\n",
    "\n",
    "while i <= rows:\n",
    "    spaces = rows - i\n",
    "    stars = i\n",
    "\n",
    "    j = 1\n",
    "    while j <= spaces:\n",
    "        print(\" \", end=\"\")\n",
    "        j += 1\n",
    "\n",
    "    k = 1\n",
    "    while k <= stars:\n",
    "        print(\"*\", end=\"\")\n",
    "        k += 1\n",
    "\n",
    "    print()\n",
    "    i += 1\n"
   ]
  },
  {
   "cell_type": "markdown",
   "id": "79433e4f-0734-4645-94d0-68dbef090793",
   "metadata": {},
   "source": [
    "***Example 9***"
   ]
  },
  {
   "cell_type": "code",
   "execution_count": 21,
   "id": "a7642d9f-8bc8-4f27-aba4-950714abb790",
   "metadata": {},
   "outputs": [
    {
     "name": "stdout",
     "output_type": "stream",
     "text": [
      "   *\n",
      "  ***\n",
      " *****\n",
      "  ***\n",
      "   *\n"
     ]
    }
   ],
   "source": [
    "rows = 3\n",
    "i = 1\n",
    "while i <= rows:\n",
    "    spaces = rows - i\n",
    "    stars = 2 * i -1\n",
    "\n",
    "    print(\" \"*spaces,\"*\"*stars)\n",
    "    i += 1\n",
    "\n",
    "i = rows - 1\n",
    "while i >= 1:\n",
    "    spaces = rows - i\n",
    "    stars = i * 2 -1\n",
    "\n",
    "    print(\" \"*spaces,\"*\"*stars)\n",
    "    i -= 1"
   ]
  },
  {
   "cell_type": "code",
   "execution_count": 2,
   "id": "c8336200-f573-48e1-ba63-971f96f36eff",
   "metadata": {},
   "outputs": [
    {
     "name": "stdout",
     "output_type": "stream",
     "text": [
      "    *\n",
      "   ***\n",
      "  *****\n",
      " *******\n",
      "  *****\n",
      "   ***\n",
      "    *\n"
     ]
    }
   ],
   "source": [
    "rows = 4\n",
    "i = 1\n",
    "\n",
    "while i <= rows:\n",
    "    spaces = rows - i\n",
    "    stars = 2 * i -1\n",
    "    print(\" \"*spaces,\"*\"*stars)\n",
    "    i += 1\n",
    "    \n",
    "i = rows - 1\n",
    "while i >= 1:\n",
    "    spaces = rows - i\n",
    "    stars = i * 2 - 1\n",
    "\n",
    "    print(\" \"*spaces ,\"*\"*stars)\n",
    "    i -= 1\n",
    "        "
   ]
  },
  {
   "cell_type": "markdown",
   "id": "f40b91a1-40da-4d13-8ea7-3f94a773385d",
   "metadata": {},
   "source": [
    "<font size=\"5\"><b>***Pattern Game***<b>"
   ]
  },
  {
   "cell_type": "markdown",
   "id": "d33c6d4f-e30c-4e6a-80be-8e1ed0f69c89",
   "metadata": {},
   "source": [
    "***Level 1: Invert the 1s and 0s***"
   ]
  },
  {
   "cell_type": "code",
   "execution_count": 36,
   "id": "4ca31de8-d650-4fe1-bda8-040e50f44bf8",
   "metadata": {},
   "outputs": [
    {
     "name": "stdout",
     "output_type": "stream",
     "text": [
      "1 \n",
      "0 1 \n",
      "1 0 1 \n",
      "0 1 0 1 \n",
      "1 0 1 0 1 \n"
     ]
    }
   ],
   "source": [
    "rows = 5\n",
    "i = 1\n",
    "while i <= rows:\n",
    "    j = 1\n",
    "    while j <= i:\n",
    "        j += 1\n",
    "        if (i + j) % 2 == 0:\n",
    "            print(\"0\",end= \" \")\n",
    "        elif(i + j) != 0:\n",
    "            print(\"1\", end=\" \")\n",
    "            \n",
    "    print()\n",
    "    i += 1\n"
   ]
  },
  {
   "cell_type": "code",
   "execution_count": 38,
   "id": "edd258ea-0e0e-4256-89ed-3fd9a7769e17",
   "metadata": {},
   "outputs": [
    {
     "name": "stdout",
     "output_type": "stream",
     "text": [
      "\n",
      "0 \n",
      "1 0 \n",
      "0 1 0 \n",
      "1 0 1 0 \n",
      "0 1 0 1 0 \n",
      "1 0 1 0 1 0 \n"
     ]
    }
   ],
   "source": [
    "rows = 7\n",
    "i = 1\n",
    "while i <= rows:\n",
    "    j = 1\n",
    "    while j + 1 <= i:\n",
    "        j += 1\n",
    "        if (i + j) % 2 == 0:\n",
    "            print(\"0\",end= \" \")\n",
    "        elif(i + j) != 0:\n",
    "            print(\"1\", end=\" \")\n",
    "            \n",
    "    print()\n",
    "    i += 1\n"
   ]
  },
  {
   "cell_type": "markdown",
   "id": "0f1eeffb-f978-4bd8-9668-05086d9694fc",
   "metadata": {},
   "source": [
    "***Level 2: Left-aligin same patten but dashes instead of numbers***"
   ]
  },
  {
   "cell_type": "code",
   "execution_count": 44,
   "id": "83e31dd4-e1f3-42ef-9499-96d32a9779d3",
   "metadata": {},
   "outputs": [
    {
     "name": "stdout",
     "output_type": "stream",
     "text": [
      "- \n",
      "- - \n",
      "- - - \n",
      "- - - - \n",
      "- - - - - \n"
     ]
    }
   ],
   "source": [
    "rows = 5\n",
    "i = 1\n",
    "while i <= rows:\n",
    "    j = 1\n",
    "    while j <= i:\n",
    "        print(\"-\",end=\" \")\n",
    "        j += 1\n",
    "    print()\n",
    "    i += 1\n"
   ]
  },
  {
   "cell_type": "markdown",
   "id": "464d7f6d-7a0f-4f03-b14e-b052eb95c3fb",
   "metadata": {},
   "source": [
    "***Level 3: Pattern of even numbers***"
   ]
  },
  {
   "cell_type": "code",
   "execution_count": 53,
   "id": "1e5a8399-0e83-4789-977e-c2f27dac06d5",
   "metadata": {},
   "outputs": [
    {
     "name": "stdout",
     "output_type": "stream",
     "text": [
      "2 \n",
      "2 4 \n",
      "2 4 6 \n",
      "2 4 6 8 \n",
      "2 4 6 8 10 \n"
     ]
    }
   ],
   "source": [
    "rows = 6\n",
    "i = 2\n",
    "while i <= rows:\n",
    "    j = 1\n",
    "    while j < i:\n",
    "        print(j* 2,end=\" \")\n",
    "\n",
    "\n",
    "        j += 1\n",
    "    print()\n",
    "    i += 1"
   ]
  },
  {
   "cell_type": "markdown",
   "id": "01e3eb0a-c3ec-4707-8c4a-e1306e3cb1aa",
   "metadata": {},
   "source": [
    "***Level 4: Floyd's Triangle***"
   ]
  },
  {
   "cell_type": "code",
   "execution_count": 4,
   "id": "23a8e7e9-2c30-43b8-b552-397f315dc79b",
   "metadata": {},
   "outputs": [
    {
     "name": "stdout",
     "output_type": "stream",
     "text": [
      "1 \n",
      "2 3 \n",
      "4 5 6 \n",
      "7 8 9 10 \n",
      "11 12 13 14 15 \n"
     ]
    }
   ],
   "source": [
    "row = 5\n",
    "count = 1\n",
    "for i in range(1,row + 1):\n",
    "    for j in range(1, i + 1):\n",
    "        print(count,end=\" \")\n",
    "        count += 1\n",
    "    print()"
   ]
  },
  {
   "cell_type": "code",
   "execution_count": 5,
   "id": "97341aa6-441f-4eb5-9bdf-89761547ecd4",
   "metadata": {},
   "outputs": [
    {
     "name": "stdout",
     "output_type": "stream",
     "text": [
      "1 \n",
      "2 3 \n",
      "4 5 6 \n",
      "7 8 9 10 \n",
      "11 12 13 14 15 \n"
     ]
    }
   ],
   "source": [
    "row = 5\n",
    "i = 1\n",
    "count = 1\n",
    "while i <= row:\n",
    "    j = 1\n",
    "    while j <= i:\n",
    "        print(count ,end=\" \")\n",
    "        count += 1\n",
    "        j += 1\n",
    "    print()\n",
    "    i += 1"
   ]
  },
  {
   "cell_type": "code",
   "execution_count": null,
   "id": "8a87c0ca-0e8c-4ceb-92e9-86b0ffbf2fbd",
   "metadata": {},
   "outputs": [],
   "source": []
  },
  {
   "cell_type": "code",
   "execution_count": 22,
   "id": "463d87b4-259e-4de7-9ce1-35a320d4b27c",
   "metadata": {},
   "outputs": [
    {
     "name": "stdout",
     "output_type": "stream",
     "text": [
      "0 "
     ]
    }
   ],
   "source": [
    "if (i + j) % 2 == 0:\n",
    "    print(\"0\", end=\" \")\n",
    "else:\n",
    "    print(\"1\", end=\" \")\n"
   ]
  },
  {
   "cell_type": "markdown",
   "id": "e27de34e-3911-4667-8a13-51ff03bd2ee2",
   "metadata": {},
   "source": [
    "<font size= \"5\">***revision function***"
   ]
  },
  {
   "cell_type": "code",
   "execution_count": 24,
   "id": "31436df2-ad76-4230-94bb-6c96adea1f64",
   "metadata": {},
   "outputs": [
    {
     "name": "stdout",
     "output_type": "stream",
     "text": [
      "Odd\n",
      "Even\n"
     ]
    }
   ],
   "source": [
    "def evenOdd(x):\n",
    "    if (x % 2 == 0):\n",
    "        return \"Even\"\n",
    "    else:\n",
    "        return \"Odd\"\n",
    "\n",
    "print(evenOdd(17))\n",
    "print(evenOdd(0))"
   ]
  },
  {
   "cell_type": "markdown",
   "id": "e4fcdad5-a02c-41ad-ac40-8484c88474af",
   "metadata": {},
   "source": [
    "***1. default argumnet***"
   ]
  },
  {
   "cell_type": "markdown",
   "id": "2e0bdc08-a561-4cf1-b5ab-aac5510889e7",
   "metadata": {},
   "source": [
    "A default argument is a parameter that assumes a default value if a value is not provided in the function call for that argument."
   ]
  },
  {
   "cell_type": "code",
   "execution_count": 25,
   "id": "4a88e483-5e7a-4db6-8499-6d3c93dd0ad1",
   "metadata": {},
   "outputs": [
    {
     "name": "stdout",
     "output_type": "stream",
     "text": [
      "x:  10\n",
      "y:  50\n"
     ]
    }
   ],
   "source": [
    "def myFun(x, y=50):\n",
    "    print(\"x: \", x)\n",
    "    print(\"y: \", y)\n",
    "\n",
    "myFun(10)"
   ]
  },
  {
   "cell_type": "markdown",
   "id": "bfa9bf83-fc8f-4db0-aa9b-347f99d19ec4",
   "metadata": {},
   "source": [
    "***2. keyword argumnet***"
   ]
  },
  {
   "cell_type": "markdown",
   "id": "20723c71-3c8b-456c-aa2e-fe0617163621",
   "metadata": {},
   "source": [
    "In keyword arguments, values are passed by explicitly specifying the parameter names, so the order doesn’t matter."
   ]
  },
  {
   "cell_type": "code",
   "execution_count": 32,
   "id": "b5932d63-7ad5-405a-afdc-6063c650e87b",
   "metadata": {},
   "outputs": [
    {
     "name": "stdout",
     "output_type": "stream",
     "text": [
      "vijAI Practice\n",
      "vijAI Practice\n"
     ]
    }
   ],
   "source": [
    "def student(fname, lname):\n",
    "    print(fname, lname)\n",
    "\n",
    "student(fname='vijAI', lname='Practice')\n",
    "student(lname='Practice', fname='vijAI')"
   ]
  },
  {
   "cell_type": "code",
   "execution_count": 7,
   "id": "f6eaa7fb-6974-4c70-ba4e-91d7916a809c",
   "metadata": {},
   "outputs": [
    {
     "name": "stdout",
     "output_type": "stream",
     "text": [
      "12 45\n",
      "12 45\n"
     ]
    }
   ],
   "source": [
    "def abc(a , b):\n",
    "    print(a,b)\n",
    "    \n",
    "\n",
    "abc(a = 12,b = 45)\n",
    "abc(b = 45,a = 12)"
   ]
  },
  {
   "cell_type": "code",
   "execution_count": null,
   "id": "0b6d7edf-d3e3-4512-bcfd-98ac1ad63a84",
   "metadata": {},
   "outputs": [],
   "source": []
  },
  {
   "cell_type": "code",
   "execution_count": null,
   "id": "735187e1-6021-4116-b30b-50237fc518e5",
   "metadata": {},
   "outputs": [],
   "source": []
  },
  {
   "cell_type": "code",
   "execution_count": null,
   "id": "3c1c0cc1-669b-4e53-934c-014e36829ca1",
   "metadata": {},
   "outputs": [],
   "source": []
  },
  {
   "cell_type": "markdown",
   "id": "19010ff1-9dfa-4508-887f-03fb2634dcc5",
   "metadata": {},
   "source": [
    "***3. positional argumnet***"
   ]
  },
  {
   "cell_type": "markdown",
   "id": "7806325f-c38a-4e2b-92bb-cda1b1c7bed5",
   "metadata": {},
   "source": [
    "In positional arguments, values are assigned to parameters based on their order in the function call."
   ]
  },
  {
   "cell_type": "code",
   "execution_count": 37,
   "id": "e066d258-527c-4bfb-8dca-07ff478a1c55",
   "metadata": {},
   "outputs": [
    {
     "name": "stdout",
     "output_type": "stream",
     "text": [
      "Case-1:\n",
      "Hi, I am Suraj\n",
      "My age is  27\n",
      "\n",
      "Case-2:\n",
      "Hi, I am 27\n",
      "My age is  Suraj\n"
     ]
    }
   ],
   "source": [
    "def nameAge(name, age):\n",
    "    print(\"Hi, I am\", name)\n",
    "    print(\"My age is \", age)\n",
    "\n",
    "print(\"Case-1:\")\n",
    "nameAge(\"Suraj\", 27)\n",
    "\n",
    "print(\"\\nCase-2:\")\n",
    "nameAge(27, \"Suraj\")"
   ]
  },
  {
   "cell_type": "code",
   "execution_count": 38,
   "id": "0a09b692-126e-4871-9292-151cbe8a9706",
   "metadata": {},
   "outputs": [
    {
     "name": "stdout",
     "output_type": "stream",
     "text": [
      "First student!\n",
      "Name: pankaj\n",
      "Marks: 45\n",
      "\n",
      "Second student!\n",
      "Name: raja\n",
      "Marks: 100\n"
     ]
    }
   ],
   "source": [
    "def student(name , marks):\n",
    "    print(\"Name:\",name)\n",
    "    print(\"Marks:\",marks)\n",
    "\n",
    "\n",
    "print(\"First student!\")\n",
    "student(\"pankaj\",45)\n",
    "\n",
    "print(\"\\nSecond student!\")\n",
    "student(\"raja\",100)"
   ]
  },
  {
   "cell_type": "code",
   "execution_count": null,
   "id": "053be5b1-a049-448f-a8d4-76681c57e173",
   "metadata": {},
   "outputs": [],
   "source": []
  },
  {
   "cell_type": "markdown",
   "id": "6036f4f4-33c6-4e0e-b619-f416b0ee8e2e",
   "metadata": {},
   "source": [
    "***4. arbitary argumnet***"
   ]
  },
  {
   "cell_type": "markdown",
   "id": "0234ee03-1bd4-4923-9f89-281f455a6492",
   "metadata": {},
   "source": [
    "_In Python Arbitrary Keyword Arguments, *args and **kwargs can pass a variable number of arguments to a function using special symbols. There are two special symbols:_\n",
    "\n",
    "_<b>*args in Python (Non-Keyword Arguments)\n",
    "**kwargs in Python (Keyword Arguments)<b>_\n",
    "This code separately shows non-keyword (*args) and keyword (**kwargs) arguments in the same function._"
   ]
  },
  {
   "cell_type": "code",
   "execution_count": 40,
   "id": "c6661b81-ff00-47e0-8155-9410d3bd139a",
   "metadata": {},
   "outputs": [
    {
     "name": "stdout",
     "output_type": "stream",
     "text": [
      "Non-Keyword Arguments (*args):\n",
      "Hey\n",
      "Welcome\n",
      "\n",
      "Keyword Arguments (**kwargs):\n",
      "first == Geeks\n",
      "mid == for\n",
      "last == Geeks\n"
     ]
    }
   ],
   "source": [
    "def myFun(*args, **kwargs):\n",
    "    print(\"Non-Keyword Arguments (*args):\")\n",
    "    for arg in args:\n",
    "        print(arg)\n",
    "\n",
    "    print(\"\\nKeyword Arguments (**kwargs):\")\n",
    "    for key, value in kwargs.items():\n",
    "        print(f\"{key} == {value}\")\n",
    "\n",
    "# Function call with both types of arguments\n",
    "myFun('Hey', 'Welcome', first='Geeks', mid='for', last='Geeks')"
   ]
  },
  {
   "cell_type": "code",
   "execution_count": 5,
   "id": "e5eea725-617d-4584-9951-a3295bd43eb5",
   "metadata": {},
   "outputs": [
    {
     "name": "stdout",
     "output_type": "stream",
     "text": [
      "Non-keyword arguments (*args):\n",
      "Hey\n",
      "Welcome\n",
      "happy\n",
      "\n",
      "Keyword arguments (**kwargs):\n",
      "a == 1\n"
     ]
    }
   ],
   "source": [
    "def myfun(*args , **kwargs):\n",
    "    print('Non-keyword arguments (*args):')\n",
    "    for arg in args:\n",
    "        print(arg)\n",
    "\n",
    "    print(\"\\nKeyword arguments (**kwargs):\")\n",
    "    for key,value in kwargs.items():\n",
    "        print(f\"{key} == {value}\")\n",
    "\n",
    "myfun(\"Hey\",\"Welcome\",\"happy\",a = 1)"
   ]
  },
  {
   "cell_type": "code",
   "execution_count": null,
   "id": "8edccd81-dd3a-48f9-a2a9-138fb754c5f8",
   "metadata": {},
   "outputs": [],
   "source": []
  },
  {
   "cell_type": "code",
   "execution_count": null,
   "id": "8740e241-0517-4f14-bbce-f35f181a1616",
   "metadata": {},
   "outputs": [],
   "source": []
  },
  {
   "cell_type": "code",
   "execution_count": null,
   "id": "08238c37-3e64-47c4-833c-7e089e2b3bc1",
   "metadata": {},
   "outputs": [],
   "source": []
  },
  {
   "cell_type": "markdown",
   "id": "d21988b5-9dcf-467a-b2ba-ad9ab41b1b70",
   "metadata": {},
   "source": [
    "***Function with function***"
   ]
  },
  {
   "cell_type": "markdown",
   "id": "40faf32d-6cbe-4682-8c44-e74bdff10ab7",
   "metadata": {},
   "source": [
    "A function defined inside another function is called an inner function (or nested function). It can access variables from the enclosing function’s scope and is often used to keep logic protected and organized."
   ]
  },
  {
   "cell_type": "code",
   "execution_count": null,
   "id": "ffe71da3-1720-415d-8478-f1999d6558b1",
   "metadata": {},
   "outputs": [],
   "source": []
  },
  {
   "cell_type": "code",
   "execution_count": 30,
   "id": "140def3a-bc4e-4beb-a8b7-9d565e8c943c",
   "metadata": {},
   "outputs": [
    {
     "name": "stdout",
     "output_type": "stream",
     "text": [
      "I love Python\n"
     ]
    }
   ],
   "source": [
    "def f1():\n",
    "    s = 'I love Python'\n",
    "    def f2():\n",
    "        print(s)\n",
    "        \n",
    "    f2()\n",
    "f1()"
   ]
  },
  {
   "cell_type": "markdown",
   "id": "6c80ca62-1865-4ce2-9aa8-6becd90f73c9",
   "metadata": {},
   "source": [
    "***Anonymous Functions***"
   ]
  },
  {
   "cell_type": "markdown",
   "id": "38f5e94c-4108-4be8-bdfb-6de1d24f8ad9",
   "metadata": {},
   "source": [
    "In Python, an anonymous function means that a function is without a name. As we already know the def keyword is used to define the normal functions and the lambda keyword is used to create anonymous functions."
   ]
  },
  {
   "cell_type": "code",
   "execution_count": 18,
   "id": "c4ee0fd5-e81d-4ae4-8b72-3aa8c7a52c5c",
   "metadata": {},
   "outputs": [
    {
     "name": "stdout",
     "output_type": "stream",
     "text": [
      "27\n",
      "729\n"
     ]
    }
   ],
   "source": [
    "def cube(x):\n",
    "    return x*x*x   # without lambda\n",
    "cube_l = lambda x : x*x*x  # with lambda\n",
    "\n",
    "print(cube(3))\n",
    "print(cube_l(9))"
   ]
  },
  {
   "cell_type": "code",
   "execution_count": 19,
   "id": "d9c57aab-e7a6-4125-be2a-a80e06874907",
   "metadata": {},
   "outputs": [
    {
     "name": "stdout",
     "output_type": "stream",
     "text": [
      "16\n"
     ]
    }
   ],
   "source": [
    "cube = lambda x : x*8\n",
    "print(cube(2))"
   ]
  },
  {
   "cell_type": "code",
   "execution_count": 23,
   "id": "2ceb79af-0659-4337-ad3a-04b8a26ad90f",
   "metadata": {},
   "outputs": [],
   "source": [
    "a = lambda x : x + x"
   ]
  },
  {
   "cell_type": "code",
   "execution_count": 26,
   "id": "e3d9fc54-3c11-4b1f-9929-913fb99705ec",
   "metadata": {},
   "outputs": [
    {
     "name": "stdout",
     "output_type": "stream",
     "text": [
      "6\n"
     ]
    }
   ],
   "source": [
    "print(a(3))"
   ]
  },
  {
   "cell_type": "markdown",
   "id": "da10ef85-90ee-4156-bc79-6934d2304a07",
   "metadata": {},
   "source": [
    "***return Statement in Function***"
   ]
  },
  {
   "cell_type": "markdown",
   "id": "8feeb459-73aa-456f-9896-c0bf9015963a",
   "metadata": {},
   "source": [
    "The return statement ends a function and sends a value back to the caller. It can return any data type, multiple values (packed into a tuple), or None if no value is given.\n",
    "\n",
    "Syntax:\n",
    "\n",
    "return [expression]\n",
    "\n",
    "Parameters: return ends the function, [expression] is the optional value to return (defaults to None)."
   ]
  },
  {
   "cell_type": "code",
   "execution_count": 29,
   "id": "72c4d67f-1f95-40e9-9172-ca025047e7d2",
   "metadata": {},
   "outputs": [
    {
     "name": "stdout",
     "output_type": "stream",
     "text": [
      "0\n",
      "16\n"
     ]
    }
   ],
   "source": [
    "def square_value(num):\n",
    "    \"\"\"This function returns the square\n",
    "    value of the entered number\"\"\"\n",
    "    return num**2\n",
    "\n",
    "print(square_value(0))\n",
    "print(square_value(-4))"
   ]
  },
  {
   "cell_type": "markdown",
   "id": "fbb8952a-cb32-4ad2-9b6a-c9be30a9aa3a",
   "metadata": {},
   "source": [
    "***Pass by Reference and Pass by Value***"
   ]
  },
  {
   "cell_type": "markdown",
   "id": "ba2643e5-bfe9-4376-acfb-d01187857105",
   "metadata": {},
   "source": [
    "In Python, variables are references to objects. When we pass them to a function, the behavior depends on whether the object is mutable (like lists, dictionaries) or immutable (like integers, strings, tuples).\n",
    "\n",
    "Mutable objects: Changes inside the function affect the original object.\n",
    "\n",
    "Immutable objects: The original value remains unchanged."
   ]
  },
  {
   "cell_type": "code",
   "execution_count": 46,
   "id": "feeb41f2-55e6-47fc-8c9f-130242701d45",
   "metadata": {},
   "outputs": [
    {
     "name": "stdout",
     "output_type": "stream",
     "text": [
      "[20, 11, 12, 13]\n",
      "10\n"
     ]
    }
   ],
   "source": [
    "# Function modifies the first element of list\n",
    "def myFun(x):\n",
    "    x[0] = 20\n",
    "\n",
    "lst = [10, 11, 12, 13]\n",
    "myFun(lst)\n",
    "print(lst)   # list is modified\n",
    "\n",
    "# Function tries to modify an integer\n",
    "def myFun2(x):\n",
    "    x = 20\n",
    "\n",
    "a = 10\n",
    "myFun2(a)\n",
    "print(a) # integer is not modified\n"
   ]
  },
  {
   "cell_type": "code",
   "execution_count": 9,
   "id": "28eb4e14-5308-44cf-9d39-a5d308c71307",
   "metadata": {},
   "outputs": [
    {
     "name": "stdout",
     "output_type": "stream",
     "text": [
      "[4, 23, 12, 76, 90]\n",
      "3\n"
     ]
    }
   ],
   "source": [
    "def myfunc(x):\n",
    "    x[0] = 4\n",
    "\n",
    "l = [1,23,12,76,90]\n",
    "myfunc(l)\n",
    "print(l)\n",
    "\n",
    "def myfunc2(x):\n",
    "    x = 4\n",
    "\n",
    "a = 3\n",
    "myfunc2(a)\n",
    "print(a)"
   ]
  },
  {
   "cell_type": "markdown",
   "id": "0c82c4b4-055c-431e-b3f3-8ac6281b186f",
   "metadata": {},
   "source": [
    "***Recursive Functions***"
   ]
  },
  {
   "cell_type": "markdown",
   "id": "1ff23cbe-1c4c-4560-8eb1-71165f0105f5",
   "metadata": {},
   "source": [
    "A recursive function is a function that calls itself to solve a problem. It is commonly used in mathematical and divide-and-conquer problems. Always include a base case to avoid infinite recursion."
   ]
  },
  {
   "cell_type": "code",
   "execution_count": 12,
   "id": "3159a222-664a-4696-817b-6ca1457f2a84",
   "metadata": {},
   "outputs": [
    {
     "name": "stdout",
     "output_type": "stream",
     "text": [
      "120\n"
     ]
    }
   ],
   "source": [
    "def factorial(n):\n",
    "    if n == 0:  \n",
    "        return 1\n",
    "    else:\n",
    "        return n * factorial(n - 1) \n",
    "      \n",
    "print(factorial(5))"
   ]
  },
  {
   "cell_type": "code",
   "execution_count": 2,
   "id": "3b650a21-4385-46b2-be08-7649b51d227c",
   "metadata": {},
   "outputs": [
    {
     "name": "stdout",
     "output_type": "stream",
     "text": [
      "720\n"
     ]
    }
   ],
   "source": [
    "def factorial(n):\n",
    "    if n == 0:\n",
    "        return 1\n",
    "    else:\n",
    "        return n * factorial (n - 1)\n",
    "\n",
    "print(factorial(6))"
   ]
  },
  {
   "cell_type": "code",
   "execution_count": 3,
   "id": "6cace37e-a400-4036-8ff1-b71523ddca57",
   "metadata": {},
   "outputs": [
    {
     "name": "stdin",
     "output_type": "stream",
     "text": [
      "Number: 10\n"
     ]
    },
    {
     "name": "stdout",
     "output_type": "stream",
     "text": [
      "3628800\n"
     ]
    }
   ],
   "source": [
    "n = int(input(\"Number:\"))\n",
    "a = n * factorial(n - 1)\n",
    "print(a)"
   ]
  },
  {
   "cell_type": "markdown",
   "id": "f3a3075f-94b8-45ac-bc49-f3f7a10b7f0b",
   "metadata": {},
   "source": [
    "Here we have created a recursive function to calculate the factorial of the number. It calls itself until a base case (n==0) is met."
   ]
  },
  {
   "cell_type": "code",
   "execution_count": 11,
   "id": "dc3dcb5c-4506-4a0f-91da-69586fb4f2e9",
   "metadata": {},
   "outputs": [
    {
     "name": "stdout",
     "output_type": "stream",
     "text": [
      "5\n"
     ]
    }
   ],
   "source": [
    "def fibonacci(n):\n",
    "    if n < 0:\n",
    "        raise ValueError(\"Input must be a non-negative integer.\")\n",
    "    elif n == 0:\n",
    "        return 0\n",
    "    elif n == 1:\n",
    "        return 1\n",
    "    else:\n",
    "        return fibonacci(n - 1) + fibonacci(n - 2)\n",
    "\n",
    "\n",
    "print(fibonacci(5))"
   ]
  },
  {
   "cell_type": "markdown",
   "id": "599e025c-7fad-448a-bf9c-08e2b65e3519",
   "metadata": {},
   "source": [
    "***List Comprehension***"
   ]
  },
  {
   "cell_type": "markdown",
   "id": "e5a178ce-5f9d-421d-98da-954639abe10f",
   "metadata": {},
   "source": [
    "List comprehension is a concise and powerful way to create new lists by applying an expression to each item in an existing iterable (like a list, tuple or range). It helps you write clean, readable and efficient code compared to traditional loops.\n",
    "\n",
    "Suppose you want to square every number in a list:"
   ]
  },
  {
   "cell_type": "code",
   "execution_count": 18,
   "id": "42a37242-1ee4-4cd6-93df-dbb0a008da7a",
   "metadata": {},
   "outputs": [
    {
     "name": "stdout",
     "output_type": "stream",
     "text": [
      "[4, 16, 36, 64]\n"
     ]
    }
   ],
   "source": [
    "a = [2,4,6,8]\n",
    "s = [val ** 2 for val in a]\n",
    "print(s)"
   ]
  },
  {
   "cell_type": "code",
   "execution_count": 19,
   "id": "39ae7ebe-e04f-41e7-808f-25e0e2017936",
   "metadata": {},
   "outputs": [
    {
     "name": "stdout",
     "output_type": "stream",
     "text": [
      "[4, 2, 90, 112, 8]\n"
     ]
    }
   ],
   "source": [
    "a =[2,1,45,56,4]\n",
    "s = [val * 2 for val in a]\n",
    "print(s)"
   ]
  },
  {
   "cell_type": "markdown",
   "id": "1378be64-9ad4-4a62-8770-c782613907ef",
   "metadata": {},
   "source": [
    "##### Explanation:res = [val ** 2 for val in a] use list comprehension to create a new list by squaring each number in a."
   ]
  },
  {
   "cell_type": "markdown",
   "id": "7f035f44-ab95-4cda-97ea-1e6f653cef78",
   "metadata": {},
   "source": [
    "##### Parameters: \n",
    "\n",
    "- expression: operation or value to include in the new list.\n",
    "  \n",
    "\n",
    "- item: current element from the iterable.\n",
    "\n",
    "- iterable: sequence like a list, tuple or range.\n",
    "\n",
    "- if condition (optional): filter to include only items that satisfy the condition.\n",
    "\n",
    "#### Why Use List Comprehension?\n",
    "- Cleaner code: Combines looping, filtering and transformation in one line.\n",
    "- More readable: Avoids verbose loops and temporary variables.\n",
    "- Faster execution: Often faster than equivalent for-loops.\n",
    "\n",
    "\n",
    "#### For Loop vs. List Comprehension\n",
    "\n",
    "A for loop takes multiple lines to build a new list by iterating and appending each item manually. List comprehension does same in just one line, making code shorter and easier to read.\n",
    "\n",
    "Here’s an example to double each number in a list:\n",
    "\n",
    "Using For loop\n"
   ]
  },
  {
   "cell_type": "code",
   "execution_count": 20,
   "id": "983ff01c-86f2-4391-8693-e745ca984237",
   "metadata": {},
   "outputs": [
    {
     "name": "stdout",
     "output_type": "stream",
     "text": [
      "[2, 4, 6, 8, 10]\n"
     ]
    }
   ],
   "source": [
    "a = [1, 2, 3, 4, 5]\n",
    "res = []\n",
    "for val in a:\n",
    "    res.append(val * 2)\n",
    "print(res)"
   ]
  },
  {
   "cell_type": "code",
   "execution_count": 22,
   "id": "c711359e-5a92-4183-8cb0-fee401426fca",
   "metadata": {},
   "outputs": [
    {
     "name": "stdout",
     "output_type": "stream",
     "text": [
      "[5, 115, 20, 15, 10, 40]\n"
     ]
    }
   ],
   "source": [
    "a = [1,23,4,3,2,8]\n",
    "res = []\n",
    "for val in a:\n",
    "    res.append(val*5)\n",
    "print(res)"
   ]
  },
  {
   "cell_type": "markdown",
   "id": "4493a8b8-8e9e-44f9-9941-482bd56bbd58",
   "metadata": {},
   "source": [
    "Using List Comprehension"
   ]
  },
  {
   "cell_type": "code",
   "execution_count": 23,
   "id": "4e0551bd-e230-41a9-9752-13b7fe43d31b",
   "metadata": {},
   "outputs": [
    {
     "name": "stdout",
     "output_type": "stream",
     "text": [
      "[60, 15, 10, 5, 170, 15, 30]\n"
     ]
    }
   ],
   "source": [
    "a = [12,3,2,1,34,3,6]\n",
    "res = [val * 5 for val in a]\n",
    "print(res)"
   ]
  },
  {
   "cell_type": "markdown",
   "id": "e8a528e1-2cc2-47b2-acea-9428375264c6",
   "metadata": {},
   "source": [
    "***Using if-else Inside List Comprehension***"
   ]
  },
  {
   "cell_type": "code",
   "execution_count": 25,
   "id": "9a1f2b1b-d095-4c55-b961-e240f55cf159",
   "metadata": {},
   "outputs": [
    {
     "name": "stdout",
     "output_type": "stream",
     "text": [
      "['Odd', 'Even', 'Odd', 'Even']\n"
     ]
    }
   ],
   "source": [
    "lst = [1,2,3,4] \n",
    "result = [\"Even\" if n % 2 == 0 else \"Odd\" for n in lst]\n",
    "print(result)"
   ]
  },
  {
   "cell_type": "markdown",
   "id": "d598a391-9247-47aa-a8fa-c10f279d6843",
   "metadata": {},
   "source": [
    "***Using if Condition Only (Without else)***"
   ]
  },
  {
   "cell_type": "code",
   "execution_count": 29,
   "id": "d8b52740-73b1-43f3-b8c3-aee82994e4de",
   "metadata": {},
   "outputs": [
    {
     "name": "stdout",
     "output_type": "stream",
     "text": [
      "[2, 4]\n"
     ]
    }
   ],
   "source": [
    "lst = [1,2,3,4]\n",
    "result = [n for n in lst  if n % 2 == 0]\n",
    "print(result)"
   ]
  },
  {
   "cell_type": "markdown",
   "id": "41faf3f9-ca23-44af-bfeb-7684ecc0e8bc",
   "metadata": {},
   "source": [
    "***Nested if-else in List Comprehension***\n",
    "\n",
    "Handle multiple conditions with nested logic. Using Nested if-else in List allows chaining of if-else conditions. It categorizes each number based on whether it is divisible by 2, 3, or neither."
   ]
  },
  {
   "cell_type": "code",
   "execution_count": 5,
   "id": "1cda68c0-1e0c-4517-8132-09d6dd1bc17a",
   "metadata": {},
   "outputs": [
    {
     "name": "stdout",
     "output_type": "stream",
     "text": [
      "['Other', 'Divided by 2', 'Divided by 3', 'Divided by 2', 'Divided by 2', 'Divided by 2']\n"
     ]
    }
   ],
   "source": [
    "a = [1,2,3,4,6,8]\n",
    "\n",
    "lst = [\"Divided by 2\" if n % 2 == 0 else \"Divided by 3\" if n % 3 == 0 else \"Other\" for n in a] \n",
    "print(lst)"
   ]
  },
  {
   "cell_type": "markdown",
   "id": "221b0eff-8e70-4c39-bd5f-3c41e1ba3edf",
   "metadata": {},
   "source": [
    "##### Explanation: [val for val in a if val % 2 == 0] selects only even numbers from list a.\n",
    "\n",
    "\n",
    "\n",
    "##### Examples of list comprehension\n",
    "***1. Creating a list from a range***\n",
    "One can quickly create a list of numbers within a specific range using list comprehension. This example generates numbers from 0 to 9 and stores them in a list.\n",
    "\n",
    "\n"
   ]
  },
  {
   "cell_type": "code",
   "execution_count": 3,
   "id": "a283b5f9-6f72-4f84-bf0a-90ac3a9a1ad3",
   "metadata": {},
   "outputs": [
    {
     "name": "stdout",
     "output_type": "stream",
     "text": [
      "[0, 1, 2, 3, 4, 5, 6, 7, 8, 9]\n"
     ]
    }
   ],
   "source": [
    "a = [i for i in range(10)]\n",
    "print(a)"
   ]
  },
  {
   "cell_type": "markdown",
   "id": "595fd48a-105e-4d38-89f2-4224eb0191c1",
   "metadata": {},
   "source": [
    "***2. Using nested loops***\n",
    "\n",
    "\n",
    "A list of all coordinate pairs in a 3x3 grid can be generated by combining two loops inside a list comprehension. This example produces every possible (x, y) pair where both x and y range from 0 to 2.\n"
   ]
  },
  {
   "cell_type": "code",
   "execution_count": 7,
   "id": "5471852a-7ab3-47a6-b86c-dcafb4648084",
   "metadata": {},
   "outputs": [
    {
     "name": "stdout",
     "output_type": "stream",
     "text": [
      "[(0, 0), (0, 1), (0, 2), (1, 0), (1, 1), (1, 2), (2, 0), (2, 1), (2, 2)]\n"
     ]
    }
   ],
   "source": [
    "a = [(i,j) for i in range(3) for j in range(3)]\n",
    "print(a)"
   ]
  },
  {
   "cell_type": "markdown",
   "id": "39845291-9bcc-4d40-a6bf-6d86a0982d3d",
   "metadata": {},
   "source": [
    "### Explanation:\n",
    "\n",
    "- mat is a list of lists (a 3x3 matrix).\n",
    "\n",
    "- [val for row in mat for val in row] goes through each sublist (row) and then each value (val) inside it.\n",
    "\n",
    "- It collects all values into a single flat list.\n"
   ]
  },
  {
   "cell_type": "markdown",
   "id": "de739e47-340c-4192-80bb-d5683462473d",
   "metadata": {},
   "source": [
    "***3. Flattening a list of lists***\n",
    "\n",
    "\n",
    "A nested list (matrix) can be transformed into a single flat list by iterating through each sublist and its elements. This example flattens a 3x3 matrix into one continuous list of values."
   ]
  },
  {
   "cell_type": "code",
   "execution_count": 9,
   "id": "7983709f-d1e4-4791-a48a-495758e767e9",
   "metadata": {},
   "outputs": [
    {
     "name": "stdout",
     "output_type": "stream",
     "text": [
      "[1, 2, 3, 4, 5, 6, 7, 8, 9]\n"
     ]
    }
   ],
   "source": [
    "mat = [[1,2,3],[4,5,6],[7,8,9]]\n",
    "res = [val for row in mat for val in row]\n",
    "print(res)"
   ]
  },
  {
   "cell_type": "markdown",
   "id": "a66e34f6-857f-4396-8a1a-03ee9263bc06",
   "metadata": {},
   "source": [
    "***Explanation:***\n",
    "\n",
    "mat is a list of lists (a 3x3 matrix).\n",
    "[val for row in mat for val in row] goes through each sublist (row) and then each value (val) inside it.\n",
    "It collects all values into a single flat list."
   ]
  },
  {
   "cell_type": "markdown",
   "id": "2c3822a7-1beb-4c23-a34e-4b2c8e3af2ea",
   "metadata": {},
   "source": [
    "#### filter() in python\n",
    "\n",
    " filter() function is used to extract elements from an iterable (like a list, tuple or set) that satisfy a given condition. It works by applying a function to each element and keeping only those for which function returns True.\n",
    "\n",
    "##### Basic Example 1\n",
    "This simple example shows how to keep only the words starting with the letter 'a' from a list of fruits."
   ]
  },
  {
   "cell_type": "code",
   "execution_count": 16,
   "id": "c3b354a3-0183-4dfe-9258-238fbc2f720d",
   "metadata": {},
   "outputs": [
    {
     "name": "stdout",
     "output_type": "stream",
     "text": [
      "['apple', 'apricot', 'avocado']\n"
     ]
    }
   ],
   "source": [
    "def starts_a(n):\n",
    "    return n.startswith(\"a\")\n",
    "\n",
    "s = [\"apple\",\"banana\",\"cherry\",\"apricot\",\"mango\",\"avocado\"]\n",
    "res = filter(starts_a , s)\n",
    "print(list(res))"
   ]
  },
  {
   "cell_type": "code",
   "execution_count": 23,
   "id": "941716e9-8d04-4853-83d3-4f022e85590e",
   "metadata": {},
   "outputs": [
    {
     "ename": "TypeError",
     "evalue": "argument of type 'int' is not iterable",
     "output_type": "error",
     "traceback": [
      "\u001b[1;31m---------------------------------------------------------------------------\u001b[0m",
      "\u001b[1;31mTypeError\u001b[0m                                 Traceback (most recent call last)",
      "Cell \u001b[1;32mIn[23], line 7\u001b[0m\n\u001b[0;32m      5\u001b[0m nums \u001b[38;5;241m=\u001b[39m [\u001b[38;5;241m12\u001b[39m,\u001b[38;5;241m1\u001b[39m,\u001b[38;5;241m354\u001b[39m,\u001b[38;5;241m3\u001b[39m,\u001b[38;5;241m33\u001b[39m,\u001b[38;5;241m1\u001b[39m,\u001b[38;5;241m6\u001b[39m,\u001b[38;5;241m7\u001b[39m,\u001b[38;5;241m5\u001b[39m,\u001b[38;5;241m1\u001b[39m,\u001b[38;5;241m1\u001b[39m]\n\u001b[0;32m      6\u001b[0m res \u001b[38;5;241m=\u001b[39m \u001b[38;5;28mfilter\u001b[39m(numbers,nums)\n\u001b[1;32m----> 7\u001b[0m \u001b[38;5;28mprint\u001b[39m(numbers(res))\n",
      "Cell \u001b[1;32mIn[23], line 2\u001b[0m, in \u001b[0;36mnumbers\u001b[1;34m(n)\u001b[0m\n\u001b[0;32m      1\u001b[0m \u001b[38;5;28;01mdef\u001b[39;00m\u001b[38;5;250m \u001b[39m\u001b[38;5;21mnumbers\u001b[39m(n):\n\u001b[1;32m----> 2\u001b[0m     \u001b[38;5;28;01mreturn\u001b[39;00m \u001b[38;5;241m1\u001b[39m \u001b[38;5;129;01min\u001b[39;00m n\n",
      "Cell \u001b[1;32mIn[23], line 2\u001b[0m, in \u001b[0;36mnumbers\u001b[1;34m(n)\u001b[0m\n\u001b[0;32m      1\u001b[0m \u001b[38;5;28;01mdef\u001b[39;00m\u001b[38;5;250m \u001b[39m\u001b[38;5;21mnumbers\u001b[39m(n):\n\u001b[1;32m----> 2\u001b[0m     \u001b[38;5;28;01mreturn\u001b[39;00m \u001b[38;5;241m1\u001b[39m \u001b[38;5;129;01min\u001b[39;00m n\n",
      "\u001b[1;31mTypeError\u001b[0m: argument of type 'int' is not iterable"
     ]
    }
   ],
   "source": [
    "def numbers(n):\n",
    "    return 1 in n\n",
    "\n",
    "\n",
    "nums = [12,1,354,3,33,1,6,7,5,1,1]\n",
    "res = filter(numbers,nums)\n",
    "print(numbers(res))    # This will show error because integer are not iterable"
   ]
  },
  {
   "cell_type": "markdown",
   "id": "9aa84525-13fb-4e37-9659-26a8cfed0b9e",
   "metadata": {},
   "source": [
    "##### Explanation: function starts_a checks if a word begins with 'a' and filter() applies this function to each fruit and returns only matching ones.\n",
    "\n",
    "##### Syntax\n",
    "filter(function, iterable)\n",
    "\n",
    "###### Parameters:\n",
    "\n",
    "- function: tests each element and if return, True - Keep the element, if False - Discard the element\n",
    "iterable: Any iterable (list, tuple, set, etc.).\n",
    "Return Value: A filter object (an iterator), which can be converted into a list, tuple, set, etc.\n",
    "\n",
    "##### Examples of filter function\n",
    "Let's explore some examples of filter() function and see how it is used.\n",
    "\n",
    "- Example 1: Using filter() with a Named Function\n",
    "This code defines a regular function to check if a number is even and then uses filter() to extract all even numbers from a list."
   ]
  },
  {
   "cell_type": "code",
   "execution_count": 37,
   "id": "6bc2b9cb-fcd5-434b-8b3f-e9febc280022",
   "metadata": {},
   "outputs": [
    {
     "name": "stdout",
     "output_type": "stream",
     "text": [
      "(2, 4, 6, 8)\n"
     ]
    }
   ],
   "source": [
    "def even(n):\n",
    "    return n % 2 == 0\n",
    "\n",
    "\n",
    "num = [1,2,3,4,5,6,7,8,9]\n",
    "res = filter(even , num)\n",
    "print(tuple(res))  # Converted to tuple\n"
   ]
  },
  {
   "cell_type": "code",
   "execution_count": 41,
   "id": "bca0cbba-5002-4478-9703-99f6c2c2cf16",
   "metadata": {},
   "outputs": [
    {
     "name": "stdout",
     "output_type": "stream",
     "text": [
      "{8, 2, 4, 6}\n"
     ]
    }
   ],
   "source": [
    "def even(n):\n",
    "    return n % 2 == 0\n",
    "\n",
    "\n",
    "num = (1,2,3,4,5,6,7,8,9)\n",
    "res = filter(even , num)\n",
    "print(set(res))   # Converted to set\n"
   ]
  },
  {
   "cell_type": "markdown",
   "id": "63a13304-64ca-441b-a868-31819e20ea82",
   "metadata": {},
   "source": [
    "***Explanation***"
   ]
  },
  {
   "cell_type": "markdown",
   "id": "3cf3363f-70bc-4f0b-8ed8-88a06f43dd7e",
   "metadata": {},
   "source": [
    "- even function checks if a number is divisible by 2- .\n",
    "\n",
    "- filter() applies this function to each item in - a.\n",
    "\n",
    "- Only even numbers are included in output\n"
   ]
  },
  {
   "cell_type": "markdown",
   "id": "368e7414-cbb2-4d47-a073-f5e163f5e052",
   "metadata": {},
   "source": [
    "***Example 2: Using filter() with lambda function***"
   ]
  },
  {
   "cell_type": "code",
   "execution_count": 44,
   "id": "57bf0393-f5cc-4121-80f4-5be52d33d64b",
   "metadata": {},
   "outputs": [
    {
     "name": "stdout",
     "output_type": "stream",
     "text": [
      "[2, 4, 6]\n"
     ]
    }
   ],
   "source": [
    "a = [1, 2, 3, 4, 5, 6]\n",
    "b = filter(lambda x: x % 2 == 0, a)\n",
    "print(list(b))"
   ]
  },
  {
   "cell_type": "markdown",
   "id": "58b5167c-6ae5-40ba-af61-a60534131f3e",
   "metadata": {},
   "source": [
    "***Example 3: Filtering and Transforming Data***\n",
    "\n",
    "\n",
    "\n",
    "\n",
    "In this Example lambda functions is used with filter() and map() to first get even numbers from a list and then double them."
   ]
  },
  {
   "cell_type": "code",
   "execution_count": 6,
   "id": "0e3d6384-4467-4756-852d-a556518fc796",
   "metadata": {},
   "outputs": [
    {
     "name": "stdout",
     "output_type": "stream",
     "text": [
      "[4, 8, 12]\n"
     ]
    }
   ],
   "source": [
    "s = [1,2,3,4,5,6]\n",
    "res = filter(lambda x: x % 2 == 0,s)\n",
    "a = map(lambda x: x * 2, res)\n",
    "print(list(a))"
   ]
  },
  {
   "cell_type": "code",
   "execution_count": 7,
   "id": "acb5c5d0-bdd9-4bc4-91b4-46815bc1541e",
   "metadata": {},
   "outputs": [
    {
     "name": "stdout",
     "output_type": "stream",
     "text": [
      "['banana', 'cherry']\n"
     ]
    }
   ],
   "source": [
    "a = [\"apple\", \"banana\", \"cherry\", \"kiwi\", \"grape\"]\n",
    "b = filter(lambda x: len(x) > 5, a)\n",
    "print(list(b))"
   ]
  },
  {
   "cell_type": "markdown",
   "id": "f7682b88-7e5c-4c0a-8b3f-53b16c789ca2",
   "metadata": {},
   "source": [
    "***Example 5: Filtering with None (Truthiness Check)***\n",
    "\n",
    "\n",
    "\n",
    "\n",
    "This code uses filter() with None as the function to remove all falsy values (like empty strings, None and 0) from a list."
   ]
  },
  {
   "cell_type": "code",
   "execution_count": 9,
   "id": "e4999789-c54b-45fe-9622-1248b5e97dd5",
   "metadata": {},
   "outputs": [
    {
     "name": "stdout",
     "output_type": "stream",
     "text": [
      "['apple', 'banana', 'cherry']\n"
     ]
    }
   ],
   "source": [
    "L = [\"apple\", \"\", None, \"banana\", 0, \"cherry\"]\n",
    "a = filter(None , L)\n",
    "print(list(a))"
   ]
  },
  {
   "cell_type": "code",
   "execution_count": 10,
   "id": "c24a5086-1895-4e40-ab0c-9fbe775f9175",
   "metadata": {},
   "outputs": [
    {
     "name": "stdout",
     "output_type": "stream",
     "text": [
      "('apple', 'banana', 'cherry')\n"
     ]
    }
   ],
   "source": [
    "L = [\"apple\", \"\", None, \"banana\", 0, \"cherry\"]\n",
    "a = filter(None , L)\n",
    "print(tuple(a))"
   ]
  },
  {
   "cell_type": "code",
   "execution_count": 11,
   "id": "b22cefc2-3d4d-4b9c-9a25-1d9124f01ec7",
   "metadata": {},
   "outputs": [
    {
     "name": "stdout",
     "output_type": "stream",
     "text": [
      "{'cherry', 'apple', 'banana'}\n"
     ]
    }
   ],
   "source": [
    "L = [\"apple\", \"\", None, \"banana\", 0, \"cherry\"]\n",
    "a = filter(None , L)\n",
    "print(set(a))"
   ]
  },
  {
   "cell_type": "markdown",
   "id": "fdeb0314-a29d-4b6f-af96-25a1aa39aeec",
   "metadata": {},
   "source": [
    " ***Python map() function***\n",
    "\n",
    "\n",
    "     \n",
    "Last Updated : 07 Sep, 2025\n",
    "map() function in Python applies a given function to each element of an iterable (list, tuple, set, etc.) and returns a map object (iterator). It is a higher-order function used for uniform element-wise transformations, enabling concise and efficient code.\n",
    "\n",
    "Let's start with a simple example of using map() to convert a list of strings into a list of integers."
   ]
  },
  {
   "cell_type": "code",
   "execution_count": null,
   "id": "3949263d-8a31-4ec2-9807-229e3407f63c",
   "metadata": {},
   "outputs": [],
   "source": []
  },
  {
   "cell_type": "code",
   "execution_count": null,
   "id": "46318da0-db18-49f0-a2d3-52203b94bd2e",
   "metadata": {},
   "outputs": [],
   "source": []
  },
  {
   "cell_type": "code",
   "execution_count": null,
   "id": "d5b4e82e-f24a-4511-8dd7-d025bfded3c2",
   "metadata": {},
   "outputs": [],
   "source": []
  },
  {
   "cell_type": "code",
   "execution_count": 1,
   "id": "f6690032-7961-4d72-b40b-68ecf3bbef6f",
   "metadata": {},
   "outputs": [
    {
     "name": "stdout",
     "output_type": "stream",
     "text": [
      "['hello', 'world', 'python']\n"
     ]
    }
   ],
   "source": [
    "s = ['  hello  ', '  world ', ' python  ']\n",
    "res = map(str.strip, s)\n",
    "print(list(res))"
   ]
  },
  {
   "cell_type": "code",
   "execution_count": 2,
   "id": "4b2f46de-60a9-4a5b-b3b9-aa8a86fbc340",
   "metadata": {},
   "outputs": [
    {
     "ename": "AttributeError",
     "evalue": "'list' object has no attribute 'strip'",
     "output_type": "error",
     "traceback": [
      "\u001b[1;31m---------------------------------------------------------------------------\u001b[0m",
      "\u001b[1;31mAttributeError\u001b[0m                            Traceback (most recent call last)",
      "Cell \u001b[1;32mIn[2], line 2\u001b[0m\n\u001b[0;32m      1\u001b[0m s \u001b[38;5;241m=\u001b[39m [\u001b[38;5;124m'\u001b[39m\u001b[38;5;124m  hello  \u001b[39m\u001b[38;5;124m'\u001b[39m, \u001b[38;5;124m'\u001b[39m\u001b[38;5;124m  world \u001b[39m\u001b[38;5;124m'\u001b[39m, \u001b[38;5;124m'\u001b[39m\u001b[38;5;124m python  \u001b[39m\u001b[38;5;124m'\u001b[39m]\n\u001b[1;32m----> 2\u001b[0m d \u001b[38;5;241m=\u001b[39m s\u001b[38;5;241m.\u001b[39mstrip()\n",
      "\u001b[1;31mAttributeError\u001b[0m: 'list' object has no attribute 'strip'"
     ]
    }
   ],
   "source": [
    "s = ['  hello  ', '  world ', ' python  ']\n",
    "d = s.strip()"
   ]
  },
  {
   "cell_type": "code",
   "execution_count": 7,
   "id": "088e4bd1-45ab-42c4-9568-9ccaf4e27424",
   "metadata": {},
   "outputs": [
    {
     "name": "stdout",
     "output_type": "stream",
     "text": [
      "* * * * * \n",
      "*       * \n",
      "*       * \n",
      "*       * \n",
      "* * * * * \n"
     ]
    }
   ],
   "source": [
    "rows = 5\n",
    "i = 1\n",
    "while i <= rows:\n",
    "    j = 1\n",
    "    while j <= rows:\n",
    "        if i == 1 or i == rows or j == 1 or j == rows:\n",
    "            print(\"*\",end= \" \")\n",
    "        else:\n",
    "            print(\" \",end=\" \")\n",
    "        j += 1\n",
    "    print()\n",
    "    i += 1"
   ]
  },
  {
   "cell_type": "code",
   "execution_count": 1,
   "id": "9f41e0e4-9b1a-4bd1-8f7c-16b65fcf128f",
   "metadata": {},
   "outputs": [
    {
     "name": "stdout",
     "output_type": "stream",
     "text": [
      "* * * * * \n",
      "*       * \n",
      "*       * \n",
      "*       * \n",
      "* * * * * \n"
     ]
    }
   ],
   "source": [
    "row = 5\n",
    "for i in range(row):\n",
    "    for j in range(row):\n",
    "        if i == 0 or i == row - 1 or j == 0 or j == row - 1:\n",
    "            print(\"*\",end=\" \")\n",
    "        else:\n",
    "            print(\" \",end=\" \")\n",
    "    print()"
   ]
  },
  {
   "cell_type": "code",
   "execution_count": 5,
   "id": "8275d739-1842-4e08-a0a2-595e45aa973f",
   "metadata": {},
   "outputs": [
    {
     "name": "stdout",
     "output_type": "stream",
     "text": [
      "0 1 2 3 4 \n",
      "0 1 2 3 4 \n",
      "0 1 2 3 4 \n",
      "0 1 2 3 4 \n",
      "0 1 2 3 4 \n"
     ]
    }
   ],
   "source": [
    "row = 5\n",
    "for i in range(row):\n",
    "    for j in range(row):\n",
    "        print(j,end=\" \")\n",
    "    print()"
   ]
  },
  {
   "cell_type": "code",
   "execution_count": 6,
   "id": "6f79e0b7-984e-420d-b0c4-88158dfef163",
   "metadata": {},
   "outputs": [
    {
     "name": "stdout",
     "output_type": "stream",
     "text": [
      "1 2 3 4 5 \n",
      "1 2 3 4 5 \n",
      "1 2 3 4 5 \n",
      "1 2 3 4 5 \n",
      "1 2 3 4 5 \n"
     ]
    }
   ],
   "source": [
    "rows = 5\n",
    "i = 1\n",
    "while i <= rows:\n",
    "    j = 1\n",
    "    while j <= rows:\n",
    "        print(j,end=\" \")\n",
    "        j += 1\n",
    "    print()\n",
    "    i += 1\n",
    "    "
   ]
  },
  {
   "cell_type": "code",
   "execution_count": 8,
   "id": "adeca0c5-8816-4735-a0dd-707c10512d66",
   "metadata": {},
   "outputs": [
    {
     "name": "stdout",
     "output_type": "stream",
     "text": [
      "1 \n",
      "0 1 \n",
      "1 0 1 \n",
      "0 1 0 1 \n",
      "1 0 1 0 1 \n"
     ]
    }
   ],
   "source": [
    "row = 5\n",
    "i = 1\n",
    "while i <= row:\n",
    "    j = 1\n",
    "    while j <= i:\n",
    "        if (i + j) % 2 == 0:\n",
    "            print(\"1\",end=\" \")\n",
    "        else:\n",
    "            print(\"0\",end=\" \")\n",
    "        j += 1\n",
    "    print()\n",
    "    i += 1"
   ]
  },
  {
   "cell_type": "code",
   "execution_count": 10,
   "id": "fc25d79e-53f8-4fea-9737-4d307a47f164",
   "metadata": {},
   "outputs": [
    {
     "name": "stdout",
     "output_type": "stream",
     "text": [
      "1 \n",
      "0 1 \n",
      "1 0 1 \n",
      "0 1 0 1 \n",
      "1 0 1 0 1 \n"
     ]
    }
   ],
   "source": [
    "row = 5\n",
    "for i in range(1,row + 1):\n",
    "    for j in range(1, i + 1):\n",
    "        if (i + j) % 2 == 0:\n",
    "            print(\"1\",end=\" \")\n",
    "        else:\n",
    "            print(\"0\",end=\" \")\n",
    "    print()\n",
    "    "
   ]
  },
  {
   "cell_type": "code",
   "execution_count": 13,
   "id": "c8d6f640-8591-4a41-b600-42b71dae62c7",
   "metadata": {},
   "outputs": [
    {
     "name": "stdout",
     "output_type": "stream",
     "text": [
      "- \n",
      "- - \n",
      "- - - \n",
      "- - - - \n",
      "- - - - - \n"
     ]
    }
   ],
   "source": [
    "row = 5\n",
    "for i in range(1,row + 1):\n",
    "    for j in range(1, i + 1):\n",
    "        print(\"-\",end=\" \")\n",
    "    print()"
   ]
  },
  {
   "cell_type": "code",
   "execution_count": 15,
   "id": "0b0bd796-9a00-46f6-ad79-6dbe44bb5695",
   "metadata": {},
   "outputs": [
    {
     "name": "stdout",
     "output_type": "stream",
     "text": [
      "- \n",
      "- - \n",
      "- - - \n",
      "- - - - \n",
      "- - - - - \n"
     ]
    }
   ],
   "source": [
    "row = 5\n",
    "i = 1\n",
    "while i <= row:\n",
    "    j = 1\n",
    "    while j <= i :\n",
    "        print(\"-\",end=\" \")\n",
    "        j += 1\n",
    "    print()\n",
    "    i += 1\n",
    "    "
   ]
  },
  {
   "cell_type": "code",
   "execution_count": 16,
   "id": "a4b5ea08-fee3-43d8-956b-8a1c00910b55",
   "metadata": {},
   "outputs": [
    {
     "name": "stdout",
     "output_type": "stream",
     "text": [
      "2 \n",
      "2 4 \n",
      "2 4 6 \n",
      "2 4 6 8 \n",
      "2 4 6 8 10 \n"
     ]
    }
   ],
   "source": [
    "row = 5\n",
    "for i in range(1, row + 1):\n",
    "    for j in range(1,i + 1):\n",
    "        print(j * 2,end=\" \")\n",
    "    print()"
   ]
  },
  {
   "cell_type": "code",
   "execution_count": 17,
   "id": "0e7bfe98-3f90-4d66-9557-4c633301089d",
   "metadata": {},
   "outputs": [
    {
     "name": "stdout",
     "output_type": "stream",
     "text": [
      "2 \n",
      "2 4 \n",
      "2 4 6 \n",
      "2 4 6 8 \n",
      "2 4 6 8 10 \n"
     ]
    }
   ],
   "source": [
    "row = 5\n",
    "i = 1\n",
    "while i<= row:\n",
    "    j = 1\n",
    "    while j <= i:\n",
    "        print(j * 2,end=\" \")\n",
    "        j += 1\n",
    "    print()\n",
    "    i += 1\n",
    "    "
   ]
  },
  {
   "cell_type": "code",
   "execution_count": 18,
   "id": "0e0501ef-1ed9-4b58-a751-75b761db99fc",
   "metadata": {},
   "outputs": [
    {
     "name": "stdout",
     "output_type": "stream",
     "text": [
      "1 \n",
      "2 3 \n",
      "4 5 6 \n",
      "7 8 9 10 \n",
      "11 12 13 14 15 \n"
     ]
    }
   ],
   "source": [
    "count = 0\n",
    "row = 5\n",
    "for i in range(1,row + 1):\n",
    "    for j in range(1,i + 1):\n",
    "        count += 1\n",
    "        print(count,end=\" \")\n",
    "    print()"
   ]
  },
  {
   "cell_type": "code",
   "execution_count": 19,
   "id": "88d32315-0f1a-440c-ad57-bbc0fc35be52",
   "metadata": {},
   "outputs": [
    {
     "name": "stdout",
     "output_type": "stream",
     "text": [
      "1 \n",
      "2 3 \n",
      "4 5 6 \n",
      "7 8 9 10 \n",
      "11 12 13 14 15 \n"
     ]
    }
   ],
   "source": [
    "count = 0\n",
    "row = 5\n",
    "i = 1\n",
    "while i <= row:\n",
    "    j = 1\n",
    "    while j <= i:\n",
    "        count += 1\n",
    "        print(count , end=\" \")\n",
    "        j += 1\n",
    "    print()\n",
    "    i += 1"
   ]
  },
  {
   "cell_type": "code",
   "execution_count": 24,
   "id": "e40e8de7-cf2c-4534-8755-095d22e9c75c",
   "metadata": {},
   "outputs": [
    {
     "name": "stdin",
     "output_type": "stream",
     "text": [
      "Enter the number: 456\n"
     ]
    },
    {
     "data": {
      "text/plain": [
       "(456, 'is even number🙆🏻\\u200d♂️')"
      ]
     },
     "execution_count": 24,
     "metadata": {},
     "output_type": "execute_result"
    }
   ],
   "source": [
    "def num(x):\n",
    "    if x % 2 == 0:\n",
    "        return x,\"is even number🙆🏻‍♂️\"\n",
    "    else:\n",
    "        return x,\"is odd number🙋🏻‍♀️\"\n",
    "\n",
    "\n",
    "n = int(input(\"Enter the number:\"))\n",
    "num(n)"
   ]
  },
  {
   "cell_type": "code",
   "execution_count": 22,
   "id": "bb90f0ad-5257-41fd-9281-c54a85ebf0b4",
   "metadata": {},
   "outputs": [],
   "source": [
    "def calc(x , y = 20):\n",
    "    return \"x:\",x,\"y:\",y\n",
    "\n",
    "a = calc(10,30)\n",
    "    "
   ]
  },
  {
   "cell_type": "code",
   "execution_count": 23,
   "id": "9e2eea5f-eec6-4f8e-9647-63fd41216093",
   "metadata": {},
   "outputs": [
    {
     "name": "stdout",
     "output_type": "stream",
     "text": [
      "<class 'tuple'>\n",
      "('x:', 10, 'y:', 30)\n"
     ]
    }
   ],
   "source": [
    "print(type(a))\n",
    "print(a)"
   ]
  },
  {
   "cell_type": "code",
   "execution_count": null,
   "id": "3098af03-3d78-4582-8d2b-dbb9ab9a8c07",
   "metadata": {},
   "outputs": [],
   "source": []
  }
 ],
 "metadata": {
  "kernelspec": {
   "display_name": "Python 3 (ipykernel)",
   "language": "python",
   "name": "python3"
  },
  "language_info": {
   "codemirror_mode": {
    "name": "ipython",
    "version": 3
   },
   "file_extension": ".py",
   "mimetype": "text/x-python",
   "name": "python",
   "nbconvert_exporter": "python",
   "pygments_lexer": "ipython3",
   "version": "3.13.5"
  }
 },
 "nbformat": 4,
 "nbformat_minor": 5
}
