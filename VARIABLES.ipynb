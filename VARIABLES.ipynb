{
 "cells": [
  {
   "cell_type": "markdown",
   "id": "6a64499c-87ca-453c-bb0d-2537fe37475b",
   "metadata": {},
   "source": [
    " <font size = \"5\" > What is a <b> VARIABLE <b> ?"
   ]
  },
  {
   "cell_type": "markdown",
   "id": "c4b3239f-a434-4e55-add9-bd61059e04d9",
   "metadata": {},
   "source": [
    "<font size = \"5\">A variable is a container that stores data in the memory of your computer."
   ]
  },
  {
   "cell_type": "markdown",
   "id": "01c187f8-44c5-4a16-b46d-88fd9b8f5ac9",
   "metadata": {},
   "source": [
    "<font size = \"5\"> <b>Syntax - <b>"
   ]
  },
  {
   "cell_type": "markdown",
   "id": "021a261c-6c51-47f2-b819-b9d42a1470e2",
   "metadata": {},
   "source": [
    "<b>variable_ name = data to be stored<b>"
   ]
  },
  {
   "cell_type": "markdown",
   "id": "f74bf341-ed52-4f7c-8894-3f546d1392f4",
   "metadata": {},
   "source": [
    "You can store any data type in a variable."
   ]
  },
  {
   "cell_type": "code",
   "execution_count": 31,
   "id": "bb06d745-c7fa-4fa4-af95-a5e0b19f4189",
   "metadata": {},
   "outputs": [
    {
     "name": "stdout",
     "output_type": "stream",
     "text": [
      "Neeraj is in python batch\n",
      "Ayush is in ML batch \n",
      "Nishi is in python batch \n",
      "Suraj is in ML batch\n"
     ]
    }
   ],
   "source": [
    "print(\"Neeraj is in python batch\")\n",
    "print(\"Ayush is in ML batch \")\n",
    "print(\"Nishi is in python batch \")\n",
    "print(\"Suraj is in ML batch\")"
   ]
  },
  {
   "cell_type": "code",
   "execution_count": 2,
   "id": "81d40daa-1d25-4faf-972d-e3a161abd66a",
   "metadata": {},
   "outputs": [
    {
     "name": "stdout",
     "output_type": "stream",
     "text": [
      "Neeraj and Nishi are in python batch\n",
      "Ayush and Suraj are in ML batch\n"
     ]
    }
   ],
   "source": [
    "print(\"Neeraj and Nishi are in python batch\")\n",
    "print(\"Ayush and Suraj are in ML batch\")"
   ]
  },
  {
   "cell_type": "code",
   "execution_count": 3,
   "id": "ba312af8-67cf-4cbb-a4e8-dd7ef868c35d",
   "metadata": {},
   "outputs": [
    {
     "name": "stdout",
     "output_type": "stream",
     "text": [
      "Abdullah is in python batch\n",
      "Priyanshu is in python batch\n",
      "Pankaj is in ML batch\n",
      "Suhail is in ML batch\n",
      "Himanshu is in ML batch\n"
     ]
    }
   ],
   "source": [
    "print(\"Abdullah is in python batch\")\n",
    "print(\"Priyanshu is in python batch\")\n",
    "print(\"Pankaj is in ML batch\")\n",
    "print(\"Suhail is in ML batch\")\n",
    "print(\"Himanshu is in ML batch\")"
   ]
  },
  {
   "cell_type": "code",
   "execution_count": 4,
   "id": "07117c43-16fe-4f3a-bd66-08a0ef9fbaee",
   "metadata": {},
   "outputs": [
    {
     "name": "stdout",
     "output_type": "stream",
     "text": [
      "Abdullah and Priyanshu are in python batch \n",
      "Pankaj , Suhail and Himanshu are in ML batch \n"
     ]
    }
   ],
   "source": [
    "print(\"Abdullah and Priyanshu are in python batch \")\n",
    "print(\"Pankaj , Suhail and Himanshu are in ML batch \")"
   ]
  },
  {
   "cell_type": "code",
   "execution_count": 11,
   "id": "3d762f92-8f23-42af-8d14-ea6c42872ee2",
   "metadata": {},
   "outputs": [
    {
     "name": "stdout",
     "output_type": "stream",
     "text": [
      "39\n",
      "-11\n"
     ]
    }
   ],
   "source": [
    "print(age1+age2)\n",
    "print(age1-age2)"
   ]
  },
  {
   "cell_type": "code",
   "execution_count": 13,
   "id": "9df0e37c-58a7-44d2-ba0a-d4475a04640c",
   "metadata": {},
   "outputs": [
    {
     "name": "stdout",
     "output_type": "stream",
     "text": [
      "Neeraj is in  Python batch\n",
      "Nishi is in  ML batch\n",
      "Ayush is in  Python batch\n",
      "Suraj is in  Python batch\n",
      "Abdullah is in  ML batch\n",
      "Priyanshu is in  ML batch\n",
      "Pankaj is in  ML batch\n",
      "Suhail is in  Python batch\n"
     ]
    }
   ],
   "source": [
    "std1 = \"Neeraj\"\n",
    "std2 = \"Nishi\"\n",
    "std3 = \"Ayush\"\n",
    "std4 = \"Suraj\"\n",
    "std5 = \"Abdullah\"\n",
    "std6 = \"Priyanshu\"\n",
    "std7 = \"Pankaj\"\n",
    "std8 = \"Suhail\"\n",
    "\n",
    "batch1 = \"Python batch\" \n",
    "batch2 = \"ML batch\"\n",
    "\n",
    "print(std1 ,\"is in \",batch1)\n",
    "print(std2,\"is in \",batch2)\n",
    "print(std3,\"is in \",batch1)\n",
    "print(std4,\"is in \",batch1)\n",
    "print(std5,\"is in \",batch2)\n",
    "print(std6,\"is in \",batch2)\n",
    "print(std7,\"is in \",batch2)\n",
    "print(std8,\"is in \",batch1)"
   ]
  },
  {
   "cell_type": "code",
   "execution_count": 14,
   "id": "f28ab791-5835-470a-9fb8-5d8d79e089ea",
   "metadata": {},
   "outputs": [
    {
     "name": "stdout",
     "output_type": "stream",
     "text": [
      "14\n",
      "25\n"
     ]
    }
   ],
   "source": [
    "# integer\n",
    "age1 = 14\n",
    "age2 = 25\n",
    "\n",
    "print(age1)\n",
    "print(age2)"
   ]
  },
  {
   "cell_type": "code",
   "execution_count": 8,
   "id": "771a13ca-96cc-4dd9-a41e-5a4064beb7d8",
   "metadata": {},
   "outputs": [
    {
     "name": "stdout",
     "output_type": "stream",
     "text": [
      "Ayush  is  14 years old\n"
     ]
    }
   ],
   "source": [
    "print(std3,\" is \",age1,\"years old\")"
   ]
  },
  {
   "cell_type": "code",
   "execution_count": 9,
   "id": "aa0ca563-8ef3-4652-a69f-7edb2873a048",
   "metadata": {},
   "outputs": [
    {
     "name": "stdout",
     "output_type": "stream",
     "text": [
      "Ayush  is  14 years old\n"
     ]
    }
   ],
   "source": [
    "print(std3,\" is \",age1,\"years old\")"
   ]
  },
  {
   "cell_type": "code",
   "execution_count": 10,
   "id": "b654a356-6e11-4bbd-82d0-e47ed7eb8923",
   "metadata": {},
   "outputs": [
    {
     "name": "stdout",
     "output_type": "stream",
     "text": [
      "Abdullah  is  25  years old \n"
     ]
    }
   ],
   "source": [
    "print(std5,\" is \",age2,\" years old \")"
   ]
  },
  {
   "cell_type": "code",
   "execution_count": 18,
   "id": "52448032-8c43-47ca-84cb-944c3644f937",
   "metadata": {},
   "outputs": [
    {
     "name": "stdout",
     "output_type": "stream",
     "text": [
      "Height is  175.5 cm \n",
      "Weight is  75.23 kg\n"
     ]
    }
   ],
   "source": [
    "height = 175.5\n",
    "weight = 75.23\n",
    "print(\"Height is \",height,\"cm \\nWeight is \",weight,\"kg\")"
   ]
  },
  {
   "cell_type": "code",
   "execution_count": 1,
   "id": "37d0a860-b676-4763-b350-c6d997eaeed7",
   "metadata": {},
   "outputs": [],
   "source": [
    "# In the following cell syntax error is coming because a valid data type is not being stored in the variables."
   ]
  },
  {
   "cell_type": "code",
   "execution_count": 46,
   "id": "63d3f6fb-8c45-4cea-9ed9-4cb14c7cdb74",
   "metadata": {},
   "outputs": [
    {
     "ename": "SyntaxError",
     "evalue": "invalid syntax (3926456403.py, line 1)",
     "output_type": "error",
     "traceback": [
      "\u001b[1;36m  Cell \u001b[1;32mIn[46], line 1\u001b[1;36m\u001b[0m\n\u001b[1;33m    height = 175.5  cm\u001b[0m\n\u001b[1;37m                    ^\u001b[0m\n\u001b[1;31mSyntaxError\u001b[0m\u001b[1;31m:\u001b[0m invalid syntax\n"
     ]
    }
   ],
   "source": [
    "height = 175.5  cm\n",
    "weight = 75.23  kg\n",
    "print(\"Height is \",height,\"cm \\nWeight is \",weight,\"kg\")"
   ]
  },
  {
   "cell_type": "code",
   "execution_count": 48,
   "id": "90e35e25-4ffd-4d27-9aba-dad767bcafc6",
   "metadata": {},
   "outputs": [
    {
     "name": "stdout",
     "output_type": "stream",
     "text": [
      "Height is  175.5 cm \n",
      "Weight is  75.23 kg\n"
     ]
    }
   ],
   "source": [
    "height = \"175.5 cm\"\n",
    "weight = \"75.23 kg\"\n",
    "print(\"Height is \",height,\"\\nWeight is \",weight)"
   ]
  },
  {
   "cell_type": "code",
   "execution_count": 52,
   "id": "3a3cd2ad-9e89-4db2-a7fc-21801150cdc5",
   "metadata": {},
   "outputs": [
    {
     "name": "stdout",
     "output_type": "stream",
     "text": [
      "175.5 cm\n",
      "75.23 kg\n"
     ]
    }
   ],
   "source": [
    "print(height)\n",
    "print(weight)"
   ]
  },
  {
   "cell_type": "code",
   "execution_count": 53,
   "id": "de3c6825-2511-4bbd-9d3d-b41e5159c95a",
   "metadata": {},
   "outputs": [
    {
     "ename": "TypeError",
     "evalue": "unsupported operand type(s) for /: 'str' and 'int'",
     "output_type": "error",
     "traceback": [
      "\u001b[1;31m---------------------------------------------------------------------------\u001b[0m",
      "\u001b[1;31mTypeError\u001b[0m                                 Traceback (most recent call last)",
      "Cell \u001b[1;32mIn[53], line 1\u001b[0m\n\u001b[1;32m----> 1\u001b[0m bmi \u001b[38;5;241m=\u001b[39m (height\u001b[38;5;241m/\u001b[39m\u001b[38;5;241m100\u001b[39m)\u001b[38;5;241m/\u001b[39m(weight\u001b[38;5;241m*\u001b[39m\u001b[38;5;241m*\u001b[39m\u001b[38;5;241m2\u001b[39m)\n\u001b[0;32m      2\u001b[0m \u001b[38;5;28mprint\u001b[39m(\u001b[38;5;124m\"\u001b[39m\u001b[38;5;124mBMI is \u001b[39m\u001b[38;5;124m\"\u001b[39m,bmi)\n",
      "\u001b[1;31mTypeError\u001b[0m: unsupported operand type(s) for /: 'str' and 'int'"
     ]
    }
   ],
   "source": [
    "bmi = (height/100)/(weight**2)\n",
    "print(\"BMI is \",bmi)"
   ]
  },
  {
   "cell_type": "code",
   "execution_count": 55,
   "id": "7147aaba-be73-4e3f-924c-dcade9a60442",
   "metadata": {},
   "outputs": [
    {
     "ename": "TypeError",
     "evalue": "unsupported operand type(s) for /: 'str' and 'int'",
     "output_type": "error",
     "traceback": [
      "\u001b[1;31m---------------------------------------------------------------------------\u001b[0m",
      "\u001b[1;31mTypeError\u001b[0m                                 Traceback (most recent call last)",
      "Cell \u001b[1;32mIn[55], line 1\u001b[0m\n\u001b[1;32m----> 1\u001b[0m \u001b[38;5;124m\"\u001b[39m\u001b[38;5;124m175.5\u001b[39m\u001b[38;5;124m\"\u001b[39m\u001b[38;5;241m/\u001b[39m\u001b[38;5;241m100\u001b[39m\n",
      "\u001b[1;31mTypeError\u001b[0m: unsupported operand type(s) for /: 'str' and 'int'"
     ]
    }
   ],
   "source": [
    "\"175.5\"/100"
   ]
  },
  {
   "cell_type": "code",
   "execution_count": 56,
   "id": "24c9921d-4cef-439e-8830-2f7de7f5e3c5",
   "metadata": {},
   "outputs": [
    {
     "data": {
      "text/plain": [
       "1.755"
      ]
     },
     "execution_count": 56,
     "metadata": {},
     "output_type": "execute_result"
    }
   ],
   "source": [
    "175.5/100"
   ]
  },
  {
   "cell_type": "code",
   "execution_count": 59,
   "id": "da01580a-c7d5-431e-bb07-8913750b2dcf",
   "metadata": {},
   "outputs": [
    {
     "name": "stdout",
     "output_type": "stream",
     "text": [
      "<class 'str'>\n",
      "<class 'str'>\n"
     ]
    }
   ],
   "source": [
    "# type() is used to check the data type\n",
    "print(type(height))\n",
    "print(type(weight))"
   ]
  },
  {
   "cell_type": "code",
   "execution_count": 1,
   "id": "c9b1c6d8-21aa-405d-bd7e-ad2dd4d8524a",
   "metadata": {},
   "outputs": [
    {
     "name": "stdout",
     "output_type": "stream",
     "text": [
      "<class 'int'>\n"
     ]
    }
   ],
   "source": [
    "Height = 175\n",
    "print(type(Height))"
   ]
  },
  {
   "cell_type": "code",
   "execution_count": 2,
   "id": "c284feb0-f099-409c-97c0-705142c8217d",
   "metadata": {},
   "outputs": [
    {
     "name": "stdout",
     "output_type": "stream",
     "text": [
      "<class 'float'>\n"
     ]
    }
   ],
   "source": [
    "height = 175.5\n",
    "print(type(height))"
   ]
  },
  {
   "cell_type": "code",
   "execution_count": 3,
   "id": "3d981cbf-1d53-4b69-a886-ee00a4cb4888",
   "metadata": {},
   "outputs": [],
   "source": [
    "height = float(175)"
   ]
  },
  {
   "cell_type": "code",
   "execution_count": 5,
   "id": "70c3101a-77c3-4fa0-80cb-89a8ed9b970c",
   "metadata": {},
   "outputs": [
    {
     "name": "stdout",
     "output_type": "stream",
     "text": [
      "<class 'float'>\n"
     ]
    }
   ],
   "source": [
    "print(type(height))"
   ]
  },
  {
   "cell_type": "code",
   "execution_count": 6,
   "id": "3dc20ebd-97c8-4740-b0e3-5a3a776fc5c1",
   "metadata": {},
   "outputs": [
    {
     "name": "stdout",
     "output_type": "stream",
     "text": [
      "175.0\n"
     ]
    }
   ],
   "source": [
    "print(height)"
   ]
  },
  {
   "cell_type": "code",
   "execution_count": 8,
   "id": "716e5168-0a08-4c41-bc9c-4cf1f0146690",
   "metadata": {},
   "outputs": [
    {
     "name": "stdout",
     "output_type": "stream",
     "text": [
      "<class 'float'>\n",
      "175.0\n"
     ]
    }
   ],
   "source": [
    "height = 175.0\n",
    "print(type(height))\n",
    "print(height)"
   ]
  },
  {
   "cell_type": "code",
   "execution_count": 12,
   "id": "f0d58b99-39ca-450e-b483-043829a9fa67",
   "metadata": {},
   "outputs": [
    {
     "name": "stdout",
     "output_type": "stream",
     "text": [
      "175.0\n"
     ]
    }
   ],
   "source": [
    "print(str(height))"
   ]
  },
  {
   "cell_type": "markdown",
   "id": "13994995-6d68-4494-8b51-6862d3b132e5",
   "metadata": {},
   "source": [
    "**Type Casting**"
   ]
  },
  {
   "cell_type": "code",
   "execution_count": 16,
   "id": "7e4e54be-e66d-49be-92a9-7e3d0eb373ac",
   "metadata": {},
   "outputs": [
    {
     "name": "stdout",
     "output_type": "stream",
     "text": [
      "<class 'int'>\n"
     ]
    }
   ],
   "source": [
    "# int\n",
    "height = 189\n",
    "print(type(height))"
   ]
  },
  {
   "cell_type": "code",
   "execution_count": 14,
   "id": "dfc46e9b-d4a5-4807-86c2-4ee5fc6c17bb",
   "metadata": {},
   "outputs": [
    {
     "name": "stdout",
     "output_type": "stream",
     "text": [
      "<class 'float'>\n",
      "189.0\n"
     ]
    }
   ],
   "source": [
    "# int - float()\n",
    "height = float(height)\n",
    "print(type(height))\n",
    "print(height)"
   ]
  },
  {
   "cell_type": "code",
   "execution_count": 15,
   "id": "b8a20a7c-44f5-4436-ad34-3881e46cc667",
   "metadata": {},
   "outputs": [
    {
     "name": "stdout",
     "output_type": "stream",
     "text": [
      "<class 'str'>\n",
      "189.0\n"
     ]
    }
   ],
   "source": [
    "# float - str\n",
    "height = str(height)\n",
    "print(type(height))\n",
    "print(height)"
   ]
  },
  {
   "cell_type": "code",
   "execution_count": 19,
   "id": "03987496-f807-4c50-9984-cdfbb08c6b2c",
   "metadata": {},
   "outputs": [
    {
     "name": "stdout",
     "output_type": "stream",
     "text": [
      "<class 'str'>\n",
      "height\n"
     ]
    }
   ],
   "source": [
    "height = \"height\"\n",
    "print(type(height))\n",
    "print(height)"
   ]
  },
  {
   "cell_type": "code",
   "execution_count": 20,
   "id": "d286497d-6f1b-48e4-8b79-4ce7eeeaf50d",
   "metadata": {},
   "outputs": [
    {
     "name": "stdout",
     "output_type": "stream",
     "text": [
      "hello world\n"
     ]
    }
   ],
   "source": [
    "greeting = \"hello world\"\n",
    "print(greeting)"
   ]
  },
  {
   "cell_type": "code",
   "execution_count": 22,
   "id": "0fecee69-9dc6-43a5-995d-746d249c2d7f",
   "metadata": {},
   "outputs": [
    {
     "ename": "ValueError",
     "evalue": "invalid literal for int() with base 10: 'hello world'",
     "output_type": "error",
     "traceback": [
      "\u001b[1;31m---------------------------------------------------------------------------\u001b[0m",
      "\u001b[1;31mValueError\u001b[0m                                Traceback (most recent call last)",
      "Cell \u001b[1;32mIn[22], line 2\u001b[0m\n\u001b[0;32m      1\u001b[0m \u001b[38;5;66;03m# str - int\u001b[39;00m\n\u001b[1;32m----> 2\u001b[0m greeting \u001b[38;5;241m=\u001b[39m \u001b[38;5;28mint\u001b[39m(greeting)\n\u001b[0;32m      3\u001b[0m \u001b[38;5;28mprint\u001b[39m(greeting)\n",
      "\u001b[1;31mValueError\u001b[0m: invalid literal for int() with base 10: 'hello world'"
     ]
    }
   ],
   "source": [
    "# str - int\n",
    "greeting = int(greeting)\n",
    "print(greeting)"
   ]
  },
  {
   "cell_type": "code",
   "execution_count": 25,
   "id": "da598915-41d3-4495-9616-903bb9d7f37e",
   "metadata": {},
   "outputs": [
    {
     "name": "stdout",
     "output_type": "stream",
     "text": [
      "<class 'int'>\n",
      "123\n"
     ]
    }
   ],
   "source": [
    "# str - int\n",
    "greeting = \"123\"\n",
    "greeting = int(greeting)\n",
    "print(type(greeting))\n",
    "print(greeting)"
   ]
  },
  {
   "cell_type": "code",
   "execution_count": 38,
   "id": "eb6757ab-0226-4274-b49d-f92b88d1b16c",
   "metadata": {},
   "outputs": [
    {
     "ename": "SyntaxError",
     "evalue": "invalid decimal literal (2542541381.py, line 1)",
     "output_type": "error",
     "traceback": [
      "\u001b[1;36m  Cell \u001b[1;32mIn[38], line 1\u001b[1;36m\u001b[0m\n\u001b[1;33m    1std = \"Suhel\"\u001b[0m\n\u001b[1;37m    ^\u001b[0m\n\u001b[1;31mSyntaxError\u001b[0m\u001b[1;31m:\u001b[0m invalid decimal literal\n"
     ]
    }
   ],
   "source": [
    "1std = \"Suhel\""
   ]
  },
  {
   "cell_type": "code",
   "execution_count": 37,
   "id": "e68ec393-6620-4d5d-b403-a8a98f02ef52",
   "metadata": {},
   "outputs": [
    {
     "ename": "SyntaxError",
     "evalue": "cannot assign to expression here. Maybe you meant '==' instead of '='? (3356722838.py, line 1)",
     "output_type": "error",
     "traceback": [
      "\u001b[1;36m  Cell \u001b[1;32mIn[37], line 1\u001b[1;36m\u001b[0m\n\u001b[1;33m    std@1 = \"Suhel\"\u001b[0m\n\u001b[1;37m    ^\u001b[0m\n\u001b[1;31mSyntaxError\u001b[0m\u001b[1;31m:\u001b[0m cannot assign to expression here. Maybe you meant '==' instead of '='?\n"
     ]
    }
   ],
   "source": [
    "std@1 = \"Suhel\""
   ]
  },
  {
   "cell_type": "code",
   "execution_count": 30,
   "id": "30afc4fb-89a1-4363-8818-3667f8210e7f",
   "metadata": {},
   "outputs": [],
   "source": [
    "std_1 = \"Suhel\""
   ]
  },
  {
   "cell_type": "code",
   "execution_count": 33,
   "id": "7dbad180-bed9-47ae-9af9-d486ce4cc251",
   "metadata": {},
   "outputs": [],
   "source": [
    "STD2 = \"Pankaj\" "
   ]
  },
  {
   "cell_type": "code",
   "execution_count": 39,
   "id": "b4f22893-3f1b-4149-86bc-749db96de9e2",
   "metadata": {},
   "outputs": [
    {
     "ename": "SyntaxError",
     "evalue": "invalid syntax (1336628735.py, line 1)",
     "output_type": "error",
     "traceback": [
      "\u001b[1;36m  Cell \u001b[1;32mIn[39], line 1\u001b[1;36m\u001b[0m\n\u001b[1;33m    std? = \"jdsfh\"\u001b[0m\n\u001b[1;37m       ^\u001b[0m\n\u001b[1;31mSyntaxError\u001b[0m\u001b[1;31m:\u001b[0m invalid syntax\n"
     ]
    }
   ],
   "source": [
    "std? = \"jdsfh\""
   ]
  },
  {
   "cell_type": "markdown",
   "id": "1553d443-03e1-4257-bdb3-8bea7b1637b9",
   "metadata": {
    "jp-MarkdownHeadingCollapsed": true
   },
   "source": [
    "<font size = 4> <b>Rules for naming in variables<b>\n",
    "- A variable name must start with an alphabet or an underscore.\n",
    "- A variable name cannot start with a number or amy special character ( @ , # , $ , % , ^ ).\n",
    "- A variable name can only contain alphabets , numbers , and underscore.\n",
    "- The use of special characters is prohibited.\n",
    "- Variables names are case-sensitive in python.\n",
    "- Python keywords cannot be used as variables names.\n"
   ]
  },
  {
   "cell_type": "code",
   "execution_count": 8,
   "id": "60c8b65f-826d-4c07-8de6-ffd084fd4c4c",
   "metadata": {},
   "outputs": [
    {
     "name": "stdout",
     "output_type": "stream",
     "text": [
      "\n",
      "Here is a list of the Python keywords.  Enter any keyword to get more help.\n",
      "\n",
      "False               class               from                or\n",
      "None                continue            global              pass\n",
      "True                def                 if                  raise\n",
      "and                 del                 import              return\n",
      "as                  elif                in                  try\n",
      "assert              else                is                  while\n",
      "async               except              lambda              with\n",
      "await               finally             nonlocal            yield\n",
      "break               for                 not                 \n",
      "\n"
     ]
    }
   ],
   "source": [
    "help(\"keywords\")"
   ]
  },
  {
   "cell_type": "code",
   "execution_count": 9,
   "id": "3e25d237-1654-4303-9e29-1d74a08a87a5",
   "metadata": {},
   "outputs": [
    {
     "ename": "NameError",
     "evalue": "name 'SUBJECT' is not defined",
     "output_type": "error",
     "traceback": [
      "\u001b[1;31m---------------------------------------------------------------------------\u001b[0m",
      "\u001b[1;31mNameError\u001b[0m                                 Traceback (most recent call last)",
      "Cell \u001b[1;32mIn[9], line 2\u001b[0m\n\u001b[0;32m      1\u001b[0m subject \u001b[38;5;241m=\u001b[39m \u001b[38;5;124m\"\u001b[39m\u001b[38;5;124mpython\u001b[39m\u001b[38;5;124m\"\u001b[39m\n\u001b[1;32m----> 2\u001b[0m \u001b[38;5;28mprint\u001b[39m(SUBJECT)\n",
      "\u001b[1;31mNameError\u001b[0m: name 'SUBJECT' is not defined"
     ]
    }
   ],
   "source": [
    "subject = \"python\"\n",
    "print(SUBJECT)"
   ]
  },
  {
   "cell_type": "code",
   "execution_count": 10,
   "id": "91b1bf53-56b7-4e0b-b72c-7dd3584b0964",
   "metadata": {},
   "outputs": [
    {
     "ename": "NameError",
     "evalue": "name 'Subject' is not defined",
     "output_type": "error",
     "traceback": [
      "\u001b[1;31m---------------------------------------------------------------------------\u001b[0m",
      "\u001b[1;31mNameError\u001b[0m                                 Traceback (most recent call last)",
      "Cell \u001b[1;32mIn[10], line 1\u001b[0m\n\u001b[1;32m----> 1\u001b[0m \u001b[38;5;28mprint\u001b[39m(Subject)\n",
      "\u001b[1;31mNameError\u001b[0m: name 'Subject' is not defined"
     ]
    }
   ],
   "source": [
    "print(Subject)"
   ]
  },
  {
   "cell_type": "markdown",
   "id": "bc9bade9-78a8-492b-b9d4-d46bf808bfb5",
   "metadata": {},
   "source": [
    "<font size = \"4\"> <b>Important topics related to variables<b>"
   ]
  },
  {
   "cell_type": "markdown",
   "id": "e22424de-1858-4ae1-8e98-acebc49ea684",
   "metadata": {},
   "source": [
    "<font size = 4><b>1. Storing an expression in a variable.<b>"
   ]
  },
  {
   "cell_type": "code",
   "execution_count": 11,
   "id": "561f13cc-babd-4189-82f1-2c23586dd4c6",
   "metadata": {},
   "outputs": [
    {
     "name": "stdout",
     "output_type": "stream",
     "text": [
      "cat\n"
     ]
    }
   ],
   "source": [
    "animal_1 = \"c\"+\"a\"+\"t\" # \"c\"+\"a\"+\"t\" is an expression\n",
    "print(animal_1)"
   ]
  },
  {
   "cell_type": "code",
   "execution_count": 15,
   "id": "de9d9963-ed75-4a83-8d9b-ec1c5892bcab",
   "metadata": {},
   "outputs": [
    {
     "name": "stdout",
     "output_type": "stream",
     "text": [
      "catdog\n"
     ]
    }
   ],
   "source": [
    "animal_2 = \"dog\"\n",
    "combined_animal = animal_1 + animal_2  # animal_1 + animal_2 is an expression\n",
    "print(combined_animal)"
   ]
  },
  {
   "cell_type": "code",
   "execution_count": 17,
   "id": "5c8f9429-3b23-4700-ab0d-885ca1e600db",
   "metadata": {},
   "outputs": [
    {
     "name": "stdout",
     "output_type": "stream",
     "text": [
      "46\n"
     ]
    }
   ],
   "source": [
    "new_variable = 12 + 34 # 12 + 34 is an expression\n",
    "print(new_variable)"
   ]
  },
  {
   "cell_type": "code",
   "execution_count": 24,
   "id": "115fd942-b037-4b02-9337-b4c038813f12",
   "metadata": {},
   "outputs": [
    {
     "name": "stdout",
     "output_type": "stream",
     "text": [
      "25.41127165822231\n"
     ]
    }
   ],
   "source": [
    "height = 175.2\n",
    "weight = 78\n",
    "BMI = weight/((height/100)**2)\n",
    "print(BMI)"
   ]
  },
  {
   "cell_type": "markdown",
   "id": "4814b64f-0a55-4f75-bf38-e78a6f32eb91",
   "metadata": {},
   "source": [
    "<font size = \"5\"><b>2. Storing one variable to another.<b>"
   ]
  },
  {
   "cell_type": "code",
   "execution_count": 26,
   "id": "9a1276ad-5012-4e80-9391-ad9784fdf8fb",
   "metadata": {},
   "outputs": [
    {
     "data": {
      "text/plain": [
       "56"
      ]
     },
     "execution_count": 26,
     "metadata": {},
     "output_type": "execute_result"
    }
   ],
   "source": [
    "x = 56\n",
    "y = x\n",
    "y"
   ]
  },
  {
   "cell_type": "code",
   "execution_count": 27,
   "id": "e18d3614-db47-48c8-b1f8-c1fb11d60d15",
   "metadata": {},
   "outputs": [
    {
     "data": {
      "text/plain": [
       "56"
      ]
     },
     "execution_count": 27,
     "metadata": {},
     "output_type": "execute_result"
    }
   ],
   "source": [
    "x"
   ]
  },
  {
   "cell_type": "code",
   "execution_count": 29,
   "id": "216f8be7-5cef-4429-ad30-c7658a526e5e",
   "metadata": {},
   "outputs": [
    {
     "ename": "NameError",
     "evalue": "name 'A' is not defined",
     "output_type": "error",
     "traceback": [
      "\u001b[1;31m---------------------------------------------------------------------------\u001b[0m",
      "\u001b[1;31mNameError\u001b[0m                                 Traceback (most recent call last)",
      "Cell \u001b[1;32mIn[29], line 3\u001b[0m\n\u001b[0;32m      1\u001b[0m \u001b[38;5;66;03m# Python case-sensitive \u001b[39;00m\n\u001b[0;32m      2\u001b[0m a \u001b[38;5;241m=\u001b[39m \u001b[38;5;241m12\u001b[39m\n\u001b[1;32m----> 3\u001b[0m b \u001b[38;5;241m=\u001b[39m A\n",
      "\u001b[1;31mNameError\u001b[0m: name 'A' is not defined"
     ]
    }
   ],
   "source": [
    "# Python case-sensitive \n",
    "a = 12\n",
    "b = A"
   ]
  },
  {
   "cell_type": "code",
   "execution_count": 28,
   "id": "44d25a6d-59c7-4335-9b75-705e6a4aadb9",
   "metadata": {},
   "outputs": [
    {
     "name": "stdout",
     "output_type": "stream",
     "text": [
      "12\n",
      "12\n",
      "12\n"
     ]
    }
   ],
   "source": [
    "var_x = 12\n",
    "var_z = var_y = var_x\n",
    "\n",
    "print(var_y)\n",
    "print(var_z)\n",
    "print(var_x)"
   ]
  },
  {
   "cell_type": "markdown",
   "id": "38b0b823-23e3-450c-a5bb-4c55d5e9e7a1",
   "metadata": {},
   "source": [
    "<font size = \"5\"><b>3. Multiple variable creation.<b>"
   ]
  },
  {
   "cell_type": "code",
   "execution_count": null,
   "id": "d32c4aab-2e5e-4816-8a5f-989a77e4f195",
   "metadata": {},
   "outputs": [],
   "source": [
    "student_1 = \"Gaurav\"\n",
    "student_2 = \"Rohit\"\n",
    "student_3 = \"Kartik\""
   ]
  },
  {
   "cell_type": "code",
   "execution_count": 30,
   "id": "68d2e175-ddb8-46e3-913c-8eaa742346f3",
   "metadata": {},
   "outputs": [],
   "source": [
    "std_1 , std_2 , std_3 = \"Gaurav\" , \"Rohit\" , \"Kartik\""
   ]
  },
  {
   "cell_type": "code",
   "execution_count": 31,
   "id": "ffae6c5f-598b-49f2-b3f0-82667ac2a9e2",
   "metadata": {},
   "outputs": [
    {
     "name": "stdout",
     "output_type": "stream",
     "text": [
      "Gaurav\n",
      "Rohit\n",
      "Kartik\n"
     ]
    }
   ],
   "source": [
    "print(std_1)\n",
    "print(std_2)\n",
    "print(std_3)"
   ]
  },
  {
   "cell_type": "code",
   "execution_count": 32,
   "id": "154034d1-78c2-440a-94a4-66c54ac8f92b",
   "metadata": {},
   "outputs": [
    {
     "ename": "SyntaxError",
     "evalue": "cannot assign to literal (1503967723.py, line 1)",
     "output_type": "error",
     "traceback": [
      "\u001b[1;36m  Cell \u001b[1;32mIn[32], line 1\u001b[1;36m\u001b[0m\n\u001b[1;33m    std = \"Kartik\" = \"Gaurav\" = \"Rohit\"\u001b[0m\n\u001b[1;37m          ^\u001b[0m\n\u001b[1;31mSyntaxError\u001b[0m\u001b[1;31m:\u001b[0m cannot assign to literal\n"
     ]
    }
   ],
   "source": [
    "std = \"Kartik\" = \"Gaurav\" = \"Rohit\" "
   ]
  },
  {
   "cell_type": "markdown",
   "id": "0a67bdff-532c-4cdf-8fd4-6fe20201c484",
   "metadata": {},
   "source": [
    "We cannot assign multiple value in a variable."
   ]
  },
  {
   "cell_type": "code",
   "execution_count": 45,
   "id": "35f45cb2-1271-4e3f-b634-3162c0bf169e",
   "metadata": {},
   "outputs": [
    {
     "ename": "SyntaxError",
     "evalue": "cannot assign to literal (2300936041.py, line 1)",
     "output_type": "error",
     "traceback": [
      "\u001b[1;36m  Cell \u001b[1;32mIn[45], line 1\u001b[1;36m\u001b[0m\n\u001b[1;33m    num = 1 = 3 = 4\u001b[0m\n\u001b[1;37m          ^\u001b[0m\n\u001b[1;31mSyntaxError\u001b[0m\u001b[1;31m:\u001b[0m cannot assign to literal\n"
     ]
    }
   ],
   "source": [
    "num = 1 = 3 = 4"
   ]
  },
  {
   "cell_type": "code",
   "execution_count": 39,
   "id": "20c03110-372b-4b57-b5c3-84d4bae800d8",
   "metadata": {},
   "outputs": [],
   "source": [
    "a , b , c = \"python\" , 45 , 67.8"
   ]
  },
  {
   "cell_type": "code",
   "execution_count": 38,
   "id": "ce7a0bdc-3654-4ad6-9019-d2174c21d6a6",
   "metadata": {},
   "outputs": [
    {
     "name": "stdout",
     "output_type": "stream",
     "text": [
      "<class 'str'>\n",
      "<class 'int'>\n",
      "<class 'float'>\n"
     ]
    }
   ],
   "source": [
    "print(type(a))\n",
    "print(type(b))\n",
    "print(type(c))"
   ]
  },
  {
   "cell_type": "code",
   "execution_count": 42,
   "id": "d40ac14e-7837-4903-9c6c-8d9a60eaae54",
   "metadata": {},
   "outputs": [
    {
     "name": "stdout",
     "output_type": "stream",
     "text": [
      "('python', 'Hello world')\n",
      "<class 'tuple'>\n"
     ]
    }
   ],
   "source": [
    "name = \"python\" , \"Hello world\"\n",
    "print(name)\n",
    "print(type(name))"
   ]
  },
  {
   "cell_type": "code",
   "execution_count": 20,
   "id": "1267b4dd-8bbb-4197-a8bb-0b27c996bc0a",
   "metadata": {},
   "outputs": [
    {
     "ename": "SyntaxError",
     "evalue": "Missing parentheses in call to 'print'. Did you mean print(...)? (2770174022.py, line 1)",
     "output_type": "error",
     "traceback": [
      "\u001b[1;36m  Cell \u001b[1;32mIn[20], line 1\u001b[1;36m\u001b[0m\n\u001b[1;33m    print \"std_1\" + \"std_2\" + \"std_3\"\u001b[0m\n\u001b[1;37m    ^\u001b[0m\n\u001b[1;31mSyntaxError\u001b[0m\u001b[1;31m:\u001b[0m Missing parentheses in call to 'print'. Did you mean print(...)?\n"
     ]
    }
   ],
   "source": [
    "print \"std_1\" + \"std_2\" + \"std_3\""
   ]
  },
  {
   "cell_type": "code",
   "execution_count": 3,
   "id": "7a9e07a5-06e1-4b6c-9e3f-e06316dd79e1",
   "metadata": {},
   "outputs": [
    {
     "data": {
      "text/plain": [
       "tuple"
      ]
     },
     "execution_count": 3,
     "metadata": {},
     "output_type": "execute_result"
    }
   ],
   "source": [
    "print=(\"std_1\" , \"std_2\" , \"std_3\")# here print is assign as a variable\n",
    "type(print)"
   ]
  },
  {
   "cell_type": "code",
   "execution_count": 4,
   "id": "52e82ad5-13a3-4b04-a339-f353652a8012",
   "metadata": {},
   "outputs": [
    {
     "ename": "TypeError",
     "evalue": "'tuple' object is not callable",
     "output_type": "error",
     "traceback": [
      "\u001b[1;31m---------------------------------------------------------------------------\u001b[0m",
      "\u001b[1;31mTypeError\u001b[0m                                 Traceback (most recent call last)",
      "Cell \u001b[1;32mIn[4], line 1\u001b[0m\n\u001b[1;32m----> 1\u001b[0m \u001b[38;5;28mprint\u001b[39m(\u001b[38;5;124m\"\u001b[39m\u001b[38;5;124mstd_1\u001b[39m\u001b[38;5;124m\"\u001b[39m \u001b[38;5;241m+\u001b[39m \u001b[38;5;124m\"\u001b[39m\u001b[38;5;124mstd_2\u001b[39m\u001b[38;5;124m\"\u001b[39m \u001b[38;5;241m+\u001b[39m \u001b[38;5;124m\"\u001b[39m\u001b[38;5;124mstd_3\u001b[39m\u001b[38;5;124m\"\u001b[39m)\n",
      "\u001b[1;31mTypeError\u001b[0m: 'tuple' object is not callable"
     ]
    }
   ],
   "source": [
    "print(\"std_1\" + \"std_2\" + \"std_3\")"
   ]
  },
  {
   "cell_type": "code",
   "execution_count": 7,
   "id": "53776598-980d-4f28-8cc8-851f13a26e57",
   "metadata": {},
   "outputs": [
    {
     "data": {
      "text/plain": [
       "'std_1std_2std_3'"
      ]
     },
     "execution_count": 7,
     "metadata": {},
     "output_type": "execute_result"
    }
   ],
   "source": [
    "print # here  we print the value of print"
   ]
  },
  {
   "cell_type": "markdown",
   "id": "9437c4ae-f662-496f-9c43-5d6945d74b10",
   "metadata": {},
   "source": [
    "Now we restart the kernal ,so print is not variable ,now we can use print as funcrion."
   ]
  },
  {
   "cell_type": "code",
   "execution_count": 1,
   "id": "95378997-74df-4dc5-9081-9b8a0bb3ef4c",
   "metadata": {},
   "outputs": [
    {
     "data": {
      "text/plain": [
       "<function print(*args, sep=' ', end='\\n', file=None, flush=False)>"
      ]
     },
     "execution_count": 1,
     "metadata": {},
     "output_type": "execute_result"
    }
   ],
   "source": [
    "print"
   ]
  },
  {
   "cell_type": "code",
   "execution_count": 2,
   "id": "8c92b952-92b0-4da9-873e-f19d962c42c8",
   "metadata": {},
   "outputs": [
    {
     "name": "stdout",
     "output_type": "stream",
     "text": [
      "std_1std_2std_3\n"
     ]
    }
   ],
   "source": [
    "print(\"std_1\" + \"std_2\" + \"std_3\")"
   ]
  },
  {
   "cell_type": "markdown",
   "id": "d3d193bb-b1d6-43b5-a9e4-46830e2a86be",
   "metadata": {},
   "source": [
    "<font size = \"5\"><b>4. Reassigning a variable.<b>"
   ]
  },
  {
   "cell_type": "code",
   "execution_count": 1,
   "id": "f4a634c7-2ca3-497f-99ca-a22689720555",
   "metadata": {},
   "outputs": [
    {
     "name": "stdout",
     "output_type": "stream",
     "text": [
      "20\n"
     ]
    }
   ],
   "source": [
    "user1_age = 20\n",
    "print(user1_age)"
   ]
  },
  {
   "cell_type": "code",
   "execution_count": 3,
   "id": "d9be430d-c1b4-4057-846d-52c48dc41f66",
   "metadata": {},
   "outputs": [
    {
     "name": "stdout",
     "output_type": "stream",
     "text": [
      "45\n"
     ]
    }
   ],
   "source": [
    "user1_age = 45\n",
    "print(user1_age)"
   ]
  },
  {
   "cell_type": "code",
   "execution_count": 4,
   "id": "1e8707bf-6683-4a4b-9014-d54495b6ed8d",
   "metadata": {},
   "outputs": [
    {
     "name": "stdout",
     "output_type": "stream",
     "text": [
      "forty five\n"
     ]
    }
   ],
   "source": [
    "user1_age = \"forty five\"\n",
    "print(user1_age)"
   ]
  },
  {
   "cell_type": "code",
   "execution_count": 5,
   "id": "305a6b63-1c9e-40ed-a2ca-b47c6ce92dd1",
   "metadata": {},
   "outputs": [
    {
     "name": "stdout",
     "output_type": "stream",
     "text": [
      "20\n"
     ]
    }
   ],
   "source": [
    "user1_age = 20\n",
    "print(user1_age)"
   ]
  },
  {
   "cell_type": "markdown",
   "id": "75c45528-8585-45bd-a4b2-3b0c85a4296e",
   "metadata": {},
   "source": [
    "<font size = \"5\"><b>5. Constant Variables<b>"
   ]
  },
  {
   "cell_type": "markdown",
   "id": "ad21691d-6d1d-40a9-9e97-fe316056b62e",
   "metadata": {},
   "source": [
    "- To defined the values whoes value do not want to change in the whole program ,we  writes the name of that variable in the capital letters. This is a \n",
    "common practice but not enforced by python."
   ]
  },
  {
   "cell_type": "code",
   "execution_count": 9,
   "id": "e2869733-eeb0-4d28-a72a-3e20bffe0d13",
   "metadata": {},
   "outputs": [
    {
     "name": "stdout",
     "output_type": "stream",
     "text": [
      "3.14\n"
     ]
    }
   ],
   "source": [
    "PI = 3.14 # Constant\n",
    "print(PI)"
   ]
  },
  {
   "cell_type": "markdown",
   "id": "633f5c45-bc67-48b2-8ed3-cf36da2bd31f",
   "metadata": {},
   "source": [
    "It still possible to change the value of this constant variable."
   ]
  },
  {
   "cell_type": "code",
   "execution_count": 10,
   "id": "6c048f50-55fe-4ef7-9c93-9f1f3468d291",
   "metadata": {},
   "outputs": [
    {
     "name": "stdout",
     "output_type": "stream",
     "text": [
      "1.28\n"
     ]
    }
   ],
   "source": [
    "PI = 1.28\n",
    "print(PI)"
   ]
  },
  {
   "cell_type": "markdown",
   "id": "009e47fa-33a9-4cd4-8c89-d063d7233ae8",
   "metadata": {},
   "source": [
    "<font size = \"5\"><b>6. Deleting Variable<b>"
   ]
  },
  {
   "cell_type": "code",
   "execution_count": 1,
   "id": "77d96af2-35cc-4c8a-b333-b13c58515906",
   "metadata": {},
   "outputs": [
    {
     "name": "stdout",
     "output_type": "stream",
     "text": [
      "10\n"
     ]
    }
   ],
   "source": [
    "x = 10\n",
    "print(x)"
   ]
  },
  {
   "cell_type": "code",
   "execution_count": 2,
   "id": "6159fcf8-0482-4238-887f-a713e91c7e54",
   "metadata": {},
   "outputs": [],
   "source": [
    "del x"
   ]
  },
  {
   "cell_type": "code",
   "execution_count": 3,
   "id": "c1985991-985b-444d-8f48-aea65e8214c4",
   "metadata": {},
   "outputs": [
    {
     "ename": "NameError",
     "evalue": "name 'x' is not defined",
     "output_type": "error",
     "traceback": [
      "\u001b[1;31m---------------------------------------------------------------------------\u001b[0m",
      "\u001b[1;31mNameError\u001b[0m                                 Traceback (most recent call last)",
      "Cell \u001b[1;32mIn[3], line 1\u001b[0m\n\u001b[1;32m----> 1\u001b[0m \u001b[38;5;28mprint\u001b[39m(x)\n",
      "\u001b[1;31mNameError\u001b[0m: name 'x' is not defined"
     ]
    }
   ],
   "source": [
    "print(x)"
   ]
  },
  {
   "cell_type": "code",
   "execution_count": 23,
   "id": "2f960ab1-853e-4274-8c2e-ff8e1b37c775",
   "metadata": {},
   "outputs": [
    {
     "name": "stdout",
     "output_type": "stream",
     "text": [
      "45\n",
      "python\n"
     ]
    }
   ],
   "source": [
    "number = 45\n",
    "name = \"python\"\n",
    "print(number)\n",
    "print(name)"
   ]
  },
  {
   "cell_type": "code",
   "execution_count": 24,
   "id": "ed315713-f0f7-4c0d-80bf-8a6dd7d77ff9",
   "metadata": {},
   "outputs": [],
   "source": [
    "del number , name"
   ]
  },
  {
   "cell_type": "code",
   "execution_count": 26,
   "id": "2fcf358f-8676-466d-9104-7fc52f66e921",
   "metadata": {},
   "outputs": [
    {
     "ename": "NameError",
     "evalue": "name 'name' is not defined",
     "output_type": "error",
     "traceback": [
      "\u001b[1;31m---------------------------------------------------------------------------\u001b[0m",
      "\u001b[1;31mNameError\u001b[0m                                 Traceback (most recent call last)",
      "Cell \u001b[1;32mIn[26], line 1\u001b[0m\n\u001b[1;32m----> 1\u001b[0m \u001b[38;5;28mprint\u001b[39m(name)\n",
      "\u001b[1;31mNameError\u001b[0m: name 'name' is not defined"
     ]
    }
   ],
   "source": [
    "print(name) # It can delete variable"
   ]
  },
  {
   "cell_type": "code",
   "execution_count": 21,
   "id": "629917a0-c71b-42f8-800d-41d634bf8072",
   "metadata": {},
   "outputs": [
    {
     "ename": "SyntaxError",
     "evalue": "cannot delete literal (2919451508.py, line 1)",
     "output_type": "error",
     "traceback": [
      "\u001b[1;36m  Cell \u001b[1;32mIn[21], line 1\u001b[1;36m\u001b[0m\n\u001b[1;33m    del \"python\" # del function cannot directly data\u001b[0m\n\u001b[1;37m        ^\u001b[0m\n\u001b[1;31mSyntaxError\u001b[0m\u001b[1;31m:\u001b[0m cannot delete literal\n"
     ]
    }
   ],
   "source": [
    "del \"python\" # del function cannot directly data "
   ]
  },
  {
   "cell_type": "code",
   "execution_count": 27,
   "id": "acf28e49-81a5-41e7-81ac-1f507fbeae36",
   "metadata": {},
   "outputs": [
    {
     "name": "stdout",
     "output_type": "stream",
     "text": [
      "4 5\n"
     ]
    }
   ],
   "source": [
    "a,b = 4,5\n",
    "print(a,b)"
   ]
  },
  {
   "cell_type": "code",
   "execution_count": 28,
   "id": "1e5c0d95-0b1e-477e-b882-0340172ad6bc",
   "metadata": {},
   "outputs": [],
   "source": [
    "del a,b"
   ]
  },
  {
   "cell_type": "code",
   "execution_count": 29,
   "id": "bfadc845-8b98-40a5-8c7d-eaf1e792fd42",
   "metadata": {},
   "outputs": [
    {
     "ename": "NameError",
     "evalue": "name 'a' is not defined",
     "output_type": "error",
     "traceback": [
      "\u001b[1;31m---------------------------------------------------------------------------\u001b[0m",
      "\u001b[1;31mNameError\u001b[0m                                 Traceback (most recent call last)",
      "Cell \u001b[1;32mIn[29], line 1\u001b[0m\n\u001b[1;32m----> 1\u001b[0m \u001b[38;5;28mprint\u001b[39m(a)\n",
      "\u001b[1;31mNameError\u001b[0m: name 'a' is not defined"
     ]
    }
   ],
   "source": [
    "print(a)"
   ]
  },
  {
   "cell_type": "code",
   "execution_count": 30,
   "id": "88ede801-af19-4955-9ffe-ff45e97d562f",
   "metadata": {},
   "outputs": [
    {
     "ename": "NameError",
     "evalue": "name 'b' is not defined",
     "output_type": "error",
     "traceback": [
      "\u001b[1;31m---------------------------------------------------------------------------\u001b[0m",
      "\u001b[1;31mNameError\u001b[0m                                 Traceback (most recent call last)",
      "Cell \u001b[1;32mIn[30], line 1\u001b[0m\n\u001b[1;32m----> 1\u001b[0m \u001b[38;5;28mprint\u001b[39m(b)\n",
      "\u001b[1;31mNameError\u001b[0m: name 'b' is not defined"
     ]
    }
   ],
   "source": [
    "print(b)"
   ]
  },
  {
   "cell_type": "code",
   "execution_count": 80,
   "id": "5ce002b9-0b3f-454d-b53a-bf461bed130d",
   "metadata": {},
   "outputs": [
    {
     "name": "stdout",
     "output_type": "stream",
     "text": [
      "30\n"
     ]
    }
   ],
   "source": [
    "x = 10\n",
    "y = 20\n",
    "z = x + y\n",
    "print(z)"
   ]
  },
  {
   "cell_type": "code",
   "execution_count": 81,
   "id": "c7fc26da-0cf8-4ce5-9de2-33be270d9bb8",
   "metadata": {},
   "outputs": [],
   "source": [
    "del x"
   ]
  },
  {
   "cell_type": "code",
   "execution_count": 82,
   "id": "c6585eb5-3482-4fa6-a542-cff383ebb98c",
   "metadata": {},
   "outputs": [
    {
     "ename": "NameError",
     "evalue": "name 'x' is not defined",
     "output_type": "error",
     "traceback": [
      "\u001b[1;31m---------------------------------------------------------------------------\u001b[0m",
      "\u001b[1;31mNameError\u001b[0m                                 Traceback (most recent call last)",
      "Cell \u001b[1;32mIn[82], line 1\u001b[0m\n\u001b[1;32m----> 1\u001b[0m \u001b[38;5;28mprint\u001b[39m(x)\n",
      "\u001b[1;31mNameError\u001b[0m: name 'x' is not defined"
     ]
    }
   ],
   "source": [
    "print(x)"
   ]
  },
  {
   "cell_type": "code",
   "execution_count": 85,
   "id": "edc95e60-566b-45d9-8959-7aa0cba6b0f6",
   "metadata": {},
   "outputs": [
    {
     "name": "stdout",
     "output_type": "stream",
     "text": [
      "30\n"
     ]
    }
   ],
   "source": [
    "print(z) # z is independent of x and y. It's existence is not defined on the existence of x and y,once z has created."
   ]
  },
  {
   "cell_type": "code",
   "execution_count": 86,
   "id": "898a0e06-4d23-4292-bc85-4bcd97a84b9b",
   "metadata": {},
   "outputs": [
    {
     "ename": "NameError",
     "evalue": "name 'x' is not defined",
     "output_type": "error",
     "traceback": [
      "\u001b[1;31m---------------------------------------------------------------------------\u001b[0m",
      "\u001b[1;31mNameError\u001b[0m                                 Traceback (most recent call last)",
      "Cell \u001b[1;32mIn[86], line 1\u001b[0m\n\u001b[1;32m----> 1\u001b[0m z \u001b[38;5;241m=\u001b[39m x \u001b[38;5;241m+\u001b[39m y \u001b[38;5;66;03m# Here we defined z to x + y , but here x value is not defined , so there will be error.\u001b[39;00m\n\u001b[0;32m      2\u001b[0m \u001b[38;5;28mprint\u001b[39m(z)\n",
      "\u001b[1;31mNameError\u001b[0m: name 'x' is not defined"
     ]
    }
   ],
   "source": [
    "z = x + y # Here we defined z to x + y , but here x value is not defined , so there will be error.\n",
    "print(z)  "
   ]
  },
  {
   "cell_type": "markdown",
   "id": "8a62b67a-7ec5-46bf-966c-db707d5edc1d",
   "metadata": {},
   "source": [
    "<font size = 5> <b>EXERCISE<b>"
   ]
  },
  {
   "cell_type": "code",
   "execution_count": 61,
   "id": "1d267aba-7b87-46a4-9480-c6f84521af7f",
   "metadata": {},
   "outputs": [],
   "source": [
    "#  Write a program to swap the values of two variables var_1 and var_2\n",
    "\n",
    "var_1 = 23\n",
    "var_2 = 94"
   ]
  },
  {
   "cell_type": "code",
   "execution_count": 39,
   "id": "4eac089e-c267-4dee-a7c6-4dcff9a2b6a7",
   "metadata": {},
   "outputs": [
    {
     "name": "stdout",
     "output_type": "stream",
     "text": [
      "Value of var_1 before swapping: 23\n",
      "Value of var_2 before swapping: 94\n",
      "value of var_1 after swapping: 94\n",
      "Value of var_2 after swapping: 23\n"
     ]
    }
   ],
   "source": [
    "var_1 = 23\n",
    "var_2 = 94\n",
    "\n",
    "print(\"Value of var_1 before swapping:\",var_1)\n",
    "print(\"Value of var_2 before swapping:\",var_2)\n",
    "\n",
    "var_1 , var_2 = var_2 , var_1\n",
    "\n",
    "print(\"value of var_1 after swapping:\",var_1)\n",
    "print(\"Value of var_2 after swapping:\",var_2)"
   ]
  },
  {
   "cell_type": "code",
   "execution_count": 42,
   "id": "75893ea8-c67f-4038-92b4-cea9518877e9",
   "metadata": {},
   "outputs": [
    {
     "name": "stdout",
     "output_type": "stream",
     "text": [
      "94\n",
      "23\n"
     ]
    }
   ],
   "source": [
    "var_1 = 23\n",
    "var_2 = 94\n",
    "\n",
    "var_1 , var_2 = var_2 , var_1\n",
    "\n",
    "print(var_1)\n",
    "print(var_2)"
   ]
  },
  {
   "cell_type": "code",
   "execution_count": 40,
   "id": "e10b82e9-1637-46e9-8309-2e55d2152a4e",
   "metadata": {},
   "outputs": [
    {
     "name": "stdout",
     "output_type": "stream",
     "text": [
      "94\n",
      "23\n"
     ]
    }
   ],
   "source": [
    "var_1 = 23\n",
    "var_2 = 94\n",
    "\n",
    "\n",
    "tem = var_1  # 23\n",
    "var_1 = var_2 # 94\n",
    "var_2 = tem # 23\n",
    "\n",
    "print(var_1) # Now we print the values of var_1 and var_2.\n",
    "print(var_2)"
   ]
  },
  {
   "cell_type": "code",
   "execution_count": 6,
   "id": "acbd8129-cb7e-42d7-9608-a954cc741541",
   "metadata": {},
   "outputs": [
    {
     "ename": "SyntaxError",
     "evalue": "invalid syntax (2814526890.py, line 2)",
     "output_type": "error",
     "traceback": [
      "\u001b[1;36m  Cell \u001b[1;32mIn[6], line 2\u001b[1;36m\u001b[0m\n\u001b[1;33m    is raining = True\u001b[0m\n\u001b[1;37m    ^\u001b[0m\n\u001b[1;31mSyntaxError\u001b[0m\u001b[1;31m:\u001b[0m invalid syntax\n"
     ]
    }
   ],
   "source": [
    "# Fix the code\n",
    "is raining = True\n",
    "weather-temp = 25\n",
    "\"city name\" = \"Delhi\""
   ]
  },
  {
   "cell_type": "code",
   "execution_count": 10,
   "id": "f254bab5-9406-4cd9-b73b-ca7b52f97df4",
   "metadata": {},
   "outputs": [],
   "source": [
    "is_raining = True\n",
    "weather_temp = 25\n",
    "city_name = \"Delhi\""
   ]
  },
  {
   "cell_type": "code",
   "execution_count": 9,
   "id": "9415887e-e3da-49c0-b828-cb259a5532f4",
   "metadata": {},
   "outputs": [
    {
     "ename": "SyntaxError",
     "evalue": "invalid syntax (2375687596.py, line 1)",
     "output_type": "error",
     "traceback": [
      "\u001b[1;36m  Cell \u001b[1;32mIn[9], line 1\u001b[1;36m\u001b[0m\n\u001b[1;33m    a = is\u001b[0m\n\u001b[1;37m        ^\u001b[0m\n\u001b[1;31mSyntaxError\u001b[0m\u001b[1;31m:\u001b[0m invalid syntax\n"
     ]
    }
   ],
   "source": [
    "a = is"
   ]
  },
  {
   "cell_type": "code",
   "execution_count": 19,
   "id": "0fa56244-c7e4-4ac9-9732-0f7cbed63e83",
   "metadata": {},
   "outputs": [
    {
     "name": "stdout",
     "output_type": "stream",
     "text": [
      "\n",
      "Here is a list of the Python keywords.  Enter any keyword to get more help.\n",
      "\n",
      "False               class               from                or\n",
      "None                continue            global              pass\n",
      "True                def                 if                  raise\n",
      "and                 del                 import              return\n",
      "as                  elif                in                  try\n",
      "assert              else                is                  while\n",
      "async               except              lambda              with\n",
      "await               finally             nonlocal            yield\n",
      "break               for                 not                 \n",
      "\n"
     ]
    }
   ],
   "source": [
    "help(\"keywords\")"
   ]
  },
  {
   "cell_type": "code",
   "execution_count": 23,
   "id": "ebbf15d2-5907-4a99-898d-ca87002cea2a",
   "metadata": {},
   "outputs": [],
   "source": [
    "a = \"is\""
   ]
  },
  {
   "cell_type": "code",
   "execution_count": 18,
   "id": "925f97c0-ef87-46a1-b640-8f3913ddd317",
   "metadata": {},
   "outputs": [],
   "source": [
    "x = \"for\""
   ]
  },
  {
   "cell_type": "code",
   "execution_count": 22,
   "id": "c23c8e30-279a-44b0-9a18-db947a8a13cb",
   "metadata": {},
   "outputs": [
    {
     "ename": "SyntaxError",
     "evalue": "cannot assign to True (730670495.py, line 1)",
     "output_type": "error",
     "traceback": [
      "\u001b[1;36m  Cell \u001b[1;32mIn[22], line 1\u001b[1;36m\u001b[0m\n\u001b[1;33m    True = \"Hello world\"\u001b[0m\n\u001b[1;37m    ^\u001b[0m\n\u001b[1;31mSyntaxError\u001b[0m\u001b[1;31m:\u001b[0m cannot assign to True\n"
     ]
    }
   ],
   "source": [
    "True = \"Hello world\""
   ]
  },
  {
   "cell_type": "code",
   "execution_count": 25,
   "id": "35ddb1bb-3c39-4e0a-a1f8-874777960e40",
   "metadata": {},
   "outputs": [],
   "source": [
    "_True  = \"Hello world\""
   ]
  },
  {
   "cell_type": "code",
   "execution_count": 26,
   "id": "a60021b8-790c-4e36-99b4-1174bbdaaed7",
   "metadata": {},
   "outputs": [],
   "source": [
    "true = \"hello world\""
   ]
  },
  {
   "cell_type": "code",
   "execution_count": 27,
   "id": "6ce01073-b24f-4f5f-9294-19abd3e02fc1",
   "metadata": {},
   "outputs": [],
   "source": [
    "True_ = \"Hello world\""
   ]
  },
  {
   "cell_type": "code",
   "execution_count": 28,
   "id": "428f74d9-5018-4964-beeb-f9170566c724",
   "metadata": {},
   "outputs": [
    {
     "ename": "SyntaxError",
     "evalue": "invalid syntax (609930878.py, line 1)",
     "output_type": "error",
     "traceback": [
      "\u001b[1;36m  Cell \u001b[1;32mIn[28], line 1\u001b[1;36m\u001b[0m\n\u001b[1;33m    for = 123\u001b[0m\n\u001b[1;37m        ^\u001b[0m\n\u001b[1;31mSyntaxError\u001b[0m\u001b[1;31m:\u001b[0m invalid syntax\n"
     ]
    }
   ],
   "source": [
    "for = 123"
   ]
  },
  {
   "cell_type": "code",
   "execution_count": 29,
   "id": "872681a8-303e-4770-b931-686a2432595b",
   "metadata": {},
   "outputs": [],
   "source": [
    "for_ = 123"
   ]
  },
  {
   "cell_type": "code",
   "execution_count": 30,
   "id": "de433577-9229-4055-98d5-abeecba15d93",
   "metadata": {},
   "outputs": [],
   "source": [
    "for1 = 123"
   ]
  },
  {
   "cell_type": "code",
   "execution_count": 34,
   "id": "4eaa776c-e188-4325-bc9f-695925f7c4bc",
   "metadata": {},
   "outputs": [
    {
     "data": {
      "text/plain": [
       "34"
      ]
     },
     "execution_count": 34,
     "metadata": {},
     "output_type": "execute_result"
    }
   ],
   "source": [
    "_ = 34\n",
    "_"
   ]
  },
  {
   "cell_type": "code",
   "execution_count": 37,
   "id": "858b9ef0-bb67-4d2e-b7a4-ff941858c79c",
   "metadata": {},
   "outputs": [
    {
     "name": "stdout",
     "output_type": "stream",
     "text": [
      "20 30\n"
     ]
    }
   ],
   "source": [
    "\n",
    "x = 10\n",
    "y = 20\n",
    "x = y\n",
    "y = 30\n",
    "print( x , y )\n"
   ]
  },
  {
   "cell_type": "code",
   "execution_count": 22,
   "id": "44c057c3-f14e-4a8c-82e9-3358251efe64",
   "metadata": {},
   "outputs": [
    {
     "name": "stdout",
     "output_type": "stream",
     "text": [
      "10 20\n"
     ]
    }
   ],
   "source": [
    "\n",
    "x = 10\n",
    "y = 20\n",
    "print( x , y )"
   ]
  },
  {
   "cell_type": "code",
   "execution_count": 24,
   "id": "5a776291-cef1-4ebe-8c1d-b8fb353c8f83",
   "metadata": {},
   "outputs": [
    {
     "name": "stdout",
     "output_type": "stream",
     "text": [
      "30 30\n"
     ]
    }
   ],
   "source": [
    "x = y\n",
    "y = 30\n",
    "print( x , y )"
   ]
  },
  {
   "cell_type": "code",
   "execution_count": 53,
   "id": "e01f2e94-019a-4eb4-b310-554d1433dc68",
   "metadata": {},
   "outputs": [
    {
     "name": "stdout",
     "output_type": "stream",
     "text": [
      "100 200\n"
     ]
    }
   ],
   "source": [
    "x = 100\n",
    "y = 200\n",
    "print(x,y)"
   ]
  },
  {
   "cell_type": "code",
   "execution_count": 56,
   "id": "081043c5-5ef6-443b-9bf9-b7733ea16e55",
   "metadata": {},
   "outputs": [
    {
     "name": "stdout",
     "output_type": "stream",
     "text": [
      "<class 'float'>\n",
      "1.5625\n",
      "1.5625 3.125\n",
      "<class 'float'>\n"
     ]
    }
   ],
   "source": [
    "y = x/2\n",
    "x = y/2\n",
    "print(type(x))\n",
    "print(str(x))\n",
    "print(x,y)\n",
    "print(type(x))"
   ]
  },
  {
   "cell_type": "code",
   "execution_count": 74,
   "id": "7e7a0379-cdae-4c71-baaf-f7a204cb33d9",
   "metadata": {},
   "outputs": [
    {
     "name": "stdout",
     "output_type": "stream",
     "text": [
      "2\n",
      "<class 'int'>\n",
      "<class 'str'>\n"
     ]
    }
   ],
   "source": [
    "x = \"2\"\n",
    "print(x)\n",
    "print(type(int(x)))\n",
    "print(type(x))"
   ]
  },
  {
   "cell_type": "code",
   "execution_count": 76,
   "id": "99e6125c-5414-4753-8bc9-28c62de90c47",
   "metadata": {},
   "outputs": [
    {
     "name": "stdout",
     "output_type": "stream",
     "text": [
      "14\n",
      "8\n",
      "6\n"
     ]
    }
   ],
   "source": [
    "a = 5\n",
    "b = a\n",
    "a = b + 3\n",
    "b = a - 2\n",
    "c = a + b\n",
    "print(c)\n",
    "print(a)\n",
    "print(b)"
   ]
  },
  {
   "cell_type": "code",
   "execution_count": 77,
   "id": "1027b444-d048-48db-8e2f-a2be6ce1736b",
   "metadata": {},
   "outputs": [
    {
     "name": "stdout",
     "output_type": "stream",
     "text": [
      "134.0\n"
     ]
    }
   ],
   "source": [
    "a = \"45\"\n",
    "b = 89.00\n",
    "c = int(a) + b\n",
    "\n",
    "print(c)"
   ]
  }
 ],
 "metadata": {
  "kernelspec": {
   "display_name": "Python 3 (ipykernel)",
   "language": "python",
   "name": "python3"
  },
  "language_info": {
   "codemirror_mode": {
    "name": "ipython",
    "version": 3
   },
   "file_extension": ".py",
   "mimetype": "text/x-python",
   "name": "python",
   "nbconvert_exporter": "python",
   "pygments_lexer": "ipython3",
   "version": "3.13.5"
  }
 },
 "nbformat": 4,
 "nbformat_minor": 5
}
