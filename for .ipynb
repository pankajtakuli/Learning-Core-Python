{
 "cells": [
  {
   "cell_type": "markdown",
   "id": "c46d9163-9027-4df6-b50d-1ad0d1ad50d1",
   "metadata": {},
   "source": [
    "<b>_for loop_<b>"
   ]
  },
  {
   "cell_type": "markdown",
   "id": "c726b858-47bb-4cc4-b85d-2238c571e1da",
   "metadata": {},
   "source": [
    "A for loop is used to repeat a block of code a specific number of times, or for each item in a sequence (like a list , string ,etc)."
   ]
  },
  {
   "cell_type": "code",
   "execution_count": null,
   "id": "4b1fbb40-7977-4c8e-bfb3-2985fb0b7458",
   "metadata": {},
   "outputs": [],
   "source": [
    "# Syntax\n",
    "for vairable in sequence:\n",
    "    # code block (indented)"
   ]
  },
  {
   "cell_type": "code",
   "execution_count": 6,
   "id": "015b1479-7b6a-4343-b098-eca550142775",
   "metadata": {},
   "outputs": [
    {
     "name": "stdout",
     "output_type": "stream",
     "text": [
      "apple\n",
      "banana\n",
      "cherry\n"
     ]
    }
   ],
   "source": [
    "# Example 1\n",
    "fruits = [\"apple\" , \"banana\" , \"cherry\"]\n",
    "\n",
    "for fruit in fruits:\n",
    "    print(fruit)"
   ]
  },
  {
   "cell_type": "code",
   "execution_count": 8,
   "id": "98a004d8-89a6-4360-8bee-51b4c50c823f",
   "metadata": {},
   "outputs": [
    {
     "name": "stdout",
     "output_type": "stream",
     "text": [
      "apple banana cherry "
     ]
    }
   ],
   "source": [
    "# Example 2\n",
    "fruits = [\"apple\" , \"banana\" , \"cherry\"]\n",
    "\n",
    "for fruit in fruits:\n",
    "    print(fruit,end = \" \")"
   ]
  },
  {
   "cell_type": "markdown",
   "id": "7b26fd9e-9510-4491-a09f-ca3864f8c93b",
   "metadata": {},
   "source": [
    "<b>_using range with for loop_<b>"
   ]
  },
  {
   "cell_type": "markdown",
   "id": "ad553cd0-53ec-46e5-a2e3-b32c6c2c6519",
   "metadata": {},
   "source": [
    "range(start , stop , step)  is often useth with for to repeat something multiple time."
   ]
  },
  {
   "cell_type": "code",
   "execution_count": 10,
   "id": "9c20fde1-fb7f-491d-bd5a-ce41e7beda06",
   "metadata": {},
   "outputs": [
    {
     "name": "stdout",
     "output_type": "stream",
     "text": [
      "0\n",
      "1\n",
      "2\n",
      "3\n",
      "4\n"
     ]
    }
   ],
   "source": [
    "for i in range(5):\n",
    "    print(i) "
   ]
  },
  {
   "cell_type": "code",
   "execution_count": 15,
   "id": "d8e49645-465f-428e-879e-5202efccbfed",
   "metadata": {},
   "outputs": [
    {
     "name": "stdout",
     "output_type": "stream",
     "text": [
      "-10\n",
      "-8\n",
      "-6\n"
     ]
    }
   ],
   "source": [
    "for i in range(-10,-5,2):\n",
    "    print(i)"
   ]
  },
  {
   "cell_type": "code",
   "execution_count": 18,
   "id": "3f2198b9-3cf6-4f33-8eb9-4da049a46eb7",
   "metadata": {},
   "outputs": [
    {
     "name": "stdout",
     "output_type": "stream",
     "text": [
      "-10\n",
      "-9\n",
      "-8\n",
      "-7\n",
      "-6\n"
     ]
    }
   ],
   "source": [
    "for i in range(-10,-5):\n",
    "    print(i)"
   ]
  },
  {
   "cell_type": "markdown",
   "id": "f6aea33c-03fa-4b78-afa1-0be87fcaf571",
   "metadata": {},
   "source": [
    "<b>_nested for loop_<b>"
   ]
  },
  {
   "cell_type": "markdown",
   "id": "bf27e0ad-0238-4fee-8e6e-e29053d35077",
   "metadata": {},
   "source": [
    "A nested for loop is when one for loop is inside another."
   ]
  },
  {
   "cell_type": "code",
   "execution_count": null,
   "id": "aa4415d6-b512-4d54-89a0-9c7f5d5e0ffd",
   "metadata": {},
   "outputs": [],
   "source": [
    "# Syntax\n",
    "for i in outer_loop:\n",
    "    for j in inner_loop:\n",
    "        # Code block"
   ]
  },
  {
   "cell_type": "code",
   "execution_count": 20,
   "id": "adac4de6-67a4-400e-8aa3-93b12b17a2cb",
   "metadata": {},
   "outputs": [],
   "source": [
    "# Outer loop will work in coloumn\n",
    "# Inner loop will work in row"
   ]
  },
  {
   "cell_type": "code",
   "execution_count": 22,
   "id": "6049b262-9bf5-4e90-9ad2-a5a43ec3db6c",
   "metadata": {},
   "outputs": [
    {
     "name": "stdout",
     "output_type": "stream",
     "text": [
      "i=0, j =0\n",
      "i=0, j =1\n",
      "i=1, j =0\n",
      "i=1, j =1\n",
      "i=2, j =0\n",
      "i=2, j =1\n"
     ]
    }
   ],
   "source": [
    "for i in range(3): # Outer loop runs 3 times.\n",
    "    for j in range(2): # Inner loop runs 2 times for each outer\n",
    "        print(f\"i={i}, j ={j}\")"
   ]
  },
  {
   "cell_type": "markdown",
   "id": "9c7c971e-cae0-4144-a44e-bda73a83c02f",
   "metadata": {},
   "source": [
    "<b>_building loop skills_<b>"
   ]
  },
  {
   "cell_type": "code",
   "execution_count": 24,
   "id": "2e9bb49a-a693-49ee-b01a-0e0b946498c3",
   "metadata": {},
   "outputs": [
    {
     "name": "stdout",
     "output_type": "stream",
     "text": [
      "*\n",
      "**\n",
      "***\n",
      "****\n",
      "*****\n"
     ]
    }
   ],
   "source": [
    "# Right Angled Triangle \n",
    "\n",
    "rows = 5\n",
    "\n",
    "for i in range(1, rows + 1):\n",
    "    print(\"*\" * i)"
   ]
  },
  {
   "cell_type": "code",
   "execution_count": 28,
   "id": "7c9fa8b1-aebd-447e-8e5f-3093fe3af7e6",
   "metadata": {},
   "outputs": [
    {
     "name": "stdout",
     "output_type": "stream",
     "text": [
      "******\n",
      "*****\n",
      "****\n",
      "***\n",
      "**\n",
      "*\n"
     ]
    }
   ],
   "source": [
    "rows = 5\n",
    "for i in range(rows + 1,0,-1):\n",
    "    print(\"*\" * i)"
   ]
  },
  {
   "cell_type": "code",
   "execution_count": 13,
   "id": "92f1ed06-af87-4310-ac85-04882b421f79",
   "metadata": {},
   "outputs": [
    {
     "name": "stdout",
     "output_type": "stream",
     "text": [
      "    *\n",
      "   **\n",
      "  ***\n",
      " ****\n",
      "*****\n"
     ]
    }
   ],
   "source": [
    "rows = 5\n",
    "for i in range(1,rows + 1):\n",
    "    print((rows - i)*\" \",end=\"\")\n",
    "    print(\"*\"*i)"
   ]
  },
  {
   "cell_type": "code",
   "execution_count": null,
   "id": "1e724ee5-f738-4e12-ae76-cf70a5b0b35a",
   "metadata": {},
   "outputs": [],
   "source": []
  },
  {
   "cell_type": "code",
   "execution_count": 36,
   "id": "57cba4d0-b9d3-46a3-8dab-b4309b2a3536",
   "metadata": {},
   "outputs": [
    {
     "name": "stdout",
     "output_type": "stream",
     "text": [
      "1\n",
      "\n",
      "1\n",
      "2\n",
      "\n",
      "1\n",
      "2\n",
      "3\n",
      "\n",
      "1\n",
      "2\n",
      "3\n",
      "4\n",
      "\n",
      "1\n",
      "2\n",
      "3\n",
      "4\n",
      "5\n",
      "\n"
     ]
    }
   ],
   "source": [
    "\n",
    "rows = 5\n",
    "\n",
    "for i in range(1,rows + 1):\n",
    "    for j in range(1 , i + 1):\n",
    "        print(j)\n",
    "    print()"
   ]
  },
  {
   "cell_type": "code",
   "execution_count": 87,
   "id": "581736cb-b1de-40cf-baae-8e4afdb70d16",
   "metadata": {},
   "outputs": [
    {
     "name": "stdout",
     "output_type": "stream",
     "text": [
      "1 \n",
      "1 2 \n",
      "1 2 3 \n",
      "1 2 3 4 \n",
      "1 2 3 4 5 \n"
     ]
    }
   ],
   "source": [
    "\n",
    "rows = 5\n",
    "\n",
    "for i in range(1,rows + 1):\n",
    "    for j in range(1,i + 1):\n",
    "        print(j , end = \" \")\n",
    "    print()"
   ]
  },
  {
   "cell_type": "code",
   "execution_count": 43,
   "id": "396301d6-b710-4121-be77-e8d3049a4030",
   "metadata": {},
   "outputs": [
    {
     "name": "stdout",
     "output_type": "stream",
     "text": [
      "1\n",
      "2\n",
      "3\n",
      "4\n",
      "5\n",
      "6\n",
      "\n",
      "1\n",
      "2\n",
      "3\n",
      "4\n",
      "5\n",
      "\n",
      "1\n",
      "2\n",
      "3\n",
      "4\n",
      "\n",
      "1\n",
      "2\n",
      "3\n",
      "\n",
      "1\n",
      "2\n",
      "\n",
      "1\n",
      "\n"
     ]
    }
   ],
   "source": [
    "rows = 5\n",
    "\n",
    "for i in range(rows + 1 , 0 , -1):\n",
    "    for j in range(1,i + 1):\n",
    "        print(j)\n",
    "    print()"
   ]
  },
  {
   "cell_type": "code",
   "execution_count": 40,
   "id": "2a326305-ae0f-4c6b-97f6-54e2ddf37598",
   "metadata": {},
   "outputs": [
    {
     "name": "stdout",
     "output_type": "stream",
     "text": [
      "1 2 3 4 5 6 \n",
      "1 2 3 4 5 \n",
      "1 2 3 4 \n",
      "1 2 3 \n",
      "1 2 \n",
      "1 \n"
     ]
    }
   ],
   "source": [
    "rows = 5\n",
    "\n",
    "for i in range(rows + 1 , 0 , -1):\n",
    "    for j in range(1,i + 1):\n",
    "        print(j , end = \" \")\n",
    "    print()"
   ]
  },
  {
   "cell_type": "code",
   "execution_count": null,
   "id": "21c661d7-6da0-45e8-99d6-e60b7c2c2191",
   "metadata": {},
   "outputs": [],
   "source": []
  },
  {
   "cell_type": "code",
   "execution_count": null,
   "id": "88d287f1-b0ff-4708-81e6-97e2234466b2",
   "metadata": {},
   "outputs": [],
   "source": []
  },
  {
   "cell_type": "code",
   "execution_count": null,
   "id": "6ce9443b-bca2-4182-9aa9-2b3b30fa10f3",
   "metadata": {},
   "outputs": [],
   "source": []
  },
  {
   "cell_type": "code",
   "execution_count": 2,
   "id": "32f66950-3ce4-4610-9310-777b6c148e9c",
   "metadata": {},
   "outputs": [
    {
     "name": "stdout",
     "output_type": "stream",
     "text": [
      "1\n",
      "2\n",
      "3\n"
     ]
    }
   ],
   "source": [
    "for i in [1,2,3]: # no of element in the iterable\n",
    "    print(i)"
   ]
  },
  {
   "cell_type": "code",
   "execution_count": null,
   "id": "3eab2554-49f9-408d-abe4-cd00cd8169ba",
   "metadata": {},
   "outputs": [],
   "source": []
  },
  {
   "cell_type": "code",
   "execution_count": 21,
   "id": "9cd4d82e-7d15-401b-8d80-00bdd4c57f25",
   "metadata": {},
   "outputs": [
    {
     "name": "stdout",
     "output_type": "stream",
     "text": [
      "Mamta\n",
      "Mayank\n",
      "Tushar\n",
      "Nishi\n",
      "Priyanshu\n"
     ]
    }
   ],
   "source": [
    "names = [\"Mamta\", \"Mayank\",\"Tushar\",\"Nishi\",\"Priyanshu\",\"Abdullah\",\"Aayush\",\"Suhail\",\"Aarti\"]\n",
    "for x in range(5):\n",
    "    print(names[x])"
   ]
  },
  {
   "cell_type": "code",
   "execution_count": 3,
   "id": "522688e3-b53c-4297-9de5-3048a70337b7",
   "metadata": {},
   "outputs": [
    {
     "name": "stdout",
     "output_type": "stream",
     "text": [
      "Mamta\n",
      "Mayank\n",
      "Tushar\n",
      "Nishi\n",
      "Priyanshu\n",
      "Abdullah\n",
      "Aayush\n",
      "Suhail\n",
      "Aarti\n"
     ]
    }
   ],
   "source": [
    "names = [\"Mamta\", \"Mayank\",\"Tushar\",\"Nishi\",\"Priyanshu\",\"Abdullah\",\"Aayush\",\"Suhail\",\"Aarti\"]\n",
    "for x in names:\n",
    "    print(x)"
   ]
  },
  {
   "cell_type": "code",
   "execution_count": 8,
   "id": "1fb38dc2-e479-4071-9811-3b64ec46ad80",
   "metadata": {},
   "outputs": [
    {
     "name": "stdout",
     "output_type": "stream",
     "text": [
      "0\n",
      "1\n",
      "2\n",
      "3\n",
      "4\n"
     ]
    }
   ],
   "source": [
    "names = [\"Mamta\", \"Mayank\",\"Tushar\",\"Nishi\",\"Priyanshu\",\"Abdullah\",\"Aayush\",\"Suhail\",\"Aarti\"]\n",
    "for x in range(5):\n",
    "    print(x)"
   ]
  },
  {
   "cell_type": "code",
   "execution_count": 9,
   "id": "2b3e212a-90cf-4b0e-9174-5b331d2a0cc0",
   "metadata": {},
   "outputs": [
    {
     "name": "stdout",
     "output_type": "stream",
     "text": [
      "P\n",
      "y\n",
      "t\n",
      "h\n",
      "o\n",
      "n\n"
     ]
    }
   ],
   "source": [
    "# Print Each Letter in a Word\n",
    "word = \"Python\"\n",
    "for letter in word:\n",
    "    print(letter)"
   ]
  },
  {
   "cell_type": "code",
   "execution_count": 14,
   "id": "cf2d74ac-564c-4b4c-a03e-a3c966a27d3b",
   "metadata": {},
   "outputs": [
    {
     "name": "stdout",
     "output_type": "stream",
     "text": [
      "0\n",
      "1\n",
      "2\n",
      "3\n",
      "4\n",
      "Hello World\n"
     ]
    }
   ],
   "source": [
    "for x in range(5):\n",
    "    print(x)\n",
    "print(\"Hello World\")"
   ]
  },
  {
   "cell_type": "code",
   "execution_count": 20,
   "id": "8c696dba-25bf-4ced-a1e3-927dc4fbcebd",
   "metadata": {},
   "outputs": [
    {
     "name": "stdout",
     "output_type": "stream",
     "text": [
      "10\n",
      "4\n"
     ]
    }
   ],
   "source": [
    "y = 0\n",
    "for x in range(5):\n",
    "    y = y + x\n",
    "\n",
    "print(y)\n",
    "print(x)"
   ]
  },
  {
   "cell_type": "code",
   "execution_count": 19,
   "id": "129947ea-dbea-493e-8353-5ad1403ac143",
   "metadata": {},
   "outputs": [
    {
     "name": "stdout",
     "output_type": "stream",
     "text": [
      "5\n",
      "4\n"
     ]
    }
   ],
   "source": [
    "y = 0\n",
    "for x in range(5):\n",
    "    y += 1\n",
    "\n",
    "print(y)\n",
    "print(x)"
   ]
  },
  {
   "cell_type": "code",
   "execution_count": 1,
   "id": "9774c921-b0fb-4eaf-87f3-03df94d0f893",
   "metadata": {},
   "outputs": [
    {
     "name": "stdout",
     "output_type": "stream",
     "text": [
      "6\n"
     ]
    }
   ],
   "source": [
    "count = 0\n",
    "device = \"laptop\"\n",
    "for x in device:\n",
    "    count += 1 # It will count the device lenght and add in count vairable.\n",
    "print(count)"
   ]
  },
  {
   "cell_type": "code",
   "execution_count": 3,
   "id": "42af1b77-d8af-44b1-b7d4-fe08e25bd344",
   "metadata": {},
   "outputs": [
    {
     "name": "stdout",
     "output_type": "stream",
     "text": [
      "6\n"
     ]
    }
   ],
   "source": [
    "count = 0\n",
    "device = \"laptop\"\n",
    "for x in device:\n",
    "    count = count + 1\n",
    "print(count)"
   ]
  },
  {
   "cell_type": "code",
   "execution_count": 1,
   "id": "a6264a2d-8325-4531-95f0-d6e220188cfb",
   "metadata": {},
   "outputs": [
    {
     "name": "stdout",
     "output_type": "stream",
     "text": [
      "*\n",
      "**\n",
      "***\n",
      "****\n",
      "*****\n"
     ]
    }
   ],
   "source": [
    "rows = 5\n",
    "\n",
    "for i in range(1,rows + 1):\n",
    "    print(\"*\"*i)"
   ]
  },
  {
   "cell_type": "code",
   "execution_count": 2,
   "id": "1a0345ff-6fba-4a6d-96d1-006820d1b1d2",
   "metadata": {},
   "outputs": [
    {
     "name": "stdout",
     "output_type": "stream",
     "text": [
      "*****\n",
      "****\n",
      "***\n",
      "**\n",
      "*\n"
     ]
    }
   ],
   "source": [
    "rows = 5\n",
    "\n",
    "for i in range(rows , 0 , -1):\n",
    "    print(\"*\"*i)"
   ]
  },
  {
   "cell_type": "code",
   "execution_count": 13,
   "id": "748b5746-4dd9-4285-890d-9742f53b6826",
   "metadata": {},
   "outputs": [
    {
     "name": "stdout",
     "output_type": "stream",
     "text": [
      "    *\n",
      "   ***\n",
      "  *****\n",
      " *******\n",
      "*********\n"
     ]
    }
   ],
   "source": [
    "rows = 5\n",
    "for i in range(1,rows + 1):\n",
    "    print((rows - i)*\" \",end=\"\")\n",
    "    print((2*i-1)*\"*\")"
   ]
  },
  {
   "cell_type": "code",
   "execution_count": 4,
   "id": "b9cba02c-bff9-427f-9672-631174ae000c",
   "metadata": {},
   "outputs": [
    {
     "name": "stdout",
     "output_type": "stream",
     "text": [
      " * * * * * *\n"
     ]
    }
   ],
   "source": [
    "\n",
    "\n",
    "for i in range(5,4,-1):\n",
    "    print(i*\" *\",end=\" \")\n",
    "    print(\"*\")"
   ]
  },
  {
   "cell_type": "code",
   "execution_count": 6,
   "id": "7f78e818-e486-4b0c-8b9c-98238f7ccf06",
   "metadata": {},
   "outputs": [
    {
     "name": "stdout",
     "output_type": "stream",
     "text": [
      "1 2 3 4 5 6 \n",
      "1 2 3 4 5 \n",
      "1 2 3 4 \n",
      "1 2 3 \n",
      "1 2 \n",
      "1 \n"
     ]
    }
   ],
   "source": [
    "rows = 5\n",
    "\n",
    "for i in range(rows + 1 , 0 , -1):\n",
    "    for j in range(1,i + 1):\n",
    "        print(j , end = \" \")\n",
    "    print()"
   ]
  },
  {
   "cell_type": "code",
   "execution_count": 7,
   "id": "9b8d43e9-5b2b-4b12-bba6-659c28ab8ccd",
   "metadata": {},
   "outputs": [
    {
     "name": "stdout",
     "output_type": "stream",
     "text": [
      "5 *  1 = 5\n",
      "5 *  2 = 10\n",
      "5 *  3 = 15\n",
      "5 *  4 = 20\n",
      "5 *  5 = 25\n",
      "5 *  6 = 30\n",
      "5 *  7 = 35\n",
      "5 *  8 = 40\n",
      "5 *  9 = 45\n",
      "5 *  10 = 50\n"
     ]
    }
   ],
   "source": [
    "# Multiplication table \n",
    "\n",
    "num = 5\n",
    "for i in range (1,11):\n",
    "    print(\"5 * \",i,\"=\",5*i)"
   ]
  },
  {
   "cell_type": "code",
   "execution_count": 8,
   "id": "93498e33-19f2-45c5-8604-efc53891d97e",
   "metadata": {},
   "outputs": [
    {
     "name": "stdout",
     "output_type": "stream",
     "text": [
      " * * * * * "
     ]
    }
   ],
   "source": [
    "\n",
    "for i in range(5,4,-1):\n",
    "    print(i*\" *\",end=\" \")\n",
    "    # print(\"*\")"
   ]
  },
  {
   "cell_type": "code",
   "execution_count": 22,
   "id": "4ae6742d-015e-4bdd-bef0-58b7a9ebba2c",
   "metadata": {},
   "outputs": [
    {
     "name": "stdout",
     "output_type": "stream",
     "text": [
      " + + + + + +\n",
      " + + + + + +\n",
      " + + + + + +\n",
      " + + + + + +\n",
      " + + + + + +\n"
     ]
    }
   ],
   "source": [
    "for i in range(1,6):\n",
    "    for j in range(1,7):\n",
    "        print(\" +\",end=\"\")\n",
    "    print()"
   ]
  },
  {
   "cell_type": "code",
   "execution_count": 6,
   "id": "de81d444-df62-4eab-b45e-07bba4bb8145",
   "metadata": {},
   "outputs": [
    {
     "name": "stdout",
     "output_type": "stream",
     "text": [
      "\n",
      " * * * * * *\n",
      " *\n",
      " * * * * * *\n",
      " * *\n",
      " * * * * * *\n",
      " * * *\n",
      " * * * * * *\n",
      " * * * *\n",
      " * * * * * *\n",
      " * * * * *\n",
      " * * * * * *\n"
     ]
    }
   ],
   "source": [
    "for i in range(0,6):\n",
    "    print(i*\" *\")\n",
    "    print(\" *\" * 6)"
   ]
  },
  {
   "cell_type": "code",
   "execution_count": 59,
   "id": "3d96e729-691b-4831-923b-b6b5f7ef4c2d",
   "metadata": {},
   "outputs": [
    {
     "ename": "TypeError",
     "evalue": "'int' object is not iterable",
     "output_type": "error",
     "traceback": [
      "\u001b[1;31m---------------------------------------------------------------------------\u001b[0m",
      "\u001b[1;31mTypeError\u001b[0m                                 Traceback (most recent call last)",
      "Cell \u001b[1;32mIn[59], line 2\u001b[0m\n\u001b[0;32m      1\u001b[0m \u001b[38;5;28;01mfor\u001b[39;00m i \u001b[38;5;129;01min\u001b[39;00m \u001b[38;5;28mrange\u001b[39m(\u001b[38;5;241m1\u001b[39m,\u001b[38;5;241m5\u001b[39m):\n\u001b[1;32m----> 2\u001b[0m     \u001b[38;5;28;01mfor\u001b[39;00m j \u001b[38;5;129;01min\u001b[39;00m i:\n\u001b[0;32m      3\u001b[0m         \u001b[38;5;28mprint\u001b[39m(\u001b[38;5;124m\"\u001b[39m\u001b[38;5;124m*\u001b[39m\u001b[38;5;124m\"\u001b[39m,end\u001b[38;5;241m=\u001b[39m\u001b[38;5;124m'\u001b[39m\u001b[38;5;124m \u001b[39m\u001b[38;5;124m'\u001b[39m)\n\u001b[0;32m      4\u001b[0m     \u001b[38;5;28mprint\u001b[39m()\n",
      "\u001b[1;31mTypeError\u001b[0m: 'int' object is not iterable"
     ]
    }
   ],
   "source": [
    "for i in range(1,5):\n",
    "    for j in i:\n",
    "        print(\"*\",end=' ')\n",
    "    print()\n",
    "print(\"*  \"*5)"
   ]
  },
  {
   "cell_type": "code",
   "execution_count": 4,
   "id": "63cbfa11-1fee-4d9b-ba53-e5375044c040",
   "metadata": {},
   "outputs": [
    {
     "name": "stdout",
     "output_type": "stream",
     "text": [
      "6\n",
      "5\n",
      "4\n",
      "3\n",
      "2\n",
      "1\n",
      "0\n",
      "Your counting is over >\n"
     ]
    }
   ],
   "source": [
    "i = 6\n",
    "while i >= 0:\n",
    "    print(i)\n",
    "    i -= 1\n",
    "print(\"Your counting is over >\")"
   ]
  },
  {
   "cell_type": "code",
   "execution_count": 7,
   "id": "08370334-ef31-41aa-8170-f1b58e18970c",
   "metadata": {},
   "outputs": [
    {
     "name": "stdout",
     "output_type": "stream",
     "text": [
      "20\n",
      "18\n",
      "16\n",
      "14\n",
      "12\n",
      "10\n",
      "8\n",
      "6\n"
     ]
    }
   ],
   "source": [
    "i  = 20\n",
    "while i < 2*(i-2):\n",
    "    print(i)  \n",
    "    i -= 2"
   ]
  },
  {
   "cell_type": "code",
   "execution_count": 10,
   "id": "55824ffa-31d6-4887-aacc-1663f4a252b8",
   "metadata": {},
   "outputs": [
    {
     "name": "stdout",
     "output_type": "stream",
     "text": [
      " * * * * * 5\n"
     ]
    }
   ],
   "source": [
    "\n",
    "for i in range(5,4,-1):\n",
    "    print(i*\" *\",end=\" \")\n",
    "    # if i == \n",
    "    "
   ]
  },
  {
   "cell_type": "code",
   "execution_count": 11,
   "id": "601982ea-fe57-484f-bd94-7499b772b0cf",
   "metadata": {},
   "outputs": [
    {
     "name": "stdout",
     "output_type": "stream",
     "text": [
      "5\n",
      "4\n",
      "3\n",
      "2\n",
      "1\n"
     ]
    }
   ],
   "source": [
    "for i in range(5,0,-1):\n",
    "    print(\"8\" * )"
   ]
  },
  {
   "cell_type": "code",
   "execution_count": 22,
   "id": "dc2e44b6-e3d0-4cba-85fb-2b0fa134bc63",
   "metadata": {},
   "outputs": [
    {
     "name": "stdin",
     "output_type": "stream",
     "text": [
      "ENter the name pankaj\n",
      "ENter the password 1234\n",
      "ENter the name dsf\n",
      "ENter the password asd\n",
      "ENter the name fads\n",
      "ENter the password f\n"
     ]
    },
    {
     "name": "stdout",
     "output_type": "stream",
     "text": [
      "Try again!\n"
     ]
    }
   ],
   "source": [
    "name = \"pankaj\"\n",
    "password = 1234\n",
    "\n",
    "for p in range(1,4):\n",
    "    n = input(\"ENter the name\")\n",
    "    p = input(\"ENter the password\")\n",
    "if  n == \"pankaj\" and p == 1234:\n",
    "    print(\"you have successfully login!\")\n",
    "else:\n",
    "    print(\"Try again!\")\n",
    "        # for p in range(1,4):\n",
    "        #     p = input(\"ENter the password again:\")\n",
    "        \n",
    "    "
   ]
  },
  {
   "cell_type": "code",
   "execution_count": null,
   "id": "677d621e-b4b3-4cb6-822d-d3587d0767e9",
   "metadata": {},
   "outputs": [],
   "source": []
  },
  {
   "cell_type": "code",
   "execution_count": null,
   "id": "74a2ab16-f72f-43a4-ac5e-b239e81dd5a3",
   "metadata": {},
   "outputs": [],
   "source": []
  },
  {
   "cell_type": "code",
   "execution_count": 58,
   "id": "0a859dc2-abbe-4aeb-9ae1-6ca735dd4c48",
   "metadata": {},
   "outputs": [
    {
     "name": "stdin",
     "output_type": "stream",
     "text": [
      "Enter name: asdfa\n",
      "Enter password in numbers: 232\n"
     ]
    },
    {
     "name": "stdout",
     "output_type": "stream",
     "text": [
      "Wrong password!\n"
     ]
    },
    {
     "name": "stdin",
     "output_type": "stream",
     "text": [
      "Enter name again: adsga\n",
      "Enter password again: 234\n"
     ]
    },
    {
     "name": "stdout",
     "output_type": "stream",
     "text": [
      "Wrong password and username! Try again!\n"
     ]
    },
    {
     "name": "stdin",
     "output_type": "stream",
     "text": [
      "Enter name again: pankaj\n",
      "Enter password again: 1234\n"
     ]
    },
    {
     "name": "stdout",
     "output_type": "stream",
     "text": [
      "You have login successfully!\n"
     ]
    }
   ],
   "source": [
    "name = input(\"Enter name:\")\n",
    "password = int(input(\"Enter password in numbers:\"))\n",
    "if name == \"pankaj\" and password == 1234:\n",
    "    print(\"You have login successfully!\")\n",
    "else:\n",
    "    print(\"Wrong password!\")\n",
    "    for name in range(3): \n",
    "        name = input(\"Enter name again:\")\n",
    "        password = int(input(\"Enter password again:\"))\n",
    "        if name == \"pankaj\" and password == 1234:\n",
    "            print(\"You have login successfully!\")\n",
    "            break\n",
    "        else:\n",
    "            print(\"Wrong password and username! Try again!\")\n",
    "          "
   ]
  },
  {
   "cell_type": "code",
   "execution_count": 88,
   "id": "ae65377e-11a3-4156-9858-f9a7de81bd0d",
   "metadata": {},
   "outputs": [
    {
     "name": "stdout",
     "output_type": "stream",
     "text": [
      "* * * * * \n",
      "*       *\n",
      "*       *\n",
      "* * * * * \n"
     ]
    }
   ],
   "source": [
    "\n",
    "for i in range(5,0,-1):\n",
    "    print(i*\"* \",)\n",
    "    if i == 5:\n",
    "        print(\"*\",\" \"*5,\"*\")\n",
    "        print(\"*\",\" \"*5,\"*\")\n",
    "        print(\"* \"*5)\n",
    "        break\n",
    "        "
   ]
  },
  {
   "cell_type": "code",
   "execution_count": 89,
   "id": "7e1c48a2-8fda-4ec9-a565-5f4f9ca23e84",
   "metadata": {},
   "outputs": [],
   "source": [
    "# Outer loop will run  in coloumn \n",
    "# Inner loop will run in rows"
   ]
  },
  {
   "cell_type": "code",
   "execution_count": 4,
   "id": "3097d7dc-46a4-488d-9719-2cb4839ba9ee",
   "metadata": {},
   "outputs": [
    {
     "name": "stdout",
     "output_type": "stream",
     "text": [
      "1 \n",
      "1 2 \n",
      "1 2 3 \n",
      "1 2 3 4 \n",
      "1 2 3 4 5 \n"
     ]
    }
   ],
   "source": [
    "rows = 5\n",
    "for i in range(1,rows + 1):\n",
    "    for j in range(1, i + 1):\n",
    "        print(j, end = \" \")\n",
    "    print()"
   ]
  },
  {
   "cell_type": "code",
   "execution_count": 7,
   "id": "62932cba-2172-420b-9a5c-938876ca726b",
   "metadata": {},
   "outputs": [
    {
     "name": "stdout",
     "output_type": "stream",
     "text": [
      "1\n",
      "\n",
      "1\n",
      "\n",
      "2\n",
      "\n",
      "1\n",
      "\n",
      "2\n",
      "\n",
      "3\n",
      "\n",
      "1\n",
      "\n",
      "2\n",
      "\n",
      "3\n",
      "\n",
      "4\n",
      "\n",
      "1\n",
      "\n",
      "2\n",
      "\n",
      "3\n",
      "\n",
      "4\n",
      "\n",
      "5\n",
      "\n"
     ]
    }
   ],
   "source": [
    "rows = 5\n",
    "for i in range(1,rows + 1):\n",
    "    for j in range(1, i + 1):\n",
    "        print(j)\n",
    "        print()"
   ]
  },
  {
   "cell_type": "code",
   "execution_count": 8,
   "id": "703cae72-c13e-4f9a-ab3b-98efc3d46366",
   "metadata": {},
   "outputs": [
    {
     "name": "stdout",
     "output_type": "stream",
     "text": [
      "1 \n",
      "1 2 3 \n",
      "1 2 3 4 5 \n",
      "1 2 3 4 5 6 7 \n",
      "1 2 3 4 5 6 7 8 9 \n"
     ]
    }
   ],
   "source": [
    "rows = 5\n",
    "for i in range(1,rows + 1):\n",
    "    for j in range(1, i * 2):\n",
    "        print(j,end = \" \")\n",
    "    print()"
   ]
  },
  {
   "cell_type": "code",
   "execution_count": 27,
   "id": "504121c3-49ba-4784-a302-b38d41cbcc52",
   "metadata": {},
   "outputs": [
    {
     "name": "stdout",
     "output_type": "stream",
     "text": [
      "\n",
      "* \n",
      "* * \n",
      "* * * \n",
      "* * * * \n"
     ]
    }
   ],
   "source": [
    "for i in range(5):\n",
    "    for j in range(1,i + 1):\n",
    "        print(\"*\",end = \" \")\n",
    "    print()"
   ]
  },
  {
   "cell_type": "code",
   "execution_count": 59,
   "id": "2a564e99-f2cb-4335-9cff-232d51507401",
   "metadata": {},
   "outputs": [
    {
     "name": "stdout",
     "output_type": "stream",
     "text": [
      "     *\n",
      "    ***\n",
      "   *****\n",
      "  *******\n",
      " ********\n",
      "  ******\n",
      "   ****\n",
      "    **\n",
      "     *\n"
     ]
    }
   ],
   "source": [
    "for i in range(1,5):\n",
    "    print(\" \"*(6 - i),end = \"\")\n",
    "    print(\"*\"*(i*2-1))\n",
    "if i == 4:\n",
    "    for i in range(1,6):\n",
    "        print(\" \"*i,end=\"\")\n",
    "        print(\"*\"*(9 - i*2),end=\"\")\n",
    "        print(\"*\")"
   ]
  },
  {
   "cell_type": "code",
   "execution_count": 14,
   "id": "99117069-959c-4851-aa46-169dc582228a",
   "metadata": {},
   "outputs": [
    {
     "name": "stdout",
     "output_type": "stream",
     "text": [
      "     *\n",
      "    ***\n",
      "   *****\n",
      "  *******\n"
     ]
    }
   ],
   "source": [
    "for i in range(1,5):\n",
    "    print(\" \"*(6 - i),end = \"\")\n",
    "    print(\"*\"*(i*2-1))"
   ]
  },
  {
   "cell_type": "code",
   "execution_count": 47,
   "id": "43bb12d0-424d-44ed-b765-6c8ea1f2fcdd",
   "metadata": {},
   "outputs": [
    {
     "name": "stdout",
     "output_type": "stream",
     "text": [
      " *******\n",
      "  *****\n",
      "   ***\n",
      "    *\n"
     ]
    }
   ],
   "source": [
    "for i in range(1,5):\n",
    "    print(\" \"*i,end=\"\")\n",
    "    print(\"*\"*(8 - i*2),end=\"\")\n",
    "    print(\"*\")\n",
    "    "
   ]
  },
  {
   "cell_type": "code",
   "execution_count": 24,
   "id": "63bc31eb-6715-4d4c-9a6d-09159c6d9bbf",
   "metadata": {},
   "outputs": [
    {
     "name": "stdout",
     "output_type": "stream",
     "text": [
      "*********    \n",
      "*******   \n",
      "*****  \n",
      "*** \n",
      "*\n"
     ]
    }
   ],
   "source": [
    "for i in range(5,0,-1):\n",
    "    print((2*i-1)*\"*\",end=\"\")\n",
    "    print((i-1)*\" \")"
   ]
  },
  {
   "cell_type": "code",
   "execution_count": 61,
   "id": "83c1325d-9f15-4634-92b6-72b2c2a9171e",
   "metadata": {},
   "outputs": [],
   "source": []
  },
  {
   "cell_type": "code",
   "execution_count": null,
   "id": "16d47f8e-fbd4-4b7f-9a88-caa4f954685e",
   "metadata": {},
   "outputs": [],
   "source": []
  },
  {
   "cell_type": "code",
   "execution_count": null,
   "id": "9858d1b9-9774-464e-8c23-6ea37fa0d545",
   "metadata": {},
   "outputs": [],
   "source": []
  }
 ],
 "metadata": {
  "kernelspec": {
   "display_name": "Python 3 (ipykernel)",
   "language": "python",
   "name": "python3"
  },
  "language_info": {
   "codemirror_mode": {
    "name": "ipython",
    "version": 3
   },
   "file_extension": ".py",
   "mimetype": "text/x-python",
   "name": "python",
   "nbconvert_exporter": "python",
   "pygments_lexer": "ipython3",
   "version": "3.13.5"
  }
 },
 "nbformat": 4,
 "nbformat_minor": 5
}
