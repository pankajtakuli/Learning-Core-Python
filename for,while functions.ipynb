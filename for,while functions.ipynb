{
 "cells": [
  {
   "cell_type": "markdown",
   "id": "211da530-4306-4fa7-9ab3-7521f3011d22",
   "metadata": {},
   "source": [
    "### Basic for loop in Python"
   ]
  },
  {
   "cell_type": "markdown",
   "id": "ee161b6c-b235-4fc1-b179-6bbe6982b508",
   "metadata": {},
   "source": [
    "A for loop is used to repeat a block of code a specific number of times, or for each item in a sequence (like a list, string, etc.)."
   ]
  },
  {
   "cell_type": "code",
   "execution_count": null,
   "id": "989890c1-998c-4731-a581-c8adcfab2fa2",
   "metadata": {},
   "outputs": [],
   "source": [
    "#Syntax\n",
    "for variable in sequence:\n",
    "    # Code block (indented)\n"
   ]
  },
  {
   "cell_type": "code",
   "execution_count": 33,
   "id": "580a4758-9ec2-421c-bf62-83121630ef8e",
   "metadata": {},
   "outputs": [
    {
     "name": "stdout",
     "output_type": "stream",
     "text": [
      "apple\n",
      "banana\n",
      "cherry\n"
     ]
    }
   ],
   "source": [
    "# example 1\n",
    "fruits = [\"apple\", \"banana\", \"cherry\"]\n",
    "\n",
    "for fruit in fruits:\n",
    "    print(fruit)\n"
   ]
  },
  {
   "cell_type": "code",
   "execution_count": 4,
   "id": "fd2bc457-25c0-4eac-8c54-e14e74bad1a1",
   "metadata": {},
   "outputs": [
    {
     "name": "stdout",
     "output_type": "stream",
     "text": [
      "apple banana cherry "
     ]
    }
   ],
   "source": [
    "fruits = [\"apple\", \"banana\", \"cherry\"]\n",
    "\n",
    "for fruit in fruits:\n",
    "    print(fruit,end=\" \")"
   ]
  },
  {
   "cell_type": "code",
   "execution_count": 38,
   "id": "88c02419-9c98-44a1-9933-58ec86e2351b",
   "metadata": {},
   "outputs": [
    {
     "name": "stdout",
     "output_type": "stream",
     "text": [
      "apple\n",
      "banana\n",
      "cherry\n"
     ]
    }
   ],
   "source": [
    "fruits = [\"apple\", \"banana\", \"cherry\"]\n",
    "\n",
    "for fruit in fruits:\n",
    "    print(fruit,end=\"\\n\")"
   ]
  },
  {
   "cell_type": "code",
   "execution_count": 39,
   "id": "7d3cb610-7f20-4944-a577-b2b1d36253b7",
   "metadata": {},
   "outputs": [
    {
     "name": "stdout",
     "output_type": "stream",
     "text": [
      "apple%%%%%%banana%%%%%%cherry%%%%%%"
     ]
    }
   ],
   "source": [
    "fruits = [\"apple\", \"banana\", \"cherry\"]\n",
    "\n",
    "for fruit in fruits:\n",
    "    print(fruit,end=\"%%%%%%\")"
   ]
  },
  {
   "cell_type": "raw",
   "id": "e799042f-81ec-41ae-b169-43353b29fe24",
   "metadata": {},
   "source": [
    "🔢 Using range() with for loop\n",
    "range(start, stop, step) is often used with for to repeat something multiple times\n"
   ]
  },
  {
   "cell_type": "code",
   "execution_count": 32,
   "id": "9a53b5df-5c3a-4382-adf5-ba75b6c78172",
   "metadata": {},
   "outputs": [
    {
     "name": "stdout",
     "output_type": "stream",
     "text": [
      "15\n",
      "22\n"
     ]
    }
   ],
   "source": [
    "for i in range(15,25,7):\n",
    "    print(i)\n"
   ]
  },
  {
   "cell_type": "code",
   "execution_count": 3,
   "id": "c842f167-4a75-4037-af61-77aa7ef84de1",
   "metadata": {},
   "outputs": [
    {
     "name": "stdout",
     "output_type": "stream",
     "text": [
      "0\n",
      "1\n",
      "2\n",
      "3\n",
      "4\n"
     ]
    }
   ],
   "source": [
    "for i in range(5):\n",
    "    print(i)"
   ]
  },
  {
   "cell_type": "code",
   "execution_count": 1,
   "id": "c41f0f1f-091b-4ba2-bac9-703d6a8131fb",
   "metadata": {},
   "outputs": [],
   "source": [
    "for i in range(45,25,7):\n",
    "    print(i)               # why no response"
   ]
  },
  {
   "cell_type": "raw",
   "id": "591da3bb-e263-4c8b-beb3-7b367cecf8fe",
   "metadata": {},
   "source": [
    "🔂 Nested for loops\n",
    "A nested loop is when one for loop is inside another."
   ]
  },
  {
   "cell_type": "code",
   "execution_count": null,
   "id": "a8ba41b6-ea91-4f72-849b-f6b82de71126",
   "metadata": {},
   "outputs": [],
   "source": [
    "# Syntax\n",
    "for i in outer_loop:\n",
    "    for j in inner_loop:\n",
    "        # Code block\n"
   ]
  },
  {
   "cell_type": "code",
   "execution_count": 3,
   "id": "0da176f6-09c0-4e6c-8d2d-233a17ed8718",
   "metadata": {},
   "outputs": [
    {
     "name": "stdout",
     "output_type": "stream",
     "text": [
      "i=0, j=0\n",
      "i=0, j=1\n",
      "i=1, j=0\n",
      "i=1, j=1\n",
      "i=2, j=0\n",
      "i=2, j=1\n"
     ]
    }
   ],
   "source": [
    "for i in range(3):  # Outer loop runs 3 times\n",
    "    for j in range(2):  # Inner loop runs 2 times for each outer\n",
    "        print(f\"i={i}, j={j}\")\n"
   ]
  },
  {
   "cell_type": "markdown",
   "id": "f573f22a-54ad-4a5d-b5f5-16b209731a19",
   "metadata": {},
   "source": [
    "### building  loop skills!"
   ]
  },
  {
   "cell_type": "code",
   "execution_count": 11,
   "id": "db2ef151-9180-4a1a-b649-952ee8cbc69f",
   "metadata": {},
   "outputs": [
    {
     "name": "stdout",
     "output_type": "stream",
     "text": [
      "gadha\n",
      "gadhagadha\n",
      "gadhagadhagadha\n",
      "gadhagadhagadhagadha\n"
     ]
    }
   ],
   "source": [
    "# Right angled Triangle\n",
    "\n",
    "rows = 5\n",
    "\n",
    "for i in range(1, rows ):\n",
    "    print(\"gadha\" * i)\n"
   ]
  },
  {
   "cell_type": "markdown",
   "id": "1a5c29b5-ef68-4afc-8b46-cac80abd87d4",
   "metadata": {},
   "source": [
    "## Explanation\n",
    "\n",
    "# Right angled Triangle\n",
    "\n",
    "i goes from 1 to 5.\n",
    "\n",
    "For each row i, we print * repeated i times.\n",
    "\n",
    "print(\"*\" * i) means string multiplication like \"*\" * 3 → ***\".\n",
    "\n",
    "📌 Key idea:\n",
    "\n",
    "Use a single loop when printing repeated characters is enough."
   ]
  },
  {
   "cell_type": "code",
   "execution_count": 9,
   "id": "72c95c27-564e-421d-845c-7b88e6a529c9",
   "metadata": {},
   "outputs": [
    {
     "data": {
      "text/plain": [
       "'AbdullahAbdullah'"
      ]
     },
     "execution_count": 9,
     "metadata": {},
     "output_type": "execute_result"
    }
   ],
   "source": [
    "'Abdullah'*2\n"
   ]
  },
  {
   "cell_type": "markdown",
   "id": "93d132d5-83f1-4b6d-94e0-4d2676ba4eab",
   "metadata": {},
   "source": []
  },
  {
   "cell_type": "raw",
   "id": "016b9234-4dd1-493b-946a-c39648636d60",
   "metadata": {},
   "source": [
    "⭐ Pattern 2: Number Pyramid"
   ]
  },
  {
   "cell_type": "code",
   "execution_count": 1,
   "id": "ac949b6f-67f0-4b6f-ba9c-829e6facfc9b",
   "metadata": {},
   "outputs": [
    {
     "name": "stdout",
     "output_type": "stream",
     "text": [
      "1\n",
      "\n",
      "1\n",
      "2\n",
      "\n",
      "1\n",
      "2\n",
      "3\n",
      "\n",
      "1\n",
      "2\n",
      "3\n",
      "4\n",
      "\n",
      "1\n",
      "2\n",
      "3\n",
      "4\n",
      "5\n",
      "\n"
     ]
    }
   ],
   "source": [
    "rows = 5\n",
    "\n",
    "for i in range(1, rows + 1):\n",
    "    for j in range(1, i + 1):\n",
    "        print(j)\n",
    "    \n",
    "    print()\n"
   ]
  },
  {
   "cell_type": "code",
   "execution_count": 11,
   "id": "8029f8e9-691a-407b-9d66-6963b0e8c2e8",
   "metadata": {},
   "outputs": [
    {
     "name": "stdout",
     "output_type": "stream",
     "text": [
      "112123123412345"
     ]
    }
   ],
   "source": [
    "rows = 5\n",
    "\n",
    "for i in range(1, rows + 1):\n",
    "    for j in range(1, i + 1):\n",
    "         print(j,end=\"\")\n",
    "  "
   ]
  },
  {
   "cell_type": "code",
   "execution_count": 1,
   "id": "162c1aac-59a8-4a80-b0f3-35895b9d93d5",
   "metadata": {},
   "outputs": [
    {
     "name": "stdout",
     "output_type": "stream",
     "text": [
      "1\n",
      "123\n",
      "12345\n",
      "1234567\n",
      "123456789\n"
     ]
    }
   ],
   "source": [
    "rows = 5\n",
    "\n",
    "for i in range(1, rows + 1):\n",
    "    for j in range(1, i+2):\n",
    "         print(j,end=\"\")\n",
    "    print()"
   ]
  },
  {
   "cell_type": "markdown",
   "id": "dba02e66-69f5-47ed-bf9e-3355910d3ad7",
   "metadata": {},
   "source": [
    "✅ Pattern 2: Number Pyramid\n",
    "for i in range(1, 6):\n",
    "    for j in range(1, i + 1):\n",
    "        print(j, end=\" \")\n",
    "    print()\n",
    "\n",
    "💡 Explanation:\n",
    "\n",
    "Outer loop i: handles rows (1 to 5).\n",
    "\n",
    "Inner loop j: prints numbers from 1 to i on that row.\n",
    "\n",
    "end=\" \": prints numbers in the same line with a space.\n",
    "\n",
    "print() after inner loop: moves to the next line.\n",
    "\n",
    "📌 Key idea:\n",
    "\n",
    "Use nested loop to build increasing sequences per row."
   ]
  },
  {
   "cell_type": "markdown",
   "id": "d1012d84-f46f-41ad-a782-3dd5c0c54e41",
   "metadata": {},
   "source": [
    "***⭐ Pattern 3: Multiplication Table (5 x 5 grid)***"
   ]
  },
  {
   "cell_type": "code",
   "execution_count": 6,
   "id": "9c58d78d-d514-4b16-91e9-e5de9bc12820",
   "metadata": {},
   "outputs": [
    {
     "name": "stdout",
     "output_type": "stream",
     "text": [
      " 1   2   3   4   5  \n",
      " 2   4   6   8  10  \n",
      " 3   6   9  12  15  \n",
      " 4   8  12  16  20  \n",
      " 5  10  15  20  25  \n"
     ]
    }
   ],
   "source": [
    "for i in range(1, 6):\n",
    "    for j in range(1, 6):\n",
    "        print(f\"{i * j:2}\", end=\"  \")\n",
    "    print()\n"
   ]
  },
  {
   "cell_type": "code",
   "execution_count": 6,
   "id": "c18455f5-748b-4a4d-aef7-fe7a6fd668d2",
   "metadata": {},
   "outputs": [
    {
     "name": "stdout",
     "output_type": "stream",
     "text": [
      " 1  2  3  4  5 \n",
      " 2  4  6  8 10 \n",
      " 3  6  9 12 15 \n",
      " 4  8 12 16 20 \n",
      " 5 10 15 20 25 \n"
     ]
    }
   ],
   "source": [
    "\n",
    "for i in range(1,6):\n",
    "    for j in range(1,6):\n",
    "        print(f\"{i * j:2}\",end=\" \")\n",
    "    print()"
   ]
  },
  {
   "cell_type": "markdown",
   "id": "82b1855a-c4a3-4f24-a706-ccb649913662",
   "metadata": {},
   "source": [
    "✅ Pattern 3: Multiplication Table (5x5)\n",
    "for i in range(1, 6):\n",
    "    for j in range(1, 6):\n",
    "        print(f\"{i * j:2}\", end=\"  \")\n",
    "    print()\n",
    "\n",
    "💡 Explanation:\n",
    "\n",
    "Outer loop: row number (i)\n",
    "\n",
    "Inner loop: column number (j)\n",
    "\n",
    "i * j: gives the multiplication value for each cell\n",
    "\n",
    ":2 inside f\"{...}\" ensures proper alignment (2-character wide)\n",
    "\n",
    "end=\" \" adds spacing for grid layout\n",
    "\n",
    "📌 Key idea:\n",
    "\n",
    "Nested loops for grid; logic in inner loop decides what to print.\n"
   ]
  },
  {
   "cell_type": "markdown",
   "id": "1a98ef24-5515-4a69-ab1d-b166cc846a2c",
   "metadata": {},
   "source": [
    "***⭐ Pattern 4: Inverted Triangle***"
   ]
  },
  {
   "cell_type": "code",
   "execution_count": 7,
   "id": "8ce06d60-9c48-449e-af2e-89ed2678a907",
   "metadata": {},
   "outputs": [
    {
     "name": "stdout",
     "output_type": "stream",
     "text": [
      "*****\n",
      "****\n",
      "***\n",
      "**\n",
      "*\n"
     ]
    }
   ],
   "source": [
    "rows = 5\n",
    "\n",
    "for i in range(rows, 0, -1):\n",
    "    print(\"*\" * i)\n"
   ]
  },
  {
   "cell_type": "raw",
   "id": "ea76e011-997d-44c1-820c-ad5002c978d0",
   "metadata": {},
   "source": [
    "✅ Pattern 4: Inverted Triangle\n",
    "for i in range(5, 0, -1):\n",
    "    print(\"*\" * i)\n",
    "\n",
    "💡 Explanation:\n",
    "\n",
    "Loop runs from 5 down to 1 (range(5, 0, -1))\n",
    "\n",
    "Print i stars in each row.\n",
    "\n",
    "Output shrinks with each line.\n",
    "\n",
    "📌 Key idea:\n",
    "\n",
    "Same as Pattern 1, but reverse the direction (count down instead of up).\n"
   ]
  },
  {
   "cell_type": "markdown",
   "id": "5f5061f7-cb9e-40cf-88e4-637e13aeb8b1",
   "metadata": {},
   "source": [
    "***⭐ Pattern 5: Hollow Box***"
   ]
  },
  {
   "cell_type": "code",
   "execution_count": 2,
   "id": "42c33f87-04da-469b-b22d-464a05b06532",
   "metadata": {},
   "outputs": [
    {
     "name": "stdout",
     "output_type": "stream",
     "text": [
      "* * * * * \n",
      "*       * \n",
      "*       * \n",
      "*       * \n",
      "* * * * * \n"
     ]
    }
   ],
   "source": [
    "size = 5\n",
    "\n",
    "for i in range(size):\n",
    "    for j in range(size):\n",
    "        if i == 0 or i == size - 1 or j == 0 or j == size - 1:\n",
    "            print(\"*\", end=\" \")\n",
    "        else:\n",
    "            print(\" \", end=\" \")\n",
    "    print()\n",
    "  \n"
   ]
  },
  {
   "cell_type": "code",
   "execution_count": 11,
   "id": "eb7947d4-9566-4c39-bd5d-8e321b22d48d",
   "metadata": {},
   "outputs": [
    {
     "name": "stdout",
     "output_type": "stream",
     "text": [
      "* * * * * \n",
      "*       * \n",
      "*       * \n",
      "*       * \n",
      "* * * * * \n"
     ]
    }
   ],
   "source": [
    "size = 5\n",
    "\n",
    "for i in range(size):\n",
    "    for j in range(size):\n",
    "        if i == 0 or i == size - 1 or  j == 0 or j == size - 1:\n",
    "            print(\"*\", end=\" \")\n",
    "        else:\n",
    "            print(\" \", end=\" \")\n",
    "    print()\n"
   ]
  },
  {
   "cell_type": "code",
   "execution_count": 13,
   "id": "e8acccf9-6084-4866-b5cc-d5d337a50c33",
   "metadata": {},
   "outputs": [
    {
     "name": "stdout",
     "output_type": "stream",
     "text": [
      "0 1 2 3 4 \n",
      "0 1 2 3 4 \n",
      "0 1 2 3 4 \n",
      "0 1 2 3 4 \n",
      "0 1 2 3 4 \n"
     ]
    }
   ],
   "source": [
    "size = 5\n",
    "for i in range(size):\n",
    "    for j in range(size):\n",
    "        print(j, end=\" \")\n",
    "    print()"
   ]
  },
  {
   "cell_type": "code",
   "execution_count": 12,
   "id": "2d5dd938-c0ec-4ff7-8217-7fc4facd8612",
   "metadata": {},
   "outputs": [
    {
     "name": "stdout",
     "output_type": "stream",
     "text": [
      "0 0 0 0 0 \n",
      "1 1 1 1 1 \n",
      "2 2 2 2 2 \n",
      "3 3 3 3 3 \n",
      "4 4 4 4 4 \n"
     ]
    }
   ],
   "source": [
    "size = 5\n",
    "\n",
    "for i in range(size):\n",
    "    for j in range(size):\n",
    "        print(i, end=\" \")\n",
    "    print()"
   ]
  },
  {
   "cell_type": "code",
   "execution_count": 17,
   "id": "2919468b-cd92-4f4f-b7e0-00552c2770a8",
   "metadata": {},
   "outputs": [
    {
     "name": "stdout",
     "output_type": "stream",
     "text": [
      "* * * * * \n",
      "*       * \n",
      "*       * \n",
      "*       * \n",
      "* * * * * \n"
     ]
    }
   ],
   "source": [
    "for i in range(5):\n",
    "    for j in range(5):\n",
    "        if i == 0 or i == 4:\n",
    "            print('*',end=' ')\n",
    "        elif j == 0 or j == 4:\n",
    "            print('*',end=\" \")\n",
    "        else:\n",
    "            print(\" \",end = \" \")\n",
    "    print()"
   ]
  },
  {
   "cell_type": "markdown",
   "id": "62ecaeb2-1bc0-4eb9-b563-2dad08816ee4",
   "metadata": {},
   "source": [
    "# 💡 Explanation:\n",
    "\n",
    "Outer loop i: rows\n",
    "\n",
    "Inner loop j: columns\n",
    "\n",
    "We print * only for borders:\n",
    "\n",
    "First row → i == 0\n",
    "\n",
    "Last row → i == size - 1\n",
    "\n",
    "First column → j == 0\n",
    "\n",
    "Last column → j == size - 1\n",
    "\n",
    "Else, we print a space ' '.\n",
    "\n",
    "📌 Key idea:\n",
    "\n",
    "Add conditions in nested loops to build complex shapes.\n"
   ]
  },
  {
   "cell_type": "markdown",
   "id": "0e02aaec-4ad2-430e-8abc-ca9b6979b4a3",
   "metadata": {},
   "source": [
    "***🔑 Crux: How to Build Any Pattern in Python***\n",
    "\n",
    "At the heart of all visual patterns using for loops is:\n",
    "\n",
    "Think in terms of rows and columns (like a grid).\r\n"
   ]
  },
  {
   "cell_type": "markdown",
   "id": "47a87519-a314-4f4a-83e7-e1cea588c26c",
   "metadata": {},
   "source": [
    "#### Most pattern problems:\n",
    "\n",
    "- Require nested loops:\n",
    "\n",
    "- Outer loop → handles rows.\n",
    "\n",
    "- Inner loop → handles columns or characters inside a row.\n",
    "\n",
    "- Use print(..., end=\" \") to control the spacing and avoid line breaks.\n",
    "\n",
    "- Use print() alone at the end of each row to move to the next line."
   ]
  },
  {
   "cell_type": "markdown",
   "id": "f7556782-64c1-4b3f-a60a-3ff1516e4b67",
   "metadata": {},
   "source": [
    "#### 🔁 Summary: Crux of Making Patterns\n",
    "***Concept\tRole***\n",
    "- Outer Loop\tControls the number of rows (vertical dimension)\n",
    "- Inner Loop\tControls characters per row (horizontal dimension)\n",
    "- print(..., end=\" \")\tKeeps printing in the same line\n",
    "- print()\tMoves to the next line after a row is done\n",
    "- Logic in Inner\tDecides what to print: *, number, space, etc.\n",
    "- Conditions (if)\tUsed for shapes like hollow boxes, diagonals etc.\n",
    "\n",
    "#### 🧠 Pro Tip to Practice:\n",
    "\n",
    "Start with:\n",
    "\n",
    "for i in range(n):\n",
    "    for j in range(m):\n",
    "        print(\"?\", end=\" \")\n",
    "    print()\n",
    "\n",
    "\n",
    "Then change:\n",
    "\n",
    "? → *, i, j, i*j, etc.\n",
    "\n",
    "Add if conditions for borders, diagonals, triangles\n",
    "\n",
    "Vary n and m for shape\n",
    "\n"
   ]
  },
  {
   "cell_type": "markdown",
   "id": "30e27aa0-96cd-4993-8fa3-627501f3c7cf",
   "metadata": {},
   "source": [
    "### while loop"
   ]
  },
  {
   "cell_type": "markdown",
   "id": "e5a14f8a-90ef-4c39-ba96-6c9485f737c1",
   "metadata": {},
   "source": [
    "#### What is a while loop?\n",
    "\n",
    "A while loop repeats a block of code as long as a condition is True."
   ]
  },
  {
   "cell_type": "code",
   "execution_count": null,
   "id": "0dbbbaa3-8c32-44b5-89d1-557190570931",
   "metadata": {},
   "outputs": [],
   "source": [
    "while condition:\n",
    "    # Code block\n"
   ]
  },
  {
   "cell_type": "markdown",
   "id": "86d25276-57ea-4a72-b881-66b7232580e6",
   "metadata": {},
   "source": [
    "#### ✅ Basic Example 1: Count UP timer"
   ]
  },
  {
   "cell_type": "code",
   "execution_count": 3,
   "id": "a8c45518-0032-4853-a9fa-bccdb16dba70",
   "metadata": {},
   "outputs": [
    {
     "name": "stdout",
     "output_type": "stream",
     "text": [
      "1\n",
      "2\n",
      "3\n",
      "4\n",
      "5\n",
      "get up it is time to study\n"
     ]
    }
   ],
   "source": [
    "i = 1\n",
    "while i <= 5:\n",
    "    print(i)                 # if loop will be upto print the looping process will continue because \n",
    "                              # 1 will always be less than 5\n",
    "    i = i + 1                   # see how the loop is running we are increasing counting after every looping action\n",
    "print(\"get up it is time to study\")"
   ]
  },
  {
   "cell_type": "raw",
   "id": "cfb8caee-f3a0-4652-b4ee-ed83064b2316",
   "metadata": {},
   "source": [
    "✅ Example 2: Countdown Timer"
   ]
  },
  {
   "cell_type": "code",
   "execution_count": 2,
   "id": "8639de98-33c0-493c-86c9-1d84b0a8dc6c",
   "metadata": {},
   "outputs": [
    {
     "name": "stdout",
     "output_type": "stream",
     "text": [
      "Countdown: 5\n",
      "Countdown: 4\n",
      "Countdown: 3\n",
      "Countdown: 2\n",
      "Countdown: 1\n",
      "Blast off! 🚀\n"
     ]
    }
   ],
   "source": [
    "n = 5\n",
    "while n > 0:\n",
    "    print(\"Countdown:\", n)\n",
    "    n -= 1\n",
    "\n",
    "print(\"Blast off! 🚀\")\n"
   ]
  },
  {
   "cell_type": "code",
   "execution_count": null,
   "id": "af8100c9-4e7b-4dbe-aafb-ba91dae9e094",
   "metadata": {},
   "outputs": [],
   "source": [
    "✅ Example 3: Keep asking until correct password"
   ]
  },
  {
   "cell_type": "code",
   "execution_count": 9,
   "id": "8228b819-9294-46df-ab9e-d57127cc2956",
   "metadata": {},
   "outputs": [
    {
     "name": "stdin",
     "output_type": "stream",
     "text": [
      "Enter the password:  python123\n"
     ]
    },
    {
     "name": "stdout",
     "output_type": "stream",
     "text": [
      "Access granted ✅\n"
     ]
    }
   ],
   "source": [
    "password = \"python123\"\n",
    "user_input = \"\"\n",
    "\n",
    "while user_input != password:\n",
    "    user_input = input(\"Enter the password: \")\n",
    "\n",
    "print(\"Access granted ✅\")\n",
    "\n",
    "\n",
    "\n"
   ]
  },
  {
   "cell_type": "markdown",
   "id": "8e3fe74f-da2f-49c3-8e47-7da4b9041de2",
   "metadata": {},
   "source": [
    "### 🔄 while loop with break\n",
    "\n",
    "You can exit a loop early using break."
   ]
  },
  {
   "cell_type": "code",
   "execution_count": 10,
   "id": "bd76104e-8042-473c-b58d-00b03723a7ec",
   "metadata": {},
   "outputs": [
    {
     "name": "stdout",
     "output_type": "stream",
     "text": [
      "1\n",
      "2\n",
      "3\n"
     ]
    }
   ],
   "source": [
    "i = 1\n",
    "while True:  # Infinite loop\n",
    "    print(i)\n",
    "    if i == 3:\n",
    "        break\n",
    "    i += 1\n"
   ]
  },
  {
   "cell_type": "markdown",
   "id": "1687c909-31e6-4877-883f-58a82dc5332a",
   "metadata": {},
   "source": [
    "### ✅ Example 4: Sum of numbers until 0 is entered"
   ]
  },
  {
   "cell_type": "code",
   "execution_count": 14,
   "id": "3f330ce1-6972-485a-b026-6e33d6cdcb37",
   "metadata": {},
   "outputs": [
    {
     "name": "stdin",
     "output_type": "stream",
     "text": [
      "Enter a number (0 to stop):  7\n",
      "Enter a number (0 to stop):  9\n",
      "Enter a number (0 to stop):  0\n"
     ]
    },
    {
     "name": "stdout",
     "output_type": "stream",
     "text": [
      "Total sum: 16\n"
     ]
    }
   ],
   "source": [
    "total = 0\n",
    "num = int(input(\"Enter a number (0 to stop): \"))\n",
    "\n",
    "while num != 0:\n",
    "    total += num\n",
    "    num = int(input(\"Enter a number (0 to stop): \"))\n",
    "\n",
    "print(\"Total sum:\", total)\n"
   ]
  },
  {
   "cell_type": "markdown",
   "id": "426abd0a-7358-4c8b-9643-71b07d4c8e67",
   "metadata": {},
   "source": [
    "### Applications of while Loop"
   ]
  },
  {
   "cell_type": "markdown",
   "id": "6934cf1c-c33d-46b1-b2d9-d9abbeef946d",
   "metadata": {},
   "source": [
    "| Use Case                      | Why `while` is useful                                     |\n",
    "| ----------------------------- | --------------------------------------------------------- |\n",
    "| User input until correct      | Loops until user gives valid input                        |\n",
    "| Retry operations              | Retry downloading or connecting until successful          |\n",
    "| Infinite loops (with `break`) | Useful in games, UI, bots, etc.                           |\n",
    "| Polling or waiting            | Wait for a condition to become true (like a sensor value) |\n",
    "| Simulations                   | Run steps until a condition (e.g., no more data)          |\n"
   ]
  },
  {
   "cell_type": "markdown",
   "id": "c7cc8ca6-49c4-4d92-9341-72ec6a305d6b",
   "metadata": {},
   "source": [
    "#### while vs for loop: When to use what?\n",
    "| Loop Type | When to Use                                               |\r\n",
    "| --------- | --------------------------------------------------------- |\r\n",
    "| `for`     | When you know how many times to loop                      |\r\n",
    "| `while`   | When you **don’t know** in advance (depends on condition) |\r\n"
   ]
  },
  {
   "cell_type": "markdown",
   "id": "09b6d2a9-1d1a-4b2e-8aab-0deeee799ce7",
   "metadata": {},
   "source": [
    "### while loop pattern exercise"
   ]
  },
  {
   "cell_type": "markdown",
   "id": "3970dfce-a8fe-4f70-8fa3-2c7d6c655984",
   "metadata": {},
   "source": [
    "#### ⭐ Pattern 1: Print a Triangle of Stars"
   ]
  },
  {
   "cell_type": "code",
   "execution_count": 1,
   "id": "88f7c955-099b-4314-aaa1-096eb27c49f3",
   "metadata": {},
   "outputs": [
    {
     "name": "stdout",
     "output_type": "stream",
     "text": [
      "*\n",
      "**\n",
      "***\n",
      "****\n",
      "*****\n"
     ]
    }
   ],
   "source": [
    "rows = 5\n",
    "i = 1\n",
    "\n",
    "while i <= rows:\n",
    "    print(\"*\" * i)\n",
    "    i += 1\n"
   ]
  },
  {
   "cell_type": "markdown",
   "id": "7092f165-3709-40dc-a729-288ab3f320b7",
   "metadata": {},
   "source": [
    "##### ⭐ Pattern 2: Print Numbers in Triangle Form"
   ]
  },
  {
   "cell_type": "code",
   "execution_count": 3,
   "id": "5b22cb61-32e0-4c54-bf06-067e43246d85",
   "metadata": {},
   "outputs": [
    {
     "name": "stdout",
     "output_type": "stream",
     "text": [
      "1 \n",
      "1 2 \n",
      "1 2 3 \n",
      "1 2 3 4 \n",
      "1 2 3 4 5 \n"
     ]
    }
   ],
   "source": [
    "rows = 5\n",
    "i = 1\n",
    "\n",
    "while i <= rows:\n",
    "    j = 1\n",
    "    while j <= i:\n",
    "        print(j, end=\" \")\n",
    "        j += 1\n",
    "    print()\n",
    "    i += 1\n"
   ]
  },
  {
   "cell_type": "markdown",
   "id": "99376c13-2ccd-4c97-a2a0-8e0905305ac0",
   "metadata": {},
   "source": [
    "##### ⭐ Pattern 3: Inverted Star Triangle"
   ]
  },
  {
   "cell_type": "code",
   "execution_count": 4,
   "id": "00b09219-2c0a-42fe-ad91-09ce3213d9d6",
   "metadata": {},
   "outputs": [
    {
     "name": "stdout",
     "output_type": "stream",
     "text": [
      "*****\n",
      "****\n",
      "***\n",
      "**\n",
      "*\n"
     ]
    }
   ],
   "source": [
    "rows = 5\n",
    "i = rows\n",
    "\n",
    "while i >= 1:\n",
    "    print(\"*\" * i)\n",
    "    i -= 1\n"
   ]
  },
  {
   "cell_type": "markdown",
   "id": "51be39aa-ea41-41e4-990b-a9100b0b9033",
   "metadata": {},
   "source": [
    "##### ⭐ Pattern 4: Right-Aligned Triangle"
   ]
  },
  {
   "cell_type": "code",
   "execution_count": 5,
   "id": "8793a479-25f3-456d-9821-52edc773678d",
   "metadata": {},
   "outputs": [
    {
     "name": "stdout",
     "output_type": "stream",
     "text": [
      "    *\n",
      "   **\n",
      "  ***\n",
      " ****\n",
      "*****\n"
     ]
    }
   ],
   "source": [
    "rows = 5\n",
    "i = 1\n",
    "\n",
    "while i <= rows:\n",
    "    spaces = rows - i\n",
    "    stars = i\n",
    "\n",
    "    j = 1\n",
    "    while j <= spaces:\n",
    "        print(\" \", end=\"\")\n",
    "        j += 1\n",
    "\n",
    "    k = 1\n",
    "    while k <= stars:\n",
    "        print(\"*\", end=\"\")\n",
    "        k += 1\n",
    "\n",
    "    print()\n",
    "    i += 1\n"
   ]
  },
  {
   "cell_type": "code",
   "execution_count": null,
   "id": "2b9c3fc5-b3f6-427a-b4fd-ce8f4f8a5880",
   "metadata": {},
   "outputs": [],
   "source": [
    "##### ⭐ Pattern 5: Diamond Shape++"
   ]
  },
  {
   "cell_type": "code",
   "execution_count": 6,
   "id": "b790f9fa-2749-4a75-aa72-96949a055dcb",
   "metadata": {},
   "outputs": [
    {
     "name": "stdout",
     "output_type": "stream",
     "text": [
      "  *\n",
      " ***\n",
      "*****\n",
      " ***\n",
      "  *\n"
     ]
    }
   ],
   "source": [
    "rows = 3\n",
    "\n",
    "# Upper part\n",
    "i = 1\n",
    "while i <= rows:\n",
    "    spaces = rows - i\n",
    "    stars = 2 * i - 1\n",
    "\n",
    "    print(\" \" * spaces + \"*\" * stars)\n",
    "    i += 1\n",
    "\n",
    "# Lower part\n",
    "i = rows - 1\n",
    "while i >= 1:\n",
    "    spaces = rows - i\n",
    "    stars = 2 * i - 1\n",
    "\n",
    "    print(\" \" * spaces + \"*\" * stars)\n",
    "    i -= 1\n"
   ]
  },
  {
   "cell_type": "markdown",
   "id": "43337f62-7686-4b94-b85e-0eb00a0d7f65",
   "metadata": {},
   "source": [
    "#### 🧠 Challenge for You:\n",
    "\n",
    "Try to make this pattern using while loop:"
   ]
  },
  {
   "cell_type": "raw",
   "id": "5182ff7d-7d1c-4df9-88ca-04157cd8f788",
   "metadata": {},
   "source": [
    "1\n",
    "0 1\n",
    "1 0 1\n",
    "0 1 0 1\n",
    "1 0 1 0 1\n"
   ]
  },
  {
   "cell_type": "markdown",
   "id": "0b655cec-82b1-4c08-a9dd-478b264c1571",
   "metadata": {},
   "source": [
    "### Pattern Game —"
   ]
  },
  {
   "cell_type": "markdown",
   "id": "ed3794d9-ab55-45c5-b75a-ecfee4415a21",
   "metadata": {},
   "source": [
    "##### 🔁 Level 1: Invert the 1s and 0s"
   ]
  },
  {
   "cell_type": "raw",
   "id": "7a3b4104-9ed8-451e-851d-8f8163dba69a",
   "metadata": {},
   "source": [
    "0\n",
    "1 0\n",
    "0 1 0\n",
    "1 0 1 0\n",
    "0 1 0 1 0\n"
   ]
  },
  {
   "cell_type": "markdown",
   "id": "89f392c5-1f9b-4236-adbd-9d1b1260e191",
   "metadata": {},
   "source": [
    "### 🧠 Hint: Swap what you print inside the if statement."
   ]
  },
  {
   "cell_type": "code",
   "execution_count": 8,
   "id": "feadd81c-555b-4389-9a5d-43b7bf6d6cfc",
   "metadata": {},
   "outputs": [
    {
     "name": "stdout",
     "output_type": "stream",
     "text": [
      "1 "
     ]
    }
   ],
   "source": [
    "if (i + j) % 2 == 0:\n",
    "    print(\"0\", end=\" \")\n",
    "else:\n",
    "    print(\"1\", end=\" \")\n"
   ]
  },
  {
   "cell_type": "markdown",
   "id": "23438476-c12b-45bd-a3b2-034cfd9c1599",
   "metadata": {},
   "source": [
    "#### ⬅️ Level 2: Left-align same pattern but with dashes instead of numbers"
   ]
  },
  {
   "cell_type": "code",
   "execution_count": null,
   "id": "efce3b5c-b3fa-40c9-8a51-51252fd9b4aa",
   "metadata": {},
   "outputs": [],
   "source": [
    "-\n",
    "- -\n",
    "- - -\n",
    "- - - -\n",
    "- - - - -"
   ]
  },
  {
   "cell_type": "code",
   "execution_count": 1,
   "id": "0998b396-6f54-406e-92d8-eb57d8cc06af",
   "metadata": {
    "scrolled": true
   },
   "outputs": [
    {
     "name": "stdout",
     "output_type": "stream",
     "text": [
      "- \n",
      "- - \n",
      "- - - \n",
      "- - - - \n",
      "- - - - - \n"
     ]
    }
   ],
   "source": [
    "size = 5\n",
    "for i in range(1, size + 1):\n",
    "    for j in range(1, i + 1):\n",
    "        print('-',end = \" \")\n",
    "    print()"
   ]
  },
  {
   "cell_type": "markdown",
   "id": "45af5dd2-68f5-4c12-897b-a1d7e1e312cc",
   "metadata": {},
   "source": [
    "###### 🧠 Hint: Use \"*\" or \"-\" instead of numbers."
   ]
  },
  {
   "cell_type": "markdown",
   "id": "a6d8142c-048f-4a76-a708-3496dd30ddc9",
   "metadata": {},
   "source": [
    "#### 🔢 Level 3: Pattern of even numbers"
   ]
  },
  {
   "cell_type": "raw",
   "id": "c786de69-b62b-4a9b-96a2-58bf8d5dd808",
   "metadata": {},
   "source": [
    "2\n",
    "2 4\n",
    "2 4 6\n",
    "2 4 6 8\n",
    "2 4 6 8 10\n",
    "🧠 Hint: Print j * 2 in the inner loop."
   ]
  },
  {
   "cell_type": "code",
   "execution_count": 8,
   "id": "1619a85c-7fdd-4547-a568-9f7a2afec2b6",
   "metadata": {},
   "outputs": [
    {
     "name": "stdout",
     "output_type": "stream",
     "text": [
      "1 \n",
      "0 1 \n",
      "1 0 1 \n",
      "0 1 0 1 \n",
      "1 0 1 0 1 \n"
     ]
    }
   ],
   "source": [
    "i = 5\n",
    "a = 1\n",
    "while a <= i:\n",
    "    b = 1\n",
    "    while b <= a:\n",
    "        if (a + b) % 2 == 0:\n",
    "            print(\"1\",end = \" \")\n",
    "        else:\n",
    "            print(\"0\",end = \" \")\n",
    "        b += 1\n",
    "    print()\n",
    "    a += 1"
   ]
  },
  {
   "cell_type": "code",
   "execution_count": null,
   "id": "32c50582-b2f7-4f47-9097-e8b835af60e3",
   "metadata": {},
   "outputs": [],
   "source": []
  },
  {
   "cell_type": "markdown",
   "id": "e45f328c-d4d7-4396-85d6-29a58f0ac920",
   "metadata": {},
   "source": [
    "#### 🔼 Level 5: Floyd's Triangle"
   ]
  },
  {
   "cell_type": "raw",
   "id": "39eeb09d-8d6e-4cf9-936c-ab85d7100d86",
   "metadata": {},
   "source": [
    "1\n",
    "2 3\n",
    "4 5 6\n",
    "7 8 9 10\n",
    "11 12 13 14 15\n",
    "Hint: Keep a counter variable that increases after every print."
   ]
  },
  {
   "cell_type": "markdown",
   "id": "ef9e6c0d-b3db-4be0-950d-0074fccf5976",
   "metadata": {},
   "source": [
    "### Python Functions\r",
    "5\n",
    "\n",
    "\r\n",
    "Python Functions are a block of statements that does a specific task. The idea is to put some commonly or repeatedly done task together and make a function so that instead of writing the same code again and again for different inputs, we can do the function calls to reuse code contained in it over and over agais:"
   ]
  },
  {
   "cell_type": "markdown",
   "id": "4405a70f-9e6f-4f41-9d7d-ea4afbee81c7",
   "metadata": {},
   "source": [
    "##### Function Declaration\n",
    "The syntax to declare a function is:"
   ]
  },
  {
   "attachments": {
    "3d790a0c-ba1a-4275-8353-b419d6ad4d18.png": {
     "image/png": "[encoded data removed]"
    }
   },
   "cell_type": "markdown",
   "id": "316e7bc4-df31-4446-ab1b-b1a99a2dd9c6",
   "metadata": {},
   "source": [
    "![image.png](attachment:3d790a0c-ba1a-4275-8353-b419d6ad4d18.png)"
   ]
  },
  {
   "cell_type": "markdown",
   "id": "066e2e5b-80eb-4614-9b0a-fac2b2d6c7ba",
   "metadata": {},
   "source": [
    "***Defining a Function***\n",
    "\n",
    "We can define a function in Python, using the def keyword. We can add any type of functionalities and properties to it as we require.\n",
    "\n",
    "The ***def keyword*** stands for define. It is used to create a user-defined function. It marks the beginning of a function block and allows you to group a set of statements so they can be reused when the function is called.\n",
    "\n",
    "Syntax:"
   ]
  },
  {
   "cell_type": "markdown",
   "id": "68c80064-4174-4380-a073-33ded3ef6476",
   "metadata": {},
   "source": [
    "def function_name(parameters):\n",
    "   \n",
    "    # function body\n",
    "\n",
    "***Explanation:***\n",
    "\n",
    "- def: Starts the function definition.\n",
    "- function_name: Name of the function.\n",
    "- parameters: Inputs passed to the function (inside ()), optional.\n",
    "- Indented code: The function body that runs when called.\n",
    "Here, we define a function using def that prints a welcome message when called."
   ]
  },
  {
   "cell_type": "markdown",
   "id": "b773519d-881c-4243-833f-1c73b558f9cf",
   "metadata": {},
   "source": [
    "##### Calling a Function\n",
    "After creating a function in Python we can call it by using the name of the functions followed by parenthesis containing parameters of that particular function."
   ]
  },
  {
   "cell_type": "code",
   "execution_count": 3,
   "id": "5a24f409-7b91-456c-8816-8c16bea6c69c",
   "metadata": {},
   "outputs": [
    {
     "name": "stdout",
     "output_type": "stream",
     "text": [
      "Welcome to vijAI\n"
     ]
    }
   ],
   "source": [
    "def fun():\n",
    "    print(\"Welcome to vijAI\")\n",
    "    \n",
    "fun() # Driver code to call a function"
   ]
  },
  {
   "cell_type": "code",
   "execution_count": 4,
   "id": "afc59d76-1cb8-4692-8ef9-ac6cd0c3d436",
   "metadata": {},
   "outputs": [
    {
     "name": "stdout",
     "output_type": "stream",
     "text": [
      "Welcome to vijAI\n"
     ]
    }
   ],
   "source": [
    "fun()"
   ]
  },
  {
   "cell_type": "code",
   "execution_count": 5,
   "id": "5ddbd131-3f30-42fe-bdd6-5351b311be61",
   "metadata": {},
   "outputs": [
    {
     "name": "stdout",
     "output_type": "stream",
     "text": [
      "Welcome to vijAI\n"
     ]
    }
   ],
   "source": [
    "fun()"
   ]
  },
  {
   "cell_type": "markdown",
   "id": "8f8f78ac-05f5-454e-834e-7a8421da5185",
   "metadata": {},
   "source": [
    "### Function Arguments\n",
    "Arguments are the values passed inside the parenthesis of the function. A function can have any number of arguments separated by a comma.\n",
    "\n",
    "***Syntax:***\n",
    "\n",
    "def function_name(parameters):\n",
    "    \"\"\"Docstring\"\"\"\n",
    "    # body of the function\n",
    "    return expression\n",
    "\n",
    "We will create a simple function in Python to check whether the number passed as an argument to the function is even or odd.\n",
    "\n",
    "\n",
    "\n",
    "\n"
   ]
  },
  {
   "cell_type": "code",
   "execution_count": 10,
   "id": "4d949781-9a15-44ce-8539-401bd25f6b64",
   "metadata": {},
   "outputs": [
    {
     "name": "stdout",
     "output_type": "stream",
     "text": [
      "Even\n",
      "Odd\n"
     ]
    }
   ],
   "source": [
    "def evenOdd(x):\n",
    "    if (x % 2 == 0):\n",
    "        return \"Even\"\n",
    "    else:\n",
    "        return \"Odd\"\n",
    "\n",
    "print(evenOdd(16))\n",
    "print(evenOdd(7))"
   ]
  },
  {
   "cell_type": "markdown",
   "id": "b2560daa-8586-4bc1-b9ef-21ef7c021fa9",
   "metadata": {},
   "source": [
    "### Types of Function Arguments\r\n",
    "\n",
    "Python supports various types of arguments that can be passed at the time of the function call. In Python, we have the following function argument types in Python, Let's explore them one by one\n",
    ".\r",
    "ent."
   ]
  },
  {
   "cell_type": "markdown",
   "id": "df72b848-3c86-445b-867a-98158e124474",
   "metadata": {},
   "source": [
    "#### 1. Default Arguments\n",
    "A default argument is a parameter that assumes a default value if a value is not provided in the function call for that argument."
   ]
  },
  {
   "cell_type": "code",
   "execution_count": 11,
   "id": "c73c0614-c23f-44f9-b493-aba3ffb1fc74",
   "metadata": {},
   "outputs": [
    {
     "name": "stdout",
     "output_type": "stream",
     "text": [
      "x:  10\n",
      "y:  50\n"
     ]
    }
   ],
   "source": [
    "def myFun(x, y=50):\n",
    "    print(\"x: \", x)\n",
    "    print(\"y: \", y)\n",
    "\n",
    "myFun(10)"
   ]
  },
  {
   "cell_type": "markdown",
   "id": "bf4e9144-7575-4478-8140-5fe8b72113b4",
   "metadata": {},
   "source": [
    "#### 2. Keyword Arguments\n",
    "In keyword arguments, values are passed by explicitly specifying the parameter names, so the order doesn’t matter."
   ]
  },
  {
   "cell_type": "code",
   "execution_count": 14,
   "id": "bd12ae1d-71db-42d5-8855-c9aab8ca2481",
   "metadata": {},
   "outputs": [
    {
     "name": "stdout",
     "output_type": "stream",
     "text": [
      "vijAI Practice\n",
      "vijAI Practice\n"
     ]
    }
   ],
   "source": [
    "def student(fname, lname):\n",
    "    print(fname, lname)\n",
    "\n",
    "student(fname='vijAI', lname='Practice')\n",
    "student(lname='Practice', fname='vijAI')"
   ]
  },
  {
   "cell_type": "markdown",
   "id": "902e8070-97b4-4567-ae32-ac91fc945c00",
   "metadata": {},
   "source": [
    "#### 3. Positional Arguments\n",
    "In positional arguments, values are assigned to parameters based on their order in the function call."
   ]
  },
  {
   "cell_type": "code",
   "execution_count": 15,
   "id": "a00b868e-dbbf-44a3-a282-9a7a13121c39",
   "metadata": {},
   "outputs": [
    {
     "name": "stdout",
     "output_type": "stream",
     "text": [
      "Case-1:\n",
      "Hi, I am Suraj\n",
      "My age is  27\n",
      "\n",
      "Case-2:\n",
      "Hi, I am 27\n",
      "My age is  Suraj\n"
     ]
    }
   ],
   "source": [
    "def nameAge(name, age):\n",
    "    print(\"Hi, I am\", name)\n",
    "    print(\"My age is \", age)\n",
    "\n",
    "print(\"Case-1:\")\n",
    "nameAge(\"Suraj\", 27)\n",
    "\n",
    "print(\"\\nCase-2:\")\n",
    "nameAge(27, \"Suraj\")"
   ]
  },
  {
   "cell_type": "markdown",
   "id": "74bf00fc-ca66-4f13-9a69-d1f3728bacba",
   "metadata": {},
   "source": [
    "#### 4. Arbitrary Arguments\r\n",
    "In Python Arbitrary Keyword Arguments, *args and **kwargs can pass a variable number of arguments to a function using special symbols. There are two special symbols:\r\n",
    "\r\n",
    "*args in Python (Non-Keyword Arguments)\r\n",
    "**kwargs in Python (Keyword Arguments)\r\n",
    "This code separately shows non-keyword (*args) and keyword (**kwargs) arguments in the same function."
   ]
  },
  {
   "cell_type": "code",
   "execution_count": 16,
   "id": "187c838c-b9bb-4ab2-8952-6e31dd536899",
   "metadata": {},
   "outputs": [
    {
     "name": "stdout",
     "output_type": "stream",
     "text": [
      "Non-Keyword Arguments (*args):\n",
      "Hey\n",
      "Welcome\n",
      "\n",
      "Keyword Arguments (**kwargs):\n",
      "first == Geeks\n",
      "mid == for\n",
      "last == Geeks\n"
     ]
    }
   ],
   "source": [
    "def myFun(*args, **kwargs):\n",
    "    print(\"Non-Keyword Arguments (*args):\")\n",
    "    for arg in args:\n",
    "        print(arg)\n",
    "\n",
    "    print(\"\\nKeyword Arguments (**kwargs):\")\n",
    "    for key, value in kwargs.items():\n",
    "        print(f\"{key} == {value}\")\n",
    "\n",
    "# Function call with both types of arguments\n",
    "myFun('Hey', 'Welcome', first='Geeks', mid='for', last='Geeks')"
   ]
  },
  {
   "cell_type": "markdown",
   "id": "838fa214-abc7-43af-a24f-0fc752a1b295",
   "metadata": {},
   "source": [
    "#### Function within Functions\n",
    "A function defined inside another function is called an inner function (or nested function). It can access variables from the enclosing function’s scope and is often used to keep logic protected and organized."
   ]
  },
  {
   "cell_type": "code",
   "execution_count": 18,
   "id": "2be032b4-bd47-44a6-aea0-db1b9161c467",
   "metadata": {},
   "outputs": [
    {
     "name": "stdout",
     "output_type": "stream",
     "text": [
      "I love Python\n"
     ]
    }
   ],
   "source": [
    "def f1():\n",
    "    s = 'I love Python'\n",
    "    def f2():\n",
    "        print(s)\n",
    "        \n",
    "    f2()\n",
    "f1()"
   ]
  },
  {
   "cell_type": "markdown",
   "id": "a56be628-03ce-4d4c-ab88-2dec0aae9362",
   "metadata": {},
   "source": [
    "##### Anonymous Functions\r\n",
    "In Python, an anonymous function means that a function is without a name. As we already know the def keyword is used to define the normal functions and the lambda keyword is used to create anonymous functions."
   ]
  },
  {
   "cell_type": "code",
   "execution_count": 1,
   "id": "1415d18e-3062-46cb-a959-88ed291e5d49",
   "metadata": {},
   "outputs": [
    {
     "name": "stdout",
     "output_type": "stream",
     "text": [
      "343\n",
      "343\n"
     ]
    }
   ],
   "source": [
    "def cube(x): return x*x*x   # without lambda\n",
    "cube_l = lambda x : x*x*x  # with lambda\n",
    "\n",
    "print(cube(7))\n",
    "print(cube_l(7))"
   ]
  },
  {
   "cell_type": "markdown",
   "id": "2bdd8a71-3b16-4761-9b85-022a90ce084b",
   "metadata": {},
   "source": [
    "#### return Statement in Function\n",
    "The return statement ends a function and sends a value back to the caller. It can return any data type, multiple values (packed into a tuple), or None if no value is given.\n",
    "\n",
    "Syntax:\n",
    "\n",
    "return [expression]\n",
    "\n",
    "Parameters: return ends the function, [expression] is the optional value to return (defaults to None)."
   ]
  },
  {
   "cell_type": "code",
   "execution_count": 3,
   "id": "1cd4f880-40dc-4b8b-b5de-5c47c60faf07",
   "metadata": {},
   "outputs": [
    {
     "name": "stdout",
     "output_type": "stream",
     "text": [
      "4\n",
      "16\n"
     ]
    }
   ],
   "source": [
    "def square_value(num):\n",
    "    \"\"\"This function returns the square\n",
    "    value of the entered number\"\"\"\n",
    "    return num**2\n",
    "\n",
    "print(square_value(2))\n",
    "print(square_value(-4))"
   ]
  },
  {
   "cell_type": "markdown",
   "id": "3ba01a77-45bd-4c3c-998f-12697fa018fd",
   "metadata": {},
   "source": [
    "#### Pass by Reference and Pass by Value\n",
    "In Python, variables are references to objects. When we pass them to a function, the behavior depends on whether the object is mutable (like lists, dictionaries) or immutable (like integers, strings, tuples).\n",
    "\n",
    "Mutable objects: Changes inside the function affect the original object.\n",
    "\n",
    "Immutable objects: The original value remains unchanged."
   ]
  },
  {
   "cell_type": "code",
   "execution_count": 6,
   "id": "19324e93-a8d6-49f8-a822-da37fbfbce95",
   "metadata": {},
   "outputs": [
    {
     "name": "stdout",
     "output_type": "stream",
     "text": [
      "[20, 11, 12, 13]\n",
      "10\n"
     ]
    }
   ],
   "source": [
    "# Function modifies the first element of list\n",
    "def myFun(x):\n",
    "    x[0] = 20\n",
    "\n",
    "lst = [10, 11, 12, 13]\n",
    "myFun(lst)\n",
    "print(lst)   # list is modified\n",
    "\n",
    "# Function tries to modify an integer\n",
    "def myFun2(x):\n",
    "    x = 20\n",
    "\n",
    "a = 10\n",
    "myFun2(a)\n",
    "print(a)     # integer is not modified"
   ]
  },
  {
   "cell_type": "markdown",
   "id": "f9df0e2c-f143-453d-be2b-5e04668910d7",
   "metadata": {},
   "source": [
    "#### Recursive Functions\r\n",
    "A recursive function is a function that calls itself to solve a problem. It is commonly used in mathematical and divide-and-conquer problems. Always include a base case to avoid infinite recursion.\r\n",
    "\r\n",
    "\r\n",
    "\r\n",
    "\r\n"
   ]
  },
  {
   "cell_type": "code",
   "execution_count": 22,
   "id": "481a1f54-c6d4-41ac-816a-7242a2d52dcf",
   "metadata": {},
   "outputs": [
    {
     "name": "stdout",
     "output_type": "stream",
     "text": [
      "24\n"
     ]
    }
   ],
   "source": [
    "def factorial(n):\n",
    "    if n == 0:  \n",
    "        return 1\n",
    "    else:\n",
    "        return n * factorial(n - 1) \n",
    "      \n",
    "print(factorial(4))"
   ]
  },
  {
   "cell_type": "markdown",
   "id": "7e83b942-1aaf-4082-bfe0-74127f126f21",
   "metadata": {},
   "source": [
    "Here we have created a recursive function to calculate the factorial of the number. It calls itself until a base case (n==0) is met."
   ]
  },
  {
   "cell_type": "markdown",
   "id": "580c58c6-a7e2-4fab-9460-1679862cb9d1",
   "metadata": {},
   "source": [
    "#### List Comprehension"
   ]
  },
  {
   "cell_type": "markdown",
   "id": "aaa77040-1dc0-4e84-a592-dfef216d4ffb",
   "metadata": {},
   "source": [
    "List comprehension is a concise and powerful way to create new lists by applying an expression to each item in an existing iterable (like a list, tuple or range). It helps you write clean, readable and efficient code compared to traditional loops.\r\n",
    "\r\n",
    "Suppose you want to square every number in a list:"
   ]
  },
  {
   "cell_type": "code",
   "execution_count": 10,
   "id": "a36a2821-6c06-402f-ad43-292fbc4c353e",
   "metadata": {},
   "outputs": [
    {
     "name": "stdout",
     "output_type": "stream",
     "text": [
      "[4, 9, 16, 25]\n"
     ]
    }
   ],
   "source": [
    "a = [2,3,4,5]\n",
    "res = [val ** 2 for val in a]\n",
    "print(res)"
   ]
  },
  {
   "cell_type": "markdown",
   "id": "7d841a19-66e5-4fb5-b1e1-33e6da6c5a71",
   "metadata": {},
   "source": [
    "##### Explanation:res = [val ** 2 for val in a] use list comprehension to create a new list by squaring each number in a.\r\n",
    "- \r\n",
    "Syntax\r\n",
    "[expression for item in iterable if conditio\n",
    "\r\n",
    "\r\n",
    "\r\n",
    "\r\n",
    "a = [1, 2, 3, 4,"
   ]
  },
  {
   "cell_type": "markdown",
   "id": "45a8f2c5-d6c0-4d48-b354-f80f9c880448",
   "metadata": {},
   "source": [
    "##### Parameters: \n",
    "\n",
    "- expression: operation or value to include in the new list.\n",
    "  \n",
    "\n",
    "- item: current element from the iterable.\n",
    "\n",
    "- iterable: sequence like a list, tuple or range.\n",
    "\n",
    "- if condition (optional): filter to include only items that satisfy the condition.\n",
    "\n",
    "#### Why Use List Comprehension?\n",
    "- Cleaner code: Combines looping, filtering and transformation in one line.\n",
    "- More readable: Avoids verbose loops and temporary variables.\n",
    "- Faster execution: Often faster than equivalent for-loops.\n",
    "\n",
    "\n",
    "#### For Loop vs. List Comprehension\n",
    "\n",
    "A for loop takes multiple lines to build a new list by iterating and appending each item manually. List comprehension does same in just one line, making code shorter and easier to read.\n",
    "\n",
    "Here’s an example to double each number in a list:\n",
    "\n",
    "Using For loop\n"
   ]
  },
  {
   "cell_type": "code",
   "execution_count": 1,
   "id": "99fed6af-981c-4112-a2eb-09106c9d5acb",
   "metadata": {},
   "outputs": [
    {
     "name": "stdout",
     "output_type": "stream",
     "text": [
      "[2, 4, 6, 8, 10]\n"
     ]
    }
   ],
   "source": [
    "a = [1, 2, 3, 4, 5]\n",
    "res = []\n",
    "for val in a:\n",
    "    res.append(val * 2)\n",
    "print(res)"
   ]
  },
  {
   "cell_type": "markdown",
   "id": "aa6bb9f0-af75-4baa-9e61-80add58a64ae",
   "metadata": {},
   "source": [
    "#### Explanation:\n",
    "\n",
    "- res = [] creates an empty list to store results.\n",
    "- for val in a: loops through each number in list a.\n",
    "- res.append(val * 2) doubles current number val and adds it to res list.\n",
    "\n",
    "Using List comprehension"
   ]
  },
  {
   "cell_type": "code",
   "execution_count": 3,
   "id": "bc7840c6-339a-47bc-b1a7-3141250994d4",
   "metadata": {},
   "outputs": [
    {
     "name": "stdout",
     "output_type": "stream",
     "text": [
      "[2, 4, 6, 8, 10]\n"
     ]
    }
   ],
   "source": [
    "a = [1, 2, 3, 4, 5]\n",
    "res = [val * 2 for val in a]\n",
    "print(res)"
   ]
  },
  {
   "cell_type": "markdown",
   "id": "743d2802-2b7c-47da-bae8-fdfa1cf9bac6",
   "metadata": {},
   "source": [
    "#### Explanation: res = [val * 2 for val in a] use list comprehension to create a new list by doubling each number in a\n",
    "\n",
    "***Conditional Statements in List Comprehension***\n",
    "\n",
    "List comprehensions can use conditions to select or transform items based on specific rules. This allows creating customized lists more concisely and improves code readability and efficiency.\n",
    "\n",
    "This code uses a list comprehension with a condition to create a new list containing only even numbers from the original list a"
   ]
  },
  {
   "cell_type": "markdown",
   "id": "109d633d-1301-4a55-8189-832bd09bdfc8",
   "metadata": {},
   "source": [
    "##### Using if-else Inside List Comprehension\n",
    "This is the simplest and most efficient way to apply conditional logic directly. This applies the if-else condition directly in the list comprehension. Each number is checked for divisibility by 2, and either \"Even\" or \"Odd\" is added to the list."
   ]
  },
  {
   "cell_type": "code",
   "execution_count": 6,
   "id": "fca74d52-cd4b-4879-be27-205d9d06946e",
   "metadata": {},
   "outputs": [
    {
     "name": "stdout",
     "output_type": "stream",
     "text": [
      "['Odd', 'Even', 'Odd', 'Even', 'Odd']\n"
     ]
    }
   ],
   "source": [
    "a = [1, 2, 3, 4, 5] \n",
    "\n",
    "# Add 'Even' for even numbers, otherwise 'Odd'\n",
    "result = ['Even' if n % 2 == 0 else 'Odd' for n in a]  \n",
    "print(result)"
   ]
  },
  {
   "cell_type": "markdown",
   "id": "e8a82cb5-d9d5-416a-9306-45682ccbce03",
   "metadata": {},
   "source": [
    "##### Using if Condition Only (Without else)\n",
    "\n",
    "This method is used when elements are added only if the condition is met. Here, the if condition filters out numbers that do not meet the condition. Only even numbers are added to the new list."
   ]
  },
  {
   "cell_type": "code",
   "execution_count": 7,
   "id": "a2a54e23-d4e9-40ae-a679-0dd5aa03d7d9",
   "metadata": {},
   "outputs": [
    {
     "name": "stdout",
     "output_type": "stream",
     "text": [
      "[2, 4]\n"
     ]
    }
   ],
   "source": [
    "a = [1, 2, 3, 4, 5]  \n",
    "\n",
    "# Include only even numbers in the list\n",
    "result = [n for n in a if n % 2 == 0]  \n",
    "print(result)"
   ]
  },
  {
   "cell_type": "markdown",
   "id": "905b2d71-d9a0-45df-8b61-f304a48d9f8d",
   "metadata": {},
   "source": [
    "###### Nested if-else in List Comprehension\n",
    "\n",
    "Handle multiple conditions with nested logic. Using Nested if-else in List allows chaining of if-else conditions. It categorizes each number based on whether it is divisible by 2, 3, or neither.\n",
    "\n",
    "\n",
    "\n",
    "\n"
   ]
  },
  {
   "cell_type": "code",
   "execution_count": null,
   "id": "47666f34-7fb6-4ea0-b730-a0fb21246609",
   "metadata": {},
   "outputs": [],
   "source": [
    "a = [1, 2, 3, 4, 5]  \n",
    "\n",
    "# Categorize numbers based on divisibility\n",
    "result = ['Divisible by 2' if n % 2 == 0 else 'Divisible by 3' if n % 3 == 0 else 'Other' for n in a]  \n",
    "print(result)"
   ]
  },
  {
   "cell_type": "markdown",
   "id": "8a0958fa-886a-453c-a5f4-e2e28220f99b",
   "metadata": {},
   "source": [
    "##### Explanation: [val for val in a if val % 2 == 0] selects only even numbers from list a.\n",
    "\n",
    "\n",
    "\n",
    "##### Examples of list comprehension\n",
    "***1. Creating a list from a range***\n",
    "One can quickly create a list of numbers within a specific range using list comprehension. This example generates numbers from 0 to 9 and stores them in a list.\n",
    "\n",
    "\n",
    "\n",
    "\n"
   ]
  },
  {
   "cell_type": "code",
   "execution_count": 4,
   "id": "94df0534-31c2-4f1d-8d48-fe82772412de",
   "metadata": {},
   "outputs": [
    {
     "name": "stdout",
     "output_type": "stream",
     "text": [
      "[0, 1, 2, 3, 4, 5, 6, 7, 8, 9]\n"
     ]
    }
   ],
   "source": [
    "a = [i for i in range(10)]\n",
    "print(a)"
   ]
  },
  {
   "cell_type": "markdown",
   "id": "3949af88-994b-4902-ab16-b98ea6fe0894",
   "metadata": {},
   "source": [
    "##### 2. Using nested loops\r\n",
    "A list of all coordinate pairs in a 3x3 grid can be generated by combining two loops inside a list comprehension. This example produces every possible (x, y) pair where both x and y range from 0 to 2."
   ]
  },
  {
   "cell_type": "code",
   "execution_count": 5,
   "id": "8e77f210-4e78-40af-a320-e6b9bbd98b98",
   "metadata": {},
   "outputs": [
    {
     "name": "stdout",
     "output_type": "stream",
     "text": [
      "[(0, 0), (0, 1), (0, 2), (1, 0), (1, 1), (1, 2), (2, 0), (2, 1), (2, 2)]\n"
     ]
    }
   ],
   "source": [
    "c = [(x, y) for x in range(3) for y in range(3)]\n",
    "print(c)"
   ]
  },
  {
   "cell_type": "markdown",
   "id": "abe41068-a6a4-45f9-bf46-3dfe10f2be10",
   "metadata": {},
   "source": [
    "### Explanation:\n",
    "\n",
    "- mat is a list of lists (a 3x3 matrix).\n",
    "\n",
    "- [val for row in mat for val in row] goes through each sublist (row) and then each value (val) inside it.\n",
    "\n",
    "- It collects all values into a single flat list.\n"
   ]
  },
  {
   "cell_type": "markdown",
   "id": "7b3423b5-2ba7-4cff-bdf3-158a0c245abc",
   "metadata": {},
   "source": [
    "### 2. Using nested loops\n",
    "A list of all coordinate pairs in a 3x3 grid can be generated by combining two loops inside a list comprehension. This example produces every possible (x, y) pair where both x and y range from 0 to 2"
   ]
  },
  {
   "cell_type": "code",
   "execution_count": 1,
   "id": "afda3b8a-5a0e-4920-9373-e0734bf69dc9",
   "metadata": {},
   "outputs": [
    {
     "name": "stdout",
     "output_type": "stream",
     "text": [
      "[(0, 0), (0, 1), (0, 2), (1, 0), (1, 1), (1, 2), (2, 0), (2, 1), (2, 2)]\n"
     ]
    }
   ],
   "source": [
    "c = [(x, y) for x in range(3) for y in range(3)]\n",
    "print(c)"
   ]
  },
  {
   "cell_type": "markdown",
   "id": "4ffd0a6a-8b96-476d-9c97-833c893384ab",
   "metadata": {},
   "source": [
    "#### 3. Flattening a list of lists\n",
    "A nested list (matrix) can be transformed into a single flat list by iterating through each sublist and its elements. This example flattens a 3x3 matrix into one continuous list of values."
   ]
  },
  {
   "cell_type": "code",
   "execution_count": 2,
   "id": "318afd93-59d4-438b-91f7-d804ac9bb5ea",
   "metadata": {},
   "outputs": [
    {
     "name": "stdout",
     "output_type": "stream",
     "text": [
      "[1, 2, 3, 4, 5, 6, 7, 8, 9]\n"
     ]
    }
   ],
   "source": [
    "mat = [[1, 2, 3], [4, 5, 6], [7, 8, 9]]\n",
    "res = [val for row in mat for val in row]\n",
    "print(res)"
   ]
  },
  {
   "cell_type": "markdown",
   "id": "b51065a5-6443-48d4-8813-116866be32ea",
   "metadata": {},
   "source": [
    "### Explanation:\r\n",
    "\r\n",
    "mat is a list of lists (a 3x3 matrix).\r\n",
    "[val for row in mat for val in row] goes through each sublist (row) and then each value (val) inside it.\r\n",
    "It collects all values into a single flat list."
   ]
  },
  {
   "cell_type": "markdown",
   "id": "ded103c4-eeae-44ac-b9df-902303e4664c",
   "metadata": {},
   "source": [
    "#### filter() in python\n",
    "\n",
    " filter() function is used to extract elements from an iterable (like a list, tuple or set) that satisfy a given condition. It works by applying a function to each element and keeping only those for which function returns True.\n",
    "\n",
    "##### Basic Example\n",
    "This simple example shows how to keep only the words starting with the letter 'a' from a list of fruits."
   ]
  },
  {
   "cell_type": "code",
   "execution_count": 5,
   "id": "d495c662-299e-4e34-b545-8cbdfa6e7bc3",
   "metadata": {},
   "outputs": [
    {
     "name": "stdout",
     "output_type": "stream",
     "text": [
      "['apple', 'avocado', 'apricot']\n"
     ]
    }
   ],
   "source": [
    "def starts_a(w):\n",
    "    return w.startswith(\"a\")\n",
    "\n",
    "li = [\"apple\", \"banana\", \"avocado\", \"cherry\", \"apricot\"]\n",
    "res = filter(starts_a, li)\n",
    "print(list(res))"
   ]
  },
  {
   "cell_type": "markdown",
   "id": "f14f86fc-cda0-4b73-828f-14d1ed1c6c0d",
   "metadata": {},
   "source": [
    "##### Explanation: function starts_a checks if a word begins with 'a' and filter() applies this function to each fruit and returns only matching ones.\n",
    "\n",
    "##### Syntax\n",
    "filter(function, iterable)\n",
    "\n",
    "###### Parameters:\n",
    "\n",
    "- function: tests each element and if return, True - Keep the element, if False - Discard the element\n",
    "iterable: Any iterable (list, tuple, set, etc.).\n",
    "Return Value: A filter object (an iterator), which can be converted into a list, tuple, set, etc.\n",
    "\n",
    "##### Examples of filter function\n",
    "Let's explore some examples of filter() function and see how it is used.\n",
    "\n",
    "- Example 1: Using filter() with a Named Function\n",
    "This code defines a regular function to check if a number is even and then uses filter() to extract all even numbers from a list."
   ]
  },
  {
   "cell_type": "code",
   "execution_count": 1,
   "id": "54da4385-0860-4890-a787-1309dfb7ab1f",
   "metadata": {},
   "outputs": [
    {
     "name": "stdout",
     "output_type": "stream",
     "text": [
      "[2, 4, 6]\n"
     ]
    }
   ],
   "source": [
    "def even(n):\n",
    "    return n % 2 == 0\n",
    "\n",
    "a = [1, 2, 3, 4, 5, 6]\n",
    "b = filter(even, a)\n",
    "print(list(b)) # Convert filter object to a list"
   ]
  },
  {
   "cell_type": "markdown",
   "id": "889d1f23-c5d0-4316-b364-47b4a103aa7a",
   "metadata": {},
   "source": [
    "#### Explanation:"
   ]
  },
  {
   "cell_type": "markdown",
   "id": "29e079d8-501d-4bd9-b903-0266d3ad76da",
   "metadata": {},
   "source": [
    "- even function checks if a number is divisible by 2- .\n",
    "\n",
    "- filter() applies this function to each item in - a.\n",
    "\n",
    "- Only even numbers are included in output\n"
   ]
  },
  {
   "cell_type": "markdown",
   "id": "300e66ca-c2a4-43de-883c-abebf38f9ff5",
   "metadata": {},
   "source": [
    "##### Example 2: Using filter() with a Lambda Function\n",
    "Instead of creating a separate named function, use a lambda function for concise code. Below code uses a lambda function with filter() to select even numbers from a list."
   ]
  },
  {
   "cell_type": "code",
   "execution_count": 6,
   "id": "0371df53-ff38-43dd-b34c-5f51c106765d",
   "metadata": {},
   "outputs": [
    {
     "name": "stdout",
     "output_type": "stream",
     "text": [
      "[2, 4, 6]\n"
     ]
    }
   ],
   "source": [
    "a = [1, 2, 3, 4, 5, 6]\n",
    "b = filter(lambda x: x % 2 == 0, a)\n",
    "print(list(b))"
   ]
  },
  {
   "cell_type": "markdown",
   "id": "44a00bf0-0520-4a2c-9dca-0016e7073219",
   "metadata": {},
   "source": [
    "### Explanation: filter(lambda x: x % 2 == 0, a) keeps only numbers divisible by 2 (even numbers).\n",
    "\n",
    "#### Example 3: Filtering and Transforming Data\n",
    "In this Example lambda functions is used with filter() and map() to first get even numbers from a list and then double them."
   ]
  },
  {
   "cell_type": "code",
   "execution_count": 7,
   "id": "b064fa13-5bbb-4e64-8dc8-0a60d484ff96",
   "metadata": {},
   "outputs": [
    {
     "name": "stdout",
     "output_type": "stream",
     "text": [
      "[4, 8, 12]\n"
     ]
    }
   ],
   "source": [
    "a = [1, 2, 3, 4, 5, 6]\n",
    "b = filter(lambda x: x % 2 == 0, a)\n",
    "c = map(lambda x: x * 2, b)\n",
    "print(list(c))"
   ]
  },
  {
   "cell_type": "raw",
   "id": "b203f595-c353-4fbf-bce8-faadbcc4974b",
   "metadata": {},
   "source": [
    "Explanation:\n",
    "\n",
    "filter(lambda x: x % 2 == 0, a): Selects only even numbers from the list ([2, 4, 6]).\n",
    "map(lambda x: x * 2, b): Doubles each of the filtered even numbers ([4, 8, 12]).\n",
    "Example 4: Filtering Strings\n",
    "Here, lambda function is used with filter() to keep only words that have more than 5 letters from a list of fruits."
   ]
  },
  {
   "cell_type": "code",
   "execution_count": 8,
   "id": "989edb93-5371-4edb-a11e-81d2bdd07528",
   "metadata": {},
   "outputs": [
    {
     "name": "stdout",
     "output_type": "stream",
     "text": [
      "['banana', 'cherry']\n"
     ]
    }
   ],
   "source": [
    "a = [\"apple\", \"banana\", \"cherry\", \"kiwi\", \"grape\"]\n",
    "b = filter(lambda w: len(w) > 5, a)\n",
    "print(list(b))"
   ]
  },
  {
   "cell_type": "raw",
   "id": "854a6f7b-5f12-42f4-ad52-f82dd2d01fd6",
   "metadata": {},
   "source": [
    "Example 5: Filtering with None (Truthiness Check)\n",
    "This code uses filter() with None as the function to remove all falsy values (like empty strings, None and 0) from a list."
   ]
  },
  {
   "cell_type": "code",
   "execution_count": 9,
   "id": "6c0858b7-b7ab-47aa-a433-64b586ebb737",
   "metadata": {},
   "outputs": [
    {
     "name": "stdout",
     "output_type": "stream",
     "text": [
      "['apple', 'banana', 'cherry']\n"
     ]
    }
   ],
   "source": [
    "L = [\"apple\", \"\", None, \"banana\", 0, \"cherry\"]\n",
    "A = filter(None, L)\n",
    "print(list(A))"
   ]
  },
  {
   "cell_type": "markdown",
   "id": "5be1286e-4ecc-4950-9ef2-a764f923d48b",
   "metadata": {},
   "source": [
    "Explanation: filter(None, L) removes all falsy values (empty string, None and 0) and keeps only truthy ones.\r\n",
    "\r\n"
   ]
  },
  {
   "cell_type": "markdown",
   "id": "04228291-8bb7-4fe9-86dd-78ee8899c411",
   "metadata": {},
   "source": [
    "##### map() function"
   ]
  },
  {
   "cell_type": "markdown",
   "id": "0cb314ca-0452-4117-a498-b03159f167d0",
   "metadata": {},
   "source": [
    "#### Python map() function\n",
    "Last Updated : 07 Sep, 2025\n",
    "map() function in Python applies a given function to each element of an iterable (list, tuple, set, etc.) and returns a map object (iterator). It is a higher-order function used for uniform element-wise transformations, enabling concise and efficient code.\n",
    "\n",
    "Let's start with a simple example of using map() to convert a list of strings into a list of integers."
   ]
  },
  {
   "cell_type": "code",
   "execution_count": 27,
   "id": "4e7c561f-9b16-4549-9fe7-cd16da6f41c8",
   "metadata": {},
   "outputs": [
    {
     "name": "stdout",
     "output_type": "stream",
     "text": [
      "[1, 2, 3, 4]\n"
     ]
    }
   ],
   "source": [
    "s = ['1', '2', '3', '4']\n",
    "res = map(int, s)\n",
    "print(list(res))"
   ]
  },
  {
   "cell_type": "code",
   "execution_count": 6,
   "id": "1a280872-a882-45b6-b066-94c3372609ad",
   "metadata": {},
   "outputs": [
    {
     "name": "stdout",
     "output_type": "stream",
     "text": [
      "['1', '2', '3', '4']\n"
     ]
    }
   ],
   "source": [
    "s = [1, 2, 3, 4]\n",
    "res = map(str, s)\n",
    "print(list(res))"
   ]
  },
  {
   "cell_type": "code",
   "execution_count": null,
   "id": "e2eeae51-f3df-4ee4-8399-37c37315b884",
   "metadata": {},
   "outputs": [],
   "source": []
  },
  {
   "cell_type": "code",
   "execution_count": null,
   "id": "fc8d43ef-9c9d-4d96-9602-de6f68cd4b8d",
   "metadata": {},
   "outputs": [],
   "source": []
  },
  {
   "cell_type": "code",
   "execution_count": null,
   "id": "e4176eb0-6c18-40bb-84bf-a5d601adc016",
   "metadata": {},
   "outputs": [],
   "source": []
  },
  {
   "cell_type": "code",
   "execution_count": null,
   "id": "e6ae5ef5-d818-4222-a18c-b1255f0bedde",
   "metadata": {},
   "outputs": [],
   "source": []
  },
  {
   "cell_type": "raw",
   "id": "42de21e0-eba9-4303-8ecf-830ef54bcac0",
   "metadata": {},
   "source": [
    "Explanation: map() applies int() to each element in s which changes their datatype from string to int.\n",
    "\n",
    "Syntax\n",
    "map(function, iterable,..)\n",
    "\n",
    "Parameters:\n",
    "\n",
    "function: The function to apply to every element of the iterable.\n",
    "iterable: One or more iterable objects (list, tuple, etc.) whose elements will be processed.\n",
    "Note: You can pass multiple iterables if the function accepts multiple arguments.\n",
    "\n",
    "Converting map object to a list\n",
    "By default, map() function returns a map object, which is an iterator. In many cases, we will need to convert this iterator to a list to work with the results directly.\n",
    "\n",
    "Example: Let's see how to double each elements of the given list."
   ]
  },
  {
   "cell_type": "code",
   "execution_count": 11,
   "id": "d2e9a843-ab53-487c-9a09-ebf9c8e834f6",
   "metadata": {},
   "outputs": [
    {
     "name": "stdout",
     "output_type": "stream",
     "text": [
      "[2, 4, 6, 8]\n"
     ]
    }
   ],
   "source": [
    "# Custom function to be applied\n",
    "# in map\n",
    "def double(val):\n",
    "    return val * 2\n",
    "\n",
    "# Let us apply double on every member\n",
    "a = [1, 2, 3, 4]    \n",
    "res = list(map(double, a))\n",
    "print(res)"
   ]
  },
  {
   "cell_type": "code",
   "execution_count": 9,
   "id": "9293b699-10d1-461b-96b1-4027dd20e46b",
   "metadata": {},
   "outputs": [
    {
     "name": "stdout",
     "output_type": "stream",
     "text": [
      "(4, 8, 12, 16, 20, 24, 28, 32, 36, 40)\n"
     ]
    }
   ],
   "source": [
    "def table(x):\n",
    "    return x*4\n",
    "\n",
    "a = [1,2,3,4,5,6,7,8,9,10]\n",
    "s = map(table,a)\n",
    "print(tuple(s))"
   ]
  },
  {
   "cell_type": "raw",
   "id": "fe577e9e-f76a-4da1-ac5f-1ccde3e84625",
   "metadata": {},
   "source": [
    "Explanation:\n",
    "\n",
    "map(double, a) applies double() to each element in a.\n",
    "list() converts the map object to a list.\n",
    "map() with lambda\n",
    "We can use a lambda function instead of a custom function with map() to make code shorter and easier. Let's see how to improve above code for better readability."
   ]
  },
  {
   "cell_type": "code",
   "execution_count": 12,
   "id": "fcc5eeba-e746-4d49-bdf7-5876462d85f3",
   "metadata": {},
   "outputs": [
    {
     "name": "stdout",
     "output_type": "stream",
     "text": [
      "[1, 4, 9, 16]\n"
     ]
    }
   ],
   "source": [
    "a = [1, 2, 3, 4]\n",
    "res = list(map(lambda x: x ** 2, a))\n",
    "print(res)"
   ]
  },
  {
   "cell_type": "code",
   "execution_count": 13,
   "id": "541c4907-b1c6-4d11-82a0-63e02c4598c3",
   "metadata": {},
   "outputs": [
    {
     "name": "stdout",
     "output_type": "stream",
     "text": [
      "['python PYTHON', 'hello PYTHON', 'data science PYTHON']\n"
     ]
    }
   ],
   "source": [
    "lst = [\"python\",\"hello\",\"data science\"]\n",
    "res = map(lambda x: x+\" PYTHON\",lst)\n",
    "print(list(res))"
   ]
  },
  {
   "cell_type": "raw",
   "id": "caf1ee11-4f55-4ac7-b7f5-789ffe3bd2d3",
   "metadata": {},
   "source": [
    "Explanation: lambda x: x ** 2 squares each number and the results are converted into a list.\n",
    "\n",
    "map() with multiple iterables\n",
    "We can use map() with multiple iterables if the function we are applying takes more than one argument.\n",
    "\n",
    "Example: In this example, map() takes two iterables (a and b) and applies lambda function to add corresponding elements from both lists."
   ]
  },
  {
   "cell_type": "code",
   "execution_count": 13,
   "id": "94a4c1e8-fc68-44f4-91b5-34c846a8f1bc",
   "metadata": {},
   "outputs": [
    {
     "name": "stdout",
     "output_type": "stream",
     "text": [
      "[5, 7, 9]\n"
     ]
    }
   ],
   "source": [
    "a = [1, 2, 3]\n",
    "b = [4, 5, 6]\n",
    "res = map(lambda x, y: x + y, a, b)\n",
    "print(list(res))"
   ]
  },
  {
   "cell_type": "raw",
   "id": "664d40bd-ef14-40af-b28e-85264efe91ff",
   "metadata": {},
   "source": [
    "Explanation: map() takes x from a and y from b and adds them.\r\n",
    "\r\n",
    "Converting strings to Uppercase\r\n",
    "This example shows how we can use map() to convert a list of strings to uppercase."
   ]
  },
  {
   "cell_type": "code",
   "execution_count": 14,
   "id": "ad6ba406-ff05-49c0-aea4-e18b5c97f99d",
   "metadata": {},
   "outputs": [
    {
     "name": "stdout",
     "output_type": "stream",
     "text": [
      "['APPLE', 'BANANA', 'CHERRY']\n"
     ]
    }
   ],
   "source": [
    "fruits = ['apple', 'banana', 'cherry']\n",
    "res = map(str.upper, fruits)\n",
    "print(list(res))"
   ]
  },
  {
   "cell_type": "raw",
   "id": "e66b89b8-c068-4392-bba0-2d73c04a0fb9",
   "metadata": {},
   "source": [
    "Explanation: str.upper method is applied to each element in the list fruits using map(). The result is a list of uppercase versions of each fruit name.\n",
    "\n",
    "Extracting first character from strings\n",
    "In this example, we use map() to extract the first character from each string in a list."
   ]
  },
  {
   "cell_type": "code",
   "execution_count": 15,
   "id": "aceedaa6-4e2b-402e-b50a-8919d0751620",
   "metadata": {},
   "outputs": [
    {
     "name": "stdout",
     "output_type": "stream",
     "text": [
      "['a', 'b', 'c']\n"
     ]
    }
   ],
   "source": [
    "words = ['apple', 'banana', 'cherry']\n",
    "res = map(lambda s: s[0], words)\n",
    "print(list(res))"
   ]
  },
  {
   "cell_type": "code",
   "execution_count": 3,
   "id": "300db711-26b6-41c3-882e-c2a15b62c309",
   "metadata": {},
   "outputs": [
    {
     "name": "stdout",
     "output_type": "stream",
     "text": [
      "[False, True, False, False, True]\n"
     ]
    }
   ],
   "source": [
    "name = [\"raja\",\"abdullah\",\"priyanshu\",\"tushar\",\"aayush\"]\n",
    "res = map(lambda x: x.startswith(\"a\"),name)\n",
    "print(list(res))"
   ]
  },
  {
   "cell_type": "code",
   "execution_count": null,
   "id": "06487dfd-7615-4269-bdaa-4830ea78fe89",
   "metadata": {},
   "outputs": [],
   "source": []
  },
  {
   "cell_type": "code",
   "execution_count": null,
   "id": "0a118547-36a6-4e83-995a-4fdb52979019",
   "metadata": {},
   "outputs": [],
   "source": []
  },
  {
   "cell_type": "code",
   "execution_count": null,
   "id": "7b632d0a-2508-4143-9d4c-0b0bba7628d5",
   "metadata": {},
   "outputs": [],
   "source": []
  },
  {
   "cell_type": "code",
   "execution_count": 16,
   "id": "466bcbad-c416-427d-84be-0cbe9a1d8702",
   "metadata": {},
   "outputs": [
    {
     "name": "stdout",
     "output_type": "stream",
     "text": [
      "['a', 'b', 'c']\n"
     ]
    }
   ],
   "source": [
    "words = ['apple', 'banana', 'cherry']\n",
    "res = map(lambda s: s[0], words)\n",
    "print(list(res))"
   ]
  },
  {
   "cell_type": "markdown",
   "id": "5d865a7d-a5a2-4d6b-a1e3-7f674e500aa7",
   "metadata": {},
   "source": [
    "Explanation: lambda s: s[0] extracts first character from each string in the list words. map() applies this lambda function to every element, resulting in a list of the first characters of each word.\n",
    "\n",
    "#### Removing whitespaces from strings\n",
    "In this example, We can use map() to remove leading and trailing whitespaces from each string in a list."
   ]
  },
  {
   "cell_type": "code",
   "execution_count": 1,
   "id": "450ee286-ab40-42ef-9073-7ecf84f3aee1",
   "metadata": {},
   "outputs": [
    {
     "name": "stdout",
     "output_type": "stream",
     "text": [
      "['hello', 'world', 'python']\n"
     ]
    }
   ],
   "source": [
    "s = ['  hello  ', '  world ', ' python  ']\n",
    "res = map(str.strip, s)\n",
    "print(list(res))"
   ]
  },
  {
   "cell_type": "markdown",
   "id": "4166189d-0905-4e26-866f-fc547cfc5978",
   "metadata": {},
   "source": [
    "Explanation: str.strip method removes leading and trailing whitespaces from each string in list strings. map() function applies str.strip to each element and returning a list of trimmed strings.\n",
    "\n",
    "Calculate fahrenheit from celsius\n",
    "In this example, we use map() to convert a list of temperatures from Celsius to Fahrenheit."
   ]
  },
  {
   "cell_type": "code",
   "execution_count": 17,
   "id": "33904549-e53a-42dc-9cb3-7dbbe1b8c961",
   "metadata": {},
   "outputs": [
    {
     "name": "stdout",
     "output_type": "stream",
     "text": [
      "[32.0, 68.0, 98.6, 212.0]\n"
     ]
    }
   ],
   "source": [
    "celsius = [0, 20, 37, 100]\n",
    "fahrenheit = map(lambda c: (c * 9/5) + 32, celsius)\n",
    "print(list(fahrenheit))"
   ]
  },
  {
   "cell_type": "markdown",
   "id": "e061b68d-c6da-45a8-b8f6-7ed867f2755e",
   "metadata": {},
   "source": [
    "Explanation: lambda c: (c * 9/5) + 32 converts each Celsius temperature to Fahrenheit using standard formula. map() function applies this transformation to all items in the list celsius.\n",
    "\n"
   ]
  },
  {
   "cell_type": "markdown",
   "id": "0fdcc8db-8210-4ba6-b8ad-5b9a80b84e98",
   "metadata": {},
   "source": [
    "#### reduce() in Python\n",
    "Last Updated : 20 Sep, 2025\n",
    "reduce() function (from functools) applies a function cumulatively to an iterable, reducing it to a single value. It’s handy for concise tasks like summing, multiplying (factorial), finding max/min, concatenating strings or flattening lists. Use it for simple one-line reductions, avoid it for complex logic (loops are clearer) or when intermediate results are needed."
   ]
  },
  {
   "cell_type": "code",
   "execution_count": 18,
   "id": "20952919-f0eb-4f03-b9cd-c20f06442bb0",
   "metadata": {},
   "outputs": [
    {
     "name": "stdout",
     "output_type": "stream",
     "text": [
      "good for Better\n"
     ]
    }
   ],
   "source": [
    "from functools import reduce\n",
    "li = [\"good\", \"for\", \"Better\"]\n",
    "res = reduce(lambda x, y: x + \" \" + y, li)\n",
    "print(res)"
   ]
  },
  {
   "cell_type": "code",
   "execution_count": 4,
   "id": "7d7f0d76-4fd4-416f-8716-bfb909d915a8",
   "metadata": {},
   "outputs": [
    {
     "name": "stdout",
     "output_type": "stream",
     "text": [
      "6\n"
     ]
    }
   ],
   "source": [
    "from functools import reduce\n",
    "li = [ 1,2,3]\n",
    "res  = reduce(lambda x ,y: x + 0 + y ,li)\n",
    "print(res)"
   ]
  },
  {
   "cell_type": "markdown",
   "id": "82475ace-d0fb-4a19-bb0c-1d3d7e03afc4",
   "metadata": {},
   "source": [
    "Explanation:\n",
    "\n",
    "reduce(lambda x, y: x + \" \" + y, words) takes two strings at a time and concatenates them with a space.\n",
    "\"good\" + \"for\" -> \"good for\", then \"good for\" + \"best\" -> \"good for best\".\n",
    "Syntax\n",
    "It’s a method of functools module, so we need to import it before use:\n",
    "\n",
    "from functools import reduce\n",
    "reduce(function, iterable[, initializer])\n",
    "\n",
    "Parameters:\n",
    "\n",
    "function: A function that takes two arguments and returns a single value.\n",
    "iterable: The sequence to be reduced (list, tuple, etc.).\n",
    "initializer (optional): A starting value that is placed before first element.\n",
    "Return Value: A single final value after processing all elements.\n",
    "\n",
    "Examples\n",
    "Example 1: Basic Usage with a Named Function\n",
    "This code uses reduce() function to accumulate values in a list by repeatedly adding two numbers at a time.\n",
    "\n",
    "\n",
    "\n",
    "\n"
   ]
  },
  {
   "cell_type": "code",
   "execution_count": 5,
   "id": "b25d1871-6b74-4db1-862f-a75c2669d3f5",
   "metadata": {},
   "outputs": [
    {
     "name": "stdout",
     "output_type": "stream",
     "text": [
      "15\n"
     ]
    }
   ],
   "source": [
    "from functools import reduce\n",
    "def add(x, y):\n",
    "    return x + y\n",
    "\n",
    "a = [1, 2, 3, 4, 5]\n",
    "res = reduce(add, a)\n",
    "print(res)"
   ]
  },
  {
   "cell_type": "code",
   "execution_count": 10,
   "id": "29a828cc-6bfa-4b91-8a5c-3e4f93c92505",
   "metadata": {},
   "outputs": [
    {
     "name": "stdout",
     "output_type": "stream",
     "text": [
      "120\n"
     ]
    }
   ],
   "source": [
    "from functools import reduce\n",
    "def add(x , y):\n",
    "    return x * y\n",
    "\n",
    "a = [1,2,3,4,5]\n",
    "res = reduce(add,a)\n",
    "print(res)"
   ]
  },
  {
   "cell_type": "code",
   "execution_count": null,
   "id": "1e4e8586-8a23-4a95-9224-4f920d63a778",
   "metadata": {},
   "outputs": [],
   "source": []
  },
  {
   "cell_type": "raw",
   "id": "ffd8f15d-2cb3-4fa8-a332-e17dfa403249",
   "metadata": {},
   "source": [
    "Explanation:\n",
    "\n",
    "def add(x, y): return x + y - Defines a function that returns sum of two numbers.\n",
    "reduce(add, a) - Applies add cumulatively to the list (((1+2)+3)+4)+5 --> 15.\n",
    "Example 2: Using reduce() with a Lambda Function\n",
    "This example demonstrates how a lambda function can be used with reduce() to calculate factorial of a number by multiplying all elements of a list."
   ]
  },
  {
   "cell_type": "code",
   "execution_count": 20,
   "id": "06a7d3e2-2e67-408e-9575-8e81c9e1d911",
   "metadata": {},
   "outputs": [
    {
     "name": "stdout",
     "output_type": "stream",
     "text": [
      "120\n"
     ]
    }
   ],
   "source": [
    "from functools import reduce\n",
    "a = [1, 2, 3, 4, 5]\n",
    "res = reduce(lambda x, y: x * y, a)\n",
    "print(res)"
   ]
  },
  {
   "cell_type": "code",
   "execution_count": 13,
   "id": "6484fe12-4d25-4724-ae66-2df5b0140f1d",
   "metadata": {},
   "outputs": [
    {
     "name": "stdout",
     "output_type": "stream",
     "text": [
      "0.008333333333333333\n"
     ]
    }
   ],
   "source": [
    "from functools import reduce \n",
    "a = [1,2,3,4,5]\n",
    "res = reduce(lambda x,y: x / y , a)\n",
    "print(res)"
   ]
  },
  {
   "cell_type": "code",
   "execution_count": null,
   "id": "aa1074ea-bb77-40d8-a338-d76f8d3e3dd0",
   "metadata": {},
   "outputs": [],
   "source": []
  },
  {
   "cell_type": "code",
   "execution_count": null,
   "id": "56419809-292c-4bbc-af3b-70e35e00cbfa",
   "metadata": {},
   "outputs": [],
   "source": []
  },
  {
   "cell_type": "raw",
   "id": "b77cbd58-7389-4404-972a-89fdfa44a237",
   "metadata": {},
   "source": [
    "Explanation: reduce(lambda x, y: x * y, a) multiplies elements step by step --> (((1*2)*3)*4)*5 = 120.\n",
    "\n",
    "Example 3: Using reduce() with operator Module\n",
    "This example uses functools.reduce() with built-in functions from operator module to perform sum, product and string concatenation on lists."
   ]
  },
  {
   "cell_type": "code",
   "execution_count": 3,
   "id": "b5ae29d8-6eb2-4b82-8b77-a32acdc0b91d",
   "metadata": {},
   "outputs": [
    {
     "name": "stdout",
     "output_type": "stream",
     "text": [
      "17\n",
      "180\n",
      "goodforbest\n",
      "17\n"
     ]
    }
   ],
   "source": [
    "import functools\n",
    "import operator\n",
    "a = [1, 3, 5, 6, 2]\n",
    "\n",
    "print(functools.reduce(operator.add, a))                                  \n",
    "       \n",
    "print(functools.reduce(operator.mul, a)) \n",
    "print(functools.reduce(operator.add, [\"good\", \"for\", \"best\"]))\n",
    "print(functools.reduce(operator.add, a))"
   ]
  },
  {
   "cell_type": "markdown",
   "id": "1f97f45d-b053-4c99-869f-ab7ed992bd62",
   "metadata": {},
   "source": [
    "Explanation:\n",
    "\n",
    "functools.reduce(operator.add, a): Adds all numbers in the list - 1+3+5+6+2 = 17.\n",
    "functools.reduce(operator.mul, a): Multiplies all numbers in the list - 1*3*5*6*2 = 180.\n",
    "functools.reduce(operator.add, [\"good\", \"for\", \"best\"]): Concatenates all strings in list - \"goodforbest\"\n",
    "Example 4: Using initializer\n",
    "This code uses reduce() with a lambda function and an initial value to sum a list, starting from a given number."
   ]
  },
  {
   "cell_type": "code",
   "execution_count": 24,
   "id": "98c87ac8-a2c7-4f79-a0ff-312de811203d",
   "metadata": {},
   "outputs": [
    {
     "name": "stdout",
     "output_type": "stream",
     "text": [
      "16\n"
     ]
    }
   ],
   "source": [
    "from functools import reduce\n",
    "a = [1, 2, 3]\n",
    "res = reduce(lambda x, y: x + y, a, 10)\n",
    "print(res)"
   ]
  },
  {
   "cell_type": "raw",
   "id": "a55b6603-a622-4a98-a6bd-c9b302871d08",
   "metadata": {},
   "source": [
    "Explanation: reduce(lambda x, y: x + y, a, 10) starts with 10 as initial value, then adds each element in the list ((10+1)+2)+3 = 16.\n",
    "\n",
    "Difference Between reduce() and accumulate()\n",
    "The accumulate() function (from itertools) and reduce() both apply a function cumulatively to items in a sequence. However, accumulate() returns an iterator of intermediate results, while reduce() returns only final value.\n",
    "\n",
    "Let's understand it better with an example.\n",
    "\n",
    "Example\n",
    "This code demonstrates how accumulate() from itertools module works it performs cumulative operations and returns all intermediate results instead of just a single final value."
   ]
  },
  {
   "cell_type": "code",
   "execution_count": 25,
   "id": "1a3bbb61-0911-4b5c-b8f1-bb0e798b5e1e",
   "metadata": {},
   "outputs": [
    {
     "name": "stdout",
     "output_type": "stream",
     "text": [
      "[1, 3, 6, 10, 15]\n"
     ]
    }
   ],
   "source": [
    "from itertools import accumulate\n",
    "from operator import add\n",
    "\n",
    "a = [1, 2, 3, 4, 5]\n",
    "res = accumulate(a, add)\n",
    "print(list(res))"
   ]
  },
  {
   "cell_type": "raw",
   "id": "27b68513-03f1-4e6c-a147-7c8168cf31cf",
   "metadata": {},
   "source": [
    "Explanation: accumulate(a, add) - Adds elements cumulatively:\n",
    "\n",
    "Step 1: 1\n",
    "Step 2: 1 + 2 = 3\n",
    "Step 3: 3 + 3 = 6\n",
    "Step 4: 6 + 4 = 10\n",
    "Step 5: 10 + 5 = 15\n",
    "Let's understand difference between accumulate() and reduce() more clearly with the help of below table:"
   ]
  },
  {
   "attachments": {
    "3bd61fb9-8206-48fb-9e0b-5d58a19cafa2.png": {
     "image/png": "[encoded data removed]"
    }
   },
   "cell_type": "markdown",
   "id": "ff5ef2cd-2992-40d4-8542-3900d4cdd0e2",
   "metadata": {},
   "source": [
    "![image.png](attachment:3bd61fb9-8206-48fb-9e0b-5d58a19cafa2.png)"
   ]
  },
  {
   "cell_type": "markdown",
   "id": "2a877e16-0ea7-47d9-8a7e-dc847d50d20b",
   "metadata": {},
   "source": [
    "#### Python Lambda Functions\n",
    "\n",
    "Lambda Functions are anonymous functions means that the function is without a name. As we already know def keyword is used to define a normal function in Python. Similarly, lambda keyword is used to define an anonymous function in Python. \n",
    "\n",
    "In the example, we defined a lambda function (upper) to convert a string to its upper case using upper()."
   ]
  },
  {
   "cell_type": "code",
   "execution_count": 1,
   "id": "c1a080ca-7789-4d4c-9b17-119ac1647762",
   "metadata": {},
   "outputs": [
    {
     "name": "stdout",
     "output_type": "stream",
     "text": [
      "VIJAI IN ROBOTICS\n"
     ]
    }
   ],
   "source": [
    "s1 = 'vijAI in robotics'\n",
    "s2 = lambda func: func.upper()\n",
    "print(s2(s1))"
   ]
  },
  {
   "cell_type": "markdown",
   "id": "8a0a42b2-a427-4068-b3b4-d2174b9b0d3f",
   "metadata": {},
   "source": [
    "Explanation: s2 is a lambda function that takes a string and returns it in uppercase. Applying it to 'GeeksforGeeks' gives the result.\n",
    "\n",
    "***Syntax***\n",
    "\n",
    "    - lambda arguments : expression\n",
    "\n",
    "- lambda: The keyword to define the function.\n",
    "- arguments: A comma-separated list of input parameters (like in a regular function).\n",
    "- expression: A single expression that is evaluated and returned.\n",
    "\n",
    "##### Use Cases of Lambda Functions\n",
    "Let's see some of the practical uses of the Python lambda function.\n",
    "\n",
    "***1. Using with Condition Checking***\n",
    "\n",
    "A lambda function can include conditions using if statements.\n",
    "\n",
    "Here, the lambda function uses nested if-else logic to classify numbers as Positive, Negative or Zero."
   ]
  },
  {
   "cell_type": "code",
   "execution_count": 2,
   "id": "8ea09d45-81f2-4ec8-816e-b96f988970f5",
   "metadata": {},
   "outputs": [
    {
     "name": "stdout",
     "output_type": "stream",
     "text": [
      "Positive\n",
      "Negative\n",
      "Zero\n"
     ]
    }
   ],
   "source": [
    "n = lambda x: \"Positive\" if x > 0 else \"Negative\" if x < 0 else \"Zero\"\n",
    "print(n(5))   \n",
    "print(n(-3))  \n",
    "print(n(0))"
   ]
  },
  {
   "cell_type": "markdown",
   "id": "3053cbb8-d677-4547-a6e5-20e86928d50a",
   "metadata": {},
   "source": [
    "Explanation:\n",
    "\n",
    "The lambda function takes x as input.\n",
    "It uses nested if-else statements to return \"Positive,\" \"Negative,\" or \"Zero.\"\n",
    "This lambda checks divisibility by 2 and returns \"Even\" or \"Odd\" accordingly."
   ]
  },
  {
   "cell_type": "code",
   "execution_count": 3,
   "id": "65cb1925-82e6-4e71-b81c-f989c887be15",
   "metadata": {},
   "outputs": [
    {
     "name": "stdout",
     "output_type": "stream",
     "text": [
      "Even\n",
      "Odd\n"
     ]
    }
   ],
   "source": [
    "check = lambda x: \"Even\" if x % 2 == 0 else \"Odd\"\n",
    "print(check(4))  \n",
    "print(check(7))"
   ]
  },
  {
   "cell_type": "markdown",
   "id": "05330027-ba3e-4857-b6f8-26fc4392abef",
   "metadata": {},
   "source": [
    "###### Explanation:\n",
    "\n",
    "- The lambda checks if a number is divisible by 2 (x % 2 == 0).\n",
    "- Returns \"Even\" for true and \"Odd\" otherwise.\n",
    "\n",
    "This approach is useful for labeling or categorizing values based on simple conditions.\n",
    "\n",
    "***2. Using with List Comprehension***\n",
    "\n",
    "Combining lambda with list comprehensions enables us to apply transformations to data in a concise way.\n",
    "\n",
    "This code creates a list of lambda functions, each multiplying its input by 10 and then executes them one by one."
   ]
  },
  {
   "cell_type": "code",
   "execution_count": 4,
   "id": "3b4e55d9-b1f4-40f9-bc4f-f7aeac1800b6",
   "metadata": {},
   "outputs": [
    {
     "name": "stdout",
     "output_type": "stream",
     "text": [
      "10\n",
      "20\n",
      "30\n",
      "40\n"
     ]
    }
   ],
   "source": [
    "li = [lambda arg=x: arg * 10 for x in range(1, 5)]\n",
    "for i in li:\n",
    "    print(i())"
   ]
  },
  {
   "cell_type": "markdown",
   "id": "ab1df6fb-a3d5-4a2a-b635-3befb9e4137a",
   "metadata": {},
   "source": [
    "#### Explanation:\n",
    "\n",
    "- The lambda function multiplies each element by 10.\n",
    "\n",
    "- The list comprehension iterates through li and applies the lambda to each element.\n",
    "\n",
    "- This is ideal for applying transformations to datasets in data preprocessing or manipulation tasks.\n",
    "\n",
    "***3. Using for Returning Multiple Results***\n",
    "\n",
    "Lambda functions do not allow multiple statements, however, we can create two lambda functions and then call the other lambda function as a parameter to the first function.\n",
    "\n",
    "The lambda calculates both sum and product of two numbers and returns them as a tuple."
   ]
  },
  {
   "cell_type": "code",
   "execution_count": 5,
   "id": "4f5590de-b5ca-4569-9a9e-7b180cbf5ae2",
   "metadata": {},
   "outputs": [
    {
     "name": "stdout",
     "output_type": "stream",
     "text": [
      "(7, 12)\n"
     ]
    }
   ],
   "source": [
    "calc = lambda x, y: (x + y, x * y)\n",
    "res = calc(3, 4)\n",
    "print(res)"
   ]
  },
  {
   "cell_type": "markdown",
   "id": "62016476-47ea-4785-8ac9-d003a31df654",
   "metadata": {},
   "source": [
    "###### Explanation:\n",
    "\n",
    "The lambda function performs both addition and multiplication and returns a tuple with both results.\n",
    "This is useful for scenarios where multiple calculations need to be performed and returned together.\n",
    "\n",
    "***4. Using with filter()***\n",
    "\n",
    "The filter() function in Python takes in a function and a list as arguments. This offers an elegant way to filter out all the elements of a sequence \"sequence\", for which the function returns True.\n",
    "\n",
    "Here, the lambda is used as a filtering condition to keep only even numbers from the list."
   ]
  },
  {
   "cell_type": "code",
   "execution_count": 6,
   "id": "22eaf80a-94a5-422c-8ce0-554d06ea7555",
   "metadata": {},
   "outputs": [
    {
     "name": "stdout",
     "output_type": "stream",
     "text": [
      "[2, 4, 6]\n"
     ]
    }
   ],
   "source": [
    "n = [1, 2, 3, 4, 5, 6]\n",
    "even = filter(lambda x: x % 2 == 0, n)\n",
    "print(list(even))"
   ]
  },
  {
   "cell_type": "markdown",
   "id": "e54b20b9-f5ff-46c7-9226-4fc22804f1e3",
   "metadata": {},
   "source": [
    "#### Explanation:\n",
    "\n",
    "The lambda function checks if a number is even (x % 2 == 0).\n",
    "filter() applies this condition to each element in nums.\n",
    "\n",
    "****5. Using with map()****\n",
    "\n",
    "The map() function in Python takes in a function and a list as an argument. The function is called with a lambda function and a new list is returned which contains all the lambda-modified items returned by that function for each item.\n",
    "\n",
    "This code doubles each element of the list using a lambda function and returns a new list."
   ]
  },
  {
   "cell_type": "code",
   "execution_count": 7,
   "id": "3b1b09e6-4496-4e15-99eb-9aa6e46084f3",
   "metadata": {},
   "outputs": [
    {
     "name": "stdout",
     "output_type": "stream",
     "text": [
      "[2, 4, 6, 8]\n"
     ]
    }
   ],
   "source": [
    "a = [1, 2, 3, 4]\n",
    "b = map(lambda x: x * 2, a)\n",
    "print(list(b))"
   ]
  },
  {
   "cell_type": "markdown",
   "id": "10a0824c-5187-4b6d-bd22-326c6821c510",
   "metadata": {},
   "source": [
    "##### Explanation:\n",
    "\n",
    "- The lambda function doubles each number.\n",
    "- map() iterates through a and applies the transformation.\n",
    "\n",
    "***6. Using with reduce()***\n",
    "\n",
    "    The reduce() function in Python takes in a function and a list as an argument. The function is called with a lambda function and an iterable and a new reduced result is returned. This performs a repetitive operation over the pairs of the iterable. The reduce() function belongs to the functools module. \n",
    "\n",
    "Here, the lambda multiplies two numbers at a time and reduce() applies this across the whole list to calculate the product."
   ]
  },
  {
   "cell_type": "code",
   "execution_count": 8,
   "id": "70a17f7a-17a5-4d31-8d19-816b304ade6b",
   "metadata": {},
   "outputs": [
    {
     "name": "stdout",
     "output_type": "stream",
     "text": [
      "24\n"
     ]
    }
   ],
   "source": [
    "from functools import reduce\n",
    "a = [1, 2, 3, 4]\n",
    "b = reduce(lambda x, y: x * y, a)\n",
    "print(b)"
   ]
  },
  {
   "cell_type": "markdown",
   "id": "9cb41df6-2b09-4f3b-895a-e2ea7442722e",
   "metadata": {},
   "source": [
    "##### Explanation:\n",
    "\n",
    "- The lambda multiplies two numbers at a time.\n",
    "\n",
    "- reduce() applies this operation across the list.\n",
    "\n",
    "### Difference Between lambda and def Keyword\n",
    "\n",
    "In Python, both lambda and def can be used to define functions, but they serve slightly different purposes. While def is used for creating standard reusable functions, lambda is mainly used for short, anonymous functions that are needed only temporarily."
   ]
  },
  {
   "cell_type": "code",
   "execution_count": 9,
   "id": "f4aa5ff3-17cd-4c0d-860f-76a13b731a18",
   "metadata": {},
   "outputs": [
    {
     "name": "stdout",
     "output_type": "stream",
     "text": [
      "9\n",
      "9\n"
     ]
    }
   ],
   "source": [
    "# Using lambda\n",
    "sq = lambda x: x ** 2\n",
    "print(sq(3))\n",
    "\n",
    "# Using def\n",
    "def sqdef(x):\n",
    "    return x ** 2\n",
    "print(sqdef(3))"
   ]
  },
  {
   "cell_type": "markdown",
   "id": "fcd5dc14-2d8e-4eea-a27e-499c108ca292",
   "metadata": {},
   "source": [
    "##### Explanation:\n",
    "\n",
    "###### lambda function sq takes a number and returns its square.\n",
    "  \n",
    "###### regular function sqdef does the same but is defined using the def keyword.\n",
    "\n",
    "######  Both approaches give the same result, but lambda is more concise.\n",
    "\n",
    "Now, let’s see a comparison between these two in tabular form:"
   ]
  },
  {
   "attachments": {
    "8c01d1f7-e5eb-4d7e-8d4b-dc97a67c2dc8.png": {
     "image/png": "[encoded data removed]"
    }
   },
   "cell_type": "markdown",
   "id": "673daf48-fa1e-48ec-a90a-ac579e69f5e3",
   "metadata": {},
   "source": [
    "![image.png](attachment:8c01d1f7-e5eb-4d7e-8d4b-dc97a67c2dc8.png)"
   ]
  },
  {
   "cell_type": "code",
   "execution_count": null,
   "id": "e5734951-90db-4471-b730-04bb32570dc8",
   "metadata": {},
   "outputs": [],
   "source": []
  },
  {
   "cell_type": "code",
   "execution_count": null,
   "id": "94a83cab-8801-4174-9937-d3939274a37c",
   "metadata": {},
   "outputs": [],
   "source": []
  },
  {
   "cell_type": "code",
   "execution_count": null,
   "id": "63714110-b494-4fc4-96f0-146a0a89900f",
   "metadata": {},
   "outputs": [],
   "source": []
  },
  {
   "cell_type": "code",
   "execution_count": null,
   "id": "44aac310-a7e6-4355-9206-923350a8250c",
   "metadata": {},
   "outputs": [],
   "source": []
  },
  {
   "cell_type": "code",
   "execution_count": 2,
   "id": "b3d7195a",
   "metadata": {},
   "outputs": [],
   "source": [
    "# Account opening in a Bank\n",
    "# KYC requirements- Adhar ,photo,generation of account number,minimum deposit"
   ]
  },
  {
   "cell_type": "code",
   "execution_count": null,
   "id": "2afa3cac-33a6-43d4-b9d7-46bb010ffccc",
   "metadata": {},
   "outputs": [],
   "source": []
  },
  {
   "cell_type": "code",
   "execution_count": 7,
   "id": "fdc4fe77",
   "metadata": {},
   "outputs": [],
   "source": [
    "# Program name-Kichri preparation process\n",
    "# Process and Parameters- rice, rice variety,spices and their type, stove, cylinder,\n",
    "# dal variety,curd, required utensil,carrot availability,taste etc."
   ]
  },
  {
   "cell_type": "code",
   "execution_count": 8,
   "id": "624093a8",
   "metadata": {},
   "outputs": [],
   "source": [
    "# Early Morning getting ready for vijAI\n",
    "# Process and Parameters\n",
    "# 1. Morning victory parameters,\n",
    "# 2.Daily routine parameters, 3. Evening victory"
   ]
  },
  {
   "cell_type": "code",
   "execution_count": 9,
   "id": "bee2352e",
   "metadata": {},
   "outputs": [],
   "source": [
    "# Tour in summer vacation - make a long story and \n",
    "# some conditions positive and negative.  "
   ]
  },
  {
   "cell_type": "code",
   "execution_count": 10,
   "id": "074ef648",
   "metadata": {},
   "outputs": [],
   "source": [
    "# how to choose your career path and SWOT analysis. \n",
    "# results with if, else and elif."
   ]
  },
  {
   "cell_type": "code",
   "execution_count": 7,
   "id": "4fdeb1e1",
   "metadata": {},
   "outputs": [],
   "source": [
    "# Krisna as a Manager in Mahabharat python program\n",
    "# Characters- Arjun Bhishma , Drona etc\n",
    "# circumstances which led to war\n",
    "# Arjun's state of mind and krisna's life teaching instances.\n",
    "# final victory parameters"
   ]
  },
  {
   "cell_type": "code",
   "execution_count": null,
   "id": "472b615c",
   "metadata": {},
   "outputs": [],
   "source": []
  }
 ],
 "metadata": {
  "kernelspec": {
   "display_name": "Python 3 (ipykernel)",
   "language": "python",
   "name": "python3"
  },
  "language_info": {
   "codemirror_mode": {
    "name": "ipython",
    "version": 3
   },
   "file_extension": ".py",
   "mimetype": "text/x-python",
   "name": "python",
   "nbconvert_exporter": "python",
   "pygments_lexer": "ipython3",
   "version": "3.13.5"
  }
 },
 "nbformat": 4,
 "nbformat_minor": 5
}
