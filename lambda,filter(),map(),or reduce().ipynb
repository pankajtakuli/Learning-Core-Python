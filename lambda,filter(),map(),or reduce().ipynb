{
 "cells": [
  {
   "cell_type": "markdown",
   "id": "1ef8572f-7441-4c04-97a3-3b3ec1a96ea7",
   "metadata": {},
   "source": [
    "***lambda function***"
   ]
  },
  {
   "cell_type": "markdown",
   "id": "79bc5faa-1fa6-4b23-98b3-b7284b661682",
   "metadata": {},
   "source": [
    "It is also called anonymous function."
   ]
  },
  {
   "cell_type": "code",
   "execution_count": null,
   "id": "dec3d09c-c1bc-4e2e-9c37-07a3e70c8961",
   "metadata": {},
   "outputs": [],
   "source": [
    "# Syntax\n",
    "\n",
    "lambda argus: expression\n",
    "\n",
    "\n",
    "(lambda argus: expression)(value)\n",
    "\n",
    "[sq = lambda argus: exp]\n",
    "sq(8)"
   ]
  },
  {
   "cell_type": "code",
   "execution_count": 6,
   "id": "3019e3e6-b87d-439e-8043-152785dc6cb6",
   "metadata": {},
   "outputs": [
    {
     "name": "stdout",
     "output_type": "stream",
     "text": [
      "9\n"
     ]
    }
   ],
   "source": [
    "a = (lambda x : x ** 2)(3)\n",
    "print(a)"
   ]
  },
  {
   "cell_type": "code",
   "execution_count": 7,
   "id": "4fc8de45-5e35-448c-b389-34ccaad36fe8",
   "metadata": {},
   "outputs": [
    {
     "name": "stdout",
     "output_type": "stream",
     "text": [
      "Even\n"
     ]
    }
   ],
   "source": [
    "(lambda x: print(\"Even\") if x % 2 == 0 else print(\"Odd\"))(8)"
   ]
  },
  {
   "cell_type": "markdown",
   "id": "bb67d4f8-d4f3-4b78-9cde-3b9ede731e18",
   "metadata": {},
   "source": [
    "***filter()***"
   ]
  },
  {
   "cell_type": "code",
   "execution_count": null,
   "id": "8303be29-8fa4-4ce7-9f74-2fc8f66b6395",
   "metadata": {},
   "outputs": [],
   "source": [
    "# Syntax \n",
    "\n",
    "filter(function , iterable)"
   ]
  },
  {
   "cell_type": "code",
   "execution_count": 19,
   "id": "bebf671f-230b-4776-acdf-cba864420bac",
   "metadata": {},
   "outputs": [
    {
     "name": "stdout",
     "output_type": "stream",
     "text": [
      "[12, 36]\n"
     ]
    }
   ],
   "source": [
    "# Program for adding even numbers in a new list\n",
    "\n",
    "nums = [85, 12, 36, 71, 49]\n",
    "n = []\n",
    "for i in range(len(nums)):\n",
    "    if nums[i] % 2 == 0:\n",
    "        n.append(nums[i])\n",
    "print(n)"
   ]
  },
  {
   "cell_type": "code",
   "execution_count": 18,
   "id": "dcdd730a-fb42-405a-9cf2-1eb265af3ad2",
   "metadata": {},
   "outputs": [
    {
     "name": "stdout",
     "output_type": "stream",
     "text": [
      "[12, 36]\n"
     ]
    }
   ],
   "source": [
    "nums = [85, 12, 36, 71, 49]\n",
    "s = []\n",
    "for i in nums:\n",
    "    if i % 2 == 0:\n",
    "        s.append(i)\n",
    "print(s)"
   ]
  },
  {
   "cell_type": "code",
   "execution_count": 48,
   "id": "c6980b28-a165-427f-9a77-efec343332d6",
   "metadata": {},
   "outputs": [
    {
     "name": "stdout",
     "output_type": "stream",
     "text": [
      "[12, 36]\n"
     ]
    }
   ],
   "source": [
    "nums = [85, 12, 36, 71, 49]\n",
    "def even_num(element):\n",
    "    if element % 2 == 0:\n",
    "        return True\n",
    "filt_list = filter(even_num, nums)\n",
    "print(list(filt_list))"
   ]
  },
  {
   "cell_type": "code",
   "execution_count": 42,
   "id": "2c57dd50-39ef-4d7f-a013-8ec137e369d4",
   "metadata": {},
   "outputs": [
    {
     "name": "stdout",
     "output_type": "stream",
     "text": [
      "[12, 36]\n"
     ]
    }
   ],
   "source": [
    "nums = [85, 12, 36, 71, 49]\n",
    "filt_lst = filter(lambda a : True if a % 2 == 0 else False, nums)\n",
    "print(list(filt_lst))"
   ]
  },
  {
   "cell_type": "code",
   "execution_count": 39,
   "id": "34ef4279-0eba-4708-b853-8953944e571b",
   "metadata": {},
   "outputs": [
    {
     "name": "stdout",
     "output_type": "stream",
     "text": [
      "[12, 36]\n"
     ]
    }
   ],
   "source": [
    "nums = [85, 12, 36, 71, 49]\n",
    "filt_lst = filter(lambda a : a % 2 == 0, nums)\n",
    "print(list(filt_lst))"
   ]
  },
  {
   "cell_type": "code",
   "execution_count": 46,
   "id": "d845cda5-1064-42e5-9000-7108d7cdc1cc",
   "metadata": {},
   "outputs": [
    {
     "name": "stdout",
     "output_type": "stream",
     "text": [
      "['Haldwani', 'Hyderabad']\n"
     ]
    }
   ],
   "source": [
    "city_name = [\"Haldwani\",\"Mumbai\",\"Hyderabad\",\"Delhi\",\"Pune\"]\n",
    "new_list = []\n",
    "for i in city_name:\n",
    "    if i.startswith(\"H\"):\n",
    "        new_list.append(i)\n",
    "print(new_list)"
   ]
  },
  {
   "cell_type": "code",
   "execution_count": 50,
   "id": "92d4b0f4-486c-4f5e-ad3b-e056d973b448",
   "metadata": {},
   "outputs": [
    {
     "data": {
      "text/plain": [
       "False"
      ]
     },
     "execution_count": 50,
     "metadata": {},
     "output_type": "execute_result"
    }
   ],
   "source": [
    "def selecting_cities(city):\n",
    "    return city.startswith(\"H\")\n",
    "\n",
    "\n",
    "selecting_cities(\"London\")"
   ]
  },
  {
   "cell_type": "code",
   "execution_count": 51,
   "id": "9ec3b323-e370-4588-93e5-267fb6bbf159",
   "metadata": {},
   "outputs": [
    {
     "name": "stdout",
     "output_type": "stream",
     "text": [
      "['Haldwani', 'Hyderabad']\n"
     ]
    }
   ],
   "source": [
    "city_name = [\"Haldwani\",\"Mumbai\",\"Hyderabad\",\"Delhi\",\"Pune\"]\n",
    "filtered_cities = list(filter(selecting_cities, city_name))\n",
    "print(filtered_cities)"
   ]
  },
  {
   "cell_type": "code",
   "execution_count": 53,
   "id": "1bff17cf-ed01-4903-86e1-0c7547f90559",
   "metadata": {},
   "outputs": [],
   "source": [
    "# Filter function will pass each element to the list city_name one-by-one to the function \"selecting_cities()\"\n",
    "# For the elements of the lict city_names for which \"selecting_cities()\" return True are appeneded to the new list \"filtered_cites\""
   ]
  },
  {
   "cell_type": "code",
   "execution_count": 54,
   "id": "9ec5b585-0107-4b70-8d56-516133310064",
   "metadata": {},
   "outputs": [
    {
     "name": "stdout",
     "output_type": "stream",
     "text": [
      "['Haldwani', 'Mumbai', 'Hyderabad', 'Delhi', 'Pune']\n"
     ]
    }
   ],
   "source": [
    "def selecting_cities(city):\n",
    "    return True\n",
    "\n",
    "\n",
    "city_name = [\"Haldwani\",\"Mumbai\",\"Hyderabad\",\"Delhi\",\"Pune\"]\n",
    "filtered_cities = list(filter(selecting_cities, city_name))\n",
    "print(filtered_cities)"
   ]
  },
  {
   "cell_type": "code",
   "execution_count": 56,
   "id": "604d48ff-77b1-4866-88fb-0c14474a0613",
   "metadata": {},
   "outputs": [
    {
     "name": "stdout",
     "output_type": "stream",
     "text": [
      "['Haldwani', 'Mumbai', 'Hyderabad', 'Delhi', 'Pune']\n",
      "['Haldwani', 'Mumbai', 'Hyderabad', 'Delhi', 'Pune']\n"
     ]
    }
   ],
   "source": [
    "print(city_name)\n",
    "print(filtered_cities)"
   ]
  },
  {
   "cell_type": "code",
   "execution_count": 59,
   "id": "b81509c4-c86a-43c5-a052-d8d69853fc2c",
   "metadata": {},
   "outputs": [
    {
     "name": "stdout",
     "output_type": "stream",
     "text": [
      "[]\n"
     ]
    }
   ],
   "source": [
    "def selecting_cities(city):\n",
    "    return False\n",
    "\n",
    "\n",
    "city_name = [\"Haldwani\",\"Mumbai\",\"Hyderabad\",\"Delhi\",\"Pune\"]\n",
    "filtered_cities = list(filter(selecting_cities, city_name))\n",
    "print(filtered_cities)"
   ]
  },
  {
   "cell_type": "code",
   "execution_count": 67,
   "id": "babc998f-3710-41f7-beef-1d56464cc5f5",
   "metadata": {},
   "outputs": [
    {
     "name": "stdout",
     "output_type": "stream",
     "text": [
      "['Delhi', 'Dubai']\n"
     ]
    }
   ],
   "source": [
    "def selecting_cities(city):\n",
    "    return  city.startswith(\"D\") and city.endswith(\"i\")\n",
    "        \n",
    "\n",
    "\n",
    "city_name = [\"Haldwani\",\"Hyderabad\", \"Delhi\", \"Benguluru\", \"San Francisco\",\"Shanghai\", \"Dubai\"]\n",
    "filtered_cities = list(filter(selecting_cities, city_name))\n",
    "print(filtered_cities)"
   ]
  },
  {
   "cell_type": "code",
   "execution_count": 70,
   "id": "e596b6fa-692f-4e26-8d93-ae945eeedcd6",
   "metadata": {},
   "outputs": [
    {
     "name": "stdout",
     "output_type": "stream",
     "text": [
      "['Hyderabad', 'Delhi', 'Benguluru', 'San Francisco', 'Dubai']\n"
     ]
    }
   ],
   "source": [
    "def selecting_cities(city):\n",
    "    return (city.endswith(\"i\") and city.startswith(\"D\")) or len(city) > 8\n",
    "        \n",
    "\n",
    "\n",
    "city_name = [\"Haldwani\",\"Hyderabad\", \"Delhi\", \"Benguluru\", \"San Francisco\",\"Shanghai\", \"Dubai\"]\n",
    "filtered_cities = list(filter(selecting_cities, city_name))\n",
    "print(filtered_cities)"
   ]
  },
  {
   "cell_type": "code",
   "execution_count": 101,
   "id": "e52e1bc7-085d-4ebe-a15d-0a511b6b2f1d",
   "metadata": {},
   "outputs": [
    {
     "name": "stdout",
     "output_type": "stream",
     "text": [
      "[234, 'Hyderabad', 101, 'Benguluru', 'San Francisco']\n"
     ]
    }
   ],
   "source": [
    "def selecting(c):\n",
    "    if type(c) == int and c > 100:\n",
    "        return True\n",
    "    elif type(c) == str and len(c)>8:\n",
    "        return True\n",
    "    else:\n",
    "        return False\n",
    "           \n",
    "\n",
    "        \n",
    "\n",
    "c = [\"Haldwani\",234 , \"Hyderabad\",3, 101, 23,  \"Delhi\", \"Benguluru\",4 , \"San Francisco\",\"Shanghai\", \"Dubai\"]\n",
    "filtered = list(filter(selecting , c))\n",
    "print(filtered)"
   ]
  },
  {
   "cell_type": "code",
   "execution_count": 82,
   "id": "efdc71c7-76a4-46a4-ae77-dd991d5e794c",
   "metadata": {},
   "outputs": [
    {
     "name": "stdout",
     "output_type": "stream",
     "text": [
      "<class 'list'>\n"
     ]
    }
   ],
   "source": [
    "c = [\"Haldwani\",234 , \"Hyderabad\",3, 101, 23,  \"Delhi\", \"Benguluru\",4 , \"San Francisco\",\"Shanghai\", \"Dubai\"]\n",
    "print(type(c))"
   ]
  },
  {
   "cell_type": "code",
   "execution_count": null,
   "id": "b2749cd4-ea0a-4381-ac2c-bd29a6c08a06",
   "metadata": {},
   "outputs": [],
   "source": []
  },
  {
   "cell_type": "code",
   "execution_count": null,
   "id": "272e2e0e-9ba9-4f41-a355-39eb7f4959ac",
   "metadata": {},
   "outputs": [],
   "source": []
  }
 ],
 "metadata": {
  "kernelspec": {
   "display_name": "Python 3 (ipykernel)",
   "language": "python",
   "name": "python3"
  },
  "language_info": {
   "codemirror_mode": {
    "name": "ipython",
    "version": 3
   },
   "file_extension": ".py",
   "mimetype": "text/x-python",
   "name": "python",
   "nbconvert_exporter": "python",
   "pygments_lexer": "ipython3",
   "version": "3.13.5"
  }
 },
 "nbformat": 4,
 "nbformat_minor": 5
}
