{
 "cells": [
  {
   "cell_type": "markdown",
   "id": "402ff16d-801b-440a-9588-5ad6f1c0854d",
   "metadata": {},
   "source": [
    "These examples focus on core Python concepts like functions, data structures (lists, tuples, dictionaries), control flow, and error handling. I'll explain each program step by step."
   ]
  },
  {
   "cell_type": "markdown",
   "id": "2989952c-4713-40d4-800f-de63a1faa685",
   "metadata": {},
   "source": [
    "#### 1. Prime Number Checker (Using Functions and Control Flow)\n",
    "\n",
    "- Concepts Covered: Functions, loops, conditional statements, return values.\n"
   ]
  },
  {
   "cell_type": "code",
   "execution_count": 1,
   "id": "233daada-ede5-47b1-b5e1-32bc0d35d5c4",
   "metadata": {},
   "outputs": [
    {
     "name": "stdout",
     "output_type": "stream",
     "text": [
      "1 is not a prime number\n",
      "2 is a prime number\n",
      "3 is a prime number\n",
      "4 is not a prime number\n",
      "5 is a prime number\n",
      "6 is not a prime number\n",
      "7 is a prime number\n",
      "8 is not a prime number\n",
      "9 is not a prime number\n",
      "10 is not a prime number\n",
      "11 is a prime number\n",
      "12 is not a prime number\n",
      "13 is a prime number\n",
      "14 is not a prime number\n",
      "15 is not a prime number\n",
      "16 is not a prime number\n",
      "17 is a prime number\n",
      "18 is not a prime number\n",
      "19 is a prime number\n",
      "20 is not a prime number\n"
     ]
    }
   ],
   "source": [
    "# Function to check if a number is prime\n",
    "def is_prime(n):\n",
    "    if n <= 1:\n",
    "        return False\n",
    "    for i in range(2, int(n ** 0.5) + 1):  # Check divisibility up to the square root of the number\n",
    "        if n % i == 0:\n",
    "            return False\n",
    "    return True\n",
    "\n",
    "# Test the function with a few values\n",
    "for num in range(1, 21):\n",
    "    if is_prime(num):\n",
    "        print(f\"{num} is a prime number\")\n",
    "    else:\n",
    "        print(f\"{num} is not a prime number\")\n"
   ]
  },
  {
   "cell_type": "markdown",
   "id": "9185c474-7ac5-4c10-8065-3efd8c4fbf4d",
   "metadata": {},
   "source": [
    "##### 2. Fibonacci Sequence (Using Recursion and Loops)\n",
    "- Concepts Covered: Recursion, loops, list manipulation."
   ]
  },
  {
   "cell_type": "code",
   "execution_count": 1,
   "id": "fd16bac2-c22d-4521-af36-8960d53431da",
   "metadata": {},
   "outputs": [
    {
     "name": "stdout",
     "output_type": "stream",
     "text": [
      "Recursive Fibonacci:\n",
      "0 1 1 2 3 5 8 13 21 34 \n",
      "\n",
      "Loop Fibonacci:\n",
      "[0, 1, 1, 2, 3, 5, 8, 13, 21, 34]\n"
     ]
    }
   ],
   "source": [
    "# Function to generate Fibonacci numbers using recursion\n",
    "def fibonacci_recursive(n):\n",
    "    if n <= 1:\n",
    "        return n\n",
    "    return fibonacci_recursive(n - 1) + fibonacci_recursive(n - 2)\n",
    "\n",
    "# Function to generate Fibonacci numbers using loops (efficient)\n",
    "def fibonacci_loop(n):\n",
    "    fib_sequence = [0, 1]  # Initialize first two Fibonacci numbers\n",
    "    for i in range(2, n):\n",
    "        next_value = fib_sequence[i - 1] + fib_sequence[i - 2]\n",
    "        fib_sequence.append(next_value)\n",
    "    return fib_sequence\n",
    "\n",
    "# Generate the first 10 Fibonacci numbers\n",
    "n = 10\n",
    "print(\"Recursive Fibonacci:\")\n",
    "for i in range(n):\n",
    "    print(fibonacci_recursive(i), end=\" \")\n",
    "\n",
    "print(\"\\n\\nLoop Fibonacci:\")\n",
    "print(fibonacci_loop(n))\n"
   ]
  },
  {
   "attachments": {
    "f5291b40-c868-4a0b-aea0-dd723239f01f.png": {
     "image/png": "[encoded data removed]"
    }
   },
   "cell_type": "markdown",
   "id": "3c7a763e-7dc7-4f7c-87b7-8e827b70b8a3",
   "metadata": {},
   "source": [
    "#### Fibonacci numbers\n",
    "\n",
    "Fibonacci numbers form a sequence where each number is the sum of the two preceding ones, starting from 0 and 1. The sequence typically begins as:\n",
    "\n",
    "0, 1, 1, 2, 3, 5, 8, 13, 21, 34, ...\n",
    "\n",
    "In mathematical terms:\n",
    "\n",
    "![image.png](attachment:f5291b40-c868-4a0b-aea0-dd723239f01f.png)\n",
    "\n",
    "Fibonacci numbers are widely used in algorithms, mathematical modeling, and nature (e.g., spirals in shells and flowers)."
   ]
  },
  {
   "cell_type": "markdown",
   "id": "3c92fa5c-9fb6-4ebe-b172-b9d0498ff3ec",
   "metadata": {},
   "source": [
    "##### 3. Shopping Cart Simulation (Using Lists and Dictionaries)\n",
    "Concepts Covered: Lists, dictionaries, functions, loops."
   ]
  },
  {
   "cell_type": "code",
   "execution_count": 3,
   "id": "0765aee9-5d63-4d71-ab71-50996e0e635c",
   "metadata": {},
   "outputs": [
    {
     "name": "stdout",
     "output_type": "stream",
     "text": [
      "Apple: $1.20\n",
      "Banana: $0.50\n",
      "Milk: $2.00\n",
      "Total: $3.70\n",
      "Apple: $1.20\n",
      "Milk: $2.00\n",
      "Total: $3.20\n"
     ]
    }
   ],
   "source": [
    "# Shopping cart program using a dictionary to store items and their prices\n",
    "def add_to_cart(cart, item, price):\n",
    "    cart[item] = price\n",
    "\n",
    "def show_cart(cart):\n",
    "    if not cart:\n",
    "        print(\"Your cart is empty.\")\n",
    "    else:\n",
    "        for item, price in cart.items():\n",
    "            print(f\"{item}: ${price:.2f}\")\n",
    "        print(f\"Total: ${sum(cart.values()):.2f}\")\n",
    "\n",
    "def remove_from_cart(cart, item):\n",
    "    if item in cart:\n",
    "        del cart[item]\n",
    "    else:\n",
    "        print(f\"{item} not found in the cart.\")\n",
    "\n",
    "# Main program\n",
    "shopping_cart = {}\n",
    "add_to_cart(shopping_cart, \"Apple\", 1.20)\n",
    "add_to_cart(shopping_cart, \"Banana\", 0.50)\n",
    "add_to_cart(shopping_cart, \"Milk\", 2.00)\n",
    "show_cart(shopping_cart)\n",
    "\n",
    "remove_from_cart(shopping_cart, \"Banana\")\n",
    "show_cart(shopping_cart)\n"
   ]
  },
  {
   "cell_type": "markdown",
   "id": "043d1669-43b6-44c7-8ea5-8cc351594a92",
   "metadata": {},
   "source": [
    "##### 4. Word Frequency Counter (Using Dictionaries)\n",
    "- Concepts Covered: Dictionaries, string manipulation, loops, input handling."
   ]
  },
  {
   "cell_type": "code",
   "execution_count": 4,
   "id": "6f4cf564-45bb-43bb-82bb-6c05824a117e",
   "metadata": {},
   "outputs": [
    {
     "name": "stdout",
     "output_type": "stream",
     "text": [
      "hello: 2\n",
      "world: 1\n",
      "python: 2\n",
      "is: 1\n",
      "amazing: 1\n"
     ]
    }
   ],
   "source": [
    "# Function to count the frequency of each word in a text\n",
    "def word_count(text):\n",
    "    word_freq = {}  # Dictionary to store word frequencies\n",
    "    words = text.split()  # Split text into words\n",
    "    for word in words:\n",
    "        word = word.lower().strip(\",.!?\")  # Normalize words (case-insensitive)\n",
    "        word_freq[word] = word_freq.get(word, 0) + 1  # Increment count for each word\n",
    "    return word_freq\n",
    "\n",
    "# Test with a sample text\n",
    "sample_text = \"Hello, world! Hello, Python. Python is amazing!\"\n",
    "word_frequencies = word_count(sample_text)\n",
    "\n",
    "# Print the word frequencies\n",
    "for word, count in word_frequencies.items():\n",
    "    print(f\"{word}: {count}\")\n"
   ]
  },
  {
   "cell_type": "markdown",
   "id": "af061ec0-3d8d-4607-a46e-78739bf20934",
   "metadata": {},
   "source": [
    "##### 5. Basic Calculator (Using Functions and Error Handling)\n",
    "Concepts Covered: Functions, exception handling, input/output, loops."
   ]
  },
  {
   "cell_type": "code",
   "execution_count": 5,
   "id": "d80b331f-c1dc-431e-a872-1836d121c202",
   "metadata": {},
   "outputs": [
    {
     "name": "stdout",
     "output_type": "stream",
     "text": [
      "\n",
      "Basic Calculator\n",
      "Select operation:\n",
      "1. Add\n",
      "2. Subtract\n",
      "3. Multiply\n",
      "4. Divide\n",
      "5. Exit\n"
     ]
    },
    {
     "name": "stdin",
     "output_type": "stream",
     "text": [
      "Enter your choice (1/2/3/4/5):  5\n"
     ]
    },
    {
     "name": "stdout",
     "output_type": "stream",
     "text": [
      "Exiting the calculator. Goodbye!\n"
     ]
    }
   ],
   "source": [
    "# Define functions for basic operations\n",
    "def add(x, y):\n",
    "    return x + y\n",
    "\n",
    "def subtract(x, y):\n",
    "    return x - y\n",
    "\n",
    "def multiply(x, y):\n",
    "    return x * y\n",
    "\n",
    "def divide(x, y):\n",
    "    if y == 0:\n",
    "        raise ValueError(\"Cannot divide by zero.\")\n",
    "    return x / y\n",
    "\n",
    "# Function to display the menu and get user choice\n",
    "def display_menu():\n",
    "    print(\"\\nBasic Calculator\")\n",
    "    print(\"Select operation:\")\n",
    "    print(\"1. Add\")\n",
    "    print(\"2. Subtract\")\n",
    "    print(\"3. Multiply\")\n",
    "    print(\"4. Divide\")\n",
    "    print(\"5. Exit\")\n",
    "    return input(\"Enter your choice (1/2/3/4/5): \")\n",
    "\n",
    "# Main calculator function with error handling\n",
    "def calculator():\n",
    "    while True:\n",
    "        choice = display_menu()\n",
    "        \n",
    "        if choice == '5':\n",
    "            print(\"Exiting the calculator. Goodbye!\")\n",
    "            break\n",
    "        \n",
    "        if choice not in ['1', '2', '3', '4']:\n",
    "            print(\"Invalid choice. Please select a valid option.\")\n",
    "            continue\n",
    "        \n",
    "        # Get user input for the numbers\n",
    "        try:\n",
    "            num1 = float(input(\"Enter the first number: \"))\n",
    "            num2 = float(input(\"Enter the second number: \"))\n",
    "        except ValueError:\n",
    "            print(\"Invalid input. Please enter numeric values.\")\n",
    "            continue\n",
    "        \n",
    "        # Perform the selected operation\n",
    "        try:\n",
    "            if choice == '1':\n",
    "                result = add(num1, num2)\n",
    "                print(f\"The result of {num1} + {num2} = {result}\")\n",
    "            elif choice == '2':\n",
    "                result = subtract(num1, num2)\n",
    "                print(f\"The result of {num1} - {num2} = {result}\")\n",
    "            elif choice == '3':\n",
    "                result = multiply(num1, num2)\n",
    "                print(f\"The result of {num1} * {num2} = {result}\")\n",
    "            elif choice == '4':\n",
    "                result = divide(num1, num2)\n",
    "                print(f\"The result of {num1} / {num2} = {result}\")\n",
    "        except ValueError as e:\n",
    "            print(e)\n",
    "\n",
    "# Run the calculator\n",
    "calculator()\n"
   ]
  },
  {
   "cell_type": "code",
   "execution_count": null,
   "id": "84526551-0afe-4ea0-a7fd-b55eaedaf1b3",
   "metadata": {},
   "outputs": [],
   "source": []
  },
  {
   "cell_type": "markdown",
   "id": "ce15cb15-eee6-4d82-acb1-5eb08fc1363d",
   "metadata": {},
   "source": [
    "### More Practice Based programs\n",
    "\n",
    "After practicing smaller programs, start working on small projects. Projects can include:\n",
    "- A simple text-based game.\n",
    "\n",
    "- A basic web scraper.\n",
    "\n",
    "- A simple CRUD app (Create, Read, Update, Delete) using file handling.\n",
    "\n",
    "- A budget tracker or expense manager using dictionaries."
   ]
  },
  {
   "cell_type": "markdown",
   "id": "73c40371-02f8-48a1-b2a0-4079d1704bc1",
   "metadata": {},
   "source": [
    "#### 1. Text-based Game: Guess the Number\n",
    "Create a game where the computer randomly selects a number, and the player has to guess it. The program gives hints like \"too high\" or \"too low.\""
   ]
  },
  {
   "cell_type": "code",
   "execution_count": 6,
   "id": "9afd2748-3335-4b02-bece-ec971fb5f4cb",
   "metadata": {},
   "outputs": [
    {
     "name": "stdin",
     "output_type": "stream",
     "text": [
      "Guess a number between 1 and 100:  42\n"
     ]
    },
    {
     "name": "stdout",
     "output_type": "stream",
     "text": [
      "Too high!\n"
     ]
    },
    {
     "name": "stdin",
     "output_type": "stream",
     "text": [
      "Guess a number between 1 and 100:  39\n"
     ]
    },
    {
     "name": "stdout",
     "output_type": "stream",
     "text": [
      "Congratulations! You've guessed the number in 2 attempts.\n"
     ]
    }
   ],
   "source": [
    "import random\n",
    "\n",
    "def guess_game():\n",
    "    number = random.randint(1, 100)\n",
    "    attempts = 0\n",
    "\n",
    "    while True:\n",
    "        guess = int(input(\"Guess a number between 1 and 100: \"))\n",
    "        attempts += 1\n",
    "        if guess < number:\n",
    "            print(\"Too low!\")\n",
    "        elif guess > number:\n",
    "            print(\"Too high!\")\n",
    "        else:\n",
    "            print(f\"Congratulations! You've guessed the number in {attempts} attempts.\")\n",
    "            break\n",
    "\n",
    "guess_game()\n"
   ]
  },
  {
   "cell_type": "markdown",
   "id": "7228b0db-6e43-4134-85a8-54f8d0302fcd",
   "metadata": {},
   "source": [
    "#### 2. Basic Web Scraper\n",
    "Use Python's requests and BeautifulSoup libraries to scrape a website, such as fetching titles from a blog or news site."
   ]
  },
  {
   "cell_type": "code",
   "execution_count": 7,
   "id": "6779855e-fa1c-489c-8a65-d2e5e0f9091e",
   "metadata": {},
   "outputs": [
    {
     "name": "stdout",
     "output_type": "stream",
     "text": [
      "\n"
     ]
    }
   ],
   "source": [
    "import requests\n",
    "from bs4 import BeautifulSoup\n",
    "\n",
    "def scrape_titles(url):\n",
    "    response = requests.get(url)\n",
    "    soup = BeautifulSoup(response.text, 'html.parser')\n",
    "    \n",
    "    titles = soup.find_all('h2')  # Assuming blog post titles are in <h2> tags\n",
    "    for title in titles:\n",
    "        print(title.text)\n",
    "\n",
    "scrape_titles('https://example-blog.com')\n"
   ]
  },
  {
   "cell_type": "markdown",
   "id": "b7eb1352-3a9b-4f1b-a606-0872ba1412c9",
   "metadata": {},
   "source": [
    "#### 3. Simple CRUD App (File Handling)\n",
    "A command-line app that allows the user to create, read, update, and delete (CRUD) notes in a text file."
   ]
  },
  {
   "cell_type": "markdown",
   "id": "b6ee8087-0df5-4542-98ea-d396fdf9e448",
   "metadata": {},
   "source": [
    "#### 4. Budget Tracker/Expense Manager\n",
    "Create a program that tracks expenses and calculates the total expenditure. Use a dictionary to store categories and their respective expenses."
   ]
  },
  {
   "cell_type": "code",
   "execution_count": null,
   "id": "5971de60-458a-43f3-8645-fafd37b1ee99",
   "metadata": {},
   "outputs": [],
   "source": [
    "def add_expense(expenses):\n",
    "    category = input(\"Enter the expense category: \")\n",
    "    amount = float(input(\"Enter the amount: \"))\n",
    "    if category in expenses:\n",
    "        expenses[category] += amount\n",
    "    else:\n",
    "        expenses[category] = amount\n",
    "    print(\"Expense added.\")\n",
    "\n",
    "def view_expenses(expenses):\n",
    "    print(\"\\nExpense Summary:\")\n",
    "    for category, amount in expenses.items():\n",
    "        print(f\"{category}: ${amount:.2f}\")\n",
    "    print(f\"Total: ${sum(expenses.values()):.2f}\")\n",
    "\n",
    "def expense_tracker():\n",
    "    expenses = {}\n",
    "    while True:\n",
    "        print(\"\\n1. Add Expense\\n2. View Expenses\\n3. Exit\")\n",
    "        choice = input(\"Choose an option: \")\n",
    "\n",
    "        if choice == \"1\":\n",
    "            add_expense(expenses)\n",
    "        elif choice == \"2\":\n",
    "            view_expenses(expenses)\n",
    "        elif choice == \"3\":\n",
    "            break\n",
    "        else:\n",
    "            print(\"Invalid option, please try again.\")\n",
    "\n",
    "expense_tracker()\n"
   ]
  },
  {
   "cell_type": "markdown",
   "id": "eba3044d-52fa-4f1d-82af-6187e1bd76a1",
   "metadata": {},
   "source": [
    "##### Tips for Practice:\n",
    "- Start simple and add features progressively (like tracking dates in the expense manager or adding difficulty levels in the game).\n",
    "- Focus on organizing your code with functions, as demonstrated.\n",
    "- Learn new libraries (e.g., BeautifulSoup for web scraping) to expand your projects' scope.\n",
    "\n",
    "Each project provides hands-on experience with Python fundamentals, enhancing your coding skills through real-world applications."
   ]
  },
  {
   "cell_type": "markdown",
   "id": "d7ef8c28-f93e-4c7f-ad4d-5a685b9e9ecf",
   "metadata": {},
   "source": [
    "### Exception Handling in Python\n",
    "\n",
    "Exception handling is a mechanism in Python (and many other programming languages) to handle errors or exceptions that may occur during the execution of a program. This allows the program to continue running or fail gracefully instead of crashing unexpectedly.\n",
    "\n",
    "- What is an Exception?\n",
    "An exception is an event that disrupts the normal flow of a program. In Python, exceptions occur when:\n",
    "\n",
    "The program encounters an error that it doesn't know how to handle.\n",
    "\n",
    "For example, trying to divide a number by zero, accessing a file that doesn't exist, or entering invalid input when the program expects a number.\n",
    "\n",
    "- Some common exceptions in Python:\n",
    "\n",
    "##### 1. ZeroDivisionError: Raised when division by zero is attempted.\n",
    "##### 2.ValueError: Raised when a function gets an argument of the correct type but with an invalid value.\n",
    "##### 3.TypeError: Raised when an operation or function is applied to an object of an inappropriate type.\n",
    "##### 4.FileNotFoundError: Raised when a file or directory is requested but cannot be found.\n",
    "\n",
    "###### Why Use Exception Handling?\n",
    "Without exception handling, a program will terminate when it encounters an error. Exception handling ensures that errors are caught and handled gracefully, which:\n",
    "\n",
    "- Prevents the program from crashing.\n",
    "- Helps in debugging and identifying where the problem occurred.\n",
    "- Allows the program to respond intelligently, such as asking the user for valid input or displaying a meaningful error message.\n",
    "\n",
    "- Basic Syntax of Exception Handling\n",
    "\n",
    "Python uses the try, except, else, and finally blocks for exception handling. Here's the basic structure:"
   ]
  },
  {
   "cell_type": "raw",
   "id": "99e89c82-8c64-4bfd-84d9-6dd81fc9e766",
   "metadata": {},
   "source": [
    "try:\n",
    "    # Code that might raise an exception\n",
    "    risky_operation()\n",
    "except SomeException:\n",
    "    # Code to execute if the exception occurs\n",
    "    handle_exception()\n",
    "else:\n",
    "    # Code to execute if no exception occurs\n",
    "    no_exception_occurred()\n",
    "finally:\n",
    "    # Code that will always be executed, whether an exception occurred or not\n",
    "    cleanup_code()\n"
   ]
  },
  {
   "cell_type": "markdown",
   "id": "586bdd98-721d-4e5a-a4d1-e59c39fbf9f8",
   "metadata": {},
   "source": [
    "- 1. try Block\n",
    "The try block contains the code that might raise an exception. If the code in the try block runs without any errors, Python skips the except block.\n",
    "\n",
    "- 2. except Block\n",
    "The except block is where you handle the error if an exception occurs in the try block. You can specify which type of exception you want to catch. If you don't specify an exception, it will catch all exceptions.\n",
    "\n",
    "- 3. else Block (Optional)\n",
    "The else block is executed only if no exceptions were raised in the try block. It’s useful for code that should run after the try block, but only if everything went fine.\n",
    "\n",
    "- 4. finally Block (Optional)\n",
    "The finally block will always execute, whether an exception occurs or not. This is useful for cleaning up resources like closing files or releasing network connections.\n",
    "\n",
    "Examples of Exception Handling\n",
    "1. Handling Division by Zero"
   ]
  },
  {
   "cell_type": "code",
   "execution_count": 2,
   "id": "801f8064-67b2-48a7-a864-01d1835d01ff",
   "metadata": {},
   "outputs": [
    {
     "name": "stdout",
     "output_type": "stream",
     "text": [
      "Error: You can't divide by zero!\n"
     ]
    }
   ],
   "source": [
    "try:\n",
    "    num = 10\n",
    "    divisor = 0\n",
    "    result = num / divisor  # This will raise ZeroDivisionError\n",
    "except ZeroDivisionError:\n",
    "    print(\"Error: You can't divide by zero!\")\n"
   ]
  },
  {
   "cell_type": "markdown",
   "id": "e9806272-8b9d-4f6f-9af3-6ba6cbde6b0b",
   "metadata": {},
   "source": [
    "- Explanation:\n",
    "\n",
    "In this case, division by zero raises a ZeroDivisionError.\n",
    "The except block catches that specific exception and prints an error message.\n",
    "Without the try-except block, the program would crash with a traceback.\n",
    "\n",
    "##### 2. Handling Multiple Exceptions\n",
    "You can handle multiple exceptions by specifying different except blocks."
   ]
  },
  {
   "cell_type": "code",
   "execution_count": 4,
   "id": "dc3380b4-f48b-4683-a904-c3db18ea6a93",
   "metadata": {},
   "outputs": [
    {
     "name": "stdin",
     "output_type": "stream",
     "text": [
      "Enter a number:  0\n"
     ]
    },
    {
     "name": "stdout",
     "output_type": "stream",
     "text": [
      "Error: You can't divide by zero.\n"
     ]
    }
   ],
   "source": [
    "try:\n",
    "    num = int(input(\"Enter a number: \"))  # Might raise ValueError\n",
    "    result = 10 / num  # Might raise ZeroDivisionError\n",
    "except ValueError:\n",
    "    print(\"Error: Invalid input! Please enter a valid number.\")\n",
    "except ZeroDivisionError:\n",
    "    print(\"Error: You can't divide by zero.\")\n"
   ]
  },
  {
   "cell_type": "markdown",
   "id": "c613e0cd-8d82-44ac-8088-208bb211dff0",
   "metadata": {},
   "source": [
    "#### Explanation:\n",
    "\n",
    "The code first tries to convert the user's input into an integer. If the user enters non-numeric input, it raises a ValueError.\n",
    "If the user enters 0, it raises a ZeroDivisionError when attempting to divide.\n",
    "Each specific exception is handled in its own except block.\n",
    "\n",
    "##### 3. Using finally for Cleanup\n",
    "The finally block can be used for tasks like closing files or releasing resources, ensuring they are executed no matter what happens."
   ]
  },
  {
   "cell_type": "code",
   "execution_count": 18,
   "id": "dbb2e6d9-f087-4b84-bfb4-3f8c71572dc5",
   "metadata": {},
   "outputs": [
    {
     "name": "stdout",
     "output_type": "stream",
     "text": [
      "Error: The file does not exist.\n"
     ]
    },
    {
     "ename": "NameError",
     "evalue": "name 'file' is not defined",
     "output_type": "error",
     "traceback": [
      "\u001b[1;31m---------------------------------------------------------------------------\u001b[0m",
      "\u001b[1;31mNameError\u001b[0m                                 Traceback (most recent call last)",
      "Cell \u001b[1;32mIn[18], line 8\u001b[0m\n\u001b[0;32m      6\u001b[0m     \u001b[38;5;28mprint\u001b[39m(\u001b[38;5;124m\"\u001b[39m\u001b[38;5;124mError: The file does not exist.\u001b[39m\u001b[38;5;124m\"\u001b[39m)\n\u001b[0;32m      7\u001b[0m \u001b[38;5;28;01mfinally\u001b[39;00m:\n\u001b[1;32m----> 8\u001b[0m     file\u001b[38;5;241m.\u001b[39mclose()\n",
      "\u001b[1;31mNameError\u001b[0m: name 'file' is not defined"
     ]
    }
   ],
   "source": [
    "try:\n",
    "    file = open('filepath.csv', 'r')  # Trying to open a file and r for read.\n",
    "    content = file.read()\n",
    "    print(content)\n",
    "except FileNotFoundError:\n",
    "    print(\"Error: The file does not exist.\")\n",
    "finally:\n",
    "    file.close()  # This will always run, ensuring the file is closed\n"
   ]
  },
  {
   "cell_type": "markdown",
   "id": "0fd0de7d-269b-4cbe-9adc-b09ddba19d9b",
   "metadata": {},
   "source": [
    "##### Explanation:\n",
    "\n",
    "- If the file is successfully opened, its content is read and printed.\n",
    "- If the file doesn't exist, a FileNotFoundError is raised and handled.\n",
    "- The finally block ensures that the file is closed, whether or not an exception was raised."
   ]
  },
  {
   "cell_type": "markdown",
   "id": "7c28fe85-5cc8-4d3b-abd0-e1baf1f57332",
   "metadata": {},
   "source": [
    "###### 4. Catching All Exceptions\n",
    "You can catch all exceptions using a generic except block without specifying the type:"
   ]
  },
  {
   "cell_type": "code",
   "execution_count": 19,
   "id": "aa0c6295-0001-4437-a362-517c305a29a3",
   "metadata": {},
   "outputs": [
    {
     "name": "stdin",
     "output_type": "stream",
     "text": [
      "Enter a number:  g\n"
     ]
    },
    {
     "name": "stdout",
     "output_type": "stream",
     "text": [
      "An error occurred: invalid literal for int() with base 10: 'g'\n"
     ]
    }
   ],
   "source": [
    "try:\n",
    "    # Some risky operation\n",
    "    num = int(input(\"Enter a number: \"))\n",
    "    result = 10 / num\n",
    "except Exception as e:\n",
    "    print(f\"An error occurred: {e}\")\n"
   ]
  },
  {
   "cell_type": "markdown",
   "id": "ef92522c-f0a9-4dba-bb3c-945197416f27",
   "metadata": {},
   "source": [
    "##### Explanation:\n",
    "\n",
    "Here, the except Exception block catches any exception that occurs in the try block.\n",
    "The Exception class is the base class for all built-in exceptions, and as e allows you to capture the specific error message and print it.\n",
    "\n",
    "##### Raising Exceptions\n",
    "You can also raise your own exceptions using the raise keyword if certain conditions are not met in your program:"
   ]
  },
  {
   "cell_type": "code",
   "execution_count": 8,
   "id": "b7c3904d-0bbd-44e4-a6e7-a7b11919a53a",
   "metadata": {},
   "outputs": [
    {
     "name": "stdout",
     "output_type": "stream",
     "text": [
      "Error: Age cannot be negative!\n"
     ]
    }
   ],
   "source": [
    "def check_age(age):\n",
    "    if age < 0:\n",
    "        raise ValueError(\"Age cannot be negative!\")\n",
    "    print(f\"Your age is {age}\")\n",
    "\n",
    "try:\n",
    "    check_age(-5)\n",
    "except ValueError as e:\n",
    "    print(f\"Error: {e}\")\n"
   ]
  },
  {
   "cell_type": "markdown",
   "id": "178c8634-d85d-4919-947c-3327a40fd081",
   "metadata": {},
   "source": [
    "###### Explanation:\n",
    "\n",
    "- If the age is less than 0, the function check_age() raises a ValueError.\n",
    "- The try-except block catches this error and prints a custom error message.\n",
    "##### Best Practices for Exception Handling\n",
    "- Catch Specific Exceptions: Always try to catch specific exceptions rather than using a general except block for all errors. This ensures that you are handling only the errors you expect and avoiding silent failures.\n",
    "\n",
    "- Avoid Silent Failures: If you catch an exception, make sure you handle it properly (e.g., log the error, notify the user) instead of just suppressing it.\n",
    "\n",
    "- Use finally for Cleanup: Always clean up resources like open files, network connections, or database sessions in the finally block.\n",
    "\n",
    "- Minimal Try Blocks: Keep the code inside the try block as minimal as possible. This helps to identify where exactly the error occurred.\n",
    "\n",
    "- Log Exceptions: For larger programs, logging exceptions can help track issues. You can use Python's built-in logging module for this.\n",
    "\n"
   ]
  },
  {
   "cell_type": "markdown",
   "id": "0bf0a1aa-76c6-4011-a382-f5a62f6815a0",
   "metadata": {},
   "source": [
    "##### f string "
   ]
  },
  {
   "cell_type": "markdown",
   "id": "2b6c440c-3c2a-4d1c-bd38-9e9bfecfc660",
   "metadata": {},
   "source": [
    "f-strings (formatted string literals) allow for embedding expressions and variables within a string in a clean and readable way. Here are three examples:\n",
    "\n",
    "Example 1: Embedding Variables"
   ]
  },
  {
   "cell_type": "code",
   "execution_count": 12,
   "id": "ccf82703-05c8-4cef-9d68-ae4867dd6234",
   "metadata": {},
   "outputs": [
    {
     "name": "stdout",
     "output_type": "stream",
     "text": [
      "My name is Riya and I am 85 years old.\n"
     ]
    }
   ],
   "source": [
    "name = \"Riya\"\n",
    "age = 85\n",
    "print(f\"My name is {name} and I am {age} years old.\")\n"
   ]
  },
  {
   "cell_type": "code",
   "execution_count": 2,
   "id": "60a46c98-f049-44f7-9510-831e26fe5195",
   "metadata": {},
   "outputs": [],
   "source": [
    "# other methods other than f string"
   ]
  },
  {
   "cell_type": "code",
   "execution_count": 1,
   "id": "4aba6d90-4bbe-4c14-85bd-a37528ed1ab5",
   "metadata": {},
   "outputs": [
    {
     "name": "stdout",
     "output_type": "stream",
     "text": [
      "My name is Riya and I am 85 years old.\n"
     ]
    }
   ],
   "source": [
    "# using String Concatenation\n",
    "name = \"Riya\"\n",
    "age = 85\n",
    "print(\"My name is \" + name + \" and I am \" + str(age) + \" years old.\")\n"
   ]
  },
  {
   "cell_type": "code",
   "execution_count": 3,
   "id": "0814da9e-e34f-4e2a-8dea-687370910169",
   "metadata": {},
   "outputs": [
    {
     "name": "stdout",
     "output_type": "stream",
     "text": [
      "My name is Riya and I am 85 years old.\n"
     ]
    }
   ],
   "source": [
    "# using format method\n",
    "name = \"Riya\"\n",
    "age = 85\n",
    "print(\"My name is {} and I am {} years old.\".format(name, age))\n"
   ]
  },
  {
   "cell_type": "code",
   "execution_count": 4,
   "id": "e897351d-8582-47f5-b2fd-e87c1792f94a",
   "metadata": {},
   "outputs": [
    {
     "name": "stdout",
     "output_type": "stream",
     "text": [
      "My name is Riya and I am 85 years old.\n"
     ]
    }
   ],
   "source": [
    "# Using Positional Arguments\n",
    "name = \"Riya\"\n",
    "age = 85\n",
    "print(\"My name is {0} and I am {1} years old.\".format(name, age))\n"
   ]
  },
  {
   "cell_type": "code",
   "execution_count": null,
   "id": "b742f233-c839-4095-8b4d-0f512f22ab62",
   "metadata": {},
   "outputs": [],
   "source": [
    " # Using Named Placeholders in format():\n",
    "name = \"Riya\"\n",
    "age = 85\n",
    "print(\"My name is {n} and I am {a} years old.\".format(n=name, a=age))\n"
   ]
  },
  {
   "cell_type": "code",
   "execution_count": null,
   "id": "f54a5f7c-584a-4169-b1b3-5dfaf22293d5",
   "metadata": {},
   "outputs": [],
   "source": [
    "# You can assign names to the placeholders inside format() and use them in the string."
   ]
  },
  {
   "cell_type": "code",
   "execution_count": null,
   "id": "1a90c0ea-a4e7-48a3-806e-9fe4fee7ae53",
   "metadata": {},
   "outputs": [],
   "source": [
    "# Using Percent Formatting (% Operator):\n",
    "name = \"Riya\"\n",
    "age = 85\n",
    "print(\"My name is %s and I am %d years old.\" % (name, age))\n"
   ]
  },
  {
   "cell_type": "markdown",
   "id": "1c3922c2-3a8f-415f-828e-a1e9b308405d",
   "metadata": {},
   "source": [
    "The %s is a placeholder for a string, and %d is a placeholder for an integer. This is an older style of formatting but still works."
   ]
  },
  {
   "cell_type": "markdown",
   "id": "a591b2d9-f69c-46ca-87ba-784d78f316c3",
   "metadata": {},
   "source": [
    "##### Example 2: Inline Calculations"
   ]
  },
  {
   "cell_type": "code",
   "execution_count": 13,
   "id": "e9e0a73b-82c1-41f3-822f-1e8a5a631f29",
   "metadata": {},
   "outputs": [
    {
     "name": "stdout",
     "output_type": "stream",
     "text": [
      "The sum of 5 and 3 is 8.\n"
     ]
    }
   ],
   "source": [
    "a = 5\n",
    "b = 3\n",
    "print(f\"The sum of {a} and {b} is {a + b}.\")\n"
   ]
  }
 ],
 "metadata": {
  "kernelspec": {
   "display_name": "Python 3 (ipykernel)",
   "language": "python",
   "name": "python3"
  },
  "language_info": {
   "codemirror_mode": {
    "name": "ipython",
    "version": 3
   },
   "file_extension": ".py",
   "mimetype": "text/x-python",
   "name": "python",
   "nbconvert_exporter": "python",
   "pygments_lexer": "ipython3",
   "version": "3.13.5"
  }
 },
 "nbformat": 4,
 "nbformat_minor": 5
}
