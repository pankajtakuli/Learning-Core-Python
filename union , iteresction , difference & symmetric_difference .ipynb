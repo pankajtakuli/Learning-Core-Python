{
 "cells": [
  {
   "cell_type": "markdown",
   "id": "180e26b8-17e3-41d9-8d6c-8cc9e0dac22c",
   "metadata": {},
   "source": [
    "**union**"
   ]
  },
  {
   "cell_type": "markdown",
   "id": "7da4e742-4fa5-4991-8c70-40d38b639c5e",
   "metadata": {},
   "source": [
    "A = {1,2,3}\n",
    "B = {4,5,6}\n",
    "A.union(B) -> {1,2,3,4,5,6}"
   ]
  },
  {
   "cell_type": "markdown",
   "id": "24dd0524-1b9a-4eb6-a5f5-c2f93e962e70",
   "metadata": {},
   "source": [
    "A = {1,2,3}\n",
    "B = {3,4,5,6}\n",
    "B.union(A) -> {1,2,3,4,5,6}"
   ]
  },
  {
   "cell_type": "markdown",
   "id": "ba773ae9-fd7d-44e3-8a40-d1c4e19a8985",
   "metadata": {},
   "source": [
    "**intersection**"
   ]
  },
  {
   "cell_type": "markdown",
   "id": "ca55309f-a9b5-497d-832d-674367562ddc",
   "metadata": {},
   "source": [
    "A = {1,2,3,4}\n",
    "B = {3,4,5,6}\n",
    "A.intersection(B) -> {3,4}\n",
    "_common part will come_"
   ]
  },
  {
   "cell_type": "markdown",
   "id": "2c6a092c-e0af-4eb9-8771-f404e659f16b",
   "metadata": {},
   "source": [
    "**difference**"
   ]
  },
  {
   "cell_type": "markdown",
   "id": "621e57e0-98ae-4a1b-8672-74bc1f305fad",
   "metadata": {},
   "source": [
    "A = {1,2,3,4}\n",
    "B = {3,4,5,6}\n",
    "A.difference(B) -> {1,2}\n",
    "B.difference(A) -> {5,6}"
   ]
  },
  {
   "cell_type": "markdown",
   "id": "793278a2-eb9a-4df8-a5e6-b2ad9bc8f62e",
   "metadata": {},
   "source": [
    "**symmetric_difference**"
   ]
  },
  {
   "cell_type": "markdown",
   "id": "f471a7f5-2cc0-4587-a16e-62d419babba2",
   "metadata": {},
   "source": [
    "A ={1,2,3,4}\n",
    "B = {3,4,5,6}\n",
    "A.symmetric_difference(B) -> {1,2,5,6}"
   ]
  },
  {
   "cell_type": "code",
   "execution_count": null,
   "id": "8f521698-a4a6-4732-95b3-b16a3375aaa1",
   "metadata": {},
   "outputs": [],
   "source": [
    "                                                                                                                               "
   ]
  },
  {
   "cell_type": "markdown",
   "id": "7921809c-88ac-4622-baf7-abba89332305",
   "metadata": {},
   "source": []
  },
  {
   "cell_type": "code",
   "execution_count": null,
   "id": "4e93ea1b-c0f7-4827-832f-140c7a366517",
   "metadata": {},
   "outputs": [],
   "source": []
  }
 ],
 "metadata": {
  "kernelspec": {
   "display_name": "Python 3 (ipykernel)",
   "language": "python",
   "name": "python3"
  },
  "language_info": {
   "codemirror_mode": {
    "name": "ipython",
    "version": 3
   },
   "file_extension": ".py",
   "mimetype": "text/x-python",
   "name": "python",
   "nbconvert_exporter": "python",
   "pygments_lexer": "ipython3",
   "version": "3.13.5"
  }
 },
 "nbformat": 4,
 "nbformat_minor": 5
}
