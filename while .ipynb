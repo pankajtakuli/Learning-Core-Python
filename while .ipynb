{
 "cells": [
  {
   "cell_type": "markdown",
   "id": "1ad39cb7-dddc-4d78-bc02-4ab3fee1b78b",
   "metadata": {},
   "source": [
    "<b>_while loop_<b>"
   ]
  },
  {
   "cell_type": "markdown",
   "id": "83d9b2a8-916f-4356-8329-def0935e7c8c",
   "metadata": {},
   "source": [
    "While the condition is true , loop will be execute. If the condition is not true then code will not execute."
   ]
  },
  {
   "cell_type": "markdown",
   "id": "dfe8d6d0-2bf0-4fe1-8971-2a1d5080c265",
   "metadata": {},
   "source": [
    "There will a condition which can stop the code. Otherwise it will be execute to the infinite."
   ]
  },
  {
   "cell_type": "code",
   "execution_count": 5,
   "id": "5195f993-dc87-4c0d-9e21-0eae03509261",
   "metadata": {},
   "outputs": [
    {
     "name": "stdout",
     "output_type": "stream",
     "text": [
      "0\n",
      "1\n",
      "2\n",
      "3\n",
      "4\n",
      "5\n",
      "6\n",
      "7\n",
      "8\n",
      "9\n",
      "10\n"
     ]
    }
   ],
   "source": [
    "x = 0\n",
    "while x <= 10:\n",
    "    print(x)\n",
    "    x = x + 1"
   ]
  },
  {
   "cell_type": "code",
   "execution_count": 7,
   "id": "043d09cd-e493-43af-a6dd-ab34aa95fea5",
   "metadata": {},
   "outputs": [
    {
     "name": "stdout",
     "output_type": "stream",
     "text": [
      "Steve Jobs = Picasso + Edision\n",
      "10\n",
      "Steve Jobs = Picasso + Edision\n",
      "11\n",
      "Steve Jobs = Picasso + Edision\n",
      "12\n",
      "Steve Jobs = Picasso + Edision\n",
      "13\n",
      "Steve Jobs = Picasso + Edision\n",
      "14\n",
      "Steve Jobs = Picasso + Edision\n",
      "15\n",
      "Steve Jobs = Picasso + Edision\n",
      "16\n",
      "Steve Jobs = Picasso + Edision\n",
      "17\n",
      "Steve Jobs = Picasso + Edision\n",
      "18\n",
      "Steve Jobs = Picasso + Edision\n",
      "19\n"
     ]
    }
   ],
   "source": [
    "x = \"Steve Jobs\"\n",
    "while len(x) < 20:\n",
    "    print(\"Steve Jobs = Picasso + Edision\")\n",
    "    print(len(x))\n",
    "    x = x + \" \""
   ]
  },
  {
   "cell_type": "code",
   "execution_count": 46,
   "id": "2bd6e2fc-bf31-48be-a87d-e65ee80bad51",
   "metadata": {},
   "outputs": [
    {
     "name": "stdout",
     "output_type": "stream",
     "text": [
      "20\n"
     ]
    },
    {
     "data": {
      "text/plain": [
       "'Steve Jobs          '"
      ]
     },
     "execution_count": 46,
     "metadata": {},
     "output_type": "execute_result"
    }
   ],
   "source": [
    "print(len(x))\n",
    "x"
   ]
  },
  {
   "cell_type": "code",
   "execution_count": null,
   "id": "3924ad01-507f-45e6-a3e2-f584d438ab54",
   "metadata": {},
   "outputs": [],
   "source": [
    "x = 1\n",
    "\n",
    "while x < 5:\n",
    "    print(x)\n",
    "    x = x + 1"
   ]
  },
  {
   "cell_type": "code",
   "execution_count": null,
   "id": "c0ae326f-f334-41c7-9cb1-21198d6cc93b",
   "metadata": {},
   "outputs": [],
   "source": [
    "# Infinte loop \n",
    "\n",
    "while True:\n",
    "    print(\"Saransh\")"
   ]
  },
  {
   "cell_type": "code",
   "execution_count": 47,
   "id": "da24e961-2a6a-4e1c-9373-3389792bf96a",
   "metadata": {},
   "outputs": [],
   "source": [
    "# Program will not run because condition is False\n",
    "\n",
    "while False:\n",
    "    print(\"Steve\")"
   ]
  },
  {
   "cell_type": "code",
   "execution_count": 9,
   "id": "e96c0527-54a4-4869-93ff-cb56bec321c8",
   "metadata": {},
   "outputs": [
    {
     "name": "stdout",
     "output_type": "stream",
     "text": [
      "Python is very easy\n",
      "1\n",
      "Python is very easy\n",
      "2\n",
      "Python is very easy\n",
      "3\n",
      "Python is very easy\n",
      "4\n",
      "Python is very easy\n",
      "5\n",
      "Python is very easy\n",
      "6\n",
      "Python is very easy\n",
      "7\n",
      "Python is very easy\n",
      "8\n",
      "Python is very easy\n",
      "9\n"
     ]
    }
   ],
   "source": [
    "a = 1\n",
    "while a < 10:\n",
    "    print(\"Python is very easy\")\n",
    "    print(a)\n",
    "    a = a + 1"
   ]
  },
  {
   "cell_type": "code",
   "execution_count": 49,
   "id": "aaf9dbfb-55c5-485d-9310-4e178f47b052",
   "metadata": {},
   "outputs": [
    {
     "name": "stdout",
     "output_type": "stream",
     "text": [
      "Mamta\n",
      "Mayank\n",
      "Tushar\n",
      "Nishi\n",
      "Priyanshu\n",
      "Abdullah\n",
      "Aayush\n",
      "Suhail\n",
      "Aarti\n"
     ]
    }
   ],
   "source": [
    "names = [\"Mamta\",\"Mayank\",\"Tushar\",\"Nishi\",\"Priyanshu\",\"Abdullah\",\"Aayush\",\"Suhail\",\"Aarti\"]\n",
    "for i in names:\n",
    "    print(i)"
   ]
  },
  {
   "cell_type": "code",
   "execution_count": 50,
   "id": "9dcb4ac3-8fe7-4eab-9b73-23a6b8b01fa3",
   "metadata": {},
   "outputs": [
    {
     "name": "stdout",
     "output_type": "stream",
     "text": [
      "Mamta\n",
      "Mayank\n",
      "Tushar\n",
      "Nishi\n",
      "Priyanshu\n",
      "Abdullah\n",
      "Aayush\n",
      "Suhail\n",
      "Aarti\n"
     ]
    }
   ],
   "source": [
    "# print all element of the list one by one using while loop\n",
    "\n",
    "names = [\"Mamta\",\"Mayank\",\"Tushar\",\"Nishi\",\"Priyanshu\",\"Abdullah\",\"Aayush\",\"Suhail\",\"Aarti\"]\n",
    "count = 0\n",
    "while count < len(names):\n",
    "    print(names[count])\n",
    "    count += 1"
   ]
  },
  {
   "cell_type": "code",
   "execution_count": 51,
   "id": "4510646f-e1e8-46fc-a9a9-a43fba424271",
   "metadata": {},
   "outputs": [
    {
     "name": "stdout",
     "output_type": "stream",
     "text": [
      "4\n",
      "5\n",
      "6\n",
      "7\n",
      "8\n",
      "9\n"
     ]
    }
   ],
   "source": [
    "for i in range (4,10):\n",
    "    print(i)"
   ]
  },
  {
   "cell_type": "code",
   "execution_count": 52,
   "id": "326dbd82-6f63-4904-a7ca-e6082a95e36f",
   "metadata": {},
   "outputs": [
    {
     "name": "stdout",
     "output_type": "stream",
     "text": [
      "4\n",
      "5\n",
      "6\n",
      "7\n",
      "8\n",
      "9\n"
     ]
    }
   ],
   "source": [
    "s = 4\n",
    "while s <= 9:\n",
    "    print(s)\n",
    "    s += 1"
   ]
  },
  {
   "cell_type": "code",
   "execution_count": 53,
   "id": "aa9e251f-3054-403b-9a2c-1309cd1ce24e",
   "metadata": {},
   "outputs": [
    {
     "name": "stdout",
     "output_type": "stream",
     "text": [
      "p\n",
      "a\n",
      "n\n",
      "k\n",
      "a\n",
      "j\n"
     ]
    }
   ],
   "source": [
    "name = \"pankaj\"\n",
    "count = 0\n",
    "while count < len(name):\n",
    "    print(name[count])\n",
    "    count += 1"
   ]
  },
  {
   "cell_type": "code",
   "execution_count": 54,
   "id": "a384e3c1-a61e-4a66-8aeb-b506ec9e023e",
   "metadata": {},
   "outputs": [
    {
     "name": "stdout",
     "output_type": "stream",
     "text": [
      "Discovery of India\n",
      "Nexus\n",
      "Sapiens\n",
      "Gaban\n"
     ]
    }
   ],
   "source": [
    "books = [\"Discovery of India\",\"Nexus\",\"Sapiens\",\"Gaban\"]\n",
    "count = 0\n",
    "while count < len(books):\n",
    "    print(books[count])\n",
    "    count += 1"
   ]
  },
  {
   "cell_type": "code",
   "execution_count": 55,
   "id": "036d7746-79d7-445e-a040-064be1290dd1",
   "metadata": {},
   "outputs": [
    {
     "name": "stdout",
     "output_type": "stream",
     "text": [
      "Discovery of India\n",
      "Nexus\n",
      "Sapiens\n",
      "Gaban\n"
     ]
    }
   ],
   "source": [
    "books = [\"Discovery of India\",\"Nexus\",\"Sapiens\",\"Gaban\"]\n",
    "for x in range(len(books)):\n",
    "    print(books[x])"
   ]
  },
  {
   "cell_type": "code",
   "execution_count": 8,
   "id": "c32903f5-2055-45a7-ba44-4497af487609",
   "metadata": {},
   "outputs": [
    {
     "name": "stdin",
     "output_type": "stream",
     "text": [
      "Enter the password: ghflkgf\n"
     ]
    }
   ],
   "source": [
    "password = input(\"Enter the password:\")\n",
    "while password == \"vijai@123\":\n",
    "    print(\"Password is correct.\")\n",
    "    if password != \"vijai@123\":\n",
    "        password = input(\"Enter the password:\")\n",
    "    else:\n",
    "        print(\"pass is correct\")"
   ]
  },
  {
   "cell_type": "code",
   "execution_count": 1,
   "id": "b12e6292-abea-41db-9c03-812a9dc9108d",
   "metadata": {},
   "outputs": [
    {
     "name": "stdin",
     "output_type": "stream",
     "text": [
      "Enter the password: dfths\n",
      "Enter the password again: stghstgh\n",
      "Enter the password again: sthysexty\n",
      "Enter the password again: thysrthy\n",
      "Enter the password again: sstytr\n",
      "Enter the password again: ghstr\n",
      "Enter the password again: vijai@123\n"
     ]
    },
    {
     "name": "stdout",
     "output_type": "stream",
     "text": [
      "Congratulation! your password is correct.\n"
     ]
    }
   ],
   "source": [
    "user = input(\"Enter the password:\")\n",
    "while user != \"vijai@123\":\n",
    "    user = input(\"Enter the password again:\")\n",
    "print(\"Congratulation! your password is correct.\")"
   ]
  },
  {
   "cell_type": "code",
   "execution_count": 2,
   "id": "a5247447-4e32-408e-82b1-d043f1ae1aa5",
   "metadata": {},
   "outputs": [
    {
     "name": "stdout",
     "output_type": "stream",
     "text": [
      "\n",
      "*\n",
      "**\n",
      "***\n",
      "****\n",
      "*****\n"
     ]
    }
   ],
   "source": [
    "count = 0\n",
    "while count < 6:\n",
    "    print(count * \"*\")\n",
    "    count += 1"
   ]
  },
  {
   "cell_type": "code",
   "execution_count": 59,
   "id": "7e4f7e7d-a933-493d-9f11-971e92eba8d5",
   "metadata": {},
   "outputs": [
    {
     "name": "stdout",
     "output_type": "stream",
     "text": [
      "******\n",
      "*****\n",
      "****\n",
      "***\n",
      "**\n",
      "*\n"
     ]
    }
   ],
   "source": [
    "count = 6\n",
    "while count > 0:\n",
    "    print(count * \"*\")\n",
    "    count -= 1"
   ]
  },
  {
   "cell_type": "code",
   "execution_count": 6,
   "id": "ae625572-6b79-4e4f-beca-1d62cf99b3a9",
   "metadata": {},
   "outputs": [
    {
     "name": "stdout",
     "output_type": "stream",
     "text": [
      "     \n",
      "    *\n",
      "   **\n",
      "  ***\n",
      " ****\n"
     ]
    }
   ],
   "source": [
    "count = 4\n",
    "c = 0\n",
    "while count > 0:\n",
    "    while c < 5:\n",
    "        print(count * \" \",c*\"*\")\n",
    "        count -= 1\n",
    "        c += 1"
   ]
  },
  {
   "cell_type": "code",
   "execution_count": 11,
   "id": "3eb9a7ff-779c-4d5c-89f4-596be8da059f",
   "metadata": {},
   "outputs": [
    {
     "name": "stdout",
     "output_type": "stream",
     "text": [
      "Mamta\n",
      "Mayank\n",
      "Tushar\n",
      "Nishi\n"
     ]
    }
   ],
   "source": [
    "names = [\"Mamta\",\"Mayank\",\"Tushar\",\"Nishi\"]\n",
    "print(names[0])\n",
    "print(names[1])\n",
    "print(names[2])\n",
    "print(names[3])"
   ]
  },
  {
   "cell_type": "code",
   "execution_count": null,
   "id": "555d6ac6-12c6-4a52-bd6d-9585c30b3ab6",
   "metadata": {},
   "outputs": [],
   "source": []
  },
  {
   "cell_type": "code",
   "execution_count": null,
   "id": "9ebf7d40-a13d-4174-a3d9-59e4a13a2176",
   "metadata": {},
   "outputs": [],
   "source": []
  },
  {
   "cell_type": "code",
   "execution_count": null,
   "id": "17386434-3657-439e-8398-3bba5684af21",
   "metadata": {},
   "outputs": [],
   "source": []
  },
  {
   "cell_type": "code",
   "execution_count": null,
   "id": "b0e457a8-f439-44fe-b590-97e312dcd533",
   "metadata": {},
   "outputs": [],
   "source": []
  },
  {
   "cell_type": "code",
   "execution_count": null,
   "id": "377f2eb0-b02b-4d60-916b-8ce71aed496c",
   "metadata": {},
   "outputs": [],
   "source": []
  },
  {
   "cell_type": "code",
   "execution_count": null,
   "id": "d0a671c7-599f-4761-bd52-9e60601065d2",
   "metadata": {},
   "outputs": [],
   "source": []
  },
  {
   "cell_type": "code",
   "execution_count": 61,
   "id": "85ec24f5-29e1-4f66-b2fd-52ee9dc34abe",
   "metadata": {},
   "outputs": [
    {
     "name": "stdout",
     "output_type": "stream",
     "text": [
      "     \n",
      "    *\n",
      "   **\n",
      "  ***\n",
      " ****\n"
     ]
    }
   ],
   "source": [
    "count = 4\n",
    "c = 0\n",
    "while count > 0:\n",
    "    while c < 5:\n",
    "        print(count * \" \",c*\"*\")\n",
    "        count -= 1\n",
    "        c += 1"
   ]
  },
  {
   "cell_type": "code",
   "execution_count": 62,
   "id": "2aca21c9-7d00-4597-b61b-bcc954218ada",
   "metadata": {},
   "outputs": [
    {
     "name": "stdout",
     "output_type": "stream",
     "text": [
      "****\n",
      "***\n",
      "**\n",
      "*\n"
     ]
    }
   ],
   "source": [
    "for i in range(4,0,-1):\n",
    "    print(i*\"*\")"
   ]
  },
  {
   "cell_type": "code",
   "execution_count": 63,
   "id": "0d7d60fa-0d67-4505-93de-e9920ca0579a",
   "metadata": {},
   "outputs": [
    {
     "name": "stdout",
     "output_type": "stream",
     "text": [
      "     \n",
      "    *\n",
      "   ***\n",
      "  *****\n",
      " *******\n"
     ]
    }
   ],
   "source": [
    "count = 0\n",
    "while count < 5:\n",
    "    print(\" \"*(5-count),end=\"\")\n",
    "    print((2*count - 1)*\"*\")\n",
    "    count += 1"
   ]
  },
  {
   "cell_type": "code",
   "execution_count": 67,
   "id": "4c4db5ae-952a-4647-8823-3de5d8c138ba",
   "metadata": {},
   "outputs": [
    {
     "name": "stdout",
     "output_type": "stream",
     "text": [
      "     **\n",
      "    *****\n",
      "   ********\n",
      "  ***********\n"
     ]
    }
   ],
   "source": [
    "count = 4\n",
    "c = 1\n",
    "while count > 0:\n",
    "    while c < 5:\n",
    "        print(count * \" \",c*\"*\",end=\"\")\n",
    "        print(\"*\"*(2*c-1))\n",
    "        count -= 1\n",
    "        c += 1"
   ]
  },
  {
   "cell_type": "code",
   "execution_count": 76,
   "id": "f302192d-8d14-441f-acad-1bda8eb2eec8",
   "metadata": {
    "scrolled": true
   },
   "outputs": [
    {
     "name": "stdout",
     "output_type": "stream",
     "text": [
      "\n",
      "8\n",
      "\n",
      "7\n",
      "\n",
      "6\n",
      "\n",
      "5\n",
      "**\n",
      "4\n",
      "****\n",
      "3\n",
      "******\n",
      "2\n",
      "********\n",
      "1\n"
     ]
    }
   ],
   "source": [
    "count = 8\n",
    "while count > 0:\n",
    "    # print(\"+\"*count,end=\"\")\n",
    "    print(\"*\"*(10-count*2))\n",
    "    print(count)\n",
    "    count -= 1"
   ]
  },
  {
   "cell_type": "code",
   "execution_count": 2,
   "id": "85c4df52-e0e3-47ee-98a4-2052c2ee81ff",
   "metadata": {},
   "outputs": [
    {
     "name": "stdout",
     "output_type": "stream",
     "text": [
      "1\n",
      "2\n",
      "3\n",
      "4\n",
      "5\n"
     ]
    }
   ],
   "source": [
    "i = 1\n",
    "while i <= 5:   # infinte loop\n",
    "    print(i)\n",
    "\n",
    "    i += 1"
   ]
  },
  {
   "cell_type": "code",
   "execution_count": 1,
   "id": "cbe45fbd-a74b-4a2c-b04e-92598f2eaf29",
   "metadata": {},
   "outputs": [],
   "source": [
    "i = 6\n",
    "while i <= 5:\n",
    "    print(i)"
   ]
  },
  {
   "cell_type": "markdown",
   "id": "5653a18b-b7b9-49ae-92bf-306d10d8844b",
   "metadata": {},
   "source": [
    "<font size =\"5\"> <b>_while loop pattern exercise_<b>"
   ]
  },
  {
   "cell_type": "markdown",
   "id": "a691c715-55f8-40cd-ab26-161ff059593e",
   "metadata": {},
   "source": [
    "_Pattern 1 : Print a Triangle of Stars_"
   ]
  },
  {
   "cell_type": "code",
   "execution_count": 1,
   "id": "615e6f36-5b85-4a8f-9618-9cbdb49f84a9",
   "metadata": {},
   "outputs": [
    {
     "name": "stdout",
     "output_type": "stream",
     "text": [
      "*\n",
      "**\n",
      "***\n",
      "****\n",
      "*****\n"
     ]
    }
   ],
   "source": [
    "rows = 5\n",
    "i = 1\n",
    "while i <= rows:\n",
    "    print(\"*\"*i)\n",
    "    i += 1"
   ]
  },
  {
   "cell_type": "code",
   "execution_count": 1,
   "id": "26372f32-f156-4932-85dc-8e69132f74f8",
   "metadata": {},
   "outputs": [
    {
     "name": "stdout",
     "output_type": "stream",
     "text": [
      "*****\n",
      "****\n",
      "***\n",
      "**\n",
      "*\n"
     ]
    }
   ],
   "source": [
    "rows = 5\n",
    "i = 1\n",
    "while rows >= i:\n",
    "    print(\"*\"*rows)\n",
    "    rows -= 1"
   ]
  },
  {
   "cell_type": "code",
   "execution_count": 3,
   "id": "467ab6a3-2398-4982-808f-8b2c137f57a0",
   "metadata": {},
   "outputs": [
    {
     "name": "stdout",
     "output_type": "stream",
     "text": [
      "***** **** *** ** * "
     ]
    }
   ],
   "source": [
    "rows = 5\n",
    "i = 1\n",
    "while rows >= i:\n",
    "    print(\"*\"*rows,end=\" \")\n",
    "    rows -= 1"
   ]
  },
  {
   "cell_type": "code",
   "execution_count": 40,
   "id": "8fe9c8b3-8595-432d-8605-b8c791dbe471",
   "metadata": {},
   "outputs": [
    {
     "name": "stdout",
     "output_type": "stream",
     "text": [
      "python\n",
      "python\n",
      "python\n",
      "python\n",
      "python\n",
      "python\n"
     ]
    }
   ],
   "source": [
    "i = \"python\"\n",
    "c = 6\n",
    "while c >= 1:\n",
    "    print(i)\n",
    "    c -= 1"
   ]
  },
  {
   "cell_type": "markdown",
   "id": "80cdb4be-6ffa-4853-993f-e26cf984786a",
   "metadata": {},
   "source": [
    "_Pattern 2 : Number in Triangle form_"
   ]
  },
  {
   "cell_type": "code",
   "execution_count": 27,
   "id": "abefbc3c-2346-4b82-8ba1-888141207a2f",
   "metadata": {},
   "outputs": [
    {
     "name": "stdout",
     "output_type": "stream",
     "text": [
      "1 \n",
      "1 2 \n",
      "1 2 3 \n",
      "1 2 3 4 \n",
      "1 2 3 4 5 \n"
     ]
    }
   ],
   "source": [
    "rows = 5\n",
    "i = 1\n",
    "while i <= rows:\n",
    "    j = 1\n",
    "    while j <= i:\n",
    "        print(j,end = \" \")\n",
    "        j += 1\n",
    "    print()\n",
    "    i += 1"
   ]
  },
  {
   "cell_type": "code",
   "execution_count": 11,
   "id": "0aa034c4-edae-4dcd-824b-702151d674e8",
   "metadata": {},
   "outputs": [
    {
     "name": "stdout",
     "output_type": "stream",
     "text": [
      "1 \n",
      "1 2 \n",
      "1 2 3 \n",
      "1 2 3 4 \n",
      "1 2 3 4 5 \n"
     ]
    }
   ],
   "source": [
    "rows = 5\n",
    "i = 1\n",
    "while i <= rows:\n",
    "    j = 1\n",
    "    while j <= i:\n",
    "        print(j,end=' ')\n",
    "        j += 1\n",
    "    print()\n",
    "    i += 1"
   ]
  },
  {
   "cell_type": "code",
   "execution_count": 14,
   "id": "1b4f1d6a-c73f-458c-8519-87703a9dc650",
   "metadata": {},
   "outputs": [
    {
     "name": "stdout",
     "output_type": "stream",
     "text": [
      "6\n",
      "6\n"
     ]
    }
   ],
   "source": [
    "print(j)\n",
    "print(i)"
   ]
  },
  {
   "cell_type": "code",
   "execution_count": null,
   "id": "9652719a-63e4-4987-9111-544ba5cc02fb",
   "metadata": {},
   "outputs": [],
   "source": []
  },
  {
   "cell_type": "code",
   "execution_count": 9,
   "id": "575f3551-9908-4367-b83c-eb0c22c77d3b",
   "metadata": {},
   "outputs": [
    {
     "name": "stdout",
     "output_type": "stream",
     "text": [
      "\n",
      "1 \n",
      "1 2 \n",
      "1 2 3 \n",
      "1 2 3 4 \n",
      "1 2 3 4 5 \n",
      "1 2 3 4 5 6 "
     ]
    }
   ],
   "source": [
    "rows = 5\n",
    "i = 0\n",
    "\n",
    "while i <= rows:\n",
    "    print()\n",
    "    i += 1\n",
    "    \n",
    "    j = 1\n",
    "    while j <= i:\n",
    "        print(j,end=\" \")\n",
    "        j += 1"
   ]
  },
  {
   "cell_type": "code",
   "execution_count": 9,
   "id": "e39d4eb3-8cd9-4d18-8320-76d4c6375fa9",
   "metadata": {},
   "outputs": [
    {
     "name": "stdout",
     "output_type": "stream",
     "text": [
      "1 2 3 4 5\n",
      "1 2 3 4\n",
      "1 2 3\n",
      "1 2\n",
      "1\n"
     ]
    }
   ],
   "source": [
    "rows = 1\n",
    "i = 5\n",
    "while i >= rows:\n",
    "    j = 1\n",
    "    while i > j:\n",
    "        print(j,end=\" \")\n",
    "        j += 1\n",
    "    print(i)\n",
    "    i -= 1"
   ]
  },
  {
   "cell_type": "markdown",
   "id": "3d914ccf-49e8-4f61-b5c9-396346439a27",
   "metadata": {},
   "source": [
    "<b>_Concept Role_<b>"
   ]
  },
  {
   "cell_type": "markdown",
   "id": "73e1bf2b-6dd9-498c-9678-0a3f9431f338",
   "metadata": {},
   "source": [
    "- Outer loop controls the number of row (vertical dimension).\n",
    "- Inner loop controls the character per row (horizontal dimension).\n",
    "- print(end = \" \") keeps printing in the same line.\n",
    "- print() moves to the next line after a row is done.\n",
    "- Logic in inner decide what to print * , numbers , spaces , etc.\n",
    "- Condition (if) used for shapes like hollow boxes , diagonals , etc."
   ]
  },
  {
   "cell_type": "code",
   "execution_count": 1,
   "id": "291f996d-3980-451e-a011-2e42e9fada38",
   "metadata": {},
   "outputs": [
    {
     "name": "stdout",
     "output_type": "stream",
     "text": [
      "1 2 3 4 5\n",
      "1 2 3 4\n",
      "1 2 3\n",
      "1 2\n",
      "1\n"
     ]
    }
   ],
   "source": [
    "rows = 1\n",
    "i = 5\n",
    "while i >= rows:\n",
    "    j = 1\n",
    "    while i > j:\n",
    "        print(j,end=\" \")\n",
    "        j += 1\n",
    "    print(i)\n",
    "    i -= 1"
   ]
  },
  {
   "cell_type": "code",
   "execution_count": 1,
   "id": "607b8611-881d-4fba-888f-6970d9b4ec6c",
   "metadata": {},
   "outputs": [
    {
     "name": "stdout",
     "output_type": "stream",
     "text": [
      "1\n",
      "2\n",
      "3\n",
      "4\n",
      "5\n"
     ]
    }
   ],
   "source": [
    "i = 1\n",
    "rows = 5\n",
    "while i <= rows:\n",
    "    print(i)\n",
    "    i += 1"
   ]
  },
  {
   "cell_type": "code",
   "execution_count": 3,
   "id": "4972498e-179e-475f-965c-ec0ac0a0dbbd",
   "metadata": {},
   "outputs": [
    {
     "name": "stdout",
     "output_type": "stream",
     "text": [
      "1\n",
      "1 2\n",
      "1 2 3\n",
      "1 2 3 4\n",
      "1 2 3 4 5\n"
     ]
    }
   ],
   "source": [
    "i = 1\n",
    "rows = 5\n",
    "while i <= rows:\n",
    "    j = 1\n",
    "    while j < i:\n",
    "        print(j,end=\" \")\n",
    "        j += 1\n",
    "    print(i)\n",
    "    i += 1"
   ]
  },
  {
   "cell_type": "code",
   "execution_count": 8,
   "id": "18cbfd2f-c467-493b-aa2e-8a242562c4bf",
   "metadata": {},
   "outputs": [
    {
     "name": "stdout",
     "output_type": "stream",
     "text": [
      "4\n",
      "8\n",
      "12\n",
      "16\n",
      "20\n",
      "24\n",
      "28\n",
      "32\n",
      "36\n",
      "40\n"
     ]
    }
   ],
   "source": [
    "i = 1\n",
    "rows = 10\n",
    "while i <= rows:\n",
    "    print(4*i)\n",
    "    i += 1"
   ]
  },
  {
   "cell_type": "code",
   "execution_count": null,
   "id": "ba2cd486-f1f8-44f4-9f7f-0565cc39b253",
   "metadata": {},
   "outputs": [],
   "source": [
    "i = 1\n",
    "rows = 10\n",
    "while i <= ():\n",
    "    print(i)\n",
    "    i += 1"
   ]
  },
  {
   "cell_type": "code",
   "execution_count": null,
   "id": "ea8571b2-be78-4f78-af20-899f0830623d",
   "metadata": {},
   "outputs": [],
   "source": []
  }
 ],
 "metadata": {
  "kernelspec": {
   "display_name": "Python 3 (ipykernel)",
   "language": "python",
   "name": "python3"
  },
  "language_info": {
   "codemirror_mode": {
    "name": "ipython",
    "version": 3
   },
   "file_extension": ".py",
   "mimetype": "text/x-python",
   "name": "python",
   "nbconvert_exporter": "python",
   "pygments_lexer": "ipython3",
   "version": "3.13.5"
  }
 },
 "nbformat": 4,
 "nbformat_minor": 5
}
